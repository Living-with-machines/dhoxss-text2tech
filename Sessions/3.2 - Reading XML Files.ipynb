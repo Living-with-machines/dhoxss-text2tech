{
 "cells": [
  {
   "cell_type": "markdown",
   "id": "73e19d6b",
   "metadata": {
    "slideshow": {
     "slide_type": "slide"
    }
   },
   "source": [
    "# An introduction to Text Encoding and XML"
   ]
  },
  {
   "cell_type": "markdown",
   "id": "f5736e29",
   "metadata": {
    "slideshow": {
     "slide_type": "slide"
    }
   },
   "source": [
    "# 1. Introduction\n",
    "\n",
    "Goals of this lecture:\n",
    "- **What** is XML and why is it **useful** for text-based DH?\n",
    "- How to **read and navigate** XML documents in **Python**\n",
    "- How to **search** in and **extract** information from XML documents.\n",
    "\n",
    "Lecture and notebook based on [A Very Gentle Introduction to XML](https://www.tei-c.org/Vault/P4/doc/html/SG.html) part of the [Text Encoding Initiative](https://tei-c.org/) (or TEI). \n",
    "\n",
    "List of [projects](https://tei-c.org/Activities/Projects/) using TEI.\n"
   ]
  },
  {
   "cell_type": "markdown",
   "id": "19de9af2",
   "metadata": {
    "slideshow": {
     "slide_type": "slide"
    }
   },
   "source": [
    "**Question to the sceptical hamster: Is XML scary? \n",
    "\n",
    "Siberian saphire hamster\n",
    "\n",
    "\n",
    "![](https://debeste.de/upload/51795a52ac20c074a8de79e35c14a90a1159.jpg)"
   ]
  },
  {
   "cell_type": "markdown",
   "id": "76c74ef9",
   "metadata": {
    "slideshow": {
     "slide_type": "slide"
    }
   },
   "source": [
    "![](https://media.giphy.com/media/ej1127nuAfGxoZnWTb/giphy.gif)"
   ]
  },
  {
   "cell_type": "markdown",
   "id": "4d3faaf5",
   "metadata": {
    "slideshow": {
     "slide_type": "slide"
    }
   },
   "source": [
    "## 1.1 Toy Example(s)\n",
    "\n",
    "To understand XML it is worthwile spending some time simply looking at examples.\n",
    "\n",
    "XML is an information **tree**.\n",
    "\n",
    "```xml\n",
    "<anthology>\n",
    "    <poem id='1' \n",
    "      author='Blake, William.'\n",
    "      date='1794'>\n",
    "      <heading id='1.1'>The SICK ROSE</heading>\n",
    "      <stanza id='1.2'>\n",
    "           <line id='1.2.1'>O Rose thou art sick.</line>\n",
    "           <line id='1.2.2'>The invisible worm,</line>\n",
    "           <line id='1.2.3'>That flies in the night</line>\n",
    "           <line id='1.2.4'>In the howling storm:</line>\n",
    "      </stanza>\n",
    "      <stanza id='1.3'>\n",
    "           <line id='1.3.1'>Has found out thy bed</line>\n",
    "           <line id='1.3.2'>Of crimson joy:</line>\n",
    "           <line id='1.3.3'>And his dark secret love</line>\n",
    "           <line id='1.3.4'>Does thy life destroy.</line>\n",
    "      </stanza>\n",
    "    </poem>\n",
    "    <poem id='2'\n",
    "     author='Shakespeare, William.' >\n",
    "        <heading id='2.1'>Sonnet 106</heading>\n",
    "      <stanza id='2.1'>\n",
    "        <line id='2.2.1'>When in the chronicle of wasted time</line>\n",
    "        <line id='2.2.1'>I see descriptions of the fairest wights,</line>\n",
    "        <line id='2.2.1'>And beauty making beautiful old rhyme</line>\n",
    "        <line id='2.2.1'>In praise of ladies dead, and lovely knights,</line>\n",
    "     </stanza>\n",
    "  </poem> \n",
    "</anthology>\n",
    "```"
   ]
  },
  {
   "cell_type": "markdown",
   "id": "86a5b2dc",
   "metadata": {
    "slideshow": {
     "slide_type": "slide"
    }
   },
   "source": [
    "![tree](https://tei-c.org/release/doc/tei-p5-doc/en/html/Images/xmlFlowChart.png)"
   ]
  },
  {
   "cell_type": "markdown",
   "id": "dd8fb3c3",
   "metadata": {
    "slideshow": {
     "slide_type": "slide"
    }
   },
   "source": [
    "Another example, showing metadata for historical newspaper articles\n",
    "\n",
    "```xml\n",
    "<?xml version=\"1.0\"?>\n",
    "<lwm>\n",
    "  <process>\n",
    "    <lwm_tool>\n",
    "      <name>extract_text</name>\n",
    "      <version>0.3.0</version>\n",
    "      <source>https://github.com/alan-turing-institute/Living-with-Machines-code</source>\n",
    "    </lwm_tool>\n",
    "    <source_type>newspaper</source_type>\n",
    "    <xml_flavour>alto</xml_flavour>\n",
    "    <software>CCS docWorks/METAe Version 7.1-0</software>\n",
    "    <input_sub_path>0002247/1863/1010</input_sub_path>\n",
    "    <input_filename>0002247_18631010_mets.xml</input_filename>\n",
    "    <mets_namespace>http://www.loc.gov/METS/ http://www.loc.gov/standards/mets/version18/mets.xsd info:lc/xmlns/premis-v2 http://www.loc.gov/standards/premis/v2/premis-v2-0.xsd http://www.loc.gov/mods/v3 http://www.loc.gov/standards/mods/v3/mods-3-2.xsd</mets_namespace>\n",
    "    <alto_namespace>http://schema.ccs-gmbh.com/docworks/alto-1-4.xsd</alto_namespace>\n",
    "  </process>\n",
    "  <publication id=\"0002247\">\n",
    "    <source>British Library Heritage Made Digital Newspapers</source>\n",
    "    <title>The Bee-Hive :</title>\n",
    "    <location>London, England</location>\n",
    "    <issue id=\"1863-10-10\">\n",
    "      <date>1863-10-10</date>\n",
    "      <item id=\"art0101\">\n",
    "        <plain_text_file>0002247_18631010_art0101.txt</plain_text_file>\n",
    "        <title>gtt ginthon Marlats.</title>\n",
    "        <item_type>ARTICLE</item_type>\n",
    "        <word_count>125</word_count>\n",
    "        <ocr_quality_mean>0.9591</ocr_quality_mean>\n",
    "        <ocr_quality_sd>0.1138</ocr_quality_sd>\n",
    "      </item>\n",
    "    </issue>\n",
    "  </publication>\n",
    "</lwm>\n",
    "\n",
    "```"
   ]
  },
  {
   "cell_type": "markdown",
   "id": "3c7ab426",
   "metadata": {},
   "source": [
    "### ✏️ Exercise\n",
    "\n",
    "Go to this online [XML viewer](https://jsonformatter.org/xml-viewer) and copy paste the above example and press \"Validate\". Explore the XML tree.\n",
    "\n"
   ]
  },
  {
   "cell_type": "markdown",
   "id": "03b22d61",
   "metadata": {
    "slideshow": {
     "slide_type": "slide"
    }
   },
   "source": [
    "# 3. Why XML?\n",
    "\n",
    "## 3.1 Markup\n",
    "\n",
    "**XML stands for \"eXtensible Markup Language\"**\n",
    "\n",
    "Why add markup to a text document?\n",
    "- XML categorizes chunks of text into different (semantic) units.\n",
    "- With XML we can articulate an **interpretation** of text through **encoding**\n",
    "- Importantly, XML doesn't **do** anything (that's up to Python) it only marks things up\n",
    "    \n",
    "From the TEI tutorial:\n",
    "> \"it is a process of making explicit what is conjectural or implicit, a process of directing the user as to how the content of the text should be (or has been) interpreted.\"\n",
    "\n",
    "Historically, XML and Text Encoding central to research in digital humanities. However, less important today but you are still likely to encounter it at some points (depends also where you are situated in the DH universe).\n",
    "\n",
    "For these reasons, we still teach some basics but prefer to talk about other stuff in general."
   ]
  },
  {
   "cell_type": "markdown",
   "id": "4b19447c",
   "metadata": {
    "slideshow": {
     "slide_type": "slide"
    }
   },
   "source": [
    "What does it actually mean **\"articulate an interpretation of text through encoding\".**\n",
    "\n",
    "To give a concrete example, let's work with a snippet of parliamentary speech."
   ]
  },
  {
   "cell_type": "markdown",
   "id": "e29aecb9",
   "metadata": {
    "slideshow": {
     "slide_type": "slide"
    }
   },
   "source": [
    "Mr. ATTLEE: I would like at the outset to associate myself with the sympathy expressed by the hon. Member who moved this Address with regard to the cause of the absence of His Majesty from our proceedings to-day. The PRIME MINISTER (Mr. Baldwin): Reference has been made by the Mover of the Address and by the right hon. Gentleman the Leader of the Opposition to the grievous loss which has befallen His Majesty."
   ]
  },
  {
   "cell_type": "markdown",
   "id": "1de075d7",
   "metadata": {
    "slideshow": {
     "slide_type": "slide"
    }
   },
   "source": [
    "By reading this snippet as just a sequence of words we'd loose a lot valuable **context information**.\n",
    "- Instead of a long, uninterrupted text, this snippet captures a specific type of discourse event, a debate between individual politicians\n",
    "- Not all words are spoken text, some refer to names of politicians.\n",
    "- It is an instance of parliamentary speech.\n",
    "\n",
    "\n",
    "We can make this interpretation explicit through encoding."
   ]
  },
  {
   "cell_type": "markdown",
   "id": "fec449ff",
   "metadata": {
    "slideshow": {
     "slide_type": "fragment"
    }
   },
   "source": [
    "<proceeding>\n",
    "    <speaker>Mr. ATTLEE:</speaker>\n",
    "     <speech>\n",
    "            <p>I would like at the outset to associate myself with the sympathy expressed by the hon. Member who moved this Address with regard to the cause of the absence of His Majesty from our proceedings to-day.\n",
    "            </p>\n",
    "    </speech>\n",
    "    <speaker>The PRIME MINISTER (Mr. Baldwin):</speaker>\n",
    "    <speech>\n",
    "            <p>Reference has been made by the Mover of the Address and by the right hon. Gentleman the Leader of the Opposition to the grievous loss which has befallen His Majesty. \n",
    "            </p>\n",
    "    </speech>\n",
    "</proceeding>"
   ]
  },
  {
   "cell_type": "markdown",
   "id": "d3ee564e",
   "metadata": {
    "slideshow": {
     "slide_type": "slide"
    }
   },
   "source": [
    "Why XML important for DH research?"
   ]
  },
  {
   "cell_type": "markdown",
   "id": "0c1812df",
   "metadata": {
    "slideshow": {
     "slide_type": "slide"
    }
   },
   "source": [
    "## 3.2 Extensible\n",
    "- XML defines the **rules/conventions** for encoding a text \n",
    "    - which tags are allowed (speaker, speech)\n",
    "    - articulate relations between tags (paragraph embedded in speech tag)\n",
    "- XML is **extensible** because it allows you to define a new (or refine an existing) set of tags (it is not a set of predefined tags like HTML).\n",
    "- XML is a **\"metalanguage\"** (a language for **describing** markup languages)."
   ]
  },
  {
   "cell_type": "markdown",
   "id": "de038ccc",
   "metadata": {
    "slideshow": {
     "slide_type": "slide"
    }
   },
   "source": [
    "Summary so far:\n",
    "- XML is **human** and **machine** readable (it aligns humanistic interpretation of document with machine processing)\n",
    "- **Encoding** text means adding a layer of annotation (enclosing text segments with tags)\n",
    "- TEI aims to encode the **meaning of data** (not just **formal** (page breaks) or **procedural** (font type). \n",
    "\n",
    "**It captures and communicates what is actually going on in a piece of text.**"
   ]
  },
  {
   "cell_type": "markdown",
   "id": "f271b385",
   "metadata": {
    "slideshow": {
     "slide_type": "slide"
    }
   },
   "source": [
    "In this session:\n",
    "\n",
    "- Introduce the building blocks of XML.\n",
    "- Focus on **working** with XML documents (XML for the **consumer** side)\n",
    "- We explore scenarios where you encounter **text encoded in XML**, and how to make use of the **structure** provided by XML."
   ]
  },
  {
   "cell_type": "markdown",
   "id": "23933def",
   "metadata": {},
   "source": [
    "# 4. XML building blocks"
   ]
  },
  {
   "cell_type": "markdown",
   "id": "5de725b2",
   "metadata": {
    "slideshow": {
     "slide_type": "slide"
    }
   },
   "source": [
    "## 4.1 Elements\n",
    "\n",
    "**XML Elements** emerge as the principal building blocks of a document (i.e. the units that structure a document): `<speaker>Mr. ATTLEE:</speaker>`\n",
    "\n",
    "- Everything from the start and end tag is called an element.\n",
    "- Each element must be **explicitly tagged** (elements **must** have a closing tag.).\n",
    "- Elements can contain other elements, text or a combination of the two.\n"
   ]
  },
  {
   "cell_type": "markdown",
   "id": "7ea6d6b2",
   "metadata": {
    "slideshow": {
     "slide_type": "slide"
    }
   },
   "source": [
    "> Mr. ATTLEE: I would like at the outset to associate myself with the sympathy expressed by the hon. Member who moved this Address with regard to the cause of the absence of His Majesty from our proceedings to-day."
   ]
  },
  {
   "cell_type": "markdown",
   "id": "c8d5e5ea",
   "metadata": {
    "slideshow": {
     "slide_type": "fragment"
    }
   },
   "source": [
    "`Mr. ATTLEE: <p>I would like at the outset to associate myself with the sympathy expressed by the hon. Member who moved this Address with regard to the cause of the absence of His Majesty from our proceedings to-day.</p>`"
   ]
  },
  {
   "cell_type": "markdown",
   "id": "871e6e76",
   "metadata": {
    "slideshow": {
     "slide_type": "slide"
    }
   },
   "source": [
    "- Elements can be **contained/nested** within each other."
   ]
  },
  {
   "cell_type": "markdown",
   "id": "fb7a44a1",
   "metadata": {
    "slideshow": {
     "slide_type": "fragment"
    }
   },
   "source": [
    "<proceeding>\n",
    "    <speaker>Mr. ATTLEE:</speaker>\n",
    "    <speech>\n",
    "            <p>I would like at the outset to associate myself with the sympathy expressed by the hon. Member who moved this Address with regard to the cause of the absence of His Majesty from our proceedings to-day.\n",
    "            </p>\n",
    "    </speech>\n",
    "    <speaker>The PRIME MINISTER (Mr. Baldwin):</speaker>\n",
    "    <speech>\n",
    "            <p>Reference has been made by the Mover of the Address and by the right hon. Gentleman the Leader of the Opposition to the grievous loss which has befallen His Majesty. \n",
    "            </p>\n",
    "    </speech>\n",
    "</proceeding>"
   ]
  },
  {
   "cell_type": "markdown",
   "id": "791cee84",
   "metadata": {
    "slideshow": {
     "slide_type": "slide"
    }
   },
   "source": [
    "- tree relations: parent - child - sibling"
   ]
  },
  {
   "cell_type": "markdown",
   "id": "35e3563c",
   "metadata": {
    "slideshow": {
     "slide_type": "fragment"
    }
   },
   "source": [
    "<root> # parent\n",
    "    <child>Mr. ATTLEE:</child> #child\n",
    "    <child-sibling> # sibling\n",
    "            <subchild>I would like at the outset to associate myself with the sympathy expressed by the hon. Member who moved this Address with regard to the cause of the absence of His Majesty from our proceedings to-day.\n",
    "            </subchild>\n",
    "    </child-sibling>\n",
    "</root>"
   ]
  },
  {
   "cell_type": "markdown",
   "id": "f30ad1c0",
   "metadata": {
    "slideshow": {
     "slide_type": "slide"
    }
   },
   "source": [
    "\n",
    "\n",
    "To be **syntactically** correct:\n",
    "- Each element contained by the root element\n",
    "- No partial overlaps between elements\n",
    "- Tags mark start and end of each element. Tags must be closed."
   ]
  },
  {
   "cell_type": "markdown",
   "id": "6a8c051d",
   "metadata": {
    "slideshow": {
     "slide_type": "slide"
    }
   },
   "source": [
    "## 4.2 Attributes\n",
    "\n",
    "- **Elements** structure what is **implicit**, the **attributes** often enrich this structure by adding information that is **absent**. \n",
    "- XML syntax for encoding information not the text itself. \n",
    "\n",
    "Double click on cell below to see an example:"
   ]
  },
  {
   "cell_type": "markdown",
   "id": "5045428e",
   "metadata": {
    "slideshow": {
     "slide_type": "fragment"
    }
   },
   "source": [
    "<speech pm:speaker=\"Mr. ATTLEE\" \n",
    "        pm:party=\"Labour\" \n",
    "        pm:role=\"mp\" \n",
    "        pm:party-ref=\"uk.p.Lab\" \n",
    "        pm:member-ref=\"uk.m.16522\" \n",
    "        pm:id=\"uk.proc.d.1935-12-03.3.10.6\" \n",
    "        dp:time=\"15:38:00\">\n",
    "    <p pm:id=\"uk.proc.d.1935-12-03.3.10.6.1\">I would like at the outset to associate myself with the sympathy expressed by the hon. Member who moved this Address with regard to the cause of the absence of His Majesty from our proceedings to-day.\n",
    "    </p>\n",
    "</speech>"
   ]
  },
  {
   "cell_type": "markdown",
   "id": "8f073c9c",
   "metadata": {
    "slideshow": {
     "slide_type": "slide"
    }
   },
   "source": [
    "\n",
    "- Generally, attributes capture information that is \"descriptive of an element but not part of its content\" (e.g. identifiers.)\n",
    "- Attributes must be **quoted**\n",
    "- Attributes are embedded in the **start tag** (no attributes in the end-tag.)"
   ]
  },
  {
   "cell_type": "markdown",
   "id": "57d61bdd",
   "metadata": {
    "slideshow": {
     "slide_type": "slide"
    }
   },
   "source": [
    "## 4.3 Advanced: Schemas\n",
    "\n",
    "- Documents are considered a belonging to a specific type (\"academic paper\", \"novel\", \"parliamentary proceedings\", etc).\n",
    "- Validity assessed in relation to a schema (**Document Type Definition**). \n",
    "- Schema defines the constituent parts and their relations (in what arrangements can elements appear).\n",
    "- Example of Political Mashup's schema for [parliamentary proceedings](https://web.archive.org/web/20170504021953/http://schema.politicalmashup.nl/schemas.html).\n"
   ]
  },
  {
   "cell_type": "markdown",
   "id": "74fcc844",
   "metadata": {
    "slideshow": {
     "slide_type": "slide"
    }
   },
   "source": [
    "**Anthology**  an example taken from [TEI](https://tei-c.org/release/doc/tei-p5-doc/en/html/SG.html#:~:text=XML%20is%20widely%20used%20for,on%20the%20World%20Wide%20Web.)"
   ]
  },
  {
   "cell_type": "markdown",
   "id": "f723cfd6",
   "metadata": {
    "slideshow": {
     "slide_type": "slide"
    }
   },
   "source": [
    "<anthology>\n",
    " <poem>\n",
    "  <heading>The SICK ROSE</heading>\n",
    "  <stanza>\n",
    "   <line>O Rose thou art sick.</line>\n",
    "   <line>The invisible worm,</line>\n",
    "   <line>That flies in the night</line>\n",
    "   <line>In the howling storm:</line>\n",
    "  </stanza>\n",
    "  <stanza>\n",
    "   <line>Has found out thy bed</line>\n",
    "   <line>Of crimson joy:</line>\n",
    "   <line>And his dark secret love</line>\n",
    "   <line>Does thy life destroy.</line>\n",
    "  </stanza>\n",
    " </poem>\n",
    "<!-- more poems go here -->\n",
    "</anthology>\n",
    "              "
   ]
  },
  {
   "cell_type": "raw",
   "id": "5e586a08",
   "metadata": {
    "slideshow": {
     "slide_type": "slide"
    }
   },
   "source": [
    "relag.ng schema for anthology\n",
    "\n",
    "anthology_p = element anthology { poem_p+ } # anthology element can contain multiple poems\n",
    "poem_p = element poem { heading_p?, stanza_p+ } # can can have a heading and contain multiple stanzas\n",
    "stanza_p = element stanza {line_p+} # stanzas contain lines\n",
    "heading_p = element heading { text } # heading contains text\n",
    "line_p = element line { text } # lines contain text\n"
   ]
  },
  {
   "cell_type": "markdown",
   "id": "cdf3cc12",
   "metadata": {
    "slideshow": {
     "slide_type": "slide"
    }
   },
   "source": [
    "\n",
    "In short, schemas:\n",
    "- **are a formal representation of a document's structure**\n",
    "-  govern which **elements** are **allowed** and how they can be **arranged** (relation between element, i.e. speech can contain paragraph etc.)\n",
    "- are an **interpretation** of the structure source types.\n",
    "- a schema **balances** demands for clarity, uniformity and complexity. Schemas are a (necessary) simplification. It is hard to agree on a standard/schema and there will always be some reduction, harm to the uniqueness of a document.\n",
    "\n"
   ]
  },
  {
   "cell_type": "markdown",
   "id": "eab1b6f1",
   "metadata": {
    "slideshow": {
     "slide_type": "slide"
    }
   },
   "source": [
    "## 4.4 Advanced: Namespaces\n",
    "- Namespaces indicate **provenance** of the element and attributes. \n",
    "- Namespaces avoid **name conflicts**."
   ]
  },
  {
   "cell_type": "markdown",
   "id": "70b345b1",
   "metadata": {
    "slideshow": {
     "slide_type": "slide"
    }
   },
   "source": [
    "Example of Parliamentary Proceedings:\n",
    "\n",
    "`<root xmlns:dc=\"http://purl.org/dc/elements/1.1/\" xmlns:xsd=\"http://www.w3.org/2001/XMLSchema-datatypes\" xmlns:owl=\"http://www.w3.org/2002/07/owl#\" xmlns:pmd=\"http://www.politicalmashup.nl/docinfo\" xmlns:pm=\"http://www.politicalmashup.nl\" xmlns:dp=\"http://dilipad.history.ac.uk\" xmlns:rdf=\"http://www.w3.org/1999/02/22-rdf-syntax-ns#\" xmlns:html=\"http://www.w3.org/1999/xhtml\" xmlns:dcterms=\"http://purl.org/dc/terms/\" xmlns:xsi=\"http://www.w3.org/2001/XMLSchema-instance\">`\n",
    "\n",
    "`<proceedings xmlns=\"http://www.politicalmashup.nl\" pm:id=\"uk.proc.d.1935-12-03\">`"
   ]
  },
  {
   "cell_type": "markdown",
   "id": "625f860a",
   "metadata": {
    "slideshow": {
     "slide_type": "slide"
    }
   },
   "source": [
    "According the [\"Gentle Introduction\"](https://tei-c.org/release/doc/tei-p5-doc/en/html/SG.html):\n",
    "> If the markup of an XML document is thought of as an expression in some language, then a namespace may be thought of as analogous to the lexicon of that language. "
   ]
  },
  {
   "cell_type": "markdown",
   "id": "7a255207",
   "metadata": {
    "slideshow": {
     "slide_type": "slide"
    }
   },
   "source": [
    "\n",
    "- Namespaces are the **lexicon** of a markup language (`xmlns:pm=\"`[http://www.politicalmashup.nl](https://web.archive.org/web/20190505013425/http://www.politicalmashup.nl)`\"`)\n",
    "- Prefix signals **association** with a namespace. (`pm:id=\"uk.proc.d.1935-12-03\"` or `pm:party=\"Labour\"`)\n",
    "- XML documents allow you to **combine** elements from different namespaces (i.e. you can create your own schema and use to extend existing representations.)"
   ]
  },
  {
   "cell_type": "markdown",
   "id": "bddc1d08",
   "metadata": {
    "slideshow": {
     "slide_type": "slide"
    }
   },
   "source": [
    "\n",
    "Now, let's turn from theory to practice..."
   ]
  },
  {
   "cell_type": "markdown",
   "id": "3db4f429",
   "metadata": {
    "slideshow": {
     "slide_type": "slide"
    }
   },
   "source": [
    "# 5. Working with XML in Python\n",
    "\n",
    "- Goal of this tutorial: How to **open, process and extract relevant content from XML documents**\n",
    "- You can also **create** and **validate** XML in Python, but we will cover this in less detail (as said, emphasis on the consumer side)"
   ]
  },
  {
   "cell_type": "markdown",
   "id": "4540e721",
   "metadata": {
    "slideshow": {
     "slide_type": "slide"
    }
   },
   "source": [
    "Python offers [multiple libraries](https://realpython.com/python-xml-parser/) for working with XML but we will use [lxml](https://lxml.de/parsing.html). \n",
    "\n",
    "![lxml](https://lxml.de/python-xml-title.png)\n",
    "\n",
    "Similar to Pandas, lxml provides many tools for parsing and traversing XML-type tree-structured documents."
   ]
  },
  {
   "cell_type": "code",
   "execution_count": null,
   "id": "1e8fc802",
   "metadata": {
    "slideshow": {
     "slide_type": "slide"
    }
   },
   "outputs": [],
   "source": [
    "from lxml import etree\n",
    "print(etree.__doc__)"
   ]
  },
  {
   "cell_type": "markdown",
   "id": "126f203a",
   "metadata": {
    "slideshow": {
     "slide_type": "slide"
    }
   },
   "source": [
    "## 5.1 Toy Example (again)\n"
   ]
  },
  {
   "cell_type": "code",
   "execution_count": null,
   "id": "fd1eb27d",
   "metadata": {
    "slideshow": {
     "slide_type": "fragment"
    }
   },
   "outputs": [],
   "source": [
    "xml_string = \"\"\"\n",
    "<anthology>\n",
    "    <poem id='1' \n",
    "      author='Blake, William.'\n",
    "      date='1794'>\n",
    "      <heading id='1.1'>The SICK ROSE</heading>\n",
    "      <stanza id='1.2'>\n",
    "           <line id='1.2.1'>O Rose thou art sick.</line>\n",
    "           <line id='1.2.2'>The invisible worm,</line>\n",
    "           <line id='1.2.3'>That flies in the night</line>\n",
    "           <line id='1.2.4'>In the howling storm:</line>\n",
    "      </stanza>\n",
    "      <stanza id='1.3'>\n",
    "           <line id='1.3.1'>Has found out thy bed</line>\n",
    "           <line id='1.3.2'>Of crimson joy:</line>\n",
    "           <line id='1.3.3'>And his dark secret love</line>\n",
    "           <line id='1.3.4'>Does thy life destroy.</line>\n",
    "      </stanza>\n",
    "    </poem>\n",
    "    <poem id='2'\n",
    "     author='Shakespeare, William.' >\n",
    "        <heading id='2.1'>Sonnet 106</heading>\n",
    "      <stanza id='2.1'>\n",
    "        <line id='2.2.1'>When in the chronicle of wasted time</line>\n",
    "        <line id='2.2.1'>I see descriptions of the fairest wights,</line>\n",
    "        <line id='2.2.1'>And beauty making beautiful old rhyme</line>\n",
    "        <line id='2.2.1'>In praise of ladies dead, and lovely knights,</line>\n",
    "     </stanza>\n",
    "  </poem> \n",
    "</anthology>\n",
    "\"\"\"\n",
    "              "
   ]
  },
  {
   "cell_type": "code",
   "execution_count": null,
   "id": "2c132cfe",
   "metadata": {
    "slideshow": {
     "slide_type": "slide"
    }
   },
   "outputs": [],
   "source": [
    "# etree will convert a string to a tree this is called parsing\n",
    "from io import StringIO\n",
    "tree = etree.parse(StringIO(xml_string)); tree"
   ]
  },
  {
   "cell_type": "code",
   "execution_count": null,
   "id": "e0a2e604",
   "metadata": {
    "slideshow": {
     "slide_type": "slide"
    }
   },
   "outputs": [],
   "source": [
    "# what goodies are attached to an lxml etree object?\n",
    "help(tree)"
   ]
  },
  {
   "cell_type": "code",
   "execution_count": null,
   "id": "b3afd361",
   "metadata": {
    "slideshow": {
     "slide_type": "slide"
    }
   },
   "outputs": [],
   "source": [
    "# iterate over all elements\n",
    "for i in tree.getiterator(): print(i)"
   ]
  },
  {
   "cell_type": "code",
   "execution_count": null,
   "id": "64cbf99b",
   "metadata": {
    "slideshow": {
     "slide_type": "slide"
    }
   },
   "outputs": [],
   "source": [
    "# explore tree structure\n",
    "root = tree.getroot()\n",
    "len(root) # we only have two poems in anthology"
   ]
  },
  {
   "cell_type": "code",
   "execution_count": null,
   "id": "04f68ff1",
   "metadata": {
    "slideshow": {
     "slide_type": "slide"
    }
   },
   "outputs": [],
   "source": [
    "# first poem\n",
    "root[0]"
   ]
  },
  {
   "cell_type": "code",
   "execution_count": null,
   "id": "294d4314",
   "metadata": {
    "slideshow": {
     "slide_type": "fragment"
    }
   },
   "outputs": [],
   "source": [
    "# second poem\n",
    "root[1]"
   ]
  },
  {
   "cell_type": "code",
   "execution_count": null,
   "id": "26a54a8d",
   "metadata": {
    "slideshow": {
     "slide_type": "fragment"
    }
   },
   "outputs": [],
   "source": [
    "# second stanza of the second poem\n",
    "# stanza is the child of poem\n",
    "root[1][1]"
   ]
  },
  {
   "cell_type": "code",
   "execution_count": null,
   "id": "742bdf0a",
   "metadata": {
    "slideshow": {
     "slide_type": "slide"
    }
   },
   "outputs": [],
   "source": [
    "# each element has different Python attributes\n",
    "root[1][1].tag"
   ]
  },
  {
   "cell_type": "code",
   "execution_count": null,
   "id": "2dc21d79",
   "metadata": {
    "slideshow": {
     "slide_type": "slide"
    }
   },
   "outputs": [],
   "source": [
    "root[1][1][2].tag"
   ]
  },
  {
   "cell_type": "code",
   "execution_count": null,
   "id": "aa03c5a2",
   "metadata": {
    "slideshow": {
     "slide_type": "fragment"
    }
   },
   "outputs": [],
   "source": [
    "# why is this empty?\n",
    "root[1][1].text"
   ]
  },
  {
   "cell_type": "code",
   "execution_count": null,
   "id": "0761a5c3",
   "metadata": {
    "slideshow": {
     "slide_type": "fragment"
    }
   },
   "outputs": [],
   "source": [
    "# text attribute only gets the text directly enclosed by the tag\n",
    "root[1][1][2].text"
   ]
  },
  {
   "cell_type": "code",
   "execution_count": null,
   "id": "22636b4d",
   "metadata": {
    "slideshow": {
     "slide_type": "slide"
    }
   },
   "outputs": [],
   "source": [
    "# print the second stanza of the first poem\n",
    "print(etree.tostring(root[0][1],method='text',encoding='unicode'))"
   ]
  },
  {
   "cell_type": "code",
   "execution_count": null,
   "id": "4e59297e",
   "metadata": {
    "slideshow": {
     "slide_type": "slide"
    }
   },
   "outputs": [],
   "source": [
    "#attributes are stored as a dictionary\n",
    "root[0].attrib"
   ]
  },
  {
   "cell_type": "code",
   "execution_count": null,
   "id": "5837fe9b",
   "metadata": {
    "slideshow": {
     "slide_type": "fragment"
    }
   },
   "outputs": [],
   "source": [
    "root[0].attrib['author']"
   ]
  },
  {
   "cell_type": "code",
   "execution_count": 28,
   "id": "6e13c1cb",
   "metadata": {},
   "outputs": [],
   "source": [
    "root[0].attrib.get('author',None)"
   ]
  },
  {
   "cell_type": "markdown",
   "id": "4c44b817",
   "metadata": {
    "slideshow": {
     "slide_type": "slide"
    }
   },
   "source": [
    "### ✏️ 1. Exercise.\n",
    "\n",
    "- Convert the small dialogue below to an XML document, using the tags: \n",
    "    - `dialogue` (root tag)\n",
    "    - `speech_turn` (nested with `dialogue)\n",
    "    - `line` (nested within `speech_turn`)\n",
    "- add the name of the speaker as a **name** attribute to each `speech_turn` as well as an **unique identifier** for each actor\n",
    "- add **identifiers** to each element similarly to the anthology example\n",
    "- store the XML document as a **string** in a variable called `xml_dialogue`\n",
    "- **parse** the string with and save the Element Tree in a new variable\n",
    "- print the text on the second `speech_turn`\n",
    "- (**Difficult**): can you print all lines spoken by George?"
   ]
  },
  {
   "cell_type": "markdown",
   "id": "c7961818",
   "metadata": {
    "slideshow": {
     "slide_type": "slide"
    }
   },
   "source": [
    "```\n",
    "George: “You’re gonna over-dry your laundry.”\n",
    "Jerry: “You can’t over-dry.”\n",
    "George: “Why not?”\n",
    "Jerry: “Same reason you can’t over-wet.”\n",
    "```\n",
    "![seinfeld](https://media.giphy.com/media/14dXclYKbx2ONW/giphy.gif)"
   ]
  },
  {
   "cell_type": "code",
   "execution_count": null,
   "id": "1f61a3a1",
   "metadata": {
    "slideshow": {
     "slide_type": "slide"
    }
   },
   "outputs": [],
   "source": [
    "# add your answer here"
   ]
  },
  {
   "cell_type": "markdown",
   "id": "99174f72",
   "metadata": {
    "slideshow": {
     "slide_type": "slide"
    }
   },
   "source": [
    "## 5.2 A Realistic Example (with namespace, ugh)\n",
    "### UK Parliamentary Debates (29th June 1967)\n",
    "\n",
    "Political Mashup's schema for [parliamentary proceedings](https://web.archive.org/web/20170504021953/http://schema.politicalmashup.nl/schemas.html)."
   ]
  },
  {
   "cell_type": "code",
   "execution_count": 14,
   "id": "e21bae69",
   "metadata": {
    "slideshow": {
     "slide_type": "fragment"
    }
   },
   "outputs": [],
   "source": [
    "# open a xml file\n",
    "with open('xml_examples/uk.proc.d.1967-06-29.xml','rb') as in_xml:\n",
    "    tree = etree.parse(in_xml) # parse the content of the xml file"
   ]
  },
  {
   "cell_type": "code",
   "execution_count": 15,
   "id": "bc087801",
   "metadata": {
    "slideshow": {
     "slide_type": "slide"
    }
   },
   "outputs": [],
   "source": [
    "# get the root element\n",
    "root = tree.getroot()"
   ]
  },
  {
   "cell_type": "code",
   "execution_count": 16,
   "id": "0b7020d9",
   "metadata": {
    "slideshow": {
     "slide_type": "fragment"
    }
   },
   "outputs": [
    {
     "data": {
      "text/plain": [
       "(3, lxml.etree._Element)"
      ]
     },
     "execution_count": 16,
     "metadata": {},
     "output_type": "execute_result"
    }
   ],
   "source": [
    "len(root), type(root)"
   ]
  },
  {
   "cell_type": "code",
   "execution_count": 17,
   "id": "9fb700ad",
   "metadata": {
    "slideshow": {
     "slide_type": "fragment"
    }
   },
   "outputs": [
    {
     "name": "stdout",
     "output_type": "stream",
     "text": [
      "{http://www.politicalmashup.nl/docinfo}docinfo\n",
      "meta\n",
      "{http://www.politicalmashup.nl}proceedings\n"
     ]
    }
   ],
   "source": [
    "# iterate over all the elements directly under the root element\n",
    "# each element is a list of elements\n",
    "for element in root:\n",
    "    print(element.tag)"
   ]
  },
  {
   "cell_type": "markdown",
   "id": "84a86c1d",
   "metadata": {
    "slideshow": {
     "slide_type": "slide"
    }
   },
   "source": [
    "In these examples elements belong to different namespaces, for example\n",
    "\n",
    "`{http://www.politicalmashup.nl}proceedings`\n",
    "\n",
    "The namespace appears as a prefix and is surrounded by curly brackets."
   ]
  },
  {
   "cell_type": "code",
   "execution_count": 18,
   "id": "22c67fa3",
   "metadata": {
    "slideshow": {
     "slide_type": "fragment"
    }
   },
   "outputs": [],
   "source": [
    "# the proceedings, the actual content\n",
    "# is the third element in the list\n",
    "proceedings = root[2]"
   ]
  },
  {
   "cell_type": "code",
   "execution_count": 19,
   "id": "172e9627",
   "metadata": {
    "slideshow": {
     "slide_type": "fragment"
    }
   },
   "outputs": [
    {
     "data": {
      "text/plain": [
       "<Element {http://www.politicalmashup.nl}topic at 0x10acab840>"
      ]
     },
     "execution_count": 19,
     "metadata": {},
     "output_type": "execute_result"
    }
   ],
   "source": [
    "# third element of the proceedings element\n",
    "# i.e. the third topic\n",
    "proceedings[2]"
   ]
  },
  {
   "cell_type": "code",
   "execution_count": 20,
   "id": "2bf5a5a9",
   "metadata": {
    "slideshow": {
     "slide_type": "fragment"
    }
   },
   "outputs": [
    {
     "data": {
      "text/plain": [
       "<Element {http://www.politicalmashup.nl}scene at 0x10acb61c0>"
      ]
     },
     "execution_count": 20,
     "metadata": {},
     "output_type": "execute_result"
    }
   ],
   "source": [
    "# first scene in third topic\n",
    "proceedings[2][0]"
   ]
  },
  {
   "cell_type": "code",
   "execution_count": 21,
   "id": "8dd56d09",
   "metadata": {
    "slideshow": {
     "slide_type": "slide"
    }
   },
   "outputs": [
    {
     "name": "stdout",
     "output_type": "stream",
     "text": [
      "0 {http://www.politicalmashup.nl}scene 4\n",
      "1 {http://www.politicalmashup.nl}scene 6\n",
      "2 {http://www.politicalmashup.nl}scene 5\n",
      "3 {http://www.politicalmashup.nl}scene 5\n",
      "4 {http://www.politicalmashup.nl}scene 6\n",
      "5 {http://www.politicalmashup.nl}scene 9\n",
      "6 {http://www.politicalmashup.nl}scene 22\n",
      "7 {http://www.politicalmashup.nl}scene 4\n",
      "8 {http://www.politicalmashup.nl}scene 4\n",
      "9 {http://www.politicalmashup.nl}scene 4\n",
      "10 {http://www.politicalmashup.nl}scene 18\n",
      "11 {http://www.politicalmashup.nl}scene 9\n",
      "12 {http://www.politicalmashup.nl}scene 4\n",
      "13 {http://www.politicalmashup.nl}scene 4\n",
      "14 {http://www.politicalmashup.nl}scene 4\n",
      "15 {http://www.politicalmashup.nl}scene 4\n",
      "16 {http://www.politicalmashup.nl}scene 6\n",
      "17 {http://www.politicalmashup.nl}scene 6\n",
      "18 {http://www.politicalmashup.nl}scene 4\n",
      "19 {http://www.politicalmashup.nl}scene 10\n",
      "20 {http://www.politicalmashup.nl}scene 4\n"
     ]
    }
   ],
   "source": [
    "# you can iterate over these elements as a list to get the children\n",
    "for i,element in enumerate(proceedings[2]):\n",
    "    print(i,element.tag,len(element))"
   ]
  },
  {
   "cell_type": "markdown",
   "id": "7753f058",
   "metadata": {
    "slideshow": {
     "slide_type": "slide"
    }
   },
   "source": [
    "### ✏️ 2. Exercise.\n",
    "- How many paragraphs (`<p>` tags) does the 1st speech in the 7th scene of the 3rd topic contain?\n",
    "- How many words does the first paragraph contain? (You can just use `split()` to divide the string into tokens)."
   ]
  },
  {
   "cell_type": "code",
   "execution_count": 22,
   "id": "1bae7cb0",
   "metadata": {
    "slideshow": {
     "slide_type": "fragment"
    }
   },
   "outputs": [],
   "source": [
    "# write answer here"
   ]
  },
  {
   "cell_type": "code",
   "execution_count": null,
   "id": "a3e3d27d",
   "metadata": {
    "slideshow": {
     "slide_type": "slide"
    }
   },
   "outputs": [],
   "source": [
    "# you can iterate over a specific element\n",
    "# notice that we need to define the namespace\n",
    "# for both the element and attribute\n",
    "for element in tree.iter(\"{http://www.politicalmashup.nl}speech\"):\n",
    "    print(element.attrib['{http://www.politicalmashup.nl}id'])"
   ]
  },
  {
   "cell_type": "code",
   "execution_count": null,
   "id": "3000f134",
   "metadata": {
    "slideshow": {
     "slide_type": "slide"
    }
   },
   "outputs": [],
   "source": [
    "# get the namespace mapping\n",
    "nsmap = root.nsmap; nsmap"
   ]
  },
  {
   "cell_type": "markdown",
   "id": "079d641e",
   "metadata": {
    "slideshow": {
     "slide_type": "slide"
    }
   },
   "source": [
    "### ✏️ 3. Exercise.\n",
    "- (Difficult) What is the longest speech in the fourth topic element?"
   ]
  },
  {
   "cell_type": "code",
   "execution_count": null,
   "id": "d3c22ad9",
   "metadata": {},
   "outputs": [],
   "source": [
    "# type answer here"
   ]
  },
  {
   "cell_type": "markdown",
   "id": "819f505a",
   "metadata": {
    "slideshow": {
     "slide_type": "slide"
    }
   },
   "source": [
    "## Elements carry attributes as dictionaries"
   ]
  },
  {
   "cell_type": "code",
   "execution_count": null,
   "id": "91fe0e5b",
   "metadata": {
    "slideshow": {
     "slide_type": "fragment"
    }
   },
   "outputs": [],
   "source": [
    "proceedings[2][6][15].tag,proceedings[2][6][15].attrib"
   ]
  },
  {
   "cell_type": "code",
   "execution_count": null,
   "id": "886551ae",
   "metadata": {
    "slideshow": {
     "slide_type": "slide"
    }
   },
   "outputs": [],
   "source": [
    "# use string formatting for namespaces\n",
    "speech = proceedings[2][6][15]\n",
    "speech.attrib[\"{%s}speaker\" % root.nsmap['pm']]"
   ]
  },
  {
   "cell_type": "code",
   "execution_count": null,
   "id": "637273ef",
   "metadata": {
    "slideshow": {
     "slide_type": "fragment"
    }
   },
   "outputs": [],
   "source": [
    "# it is safer to use .get() method\n",
    "speech.attrib.get(\"{%s}speaker\" % root.nsmap['pm'], '')"
   ]
  },
  {
   "cell_type": "markdown",
   "id": "ba80ba1a",
   "metadata": {
    "slideshow": {
     "slide_type": "slide"
    }
   },
   "source": [
    "### ✏️ Exercise.\n",
    "\n",
    "- Count the number of speeches made by Conservative members during this sitting of Parliament."
   ]
  },
  {
   "cell_type": "code",
   "execution_count": null,
   "id": "07ee156a",
   "metadata": {
    "slideshow": {
     "slide_type": "fragment"
    }
   },
   "outputs": [],
   "source": [
    "# type answer here"
   ]
  },
  {
   "cell_type": "markdown",
   "id": "4ba3290d",
   "metadata": {
    "slideshow": {
     "slide_type": "slide"
    }
   },
   "source": [
    "### ✏️ Exercise.\n",
    "\n",
    "- How often does the Speaker intervene?"
   ]
  },
  {
   "cell_type": "code",
   "execution_count": null,
   "id": "5bb45eef",
   "metadata": {
    "slideshow": {
     "slide_type": "fragment"
    }
   },
   "outputs": [],
   "source": [
    "# type answer here"
   ]
  },
  {
   "cell_type": "markdown",
   "id": "8b99ab39",
   "metadata": {
    "slideshow": {
     "slide_type": "slide"
    }
   },
   "source": [
    "# Find methods"
   ]
  },
  {
   "cell_type": "code",
   "execution_count": null,
   "id": "1b6bcc5a",
   "metadata": {
    "slideshow": {
     "slide_type": "fragment"
    }
   },
   "outputs": [],
   "source": [
    "help(root.find)"
   ]
  },
  {
   "cell_type": "code",
   "execution_count": null,
   "id": "288e5930",
   "metadata": {
    "slideshow": {
     "slide_type": "slide"
    }
   },
   "outputs": [],
   "source": [
    "# note the namespace prefix\n",
    "# .// means from current location (i.e proceedings element)\n",
    "# search for descendant speech elements regardless of their \n",
    "# position in the subtree\n",
    "# find only returns the first element\n",
    "nsmap = root.nsmap\n",
    "speeches = root[2].find('.//pm:speech',namespaces=nsmap); speeches"
   ]
  },
  {
   "cell_type": "code",
   "execution_count": null,
   "id": "413bd787",
   "metadata": {
    "slideshow": {
     "slide_type": "fragment"
    }
   },
   "outputs": [],
   "source": [
    "# findall returns all element\n",
    "speeches = root[2].findall('.//pm:speech',namespaces=nsmap); len(speeches)"
   ]
  },
  {
   "cell_type": "markdown",
   "id": "3508a80d",
   "metadata": {
    "slideshow": {
     "slide_type": "slide"
    }
   },
   "source": [
    "# Fin."
   ]
  },
  {
   "cell_type": "markdown",
   "id": "f292142c",
   "metadata": {
    "slideshow": {
     "slide_type": "slide"
    }
   },
   "source": [
    "# Adanced: Finding Needles and Mining Haystacks with XPath\n",
    "\n",
    "- XPath is a rich language for **querying** and **navigating** elements and attributes in an XML document.\n",
    "    - Elaborate language XPath for defining regions interest in you XML documents.\n",
    "- Select elements, attributes, or text nodes.\n",
    "- XPath uses **path expressions** for querying and XML."
   ]
  },
  {
   "cell_type": "code",
   "execution_count": null,
   "id": "3a94c6be",
   "metadata": {
    "slideshow": {
     "slide_type": "slide"
    }
   },
   "outputs": [],
   "source": [
    "# first scene of fifth topic\n",
    "# notice that index notation does not start at zero!\n",
    "topic = root.xpath('./pm:proceedings/pm:topic[5]/pm:scene[1]',namespaces=nsmap); topic"
   ]
  },
  {
   "cell_type": "code",
   "execution_count": null,
   "id": "6b4debf4",
   "metadata": {
    "slideshow": {
     "slide_type": "fragment"
    }
   },
   "outputs": [],
   "source": [
    "## first finds the first scene of fifth topic\n",
    "## // means any speech element contained by the third topic\n",
    "speeches = root.xpath('./pm:proceedings/pm:topic[3]//pm:speech',namespaces=nsmap); len(speeches)"
   ]
  },
  {
   "cell_type": "code",
   "execution_count": null,
   "id": "2a7f0eca",
   "metadata": {
    "slideshow": {
     "slide_type": "fragment"
    }
   },
   "outputs": [],
   "source": [
    "# .// from root find all speeches regardless of where they are situated\n",
    "speeches = root.xpath('.//pm:speech',namespaces=nsmap); len(speeches)"
   ]
  },
  {
   "cell_type": "code",
   "execution_count": null,
   "id": "066d6da2",
   "metadata": {
    "slideshow": {
     "slide_type": "slide"
    }
   },
   "outputs": [],
   "source": [
    "# return speeches that contain a particular attribute\n",
    "# in this case speeches with a role attribute\n",
    "speeches = root.xpath('.//pm:speech[@pm:role]',namespaces=nsmap); len(speeches)"
   ]
  },
  {
   "cell_type": "code",
   "execution_count": null,
   "id": "a8a79ed4",
   "metadata": {
    "slideshow": {
     "slide_type": "fragment"
    }
   },
   "outputs": [],
   "source": [
    "# return the attributes themselves not the element\n",
    "speeches = root.xpath('.//pm:speech/@pm:role',namespaces=nsmap); \n",
    "speeches[:10]"
   ]
  },
  {
   "cell_type": "code",
   "execution_count": null,
   "id": "ffbad152",
   "metadata": {
    "slideshow": {
     "slide_type": "fragment"
    }
   },
   "outputs": [],
   "source": [
    "# find speeches where attribute matches a particular value\n",
    "speeches = root[2].xpath('.//pm:speech[@pm:role=\"chair\"]',namespaces=nsmap); len(speeches)"
   ]
  },
  {
   "cell_type": "markdown",
   "id": "a6697e12",
   "metadata": {
    "slideshow": {
     "slide_type": "slide"
    }
   },
   "source": [
    "More information [here](https://devhints.io/xpath)"
   ]
  },
  {
   "cell_type": "markdown",
   "id": "830d1390",
   "metadata": {
    "slideshow": {
     "slide_type": "slide"
    }
   },
   "source": [
    "### ✏️ 5. Exercises.\n",
    "\n",
    "- Which parties are participating in this sitting?\n",
    "- How many conservative/labour speeches does the document contain? Which party intervenes more?"
   ]
  },
  {
   "cell_type": "code",
   "execution_count": null,
   "id": "f66ec937",
   "metadata": {
    "slideshow": {
     "slide_type": "fragment"
    }
   },
   "outputs": [],
   "source": [
    "# write answer here"
   ]
  },
  {
   "cell_type": "markdown",
   "id": "7876cbd6",
   "metadata": {
    "slideshow": {
     "slide_type": "slide"
    }
   },
   "source": [
    "## Combining structure and text"
   ]
  },
  {
   "cell_type": "code",
   "execution_count": null,
   "id": "9d3ea61f",
   "metadata": {
    "slideshow": {
     "slide_type": "fragment"
    }
   },
   "outputs": [],
   "source": [
    "# return paragraphs that mention a certain token, in this women\n",
    "mentions = root.xpath(\".//pm:speech/pm:p[contains(text(), 'women')]\",namespaces=nsmap)"
   ]
  },
  {
   "cell_type": "code",
   "execution_count": null,
   "id": "ceb30cd6",
   "metadata": {
    "slideshow": {
     "slide_type": "fragment"
    }
   },
   "outputs": [],
   "source": [
    "# get the fourth mention\n",
    "# move up one level in the tree to get the speech element \n",
    "# and then the speaker name in the attribute\n",
    "mentions[4].getparent().attrib['{http://www.politicalmashup.nl}speaker']"
   ]
  },
  {
   "cell_type": "markdown",
   "id": "8b7132aa",
   "metadata": {
    "slideshow": {
     "slide_type": "slide"
    }
   },
   "source": [
    "### ✏️ 6. Exercises.\n",
    "\n",
    "- Get the title attributes of each topic element.\n",
    "- Formulate an XPath expression that finds the debate (i.e. topic element) on the medical termination of pregnancy bill.\n",
    "- Formulate an XPath expression that finds speeches made by Labour MPs during the debate on the medical termination of pregnancy bill.\n",
    "- Formulate an XPath expression that finds paragraphs in speeches made by Conservative MPs during the debate on the medical termination of pregnancy bill that mentions the word \"women\". Print the content of these paragraphs.\n",
    "- Formulate a query the returns the speech in which the word woman is mentioned. (Difficult, requires some Googling)"
   ]
  },
  {
   "cell_type": "code",
   "execution_count": null,
   "id": "d290efd9",
   "metadata": {
    "slideshow": {
     "slide_type": "fragment"
    }
   },
   "outputs": [],
   "source": [
    "# write answer here"
   ]
  },
  {
   "cell_type": "markdown",
   "id": "38aa3481",
   "metadata": {
    "slideshow": {
     "slide_type": "slide"
    }
   },
   "source": [
    "### ✏️ 7. Exercise\n",
    "- (**Difficult**) Make a small program that computes word frequencies by party (only Labour and Conservative is fine).\n",
    "- (**Difficult**) Can you calculate if the probability of mentioning \"woman\" or \"women\" differs by party? The probability in this case is just the frequency of the word \"woman\" divided by the total number of words spoken by a certain party."
   ]
  },
  {
   "cell_type": "markdown",
   "id": "f134f767",
   "metadata": {},
   "source": [
    "## Solutions"
   ]
  },
  {
   "cell_type": "markdown",
   "id": "d61b0934",
   "metadata": {},
   "source": [
    "### ✏️ 1. Exercise.\n",
    "\n",
    "- Convert the small dialogue below to an XML document, using the tags: \n",
    "    - `dialogue` (root tag)\n",
    "    - `speech_turn` (nested with `dialogue)\n",
    "    - `line` (nested within `speech_turn`)\n",
    "- add the name of the speaker as a **name** attribute to each `speech_turn` as well as an **unique identifier** for each actor\n",
    "- add **identifiers** to each element similarly to the anthology example\n",
    "- store the XML document as a **string** in a variable called `xml_dialogue`\n",
    "- **parse** the string with and save the Element Tree in a new variable\n",
    "- print the text on the second `speech_turn`\n",
    "- (**Difficult**): can you print all lines spoken by George?"
   ]
  },
  {
   "cell_type": "code",
   "execution_count": 23,
   "id": "16255b3c",
   "metadata": {},
   "outputs": [],
   "source": [
    "\n",
    "xml_dialogue = \"\"\"<dialogue>\n",
    "    <speech_turn name=\"George\" id=\"1\">\n",
    "        <line id=\"1.1\">You’re gonna over-dry your laundry.”</line>\n",
    "    </speech_turn>\n",
    "    <speech_turn name=\"Jerry\" id=\"2\">\n",
    "        <line  id=\"2.1\">You can’t over-dry.</line>\n",
    "    </speech_turn>\n",
    "    <speech_turn name=\"George\" id=\"3\">\n",
    "        <line  id=\"2.1\">Why not?</line>\n",
    "    </speech_turn>\n",
    "    <speech_turn name=\"Jerry\" id=\"4\">\n",
    "        <line  id=\"4.1\">Same reason you can’t over-wet</line>\n",
    "    </speech_turn>\n",
    "</dialogue>\n",
    "\"\"\""
   ]
  },
  {
   "cell_type": "code",
   "execution_count": 24,
   "id": "943dc62c",
   "metadata": {},
   "outputs": [
    {
     "data": {
      "text/plain": [
       "'You can’t over-dry.'"
      ]
     },
     "execution_count": 24,
     "metadata": {},
     "output_type": "execute_result"
    }
   ],
   "source": [
    "from lxml import etree\n",
    "from io import StringIO\n",
    "\n",
    "tree = etree.parse(StringIO(xml_dialogue))\n",
    "root = tree.getroot()\n",
    "root[1][0].text"
   ]
  },
  {
   "cell_type": "code",
   "execution_count": 25,
   "id": "fd14b5f3",
   "metadata": {},
   "outputs": [
    {
     "name": "stdout",
     "output_type": "stream",
     "text": [
      "\n",
      "        You’re gonna over-dry your laundry.”\n",
      "    \n",
      "    \n",
      "\n",
      "        Why not?\n",
      "    \n",
      "    \n"
     ]
    }
   ],
   "source": [
    "for e in tree.getiterator():\n",
    "    if e.attrib.get('name') == 'George':\n",
    "        print(etree.tostring(e,method='text',encoding='unicode'))"
   ]
  },
  {
   "cell_type": "markdown",
   "id": "c5439661",
   "metadata": {},
   "source": [
    "### ✏️ 2. Exercise.\n",
    "- How many paragraphs (`<p>` tags) does the 1st speech in the 7th scene of the 3rd topic contain?\n",
    "- How many words does the first paragraph contain? (You can just use `split()` to divide the string into tokens)."
   ]
  },
  {
   "cell_type": "code",
   "execution_count": null,
   "id": "585e5f8b",
   "metadata": {},
   "outputs": [],
   "source": []
  }
 ],
 "metadata": {
  "celltoolbar": "Slideshow",
  "kernelspec": {
   "display_name": "Python 3 (ipykernel)",
   "language": "python",
   "name": "python3"
  },
  "language_info": {
   "codemirror_mode": {
    "name": "ipython",
    "version": 3
   },
   "file_extension": ".py",
   "mimetype": "text/x-python",
   "name": "python",
   "nbconvert_exporter": "python",
   "pygments_lexer": "ipython3",
   "version": "3.9.16"
  }
 },
 "nbformat": 4,
 "nbformat_minor": 5
}
