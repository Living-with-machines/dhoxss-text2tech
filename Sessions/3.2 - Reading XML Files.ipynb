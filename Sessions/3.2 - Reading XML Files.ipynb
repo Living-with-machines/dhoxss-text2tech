{
 "cells": [
  {
   "cell_type": "markdown",
   "id": "75bd38f7",
   "metadata": {},
   "source": [
    "# Text Encoding and XML"
   ]
  },
  {
   "cell_type": "markdown",
   "id": "399ef04e",
   "metadata": {},
   "source": [
    "## Introduction"
   ]
  },
  {
   "cell_type": "markdown",
   "id": "e204e8a7",
   "metadata": {},
   "source": [
    "metalanguage: language for describing languages\n",
    "markup/encoding:\n",
    "\n",
    "    - explicating the interpretation of text\n",
    "    - punctuation as markup?\n",
    "    \n",
    "    \n",
    "> \"it is a process of making explicit what is conjectural or implicit, a process of directing the user as to how the content of the text should be (or has been) interpreted.\"\n",
    "    \n",
    "markup languange: rules/conventions for encoding a text\n",
    "XML markup not just a formal representation but aims to encode the meaning of data (at some level)."
   ]
  },
  {
   "cell_type": "markdown",
   "id": "97b8579e",
   "metadata": {},
   "source": [
    "Focus on working with XML document, not too much about the detail of XML itself, for example how to create or validate XML.\n",
    "\n",
    "Scenario where you encounter text embedding in XML files, and how to make use of the structure provided by XML."
   ]
  },
  {
   "cell_type": "markdown",
   "id": "5dc84083",
   "metadata": {},
   "source": [
    "### XML as descriptive markup"
   ]
  },
  {
   "cell_type": "markdown",
   "id": "6f711391",
   "metadata": {},
   "source": [
    "XML is descriptive markup, categorizes chunks of text into different (semantic) units."
   ]
  },
  {
   "cell_type": "markdown",
   "id": "ee16910e",
   "metadata": {},
   "source": [
    "Document Type (Definition)\n",
    "\n",
    "Document belong to a type, constituent parts which can arranged in certain ways\n",
    "\n",
    "Document are syntactically correct and valid \n",
    "\n",
    "\n",
    "Documents belong to a type, similar to a dictionary\n",
    "it has to confirm to this type to be valid"
   ]
  },
  {
   "cell_type": "markdown",
   "id": "06f540c9",
   "metadata": {},
   "source": [
    "Why encoding? Texts constituted in different units, parts can be categorized as having a different function.\n",
    "\n",
    "An academic article, title, abstract, headings, paragraphs\n",
    "\n",
    "Often crucial for meaningful engagement with text, we have a closer look at parliamentary data. "
   ]
  },
  {
   "cell_type": "markdown",
   "id": "9398ec7a",
   "metadata": {},
   "source": [
    "https://web.archive.org/web/20170504021953/http://schema.politicalmashup.nl/schemas.html\n"
   ]
  },
  {
   "cell_type": "markdown",
   "id": "0693e615",
   "metadata": {},
   "source": [
    "## Adding structure\n",
    "### Elements: \n",
    "\n",
    "The main building blocks (textual units that structure a document) of a text are called **elements**. The schema defines how different elements relate to each other. \n",
    "\n",
    "Each element must be explicitly tagged, with start-tag and end-tag.\n",
    "\n",
    "Everything between these tags is the content of the element."
   ]
  },
  {
   "cell_type": "markdown",
   "id": "651e5a8b",
   "metadata": {},
   "source": [
    "> Mr. ATTLEE: I would like at the outset to associate myself with the sympathy expressed by the hon. Member who moved this Address with regard to the cause of the absence of His Majesty from our proceedings to-day."
   ]
  },
  {
   "cell_type": "markdown",
   "id": "fcf77c0c",
   "metadata": {},
   "source": [
    "`Mr. ATTLEE: <p>I would like at the outset to associate myself with the sympathy expressed by the hon. Member who moved this Address with regard to the cause of the absence of His Majesty from our proceedings to-day.</p>`"
   ]
  },
  {
   "cell_type": "code",
   "execution_count": null,
   "id": "be5fddc8",
   "metadata": {},
   "outputs": [],
   "source": [
    "Elements canbe contained/embedded  within each other. A speech, not just a sequence of paragraphs\n",
    "\n",
    "Again how elements can be ordered is determined by the schema."
   ]
  },
  {
   "cell_type": "markdown",
   "id": "862e6767",
   "metadata": {},
   "source": [
    "`<proceeding><speaker>Mr. ATTLEE:</speaker><speech><p>I would like at the outset to associate myself with the sympathy expressed by the hon. Member who moved this Address with regard to the cause of the absence of His Majesty from our proceedings to-day.</p></speech>\n",
    "<speaker>The PRIME MINISTER (Mr. Baldwin):</speaker><speech><p>Reference has been made by the Mover of the Address and by the right hon. Gentleman the Leader of the Opposition to the grievous loss which has befallen His Majesty. </p></speech></proceeding>`"
   ]
  },
  {
   "cell_type": "markdown",
   "id": "09db14f7",
   "metadata": {},
   "source": [
    "Example does not follow the schema (not valid XML, compliant to the PM schema) but is well formed.\n",
    "- one element encloses the whole document\n",
    "- each element contained by the root element, no partial overlaps between elements\n",
    "- tags mark start and end of and element"
   ]
  },
  {
   "cell_type": "code",
   "execution_count": null,
   "id": "96184dc6",
   "metadata": {},
   "outputs": [],
   "source": [
    "Anthology another example (taken from https://tei-c.org/release/doc/tei-p5-doc/en/html/SG.html#:~:text=XML%20is%20widely%20used%20for,on%20the%20World%20Wide%20Web.)"
   ]
  },
  {
   "cell_type": "markdown",
   "id": "8059e54e",
   "metadata": {},
   "source": [
    "<anthology>\n",
    " <poem>\n",
    "  <heading>The SICK ROSE</heading>\n",
    "  <stanza>\n",
    "   <line>O Rose thou art sick.</line>\n",
    "   <line>The invisible worm,</line>\n",
    "   <line>That flies in the night</line>\n",
    "   <line>In the howling storm:</line>\n",
    "  </stanza>\n",
    "  <stanza>\n",
    "   <line>Has found out thy bed</line>\n",
    "   <line>Of crimson joy:</line>\n",
    "   <line>And his dark secret love</line>\n",
    "   <line>Does thy life destroy.</line>\n",
    "  </stanza>\n",
    " </poem>\n",
    "<!-- more poems go here -->\n",
    "</anthology>\n",
    "              "
   ]
  },
  {
   "cell_type": "code",
   "execution_count": null,
   "id": "21edfc60",
   "metadata": {},
   "outputs": [],
   "source": []
  },
  {
   "cell_type": "markdown",
   "id": "83d12ffc",
   "metadata": {},
   "source": [
    "XML encodes the structure of text and makes meaningful units explicit. Useful for research, we can distinguish elements and treat them differently. More accurate, refined analysis of texts."
   ]
  },
  {
   "cell_type": "markdown",
   "id": "efc5b008",
   "metadata": {},
   "source": [
    "# Schema \n",
    "\n",
    "Schema govern which elements are allowed and how to arrange them\n",
    "An interpretation of the structure of a source, balance clarity with uniformity and complexity. Schemas are a necessary simplification, hard to agree on a standard/schema. \n",
    "\n",
    "Always some reduction, harm to the uniqueness of documents, less maybe so for parliamentary proceedings though."
   ]
  },
  {
   "cell_type": "code",
   "execution_count": null,
   "id": "2d414050",
   "metadata": {},
   "outputs": [],
   "source": [
    "relag.ng schema for anthology\n",
    "\n",
    "anthology_p = element anthology { poem_p+ }\n",
    "poem_p = element poem { heading_p?, stanza_p+ }\n",
    "stanza_p = element stanza {line_p+}\n",
    "heading_p = element heading { text }\n",
    "line_p = element line { text }\n",
    "start = anthology_p"
   ]
  },
  {
   "cell_type": "code",
   "execution_count": null,
   "id": "f37b2615",
   "metadata": {},
   "outputs": [],
   "source": [
    "https://web.archive.org/web/20190505013417/http://schema.politicalmashup.nl/proceedings.html#ProceedingsContent"
   ]
  },
  {
   "cell_type": "markdown",
   "id": "f36ec7de",
   "metadata": {},
   "source": [
    "## Attributes\n",
    "\n",
    "Attributes capture information that is \"descriptive of an element but not part of its content\". Elements sturcture what is implicit, the attributes often enrich the document by adding information that is absent.\n",
    "\n",
    "Attributes contained in the start tag. No attributes in the end-tag."
   ]
  },
  {
   "cell_type": "markdown",
   "id": "2712c125",
   "metadata": {},
   "source": [
    "<speech pm:speaker=\"Mr. ATTLEE\" pm:party=\"Labour\" pm:role=\"mp\" pm:party-ref=\"uk.p.Lab\" pm:member-ref=\"uk.m.16522\" pm:id=\"uk.proc.d.1935-12-03.3.10.6\" dp:time=\"15:38:00\">\n",
    "          <p pm:id=\"uk.proc.d.1935-12-03.3.10.6.1\">I would like at the outset to associate myself with the sympathy expressed by the hon. Member who moved this Address with regard to the cause of the absence of His Majesty from our proceedings to-day. I am sure that he voiced the feeling of the whole House. I understand that we are to have an opportunity of expressing it at a later stage, and I will, therefore, say nothing more about it at the moment.</p></speech>"
   ]
  },
  {
   "cell_type": "code",
   "execution_count": null,
   "id": "cfd563af",
   "metadata": {},
   "outputs": [],
   "source": [
    "Identifiers"
   ]
  },
  {
   "cell_type": "markdown",
   "id": "0b6058a8",
   "metadata": {},
   "source": [
    "# Namespaces\n",
    "Provenance of the element and attributes\n",
    "\n",
    "`<proceedings xmlns=\"http://www.politicalmashup.nl\" pm:id=\"uk.proc.d.1935-12-03\">`"
   ]
  },
  {
   "cell_type": "markdown",
   "id": "1b8f813c",
   "metadata": {},
   "source": [
    "## Working with XML in Python"
   ]
  },
  {
   "cell_type": "markdown",
   "id": "2e6adb3b",
   "metadata": {},
   "source": [
    "# Conclusion\n",
    "\n",
    "\n",
    "\n",
    "XML and HTML"
   ]
  }
 ],
 "metadata": {
  "kernelspec": {
   "display_name": "torch_geo",
   "language": "python",
   "name": "torch_geo"
  },
  "language_info": {
   "codemirror_mode": {
    "name": "ipython",
    "version": 3
   },
   "file_extension": ".py",
   "mimetype": "text/x-python",
   "name": "python",
   "nbconvert_exporter": "python",
   "pygments_lexer": "ipython3",
   "version": "3.9.12"
  }
 },
 "nbformat": 4,
 "nbformat_minor": 5
}
