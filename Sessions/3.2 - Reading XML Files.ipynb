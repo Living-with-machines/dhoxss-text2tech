{
 "cells": [
  {
   "cell_type": "markdown",
   "id": "73e19d6b",
   "metadata": {
    "slideshow": {
     "slide_type": "slide"
    }
   },
   "source": [
    "# Text Encoding and XML"
   ]
  },
  {
   "cell_type": "markdown",
   "id": "f5736e29",
   "metadata": {
    "slideshow": {
     "slide_type": "slide"
    }
   },
   "source": [
    "## Introduction\n",
    "\n",
    "Goals of this lecture:\n",
    "- What is XML and why is it useful for text-based DH?\n",
    "- How to read and navigate XML documents?\n",
    "\n",
    "Lecture and notebook based on [A Very Gentle Introduction to XML](https://www.tei-c.org/Vault/P4/doc/html/SG.html) part of the [Text Encoding Initiative](https://tei-c.org/) (or TEI). \n",
    "\n",
    "List of [projects](https://tei-c.org/Activities/Projects/) using TEI.\n"
   ]
  },
  {
   "cell_type": "markdown",
   "id": "b4cc9432",
   "metadata": {
    "slideshow": {
     "slide_type": "slide"
    }
   },
   "source": [
    "\n",
    "Let's dive right in with an example of [XML](https://raw.githubusercontent.com/clarin-eric/parla-clarin/master/Examples/slovParl2.0/teiCorpus.xml)"
   ]
  },
  {
   "cell_type": "markdown",
   "id": "37edc8b8",
   "metadata": {
    "slideshow": {
     "slide_type": "slide"
    }
   },
   "source": [
    "**Question to the sceptical hamster: Is XML Scary?**\n",
    "\n",
    "\n",
    "![](https://debeste.de/upload/51795a52ac20c074a8de79e35c14a90a1159.jpg)"
   ]
  },
  {
   "cell_type": "markdown",
   "id": "1c0df8a5",
   "metadata": {
    "slideshow": {
     "slide_type": "slide"
    }
   },
   "source": [
    "![](https://media.giphy.com/media/ej1127nuAfGxoZnWTb/giphy.gif)"
   ]
  },
  {
   "cell_type": "markdown",
   "id": "48069f1d",
   "metadata": {
    "slideshow": {
     "slide_type": "slide"
    }
   },
   "source": [
    "### XML stands for \"eXtensible Markup Language\" \n",
    "\n",
    "### Markup and Text Encoding\n",
    "- **markup** used for presenting and enriching documents with tag annotations (XML doesn't **do** anything)\n",
    "- **tags** can be used presentational purposes\n",
    "\n",
    "`Some tags serve as <b>markup for bold text</b> others for <i>italic</i> words.`\n",
    "\n",
    "Is interpreted as:"
   ]
  },
  {
   "cell_type": "markdown",
   "id": "9b910b86",
   "metadata": {
    "slideshow": {
     "slide_type": "fragment"
    }
   },
   "source": [
    "Some tags serve as <b>markup for bold text</b> others for \n",
    "<i>italic</i> words."
   ]
  },
  {
   "cell_type": "markdown",
   "id": "03b22d61",
   "metadata": {
    "slideshow": {
     "slide_type": "slide"
    }
   },
   "source": [
    "Why add markup to a text document?\n",
    "- XML categorizes chunks of text into different (semantic) units.\n",
    "- With XML we can articulate an **interpretation** of text through **encoding**\n",
    "    \n",
    "From the TEI tutorial:\n",
    "> \"it is a process of making explicit what is conjectural or implicit, a process of directing the user as to how the content of the text should be (or has been) interpreted.\""
   ]
  },
  {
   "cell_type": "markdown",
   "id": "e29aecb9",
   "metadata": {
    "slideshow": {
     "slide_type": "slide"
    }
   },
   "source": [
    "Mr. ATTLEE: I would like at the outset to associate myself with the sympathy expressed by the hon. Member who moved this Address with regard to the cause of the absence of His Majesty from our proceedings to-day. The PRIME MINISTER (Mr. Baldwin): Reference has been made by the Mover of the Address and by the right hon. Gentleman the Leader of the Opposition to the grievous loss which has befallen His Majesty."
   ]
  },
  {
   "cell_type": "markdown",
   "id": "fec449ff",
   "metadata": {
    "slideshow": {
     "slide_type": "slide"
    }
   },
   "source": [
    "<proceeding>\n",
    "    <speaker>Mr. ATTLEE:</speaker>\n",
    "        <speech>\n",
    "            <p>I would like at the outset to associate myself with the sympathy expressed by the hon. Member who moved this Address with regard to the cause of the absence of His Majesty from our proceedings to-day.\n",
    "            </p>\n",
    "        </speech>\n",
    "    <speaker>The PRIME MINISTER (Mr. Baldwin):</speaker>\n",
    "        <speech>\n",
    "            <p>Reference has been made by the Mover of the Address and by the right hon. Gentleman the Leader of the Opposition to the grievous loss which has befallen His Majesty. \n",
    "            </p>\n",
    "    </speech>\n",
    "</proceeding>"
   ]
  },
  {
   "cell_type": "markdown",
   "id": "de038ccc",
   "metadata": {
    "slideshow": {
     "slide_type": "slide"
    }
   },
   "source": [
    "- XML is **human** and **machine** readable (it aligns interpretation with machine processing)\n",
    "- **Encoding** text means adding a layer of annotation (enclosing text segments with tags)\n",
    "- TEI aims to encode the **meaning of data** (not just **formal** (page breaks) or **procedural** (font type). It communicates to a computer what is going on in a piece of text?\n",
    "- "
   ]
  },
  {
   "cell_type": "markdown",
   "id": "0c1812df",
   "metadata": {
    "slideshow": {
     "slide_type": "slide"
    }
   },
   "source": [
    "### Extensible\n",
    "- XML defines the **rules/conventions** for encoding a text \n",
    "    - which tags are allowed (speaker, speech)\n",
    "    - articulate relations between tags (speech embedding in speaker tag)\n",
    "- XML is **extensible** because it allows you to define a new (or refine an existing) set of tags (it is not a set of predefined tags like HTML).\n",
    "- XML is a \"metalanguage\" (a language for describing markup languages)."
   ]
  },
  {
   "cell_type": "markdown",
   "id": "f271b385",
   "metadata": {
    "slideshow": {
     "slide_type": "slide"
    }
   },
   "source": [
    "In this session:\n",
    "\n",
    "- Focus on working with XML documents (XML for the consumer side)\n",
    "- We explore scenarios where you encounter text embedded in XML files, and how to make use of the structure provided by XML."
   ]
  },
  {
   "cell_type": "markdown",
   "id": "8cb61a89",
   "metadata": {
    "slideshow": {
     "slide_type": "slide"
    }
   },
   "source": [
    "# Elements\n",
    "\n",
    "**XML Elements** emerge as the principle building blocks of a document (i.e. the units that structure a document).\n",
    "\n",
    "`<speaker>Mr. ATTLEE:</speaker>`\n",
    "\n",
    "- Everything from the start and end tag is called an element.\n",
    "- Each element must be **explicitly tagged** (elements **must** have a closing tag.).\n",
    "- Elements can contain other elements, text or a combination of the two.\n"
   ]
  },
  {
   "cell_type": "markdown",
   "id": "7ea6d6b2",
   "metadata": {
    "slideshow": {
     "slide_type": "slide"
    }
   },
   "source": [
    "> Mr. ATTLEE: I would like at the outset to associate myself with the sympathy expressed by the hon. Member who moved this Address with regard to the cause of the absence of His Majesty from our proceedings to-day."
   ]
  },
  {
   "cell_type": "markdown",
   "id": "c8d5e5ea",
   "metadata": {
    "slideshow": {
     "slide_type": "fragment"
    }
   },
   "source": [
    "`Mr. ATTLEE: <p>I would like at the outset to associate myself with the sympathy expressed by the hon. Member who moved this Address with regard to the cause of the absence of His Majesty from our proceedings to-day.</p>`"
   ]
  },
  {
   "cell_type": "markdown",
   "id": "871e6e76",
   "metadata": {
    "slideshow": {
     "slide_type": "slide"
    }
   },
   "source": [
    "- Elements can be **contained/nested** within each other.\n",
    "- XML documents are element **trees**."
   ]
  },
  {
   "cell_type": "markdown",
   "id": "fb7a44a1",
   "metadata": {
    "slideshow": {
     "slide_type": "fragment"
    }
   },
   "source": [
    "<proceeding>\n",
    "    <speaker>Mr. ATTLEE:</speaker>\n",
    "    <speech>\n",
    "            <p>I would like at the outset to associate myself with the sympathy expressed by the hon. Member who moved this Address with regard to the cause of the absence of His Majesty from our proceedings to-day.\n",
    "            </p>\n",
    "    </speech>\n",
    "    <speaker>The PRIME MINISTER (Mr. Baldwin):</speaker>\n",
    "    <speech>\n",
    "            <p>Reference has been made by the Mover of the Address and by the right hon. Gentleman the Leader of the Opposition to the grievous loss which has befallen His Majesty. \n",
    "            </p>\n",
    "    </speech>\n",
    "</proceeding>"
   ]
  },
  {
   "cell_type": "markdown",
   "id": "7070d9ec",
   "metadata": {
    "slideshow": {
     "slide_type": "slide"
    }
   },
   "source": [
    "<root> # parent\n",
    "    <child>Mr. ATTLEE:</child> #child\n",
    "    <child> # sibling\n",
    "            <subchild>I would like at the outset to associate myself with the sympathy expressed by the hon. Member who moved this Address with regard to the cause of the absence of His Majesty from our proceedings to-day.\n",
    "            </subchild>\n",
    "    </child>\n",
    "    <child>The PRIME MINISTER (Mr. Baldwin):</child>\n",
    "        <child>\n",
    "            <subchild>Reference has been made by the Mover of the Address and by the right hon. Gentleman the Leader of the Opposition to the grievous loss which has befallen His Majesty. \n",
    "            </subchild>\n",
    "    </child>\n",
    "</root>"
   ]
  },
  {
   "cell_type": "markdown",
   "id": "51054bdc",
   "metadata": {
    "slideshow": {
     "slide_type": "fragment"
    }
   },
   "source": [
    "The example does not follow the schema (not compliant with the PM schema) but is (syntactically) well-formed."
   ]
  },
  {
   "cell_type": "markdown",
   "id": "f30ad1c0",
   "metadata": {
    "slideshow": {
     "slide_type": "slide"
    }
   },
   "source": [
    "\n",
    "\n",
    "To be **syntactically** correct:\n",
    "- each element contained by the root element\n",
    "- no partial overlaps between elements\n",
    "- tags mark start and end of each element"
   ]
  },
  {
   "cell_type": "markdown",
   "id": "6a8c051d",
   "metadata": {
    "slideshow": {
     "slide_type": "slide"
    }
   },
   "source": [
    "# Attributes"
   ]
  },
  {
   "cell_type": "markdown",
   "id": "5045428e",
   "metadata": {
    "slideshow": {
     "slide_type": "fragment"
    }
   },
   "source": [
    "<speech pm:speaker=\"Mr. ATTLEE\" \n",
    "        pm:party=\"Labour\" \n",
    "        pm:role=\"mp\" \n",
    "        pm:party-ref=\"uk.p.Lab\" \n",
    "        pm:member-ref=\"uk.m.16522\" \n",
    "        pm:id=\"uk.proc.d.1935-12-03.3.10.6\" \n",
    "        dp:time=\"15:38:00\">\n",
    "    <p pm:id=\"uk.proc.d.1935-12-03.3.10.6.1\">I would like at the outset to associate myself with the sympathy expressed by the hon. Member who moved this Address with regard to the cause of the absence of His Majesty from our proceedings to-day.\n",
    "    </p>\n",
    "</speech>"
   ]
  },
  {
   "cell_type": "markdown",
   "id": "8f073c9c",
   "metadata": {
    "slideshow": {
     "slide_type": "slide"
    }
   },
   "source": [
    "\n",
    "- Attributes capture information that is \"descriptive of an element but not part of its content\" (e.g. identifiers.)\n",
    "- Attributes most be **quoted**\n",
    "- **Elements** sturcture what is **implicit**, the **attributes** often enrich this structure by adding information that is **absent**.\n",
    "- Attributes contained in the **start tag** (no attributes in the end-tag.)"
   ]
  },
  {
   "cell_type": "markdown",
   "id": "57d61bdd",
   "metadata": {
    "slideshow": {
     "slide_type": "slide"
    }
   },
   "source": [
    "# Schemas\n",
    "\n",
    "- Texts are considered a belonging to a type (\"academic paper\", \"novel\", \"parliamentary proceedings\", etc).\n",
    "- Validity assessed in relation to a schema (**Document Type Definition**). \n",
    "- Schema defines the constituent parts and their relations (in what arrangements they can appear).\n",
    "- Example of Political Mashup's schema for [parliamentary proceedings](https://web.archive.org/web/20170504021953/http://schema.politicalmashup.nl/schemas.html).\n"
   ]
  },
  {
   "cell_type": "markdown",
   "id": "74fcc844",
   "metadata": {
    "slideshow": {
     "slide_type": "slide"
    }
   },
   "source": [
    "**Anthology**  an example taken from [TEI](https://tei-c.org/release/doc/tei-p5-doc/en/html/SG.html#:~:text=XML%20is%20widely%20used%20for,on%20the%20World%20Wide%20Web.)"
   ]
  },
  {
   "cell_type": "markdown",
   "id": "f723cfd6",
   "metadata": {
    "slideshow": {
     "slide_type": "slide"
    }
   },
   "source": [
    "<anthology>\n",
    " <poem>\n",
    "  <heading>The SICK ROSE</heading>\n",
    "  <stanza>\n",
    "   <line>O Rose thou art sick.</line>\n",
    "   <line>The invisible worm,</line>\n",
    "   <line>That flies in the night</line>\n",
    "   <line>In the howling storm:</line>\n",
    "  </stanza>\n",
    "  <stanza>\n",
    "   <line>Has found out thy bed</line>\n",
    "   <line>Of crimson joy:</line>\n",
    "   <line>And his dark secret love</line>\n",
    "   <line>Does thy life destroy.</line>\n",
    "  </stanza>\n",
    " </poem>\n",
    "<!-- more poems go here -->\n",
    "</anthology>\n",
    "              "
   ]
  },
  {
   "cell_type": "raw",
   "id": "5e586a08",
   "metadata": {
    "slideshow": {
     "slide_type": "slide"
    }
   },
   "source": [
    "relag.ng schema for anthology\n",
    "\n",
    "anthology_p = element anthology { poem_p+ }\n",
    "poem_p = element poem { heading_p?, stanza_p+ }\n",
    "stanza_p = element stanza {line_p+}\n",
    "heading_p = element heading { text }\n",
    "line_p = element line { text }\n",
    "start = anthology_p"
   ]
  },
  {
   "cell_type": "markdown",
   "id": "cdf3cc12",
   "metadata": {
    "slideshow": {
     "slide_type": "slide"
    }
   },
   "source": [
    "\n",
    "In short, schemas:\n",
    "-  govern which **elements** are **allowed** and how they can be **arranged** (relation between element, i.e. speech can contain paragraph etc.)\n",
    "- are an **interpretation** of the structure source types.\n",
    "- a schema **balances** demands for clarity, uniformity and complexity. Schemas are a (necessary) simplification. It is hard to agree on a standard/schema and there will always be some reduction, harm to the uniqueness of a document.\n",
    "\n"
   ]
  },
  {
   "cell_type": "markdown",
   "id": "eab1b6f1",
   "metadata": {
    "slideshow": {
     "slide_type": "slide"
    }
   },
   "source": [
    "# Namespaces\n",
    "- Namespaces indicate **provenance** of the element and attributes. \n",
    "- Namespaces avoid **name conflicts**\n",
    "\n",
    "Example of Parliamentary Proceedings:\n",
    "\n",
    "`<root xmlns:dc=\"http://purl.org/dc/elements/1.1/\" xmlns:xsd=\"http://www.w3.org/2001/XMLSchema-datatypes\" xmlns:owl=\"http://www.w3.org/2002/07/owl#\" xmlns:pmd=\"http://www.politicalmashup.nl/docinfo\" xmlns:pm=\"http://www.politicalmashup.nl\" xmlns:dp=\"http://dilipad.history.ac.uk\" xmlns:rdf=\"http://www.w3.org/1999/02/22-rdf-syntax-ns#\" xmlns:html=\"http://www.w3.org/1999/xhtml\" xmlns:dcterms=\"http://purl.org/dc/terms/\" xmlns:xsi=\"http://www.w3.org/2001/XMLSchema-instance\">`\n",
    "\n",
    "`<proceedings xmlns=\"http://www.politicalmashup.nl\" pm:id=\"uk.proc.d.1935-12-03\">`"
   ]
  },
  {
   "cell_type": "markdown",
   "id": "625f860a",
   "metadata": {
    "slideshow": {
     "slide_type": "slide"
    }
   },
   "source": [
    "According the [\"Gentle Introduction\"](https://tei-c.org/release/doc/tei-p5-doc/en/html/SG.html):\n",
    "> If the markup of an XML document is thought of as an expression in some language, then a namespace may be thought of as analogous to the lexicon of that language. "
   ]
  },
  {
   "cell_type": "markdown",
   "id": "7a255207",
   "metadata": {
    "slideshow": {
     "slide_type": "slide"
    }
   },
   "source": [
    "\n",
    "- Namespaces are the **lexicon** of a markup language (`xmlns:pmd=\"`[http://www.politicalmashup.nl/docinfo](https://web.archive.org/web/20190505013425/http://schema.politicalmashup.nl/include/docinfo.html)`\"`)\n",
    "- Prefix signals association with a namespace. (`pm:id=\"uk.proc.d.1935-12-03\"`)\n",
    "- XML documents allows you to combine elements from different namespaces (i.e. you can create your own schema and use to extend existing representations.)"
   ]
  },
  {
   "cell_type": "markdown",
   "id": "bddc1d08",
   "metadata": {
    "slideshow": {
     "slide_type": "slide"
    }
   },
   "source": [
    "## Recap, Why use XML? \n",
    "\n",
    "XML encodes the **structure** of a text and makes **meaningful units explicit** to humans and computers. Such digital representations of a document are useful for digital humanists: we can distinguish elements and treat them differently in our programs. This allows for a more accurate, refined analysis of texts.\n",
    "\n",
    "Now, let's turn from theory to practice..."
   ]
  },
  {
   "cell_type": "markdown",
   "id": "3db4f429",
   "metadata": {
    "slideshow": {
     "slide_type": "slide"
    }
   },
   "source": [
    "# Working with XML in Python\n",
    "\n",
    "- Goal of this tutorial: How to **open, process and extract relevant content from XML documents**\n",
    "- You can also **create** and **validate** XML in Python, but we won't cover this (as said, emphasis on the consumer side)"
   ]
  },
  {
   "cell_type": "markdown",
   "id": "4540e721",
   "metadata": {
    "slideshow": {
     "slide_type": "slide"
    }
   },
   "source": [
    "Python offers [multiple libraries](https://realpython.com/python-xml-parser/) for working with XML but we will use [lxml](https://lxml.de/parsing.html). \n",
    "\n",
    "![lxml](https://lxml.de/python-xml-title.png)"
   ]
  },
  {
   "cell_type": "code",
   "execution_count": null,
   "id": "1e8fc802",
   "metadata": {
    "slideshow": {
     "slide_type": "slide"
    }
   },
   "outputs": [],
   "source": [
    "from lxml import etree\n",
    "print(etree.__doc__)"
   ]
  },
  {
   "cell_type": "markdown",
   "id": "126f203a",
   "metadata": {
    "slideshow": {
     "slide_type": "slide"
    }
   },
   "source": [
    "## Toy Example\n",
    "### The Extended Anthology\n",
    "\n",
    "XML is a **tree**."
   ]
  },
  {
   "cell_type": "code",
   "execution_count": null,
   "id": "fd1eb27d",
   "metadata": {
    "slideshow": {
     "slide_type": "fragment"
    }
   },
   "outputs": [],
   "source": [
    "xml_string = \"\"\"\n",
    "<anthology>\n",
    " <poem id='1' \n",
    "      author='Blake, William.'\n",
    "      date='1794'>\n",
    "  <heading id='1.1'>The SICK ROSE</heading>\n",
    "  <stanza id='1.2'>\n",
    "   <line id='1.2.1'>O Rose thou art sick.</line>\n",
    "   <line id='1.2.2'>The invisible worm,</line>\n",
    "   <line id='1.2.3'>That flies in the night</line>\n",
    "   <line id='1.2.4'>In the howling storm:</line>\n",
    "  </stanza>\n",
    "  <stanza id='1.3'>\n",
    "   <line id='1.3.1'>Has found out thy bed</line>\n",
    "   <line id='1.3.2'>Of crimson joy:</line>\n",
    "   <line id='1.3.3'>And his dark secret love</line>\n",
    "   <line id='1.3.4'>Does thy life destroy.</line>\n",
    "  </stanza>\n",
    " </poem>\n",
    " <poem id='2'\n",
    "     author='Shakespeare, William.' >\n",
    "    <heading id='2.1'>Sonnet 106</heading>\n",
    "    <stanza id='2.1'>\n",
    "        <line id='2.2.1'>When in the chronicle of wasted time</line>\n",
    "        <line id='2.2.1'>I see descriptions of the fairest wights,</line>\n",
    "        <line id='2.2.1'>And beauty making beautiful old rhyme</line>\n",
    "        <line id='2.2.1'>In praise of ladies dead, and lovely knights,</line>\n",
    "     </stanza>\n",
    "  </poem> \n",
    "</anthology>\n",
    "\"\"\"\n",
    "              "
   ]
  },
  {
   "cell_type": "code",
   "execution_count": null,
   "id": "2c132cfe",
   "metadata": {
    "slideshow": {
     "slide_type": "slide"
    }
   },
   "outputs": [],
   "source": [
    "# etree will convert a string to a tree this is called parsing\n",
    "from io import StringIO\n",
    "tree = etree.parse(StringIO(xml_string)) "
   ]
  },
  {
   "cell_type": "markdown",
   "id": "86a5b2dc",
   "metadata": {
    "slideshow": {
     "slide_type": "slide"
    }
   },
   "source": [
    "![tree](https://tei-c.org/release/doc/tei-p5-doc/en/html/Images/xmlFlowChart.png)"
   ]
  },
  {
   "cell_type": "code",
   "execution_count": null,
   "id": "e0a2e604",
   "metadata": {
    "slideshow": {
     "slide_type": "slide"
    }
   },
   "outputs": [],
   "source": [
    "# what goodies are attached to a tree object?\n",
    "help(tree)"
   ]
  },
  {
   "cell_type": "code",
   "execution_count": null,
   "id": "b3afd361",
   "metadata": {
    "slideshow": {
     "slide_type": "slide"
    }
   },
   "outputs": [],
   "source": [
    "# iterate over all elements\n",
    "for i in tree.getiterator(): print(i)"
   ]
  },
  {
   "cell_type": "code",
   "execution_count": null,
   "id": "64cbf99b",
   "metadata": {
    "slideshow": {
     "slide_type": "slide"
    }
   },
   "outputs": [],
   "source": [
    "# explore tree structure\n",
    "root = tree.getroot()\n",
    "len(root) # we only have two poems in anthology"
   ]
  },
  {
   "cell_type": "code",
   "execution_count": null,
   "id": "04f68ff1",
   "metadata": {
    "slideshow": {
     "slide_type": "slide"
    }
   },
   "outputs": [],
   "source": [
    "# first poem\n",
    "root[0]"
   ]
  },
  {
   "cell_type": "code",
   "execution_count": null,
   "id": "294d4314",
   "metadata": {
    "slideshow": {
     "slide_type": "fragment"
    }
   },
   "outputs": [],
   "source": [
    "# second poem\n",
    "root[1]"
   ]
  },
  {
   "cell_type": "code",
   "execution_count": null,
   "id": "26a54a8d",
   "metadata": {
    "slideshow": {
     "slide_type": "fragment"
    }
   },
   "outputs": [],
   "source": [
    "# second stanza of the second poem\n",
    "# stanza is the child of poem\n",
    "root[1][1]"
   ]
  },
  {
   "cell_type": "code",
   "execution_count": null,
   "id": "742bdf0a",
   "metadata": {
    "slideshow": {
     "slide_type": "slide"
    }
   },
   "outputs": [],
   "source": [
    "# each element has different __Python__ attributes\n",
    "root[1][1].tag"
   ]
  },
  {
   "cell_type": "code",
   "execution_count": null,
   "id": "aa03c5a2",
   "metadata": {
    "slideshow": {
     "slide_type": "fragment"
    }
   },
   "outputs": [],
   "source": [
    "# why is this empty?\n",
    "root[1][1].text"
   ]
  },
  {
   "cell_type": "code",
   "execution_count": null,
   "id": "0761a5c3",
   "metadata": {
    "slideshow": {
     "slide_type": "fragment"
    }
   },
   "outputs": [],
   "source": [
    "# text only get the text directly enclosed by the tag\n",
    "root[1][1][2].text"
   ]
  },
  {
   "cell_type": "code",
   "execution_count": null,
   "id": "22636b4d",
   "metadata": {
    "slideshow": {
     "slide_type": "slide"
    }
   },
   "outputs": [],
   "source": [
    "# print the second stanze of the first poem\n",
    "print(etree.tostring(root[0][1],method='text',encoding='unicode'))"
   ]
  },
  {
   "cell_type": "code",
   "execution_count": null,
   "id": "4e59297e",
   "metadata": {
    "slideshow": {
     "slide_type": "slide"
    }
   },
   "outputs": [],
   "source": [
    "#attributes are stored as a dictionary\n",
    "root[0].attrib"
   ]
  },
  {
   "cell_type": "code",
   "execution_count": null,
   "id": "5837fe9b",
   "metadata": {
    "slideshow": {
     "slide_type": "fragment"
    }
   },
   "outputs": [],
   "source": [
    "root[0].attrib['author']"
   ]
  },
  {
   "cell_type": "markdown",
   "id": "4c44b817",
   "metadata": {
    "slideshow": {
     "slide_type": "slide"
    }
   },
   "source": [
    "### ✏️ 1. Exercises.\n",
    "\n",
    "- Convert the small dialogue below to an XML document, using the tags: `dialogue`, `speech_turn`, `line`\n",
    "- add a name attribute to each speech_turn as well as an unique identifier for each actor\n",
    "- add identifiers to each element similarly to the anthology example\n",
    "- save the XML document as a string in a variable called `xml_dialogue`\n",
    "- parse the string with and save the Element Tree in a new variable\n",
    "- print the text of the second line"
   ]
  },
  {
   "cell_type": "markdown",
   "id": "c7961818",
   "metadata": {
    "slideshow": {
     "slide_type": "slide"
    }
   },
   "source": [
    "```\n",
    "George: “You’re gonna over-dry your laundry.”\n",
    "Jerry: “You can’t over-dry.”\n",
    "George: “Why not?”\n",
    "Jerry: “Same reason you can’t over-wet.”\n",
    "```\n",
    "![seinfeld](https://media.giphy.com/media/14dXclYKbx2ONW/giphy.gif)"
   ]
  },
  {
   "cell_type": "code",
   "execution_count": null,
   "id": "1f61a3a1",
   "metadata": {
    "slideshow": {
     "slide_type": "slide"
    }
   },
   "outputs": [],
   "source": [
    "# add your answer here"
   ]
  },
  {
   "cell_type": "markdown",
   "id": "99174f72",
   "metadata": {
    "slideshow": {
     "slide_type": "slide"
    }
   },
   "source": [
    "## Realistic Example\n",
    "### UK Parliamentary Debates on Abortion (29th June 1967)\n",
    "\n",
    "Political Mashup's schema for [parliamentary proceedings](https://web.archive.org/web/20170504021953/http://schema.politicalmashup.nl/schemas.html)."
   ]
  },
  {
   "cell_type": "code",
   "execution_count": null,
   "id": "e21bae69",
   "metadata": {
    "slideshow": {
     "slide_type": "fragment"
    }
   },
   "outputs": [],
   "source": [
    "with open('xml_examples/uk.proc.d.1967-06-29.xml','rb') as in_xml:\n",
    "    tree = etree.parse(in_xml)"
   ]
  },
  {
   "cell_type": "code",
   "execution_count": null,
   "id": "bc087801",
   "metadata": {
    "slideshow": {
     "slide_type": "slide"
    }
   },
   "outputs": [],
   "source": [
    "root = tree.getroot()"
   ]
  },
  {
   "cell_type": "code",
   "execution_count": null,
   "id": "0b7020d9",
   "metadata": {
    "slideshow": {
     "slide_type": "fragment"
    }
   },
   "outputs": [],
   "source": [
    "len(root), type(root)"
   ]
  },
  {
   "cell_type": "markdown",
   "id": "45082e68",
   "metadata": {
    "slideshow": {
     "slide_type": "slide"
    }
   },
   "source": [
    "## Elements are lists"
   ]
  },
  {
   "cell_type": "code",
   "execution_count": null,
   "id": "9fb700ad",
   "metadata": {
    "slideshow": {
     "slide_type": "fragment"
    }
   },
   "outputs": [],
   "source": [
    "for element in root:\n",
    "    print(element.tag)"
   ]
  },
  {
   "cell_type": "code",
   "execution_count": null,
   "id": "22c67fa3",
   "metadata": {
    "slideshow": {
     "slide_type": "fragment"
    }
   },
   "outputs": [],
   "source": [
    "proceedings = root[2]"
   ]
  },
  {
   "cell_type": "code",
   "execution_count": null,
   "id": "172e9627",
   "metadata": {
    "slideshow": {
     "slide_type": "fragment"
    }
   },
   "outputs": [],
   "source": [
    "proceedings[2]"
   ]
  },
  {
   "cell_type": "code",
   "execution_count": null,
   "id": "2bf5a5a9",
   "metadata": {
    "slideshow": {
     "slide_type": "fragment"
    }
   },
   "outputs": [],
   "source": [
    "proceedings[2][0]"
   ]
  },
  {
   "cell_type": "code",
   "execution_count": null,
   "id": "8dd56d09",
   "metadata": {
    "slideshow": {
     "slide_type": "slide"
    }
   },
   "outputs": [],
   "source": [
    "# you can iterate over these elements as a list to get the children\n",
    "for i,element in enumerate(proceedings[2]):\n",
    "    print(i,element.tag,len(element))"
   ]
  },
  {
   "cell_type": "markdown",
   "id": "7753f058",
   "metadata": {
    "slideshow": {
     "slide_type": "slide"
    }
   },
   "source": [
    "### ✏️ 2. Exercise.\n",
    "- How many paragraphs does the 1st speech in the 7th scene of the 3rd topic contain?\n",
    "- How many words does the first paragraph contain? (You can just use `split()` to divide the string into tokens)."
   ]
  },
  {
   "cell_type": "code",
   "execution_count": null,
   "id": "1bae7cb0",
   "metadata": {
    "slideshow": {
     "slide_type": "fragment"
    }
   },
   "outputs": [],
   "source": [
    "# write answer here"
   ]
  },
  {
   "cell_type": "code",
   "execution_count": null,
   "id": "a3e3d27d",
   "metadata": {
    "slideshow": {
     "slide_type": "slide"
    }
   },
   "outputs": [],
   "source": [
    "# you can iterate over a specific element\n",
    "# notice that we need to define the namespace\n",
    "# for both the element and attribute\n",
    "for element in tree.iter(\"{http://www.politicalmashup.nl}speech\"):\n",
    "    print(element.attrib['{http://www.politicalmashup.nl}id'])"
   ]
  },
  {
   "cell_type": "code",
   "execution_count": null,
   "id": "3000f134",
   "metadata": {
    "slideshow": {
     "slide_type": "slide"
    }
   },
   "outputs": [],
   "source": [
    "# get the namespace mapping\n",
    "nsmap = root.nsmap; nsmap"
   ]
  },
  {
   "cell_type": "markdown",
   "id": "079d641e",
   "metadata": {
    "slideshow": {
     "slide_type": "slide"
    }
   },
   "source": [
    "### ✏️ 3. Exercise.\n",
    "- (Difficult) What is the longest speech in the fourth topic element?"
   ]
  },
  {
   "cell_type": "code",
   "execution_count": null,
   "id": "d3c22ad9",
   "metadata": {},
   "outputs": [],
   "source": [
    "# type answer here"
   ]
  },
  {
   "cell_type": "markdown",
   "id": "819f505a",
   "metadata": {
    "slideshow": {
     "slide_type": "slide"
    }
   },
   "source": [
    "## Elements carry attributes as dictionaries"
   ]
  },
  {
   "cell_type": "code",
   "execution_count": null,
   "id": "91fe0e5b",
   "metadata": {
    "slideshow": {
     "slide_type": "fragment"
    }
   },
   "outputs": [],
   "source": [
    "proceedings[2][6][15].tag,proceedings[2][6][15].attrib"
   ]
  },
  {
   "cell_type": "code",
   "execution_count": null,
   "id": "886551ae",
   "metadata": {
    "slideshow": {
     "slide_type": "slide"
    }
   },
   "outputs": [],
   "source": [
    "# use string formatting for namespaces\n",
    "speech = proceedings[2][6][15]\n",
    "speech.attrib[\"{%s}speaker\" % root.nsmap['pm']]"
   ]
  },
  {
   "cell_type": "code",
   "execution_count": null,
   "id": "637273ef",
   "metadata": {
    "slideshow": {
     "slide_type": "fragment"
    }
   },
   "outputs": [],
   "source": [
    "# it is safer to use .get() method\n",
    "speech.attrib.get(\"{%s}speaker\" % root.nsmap['pm'], '')"
   ]
  },
  {
   "cell_type": "markdown",
   "id": "ba80ba1a",
   "metadata": {
    "slideshow": {
     "slide_type": "slide"
    }
   },
   "source": [
    "### ✏️ 4. Exercise.\n",
    "\n",
    "- Count the number of speeches made by Conservative members during this sitting of Parliament."
   ]
  },
  {
   "cell_type": "code",
   "execution_count": null,
   "id": "07ee156a",
   "metadata": {
    "slideshow": {
     "slide_type": "fragment"
    }
   },
   "outputs": [],
   "source": [
    "# type answer here"
   ]
  },
  {
   "cell_type": "markdown",
   "id": "4ba3290d",
   "metadata": {
    "slideshow": {
     "slide_type": "slide"
    }
   },
   "source": [
    "### ✏️ 5. Exercise.\n",
    "\n",
    "- How often does the Speaker intervene?"
   ]
  },
  {
   "cell_type": "code",
   "execution_count": null,
   "id": "5bb45eef",
   "metadata": {
    "slideshow": {
     "slide_type": "fragment"
    }
   },
   "outputs": [],
   "source": [
    "# type answer here"
   ]
  },
  {
   "cell_type": "markdown",
   "id": "8b99ab39",
   "metadata": {
    "slideshow": {
     "slide_type": "slide"
    }
   },
   "source": [
    "# Find methods"
   ]
  },
  {
   "cell_type": "code",
   "execution_count": null,
   "id": "1b6bcc5a",
   "metadata": {
    "slideshow": {
     "slide_type": "fragment"
    }
   },
   "outputs": [],
   "source": [
    "help(root.find)"
   ]
  },
  {
   "cell_type": "code",
   "execution_count": null,
   "id": "288e5930",
   "metadata": {
    "slideshow": {
     "slide_type": "slide"
    }
   },
   "outputs": [],
   "source": [
    "# note the namespace prefix\n",
    "# .// means from current location (i.e proceedings element)\n",
    "# search for descendant speech element regardless of their \n",
    "# position in the subtree\n",
    "# find only returns the first element\n",
    "nsmap = root.nsmap\n",
    "speeches = root[2].find('.//pm:speech',namespaces=nsmap); speeches"
   ]
  },
  {
   "cell_type": "code",
   "execution_count": null,
   "id": "413bd787",
   "metadata": {
    "slideshow": {
     "slide_type": "fragment"
    }
   },
   "outputs": [],
   "source": [
    "# findall returns all element\n",
    "speeches = root[2].findall('.//pm:speech',namespaces=nsmap); len(speeches)"
   ]
  },
  {
   "cell_type": "markdown",
   "id": "f292142c",
   "metadata": {
    "slideshow": {
     "slide_type": "slide"
    }
   },
   "source": [
    "# Finding Needles and Mining Haystacks with XPath\n",
    "\n",
    "- XPath is a rich language for **querying** and **navigating** elements and attributes in an XML document.\n",
    "    - Elaborate language XPath for defining regions interest in you XML documents.\n",
    "- Select elements, attributes, or text nodes.\n",
    "- XPath uses **path expressions** for querying and XML."
   ]
  },
  {
   "cell_type": "code",
   "execution_count": null,
   "id": "3a94c6be",
   "metadata": {
    "slideshow": {
     "slide_type": "fragment"
    }
   },
   "outputs": [],
   "source": [
    "# first scene of fifth topic\n",
    "# notice that index notation does not start at zero!\n",
    "topic = root.xpath('./pm:proceedings/pm:topic[5]/pm:scene[1]',namespaces=nsmap); topic"
   ]
  },
  {
   "cell_type": "code",
   "execution_count": null,
   "id": "6b4debf4",
   "metadata": {
    "slideshow": {
     "slide_type": "fragment"
    }
   },
   "outputs": [],
   "source": [
    "## first finds the first scene of fifth topic\n",
    "## // means any speech element contained by the third topic\n",
    "speeches = root.xpath('./pm:proceedings/pm:topic[3]//pm:speech',namespaces=nsmap); len(speeches)"
   ]
  },
  {
   "cell_type": "code",
   "execution_count": null,
   "id": "2a7f0eca",
   "metadata": {
    "slideshow": {
     "slide_type": "fragment"
    }
   },
   "outputs": [],
   "source": [
    "# .// from root find all speeches regardless of where they are situated\n",
    "speeches = root.xpath('.//pm:speech',namespaces=nsmap); len(speeches)"
   ]
  },
  {
   "cell_type": "code",
   "execution_count": null,
   "id": "066d6da2",
   "metadata": {
    "slideshow": {
     "slide_type": "slide"
    }
   },
   "outputs": [],
   "source": [
    "# return speeches that contain a particular attribute\n",
    "# in this case speeches with a role attribute\n",
    "speeches = root.xpath('.//pm:speech[@pm:role]',namespaces=nsmap); len(speeches)"
   ]
  },
  {
   "cell_type": "code",
   "execution_count": null,
   "id": "a8a79ed4",
   "metadata": {
    "slideshow": {
     "slide_type": "fragment"
    }
   },
   "outputs": [],
   "source": [
    "# return the attributes themselves not the element\n",
    "speeches = root.xpath('.//pm:speech/@pm:role',namespaces=nsmap); \n",
    "speeches[:10]"
   ]
  },
  {
   "cell_type": "code",
   "execution_count": null,
   "id": "ffbad152",
   "metadata": {
    "slideshow": {
     "slide_type": "fragment"
    }
   },
   "outputs": [],
   "source": [
    "# find speeches where attribute matches a particular value\n",
    "speeches = root[2].xpath('.//pm:speech[@pm:role=\"chair\"]',namespaces=nsmap); len(speeches)"
   ]
  },
  {
   "cell_type": "markdown",
   "id": "830d1390",
   "metadata": {
    "slideshow": {
     "slide_type": "slide"
    }
   },
   "source": [
    "### ✏️ 5. Exercises.\n",
    "\n",
    "- Which parties are participating in this sitting?\n",
    "- How many conservative/labour speeches does the document contain?"
   ]
  },
  {
   "cell_type": "code",
   "execution_count": null,
   "id": "f66ec937",
   "metadata": {
    "slideshow": {
     "slide_type": "fragment"
    }
   },
   "outputs": [],
   "source": [
    "# write answer here"
   ]
  },
  {
   "cell_type": "markdown",
   "id": "7876cbd6",
   "metadata": {
    "slideshow": {
     "slide_type": "slide"
    }
   },
   "source": [
    "## Combining structure and text"
   ]
  },
  {
   "cell_type": "code",
   "execution_count": null,
   "id": "9d3ea61f",
   "metadata": {
    "slideshow": {
     "slide_type": "fragment"
    }
   },
   "outputs": [],
   "source": [
    "# return paragraphs that mention a certain token, in this women\n",
    "mentions = root.xpath(\".//pm:speech/pm:p[contains(text(), 'women')]\",namespaces=nsmap)"
   ]
  },
  {
   "cell_type": "code",
   "execution_count": null,
   "id": "ceb30cd6",
   "metadata": {
    "slideshow": {
     "slide_type": "fragment"
    }
   },
   "outputs": [],
   "source": [
    "# get the fourth mention\n",
    "# move up one level in the tree to get the speech element \n",
    "# and then the speaker name in the attribute\n",
    "mentions[4].getparent().attrib['{http://www.politicalmashup.nl}speaker']"
   ]
  },
  {
   "cell_type": "markdown",
   "id": "8b7132aa",
   "metadata": {
    "slideshow": {
     "slide_type": "slide"
    }
   },
   "source": [
    "### ✏️ 6. Exercises.\n",
    "\n",
    "- Get the title attributes of the topic elements\n",
    "- Formulate an XPath expression that finds the debate (i.e. topic element) on the medical termination of pregnancy bill.\n",
    "- Formulate an XPath expression that finds speeches made by Labour MPs during the debate on the medical termination of pregnancy bill.\n",
    "- Formulate an XPath expression that finds paragraphs in speeches made by Conservative MPs during the debate on the medical termination of pregnancy bill that mentions the word \"women\". Print the content of these paragraphs.\n",
    "- Formulate a query the returns the speech in which the word woman is mentioned. (Difficult, requires some Googling)"
   ]
  },
  {
   "cell_type": "code",
   "execution_count": null,
   "id": "d290efd9",
   "metadata": {
    "slideshow": {
     "slide_type": "fragment"
    }
   },
   "outputs": [],
   "source": [
    "# write answer here"
   ]
  },
  {
   "cell_type": "markdown",
   "id": "38aa3481",
   "metadata": {
    "slideshow": {
     "slide_type": "slide"
    }
   },
   "source": [
    "### ✏️ 7. Exercise\n",
    "- (Difficult) Make a small program that computes word frequencies by party (only Labour and Conservative is fine).\n",
    "- (Difficult) Can you calculate if the probability of mentioning \"woman\" or \"women\" differs by party? The probability in this case is just the frequency of the word \"woman\" divided by the total number of words spoken by a certain party."
   ]
  },
  {
   "cell_type": "markdown",
   "id": "3508a80d",
   "metadata": {},
   "source": [
    "# Fin."
   ]
  }
 ],
 "metadata": {
  "celltoolbar": "Slideshow",
  "kernelspec": {
   "display_name": "Python 3 (ipykernel)",
   "language": "python",
   "name": "python3"
  },
  "language_info": {
   "codemirror_mode": {
    "name": "ipython",
    "version": 3
   },
   "file_extension": ".py",
   "mimetype": "text/x-python",
   "name": "python",
   "nbconvert_exporter": "python",
   "pygments_lexer": "ipython3",
   "version": "3.9.7"
  }
 },
 "nbformat": 4,
 "nbformat_minor": 5
}
