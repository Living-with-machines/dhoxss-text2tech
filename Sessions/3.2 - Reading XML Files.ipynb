{
 "cells": [
  {
   "cell_type": "markdown",
   "id": "73e19d6b",
   "metadata": {
    "slideshow": {
     "slide_type": "slide"
    }
   },
   "source": [
    "# An introduction to Text Encoding and XML"
   ]
  },
  {
   "cell_type": "markdown",
   "id": "f5736e29",
   "metadata": {
    "slideshow": {
     "slide_type": "slide"
    }
   },
   "source": [
    "# 1. Introduction\n",
    "\n",
    "Goals of this lecture:\n",
    "- **What** is XML and why is it **useful** for text-based DH?\n",
    "- How to **read and navigate** XML documents in **Python**\n",
    "- How to **search** in and **extract** information from XML documents.\n",
    "\n",
    "Lecture and notebook based on [A Very Gentle Introduction to XML](https://www.tei-c.org/Vault/P4/doc/html/SG.html) part of the [Text Encoding Initiative](https://tei-c.org/) (or TEI). \n",
    "\n",
    "List of [projects](https://tei-c.org/Activities/Projects/) using TEI.\n"
   ]
  },
  {
   "cell_type": "markdown",
   "id": "19de9af2",
   "metadata": {
    "slideshow": {
     "slide_type": "slide"
    }
   },
   "source": [
    "**Question to the sceptical hamster: Is XML scary? \n",
    "\n",
    "Siberian saphire hamster\n",
    "\n",
    "\n",
    "![](https://debeste.de/upload/51795a52ac20c074a8de79e35c14a90a1159.jpg)"
   ]
  },
  {
   "cell_type": "markdown",
   "id": "76c74ef9",
   "metadata": {
    "slideshow": {
     "slide_type": "slide"
    }
   },
   "source": [
    "![](https://media.giphy.com/media/ej1127nuAfGxoZnWTb/giphy.gif)"
   ]
  },
  {
   "cell_type": "markdown",
   "id": "4d3faaf5",
   "metadata": {
    "slideshow": {
     "slide_type": "slide"
    }
   },
   "source": [
    "## 1.1 Toy Example(s)\n",
    "\n",
    "To understand XML it is worthwile spending some time simply looking at examples.\n",
    "\n",
    "XML is an information **tree**.\n",
    "\n",
    "```xml\n",
    "<anthology>\n",
    "    <poem id='1' \n",
    "      author='Blake, William.'\n",
    "      date='1794'>\n",
    "      <heading id='1.1'>The SICK ROSE</heading>\n",
    "      <stanza id='1.2'>\n",
    "           <line id='1.2.1'>O Rose thou art sick.</line>\n",
    "           <line id='1.2.2'>The invisible worm,</line>\n",
    "           <line id='1.2.3'>That flies in the night</line>\n",
    "           <line id='1.2.4'>In the howling storm:</line>\n",
    "      </stanza>\n",
    "      <stanza id='1.3'>\n",
    "           <line id='1.3.1'>Has found out thy bed</line>\n",
    "           <line id='1.3.2'>Of crimson joy:</line>\n",
    "           <line id='1.3.3'>And his dark secret love</line>\n",
    "           <line id='1.3.4'>Does thy life destroy.</line>\n",
    "      </stanza>\n",
    "    </poem>\n",
    "    <poem id='2'\n",
    "     author='Shakespeare, William.' >\n",
    "        <heading id='2.1'>Sonnet 106</heading>\n",
    "      <stanza id='2.1'>\n",
    "        <line id='2.2.1'>When in the chronicle of wasted time</line>\n",
    "        <line id='2.2.1'>I see descriptions of the fairest wights,</line>\n",
    "        <line id='2.2.1'>And beauty making beautiful old rhyme</line>\n",
    "        <line id='2.2.1'>In praise of ladies dead, and lovely knights,</line>\n",
    "     </stanza>\n",
    "  </poem> \n",
    "</anthology>\n",
    "```"
   ]
  },
  {
   "cell_type": "markdown",
   "id": "86a5b2dc",
   "metadata": {
    "slideshow": {
     "slide_type": "slide"
    }
   },
   "source": [
    "![tree](https://tei-c.org/release/doc/tei-p5-doc/en/html/Images/xmlFlowChart.png)"
   ]
  },
  {
   "cell_type": "markdown",
   "id": "dd8fb3c3",
   "metadata": {
    "slideshow": {
     "slide_type": "slide"
    }
   },
   "source": [
    "Another example, showing metadata for historical newspaper articles\n",
    "\n",
    "```xml\n",
    "<?xml version=\"1.0\"?>\n",
    "<lwm>\n",
    "  <process>\n",
    "    <lwm_tool>\n",
    "      <name>extract_text</name>\n",
    "      <version>0.3.0</version>\n",
    "      <source>https://github.com/alan-turing-institute/Living-with-Machines-code</source>\n",
    "    </lwm_tool>\n",
    "    <source_type>newspaper</source_type>\n",
    "    <xml_flavour>alto</xml_flavour>\n",
    "    <software>CCS docWorks/METAe Version 7.1-0</software>\n",
    "    <input_sub_path>0002247/1863/1010</input_sub_path>\n",
    "    <input_filename>0002247_18631010_mets.xml</input_filename>\n",
    "    <mets_namespace>http://www.loc.gov/METS/ http://www.loc.gov/standards/mets/version18/mets.xsd info:lc/xmlns/premis-v2 http://www.loc.gov/standards/premis/v2/premis-v2-0.xsd http://www.loc.gov/mods/v3 http://www.loc.gov/standards/mods/v3/mods-3-2.xsd</mets_namespace>\n",
    "    <alto_namespace>http://schema.ccs-gmbh.com/docworks/alto-1-4.xsd</alto_namespace>\n",
    "  </process>\n",
    "  <publication id=\"0002247\">\n",
    "    <source>British Library Heritage Made Digital Newspapers</source>\n",
    "    <title>The Bee-Hive :</title>\n",
    "    <location>London, England</location>\n",
    "    <issue id=\"1863-10-10\">\n",
    "      <date>1863-10-10</date>\n",
    "      <item id=\"art0101\">\n",
    "        <plain_text_file>0002247_18631010_art0101.txt</plain_text_file>\n",
    "        <title>gtt ginthon Marlats.</title>\n",
    "        <item_type>ARTICLE</item_type>\n",
    "        <word_count>125</word_count>\n",
    "        <ocr_quality_mean>0.9591</ocr_quality_mean>\n",
    "        <ocr_quality_sd>0.1138</ocr_quality_sd>\n",
    "      </item>\n",
    "    </issue>\n",
    "  </publication>\n",
    "</lwm>\n",
    "\n",
    "```"
   ]
  },
  {
   "cell_type": "markdown",
   "id": "3c7ab426",
   "metadata": {},
   "source": [
    "### ✏️ Exercise\n",
    "\n",
    "Go to this online [XML viewer](https://jsonformatter.org/xml-viewer) and copy paste the above example and press \"Validate\". Explore the XML tree.\n",
    "\n"
   ]
  },
  {
   "cell_type": "markdown",
   "id": "03b22d61",
   "metadata": {
    "slideshow": {
     "slide_type": "slide"
    }
   },
   "source": [
    "# 3. Why XML?\n",
    "\n",
    "## 3.1 Markup\n",
    "\n",
    "**XML stands for \"eXtensible Markup Language\"**\n",
    "\n",
    "Why add markup to a text document?\n",
    "- XML categorizes chunks of text into different (semantic) units.\n",
    "- With XML we can articulate an **interpretation** of text through **encoding**\n",
    "- Importantly, XML doesn't **do** anything (that's up to Python) it only marks things up\n",
    "    \n",
    "From the TEI tutorial:\n",
    "> \"it is a process of making explicit what is conjectural or implicit, a process of directing the user as to how the content of the text should be (or has been) interpreted.\"\n",
    "\n",
    "Historically, XML and Text Encoding central to research in digital humanities. However, less important today but you are still likely to encounter it at some points (depends also where you are situated in the DH universe).\n",
    "\n",
    "For these reasons, we still teach some basics but prefer to talk about other stuff in general."
   ]
  },
  {
   "cell_type": "markdown",
   "id": "4b19447c",
   "metadata": {
    "slideshow": {
     "slide_type": "slide"
    }
   },
   "source": [
    "What does it actually mean **\"articulate an interpretation of text through encoding\".**\n",
    "\n",
    "To give a concrete example, let's work with a snippet of parliamentary speech."
   ]
  },
  {
   "cell_type": "markdown",
   "id": "e29aecb9",
   "metadata": {
    "slideshow": {
     "slide_type": "slide"
    }
   },
   "source": [
    "Mr. ATTLEE: I would like at the outset to associate myself with the sympathy expressed by the hon. Member who moved this Address with regard to the cause of the absence of His Majesty from our proceedings to-day. The PRIME MINISTER (Mr. Baldwin): Reference has been made by the Mover of the Address and by the right hon. Gentleman the Leader of the Opposition to the grievous loss which has befallen His Majesty."
   ]
  },
  {
   "cell_type": "markdown",
   "id": "1de075d7",
   "metadata": {
    "slideshow": {
     "slide_type": "slide"
    }
   },
   "source": [
    "By reading this snippet as just a sequence of words we'd loose a lot valuable **context information**.\n",
    "- Instead of a long, uninterrupted text, this snippet captures a specific type of discourse event, a debate between individual politicians\n",
    "- Not all words are spoken text, some refer to names of politicians.\n",
    "- It is an instance of parliamentary speech.\n",
    "\n",
    "\n",
    "We can make this interpretation explicit through encoding."
   ]
  },
  {
   "cell_type": "markdown",
   "id": "fec449ff",
   "metadata": {
    "slideshow": {
     "slide_type": "fragment"
    }
   },
   "source": [
    "<proceeding>\n",
    "    <speaker>Mr. ATTLEE:</speaker>\n",
    "     <speech>\n",
    "            <p>I would like at the outset to associate myself with the sympathy expressed by the hon. Member who moved this Address with regard to the cause of the absence of His Majesty from our proceedings to-day.\n",
    "            </p>\n",
    "    </speech>\n",
    "    <speaker>The PRIME MINISTER (Mr. Baldwin):</speaker>\n",
    "    <speech>\n",
    "            <p>Reference has been made by the Mover of the Address and by the right hon. Gentleman the Leader of the Opposition to the grievous loss which has befallen His Majesty. \n",
    "            </p>\n",
    "    </speech>\n",
    "</proceeding>"
   ]
  },
  {
   "cell_type": "markdown",
   "id": "d3ee564e",
   "metadata": {
    "slideshow": {
     "slide_type": "slide"
    }
   },
   "source": [
    "Why XML important for DH research?"
   ]
  },
  {
   "cell_type": "markdown",
   "id": "0c1812df",
   "metadata": {
    "slideshow": {
     "slide_type": "slide"
    }
   },
   "source": [
    "## 3.2 Extensible\n",
    "- XML defines the **rules/conventions** for encoding a text \n",
    "    - which tags are allowed (speaker, speech)\n",
    "    - articulate relations between tags (paragraph embedded in speech tag)\n",
    "- XML is **extensible** because it allows you to define a new (or refine an existing) set of tags (it is not a set of predefined tags like HTML).\n",
    "- XML is a **\"metalanguage\"** (a language for **describing** markup languages)."
   ]
  },
  {
   "cell_type": "markdown",
   "id": "de038ccc",
   "metadata": {
    "slideshow": {
     "slide_type": "slide"
    }
   },
   "source": [
    "Summary so far:\n",
    "- XML is **human** and **machine** readable (it aligns humanistic interpretation of document with machine processing)\n",
    "- **Encoding** text means adding a layer of annotation (enclosing text segments with tags)\n",
    "- TEI aims to encode the **meaning of data** (not just **formal** (page breaks) or **procedural** (font type). \n",
    "\n",
    "**It captures and communicates what is actually going on in a piece of text.**"
   ]
  },
  {
   "cell_type": "markdown",
   "id": "f271b385",
   "metadata": {
    "slideshow": {
     "slide_type": "slide"
    }
   },
   "source": [
    "In this session:\n",
    "\n",
    "- Introduce the building blocks of XML.\n",
    "- Focus on **working** with XML documents (XML for the **consumer** side)\n",
    "- We explore scenarios where you encounter **text encoded in XML**, and how to make use of the **structure** provided by XML."
   ]
  },
  {
   "cell_type": "markdown",
   "id": "23933def",
   "metadata": {},
   "source": [
    "# 4. XML building blocks"
   ]
  },
  {
   "cell_type": "markdown",
   "id": "5de725b2",
   "metadata": {
    "slideshow": {
     "slide_type": "slide"
    }
   },
   "source": [
    "## 4.1 Elements\n",
    "\n",
    "**XML Elements** emerge as the principal building blocks of a document (i.e. the units that structure a document): `<speaker>Mr. ATTLEE:</speaker>`\n",
    "\n",
    "- Everything from the start and end tag is called an element.\n",
    "- Each element must be **explicitly tagged** (elements **must** have a closing tag.).\n",
    "- Elements can contain other elements, text or a combination of the two.\n"
   ]
  },
  {
   "cell_type": "markdown",
   "id": "7ea6d6b2",
   "metadata": {
    "slideshow": {
     "slide_type": "slide"
    }
   },
   "source": [
    "> Mr. ATTLEE: I would like at the outset to associate myself with the sympathy expressed by the hon. Member who moved this Address with regard to the cause of the absence of His Majesty from our proceedings to-day."
   ]
  },
  {
   "cell_type": "markdown",
   "id": "c8d5e5ea",
   "metadata": {
    "slideshow": {
     "slide_type": "fragment"
    }
   },
   "source": [
    "`Mr. ATTLEE: <p>I would like at the outset to associate myself with the sympathy expressed by the hon. Member who moved this Address with regard to the cause of the absence of His Majesty from our proceedings to-day.</p>`"
   ]
  },
  {
   "cell_type": "markdown",
   "id": "871e6e76",
   "metadata": {
    "slideshow": {
     "slide_type": "slide"
    }
   },
   "source": [
    "- Elements can be **contained/nested** within each other."
   ]
  },
  {
   "cell_type": "markdown",
   "id": "fb7a44a1",
   "metadata": {
    "slideshow": {
     "slide_type": "fragment"
    }
   },
   "source": [
    "<proceeding>\n",
    "    <speaker>Mr. ATTLEE:</speaker>\n",
    "    <speech>\n",
    "            <p>I would like at the outset to associate myself with the sympathy expressed by the hon. Member who moved this Address with regard to the cause of the absence of His Majesty from our proceedings to-day.\n",
    "            </p>\n",
    "    </speech>\n",
    "    <speaker>The PRIME MINISTER (Mr. Baldwin):</speaker>\n",
    "    <speech>\n",
    "            <p>Reference has been made by the Mover of the Address and by the right hon. Gentleman the Leader of the Opposition to the grievous loss which has befallen His Majesty. \n",
    "            </p>\n",
    "    </speech>\n",
    "</proceeding>"
   ]
  },
  {
   "cell_type": "markdown",
   "id": "791cee84",
   "metadata": {
    "slideshow": {
     "slide_type": "slide"
    }
   },
   "source": [
    "- tree relations: parent - child - sibling"
   ]
  },
  {
   "cell_type": "markdown",
   "id": "35e3563c",
   "metadata": {
    "slideshow": {
     "slide_type": "fragment"
    }
   },
   "source": [
    "<root> # parent\n",
    "    <child>Mr. ATTLEE:</child> #child\n",
    "    <child-sibling> # sibling\n",
    "            <subchild>I would like at the outset to associate myself with the sympathy expressed by the hon. Member who moved this Address with regard to the cause of the absence of His Majesty from our proceedings to-day.\n",
    "            </subchild>\n",
    "    </child-sibling>\n",
    "</root>"
   ]
  },
  {
   "cell_type": "markdown",
   "id": "f30ad1c0",
   "metadata": {
    "slideshow": {
     "slide_type": "slide"
    }
   },
   "source": [
    "\n",
    "\n",
    "To be **syntactically** correct:\n",
    "- Each element contained by the root element\n",
    "- No partial overlaps between elements\n",
    "- Tags mark start and end of each element. Tags must be closed."
   ]
  },
  {
   "cell_type": "markdown",
   "id": "6a8c051d",
   "metadata": {
    "slideshow": {
     "slide_type": "slide"
    }
   },
   "source": [
    "## 4.2 Attributes\n",
    "\n",
    "- **Elements** structure what is **implicit**, the **attributes** often enrich this structure by adding information that is **absent**. \n",
    "- XML syntax for encoding information not the text itself. \n",
    "\n",
    "Double click on cell below to see an example:"
   ]
  },
  {
   "cell_type": "markdown",
   "id": "5045428e",
   "metadata": {
    "slideshow": {
     "slide_type": "fragment"
    }
   },
   "source": [
    "<speech pm:speaker=\"Mr. ATTLEE\" \n",
    "        pm:party=\"Labour\" \n",
    "        pm:role=\"mp\" \n",
    "        pm:party-ref=\"uk.p.Lab\" \n",
    "        pm:member-ref=\"uk.m.16522\" \n",
    "        pm:id=\"uk.proc.d.1935-12-03.3.10.6\" \n",
    "        dp:time=\"15:38:00\">\n",
    "    <p pm:id=\"uk.proc.d.1935-12-03.3.10.6.1\">I would like at the outset to associate myself with the sympathy expressed by the hon. Member who moved this Address with regard to the cause of the absence of His Majesty from our proceedings to-day.\n",
    "    </p>\n",
    "</speech>"
   ]
  },
  {
   "cell_type": "markdown",
   "id": "8f073c9c",
   "metadata": {
    "slideshow": {
     "slide_type": "slide"
    }
   },
   "source": [
    "\n",
    "- Generally, attributes capture information that is \"descriptive of an element but not part of its content\" (e.g. identifiers.)\n",
    "- Attributes must be **quoted**\n",
    "- Attributes are embedded in the **start tag** (no attributes in the end-tag.)"
   ]
  },
  {
   "cell_type": "markdown",
   "id": "57d61bdd",
   "metadata": {
    "slideshow": {
     "slide_type": "slide"
    }
   },
   "source": [
    "## 4.3 Advanced: Schemas\n",
    "\n",
    "- Documents are considered a belonging to a specific type (\"academic paper\", \"novel\", \"parliamentary proceedings\", etc).\n",
    "- Validity assessed in relation to a schema (**Document Type Definition**). \n",
    "- Schema defines the constituent parts and their relations (in what arrangements can elements appear).\n",
    "- Example of Political Mashup's schema for [parliamentary proceedings](https://web.archive.org/web/20170504021953/http://schema.politicalmashup.nl/schemas.html).\n"
   ]
  },
  {
   "cell_type": "markdown",
   "id": "74fcc844",
   "metadata": {
    "slideshow": {
     "slide_type": "slide"
    }
   },
   "source": [
    "**Anthology**  an example taken from [TEI](https://tei-c.org/release/doc/tei-p5-doc/en/html/SG.html#:~:text=XML%20is%20widely%20used%20for,on%20the%20World%20Wide%20Web.)"
   ]
  },
  {
   "cell_type": "markdown",
   "id": "f723cfd6",
   "metadata": {
    "slideshow": {
     "slide_type": "slide"
    }
   },
   "source": [
    "<anthology>\n",
    " <poem>\n",
    "  <heading>The SICK ROSE</heading>\n",
    "  <stanza>\n",
    "   <line>O Rose thou art sick.</line>\n",
    "   <line>The invisible worm,</line>\n",
    "   <line>That flies in the night</line>\n",
    "   <line>In the howling storm:</line>\n",
    "  </stanza>\n",
    "  <stanza>\n",
    "   <line>Has found out thy bed</line>\n",
    "   <line>Of crimson joy:</line>\n",
    "   <line>And his dark secret love</line>\n",
    "   <line>Does thy life destroy.</line>\n",
    "  </stanza>\n",
    " </poem>\n",
    "<!-- more poems go here -->\n",
    "</anthology>\n",
    "              "
   ]
  },
  {
   "cell_type": "raw",
   "id": "5e586a08",
   "metadata": {
    "slideshow": {
     "slide_type": "slide"
    }
   },
   "source": [
    "relag.ng schema for anthology\n",
    "\n",
    "anthology_p = element anthology { poem_p+ } # anthology element can contain multiple poems\n",
    "poem_p = element poem { heading_p?, stanza_p+ } # can can have a heading and contain multiple stanzas\n",
    "stanza_p = element stanza {line_p+} # stanzas contain lines\n",
    "heading_p = element heading { text } # heading contains text\n",
    "line_p = element line { text } # lines contain text\n"
   ]
  },
  {
   "cell_type": "markdown",
   "id": "cdf3cc12",
   "metadata": {
    "slideshow": {
     "slide_type": "slide"
    }
   },
   "source": [
    "\n",
    "In short, schemas:\n",
    "- **are a formal representation of a document's structure**\n",
    "-  govern which **elements** are **allowed** and how they can be **arranged** (relation between element, i.e. speech can contain paragraph etc.)\n",
    "- are an **interpretation** of the structure source types.\n",
    "- a schema **balances** demands for clarity, uniformity and complexity. Schemas are a (necessary) simplification. It is hard to agree on a standard/schema and there will always be some reduction, harm to the uniqueness of a document.\n",
    "\n"
   ]
  },
  {
   "cell_type": "markdown",
   "id": "eab1b6f1",
   "metadata": {
    "slideshow": {
     "slide_type": "slide"
    }
   },
   "source": [
    "## 4.4 Advanced: Namespaces\n",
    "- Namespaces indicate **provenance** of the element and attributes. \n",
    "- Namespaces avoid **name conflicts**."
   ]
  },
  {
   "cell_type": "markdown",
   "id": "70b345b1",
   "metadata": {
    "slideshow": {
     "slide_type": "slide"
    }
   },
   "source": [
    "Example of Parliamentary Proceedings:\n",
    "\n",
    "`<root xmlns:dc=\"http://purl.org/dc/elements/1.1/\" xmlns:xsd=\"http://www.w3.org/2001/XMLSchema-datatypes\" xmlns:owl=\"http://www.w3.org/2002/07/owl#\" xmlns:pmd=\"http://www.politicalmashup.nl/docinfo\" xmlns:pm=\"http://www.politicalmashup.nl\" xmlns:dp=\"http://dilipad.history.ac.uk\" xmlns:rdf=\"http://www.w3.org/1999/02/22-rdf-syntax-ns#\" xmlns:html=\"http://www.w3.org/1999/xhtml\" xmlns:dcterms=\"http://purl.org/dc/terms/\" xmlns:xsi=\"http://www.w3.org/2001/XMLSchema-instance\">`\n",
    "\n",
    "`<proceedings xmlns=\"http://www.politicalmashup.nl\" pm:id=\"uk.proc.d.1935-12-03\">`"
   ]
  },
  {
   "cell_type": "markdown",
   "id": "625f860a",
   "metadata": {
    "slideshow": {
     "slide_type": "slide"
    }
   },
   "source": [
    "According the [\"Gentle Introduction\"](https://tei-c.org/release/doc/tei-p5-doc/en/html/SG.html):\n",
    "> If the markup of an XML document is thought of as an expression in some language, then a namespace may be thought of as analogous to the lexicon of that language. "
   ]
  },
  {
   "cell_type": "markdown",
   "id": "7a255207",
   "metadata": {
    "slideshow": {
     "slide_type": "slide"
    }
   },
   "source": [
    "\n",
    "- Namespaces are the **lexicon** of a markup language (`xmlns:pm=\"`[http://www.politicalmashup.nl](https://web.archive.org/web/20190505013425/http://www.politicalmashup.nl)`\"`)\n",
    "- Prefix signals **association** with a namespace. (`pm:id=\"uk.proc.d.1935-12-03\"` or `pm:party=\"Labour\"`)\n",
    "- XML documents allow you to **combine** elements from different namespaces (i.e. you can create your own schema and use to extend existing representations.)"
   ]
  },
  {
   "cell_type": "markdown",
   "id": "bddc1d08",
   "metadata": {
    "slideshow": {
     "slide_type": "slide"
    }
   },
   "source": [
    "\n",
    "Now, let's turn from theory to practice..."
   ]
  },
  {
   "cell_type": "markdown",
   "id": "3db4f429",
   "metadata": {
    "slideshow": {
     "slide_type": "slide"
    }
   },
   "source": [
    "# 5. Working with XML in Python\n",
    "\n",
    "- Goal of this tutorial: How to **open, process and extract relevant content from XML documents**\n",
    "- You can also **create** and **validate** XML in Python, but we will cover this in less detail (as said, emphasis on the consumer side)"
   ]
  },
  {
   "cell_type": "markdown",
   "id": "4540e721",
   "metadata": {
    "slideshow": {
     "slide_type": "slide"
    }
   },
   "source": [
    "Python offers [multiple libraries](https://realpython.com/python-xml-parser/) for working with XML but we will use [lxml](https://lxml.de/parsing.html). \n",
    "\n",
    "![lxml](https://lxml.de/python-xml-title.png)\n",
    "\n",
    "Similar to Pandas, lxml provides many tools for parsing and traversing XML-type tree-structured documents."
   ]
  },
  {
   "cell_type": "code",
   "execution_count": 3,
   "id": "1e8fc802",
   "metadata": {
    "slideshow": {
     "slide_type": "slide"
    }
   },
   "outputs": [
    {
     "name": "stdout",
     "output_type": "stream",
     "text": [
      "\n",
      "The ``lxml.etree`` module implements the extended ElementTree API for XML.\n",
      "\n"
     ]
    }
   ],
   "source": [
    "from lxml import etree\n",
    "print(etree.__doc__)"
   ]
  },
  {
   "cell_type": "markdown",
   "id": "126f203a",
   "metadata": {
    "slideshow": {
     "slide_type": "slide"
    }
   },
   "source": [
    "## 5.1 Toy Example (again)\n"
   ]
  },
  {
   "cell_type": "code",
   "execution_count": 4,
   "id": "fd1eb27d",
   "metadata": {
    "slideshow": {
     "slide_type": "fragment"
    }
   },
   "outputs": [],
   "source": [
    "xml_string = \"\"\"\n",
    "<anthology>\n",
    "    <poem id='1' \n",
    "      author='Blake, William.'\n",
    "      date='1794'>\n",
    "      <heading id='1.1'>The SICK ROSE</heading>\n",
    "      <stanza id='1.2'>\n",
    "           <line id='1.2.1'>O Rose thou art sick.</line>\n",
    "           <line id='1.2.2'>The invisible worm,</line>\n",
    "           <line id='1.2.3'>That flies in the night</line>\n",
    "           <line id='1.2.4'>In the howling storm:</line>\n",
    "      </stanza>\n",
    "      <stanza id='1.3'>\n",
    "           <line id='1.3.1'>Has found out thy bed</line>\n",
    "           <line id='1.3.2'>Of crimson joy:</line>\n",
    "           <line id='1.3.3'>And his dark secret love</line>\n",
    "           <line id='1.3.4'>Does thy life destroy.</line>\n",
    "      </stanza>\n",
    "    </poem>\n",
    "    <poem id='2'\n",
    "     author='Shakespeare, William.' >\n",
    "        <heading id='2.1'>Sonnet 106</heading>\n",
    "      <stanza id='2.1'>\n",
    "        <line id='2.2.1'>When in the chronicle of wasted time</line>\n",
    "        <line id='2.2.1'>I see descriptions of the fairest wights,</line>\n",
    "        <line id='2.2.1'>And beauty making beautiful old rhyme</line>\n",
    "        <line id='2.2.1'>In praise of ladies dead, and lovely knights,</line>\n",
    "     </stanza>\n",
    "  </poem> \n",
    "</anthology>\n",
    "\"\"\"\n",
    "              "
   ]
  },
  {
   "cell_type": "code",
   "execution_count": 5,
   "id": "2c132cfe",
   "metadata": {
    "slideshow": {
     "slide_type": "slide"
    }
   },
   "outputs": [
    {
     "data": {
      "text/plain": [
       "<lxml.etree._ElementTree at 0x105b35e40>"
      ]
     },
     "execution_count": 5,
     "metadata": {},
     "output_type": "execute_result"
    }
   ],
   "source": [
    "# etree will convert a string to a tree this is called parsing\n",
    "from io import StringIO\n",
    "tree = etree.parse(StringIO(xml_string)); tree"
   ]
  },
  {
   "cell_type": "code",
   "execution_count": 6,
   "id": "e0a2e604",
   "metadata": {
    "slideshow": {
     "slide_type": "slide"
    }
   },
   "outputs": [
    {
     "name": "stdout",
     "output_type": "stream",
     "text": [
      "Help on _ElementTree object:\n",
      "\n",
      "class _ElementTree(builtins.object)\n",
      " |  Methods defined here:\n",
      " |  \n",
      " |  __copy__(self)\n",
      " |  \n",
      " |  __deepcopy__(self, memo)\n",
      " |  \n",
      " |  find(self, path, namespaces)\n",
      " |      find(self, path, namespaces=None)\n",
      " |      \n",
      " |      Finds the first toplevel element with given tag.  Same as\n",
      " |      ``tree.getroot().find(path)``.\n",
      " |      \n",
      " |      The optional ``namespaces`` argument accepts a\n",
      " |      prefix-to-namespace mapping that allows the usage of XPath\n",
      " |      prefixes in the path expression.\n",
      " |  \n",
      " |  findall(self, path, namespaces)\n",
      " |      findall(self, path, namespaces=None)\n",
      " |      \n",
      " |      Finds all elements matching the ElementPath expression.  Same as\n",
      " |      getroot().findall(path).\n",
      " |      \n",
      " |      The optional ``namespaces`` argument accepts a\n",
      " |      prefix-to-namespace mapping that allows the usage of XPath\n",
      " |      prefixes in the path expression.\n",
      " |  \n",
      " |  findtext(self, path, default, namespaces)\n",
      " |      findtext(self, path, default=None, namespaces=None)\n",
      " |      \n",
      " |      Finds the text for the first element matching the ElementPath\n",
      " |      expression.  Same as getroot().findtext(path)\n",
      " |      \n",
      " |      The optional ``namespaces`` argument accepts a\n",
      " |      prefix-to-namespace mapping that allows the usage of XPath\n",
      " |      prefixes in the path expression.\n",
      " |  \n",
      " |  getelementpath(self, element)\n",
      " |      getelementpath(self, element)\n",
      " |      \n",
      " |      Returns a structural, absolute ElementPath expression to find the\n",
      " |      element.  This path can be used in the .find() method to look up\n",
      " |      the element, provided that the elements along the path and their\n",
      " |      list of immediate children were not modified in between.\n",
      " |      \n",
      " |      ElementPath has the advantage over an XPath expression (as returned\n",
      " |      by the .getpath() method) that it does not require additional prefix\n",
      " |      declarations.  It is always self-contained.\n",
      " |  \n",
      " |  getiterator(self, tag, *tags)\n",
      " |      getiterator(self, *tags, tag=None)\n",
      " |      \n",
      " |      Returns a sequence or iterator of all elements in document order\n",
      " |      (depth first pre-order), starting with the root element.\n",
      " |      \n",
      " |      Can be restricted to find only elements with specific tags,\n",
      " |      see `_Element.iter`.\n",
      " |      \n",
      " |      :deprecated: Note that this method is deprecated as of\n",
      " |        ElementTree 1.3 and lxml 2.0.  It returns an iterator in\n",
      " |        lxml, which diverges from the original ElementTree\n",
      " |        behaviour.  If you want an efficient iterator, use the\n",
      " |        ``tree.iter()`` method instead.  You should only use this\n",
      " |        method in new code if you require backwards compatibility\n",
      " |        with older versions of lxml or ElementTree.\n",
      " |  \n",
      " |  getpath(self, element)\n",
      " |      getpath(self, element)\n",
      " |      \n",
      " |      Returns a structural, absolute XPath expression to find the element.\n",
      " |      \n",
      " |      For namespaced elements, the expression uses prefixes from the\n",
      " |      document, which therefore need to be provided in order to make any\n",
      " |      use of the expression in XPath.\n",
      " |      \n",
      " |      Also see the method getelementpath(self, element), which returns a\n",
      " |      self-contained ElementPath expression.\n",
      " |  \n",
      " |  getroot(self)\n",
      " |      getroot(self)\n",
      " |      \n",
      " |      Gets the root element for this tree.\n",
      " |  \n",
      " |  iter(self, tag, *tags)\n",
      " |      iter(self, tag=None, *tags)\n",
      " |      \n",
      " |      Creates an iterator for the root element.  The iterator loops over\n",
      " |      all elements in this tree, in document order.  Note that siblings\n",
      " |      of the root element (comments or processing instructions) are not\n",
      " |      returned by the iterator.\n",
      " |      \n",
      " |      Can be restricted to find only elements with specific tags,\n",
      " |      see `_Element.iter`.\n",
      " |  \n",
      " |  iterfind(self, path, namespaces)\n",
      " |      iterfind(self, path, namespaces=None)\n",
      " |      \n",
      " |      Iterates over all elements matching the ElementPath expression.\n",
      " |      Same as getroot().iterfind(path).\n",
      " |      \n",
      " |      The optional ``namespaces`` argument accepts a\n",
      " |      prefix-to-namespace mapping that allows the usage of XPath\n",
      " |      prefixes in the path expression.\n",
      " |  \n",
      " |  parse(self, source, parser, *, base_url)\n",
      " |      parse(self, source, parser=None, base_url=None)\n",
      " |      \n",
      " |      Updates self with the content of source and returns its root.\n",
      " |  \n",
      " |  relaxng(self, relaxng)\n",
      " |      relaxng(self, relaxng)\n",
      " |      \n",
      " |      Validate this document using other document.\n",
      " |      \n",
      " |      The relaxng argument is a tree that should contain a Relax NG schema.\n",
      " |      \n",
      " |      Returns True or False, depending on whether validation\n",
      " |      succeeded.\n",
      " |      \n",
      " |      Note: if you are going to apply the same Relax NG schema against\n",
      " |      multiple documents, it is more efficient to use the RelaxNG\n",
      " |      class directly.\n",
      " |  \n",
      " |  write(self, file, *, encoding, method, pretty_print, xml_declaration, with_tail, standalone, doctype, compression, exclusive, inclusive_ns_prefixes, with_comments, strip_text, docstring)\n",
      " |      write(self, file, encoding=None, method=\"xml\",\n",
      " |                pretty_print=False, xml_declaration=None, with_tail=True,\n",
      " |                standalone=None, doctype=None, compression=0,\n",
      " |                exclusive=False, inclusive_ns_prefixes=None,\n",
      " |                with_comments=True, strip_text=False)\n",
      " |      \n",
      " |      Write the tree to a filename, file or file-like object.\n",
      " |      \n",
      " |      Defaults to ASCII encoding and writing a declaration as needed.\n",
      " |      \n",
      " |      The keyword argument 'method' selects the output method:\n",
      " |      'xml', 'html', 'text' or 'c14n'.  Default is 'xml'.\n",
      " |      \n",
      " |      With ``method=\"c14n\"`` (C14N version 1), the options ``exclusive``,\n",
      " |      ``with_comments`` and ``inclusive_ns_prefixes`` request exclusive\n",
      " |      C14N, include comments, and list the inclusive prefixes respectively.\n",
      " |      \n",
      " |      With ``method=\"c14n2\"`` (C14N version 2), the ``with_comments`` and\n",
      " |      ``strip_text`` options control the output of comments and text space\n",
      " |      according to C14N 2.0.\n",
      " |      \n",
      " |      Passing a boolean value to the ``standalone`` option will\n",
      " |      output an XML declaration with the corresponding\n",
      " |      ``standalone`` flag.\n",
      " |      \n",
      " |      The ``doctype`` option allows passing in a plain string that will\n",
      " |      be serialised before the XML tree.  Note that passing in non\n",
      " |      well-formed content here will make the XML output non well-formed.\n",
      " |      Also, an existing doctype in the document tree will not be removed\n",
      " |      when serialising an ElementTree instance.\n",
      " |      \n",
      " |      The ``compression`` option enables GZip compression level 1-9.\n",
      " |      \n",
      " |      The ``inclusive_ns_prefixes`` should be a list of namespace strings\n",
      " |      (i.e. ['xs', 'xsi']) that will be promoted to the top-level element\n",
      " |      during exclusive C14N serialisation.  This parameter is ignored if\n",
      " |      exclusive mode=False.\n",
      " |      \n",
      " |      If exclusive=True and no list is provided, a namespace will only be\n",
      " |      rendered if it is used by the immediate parent or one of its attributes\n",
      " |      and its prefix and values have not already been rendered by an ancestor\n",
      " |      of the namespace node's parent element.\n",
      " |  \n",
      " |  write_c14n(self, file, *, exclusive, with_comments, compression, inclusive_ns_prefixes)\n",
      " |      write_c14n(self, file, exclusive=False, with_comments=True,\n",
      " |                     compression=0, inclusive_ns_prefixes=None)\n",
      " |      \n",
      " |      C14N write of document. Always writes UTF-8.\n",
      " |      \n",
      " |      The ``compression`` option enables GZip compression level 1-9.\n",
      " |      \n",
      " |      The ``inclusive_ns_prefixes`` should be a list of namespace strings\n",
      " |      (i.e. ['xs', 'xsi']) that will be promoted to the top-level element\n",
      " |      during exclusive C14N serialisation.  This parameter is ignored if\n",
      " |      exclusive mode=False.\n",
      " |      \n",
      " |      If exclusive=True and no list is provided, a namespace will only be\n",
      " |      rendered if it is used by the immediate parent or one of its attributes\n",
      " |      and its prefix and values have not already been rendered by an ancestor\n",
      " |      of the namespace node's parent element.\n",
      " |      \n",
      " |      NOTE: This method is deprecated as of lxml 4.4 and will be removed in a\n",
      " |      future release.  Use ``.write(f, method=\"c14n\")`` instead.\n",
      " |  \n",
      " |  xinclude(self)\n",
      " |      xinclude(self)\n",
      " |      \n",
      " |      Process the XInclude nodes in this document and include the\n",
      " |      referenced XML fragments.\n",
      " |      \n",
      " |      There is support for loading files through the file system, HTTP and\n",
      " |      FTP.\n",
      " |      \n",
      " |      Note that XInclude does not support custom resolvers in Python space\n",
      " |      due to restrictions of libxml2 <= 2.6.29.\n",
      " |  \n",
      " |  xmlschema(self, xmlschema)\n",
      " |      xmlschema(self, xmlschema)\n",
      " |      \n",
      " |      Validate this document using other document.\n",
      " |      \n",
      " |      The xmlschema argument is a tree that should contain an XML Schema.\n",
      " |      \n",
      " |      Returns True or False, depending on whether validation\n",
      " |      succeeded.\n",
      " |      \n",
      " |      Note: If you are going to apply the same XML Schema against\n",
      " |      multiple documents, it is more efficient to use the XMLSchema\n",
      " |      class directly.\n",
      " |  \n",
      " |  xpath(self, _path, *, namespaces, extensions, smart_strings, **_variables)\n",
      " |      xpath(self, _path, namespaces=None, extensions=None, smart_strings=True, **_variables)\n",
      " |      \n",
      " |      XPath evaluate in context of document.\n",
      " |      \n",
      " |      ``namespaces`` is an optional dictionary with prefix to namespace URI\n",
      " |      mappings, used by XPath.  ``extensions`` defines additional extension\n",
      " |      functions.\n",
      " |      \n",
      " |      Returns a list (nodeset), or bool, float or string.\n",
      " |      \n",
      " |      In case of a list result, return Element for element nodes,\n",
      " |      string for text and attribute values.\n",
      " |      \n",
      " |      Note: if you are going to apply multiple XPath expressions\n",
      " |      against the same document, it is more efficient to use\n",
      " |      XPathEvaluator directly.\n",
      " |  \n",
      " |  xslt(self, _xslt, extensions, access_control, **_kw)\n",
      " |      xslt(self, _xslt, extensions=None, access_control=None, **_kw)\n",
      " |      \n",
      " |      Transform this document using other document.\n",
      " |      \n",
      " |      xslt is a tree that should be XSLT\n",
      " |      keyword parameters are XSLT transformation parameters.\n",
      " |      \n",
      " |      Returns the transformed tree.\n",
      " |      \n",
      " |      Note: if you are going to apply the same XSLT stylesheet against\n",
      " |      multiple documents, it is more efficient to use the XSLT\n",
      " |      class directly.\n",
      " |  \n",
      " |  ----------------------------------------------------------------------\n",
      " |  Static methods defined here:\n",
      " |  \n",
      " |  __new__(*args, **kwargs) from builtins.type\n",
      " |      Create and return a new object.  See help(type) for accurate signature.\n",
      " |  \n",
      " |  ----------------------------------------------------------------------\n",
      " |  Data descriptors defined here:\n",
      " |  \n",
      " |  docinfo\n",
      " |      Information about the document provided by parser and DTD.\n",
      " |  \n",
      " |  parser\n",
      " |      The parser that was used to parse the document in this ElementTree.\n",
      " |  \n",
      " |  ----------------------------------------------------------------------\n",
      " |  Data and other attributes defined here:\n",
      " |  \n",
      " |  __pyx_vtable__ = <capsule object NULL>\n",
      "\n"
     ]
    }
   ],
   "source": [
    "# what goodies are attached to an lxml etree object?\n",
    "help(tree)"
   ]
  },
  {
   "cell_type": "code",
   "execution_count": 7,
   "id": "b3afd361",
   "metadata": {
    "slideshow": {
     "slide_type": "slide"
    }
   },
   "outputs": [
    {
     "name": "stdout",
     "output_type": "stream",
     "text": [
      "<Element anthology at 0x105f6b380>\n",
      "<Element poem at 0x105fa8400>\n",
      "<Element heading at 0x105fa8d80>\n",
      "<Element stanza at 0x105fa88c0>\n",
      "<Element line at 0x105fa8400>\n",
      "<Element line at 0x105fa8d80>\n",
      "<Element line at 0x105fa88c0>\n",
      "<Element line at 0x105fa8400>\n",
      "<Element stanza at 0x105fa8d80>\n",
      "<Element line at 0x105fa88c0>\n",
      "<Element line at 0x105fa8400>\n",
      "<Element line at 0x105fa8d80>\n",
      "<Element line at 0x105fa88c0>\n",
      "<Element poem at 0x105fa8400>\n",
      "<Element heading at 0x105fa8d80>\n",
      "<Element stanza at 0x105fa88c0>\n",
      "<Element line at 0x105fa8400>\n",
      "<Element line at 0x105fa8d80>\n",
      "<Element line at 0x105fa88c0>\n",
      "<Element line at 0x105fa8400>\n"
     ]
    }
   ],
   "source": [
    "# iterate over all elements\n",
    "for i in tree.getiterator(): print(i)"
   ]
  },
  {
   "cell_type": "code",
   "execution_count": 8,
   "id": "64cbf99b",
   "metadata": {
    "slideshow": {
     "slide_type": "slide"
    }
   },
   "outputs": [
    {
     "data": {
      "text/plain": [
       "2"
      ]
     },
     "execution_count": 8,
     "metadata": {},
     "output_type": "execute_result"
    }
   ],
   "source": [
    "# explore tree structure\n",
    "root = tree.getroot()\n",
    "len(root) # we only have two poems in anthology"
   ]
  },
  {
   "cell_type": "code",
   "execution_count": 9,
   "id": "04f68ff1",
   "metadata": {
    "slideshow": {
     "slide_type": "slide"
    }
   },
   "outputs": [
    {
     "data": {
      "text/plain": [
       "<Element poem at 0x105fa8680>"
      ]
     },
     "execution_count": 9,
     "metadata": {},
     "output_type": "execute_result"
    }
   ],
   "source": [
    "# first poem\n",
    "root[0]"
   ]
  },
  {
   "cell_type": "code",
   "execution_count": 10,
   "id": "294d4314",
   "metadata": {
    "slideshow": {
     "slide_type": "fragment"
    }
   },
   "outputs": [
    {
     "data": {
      "text/plain": [
       "<Element poem at 0x105b031c0>"
      ]
     },
     "execution_count": 10,
     "metadata": {},
     "output_type": "execute_result"
    }
   ],
   "source": [
    "# second poem\n",
    "root[1]"
   ]
  },
  {
   "cell_type": "code",
   "execution_count": 11,
   "id": "26a54a8d",
   "metadata": {
    "slideshow": {
     "slide_type": "fragment"
    }
   },
   "outputs": [
    {
     "data": {
      "text/plain": [
       "<Element stanza at 0x105fa6c00>"
      ]
     },
     "execution_count": 11,
     "metadata": {},
     "output_type": "execute_result"
    }
   ],
   "source": [
    "# second stanza of the second poem\n",
    "# stanza is the child of poem\n",
    "root[1][1]"
   ]
  },
  {
   "cell_type": "code",
   "execution_count": 13,
   "id": "742bdf0a",
   "metadata": {
    "slideshow": {
     "slide_type": "slide"
    }
   },
   "outputs": [
    {
     "data": {
      "text/plain": [
       "'stanza'"
      ]
     },
     "execution_count": 13,
     "metadata": {},
     "output_type": "execute_result"
    }
   ],
   "source": [
    "# each element has different Python attributes\n",
    "root[1][1].tag"
   ]
  },
  {
   "cell_type": "code",
   "execution_count": 16,
   "id": "8fbc2cb9",
   "metadata": {
    "slideshow": {
     "slide_type": "slide"
    }
   },
   "outputs": [
    {
     "data": {
      "text/plain": [
       "'line'"
      ]
     },
     "execution_count": 16,
     "metadata": {},
     "output_type": "execute_result"
    }
   ],
   "source": [
    "root[1][1][2].tag"
   ]
  },
  {
   "cell_type": "code",
   "execution_count": 14,
   "id": "aa03c5a2",
   "metadata": {
    "slideshow": {
     "slide_type": "fragment"
    }
   },
   "outputs": [
    {
     "data": {
      "text/plain": [
       "'\\n        '"
      ]
     },
     "execution_count": 14,
     "metadata": {},
     "output_type": "execute_result"
    }
   ],
   "source": [
    "# why is this empty?\n",
    "root[1][1].text"
   ]
  },
  {
   "cell_type": "code",
   "execution_count": 26,
   "id": "0761a5c3",
   "metadata": {
    "slideshow": {
     "slide_type": "fragment"
    }
   },
   "outputs": [
    {
     "data": {
      "text/plain": [
       "'And beauty making beautiful old rhyme'"
      ]
     },
     "execution_count": 26,
     "metadata": {},
     "output_type": "execute_result"
    }
   ],
   "source": [
    "# text attribute only gets the text directly enclosed by the tag\n",
    "root[1][1][2].text"
   ]
  },
  {
   "cell_type": "code",
   "execution_count": 20,
   "id": "22636b4d",
   "metadata": {
    "slideshow": {
     "slide_type": "slide"
    }
   },
   "outputs": [
    {
     "name": "stdout",
     "output_type": "stream",
     "text": [
      "\n",
      "   O Rose thou art sick.\n",
      "   The invisible worm,\n",
      "   That flies in the night\n",
      "   In the howling storm:\n",
      "  \n",
      "  \n"
     ]
    }
   ],
   "source": [
    "# print the second stanza of the first poem\n",
    "print(etree.tostring(root[0][1],method='text',encoding='unicode'))"
   ]
  },
  {
   "cell_type": "code",
   "execution_count": 21,
   "id": "4e59297e",
   "metadata": {
    "slideshow": {
     "slide_type": "slide"
    }
   },
   "outputs": [
    {
     "data": {
      "text/plain": [
       "{'id': '1', 'author': 'Blake, William.', 'date': '1794'}"
      ]
     },
     "execution_count": 21,
     "metadata": {},
     "output_type": "execute_result"
    }
   ],
   "source": [
    "#attributes are stored as a dictionary\n",
    "root[0].attrib"
   ]
  },
  {
   "cell_type": "code",
   "execution_count": 22,
   "id": "5837fe9b",
   "metadata": {
    "slideshow": {
     "slide_type": "fragment"
    }
   },
   "outputs": [
    {
     "data": {
      "text/plain": [
       "'Blake, William.'"
      ]
     },
     "execution_count": 22,
     "metadata": {},
     "output_type": "execute_result"
    }
   ],
   "source": [
    "root[0].attrib['author']"
   ]
  },
  {
   "cell_type": "markdown",
   "id": "4c44b817",
   "metadata": {
    "slideshow": {
     "slide_type": "slide"
    }
   },
   "source": [
    "### ✏️ Exercise.\n",
    "\n",
    "- Convert the small dialogue below to an XML document, using the tags: `dialogue`, `speech_turn`, `line`\n",
    "- add a **name** attribute to each `speech_turn` as well as an **unique identifier** for each actor\n",
    "- add **identifiers** to each element similarly to the anthology example\n",
    "- store the XML document as a **string** in a variable called `xml_dialogue`\n",
    "- **parse** the string with and save the Element Tree in a new variable\n",
    "- print the text on the second line\n",
    "- (**Difficult**): can you print all lines spoken by George?"
   ]
  },
  {
   "cell_type": "markdown",
   "id": "c7961818",
   "metadata": {
    "slideshow": {
     "slide_type": "slide"
    }
   },
   "source": [
    "```\n",
    "George: “You’re gonna over-dry your laundry.”\n",
    "Jerry: “You can’t over-dry.”\n",
    "George: “Why not?”\n",
    "Jerry: “Same reason you can’t over-wet.”\n",
    "```\n",
    "![seinfeld](https://media.giphy.com/media/14dXclYKbx2ONW/giphy.gif)"
   ]
  },
  {
   "cell_type": "code",
   "execution_count": null,
   "id": "1f61a3a1",
   "metadata": {
    "slideshow": {
     "slide_type": "slide"
    }
   },
   "outputs": [],
   "source": [
    "# add your answer here"
   ]
  },
  {
   "cell_type": "markdown",
   "id": "99174f72",
   "metadata": {
    "slideshow": {
     "slide_type": "slide"
    }
   },
   "source": [
    "## 5.2 A Realistic Example (with namespace, ugh)\n",
    "### UK Parliamentary Debates (29th June 1967)\n",
    "\n",
    "Political Mashup's schema for [parliamentary proceedings](https://web.archive.org/web/20170504021953/http://schema.politicalmashup.nl/schemas.html)."
   ]
  },
  {
   "cell_type": "code",
   "execution_count": 35,
   "id": "e21bae69",
   "metadata": {
    "slideshow": {
     "slide_type": "fragment"
    }
   },
   "outputs": [],
   "source": [
    "# open a xml file\n",
    "with open('xml_examples/uk.proc.d.1967-06-29.xml','rb') as in_xml:\n",
    "    tree = etree.parse(in_xml) # parse the content of the xml file"
   ]
  },
  {
   "cell_type": "code",
   "execution_count": 36,
   "id": "bc087801",
   "metadata": {
    "slideshow": {
     "slide_type": "slide"
    }
   },
   "outputs": [],
   "source": [
    "# get the root element\n",
    "root = tree.getroot()"
   ]
  },
  {
   "cell_type": "code",
   "execution_count": 37,
   "id": "0b7020d9",
   "metadata": {
    "slideshow": {
     "slide_type": "fragment"
    }
   },
   "outputs": [
    {
     "data": {
      "text/plain": [
       "(3, lxml.etree._Element)"
      ]
     },
     "execution_count": 37,
     "metadata": {},
     "output_type": "execute_result"
    }
   ],
   "source": [
    "len(root), type(root)"
   ]
  },
  {
   "cell_type": "code",
   "execution_count": 39,
   "id": "9fb700ad",
   "metadata": {
    "slideshow": {
     "slide_type": "fragment"
    }
   },
   "outputs": [
    {
     "name": "stdout",
     "output_type": "stream",
     "text": [
      "{http://www.politicalmashup.nl/docinfo}docinfo\n",
      "meta\n",
      "{http://www.politicalmashup.nl}proceedings\n"
     ]
    }
   ],
   "source": [
    "# iterate over all the elements directly under the root element\n",
    "# each element is a list of elements\n",
    "for element in root:\n",
    "    print(element.tag)"
   ]
  },
  {
   "cell_type": "markdown",
   "id": "84a86c1d",
   "metadata": {
    "slideshow": {
     "slide_type": "slide"
    }
   },
   "source": [
    "In these examples elements belong to different namespaces, for example\n",
    "\n",
    "`{http://www.politicalmashup.nl}proceedings`\n",
    "\n",
    "The namespace appears as a prefix and is surrounded by curly brackets."
   ]
  },
  {
   "cell_type": "code",
   "execution_count": 40,
   "id": "22c67fa3",
   "metadata": {
    "slideshow": {
     "slide_type": "fragment"
    }
   },
   "outputs": [],
   "source": [
    "# the proceedings, the actual content\n",
    "# is the third element in the list\n",
    "proceedings = root[2]"
   ]
  },
  {
   "cell_type": "code",
   "execution_count": 41,
   "id": "172e9627",
   "metadata": {
    "slideshow": {
     "slide_type": "fragment"
    }
   },
   "outputs": [
    {
     "data": {
      "text/plain": [
       "<Element {http://www.politicalmashup.nl}topic at 0x1071d0c80>"
      ]
     },
     "execution_count": 41,
     "metadata": {},
     "output_type": "execute_result"
    }
   ],
   "source": [
    "# third element of the proceedings element\n",
    "# i.e. the third topic\n",
    "proceedings[2]"
   ]
  },
  {
   "cell_type": "code",
   "execution_count": 45,
   "id": "2bf5a5a9",
   "metadata": {
    "slideshow": {
     "slide_type": "fragment"
    }
   },
   "outputs": [
    {
     "data": {
      "text/plain": [
       "<Element {http://www.politicalmashup.nl}scene at 0x1071ea1c0>"
      ]
     },
     "execution_count": 45,
     "metadata": {},
     "output_type": "execute_result"
    }
   ],
   "source": [
    "# first scene in third topic\n",
    "proceedings[2][0]"
   ]
  },
  {
   "cell_type": "code",
   "execution_count": 34,
   "id": "8dd56d09",
   "metadata": {
    "slideshow": {
     "slide_type": "slide"
    }
   },
   "outputs": [
    {
     "name": "stdout",
     "output_type": "stream",
     "text": [
      "0 {http://www.politicalmashup.nl}scene 4\n",
      "1 {http://www.politicalmashup.nl}scene 6\n",
      "2 {http://www.politicalmashup.nl}scene 5\n",
      "3 {http://www.politicalmashup.nl}scene 5\n",
      "4 {http://www.politicalmashup.nl}scene 6\n",
      "5 {http://www.politicalmashup.nl}scene 9\n",
      "6 {http://www.politicalmashup.nl}scene 22\n",
      "7 {http://www.politicalmashup.nl}scene 4\n",
      "8 {http://www.politicalmashup.nl}scene 4\n",
      "9 {http://www.politicalmashup.nl}scene 4\n",
      "10 {http://www.politicalmashup.nl}scene 18\n",
      "11 {http://www.politicalmashup.nl}scene 9\n",
      "12 {http://www.politicalmashup.nl}scene 4\n",
      "13 {http://www.politicalmashup.nl}scene 4\n",
      "14 {http://www.politicalmashup.nl}scene 4\n",
      "15 {http://www.politicalmashup.nl}scene 4\n",
      "16 {http://www.politicalmashup.nl}scene 6\n",
      "17 {http://www.politicalmashup.nl}scene 6\n",
      "18 {http://www.politicalmashup.nl}scene 4\n",
      "19 {http://www.politicalmashup.nl}scene 10\n",
      "20 {http://www.politicalmashup.nl}scene 4\n"
     ]
    }
   ],
   "source": [
    "# you can iterate over these elements as a list to get the children\n",
    "for i,element in enumerate(proceedings[2]):\n",
    "    print(i,element.tag,len(element))"
   ]
  },
  {
   "cell_type": "markdown",
   "id": "7753f058",
   "metadata": {
    "slideshow": {
     "slide_type": "slide"
    }
   },
   "source": [
    "### ✏️ Exercise.\n",
    "- How many paragraphs (`<p>` tags) does the 1st speech in the 7th scene of the 3rd topic contain?\n",
    "- How many words does the first paragraph contain? (You can just use `split()` to divide the string into tokens)."
   ]
  },
  {
   "cell_type": "code",
   "execution_count": 52,
   "id": "1bae7cb0",
   "metadata": {
    "slideshow": {
     "slide_type": "fragment"
    }
   },
   "outputs": [],
   "source": [
    "# write answer here"
   ]
  },
  {
   "cell_type": "code",
   "execution_count": 51,
   "id": "a3e3d27d",
   "metadata": {
    "slideshow": {
     "slide_type": "slide"
    }
   },
   "outputs": [
    {
     "name": "stdout",
     "output_type": "stream",
     "text": [
      "uk.proc.d.1967-06-29.3.1.1\n",
      "uk.proc.d.1967-06-29.3.1.2\n",
      "uk.proc.d.1967-06-29.3.1.3\n",
      "uk.proc.d.1967-06-29.3.1.4\n",
      "uk.proc.d.1967-06-29.3.2.1\n",
      "uk.proc.d.1967-06-29.3.2.2\n",
      "uk.proc.d.1967-06-29.3.2.3\n",
      "uk.proc.d.1967-06-29.3.2.4\n",
      "uk.proc.d.1967-06-29.3.2.5\n",
      "uk.proc.d.1967-06-29.3.2.6\n",
      "uk.proc.d.1967-06-29.3.3.1\n",
      "uk.proc.d.1967-06-29.3.3.2\n",
      "uk.proc.d.1967-06-29.3.3.3\n",
      "uk.proc.d.1967-06-29.3.3.4\n",
      "uk.proc.d.1967-06-29.3.3.5\n",
      "uk.proc.d.1967-06-29.3.4.1\n",
      "uk.proc.d.1967-06-29.3.4.2\n",
      "uk.proc.d.1967-06-29.3.4.3\n",
      "uk.proc.d.1967-06-29.3.4.4\n",
      "uk.proc.d.1967-06-29.3.4.5\n",
      "uk.proc.d.1967-06-29.3.5.1\n",
      "uk.proc.d.1967-06-29.3.5.2\n",
      "uk.proc.d.1967-06-29.3.5.3\n",
      "uk.proc.d.1967-06-29.3.5.4\n",
      "uk.proc.d.1967-06-29.3.5.5\n",
      "uk.proc.d.1967-06-29.3.5.6\n",
      "uk.proc.d.1967-06-29.3.6.1\n",
      "uk.proc.d.1967-06-29.3.6.2\n",
      "uk.proc.d.1967-06-29.3.6.3\n",
      "uk.proc.d.1967-06-29.3.6.4\n",
      "uk.proc.d.1967-06-29.3.6.5\n",
      "uk.proc.d.1967-06-29.3.6.6\n",
      "uk.proc.d.1967-06-29.3.6.7\n",
      "uk.proc.d.1967-06-29.3.6.8\n",
      "uk.proc.d.1967-06-29.3.6.9\n",
      "uk.proc.d.1967-06-29.3.7.1\n",
      "uk.proc.d.1967-06-29.3.7.2\n",
      "uk.proc.d.1967-06-29.3.7.3\n",
      "uk.proc.d.1967-06-29.3.7.4\n",
      "uk.proc.d.1967-06-29.3.7.5\n",
      "uk.proc.d.1967-06-29.3.7.6\n",
      "uk.proc.d.1967-06-29.3.7.7\n",
      "uk.proc.d.1967-06-29.3.7.8\n",
      "uk.proc.d.1967-06-29.3.7.9\n",
      "uk.proc.d.1967-06-29.3.7.10\n",
      "uk.proc.d.1967-06-29.3.7.11\n",
      "uk.proc.d.1967-06-29.3.7.12\n",
      "uk.proc.d.1967-06-29.3.7.13\n",
      "uk.proc.d.1967-06-29.3.7.14\n",
      "uk.proc.d.1967-06-29.3.7.15\n",
      "uk.proc.d.1967-06-29.3.7.16\n",
      "uk.proc.d.1967-06-29.3.7.17\n",
      "uk.proc.d.1967-06-29.3.7.18\n",
      "uk.proc.d.1967-06-29.3.7.19\n",
      "uk.proc.d.1967-06-29.3.7.20\n",
      "uk.proc.d.1967-06-29.3.7.21\n",
      "uk.proc.d.1967-06-29.3.7.22\n",
      "uk.proc.d.1967-06-29.3.8.1\n",
      "uk.proc.d.1967-06-29.3.8.2\n",
      "uk.proc.d.1967-06-29.3.8.3\n",
      "uk.proc.d.1967-06-29.3.8.4\n",
      "uk.proc.d.1967-06-29.3.9.1\n",
      "uk.proc.d.1967-06-29.3.9.2\n",
      "uk.proc.d.1967-06-29.3.9.3\n",
      "uk.proc.d.1967-06-29.3.9.4\n",
      "uk.proc.d.1967-06-29.3.10.1\n",
      "uk.proc.d.1967-06-29.3.10.2\n",
      "uk.proc.d.1967-06-29.3.10.3\n",
      "uk.proc.d.1967-06-29.3.10.4\n",
      "uk.proc.d.1967-06-29.3.11.1\n",
      "uk.proc.d.1967-06-29.3.11.2\n",
      "uk.proc.d.1967-06-29.3.11.3\n",
      "uk.proc.d.1967-06-29.3.11.4\n",
      "uk.proc.d.1967-06-29.3.11.5\n",
      "uk.proc.d.1967-06-29.3.11.6\n",
      "uk.proc.d.1967-06-29.3.11.7\n",
      "uk.proc.d.1967-06-29.3.11.8\n",
      "uk.proc.d.1967-06-29.3.11.9\n",
      "uk.proc.d.1967-06-29.3.11.10\n",
      "uk.proc.d.1967-06-29.3.11.11\n",
      "uk.proc.d.1967-06-29.3.11.12\n",
      "uk.proc.d.1967-06-29.3.11.13\n",
      "uk.proc.d.1967-06-29.3.11.14\n",
      "uk.proc.d.1967-06-29.3.11.15\n",
      "uk.proc.d.1967-06-29.3.11.16\n",
      "uk.proc.d.1967-06-29.3.11.17\n",
      "uk.proc.d.1967-06-29.3.11.18\n",
      "uk.proc.d.1967-06-29.3.12.1\n",
      "uk.proc.d.1967-06-29.3.12.2\n",
      "uk.proc.d.1967-06-29.3.12.3\n",
      "uk.proc.d.1967-06-29.3.12.4\n",
      "uk.proc.d.1967-06-29.3.12.5\n",
      "uk.proc.d.1967-06-29.3.12.6\n",
      "uk.proc.d.1967-06-29.3.12.7\n",
      "uk.proc.d.1967-06-29.3.12.8\n",
      "uk.proc.d.1967-06-29.3.13.1\n",
      "uk.proc.d.1967-06-29.3.13.2\n",
      "uk.proc.d.1967-06-29.3.13.3\n",
      "uk.proc.d.1967-06-29.3.13.4\n",
      "uk.proc.d.1967-06-29.3.14.1\n",
      "uk.proc.d.1967-06-29.3.14.2\n",
      "uk.proc.d.1967-06-29.3.14.3\n",
      "uk.proc.d.1967-06-29.3.14.4\n",
      "uk.proc.d.1967-06-29.3.15.1\n",
      "uk.proc.d.1967-06-29.3.15.2\n",
      "uk.proc.d.1967-06-29.3.15.3\n",
      "uk.proc.d.1967-06-29.3.15.4\n",
      "uk.proc.d.1967-06-29.3.16.1\n",
      "uk.proc.d.1967-06-29.3.16.2\n",
      "uk.proc.d.1967-06-29.3.16.3\n",
      "uk.proc.d.1967-06-29.3.16.4\n",
      "uk.proc.d.1967-06-29.3.17.1\n",
      "uk.proc.d.1967-06-29.3.17.2\n",
      "uk.proc.d.1967-06-29.3.17.3\n",
      "uk.proc.d.1967-06-29.3.17.4\n",
      "uk.proc.d.1967-06-29.3.17.5\n",
      "uk.proc.d.1967-06-29.3.17.6\n",
      "uk.proc.d.1967-06-29.3.18.1\n",
      "uk.proc.d.1967-06-29.3.18.2\n",
      "uk.proc.d.1967-06-29.3.18.3\n",
      "uk.proc.d.1967-06-29.3.18.4\n",
      "uk.proc.d.1967-06-29.3.18.5\n",
      "uk.proc.d.1967-06-29.3.18.6\n",
      "uk.proc.d.1967-06-29.3.19.1\n",
      "uk.proc.d.1967-06-29.3.19.2\n",
      "uk.proc.d.1967-06-29.3.19.3\n",
      "uk.proc.d.1967-06-29.3.19.4\n",
      "uk.proc.d.1967-06-29.3.20.1\n",
      "uk.proc.d.1967-06-29.3.20.2\n",
      "uk.proc.d.1967-06-29.3.20.3\n",
      "uk.proc.d.1967-06-29.3.20.4\n",
      "uk.proc.d.1967-06-29.3.20.5\n",
      "uk.proc.d.1967-06-29.3.20.6\n",
      "uk.proc.d.1967-06-29.3.20.7\n",
      "uk.proc.d.1967-06-29.3.20.8\n",
      "uk.proc.d.1967-06-29.3.20.9\n",
      "uk.proc.d.1967-06-29.3.20.10\n",
      "uk.proc.d.1967-06-29.3.21.1\n",
      "uk.proc.d.1967-06-29.3.21.2\n",
      "uk.proc.d.1967-06-29.3.21.3\n",
      "uk.proc.d.1967-06-29.3.21.4\n",
      "uk.proc.d.1967-06-29.4.1.1\n",
      "uk.proc.d.1967-06-29.4.1.2\n",
      "uk.proc.d.1967-06-29.4.1.3\n",
      "uk.proc.d.1967-06-29.4.1.4\n",
      "uk.proc.d.1967-06-29.4.1.5\n",
      "uk.proc.d.1967-06-29.4.1.6\n",
      "uk.proc.d.1967-06-29.4.1.7\n",
      "uk.proc.d.1967-06-29.4.1.8\n",
      "uk.proc.d.1967-06-29.4.2.1\n",
      "uk.proc.d.1967-06-29.4.2.2\n",
      "uk.proc.d.1967-06-29.4.2.3\n",
      "uk.proc.d.1967-06-29.4.2.4\n",
      "uk.proc.d.1967-06-29.5.1.1\n",
      "uk.proc.d.1967-06-29.5.1.2\n",
      "uk.proc.d.1967-06-29.5.1.3\n",
      "uk.proc.d.1967-06-29.5.1.4\n",
      "uk.proc.d.1967-06-29.5.1.5\n",
      "uk.proc.d.1967-06-29.5.1.6\n",
      "uk.proc.d.1967-06-29.6.1.1\n",
      "uk.proc.d.1967-06-29.6.1.2\n",
      "uk.proc.d.1967-06-29.6.1.3\n",
      "uk.proc.d.1967-06-29.6.1.4\n",
      "uk.proc.d.1967-06-29.7.1.1\n",
      "uk.proc.d.1967-06-29.7.1.2\n",
      "uk.proc.d.1967-06-29.7.1.3\n",
      "uk.proc.d.1967-06-29.7.1.4\n",
      "uk.proc.d.1967-06-29.7.1.5\n",
      "uk.proc.d.1967-06-29.7.1.6\n",
      "uk.proc.d.1967-06-29.8.1.1\n",
      "uk.proc.d.1967-06-29.8.1.2\n",
      "uk.proc.d.1967-06-29.8.1.3\n",
      "uk.proc.d.1967-06-29.8.1.4\n",
      "uk.proc.d.1967-06-29.8.2.1\n",
      "uk.proc.d.1967-06-29.8.2.2\n",
      "uk.proc.d.1967-06-29.8.2.3\n",
      "uk.proc.d.1967-06-29.8.2.4\n",
      "uk.proc.d.1967-06-29.8.2.5\n",
      "uk.proc.d.1967-06-29.8.2.6\n",
      "uk.proc.d.1967-06-29.8.3.1\n",
      "uk.proc.d.1967-06-29.8.3.2\n",
      "uk.proc.d.1967-06-29.8.3.3\n",
      "uk.proc.d.1967-06-29.8.3.4\n",
      "uk.proc.d.1967-06-29.8.3.5\n",
      "uk.proc.d.1967-06-29.8.3.6\n",
      "uk.proc.d.1967-06-29.8.4.1\n",
      "uk.proc.d.1967-06-29.8.4.2\n",
      "uk.proc.d.1967-06-29.8.4.3\n",
      "uk.proc.d.1967-06-29.8.4.4\n",
      "uk.proc.d.1967-06-29.8.4.5\n",
      "uk.proc.d.1967-06-29.8.4.6\n",
      "uk.proc.d.1967-06-29.8.4.7\n",
      "uk.proc.d.1967-06-29.8.4.8\n",
      "uk.proc.d.1967-06-29.8.4.9\n",
      "uk.proc.d.1967-06-29.8.4.10\n",
      "uk.proc.d.1967-06-29.8.5.1\n",
      "uk.proc.d.1967-06-29.8.5.2\n",
      "uk.proc.d.1967-06-29.8.5.3\n",
      "uk.proc.d.1967-06-29.8.5.4\n",
      "uk.proc.d.1967-06-29.8.5.5\n",
      "uk.proc.d.1967-06-29.8.5.6\n",
      "uk.proc.d.1967-06-29.8.6.1\n",
      "uk.proc.d.1967-06-29.8.6.2\n",
      "uk.proc.d.1967-06-29.8.6.3\n",
      "uk.proc.d.1967-06-29.8.6.4\n",
      "uk.proc.d.1967-06-29.8.6.5\n",
      "uk.proc.d.1967-06-29.8.6.6\n",
      "uk.proc.d.1967-06-29.8.6.7\n",
      "uk.proc.d.1967-06-29.8.6.8\n",
      "uk.proc.d.1967-06-29.8.6.9\n",
      "uk.proc.d.1967-06-29.8.6.10\n",
      "uk.proc.d.1967-06-29.8.6.11\n",
      "uk.proc.d.1967-06-29.8.6.12\n",
      "uk.proc.d.1967-06-29.8.6.13\n",
      "uk.proc.d.1967-06-29.8.6.14\n",
      "uk.proc.d.1967-06-29.8.7.1\n",
      "uk.proc.d.1967-06-29.8.7.2\n",
      "uk.proc.d.1967-06-29.8.7.3\n",
      "uk.proc.d.1967-06-29.8.7.4\n",
      "uk.proc.d.1967-06-29.8.7.5\n",
      "uk.proc.d.1967-06-29.8.7.6\n",
      "uk.proc.d.1967-06-29.8.7.7\n",
      "uk.proc.d.1967-06-29.8.7.8\n",
      "uk.proc.d.1967-06-29.8.7.9\n",
      "uk.proc.d.1967-06-29.8.7.10\n",
      "uk.proc.d.1967-06-29.8.7.11\n",
      "uk.proc.d.1967-06-29.8.8.1\n",
      "uk.proc.d.1967-06-29.8.8.2\n",
      "uk.proc.d.1967-06-29.8.8.3\n",
      "uk.proc.d.1967-06-29.8.8.4\n",
      "uk.proc.d.1967-06-29.8.8.5\n",
      "uk.proc.d.1967-06-29.8.8.6\n",
      "uk.proc.d.1967-06-29.8.8.7\n",
      "uk.proc.d.1967-06-29.8.8.8\n",
      "uk.proc.d.1967-06-29.8.9.2\n",
      "uk.proc.d.1967-06-29.8.9.3\n",
      "uk.proc.d.1967-06-29.8.9.4\n",
      "uk.proc.d.1967-06-29.8.9.5\n",
      "uk.proc.d.1967-06-29.8.9.6\n",
      "uk.proc.d.1967-06-29.8.9.7\n",
      "uk.proc.d.1967-06-29.8.9.8\n",
      "uk.proc.d.1967-06-29.8.9.9\n",
      "uk.proc.d.1967-06-29.8.9.10\n",
      "uk.proc.d.1967-06-29.8.9.11\n",
      "uk.proc.d.1967-06-29.8.9.12\n",
      "uk.proc.d.1967-06-29.8.9.13\n",
      "uk.proc.d.1967-06-29.8.9.14\n",
      "uk.proc.d.1967-06-29.8.9.15\n",
      "uk.proc.d.1967-06-29.9.1.1\n",
      "uk.proc.d.1967-06-29.9.1.2\n",
      "uk.proc.d.1967-06-29.9.1.3\n",
      "uk.proc.d.1967-06-29.9.1.4\n",
      "uk.proc.d.1967-06-29.9.1.5\n",
      "uk.proc.d.1967-06-29.9.1.6\n",
      "uk.proc.d.1967-06-29.9.1.7\n",
      "uk.proc.d.1967-06-29.9.1.8\n",
      "uk.proc.d.1967-06-29.9.1.9\n",
      "uk.proc.d.1967-06-29.9.1.10\n",
      "uk.proc.d.1967-06-29.9.1.11\n",
      "uk.proc.d.1967-06-29.9.1.12\n",
      "uk.proc.d.1967-06-29.9.1.13\n",
      "uk.proc.d.1967-06-29.9.1.14\n",
      "uk.proc.d.1967-06-29.9.1.15\n",
      "uk.proc.d.1967-06-29.9.1.16\n",
      "uk.proc.d.1967-06-29.10.1.1\n",
      "uk.proc.d.1967-06-29.10.1.2\n",
      "uk.proc.d.1967-06-29.11.1.1\n",
      "uk.proc.d.1967-06-29.11.1.2\n",
      "uk.proc.d.1967-06-29.11.1.3\n",
      "uk.proc.d.1967-06-29.11.1.4\n",
      "uk.proc.d.1967-06-29.11.1.5\n",
      "uk.proc.d.1967-06-29.11.1.6\n",
      "uk.proc.d.1967-06-29.11.1.7\n",
      "uk.proc.d.1967-06-29.11.1.8\n",
      "uk.proc.d.1967-06-29.11.1.9\n",
      "uk.proc.d.1967-06-29.11.1.10\n",
      "uk.proc.d.1967-06-29.11.1.11\n",
      "uk.proc.d.1967-06-29.11.1.12\n",
      "uk.proc.d.1967-06-29.11.1.13\n",
      "uk.proc.d.1967-06-29.11.1.14\n",
      "uk.proc.d.1967-06-29.11.1.15\n",
      "uk.proc.d.1967-06-29.11.1.17\n",
      "uk.proc.d.1967-06-29.11.1.18\n",
      "uk.proc.d.1967-06-29.11.1.19\n",
      "uk.proc.d.1967-06-29.11.1.20\n",
      "uk.proc.d.1967-06-29.11.1.21\n",
      "uk.proc.d.1967-06-29.11.1.22\n",
      "uk.proc.d.1967-06-29.11.1.23\n",
      "uk.proc.d.1967-06-29.11.1.24\n",
      "uk.proc.d.1967-06-29.11.1.25\n",
      "uk.proc.d.1967-06-29.11.1.26\n",
      "uk.proc.d.1967-06-29.11.1.27\n",
      "uk.proc.d.1967-06-29.11.1.28\n",
      "uk.proc.d.1967-06-29.11.1.29\n",
      "uk.proc.d.1967-06-29.11.1.30\n",
      "uk.proc.d.1967-06-29.11.1.31\n",
      "uk.proc.d.1967-06-29.11.1.32\n",
      "uk.proc.d.1967-06-29.11.1.33\n",
      "uk.proc.d.1967-06-29.11.1.34\n",
      "uk.proc.d.1967-06-29.11.1.35\n",
      "uk.proc.d.1967-06-29.11.1.36\n",
      "uk.proc.d.1967-06-29.11.1.37\n",
      "uk.proc.d.1967-06-29.11.1.38\n",
      "uk.proc.d.1967-06-29.11.1.39\n",
      "uk.proc.d.1967-06-29.11.1.40\n",
      "uk.proc.d.1967-06-29.11.1.41\n",
      "uk.proc.d.1967-06-29.11.1.42\n",
      "uk.proc.d.1967-06-29.11.1.43\n",
      "uk.proc.d.1967-06-29.11.1.44\n",
      "uk.proc.d.1967-06-29.11.1.45\n",
      "uk.proc.d.1967-06-29.11.1.46\n",
      "uk.proc.d.1967-06-29.11.1.47\n",
      "uk.proc.d.1967-06-29.11.1.50\n",
      "uk.proc.d.1967-06-29.11.1.51\n",
      "uk.proc.d.1967-06-29.11.1.52\n",
      "uk.proc.d.1967-06-29.11.1.53\n",
      "uk.proc.d.1967-06-29.11.1.54\n",
      "uk.proc.d.1967-06-29.11.1.55\n",
      "uk.proc.d.1967-06-29.11.1.56\n",
      "uk.proc.d.1967-06-29.11.1.57\n",
      "uk.proc.d.1967-06-29.11.1.58\n",
      "uk.proc.d.1967-06-29.11.1.59\n",
      "uk.proc.d.1967-06-29.11.1.60\n",
      "uk.proc.d.1967-06-29.11.1.61\n",
      "uk.proc.d.1967-06-29.11.1.62\n",
      "uk.proc.d.1967-06-29.11.1.63\n",
      "uk.proc.d.1967-06-29.11.1.64\n",
      "uk.proc.d.1967-06-29.11.1.65\n",
      "uk.proc.d.1967-06-29.11.1.66\n",
      "uk.proc.d.1967-06-29.11.1.67\n",
      "uk.proc.d.1967-06-29.11.1.68\n",
      "uk.proc.d.1967-06-29.11.1.69\n",
      "uk.proc.d.1967-06-29.11.1.70\n",
      "uk.proc.d.1967-06-29.11.1.72\n",
      "uk.proc.d.1967-06-29.11.1.73\n",
      "uk.proc.d.1967-06-29.11.1.74\n",
      "uk.proc.d.1967-06-29.11.1.75\n",
      "uk.proc.d.1967-06-29.11.1.76\n",
      "uk.proc.d.1967-06-29.12.1.1\n",
      "uk.proc.d.1967-06-29.12.1.2\n",
      "uk.proc.d.1967-06-29.12.1.3\n",
      "uk.proc.d.1967-06-29.12.1.4\n",
      "uk.proc.d.1967-06-29.12.1.5\n",
      "uk.proc.d.1967-06-29.12.1.6\n",
      "uk.proc.d.1967-06-29.12.1.7\n",
      "uk.proc.d.1967-06-29.12.1.8\n",
      "uk.proc.d.1967-06-29.12.1.9\n",
      "uk.proc.d.1967-06-29.12.1.10\n",
      "uk.proc.d.1967-06-29.12.1.11\n",
      "uk.proc.d.1967-06-29.12.1.12\n",
      "uk.proc.d.1967-06-29.12.1.13\n",
      "uk.proc.d.1967-06-29.12.1.14\n",
      "uk.proc.d.1967-06-29.12.1.15\n",
      "uk.proc.d.1967-06-29.12.1.16\n",
      "uk.proc.d.1967-06-29.12.1.17\n",
      "uk.proc.d.1967-06-29.12.1.18\n",
      "uk.proc.d.1967-06-29.15.1.2\n",
      "uk.proc.d.1967-06-29.15.1.3\n",
      "uk.proc.d.1967-06-29.15.1.4\n",
      "uk.proc.d.1967-06-29.15.1.5\n",
      "uk.proc.d.1967-06-29.15.1.6\n",
      "uk.proc.d.1967-06-29.15.1.7\n",
      "uk.proc.d.1967-06-29.15.1.8\n",
      "uk.proc.d.1967-06-29.15.1.9\n",
      "uk.proc.d.1967-06-29.15.1.10\n",
      "uk.proc.d.1967-06-29.15.1.11\n",
      "uk.proc.d.1967-06-29.15.1.12\n",
      "uk.proc.d.1967-06-29.15.1.13\n",
      "uk.proc.d.1967-06-29.15.1.14\n",
      "uk.proc.d.1967-06-29.15.1.15\n",
      "uk.proc.d.1967-06-29.15.1.16\n",
      "uk.proc.d.1967-06-29.15.1.17\n",
      "uk.proc.d.1967-06-29.15.1.18\n",
      "uk.proc.d.1967-06-29.15.1.20\n",
      "uk.proc.d.1967-06-29.15.1.21\n",
      "uk.proc.d.1967-06-29.15.1.22\n",
      "uk.proc.d.1967-06-29.15.1.23\n",
      "uk.proc.d.1967-06-29.15.1.24\n",
      "uk.proc.d.1967-06-29.15.1.25\n",
      "uk.proc.d.1967-06-29.15.1.26\n",
      "uk.proc.d.1967-06-29.15.1.27\n",
      "uk.proc.d.1967-06-29.15.1.28\n",
      "uk.proc.d.1967-06-29.15.1.29\n",
      "uk.proc.d.1967-06-29.15.1.30\n",
      "uk.proc.d.1967-06-29.15.1.31\n",
      "uk.proc.d.1967-06-29.15.1.32\n",
      "uk.proc.d.1967-06-29.15.1.33\n",
      "uk.proc.d.1967-06-29.15.1.34\n",
      "uk.proc.d.1967-06-29.15.1.35\n",
      "uk.proc.d.1967-06-29.15.1.36\n",
      "uk.proc.d.1967-06-29.15.1.37\n",
      "uk.proc.d.1967-06-29.15.1.38\n",
      "uk.proc.d.1967-06-29.15.1.39\n",
      "uk.proc.d.1967-06-29.15.1.40\n",
      "uk.proc.d.1967-06-29.15.1.41\n",
      "uk.proc.d.1967-06-29.15.1.42\n",
      "uk.proc.d.1967-06-29.15.1.43\n",
      "uk.proc.d.1967-06-29.15.1.44\n",
      "uk.proc.d.1967-06-29.15.1.45\n",
      "uk.proc.d.1967-06-29.15.1.46\n",
      "uk.proc.d.1967-06-29.15.1.47\n",
      "uk.proc.d.1967-06-29.15.1.48\n",
      "uk.proc.d.1967-06-29.15.1.49\n",
      "uk.proc.d.1967-06-29.15.1.50\n",
      "uk.proc.d.1967-06-29.15.1.51\n",
      "uk.proc.d.1967-06-29.15.1.52\n",
      "uk.proc.d.1967-06-29.15.1.53\n",
      "uk.proc.d.1967-06-29.15.1.54\n",
      "uk.proc.d.1967-06-29.15.1.55\n",
      "uk.proc.d.1967-06-29.15.1.56\n",
      "uk.proc.d.1967-06-29.15.1.57\n",
      "uk.proc.d.1967-06-29.15.1.58\n",
      "uk.proc.d.1967-06-29.15.1.59\n",
      "uk.proc.d.1967-06-29.15.1.61\n",
      "uk.proc.d.1967-06-29.15.1.62\n",
      "uk.proc.d.1967-06-29.15.1.63\n",
      "uk.proc.d.1967-06-29.15.1.64\n",
      "uk.proc.d.1967-06-29.15.1.65\n",
      "uk.proc.d.1967-06-29.15.1.66\n",
      "uk.proc.d.1967-06-29.15.1.67\n",
      "uk.proc.d.1967-06-29.15.1.69\n",
      "uk.proc.d.1967-06-29.15.1.71\n",
      "uk.proc.d.1967-06-29.15.1.72\n",
      "uk.proc.d.1967-06-29.15.1.73\n",
      "uk.proc.d.1967-06-29.15.1.74\n",
      "uk.proc.d.1967-06-29.15.1.75\n",
      "uk.proc.d.1967-06-29.15.1.76\n",
      "uk.proc.d.1967-06-29.15.1.77\n",
      "uk.proc.d.1967-06-29.15.1.78\n",
      "uk.proc.d.1967-06-29.15.1.79\n",
      "uk.proc.d.1967-06-29.15.1.81\n",
      "uk.proc.d.1967-06-29.15.1.82\n",
      "uk.proc.d.1967-06-29.15.1.83\n",
      "uk.proc.d.1967-06-29.15.1.84\n",
      "uk.proc.d.1967-06-29.15.1.85\n",
      "uk.proc.d.1967-06-29.15.1.87\n",
      "uk.proc.d.1967-06-29.15.1.88\n",
      "uk.proc.d.1967-06-29.15.1.89\n",
      "uk.proc.d.1967-06-29.15.1.90\n",
      "uk.proc.d.1967-06-29.15.1.91\n",
      "uk.proc.d.1967-06-29.15.1.93\n",
      "uk.proc.d.1967-06-29.15.1.94\n",
      "uk.proc.d.1967-06-29.15.1.95\n",
      "uk.proc.d.1967-06-29.15.1.96\n",
      "uk.proc.d.1967-06-29.15.1.97\n",
      "uk.proc.d.1967-06-29.15.1.98\n",
      "uk.proc.d.1967-06-29.15.1.99\n",
      "uk.proc.d.1967-06-29.15.1.101\n",
      "uk.proc.d.1967-06-29.15.1.102\n",
      "uk.proc.d.1967-06-29.15.1.103\n",
      "uk.proc.d.1967-06-29.15.1.104\n",
      "uk.proc.d.1967-06-29.15.1.105\n",
      "uk.proc.d.1967-06-29.15.1.106\n",
      "uk.proc.d.1967-06-29.15.1.107\n",
      "uk.proc.d.1967-06-29.15.1.108\n",
      "uk.proc.d.1967-06-29.15.1.109\n",
      "uk.proc.d.1967-06-29.15.1.110\n",
      "uk.proc.d.1967-06-29.15.1.112\n",
      "uk.proc.d.1967-06-29.15.1.113\n",
      "uk.proc.d.1967-06-29.15.1.114\n",
      "uk.proc.d.1967-06-29.15.1.115\n",
      "uk.proc.d.1967-06-29.15.1.116\n",
      "uk.proc.d.1967-06-29.15.1.118\n",
      "uk.proc.d.1967-06-29.15.1.120\n",
      "uk.proc.d.1967-06-29.15.1.121\n",
      "uk.proc.d.1967-06-29.15.1.122\n",
      "uk.proc.d.1967-06-29.15.1.123\n",
      "uk.proc.d.1967-06-29.15.1.124\n",
      "uk.proc.d.1967-06-29.15.1.126\n",
      "uk.proc.d.1967-06-29.15.1.127\n",
      "uk.proc.d.1967-06-29.15.1.128\n",
      "uk.proc.d.1967-06-29.15.1.129\n",
      "uk.proc.d.1967-06-29.15.1.130\n",
      "uk.proc.d.1967-06-29.15.1.131\n",
      "uk.proc.d.1967-06-29.15.1.132\n",
      "uk.proc.d.1967-06-29.15.1.133\n",
      "uk.proc.d.1967-06-29.15.1.134\n",
      "uk.proc.d.1967-06-29.15.1.135\n",
      "uk.proc.d.1967-06-29.15.1.136\n",
      "uk.proc.d.1967-06-29.15.1.137\n",
      "uk.proc.d.1967-06-29.15.1.138\n",
      "uk.proc.d.1967-06-29.15.1.139\n",
      "uk.proc.d.1967-06-29.15.1.140\n",
      "uk.proc.d.1967-06-29.15.1.141\n",
      "uk.proc.d.1967-06-29.15.1.142\n",
      "uk.proc.d.1967-06-29.15.1.143\n",
      "uk.proc.d.1967-06-29.15.1.144\n",
      "uk.proc.d.1967-06-29.15.1.145\n",
      "uk.proc.d.1967-06-29.15.1.146\n",
      "uk.proc.d.1967-06-29.15.1.147\n",
      "uk.proc.d.1967-06-29.15.1.148\n",
      "uk.proc.d.1967-06-29.15.1.149\n",
      "uk.proc.d.1967-06-29.15.1.150\n",
      "uk.proc.d.1967-06-29.15.1.151\n",
      "uk.proc.d.1967-06-29.15.1.152\n",
      "uk.proc.d.1967-06-29.15.1.153\n",
      "uk.proc.d.1967-06-29.15.1.154\n",
      "uk.proc.d.1967-06-29.15.1.155\n",
      "uk.proc.d.1967-06-29.15.1.156\n",
      "uk.proc.d.1967-06-29.15.1.157\n",
      "uk.proc.d.1967-06-29.15.1.158\n",
      "uk.proc.d.1967-06-29.15.1.159\n",
      "uk.proc.d.1967-06-29.15.1.160\n",
      "uk.proc.d.1967-06-29.15.1.161\n",
      "uk.proc.d.1967-06-29.15.1.162\n",
      "uk.proc.d.1967-06-29.15.1.163\n",
      "uk.proc.d.1967-06-29.15.1.164\n",
      "uk.proc.d.1967-06-29.15.1.165\n",
      "uk.proc.d.1967-06-29.15.1.166\n",
      "uk.proc.d.1967-06-29.17.2.4\n",
      "uk.proc.d.1967-06-29.17.2.5\n",
      "uk.proc.d.1967-06-29.17.2.6\n",
      "uk.proc.d.1967-06-29.17.2.7\n",
      "uk.proc.d.1967-06-29.17.2.8\n",
      "uk.proc.d.1967-06-29.17.2.9\n",
      "uk.proc.d.1967-06-29.17.2.10\n",
      "uk.proc.d.1967-06-29.17.2.11\n",
      "uk.proc.d.1967-06-29.17.2.12\n",
      "uk.proc.d.1967-06-29.17.2.13\n",
      "uk.proc.d.1967-06-29.17.2.14\n",
      "uk.proc.d.1967-06-29.17.2.15\n",
      "uk.proc.d.1967-06-29.17.2.16\n",
      "uk.proc.d.1967-06-29.17.2.17\n",
      "uk.proc.d.1967-06-29.17.2.18\n",
      "uk.proc.d.1967-06-29.17.2.19\n",
      "uk.proc.d.1967-06-29.17.2.20\n",
      "uk.proc.d.1967-06-29.17.2.21\n",
      "uk.proc.d.1967-06-29.17.2.22\n",
      "uk.proc.d.1967-06-29.17.2.23\n",
      "uk.proc.d.1967-06-29.17.2.24\n",
      "uk.proc.d.1967-06-29.17.2.25\n",
      "uk.proc.d.1967-06-29.17.2.26\n",
      "uk.proc.d.1967-06-29.17.2.27\n",
      "uk.proc.d.1967-06-29.17.2.28\n",
      "uk.proc.d.1967-06-29.17.2.29\n",
      "uk.proc.d.1967-06-29.17.2.30\n",
      "uk.proc.d.1967-06-29.17.2.31\n",
      "uk.proc.d.1967-06-29.17.2.32\n",
      "uk.proc.d.1967-06-29.17.2.33\n",
      "uk.proc.d.1967-06-29.17.2.34\n",
      "uk.proc.d.1967-06-29.17.2.35\n",
      "uk.proc.d.1967-06-29.17.2.36\n",
      "uk.proc.d.1967-06-29.17.2.37\n",
      "uk.proc.d.1967-06-29.17.2.38\n",
      "uk.proc.d.1967-06-29.17.2.39\n",
      "uk.proc.d.1967-06-29.17.2.40\n",
      "uk.proc.d.1967-06-29.17.2.41\n",
      "uk.proc.d.1967-06-29.17.2.42\n",
      "uk.proc.d.1967-06-29.17.2.43\n",
      "uk.proc.d.1967-06-29.17.2.44\n",
      "uk.proc.d.1967-06-29.17.2.45\n",
      "uk.proc.d.1967-06-29.17.2.48\n",
      "uk.proc.d.1967-06-29.17.2.55\n",
      "uk.proc.d.1967-06-29.17.2.56\n",
      "uk.proc.d.1967-06-29.17.2.57\n",
      "uk.proc.d.1967-06-29.17.2.58\n",
      "uk.proc.d.1967-06-29.17.2.59\n",
      "uk.proc.d.1967-06-29.17.2.60\n",
      "uk.proc.d.1967-06-29.17.2.61\n",
      "uk.proc.d.1967-06-29.17.2.62\n",
      "uk.proc.d.1967-06-29.17.2.63\n",
      "uk.proc.d.1967-06-29.17.2.64\n",
      "uk.proc.d.1967-06-29.17.2.65\n",
      "uk.proc.d.1967-06-29.17.2.66\n",
      "uk.proc.d.1967-06-29.17.2.67\n",
      "uk.proc.d.1967-06-29.17.2.68\n",
      "uk.proc.d.1967-06-29.17.2.69\n",
      "uk.proc.d.1967-06-29.17.2.70\n",
      "uk.proc.d.1967-06-29.17.2.71\n",
      "uk.proc.d.1967-06-29.17.2.72\n",
      "uk.proc.d.1967-06-29.17.2.73\n",
      "uk.proc.d.1967-06-29.17.2.74\n",
      "uk.proc.d.1967-06-29.17.2.75\n",
      "uk.proc.d.1967-06-29.17.2.76\n",
      "uk.proc.d.1967-06-29.17.2.77\n",
      "uk.proc.d.1967-06-29.17.2.78\n",
      "uk.proc.d.1967-06-29.17.2.79\n",
      "uk.proc.d.1967-06-29.17.2.80\n",
      "uk.proc.d.1967-06-29.17.2.81\n",
      "uk.proc.d.1967-06-29.17.2.82\n",
      "uk.proc.d.1967-06-29.17.2.83\n",
      "uk.proc.d.1967-06-29.17.2.85\n",
      "uk.proc.d.1967-06-29.17.2.86\n",
      "uk.proc.d.1967-06-29.17.2.87\n",
      "uk.proc.d.1967-06-29.17.2.88\n",
      "uk.proc.d.1967-06-29.17.2.89\n",
      "uk.proc.d.1967-06-29.17.2.90\n",
      "uk.proc.d.1967-06-29.17.2.91\n",
      "uk.proc.d.1967-06-29.17.2.92\n",
      "uk.proc.d.1967-06-29.17.2.93\n",
      "uk.proc.d.1967-06-29.17.2.94\n",
      "uk.proc.d.1967-06-29.17.2.95\n",
      "uk.proc.d.1967-06-29.17.2.96\n",
      "uk.proc.d.1967-06-29.17.2.97\n",
      "uk.proc.d.1967-06-29.17.2.99\n",
      "uk.proc.d.1967-06-29.17.2.100\n",
      "uk.proc.d.1967-06-29.17.2.101\n",
      "uk.proc.d.1967-06-29.17.2.102\n",
      "uk.proc.d.1967-06-29.17.2.103\n",
      "uk.proc.d.1967-06-29.17.2.104\n",
      "uk.proc.d.1967-06-29.17.2.105\n",
      "uk.proc.d.1967-06-29.17.2.106\n",
      "uk.proc.d.1967-06-29.17.2.107\n",
      "uk.proc.d.1967-06-29.17.2.108\n",
      "uk.proc.d.1967-06-29.17.2.109\n",
      "uk.proc.d.1967-06-29.17.2.110\n",
      "uk.proc.d.1967-06-29.17.2.111\n",
      "uk.proc.d.1967-06-29.17.2.112\n",
      "uk.proc.d.1967-06-29.17.2.113\n",
      "uk.proc.d.1967-06-29.17.2.114\n",
      "uk.proc.d.1967-06-29.17.2.115\n",
      "uk.proc.d.1967-06-29.17.2.116\n",
      "uk.proc.d.1967-06-29.17.2.117\n",
      "uk.proc.d.1967-06-29.17.2.118\n",
      "uk.proc.d.1967-06-29.17.2.119\n",
      "uk.proc.d.1967-06-29.17.2.120\n",
      "uk.proc.d.1967-06-29.17.2.121\n",
      "uk.proc.d.1967-06-29.17.2.122\n",
      "uk.proc.d.1967-06-29.17.2.123\n",
      "uk.proc.d.1967-06-29.17.2.124\n",
      "uk.proc.d.1967-06-29.17.2.125\n",
      "uk.proc.d.1967-06-29.17.2.126\n",
      "uk.proc.d.1967-06-29.17.2.127\n",
      "uk.proc.d.1967-06-29.17.2.128\n",
      "uk.proc.d.1967-06-29.17.2.129\n",
      "uk.proc.d.1967-06-29.17.2.130\n",
      "uk.proc.d.1967-06-29.17.2.131\n",
      "uk.proc.d.1967-06-29.17.2.133\n",
      "uk.proc.d.1967-06-29.17.2.134\n",
      "uk.proc.d.1967-06-29.17.2.135\n",
      "uk.proc.d.1967-06-29.17.2.136\n",
      "uk.proc.d.1967-06-29.17.2.137\n",
      "uk.proc.d.1967-06-29.17.2.138\n",
      "uk.proc.d.1967-06-29.17.2.139\n",
      "uk.proc.d.1967-06-29.17.2.140\n",
      "uk.proc.d.1967-06-29.17.2.141\n",
      "uk.proc.d.1967-06-29.17.2.142\n",
      "uk.proc.d.1967-06-29.17.2.143\n",
      "uk.proc.d.1967-06-29.17.2.144\n",
      "uk.proc.d.1967-06-29.17.2.146\n",
      "uk.proc.d.1967-06-29.17.2.147\n",
      "uk.proc.d.1967-06-29.17.2.148\n",
      "uk.proc.d.1967-06-29.17.2.149\n",
      "uk.proc.d.1967-06-29.17.2.150\n",
      "uk.proc.d.1967-06-29.17.2.151\n",
      "uk.proc.d.1967-06-29.17.2.152\n",
      "uk.proc.d.1967-06-29.17.2.153\n",
      "uk.proc.d.1967-06-29.17.2.154\n",
      "uk.proc.d.1967-06-29.17.2.155\n",
      "uk.proc.d.1967-06-29.17.2.156\n",
      "uk.proc.d.1967-06-29.17.2.157\n",
      "uk.proc.d.1967-06-29.17.2.158\n",
      "uk.proc.d.1967-06-29.17.2.159\n",
      "uk.proc.d.1967-06-29.17.2.160\n",
      "uk.proc.d.1967-06-29.17.2.161\n",
      "uk.proc.d.1967-06-29.17.2.162\n",
      "uk.proc.d.1967-06-29.17.2.163\n",
      "uk.proc.d.1967-06-29.17.2.164\n",
      "uk.proc.d.1967-06-29.17.2.165\n",
      "uk.proc.d.1967-06-29.17.2.166\n",
      "uk.proc.d.1967-06-29.17.2.167\n",
      "uk.proc.d.1967-06-29.17.2.168\n",
      "uk.proc.d.1967-06-29.17.2.169\n",
      "uk.proc.d.1967-06-29.17.2.171\n",
      "uk.proc.d.1967-06-29.17.2.172\n",
      "uk.proc.d.1967-06-29.17.2.184\n",
      "uk.proc.d.1967-06-29.17.2.185\n",
      "uk.proc.d.1967-06-29.17.2.186\n",
      "uk.proc.d.1967-06-29.17.2.187\n",
      "uk.proc.d.1967-06-29.17.2.188\n",
      "uk.proc.d.1967-06-29.17.2.189\n",
      "uk.proc.d.1967-06-29.17.2.190\n",
      "uk.proc.d.1967-06-29.17.2.191\n",
      "uk.proc.d.1967-06-29.17.2.192\n",
      "uk.proc.d.1967-06-29.17.2.194\n",
      "uk.proc.d.1967-06-29.17.2.195\n",
      "uk.proc.d.1967-06-29.17.2.196\n",
      "uk.proc.d.1967-06-29.17.2.197\n",
      "uk.proc.d.1967-06-29.17.2.198\n",
      "uk.proc.d.1967-06-29.17.2.199\n",
      "uk.proc.d.1967-06-29.17.2.200\n",
      "uk.proc.d.1967-06-29.17.2.201\n",
      "uk.proc.d.1967-06-29.17.2.202\n",
      "uk.proc.d.1967-06-29.17.2.203\n",
      "uk.proc.d.1967-06-29.17.2.204\n",
      "uk.proc.d.1967-06-29.17.2.205\n",
      "uk.proc.d.1967-06-29.17.2.206\n",
      "uk.proc.d.1967-06-29.17.2.207\n",
      "uk.proc.d.1967-06-29.17.2.208\n",
      "uk.proc.d.1967-06-29.17.2.209\n",
      "uk.proc.d.1967-06-29.17.2.210\n",
      "uk.proc.d.1967-06-29.17.2.212\n",
      "uk.proc.d.1967-06-29.17.2.213\n",
      "uk.proc.d.1967-06-29.17.2.214\n",
      "uk.proc.d.1967-06-29.17.2.215\n",
      "uk.proc.d.1967-06-29.17.2.216\n",
      "uk.proc.d.1967-06-29.17.2.217\n",
      "uk.proc.d.1967-06-29.17.2.218\n",
      "uk.proc.d.1967-06-29.17.2.219\n",
      "uk.proc.d.1967-06-29.17.2.220\n",
      "uk.proc.d.1967-06-29.17.2.221\n",
      "uk.proc.d.1967-06-29.17.2.222\n",
      "uk.proc.d.1967-06-29.17.2.223\n",
      "uk.proc.d.1967-06-29.17.2.224\n",
      "uk.proc.d.1967-06-29.17.2.225\n",
      "uk.proc.d.1967-06-29.17.2.226\n",
      "uk.proc.d.1967-06-29.17.2.227\n",
      "uk.proc.d.1967-06-29.17.2.228\n",
      "uk.proc.d.1967-06-29.17.2.229\n",
      "uk.proc.d.1967-06-29.17.2.230\n",
      "uk.proc.d.1967-06-29.17.2.231\n",
      "uk.proc.d.1967-06-29.17.2.232\n",
      "uk.proc.d.1967-06-29.17.2.233\n",
      "uk.proc.d.1967-06-29.17.2.234\n",
      "uk.proc.d.1967-06-29.17.2.235\n",
      "uk.proc.d.1967-06-29.17.2.236\n",
      "uk.proc.d.1967-06-29.17.2.237\n",
      "uk.proc.d.1967-06-29.17.2.238\n",
      "uk.proc.d.1967-06-29.17.2.239\n",
      "uk.proc.d.1967-06-29.17.2.240\n",
      "uk.proc.d.1967-06-29.17.2.241\n",
      "uk.proc.d.1967-06-29.17.2.242\n",
      "uk.proc.d.1967-06-29.17.2.243\n",
      "uk.proc.d.1967-06-29.17.2.244\n",
      "uk.proc.d.1967-06-29.17.2.245\n",
      "uk.proc.d.1967-06-29.17.2.246\n",
      "uk.proc.d.1967-06-29.17.2.248\n",
      "uk.proc.d.1967-06-29.17.2.249\n",
      "uk.proc.d.1967-06-29.17.2.250\n",
      "uk.proc.d.1967-06-29.17.2.251\n",
      "uk.proc.d.1967-06-29.17.2.252\n",
      "uk.proc.d.1967-06-29.17.2.253\n",
      "uk.proc.d.1967-06-29.17.2.254\n",
      "uk.proc.d.1967-06-29.17.2.255\n",
      "uk.proc.d.1967-06-29.17.2.256\n",
      "uk.proc.d.1967-06-29.17.2.257\n",
      "uk.proc.d.1967-06-29.17.2.258\n",
      "uk.proc.d.1967-06-29.17.2.259\n",
      "uk.proc.d.1967-06-29.17.2.260\n",
      "uk.proc.d.1967-06-29.17.2.261\n",
      "uk.proc.d.1967-06-29.17.2.262\n",
      "uk.proc.d.1967-06-29.17.2.263\n",
      "uk.proc.d.1967-06-29.17.2.264\n",
      "uk.proc.d.1967-06-29.17.2.265\n",
      "uk.proc.d.1967-06-29.17.2.266\n",
      "uk.proc.d.1967-06-29.17.2.267\n",
      "uk.proc.d.1967-06-29.17.2.269\n",
      "uk.proc.d.1967-06-29.17.2.270\n",
      "uk.proc.d.1967-06-29.17.2.271\n",
      "uk.proc.d.1967-06-29.17.2.272\n",
      "uk.proc.d.1967-06-29.17.2.273\n",
      "uk.proc.d.1967-06-29.17.2.274\n",
      "uk.proc.d.1967-06-29.17.2.275\n",
      "uk.proc.d.1967-06-29.17.2.277\n",
      "uk.proc.d.1967-06-29.17.2.278\n",
      "uk.proc.d.1967-06-29.17.2.279\n",
      "uk.proc.d.1967-06-29.17.2.280\n",
      "uk.proc.d.1967-06-29.17.2.284\n",
      "uk.proc.d.1967-06-29.17.2.285\n",
      "uk.proc.d.1967-06-29.17.2.286\n",
      "uk.proc.d.1967-06-29.17.2.287\n",
      "uk.proc.d.1967-06-29.17.2.288\n",
      "uk.proc.d.1967-06-29.17.2.289\n",
      "uk.proc.d.1967-06-29.17.2.290\n",
      "uk.proc.d.1967-06-29.17.2.293\n",
      "uk.proc.d.1967-06-29.17.2.294\n",
      "uk.proc.d.1967-06-29.17.2.299\n",
      "uk.proc.d.1967-06-29.17.2.300\n",
      "uk.proc.d.1967-06-29.17.2.301\n",
      "uk.proc.d.1967-06-29.17.2.302\n",
      "uk.proc.d.1967-06-29.17.2.303\n",
      "uk.proc.d.1967-06-29.17.2.304\n",
      "uk.proc.d.1967-06-29.17.2.305\n",
      "uk.proc.d.1967-06-29.17.2.306\n",
      "uk.proc.d.1967-06-29.17.2.307\n",
      "uk.proc.d.1967-06-29.17.2.308\n",
      "uk.proc.d.1967-06-29.17.2.309\n",
      "uk.proc.d.1967-06-29.17.2.310\n",
      "uk.proc.d.1967-06-29.17.2.311\n",
      "uk.proc.d.1967-06-29.17.2.312\n",
      "uk.proc.d.1967-06-29.17.2.313\n",
      "uk.proc.d.1967-06-29.17.2.314\n",
      "uk.proc.d.1967-06-29.17.2.315\n",
      "uk.proc.d.1967-06-29.17.2.316\n",
      "uk.proc.d.1967-06-29.17.2.317\n",
      "uk.proc.d.1967-06-29.17.2.318\n",
      "uk.proc.d.1967-06-29.17.2.319\n",
      "uk.proc.d.1967-06-29.17.2.320\n",
      "uk.proc.d.1967-06-29.17.2.321\n",
      "uk.proc.d.1967-06-29.17.2.322\n",
      "uk.proc.d.1967-06-29.17.2.323\n",
      "uk.proc.d.1967-06-29.17.2.324\n",
      "uk.proc.d.1967-06-29.17.2.325\n",
      "uk.proc.d.1967-06-29.17.2.326\n",
      "uk.proc.d.1967-06-29.17.2.327\n",
      "uk.proc.d.1967-06-29.17.2.328\n",
      "uk.proc.d.1967-06-29.17.2.329\n",
      "uk.proc.d.1967-06-29.17.2.330\n",
      "uk.proc.d.1967-06-29.17.2.331\n",
      "uk.proc.d.1967-06-29.17.2.332\n",
      "uk.proc.d.1967-06-29.17.2.333\n",
      "uk.proc.d.1967-06-29.17.2.334\n",
      "uk.proc.d.1967-06-29.17.2.335\n",
      "uk.proc.d.1967-06-29.17.2.336\n",
      "uk.proc.d.1967-06-29.17.2.337\n",
      "uk.proc.d.1967-06-29.17.2.338\n",
      "uk.proc.d.1967-06-29.17.2.339\n",
      "uk.proc.d.1967-06-29.17.2.340\n",
      "uk.proc.d.1967-06-29.17.2.341\n",
      "uk.proc.d.1967-06-29.17.2.342\n",
      "uk.proc.d.1967-06-29.17.2.343\n",
      "uk.proc.d.1967-06-29.17.2.344\n",
      "uk.proc.d.1967-06-29.17.2.346\n",
      "uk.proc.d.1967-06-29.17.2.347\n",
      "uk.proc.d.1967-06-29.17.2.348\n",
      "uk.proc.d.1967-06-29.17.2.356\n",
      "uk.proc.d.1967-06-29.17.2.360\n",
      "uk.proc.d.1967-06-29.17.2.361\n",
      "uk.proc.d.1967-06-29.17.2.362\n",
      "uk.proc.d.1967-06-29.17.2.363\n",
      "uk.proc.d.1967-06-29.17.2.364\n",
      "uk.proc.d.1967-06-29.17.2.365\n",
      "uk.proc.d.1967-06-29.17.2.366\n",
      "uk.proc.d.1967-06-29.17.2.367\n",
      "uk.proc.d.1967-06-29.17.2.368\n",
      "uk.proc.d.1967-06-29.17.2.369\n",
      "uk.proc.d.1967-06-29.17.2.370\n",
      "uk.proc.d.1967-06-29.17.2.371\n",
      "uk.proc.d.1967-06-29.17.2.372\n",
      "uk.proc.d.1967-06-29.17.2.373\n",
      "uk.proc.d.1967-06-29.17.2.374\n",
      "uk.proc.d.1967-06-29.17.2.375\n",
      "uk.proc.d.1967-06-29.17.2.376\n",
      "uk.proc.d.1967-06-29.17.2.377\n",
      "uk.proc.d.1967-06-29.17.2.378\n",
      "uk.proc.d.1967-06-29.17.2.379\n",
      "uk.proc.d.1967-06-29.17.2.380\n",
      "uk.proc.d.1967-06-29.17.2.381\n",
      "uk.proc.d.1967-06-29.17.2.382\n",
      "uk.proc.d.1967-06-29.17.2.383\n",
      "uk.proc.d.1967-06-29.17.2.384\n",
      "uk.proc.d.1967-06-29.17.2.385\n",
      "uk.proc.d.1967-06-29.17.2.386\n",
      "uk.proc.d.1967-06-29.17.2.387\n",
      "uk.proc.d.1967-06-29.17.2.388\n",
      "uk.proc.d.1967-06-29.17.2.389\n",
      "uk.proc.d.1967-06-29.17.2.390\n",
      "uk.proc.d.1967-06-29.17.2.391\n",
      "uk.proc.d.1967-06-29.17.2.392\n",
      "uk.proc.d.1967-06-29.17.2.393\n",
      "uk.proc.d.1967-06-29.17.2.394\n",
      "uk.proc.d.1967-06-29.17.2.395\n",
      "uk.proc.d.1967-06-29.17.2.396\n",
      "uk.proc.d.1967-06-29.17.2.397\n",
      "uk.proc.d.1967-06-29.17.2.398\n",
      "uk.proc.d.1967-06-29.17.2.399\n",
      "uk.proc.d.1967-06-29.17.2.400\n",
      "uk.proc.d.1967-06-29.17.2.401\n",
      "uk.proc.d.1967-06-29.17.2.402\n",
      "uk.proc.d.1967-06-29.17.2.403\n",
      "uk.proc.d.1967-06-29.17.2.404\n",
      "uk.proc.d.1967-06-29.17.2.405\n",
      "uk.proc.d.1967-06-29.17.2.406\n",
      "uk.proc.d.1967-06-29.17.2.407\n",
      "uk.proc.d.1967-06-29.17.2.408\n",
      "uk.proc.d.1967-06-29.17.2.409\n",
      "uk.proc.d.1967-06-29.17.2.410\n",
      "uk.proc.d.1967-06-29.17.2.411\n",
      "uk.proc.d.1967-06-29.17.2.412\n",
      "uk.proc.d.1967-06-29.17.2.413\n",
      "uk.proc.d.1967-06-29.17.2.414\n",
      "uk.proc.d.1967-06-29.17.2.415\n",
      "uk.proc.d.1967-06-29.17.2.416\n",
      "uk.proc.d.1967-06-29.17.2.417\n",
      "uk.proc.d.1967-06-29.17.2.418\n",
      "uk.proc.d.1967-06-29.17.2.419\n",
      "uk.proc.d.1967-06-29.17.2.420\n",
      "uk.proc.d.1967-06-29.17.2.422\n",
      "uk.proc.d.1967-06-29.17.2.423\n",
      "uk.proc.d.1967-06-29.17.2.424\n",
      "uk.proc.d.1967-06-29.17.2.425\n",
      "uk.proc.d.1967-06-29.17.2.426\n",
      "uk.proc.d.1967-06-29.17.2.427\n",
      "uk.proc.d.1967-06-29.17.2.428\n",
      "uk.proc.d.1967-06-29.17.2.429\n",
      "uk.proc.d.1967-06-29.17.2.430\n",
      "uk.proc.d.1967-06-29.17.2.431\n",
      "uk.proc.d.1967-06-29.17.2.432\n",
      "uk.proc.d.1967-06-29.17.2.433\n",
      "uk.proc.d.1967-06-29.17.2.434\n",
      "uk.proc.d.1967-06-29.17.2.435\n",
      "uk.proc.d.1967-06-29.17.2.436\n",
      "uk.proc.d.1967-06-29.17.2.437\n",
      "uk.proc.d.1967-06-29.17.2.438\n",
      "uk.proc.d.1967-06-29.17.2.439\n",
      "uk.proc.d.1967-06-29.17.2.440\n",
      "uk.proc.d.1967-06-29.17.2.441\n",
      "uk.proc.d.1967-06-29.17.2.442\n",
      "uk.proc.d.1967-06-29.17.2.443\n",
      "uk.proc.d.1967-06-29.17.2.444\n",
      "uk.proc.d.1967-06-29.17.2.445\n",
      "uk.proc.d.1967-06-29.17.2.446\n",
      "uk.proc.d.1967-06-29.17.2.447\n",
      "uk.proc.d.1967-06-29.17.2.449\n",
      "uk.proc.d.1967-06-29.17.2.450\n",
      "uk.proc.d.1967-06-29.17.2.451\n",
      "uk.proc.d.1967-06-29.17.2.452\n",
      "uk.proc.d.1967-06-29.17.2.453\n",
      "uk.proc.d.1967-06-29.17.2.454\n",
      "uk.proc.d.1967-06-29.17.2.455\n",
      "uk.proc.d.1967-06-29.17.2.456\n",
      "uk.proc.d.1967-06-29.17.2.457\n",
      "uk.proc.d.1967-06-29.17.2.458\n",
      "uk.proc.d.1967-06-29.17.2.459\n",
      "uk.proc.d.1967-06-29.17.2.460\n",
      "uk.proc.d.1967-06-29.17.2.461\n",
      "uk.proc.d.1967-06-29.17.2.462\n",
      "uk.proc.d.1967-06-29.17.2.463\n",
      "uk.proc.d.1967-06-29.17.2.464\n",
      "uk.proc.d.1967-06-29.17.2.465\n",
      "uk.proc.d.1967-06-29.17.2.466\n",
      "uk.proc.d.1967-06-29.17.2.467\n",
      "uk.proc.d.1967-06-29.17.2.468\n",
      "uk.proc.d.1967-06-29.17.2.469\n",
      "uk.proc.d.1967-06-29.17.2.470\n",
      "uk.proc.d.1967-06-29.17.2.472\n",
      "uk.proc.d.1967-06-29.17.2.473\n",
      "uk.proc.d.1967-06-29.17.2.474\n",
      "uk.proc.d.1967-06-29.17.2.475\n",
      "uk.proc.d.1967-06-29.17.2.476\n",
      "uk.proc.d.1967-06-29.17.2.477\n",
      "uk.proc.d.1967-06-29.17.2.478\n",
      "uk.proc.d.1967-06-29.17.2.479\n",
      "uk.proc.d.1967-06-29.17.2.480\n",
      "uk.proc.d.1967-06-29.17.2.481\n",
      "uk.proc.d.1967-06-29.17.2.482\n",
      "uk.proc.d.1967-06-29.17.2.483\n",
      "uk.proc.d.1967-06-29.17.2.484\n",
      "uk.proc.d.1967-06-29.17.2.485\n",
      "uk.proc.d.1967-06-29.17.2.487\n",
      "uk.proc.d.1967-06-29.17.2.488\n",
      "uk.proc.d.1967-06-29.17.2.489\n",
      "uk.proc.d.1967-06-29.17.2.490\n",
      "uk.proc.d.1967-06-29.17.2.491\n",
      "uk.proc.d.1967-06-29.17.2.495\n",
      "uk.proc.d.1967-06-29.17.2.500\n",
      "uk.proc.d.1967-06-29.17.2.501\n",
      "uk.proc.d.1967-06-29.17.2.502\n",
      "uk.proc.d.1967-06-29.17.2.503\n",
      "uk.proc.d.1967-06-29.17.2.504\n",
      "uk.proc.d.1967-06-29.17.2.505\n",
      "uk.proc.d.1967-06-29.17.2.506\n",
      "uk.proc.d.1967-06-29.17.2.507\n",
      "uk.proc.d.1967-06-29.17.2.508\n",
      "uk.proc.d.1967-06-29.17.2.510\n",
      "uk.proc.d.1967-06-29.17.2.511\n",
      "uk.proc.d.1967-06-29.17.2.512\n",
      "uk.proc.d.1967-06-29.17.2.513\n",
      "uk.proc.d.1967-06-29.17.2.514\n",
      "uk.proc.d.1967-06-29.17.2.515\n",
      "uk.proc.d.1967-06-29.17.2.516\n",
      "uk.proc.d.1967-06-29.17.2.517\n",
      "uk.proc.d.1967-06-29.17.2.518\n",
      "uk.proc.d.1967-06-29.17.2.519\n",
      "uk.proc.d.1967-06-29.17.2.520\n",
      "uk.proc.d.1967-06-29.17.2.521\n",
      "uk.proc.d.1967-06-29.17.2.522\n",
      "uk.proc.d.1967-06-29.17.2.524\n",
      "uk.proc.d.1967-06-29.17.2.525\n",
      "uk.proc.d.1967-06-29.17.2.526\n",
      "uk.proc.d.1967-06-29.17.2.527\n",
      "uk.proc.d.1967-06-29.17.2.528\n",
      "uk.proc.d.1967-06-29.17.2.529\n",
      "uk.proc.d.1967-06-29.17.2.530\n",
      "uk.proc.d.1967-06-29.17.2.531\n",
      "uk.proc.d.1967-06-29.17.2.532\n",
      "uk.proc.d.1967-06-29.17.2.533\n",
      "uk.proc.d.1967-06-29.17.2.534\n",
      "uk.proc.d.1967-06-29.17.2.535\n",
      "uk.proc.d.1967-06-29.17.2.536\n",
      "uk.proc.d.1967-06-29.17.2.537\n",
      "uk.proc.d.1967-06-29.17.2.538\n",
      "uk.proc.d.1967-06-29.17.2.539\n",
      "uk.proc.d.1967-06-29.17.2.540\n",
      "uk.proc.d.1967-06-29.17.2.541\n",
      "uk.proc.d.1967-06-29.17.2.542\n",
      "uk.proc.d.1967-06-29.17.2.543\n",
      "uk.proc.d.1967-06-29.17.2.544\n",
      "uk.proc.d.1967-06-29.17.2.545\n",
      "uk.proc.d.1967-06-29.17.2.546\n",
      "uk.proc.d.1967-06-29.17.2.547\n",
      "uk.proc.d.1967-06-29.17.2.548\n",
      "uk.proc.d.1967-06-29.17.2.549\n",
      "uk.proc.d.1967-06-29.17.2.550\n",
      "uk.proc.d.1967-06-29.17.2.551\n",
      "uk.proc.d.1967-06-29.17.2.552\n",
      "uk.proc.d.1967-06-29.17.2.553\n",
      "uk.proc.d.1967-06-29.17.2.554\n",
      "uk.proc.d.1967-06-29.17.2.555\n",
      "uk.proc.d.1967-06-29.17.2.556\n",
      "uk.proc.d.1967-06-29.17.2.558\n",
      "uk.proc.d.1967-06-29.17.2.559\n",
      "uk.proc.d.1967-06-29.17.2.560\n",
      "uk.proc.d.1967-06-29.17.2.561\n",
      "uk.proc.d.1967-06-29.17.2.562\n",
      "uk.proc.d.1967-06-29.17.2.563\n",
      "uk.proc.d.1967-06-29.17.2.564\n",
      "uk.proc.d.1967-06-29.17.2.565\n",
      "uk.proc.d.1967-06-29.17.2.566\n",
      "uk.proc.d.1967-06-29.17.2.567\n",
      "uk.proc.d.1967-06-29.17.2.568\n",
      "uk.proc.d.1967-06-29.17.2.569\n",
      "uk.proc.d.1967-06-29.17.2.570\n",
      "uk.proc.d.1967-06-29.17.2.571\n",
      "uk.proc.d.1967-06-29.17.2.572\n",
      "uk.proc.d.1967-06-29.17.2.573\n",
      "uk.proc.d.1967-06-29.17.2.574\n",
      "uk.proc.d.1967-06-29.17.2.575\n",
      "uk.proc.d.1967-06-29.17.2.576\n",
      "uk.proc.d.1967-06-29.17.2.577\n",
      "uk.proc.d.1967-06-29.17.2.578\n",
      "uk.proc.d.1967-06-29.17.2.579\n",
      "uk.proc.d.1967-06-29.17.2.580\n",
      "uk.proc.d.1967-06-29.17.2.581\n",
      "uk.proc.d.1967-06-29.17.2.583\n",
      "uk.proc.d.1967-06-29.17.2.584\n",
      "uk.proc.d.1967-06-29.17.2.585\n",
      "uk.proc.d.1967-06-29.17.2.586\n",
      "uk.proc.d.1967-06-29.17.2.587\n",
      "uk.proc.d.1967-06-29.17.2.588\n",
      "uk.proc.d.1967-06-29.17.2.589\n",
      "uk.proc.d.1967-06-29.17.2.590\n",
      "uk.proc.d.1967-06-29.17.2.592\n",
      "uk.proc.d.1967-06-29.17.2.593\n",
      "uk.proc.d.1967-06-29.17.2.594\n",
      "uk.proc.d.1967-06-29.17.2.595\n",
      "uk.proc.d.1967-06-29.17.2.596\n",
      "uk.proc.d.1967-06-29.17.2.597\n",
      "uk.proc.d.1967-06-29.17.2.598\n",
      "uk.proc.d.1967-06-29.17.2.599\n",
      "uk.proc.d.1967-06-29.17.2.600\n",
      "uk.proc.d.1967-06-29.17.2.601\n",
      "uk.proc.d.1967-06-29.17.2.602\n",
      "uk.proc.d.1967-06-29.17.2.603\n",
      "uk.proc.d.1967-06-29.17.2.604\n",
      "uk.proc.d.1967-06-29.17.2.605\n",
      "uk.proc.d.1967-06-29.17.2.606\n",
      "uk.proc.d.1967-06-29.17.2.607\n",
      "uk.proc.d.1967-06-29.17.2.608\n",
      "uk.proc.d.1967-06-29.17.2.609\n",
      "uk.proc.d.1967-06-29.17.2.610\n",
      "uk.proc.d.1967-06-29.17.2.611\n",
      "uk.proc.d.1967-06-29.17.2.612\n",
      "uk.proc.d.1967-06-29.17.2.613\n",
      "uk.proc.d.1967-06-29.17.2.615\n",
      "uk.proc.d.1967-06-29.17.2.616\n",
      "uk.proc.d.1967-06-29.17.2.617\n",
      "uk.proc.d.1967-06-29.17.2.618\n",
      "uk.proc.d.1967-06-29.17.2.620\n",
      "uk.proc.d.1967-06-29.17.2.621\n",
      "uk.proc.d.1967-06-29.17.2.622\n",
      "uk.proc.d.1967-06-29.17.2.623\n",
      "uk.proc.d.1967-06-29.17.2.624\n",
      "uk.proc.d.1967-06-29.17.2.632\n",
      "uk.proc.d.1967-06-29.17.2.633\n",
      "uk.proc.d.1967-06-29.17.2.634\n",
      "uk.proc.d.1967-06-29.17.2.635\n",
      "uk.proc.d.1967-06-29.17.2.636\n",
      "uk.proc.d.1967-06-29.17.2.637\n",
      "uk.proc.d.1967-06-29.17.2.638\n",
      "uk.proc.d.1967-06-29.17.2.639\n",
      "uk.proc.d.1967-06-29.17.2.640\n",
      "uk.proc.d.1967-06-29.17.2.641\n",
      "uk.proc.d.1967-06-29.17.2.643\n",
      "uk.proc.d.1967-06-29.17.2.644\n",
      "uk.proc.d.1967-06-29.17.2.645\n",
      "uk.proc.d.1967-06-29.17.2.646\n",
      "uk.proc.d.1967-06-29.17.2.647\n",
      "uk.proc.d.1967-06-29.17.2.648\n",
      "uk.proc.d.1967-06-29.17.2.649\n",
      "uk.proc.d.1967-06-29.17.2.650\n",
      "uk.proc.d.1967-06-29.17.2.651\n",
      "uk.proc.d.1967-06-29.17.2.652\n",
      "uk.proc.d.1967-06-29.17.2.653\n",
      "uk.proc.d.1967-06-29.17.2.654\n",
      "uk.proc.d.1967-06-29.17.2.655\n",
      "uk.proc.d.1967-06-29.17.2.656\n",
      "uk.proc.d.1967-06-29.17.2.657\n",
      "uk.proc.d.1967-06-29.17.2.658\n",
      "uk.proc.d.1967-06-29.17.2.659\n",
      "uk.proc.d.1967-06-29.17.2.660\n",
      "uk.proc.d.1967-06-29.17.2.661\n",
      "uk.proc.d.1967-06-29.17.2.662\n",
      "uk.proc.d.1967-06-29.17.2.663\n",
      "uk.proc.d.1967-06-29.17.2.664\n",
      "uk.proc.d.1967-06-29.17.2.665\n",
      "uk.proc.d.1967-06-29.17.2.666\n",
      "uk.proc.d.1967-06-29.17.2.667\n",
      "uk.proc.d.1967-06-29.17.2.668\n",
      "uk.proc.d.1967-06-29.17.2.670\n",
      "uk.proc.d.1967-06-29.17.2.671\n"
     ]
    }
   ],
   "source": [
    "# you can iterate over a specific element\n",
    "# notice that we need to define the namespace\n",
    "# for both the element and attribute\n",
    "for element in tree.iter(\"{http://www.politicalmashup.nl}speech\"):\n",
    "    print(element.attrib['{http://www.politicalmashup.nl}id'])"
   ]
  },
  {
   "cell_type": "code",
   "execution_count": null,
   "id": "3000f134",
   "metadata": {
    "slideshow": {
     "slide_type": "slide"
    }
   },
   "outputs": [],
   "source": [
    "# get the namespace mapping\n",
    "nsmap = root.nsmap; nsmap"
   ]
  },
  {
   "cell_type": "markdown",
   "id": "079d641e",
   "metadata": {
    "slideshow": {
     "slide_type": "slide"
    }
   },
   "source": [
    "### ✏️ 3. Exercise.\n",
    "- (Difficult) What is the longest speech in the fourth topic element?"
   ]
  },
  {
   "cell_type": "code",
   "execution_count": null,
   "id": "d3c22ad9",
   "metadata": {},
   "outputs": [],
   "source": [
    "# type answer here"
   ]
  },
  {
   "cell_type": "markdown",
   "id": "819f505a",
   "metadata": {
    "slideshow": {
     "slide_type": "slide"
    }
   },
   "source": [
    "## Elements carry attributes as dictionaries"
   ]
  },
  {
   "cell_type": "code",
   "execution_count": 53,
   "id": "91fe0e5b",
   "metadata": {
    "slideshow": {
     "slide_type": "fragment"
    }
   },
   "outputs": [
    {
     "data": {
      "text/plain": [
       "('{http://www.politicalmashup.nl}speech',\n",
       " {'{http://www.politicalmashup.nl}speaker': 'Mr. Goodhart', '{http://www.politicalmashup.nl}party': 'Conservative', '{http://www.politicalmashup.nl}role': 'mp', '{http://www.politicalmashup.nl}party-ref': 'uk.p.Con', '{http://www.politicalmashup.nl}member-ref': 'uk.m.17551', '{http://www.politicalmashup.nl}id': 'uk.proc.d.1967-06-29.3.7.16'})"
      ]
     },
     "execution_count": 53,
     "metadata": {},
     "output_type": "execute_result"
    }
   ],
   "source": [
    "proceedings[2][6][15].tag,proceedings[2][6][15].attrib"
   ]
  },
  {
   "cell_type": "code",
   "execution_count": 54,
   "id": "886551ae",
   "metadata": {
    "slideshow": {
     "slide_type": "slide"
    }
   },
   "outputs": [
    {
     "data": {
      "text/plain": [
       "'Mr. Goodhart'"
      ]
     },
     "execution_count": 54,
     "metadata": {},
     "output_type": "execute_result"
    }
   ],
   "source": [
    "# use string formatting for namespaces\n",
    "speech = proceedings[2][6][15]\n",
    "speech.attrib[\"{%s}speaker\" % root.nsmap['pm']]"
   ]
  },
  {
   "cell_type": "code",
   "execution_count": 55,
   "id": "637273ef",
   "metadata": {
    "slideshow": {
     "slide_type": "fragment"
    }
   },
   "outputs": [
    {
     "data": {
      "text/plain": [
       "'Mr. Goodhart'"
      ]
     },
     "execution_count": 55,
     "metadata": {},
     "output_type": "execute_result"
    }
   ],
   "source": [
    "# it is safer to use .get() method\n",
    "speech.attrib.get(\"{%s}speaker\" % root.nsmap['pm'], '')"
   ]
  },
  {
   "cell_type": "markdown",
   "id": "ba80ba1a",
   "metadata": {
    "slideshow": {
     "slide_type": "slide"
    }
   },
   "source": [
    "### ✏️ Exercise.\n",
    "\n",
    "- Count the number of speeches made by Conservative members during this sitting of Parliament."
   ]
  },
  {
   "cell_type": "code",
   "execution_count": null,
   "id": "07ee156a",
   "metadata": {
    "slideshow": {
     "slide_type": "fragment"
    }
   },
   "outputs": [],
   "source": [
    "# type answer here"
   ]
  },
  {
   "cell_type": "markdown",
   "id": "4ba3290d",
   "metadata": {
    "slideshow": {
     "slide_type": "slide"
    }
   },
   "source": [
    "### ✏️ Exercise.\n",
    "\n",
    "- How often does the Speaker intervene?"
   ]
  },
  {
   "cell_type": "code",
   "execution_count": null,
   "id": "5bb45eef",
   "metadata": {
    "slideshow": {
     "slide_type": "fragment"
    }
   },
   "outputs": [],
   "source": [
    "# type answer here"
   ]
  },
  {
   "cell_type": "markdown",
   "id": "8b99ab39",
   "metadata": {
    "slideshow": {
     "slide_type": "slide"
    }
   },
   "source": [
    "# Find methods"
   ]
  },
  {
   "cell_type": "code",
   "execution_count": null,
   "id": "1b6bcc5a",
   "metadata": {
    "slideshow": {
     "slide_type": "fragment"
    }
   },
   "outputs": [],
   "source": [
    "help(root.find)"
   ]
  },
  {
   "cell_type": "code",
   "execution_count": null,
   "id": "288e5930",
   "metadata": {
    "slideshow": {
     "slide_type": "slide"
    }
   },
   "outputs": [],
   "source": [
    "# note the namespace prefix\n",
    "# .// means from current location (i.e proceedings element)\n",
    "# search for descendant speech elements regardless of their \n",
    "# position in the subtree\n",
    "# find only returns the first element\n",
    "nsmap = root.nsmap\n",
    "speeches = root[2].find('.//pm:speech',namespaces=nsmap); speeches"
   ]
  },
  {
   "cell_type": "code",
   "execution_count": null,
   "id": "413bd787",
   "metadata": {
    "slideshow": {
     "slide_type": "fragment"
    }
   },
   "outputs": [],
   "source": [
    "# findall returns all element\n",
    "speeches = root[2].findall('.//pm:speech',namespaces=nsmap); len(speeches)"
   ]
  },
  {
   "cell_type": "markdown",
   "id": "3508a80d",
   "metadata": {
    "slideshow": {
     "slide_type": "slide"
    }
   },
   "source": [
    "# Fin."
   ]
  },
  {
   "cell_type": "markdown",
   "id": "f292142c",
   "metadata": {
    "slideshow": {
     "slide_type": "slide"
    }
   },
   "source": [
    "# Adanced: Finding Needles and Mining Haystacks with XPath\n",
    "\n",
    "- XPath is a rich language for **querying** and **navigating** elements and attributes in an XML document.\n",
    "    - Elaborate language XPath for defining regions interest in you XML documents.\n",
    "- Select elements, attributes, or text nodes.\n",
    "- XPath uses **path expressions** for querying and XML."
   ]
  },
  {
   "cell_type": "code",
   "execution_count": 38,
   "id": "3a94c6be",
   "metadata": {
    "slideshow": {
     "slide_type": "slide"
    }
   },
   "outputs": [
    {
     "ename": "NameError",
     "evalue": "name 'nsmap' is not defined",
     "output_type": "error",
     "traceback": [
      "\u001b[0;31m---------------------------------------------------------------------------\u001b[0m",
      "\u001b[0;31mNameError\u001b[0m                                 Traceback (most recent call last)",
      "Cell \u001b[0;32mIn[38], line 3\u001b[0m\n\u001b[1;32m      1\u001b[0m \u001b[38;5;66;03m# first scene of fifth topic\u001b[39;00m\n\u001b[1;32m      2\u001b[0m \u001b[38;5;66;03m# notice that index notation does not start at zero!\u001b[39;00m\n\u001b[0;32m----> 3\u001b[0m topic \u001b[38;5;241m=\u001b[39m root\u001b[38;5;241m.\u001b[39mxpath(\u001b[38;5;124m'\u001b[39m\u001b[38;5;124m./pm:proceedings/pm:topic[5]/pm:scene[1]\u001b[39m\u001b[38;5;124m'\u001b[39m,namespaces\u001b[38;5;241m=\u001b[39m\u001b[43mnsmap\u001b[49m); topic\n",
      "\u001b[0;31mNameError\u001b[0m: name 'nsmap' is not defined"
     ]
    }
   ],
   "source": [
    "# first scene of fifth topic\n",
    "# notice that index notation does not start at zero!\n",
    "topic = root.xpath('./pm:proceedings/pm:topic[5]/pm:scene[1]',namespaces=nsmap); topic"
   ]
  },
  {
   "cell_type": "code",
   "execution_count": null,
   "id": "6b4debf4",
   "metadata": {
    "slideshow": {
     "slide_type": "fragment"
    }
   },
   "outputs": [],
   "source": [
    "## first finds the first scene of fifth topic\n",
    "## // means any speech element contained by the third topic\n",
    "speeches = root.xpath('./pm:proceedings/pm:topic[3]//pm:speech',namespaces=nsmap); len(speeches)"
   ]
  },
  {
   "cell_type": "code",
   "execution_count": null,
   "id": "2a7f0eca",
   "metadata": {
    "slideshow": {
     "slide_type": "fragment"
    }
   },
   "outputs": [],
   "source": [
    "# .// from root find all speeches regardless of where they are situated\n",
    "speeches = root.xpath('.//pm:speech',namespaces=nsmap); len(speeches)"
   ]
  },
  {
   "cell_type": "code",
   "execution_count": null,
   "id": "066d6da2",
   "metadata": {
    "slideshow": {
     "slide_type": "slide"
    }
   },
   "outputs": [],
   "source": [
    "# return speeches that contain a particular attribute\n",
    "# in this case speeches with a role attribute\n",
    "speeches = root.xpath('.//pm:speech[@pm:role]',namespaces=nsmap); len(speeches)"
   ]
  },
  {
   "cell_type": "code",
   "execution_count": null,
   "id": "a8a79ed4",
   "metadata": {
    "slideshow": {
     "slide_type": "fragment"
    }
   },
   "outputs": [],
   "source": [
    "# return the attributes themselves not the element\n",
    "speeches = root.xpath('.//pm:speech/@pm:role',namespaces=nsmap); \n",
    "speeches[:10]"
   ]
  },
  {
   "cell_type": "code",
   "execution_count": null,
   "id": "ffbad152",
   "metadata": {
    "slideshow": {
     "slide_type": "fragment"
    }
   },
   "outputs": [],
   "source": [
    "# find speeches where attribute matches a particular value\n",
    "speeches = root[2].xpath('.//pm:speech[@pm:role=\"chair\"]',namespaces=nsmap); len(speeches)"
   ]
  },
  {
   "cell_type": "markdown",
   "id": "a6697e12",
   "metadata": {
    "slideshow": {
     "slide_type": "slide"
    }
   },
   "source": [
    "More information [here](https://devhints.io/xpath)"
   ]
  },
  {
   "cell_type": "markdown",
   "id": "830d1390",
   "metadata": {
    "slideshow": {
     "slide_type": "slide"
    }
   },
   "source": [
    "### ✏️ 5. Exercises.\n",
    "\n",
    "- Which parties are participating in this sitting?\n",
    "- How many conservative/labour speeches does the document contain? Which party intervenes more?"
   ]
  },
  {
   "cell_type": "code",
   "execution_count": null,
   "id": "f66ec937",
   "metadata": {
    "slideshow": {
     "slide_type": "fragment"
    }
   },
   "outputs": [],
   "source": [
    "# write answer here"
   ]
  },
  {
   "cell_type": "markdown",
   "id": "7876cbd6",
   "metadata": {
    "slideshow": {
     "slide_type": "slide"
    }
   },
   "source": [
    "## Combining structure and text"
   ]
  },
  {
   "cell_type": "code",
   "execution_count": null,
   "id": "9d3ea61f",
   "metadata": {
    "slideshow": {
     "slide_type": "fragment"
    }
   },
   "outputs": [],
   "source": [
    "# return paragraphs that mention a certain token, in this women\n",
    "mentions = root.xpath(\".//pm:speech/pm:p[contains(text(), 'women')]\",namespaces=nsmap)"
   ]
  },
  {
   "cell_type": "code",
   "execution_count": null,
   "id": "ceb30cd6",
   "metadata": {
    "slideshow": {
     "slide_type": "fragment"
    }
   },
   "outputs": [],
   "source": [
    "# get the fourth mention\n",
    "# move up one level in the tree to get the speech element \n",
    "# and then the speaker name in the attribute\n",
    "mentions[4].getparent().attrib['{http://www.politicalmashup.nl}speaker']"
   ]
  },
  {
   "cell_type": "markdown",
   "id": "8b7132aa",
   "metadata": {
    "slideshow": {
     "slide_type": "slide"
    }
   },
   "source": [
    "### ✏️ 6. Exercises.\n",
    "\n",
    "- Get the title attributes of each topic element.\n",
    "- Formulate an XPath expression that finds the debate (i.e. topic element) on the medical termination of pregnancy bill.\n",
    "- Formulate an XPath expression that finds speeches made by Labour MPs during the debate on the medical termination of pregnancy bill.\n",
    "- Formulate an XPath expression that finds paragraphs in speeches made by Conservative MPs during the debate on the medical termination of pregnancy bill that mentions the word \"women\". Print the content of these paragraphs.\n",
    "- Formulate a query the returns the speech in which the word woman is mentioned. (Difficult, requires some Googling)"
   ]
  },
  {
   "cell_type": "code",
   "execution_count": null,
   "id": "d290efd9",
   "metadata": {
    "slideshow": {
     "slide_type": "fragment"
    }
   },
   "outputs": [],
   "source": [
    "# write answer here"
   ]
  },
  {
   "cell_type": "markdown",
   "id": "38aa3481",
   "metadata": {
    "slideshow": {
     "slide_type": "slide"
    }
   },
   "source": [
    "### ✏️ 7. Exercise\n",
    "- (**Difficult**) Make a small program that computes word frequencies by party (only Labour and Conservative is fine).\n",
    "- (**Difficult**) Can you calculate if the probability of mentioning \"woman\" or \"women\" differs by party? The probability in this case is just the frequency of the word \"woman\" divided by the total number of words spoken by a certain party."
   ]
  }
 ],
 "metadata": {
  "celltoolbar": "Slideshow",
  "kernelspec": {
   "display_name": "Python 3 (ipykernel)",
   "language": "python",
   "name": "python3"
  },
  "language_info": {
   "codemirror_mode": {
    "name": "ipython",
    "version": 3
   },
   "file_extension": ".py",
   "mimetype": "text/x-python",
   "name": "python",
   "nbconvert_exporter": "python",
   "pygments_lexer": "ipython3",
   "version": "3.9.16"
  }
 },
 "nbformat": 4,
 "nbformat_minor": 5
}
