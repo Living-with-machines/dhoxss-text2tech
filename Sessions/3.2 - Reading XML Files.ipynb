{
 "cells": [
  {
   "cell_type": "markdown",
   "id": "73e19d6b",
   "metadata": {
    "slideshow": {
     "slide_type": "slide"
    }
   },
   "source": [
    "# Text Encoding and XML"
   ]
  },
  {
   "cell_type": "markdown",
   "id": "f5736e29",
   "metadata": {
    "slideshow": {
     "slide_type": "slide"
    }
   },
   "source": [
    "## Introduction\n",
    "\n",
    "Goals of this lecture:\n",
    "- What is XML and why is it useful for text-based DH?\n",
    "- How to read and navigate XML documents?\n",
    "\n",
    "Lecture and notebook based on [A Very Gentle Introduction to XML](https://www.tei-c.org/Vault/P4/doc/html/SG.html) part of the [Text Encoding Initiative](https://tei-c.org/) (or TEI). \n",
    "\n",
    "List of [projects](https://tei-c.org/Activities/Projects/) using TEI."
   ]
  },
  {
   "cell_type": "markdown",
   "id": "48069f1d",
   "metadata": {
    "slideshow": {
     "slide_type": "slide"
    }
   },
   "source": [
    "### XML stands for \"eXtensible Markup Language\" \n",
    "\n",
    "### Markup and Text Encoding\n",
    "- **markup** used for presenting and enriching documents with tag annotations\n",
    "- **tags** can be used presentational purposes\n",
    "\n",
    "`Some tags serve as <b>markup for bold text</b> others for <i>italic</i> words.`\n",
    "\n",
    "Is interpreted as:"
   ]
  },
  {
   "cell_type": "markdown",
   "id": "9b910b86",
   "metadata": {
    "slideshow": {
     "slide_type": "fragment"
    }
   },
   "source": [
    "Some tags serve as <b>markup for bold text</b> others for \n",
    "<i>italic</i> words."
   ]
  },
  {
   "cell_type": "markdown",
   "id": "85093571",
   "metadata": {
    "slideshow": {
     "slide_type": "slide"
    }
   },
   "source": [
    "Why add markup to a text document?\n",
    "- XML categorizes chunks of text into different (semantic) units.\n",
    "- With XML we can articulate an **interpretation** of text through **encoding**\n",
    "    \n",
    "From the TEI tutorial:\n",
    "> \"it is a process of making explicit what is conjectural or implicit, a process of directing the user as to how the content of the text should be (or has been) interpreted.\""
   ]
  },
  {
   "cell_type": "markdown",
   "id": "655531fd",
   "metadata": {
    "slideshow": {
     "slide_type": "slide"
    }
   },
   "source": [
    "Mr. ATTLEE: I would like at the outset to associate myself with the sympathy expressed by the hon. Member who moved this Address with regard to the cause of the absence of His Majesty from our proceedings to-day. The PRIME MINISTER (Mr. Baldwin): Reference has been made by the Mover of the Address and by the right hon. Gentleman the Leader of the Opposition to the grievous loss which has befallen His Majesty."
   ]
  },
  {
   "cell_type": "markdown",
   "id": "93102b0f",
   "metadata": {
    "slideshow": {
     "slide_type": "slide"
    }
   },
   "source": [
    "<proceeding>\n",
    "    <speaker>Mr. ATTLEE:</speaker>\n",
    "        <speech>\n",
    "            <p>I would like at the outset to associate myself with the sympathy expressed by the hon. Member who moved this Address with regard to the cause of the absence of His Majesty from our proceedings to-day.\n",
    "            </p>\n",
    "        </speech>\n",
    "    <speaker>The PRIME MINISTER (Mr. Baldwin):</speaker>\n",
    "        <speech>\n",
    "            <p>Reference has been made by the Mover of the Address and by the right hon. Gentleman the Leader of the Opposition to the grievous loss which has befallen His Majesty. \n",
    "            </p>\n",
    "    </speech>\n",
    "</proceeding>"
   ]
  },
  {
   "cell_type": "markdown",
   "id": "88bcc412",
   "metadata": {
    "slideshow": {
     "slide_type": "slide"
    }
   },
   "source": [
    "- XML is **human** and **machine** readable (it aligns interpretation with machine processing)\n",
    "- **Encoding** text means adding a layer of annotation (enclosing text segments with tags)\n",
    "- TEI aims to encode the **meaning of data** (not just **formal** (page breaks) or **procedural** (font type). It communicates to a computer what is going on in a piece of text?"
   ]
  },
  {
   "cell_type": "markdown",
   "id": "0c1812df",
   "metadata": {
    "slideshow": {
     "slide_type": "slide"
    }
   },
   "source": [
    "### Extensible\n",
    "- XML defines the **rules/conventions** for encoding a text\n",
    "    - which tags are allowed (speaker, speech)\n",
    "    - articulate relations between tags (speech embedding in speaker tag)\n",
    "- XML is **extensible** because it allows you to define a new (or refine an existing) set of rules, i.e. markup language.\n",
    "- XML is a \"metalanguage\" (a language for describing markup languages)."
   ]
  },
  {
   "cell_type": "markdown",
   "id": "f271b385",
   "metadata": {
    "slideshow": {
     "slide_type": "slide"
    }
   },
   "source": [
    "In this session:\n",
    "\n",
    "- Focus on working with XML documents (XML for the consumer side)\n",
    "- We explore scenarios where you encounter text embedded in XML files, and how to make use of the structure provided by XML."
   ]
  },
  {
   "cell_type": "markdown",
   "id": "ff4e7f27",
   "metadata": {
    "slideshow": {
     "slide_type": "slide"
    }
   },
   "source": [
    "# Elements\n",
    "\n",
    "In the schemas encountered earlier, **elements** emerge as the principle building blocks of a document (i.e. the units that structure a document).\n",
    "- Each element must be **explicitly tagged** (opened with start-tag and closed with end-tag).\n",
    "- Everything between these tags is the **content** of that element."
   ]
  },
  {
   "cell_type": "markdown",
   "id": "7ea6d6b2",
   "metadata": {
    "slideshow": {
     "slide_type": "slide"
    }
   },
   "source": [
    "> Mr. ATTLEE: I would like at the outset to associate myself with the sympathy expressed by the hon. Member who moved this Address with regard to the cause of the absence of His Majesty from our proceedings to-day."
   ]
  },
  {
   "cell_type": "markdown",
   "id": "c8d5e5ea",
   "metadata": {
    "slideshow": {
     "slide_type": "fragment"
    }
   },
   "source": [
    "`Mr. ATTLEE: <p>I would like at the outset to associate myself with the sympathy expressed by the hon. Member who moved this Address with regard to the cause of the absence of His Majesty from our proceedings to-day.</p>`"
   ]
  },
  {
   "cell_type": "markdown",
   "id": "c3533414",
   "metadata": {
    "slideshow": {
     "slide_type": "slide"
    }
   },
   "source": [
    "- Elements can be **contained/nested** within each other.\n",
    "- Ordering of elements determined by the document type definition."
   ]
  },
  {
   "cell_type": "markdown",
   "id": "fb7a44a1",
   "metadata": {
    "slideshow": {
     "slide_type": "fragment"
    }
   },
   "source": [
    "<proceeding>\n",
    "    <speaker>Mr. ATTLEE:</speaker>\n",
    "        <speech>\n",
    "            <p>I would like at the outset to associate myself with the sympathy expressed by the hon. Member who moved this Address with regard to the cause of the absence of His Majesty from our proceedings to-day.\n",
    "            </p>\n",
    "        </speech>\n",
    "    <speaker>The PRIME MINISTER (Mr. Baldwin):</speaker>\n",
    "        <speech>\n",
    "            <p>Reference has been made by the Mover of the Address and by the right hon. Gentleman the Leader of the Opposition to the grievous loss which has befallen His Majesty. \n",
    "            </p>\n",
    "    </speech>\n",
    "</proceeding>"
   ]
  },
  {
   "cell_type": "markdown",
   "id": "628189a2",
   "metadata": {
    "slideshow": {
     "slide_type": "fragment"
    }
   },
   "source": [
    "The example does not follow the schema (not compliant with the PM schema) but is (syntactically) well-formed."
   ]
  },
  {
   "cell_type": "markdown",
   "id": "f30ad1c0",
   "metadata": {
    "slideshow": {
     "slide_type": "slide"
    }
   },
   "source": [
    "\n",
    "\n",
    "To be **syntactically** correct:\n",
    "- each element contained by the root element\n",
    "- no partial overlaps between elements\n",
    "- tags mark start and end of each element"
   ]
  },
  {
   "cell_type": "markdown",
   "id": "e7b74355",
   "metadata": {
    "slideshow": {
     "slide_type": "slide"
    }
   },
   "source": [
    "# Attributes"
   ]
  },
  {
   "cell_type": "markdown",
   "id": "8785bb00",
   "metadata": {
    "slideshow": {
     "slide_type": "fragment"
    }
   },
   "source": [
    "<speech pm:speaker=\"Mr. ATTLEE\" \n",
    "        pm:party=\"Labour\" \n",
    "        pm:role=\"mp\" \n",
    "        pm:party-ref=\"uk.p.Lab\" \n",
    "        pm:member-ref=\"uk.m.16522\" \n",
    "        pm:id=\"uk.proc.d.1935-12-03.3.10.6\" \n",
    "        dp:time=\"15:38:00\">\n",
    "    <p pm:id=\"uk.proc.d.1935-12-03.3.10.6.1\">I would like at the outset to associate myself with the sympathy expressed by the hon. Member who moved this Address with regard to the cause of the absence of His Majesty from our proceedings to-day.\n",
    "    </p>\n",
    "</speech>"
   ]
  },
  {
   "cell_type": "markdown",
   "id": "8f073c9c",
   "metadata": {
    "slideshow": {
     "slide_type": "slide"
    }
   },
   "source": [
    "\n",
    "- Attributes capture information that is \"descriptive of an element but not part of its content\" (e.g. identifiers.)\n",
    "- **Elements** sturcture what is **implicit**, the **attributes** often enrich this structure by adding information that is **absent**.\n",
    "- Attributes contained in the **start tag** (no attributes in the end-tag.)"
   ]
  },
  {
   "cell_type": "markdown",
   "id": "57d61bdd",
   "metadata": {
    "slideshow": {
     "slide_type": "slide"
    }
   },
   "source": [
    "# Schemas\n",
    "\n",
    "- Texts are considered a belonging to a type (\"academic paper\", \"novel\", \"parliamentary proceedings\", etc).\n",
    "- Validity assessed in relation to a schema (**Document Type Definition**). \n",
    "- Schema defines the constituent parts and their relations (in what arrangements they can appear).\n",
    "- Example of Political Mashup's schema for [parliamentary proceedings](https://web.archive.org/web/20170504021953/http://schema.politicalmashup.nl/schemas.html).\n"
   ]
  },
  {
   "cell_type": "markdown",
   "id": "5421c0a3",
   "metadata": {
    "slideshow": {
     "slide_type": "slide"
    }
   },
   "source": [
    "**Anthology**  an example taken from [TEI](https://tei-c.org/release/doc/tei-p5-doc/en/html/SG.html#:~:text=XML%20is%20widely%20used%20for,on%20the%20World%20Wide%20Web.)"
   ]
  },
  {
   "cell_type": "markdown",
   "id": "f723cfd6",
   "metadata": {
    "slideshow": {
     "slide_type": "slide"
    }
   },
   "source": [
    "<anthology>\n",
    " <poem>\n",
    "  <heading>The SICK ROSE</heading>\n",
    "  <stanza>\n",
    "   <line>O Rose thou art sick.</line>\n",
    "   <line>The invisible worm,</line>\n",
    "   <line>That flies in the night</line>\n",
    "   <line>In the howling storm:</line>\n",
    "  </stanza>\n",
    "  <stanza>\n",
    "   <line>Has found out thy bed</line>\n",
    "   <line>Of crimson joy:</line>\n",
    "   <line>And his dark secret love</line>\n",
    "   <line>Does thy life destroy.</line>\n",
    "  </stanza>\n",
    " </poem>\n",
    "<!-- more poems go here -->\n",
    "</anthology>\n",
    "              "
   ]
  },
  {
   "cell_type": "raw",
   "id": "cdf9c822",
   "metadata": {
    "slideshow": {
     "slide_type": "slide"
    }
   },
   "source": [
    "relag.ng schema for anthology\n",
    "\n",
    "anthology_p = element anthology { poem_p+ }\n",
    "poem_p = element poem { heading_p?, stanza_p+ }\n",
    "stanza_p = element stanza {line_p+}\n",
    "heading_p = element heading { text }\n",
    "line_p = element line { text }\n",
    "start = anthology_p"
   ]
  },
  {
   "cell_type": "markdown",
   "id": "cdf3cc12",
   "metadata": {
    "slideshow": {
     "slide_type": "slide"
    }
   },
   "source": [
    "\n",
    "In short, schemas:\n",
    "-  govern which **elements** are **allowed** and how they can be **arranged** (relation between element, i.e. speech can contain paragraph etc.)\n",
    "- are an **interpretation** of the structure source types.\n",
    "- a schema **balances** demands for clarity, uniformity and complexity. Schemas are a (necessary) simplification. It is hard to agree on a standard/schema and there will always be some reduction, harm to the uniqueness of a document.\n",
    "\n"
   ]
  },
  {
   "cell_type": "markdown",
   "id": "eab1b6f1",
   "metadata": {
    "slideshow": {
     "slide_type": "slide"
    }
   },
   "source": [
    "# Namespaces\n",
    "Namespaces indicate **provenance** of the element and attributes.\n",
    "\n",
    "Example of Parliamentary Proceedings:\n",
    "\n",
    "`<root xmlns:dc=\"http://purl.org/dc/elements/1.1/\" xmlns:xsd=\"http://www.w3.org/2001/XMLSchema-datatypes\" xmlns:owl=\"http://www.w3.org/2002/07/owl#\" xmlns:pmd=\"http://www.politicalmashup.nl/docinfo\" xmlns:pm=\"http://www.politicalmashup.nl\" xmlns:dp=\"http://dilipad.history.ac.uk\" xmlns:rdf=\"http://www.w3.org/1999/02/22-rdf-syntax-ns#\" xmlns:html=\"http://www.w3.org/1999/xhtml\" xmlns:dcterms=\"http://purl.org/dc/terms/\" xmlns:xsi=\"http://www.w3.org/2001/XMLSchema-instance\">`\n",
    "\n",
    "`<proceedings xmlns=\"http://www.politicalmashup.nl\" pm:id=\"uk.proc.d.1935-12-03\">`"
   ]
  },
  {
   "cell_type": "markdown",
   "id": "0894a0cb",
   "metadata": {
    "slideshow": {
     "slide_type": "slide"
    }
   },
   "source": [
    "According the [\"Gentle Introduction\"](https://tei-c.org/release/doc/tei-p5-doc/en/html/SG.html):\n",
    "> If the markup of an XML document is thought of as an expression in some language, then a namespace may be thought of as analogous to the lexicon of that language. "
   ]
  },
  {
   "cell_type": "markdown",
   "id": "7a255207",
   "metadata": {
    "slideshow": {
     "slide_type": "slide"
    }
   },
   "source": [
    "\n",
    "- Namespaces are the **lexicon** of a markup language (`xmlns:pmd=\"`[http://www.politicalmashup.nl/docinfo](https://web.archive.org/web/20190505013425/http://schema.politicalmashup.nl/include/docinfo.html)`\"`)\n",
    "- Prefix signals association with a namespace. (`pm:id=\"uk.proc.d.1935-12-03\"`)\n",
    "- XML documents allows you to combine elements from different namespaces (i.e. you can create your own schema and use to extend existing representations.)"
   ]
  },
  {
   "cell_type": "markdown",
   "id": "bddc1d08",
   "metadata": {
    "slideshow": {
     "slide_type": "slide"
    }
   },
   "source": [
    "## Recap, Why use XML? \n",
    "\n",
    "XML encodes the **structure** of a text and makes **meaningful units explicit** to humans and computers. Such digital representations of a document are useful for digital humanists: we can distinguish elements and treat them differently in our programs. This allows for a more accurate, refined analysis of texts.\n",
    "\n",
    "Now, let's turn from theory to practice..."
   ]
  },
  {
   "cell_type": "markdown",
   "id": "3db4f429",
   "metadata": {
    "slideshow": {
     "slide_type": "slide"
    }
   },
   "source": [
    "# Working with XML in Python\n",
    "\n",
    "- Goal of this tutorial: How to **open, process and extract relevant content from XML documents**\n",
    "- You can also **create** and **validate** XML in Python, but we won't cover this (as said, emphasis on the consumer side)"
   ]
  },
  {
   "cell_type": "markdown",
   "id": "4540e721",
   "metadata": {
    "slideshow": {
     "slide_type": "slide"
    }
   },
   "source": [
    "Python offers [multiple libraries](https://realpython.com/python-xml-parser/) for working with XML but we will use [lxml](https://lxml.de/parsing.html). \n",
    "\n",
    "![lxml](https://lxml.de/python-xml-title.png)"
   ]
  },
  {
   "cell_type": "code",
   "execution_count": 293,
   "id": "1e8fc802",
   "metadata": {
    "slideshow": {
     "slide_type": "slide"
    }
   },
   "outputs": [
    {
     "name": "stdout",
     "output_type": "stream",
     "text": [
      "\n",
      "The ``lxml.etree`` module implements the extended ElementTree API for XML.\n",
      "\n"
     ]
    }
   ],
   "source": [
    "from lxml import etree\n",
    "print(etree.__doc__)"
   ]
  },
  {
   "cell_type": "markdown",
   "id": "2acdacc5",
   "metadata": {
    "slideshow": {
     "slide_type": "slide"
    }
   },
   "source": [
    "## Toy Example\n",
    "### The Extended Anthology"
   ]
  },
  {
   "cell_type": "code",
   "execution_count": 294,
   "id": "e40fcba3",
   "metadata": {
    "slideshow": {
     "slide_type": "fragment"
    }
   },
   "outputs": [],
   "source": [
    "xml_string = \"\"\"\n",
    "<anthology>\n",
    " <poem id='1' \n",
    "      author='Blake, William.'\n",
    "      date='1794'>\n",
    "  <heading id='1.1'>The SICK ROSE</heading>\n",
    "  <stanza id='1.2'>\n",
    "   <line id='1.2.1'>O Rose thou art sick.</line>\n",
    "   <line id='1.2.2'>The invisible worm,</line>\n",
    "   <line id='1.2.3'>That flies in the night</line>\n",
    "   <line id='1.2.4'>In the howling storm:</line>\n",
    "  </stanza>\n",
    "  <stanza id='1.3'>\n",
    "   <line id='1.3.1'>Has found out thy bed</line>\n",
    "   <line id='1.3.2'>Of crimson joy:</line>\n",
    "   <line id='1.3.3'>And his dark secret love</line>\n",
    "   <line id='1.3.4'>Does thy life destroy.</line>\n",
    "  </stanza>\n",
    " </poem>\n",
    " <poem id='2'\n",
    "     author='Shakespeare, William.' >\n",
    "    <heading id='2.1'>Sonnet 106</heading>\n",
    "    <stanza id='2.1'>\n",
    "        <line id='2.2.1'>When in the chronicle of wasted time</line>\n",
    "        <line id='2.2.1'>I see descriptions of the fairest wights,</line>\n",
    "        <line id='2.2.1'>And beauty making beautiful old rhyme</line>\n",
    "        <line id='2.2.1'>In praise of ladies dead, and lovely knights,</line>\n",
    "     </stanza>\n",
    "  </poem> \n",
    "</anthology>\n",
    "\"\"\"\n",
    "              "
   ]
  },
  {
   "cell_type": "code",
   "execution_count": 296,
   "id": "7d9891fd",
   "metadata": {
    "slideshow": {
     "slide_type": "slide"
    }
   },
   "outputs": [],
   "source": [
    "# etree will convert a string to a tree this is called parsing\n",
    "from io import StringIO\n",
    "tree = etree.parse(StringIO(xml_string)) "
   ]
  },
  {
   "cell_type": "markdown",
   "id": "82de9c1f",
   "metadata": {
    "slideshow": {
     "slide_type": "slide"
    }
   },
   "source": [
    "![tree](https://tei-c.org/release/doc/tei-p5-doc/en/html/Images/xmlFlowChart.png)"
   ]
  },
  {
   "cell_type": "code",
   "execution_count": 297,
   "id": "e0a2e604",
   "metadata": {
    "slideshow": {
     "slide_type": "slide"
    }
   },
   "outputs": [
    {
     "name": "stdout",
     "output_type": "stream",
     "text": [
      "Help on _ElementTree object:\n",
      "\n",
      "class _ElementTree(builtins.object)\n",
      " |  Methods defined here:\n",
      " |  \n",
      " |  __copy__(self)\n",
      " |  \n",
      " |  __deepcopy__(self, memo)\n",
      " |  \n",
      " |  find(self, path, namespaces)\n",
      " |      find(self, path, namespaces=None)\n",
      " |      \n",
      " |      Finds the first toplevel element with given tag.  Same as\n",
      " |      ``tree.getroot().find(path)``.\n",
      " |      \n",
      " |      The optional ``namespaces`` argument accepts a\n",
      " |      prefix-to-namespace mapping that allows the usage of XPath\n",
      " |      prefixes in the path expression.\n",
      " |  \n",
      " |  findall(self, path, namespaces)\n",
      " |      findall(self, path, namespaces=None)\n",
      " |      \n",
      " |      Finds all elements matching the ElementPath expression.  Same as\n",
      " |      getroot().findall(path).\n",
      " |      \n",
      " |      The optional ``namespaces`` argument accepts a\n",
      " |      prefix-to-namespace mapping that allows the usage of XPath\n",
      " |      prefixes in the path expression.\n",
      " |  \n",
      " |  findtext(self, path, default, namespaces)\n",
      " |      findtext(self, path, default=None, namespaces=None)\n",
      " |      \n",
      " |      Finds the text for the first element matching the ElementPath\n",
      " |      expression.  Same as getroot().findtext(path)\n",
      " |      \n",
      " |      The optional ``namespaces`` argument accepts a\n",
      " |      prefix-to-namespace mapping that allows the usage of XPath\n",
      " |      prefixes in the path expression.\n",
      " |  \n",
      " |  getelementpath(self, element)\n",
      " |      getelementpath(self, element)\n",
      " |      \n",
      " |      Returns a structural, absolute ElementPath expression to find the\n",
      " |      element.  This path can be used in the .find() method to look up\n",
      " |      the element, provided that the elements along the path and their\n",
      " |      list of immediate children were not modified in between.\n",
      " |      \n",
      " |      ElementPath has the advantage over an XPath expression (as returned\n",
      " |      by the .getpath() method) that it does not require additional prefix\n",
      " |      declarations.  It is always self-contained.\n",
      " |  \n",
      " |  getiterator(self, tag, *tags)\n",
      " |      getiterator(self, *tags, tag=None)\n",
      " |      \n",
      " |      Returns a sequence or iterator of all elements in document order\n",
      " |      (depth first pre-order), starting with the root element.\n",
      " |      \n",
      " |      Can be restricted to find only elements with specific tags,\n",
      " |      see `_Element.iter`.\n",
      " |      \n",
      " |      :deprecated: Note that this method is deprecated as of\n",
      " |        ElementTree 1.3 and lxml 2.0.  It returns an iterator in\n",
      " |        lxml, which diverges from the original ElementTree\n",
      " |        behaviour.  If you want an efficient iterator, use the\n",
      " |        ``tree.iter()`` method instead.  You should only use this\n",
      " |        method in new code if you require backwards compatibility\n",
      " |        with older versions of lxml or ElementTree.\n",
      " |  \n",
      " |  getpath(self, element)\n",
      " |      getpath(self, element)\n",
      " |      \n",
      " |      Returns a structural, absolute XPath expression to find the element.\n",
      " |      \n",
      " |      For namespaced elements, the expression uses prefixes from the\n",
      " |      document, which therefore need to be provided in order to make any\n",
      " |      use of the expression in XPath.\n",
      " |      \n",
      " |      Also see the method getelementpath(self, element), which returns a\n",
      " |      self-contained ElementPath expression.\n",
      " |  \n",
      " |  getroot(self)\n",
      " |      getroot(self)\n",
      " |      \n",
      " |      Gets the root element for this tree.\n",
      " |  \n",
      " |  iter(self, tag, *tags)\n",
      " |      iter(self, tag=None, *tags)\n",
      " |      \n",
      " |      Creates an iterator for the root element.  The iterator loops over\n",
      " |      all elements in this tree, in document order.  Note that siblings\n",
      " |      of the root element (comments or processing instructions) are not\n",
      " |      returned by the iterator.\n",
      " |      \n",
      " |      Can be restricted to find only elements with specific tags,\n",
      " |      see `_Element.iter`.\n",
      " |  \n",
      " |  iterfind(self, path, namespaces)\n",
      " |      iterfind(self, path, namespaces=None)\n",
      " |      \n",
      " |      Iterates over all elements matching the ElementPath expression.\n",
      " |      Same as getroot().iterfind(path).\n",
      " |      \n",
      " |      The optional ``namespaces`` argument accepts a\n",
      " |      prefix-to-namespace mapping that allows the usage of XPath\n",
      " |      prefixes in the path expression.\n",
      " |  \n",
      " |  parse(self, source, parser, *, base_url)\n",
      " |      parse(self, source, parser=None, base_url=None)\n",
      " |      \n",
      " |      Updates self with the content of source and returns its root.\n",
      " |  \n",
      " |  relaxng(self, relaxng)\n",
      " |      relaxng(self, relaxng)\n",
      " |      \n",
      " |      Validate this document using other document.\n",
      " |      \n",
      " |      The relaxng argument is a tree that should contain a Relax NG schema.\n",
      " |      \n",
      " |      Returns True or False, depending on whether validation\n",
      " |      succeeded.\n",
      " |      \n",
      " |      Note: if you are going to apply the same Relax NG schema against\n",
      " |      multiple documents, it is more efficient to use the RelaxNG\n",
      " |      class directly.\n",
      " |  \n",
      " |  write(self, file, *, encoding, method, pretty_print, xml_declaration, with_tail, standalone, doctype, compression, exclusive, inclusive_ns_prefixes, with_comments, strip_text, docstring)\n",
      " |      write(self, file, encoding=None, method=\"xml\",\n",
      " |                pretty_print=False, xml_declaration=None, with_tail=True,\n",
      " |                standalone=None, doctype=None, compression=0,\n",
      " |                exclusive=False, inclusive_ns_prefixes=None,\n",
      " |                with_comments=True, strip_text=False)\n",
      " |      \n",
      " |      Write the tree to a filename, file or file-like object.\n",
      " |      \n",
      " |      Defaults to ASCII encoding and writing a declaration as needed.\n",
      " |      \n",
      " |      The keyword argument 'method' selects the output method:\n",
      " |      'xml', 'html', 'text' or 'c14n'.  Default is 'xml'.\n",
      " |      \n",
      " |      With ``method=\"c14n\"`` (C14N version 1), the options ``exclusive``,\n",
      " |      ``with_comments`` and ``inclusive_ns_prefixes`` request exclusive\n",
      " |      C14N, include comments, and list the inclusive prefixes respectively.\n",
      " |      \n",
      " |      With ``method=\"c14n2\"`` (C14N version 2), the ``with_comments`` and\n",
      " |      ``strip_text`` options control the output of comments and text space\n",
      " |      according to C14N 2.0.\n",
      " |      \n",
      " |      Passing a boolean value to the ``standalone`` option will\n",
      " |      output an XML declaration with the corresponding\n",
      " |      ``standalone`` flag.\n",
      " |      \n",
      " |      The ``doctype`` option allows passing in a plain string that will\n",
      " |      be serialised before the XML tree.  Note that passing in non\n",
      " |      well-formed content here will make the XML output non well-formed.\n",
      " |      Also, an existing doctype in the document tree will not be removed\n",
      " |      when serialising an ElementTree instance.\n",
      " |      \n",
      " |      The ``compression`` option enables GZip compression level 1-9.\n",
      " |      \n",
      " |      The ``inclusive_ns_prefixes`` should be a list of namespace strings\n",
      " |      (i.e. ['xs', 'xsi']) that will be promoted to the top-level element\n",
      " |      during exclusive C14N serialisation.  This parameter is ignored if\n",
      " |      exclusive mode=False.\n",
      " |      \n",
      " |      If exclusive=True and no list is provided, a namespace will only be\n",
      " |      rendered if it is used by the immediate parent or one of its attributes\n",
      " |      and its prefix and values have not already been rendered by an ancestor\n",
      " |      of the namespace node's parent element.\n",
      " |  \n",
      " |  write_c14n(self, file, *, exclusive, with_comments, compression, inclusive_ns_prefixes)\n",
      " |      write_c14n(self, file, exclusive=False, with_comments=True,\n",
      " |                     compression=0, inclusive_ns_prefixes=None)\n",
      " |      \n",
      " |      C14N write of document. Always writes UTF-8.\n",
      " |      \n",
      " |      The ``compression`` option enables GZip compression level 1-9.\n",
      " |      \n",
      " |      The ``inclusive_ns_prefixes`` should be a list of namespace strings\n",
      " |      (i.e. ['xs', 'xsi']) that will be promoted to the top-level element\n",
      " |      during exclusive C14N serialisation.  This parameter is ignored if\n",
      " |      exclusive mode=False.\n",
      " |      \n",
      " |      If exclusive=True and no list is provided, a namespace will only be\n",
      " |      rendered if it is used by the immediate parent or one of its attributes\n",
      " |      and its prefix and values have not already been rendered by an ancestor\n",
      " |      of the namespace node's parent element.\n",
      " |      \n",
      " |      NOTE: This method is deprecated as of lxml 4.4 and will be removed in a\n",
      " |      future release.  Use ``.write(f, method=\"c14n\")`` instead.\n",
      " |  \n",
      " |  xinclude(self)\n",
      " |      xinclude(self)\n",
      " |      \n",
      " |      Process the XInclude nodes in this document and include the\n",
      " |      referenced XML fragments.\n",
      " |      \n",
      " |      There is support for loading files through the file system, HTTP and\n",
      " |      FTP.\n",
      " |      \n",
      " |      Note that XInclude does not support custom resolvers in Python space\n",
      " |      due to restrictions of libxml2 <= 2.6.29.\n",
      " |  \n",
      " |  xmlschema(self, xmlschema)\n",
      " |      xmlschema(self, xmlschema)\n",
      " |      \n",
      " |      Validate this document using other document.\n",
      " |      \n",
      " |      The xmlschema argument is a tree that should contain an XML Schema.\n",
      " |      \n",
      " |      Returns True or False, depending on whether validation\n",
      " |      succeeded.\n",
      " |      \n",
      " |      Note: If you are going to apply the same XML Schema against\n",
      " |      multiple documents, it is more efficient to use the XMLSchema\n",
      " |      class directly.\n",
      " |  \n",
      " |  xpath(self, _path, *, namespaces, extensions, smart_strings, **_variables)\n",
      " |      xpath(self, _path, namespaces=None, extensions=None, smart_strings=True, **_variables)\n",
      " |      \n",
      " |      XPath evaluate in context of document.\n",
      " |      \n",
      " |      ``namespaces`` is an optional dictionary with prefix to namespace URI\n",
      " |      mappings, used by XPath.  ``extensions`` defines additional extension\n",
      " |      functions.\n",
      " |      \n",
      " |      Returns a list (nodeset), or bool, float or string.\n",
      " |      \n",
      " |      In case of a list result, return Element for element nodes,\n",
      " |      string for text and attribute values.\n",
      " |      \n",
      " |      Note: if you are going to apply multiple XPath expressions\n",
      " |      against the same document, it is more efficient to use\n",
      " |      XPathEvaluator directly.\n",
      " |  \n",
      " |  xslt(self, _xslt, extensions, access_control, **_kw)\n",
      " |      xslt(self, _xslt, extensions=None, access_control=None, **_kw)\n",
      " |      \n",
      " |      Transform this document using other document.\n",
      " |      \n",
      " |      xslt is a tree that should be XSLT\n",
      " |      keyword parameters are XSLT transformation parameters.\n",
      " |      \n",
      " |      Returns the transformed tree.\n",
      " |      \n",
      " |      Note: if you are going to apply the same XSLT stylesheet against\n",
      " |      multiple documents, it is more efficient to use the XSLT\n",
      " |      class directly.\n",
      " |  \n",
      " |  ----------------------------------------------------------------------\n",
      " |  Static methods defined here:\n",
      " |  \n",
      " |  __new__(*args, **kwargs) from builtins.type\n",
      " |      Create and return a new object.  See help(type) for accurate signature.\n",
      " |  \n",
      " |  ----------------------------------------------------------------------\n",
      " |  Data descriptors defined here:\n",
      " |  \n",
      " |  docinfo\n",
      " |      Information about the document provided by parser and DTD.\n",
      " |  \n",
      " |  parser\n",
      " |      The parser that was used to parse the document in this ElementTree.\n",
      " |  \n",
      " |  ----------------------------------------------------------------------\n",
      " |  Data and other attributes defined here:\n",
      " |  \n",
      " |  __pyx_vtable__ = <capsule object NULL>\n",
      "\n"
     ]
    }
   ],
   "source": [
    "# what goodies are attached to a tree object?\n",
    "help(tree)"
   ]
  },
  {
   "cell_type": "code",
   "execution_count": 298,
   "id": "bbaaa44f",
   "metadata": {
    "slideshow": {
     "slide_type": "slide"
    }
   },
   "outputs": [
    {
     "name": "stdout",
     "output_type": "stream",
     "text": [
      "<Element anthology at 0x7fa6a6e17ac0>\n",
      "<Element poem at 0x7fa6a6e20d40>\n",
      "<Element heading at 0x7fa6a6e20fc0>\n",
      "<Element stanza at 0x7fa6a6e20f40>\n",
      "<Element line at 0x7fa6a6e20d40>\n",
      "<Element line at 0x7fa6a6e20fc0>\n",
      "<Element line at 0x7fa6a6e20f40>\n",
      "<Element line at 0x7fa6a6e20d40>\n",
      "<Element stanza at 0x7fa6a6e20fc0>\n",
      "<Element line at 0x7fa6a6e20f40>\n",
      "<Element line at 0x7fa6a6e20d40>\n",
      "<Element line at 0x7fa6a6e20fc0>\n",
      "<Element line at 0x7fa6a6e20f40>\n",
      "<Element poem at 0x7fa6a6e20d40>\n",
      "<Element heading at 0x7fa6a6e20fc0>\n",
      "<Element stanza at 0x7fa6a6e20f40>\n",
      "<Element line at 0x7fa6a6e20d40>\n",
      "<Element line at 0x7fa6a6e20fc0>\n",
      "<Element line at 0x7fa6a6e20f40>\n",
      "<Element line at 0x7fa6a6e20d40>\n"
     ]
    }
   ],
   "source": [
    "# iterate over all elements\n",
    "for i in tree.getiterator(): print(i)"
   ]
  },
  {
   "cell_type": "code",
   "execution_count": 299,
   "id": "887c0bb5",
   "metadata": {
    "slideshow": {
     "slide_type": "slide"
    }
   },
   "outputs": [
    {
     "data": {
      "text/plain": [
       "2"
      ]
     },
     "execution_count": 299,
     "metadata": {},
     "output_type": "execute_result"
    }
   ],
   "source": [
    "# explore tree structure\n",
    "root = tree.getroot()\n",
    "len(root) # we only have two poems in anthology"
   ]
  },
  {
   "cell_type": "code",
   "execution_count": 307,
   "id": "e4187a9b",
   "metadata": {
    "slideshow": {
     "slide_type": "slide"
    }
   },
   "outputs": [
    {
     "data": {
      "text/plain": [
       "<Element poem at 0x7fa6a6c65180>"
      ]
     },
     "execution_count": 307,
     "metadata": {},
     "output_type": "execute_result"
    }
   ],
   "source": [
    "# first poem\n",
    "root[0]"
   ]
  },
  {
   "cell_type": "code",
   "execution_count": 308,
   "id": "4972ae55",
   "metadata": {
    "slideshow": {
     "slide_type": "fragment"
    }
   },
   "outputs": [
    {
     "data": {
      "text/plain": [
       "<Element poem at 0x7fa6a5371cc0>"
      ]
     },
     "execution_count": 308,
     "metadata": {},
     "output_type": "execute_result"
    }
   ],
   "source": [
    "# second poem\n",
    "root[1]"
   ]
  },
  {
   "cell_type": "code",
   "execution_count": 309,
   "id": "105d15f0",
   "metadata": {
    "slideshow": {
     "slide_type": "fragment"
    }
   },
   "outputs": [
    {
     "data": {
      "text/plain": [
       "<Element stanza at 0x7fa6a6be0d00>"
      ]
     },
     "execution_count": 309,
     "metadata": {},
     "output_type": "execute_result"
    }
   ],
   "source": [
    "# second stanza of the second poem\n",
    "# stanza is the child of poem\n",
    "root[1][1]"
   ]
  },
  {
   "cell_type": "code",
   "execution_count": 302,
   "id": "a77880db",
   "metadata": {
    "slideshow": {
     "slide_type": "slide"
    }
   },
   "outputs": [
    {
     "data": {
      "text/plain": [
       "'stanza'"
      ]
     },
     "execution_count": 302,
     "metadata": {},
     "output_type": "execute_result"
    }
   ],
   "source": [
    "# each element has different __Python__ attributes\n",
    "root[1][1].tag"
   ]
  },
  {
   "cell_type": "code",
   "execution_count": 303,
   "id": "1f08d309",
   "metadata": {
    "slideshow": {
     "slide_type": "fragment"
    }
   },
   "outputs": [
    {
     "data": {
      "text/plain": [
       "'\\n        '"
      ]
     },
     "execution_count": 303,
     "metadata": {},
     "output_type": "execute_result"
    }
   ],
   "source": [
    "# why is this empty?\n",
    "root[1][1].text"
   ]
  },
  {
   "cell_type": "code",
   "execution_count": 52,
   "id": "57425c36",
   "metadata": {
    "slideshow": {
     "slide_type": "fragment"
    }
   },
   "outputs": [
    {
     "data": {
      "text/plain": [
       "'And beauty making beautiful old rhyme'"
      ]
     },
     "execution_count": 52,
     "metadata": {},
     "output_type": "execute_result"
    }
   ],
   "source": [
    "# text only get the text directly enclosed by the tag\n",
    "root[1][1][2].text"
   ]
  },
  {
   "cell_type": "code",
   "execution_count": 310,
   "id": "cc5ca08d",
   "metadata": {
    "slideshow": {
     "slide_type": "slide"
    }
   },
   "outputs": [
    {
     "name": "stdout",
     "output_type": "stream",
     "text": [
      "\n",
      "   O Rose thou art sick.\n",
      "   The invisible worm,\n",
      "   That flies in the night\n",
      "   In the howling storm:\n",
      "  \n",
      "  \n"
     ]
    }
   ],
   "source": [
    "# print the second stanze of the first poem\n",
    "print(etree.tostring(root[0][1],method='text',encoding='unicode'))"
   ]
  },
  {
   "cell_type": "code",
   "execution_count": 311,
   "id": "3a0d4de4",
   "metadata": {
    "slideshow": {
     "slide_type": "slide"
    }
   },
   "outputs": [
    {
     "data": {
      "text/plain": [
       "{'id': '1', 'author': 'Blake, William.', 'date': '1794'}"
      ]
     },
     "execution_count": 311,
     "metadata": {},
     "output_type": "execute_result"
    }
   ],
   "source": [
    "#attributes are stored as a dictionary\n",
    "root[0].attrib"
   ]
  },
  {
   "cell_type": "code",
   "execution_count": 312,
   "id": "fec488dc",
   "metadata": {
    "slideshow": {
     "slide_type": "fragment"
    }
   },
   "outputs": [
    {
     "data": {
      "text/plain": [
       "'Blake, William.'"
      ]
     },
     "execution_count": 312,
     "metadata": {},
     "output_type": "execute_result"
    }
   ],
   "source": [
    "root[0].attrib['author']"
   ]
  },
  {
   "cell_type": "markdown",
   "id": "04d2e977",
   "metadata": {
    "slideshow": {
     "slide_type": "slide"
    }
   },
   "source": [
    "## ✏️ Exercise\n",
    "\n",
    "- Convert the small dialogue below to an XML document, using the tags: `dialogue`, `speech_turn`, `line`\n",
    "- add a name attribute to each speech_turn as well as an unique identifier for each actor\n",
    "- add identifiers to each element similarly to the anthology example\n",
    "- save the XML document as a string in a variable called `xml_dialogue`\n",
    "- parse the string with and save the Element Tree in a new variable\n",
    "- print the text of the second line"
   ]
  },
  {
   "cell_type": "markdown",
   "id": "a16d8754",
   "metadata": {
    "slideshow": {
     "slide_type": "slide"
    }
   },
   "source": [
    "```\n",
    "George: “You’re gonna over-dry your laundry.”\n",
    "Jerry: “You can’t over-dry.”\n",
    "George: “Why not?”\n",
    "Jerry: “Same reason you can’t over-wet.”\n",
    "```\n",
    "![seinfeld](https://media.giphy.com/media/14dXclYKbx2ONW/giphy.gif)"
   ]
  },
  {
   "cell_type": "code",
   "execution_count": 313,
   "id": "e704e4eb",
   "metadata": {
    "slideshow": {
     "slide_type": "slide"
    }
   },
   "outputs": [],
   "source": [
    "# add your answer here"
   ]
  },
  {
   "cell_type": "markdown",
   "id": "b975a391",
   "metadata": {
    "slideshow": {
     "slide_type": "slide"
    }
   },
   "source": [
    "## Realistic Example\n",
    "### UK Parliamentary Debates on Abortion (29th June 1967)\n",
    "\n",
    "Political Mashup's schema for [parliamentary proceedings](https://web.archive.org/web/20170504021953/http://schema.politicalmashup.nl/schemas.html)."
   ]
  },
  {
   "cell_type": "code",
   "execution_count": 324,
   "id": "e21bae69",
   "metadata": {
    "slideshow": {
     "slide_type": "fragment"
    }
   },
   "outputs": [],
   "source": [
    "with open('xml_examples/uk.proc.d.1967-06-29.xml','rb') as in_xml:\n",
    "    tree = etree.parse(in_xml)"
   ]
  },
  {
   "cell_type": "code",
   "execution_count": 325,
   "id": "bc087801",
   "metadata": {
    "slideshow": {
     "slide_type": "slide"
    }
   },
   "outputs": [],
   "source": [
    "root = tree.getroot()"
   ]
  },
  {
   "cell_type": "code",
   "execution_count": 70,
   "id": "0b7020d9",
   "metadata": {
    "slideshow": {
     "slide_type": "fragment"
    }
   },
   "outputs": [
    {
     "data": {
      "text/plain": [
       "(3, lxml.etree._Element)"
      ]
     },
     "execution_count": 70,
     "metadata": {},
     "output_type": "execute_result"
    }
   ],
   "source": [
    "len(root), type(root)"
   ]
  },
  {
   "cell_type": "markdown",
   "id": "45082e68",
   "metadata": {
    "slideshow": {
     "slide_type": "slide"
    }
   },
   "source": [
    "## Elements are lists"
   ]
  },
  {
   "cell_type": "code",
   "execution_count": 67,
   "id": "9fb700ad",
   "metadata": {
    "slideshow": {
     "slide_type": "fragment"
    }
   },
   "outputs": [
    {
     "name": "stdout",
     "output_type": "stream",
     "text": [
      "{http://www.politicalmashup.nl/docinfo}docinfo\n",
      "meta\n",
      "{http://www.politicalmashup.nl}proceedings\n"
     ]
    }
   ],
   "source": [
    "for element in root:\n",
    "    print(element.tag)"
   ]
  },
  {
   "cell_type": "code",
   "execution_count": 73,
   "id": "d5f49b70",
   "metadata": {
    "slideshow": {
     "slide_type": "fragment"
    }
   },
   "outputs": [],
   "source": [
    "proceedings = root[2]"
   ]
  },
  {
   "cell_type": "code",
   "execution_count": 89,
   "id": "36c93121",
   "metadata": {
    "slideshow": {
     "slide_type": "fragment"
    }
   },
   "outputs": [
    {
     "data": {
      "text/plain": [
       "<Element {http://www.politicalmashup.nl}topic at 0x7fa6a68ad7c0>"
      ]
     },
     "execution_count": 89,
     "metadata": {},
     "output_type": "execute_result"
    }
   ],
   "source": [
    "proceedings[2]"
   ]
  },
  {
   "cell_type": "code",
   "execution_count": 316,
   "id": "37160704",
   "metadata": {
    "slideshow": {
     "slide_type": "fragment"
    }
   },
   "outputs": [
    {
     "data": {
      "text/plain": [
       "<Element {http://www.politicalmashup.nl}scene at 0x7fa6a6891640>"
      ]
     },
     "execution_count": 316,
     "metadata": {},
     "output_type": "execute_result"
    }
   ],
   "source": [
    "proceedings[2][0]"
   ]
  },
  {
   "cell_type": "code",
   "execution_count": 317,
   "id": "8dd56d09",
   "metadata": {
    "slideshow": {
     "slide_type": "slide"
    }
   },
   "outputs": [
    {
     "name": "stdout",
     "output_type": "stream",
     "text": [
      "0 {http://www.politicalmashup.nl}scene 4\n",
      "1 {http://www.politicalmashup.nl}scene 6\n",
      "2 {http://www.politicalmashup.nl}scene 5\n",
      "3 {http://www.politicalmashup.nl}scene 5\n",
      "4 {http://www.politicalmashup.nl}scene 6\n",
      "5 {http://www.politicalmashup.nl}scene 9\n",
      "6 {http://www.politicalmashup.nl}scene 22\n",
      "7 {http://www.politicalmashup.nl}scene 4\n",
      "8 {http://www.politicalmashup.nl}scene 4\n",
      "9 {http://www.politicalmashup.nl}scene 4\n",
      "10 {http://www.politicalmashup.nl}scene 18\n",
      "11 {http://www.politicalmashup.nl}scene 9\n",
      "12 {http://www.politicalmashup.nl}scene 4\n",
      "13 {http://www.politicalmashup.nl}scene 4\n",
      "14 {http://www.politicalmashup.nl}scene 4\n",
      "15 {http://www.politicalmashup.nl}scene 4\n",
      "16 {http://www.politicalmashup.nl}scene 6\n",
      "17 {http://www.politicalmashup.nl}scene 6\n",
      "18 {http://www.politicalmashup.nl}scene 4\n",
      "19 {http://www.politicalmashup.nl}scene 10\n",
      "20 {http://www.politicalmashup.nl}scene 4\n"
     ]
    }
   ],
   "source": [
    "# you can iterate over these elements as a list to get the children\n",
    "for i,element in enumerate(proceedings[2]):\n",
    "    print(i,element.tag,len(element))"
   ]
  },
  {
   "cell_type": "markdown",
   "id": "2f778dab",
   "metadata": {
    "slideshow": {
     "slide_type": "slide"
    }
   },
   "source": [
    "### ✏️ Exercise\n",
    "- How many paragraphs does the 1st speech in the 7th scene of the 3rd topic contain?\n",
    "- How many words does the first paragraph contain? (You can just use `split()` to divide the string into tokens)."
   ]
  },
  {
   "cell_type": "code",
   "execution_count": 314,
   "id": "6ab9f297",
   "metadata": {
    "slideshow": {
     "slide_type": "fragment"
    }
   },
   "outputs": [],
   "source": [
    "# type answer here"
   ]
  },
  {
   "cell_type": "code",
   "execution_count": 114,
   "id": "ba98ec45",
   "metadata": {
    "slideshow": {
     "slide_type": "slide"
    }
   },
   "outputs": [
    {
     "data": {
      "text/plain": [
       "<Element {http://www.politicalmashup.nl}speech at 0x7fa6a68a3440>"
      ]
     },
     "execution_count": 114,
     "metadata": {},
     "output_type": "execute_result"
    }
   ],
   "source": [
    "proceedings[2][6][1]"
   ]
  },
  {
   "cell_type": "code",
   "execution_count": 115,
   "id": "6635f555",
   "metadata": {
    "slideshow": {
     "slide_type": "fragment"
    }
   },
   "outputs": [
    {
     "data": {
      "text/plain": [
       "42"
      ]
     },
     "execution_count": 115,
     "metadata": {},
     "output_type": "execute_result"
    }
   ],
   "source": [
    "len(proceedings[2][6][1][0].text.split())"
   ]
  },
  {
   "cell_type": "code",
   "execution_count": 319,
   "id": "3028d7c9",
   "metadata": {
    "slideshow": {
     "slide_type": "slide"
    }
   },
   "outputs": [],
   "source": [
    "# you can iterate over a specific element\n",
    "# notice that we need to define the namespace\n",
    "# for both the element and attribute\n",
    "for element in tree.iter(\"{http://www.politicalmashup.nl}speech\"):\n",
    "    print(element.attrib['{http://www.politicalmashup.nl}id'])"
   ]
  },
  {
   "cell_type": "code",
   "execution_count": 342,
   "id": "7aa6477b",
   "metadata": {},
   "outputs": [
    {
     "data": {
      "text/plain": [
       "{'dc': 'http://purl.org/dc/elements/1.1/',\n",
       " 'xsd': 'http://www.w3.org/2001/XMLSchema-datatypes',\n",
       " 'owl': 'http://www.w3.org/2002/07/owl#',\n",
       " 'pmd': 'http://www.politicalmashup.nl/docinfo',\n",
       " 'pm': 'http://www.politicalmashup.nl',\n",
       " 'dp': 'http://dilipad.history.ac.uk',\n",
       " 'rdf': 'http://www.w3.org/1999/02/22-rdf-syntax-ns#',\n",
       " 'html': 'http://www.w3.org/1999/xhtml',\n",
       " 'dcterms': 'http://purl.org/dc/terms/',\n",
       " 'xsi': 'http://www.w3.org/2001/XMLSchema-instance'}"
      ]
     },
     "execution_count": 342,
     "metadata": {},
     "output_type": "execute_result"
    }
   ],
   "source": [
    "nsmap = root.nsmap; nsmap"
   ]
  },
  {
   "cell_type": "markdown",
   "id": "8c29bb22",
   "metadata": {
    "slideshow": {
     "slide_type": "slide"
    }
   },
   "source": [
    "### ✏️ Exercise\n",
    "- (Difficult) What is the longest speech in the fourth topic element?"
   ]
  },
  {
   "cell_type": "code",
   "execution_count": null,
   "id": "313c607d",
   "metadata": {},
   "outputs": [],
   "source": [
    "# type answer here"
   ]
  },
  {
   "cell_type": "code",
   "execution_count": 136,
   "id": "30147fcf",
   "metadata": {},
   "outputs": [
    {
     "data": {
      "text/plain": [
       "(84,\n",
       " \"\\n          No, Sir. A separate inquiry, directed particularly at the effects of increased food prices on these areas would not be fruitful since it would not be possible to disentangle the effects from the overall consequences of Great Britain's entry into the European Economic Community In any case, the economic circumstances of the development areas should improve substantially during the next few years as a result of the Government's measures and particularly the regional employment premium announced by my right hon. Friend on 5th June.\\n        \\n        \")"
      ]
     },
     "execution_count": 136,
     "metadata": {},
     "output_type": "execute_result"
    }
   ],
   "source": [
    "longest_speech,max_length = None,0\n",
    "for el in proceedings[3].getiterator(\"{http://www.politicalmashup.nl}speech\"):\n",
    "    len_speech = 0\n",
    "    for p in el:\n",
    "        len_speech+=len(p.text.split())\n",
    "    if len_speech > max_length:\n",
    "        max_length = len_speech\n",
    "        longest_speech = el\n",
    "max_length, etree.tostring(longest_speech,method='text',encoding='unicode')"
   ]
  },
  {
   "cell_type": "markdown",
   "id": "819f505a",
   "metadata": {
    "slideshow": {
     "slide_type": "slide"
    }
   },
   "source": [
    "## Elements carry attributes as dictionaries"
   ]
  },
  {
   "cell_type": "code",
   "execution_count": 320,
   "id": "91fe0e5b",
   "metadata": {
    "slideshow": {
     "slide_type": "fragment"
    }
   },
   "outputs": [
    {
     "data": {
      "text/plain": [
       "('{http://www.politicalmashup.nl}speech',\n",
       " {'{http://www.politicalmashup.nl}speaker': 'Mr. Goodhart', '{http://www.politicalmashup.nl}party': 'Conservative', '{http://www.politicalmashup.nl}role': 'mp', '{http://www.politicalmashup.nl}party-ref': 'uk.p.Con', '{http://www.politicalmashup.nl}member-ref': 'uk.m.17551', '{http://www.politicalmashup.nl}id': 'uk.proc.d.1967-06-29.3.7.16'})"
      ]
     },
     "execution_count": 320,
     "metadata": {},
     "output_type": "execute_result"
    }
   ],
   "source": [
    "proceedings[2][6][15].tag,proceedings[2][6][15].attrib"
   ]
  },
  {
   "cell_type": "code",
   "execution_count": 326,
   "id": "e5f1f305",
   "metadata": {
    "slideshow": {
     "slide_type": "slide"
    }
   },
   "outputs": [
    {
     "data": {
      "text/plain": [
       "{'dc': 'http://purl.org/dc/elements/1.1/',\n",
       " 'xsd': 'http://www.w3.org/2001/XMLSchema-datatypes',\n",
       " 'owl': 'http://www.w3.org/2002/07/owl#',\n",
       " 'pmd': 'http://www.politicalmashup.nl/docinfo',\n",
       " 'pm': 'http://www.politicalmashup.nl',\n",
       " 'dp': 'http://dilipad.history.ac.uk',\n",
       " 'rdf': 'http://www.w3.org/1999/02/22-rdf-syntax-ns#',\n",
       " 'html': 'http://www.w3.org/1999/xhtml',\n",
       " 'dcterms': 'http://purl.org/dc/terms/',\n",
       " 'xsi': 'http://www.w3.org/2001/XMLSchema-instance'}"
      ]
     },
     "execution_count": 326,
     "metadata": {},
     "output_type": "execute_result"
    }
   ],
   "source": [
    "root.nsmap"
   ]
  },
  {
   "cell_type": "code",
   "execution_count": 335,
   "id": "886551ae",
   "metadata": {
    "slideshow": {
     "slide_type": "slide"
    }
   },
   "outputs": [
    {
     "data": {
      "text/plain": [
       "'Mr. Goodhart'"
      ]
     },
     "execution_count": 335,
     "metadata": {},
     "output_type": "execute_result"
    }
   ],
   "source": [
    "# use string formatting for namespaces\n",
    "speech = proceedings[2][6][15]\n",
    "speech.attrib[\"{%s}speaker\" % root.nsmap['pm']]"
   ]
  },
  {
   "cell_type": "code",
   "execution_count": 336,
   "id": "49395bd3",
   "metadata": {
    "slideshow": {
     "slide_type": "fragment"
    }
   },
   "outputs": [
    {
     "data": {
      "text/plain": [
       "'Mr. Goodhart'"
      ]
     },
     "execution_count": 336,
     "metadata": {},
     "output_type": "execute_result"
    }
   ],
   "source": [
    "# it is safer to use .get() method\n",
    "speech.attrib.get(\"{%s}speaker\" % root.nsmap['pm'], '')"
   ]
  },
  {
   "cell_type": "markdown",
   "id": "8c69486b",
   "metadata": {
    "slideshow": {
     "slide_type": "slide"
    }
   },
   "source": [
    "### ✏️ Exercise\n",
    "\n",
    "- Count the number of speeches made by Conservative members during this sitting of Parliament."
   ]
  },
  {
   "cell_type": "code",
   "execution_count": 338,
   "id": "8d7979be",
   "metadata": {
    "slideshow": {
     "slide_type": "fragment"
    }
   },
   "outputs": [],
   "source": [
    "# type answer here"
   ]
  },
  {
   "cell_type": "code",
   "execution_count": 149,
   "id": "c08f48ec",
   "metadata": {},
   "outputs": [
    {
     "data": {
      "text/plain": [
       "400"
      ]
     },
     "execution_count": 149,
     "metadata": {},
     "output_type": "execute_result"
    }
   ],
   "source": [
    "con_speeches = 0\n",
    "for element in tree.iter(\"{http://www.politicalmashup.nl}speech\"):\n",
    "    if element.attrib.get('{http://www.politicalmashup.nl}party-ref','') == 'uk.p.Con':\n",
    "        con_speeches+=1\n",
    "con_speeches"
   ]
  },
  {
   "cell_type": "markdown",
   "id": "d3e28a5c",
   "metadata": {
    "slideshow": {
     "slide_type": "slide"
    }
   },
   "source": [
    "### ✏️ Exercise:\n",
    "\n",
    "- How often does the Speaker intervene?"
   ]
  },
  {
   "cell_type": "code",
   "execution_count": 337,
   "id": "051495d6",
   "metadata": {
    "slideshow": {
     "slide_type": "fragment"
    }
   },
   "outputs": [],
   "source": [
    "# type answer here"
   ]
  },
  {
   "cell_type": "markdown",
   "id": "0881e67d",
   "metadata": {
    "slideshow": {
     "slide_type": "slide"
    }
   },
   "source": [
    "# Find methods"
   ]
  },
  {
   "cell_type": "code",
   "execution_count": 340,
   "id": "1b6bcc5a",
   "metadata": {
    "slideshow": {
     "slide_type": "fragment"
    }
   },
   "outputs": [
    {
     "name": "stdout",
     "output_type": "stream",
     "text": [
      "Help on method find in module lxml.etree:\n",
      "\n",
      "find(path, namespaces) method of lxml.etree._Element instance\n",
      "    find(self, path, namespaces=None)\n",
      "    \n",
      "    Finds the first matching subelement, by tag name or path.\n",
      "    \n",
      "    The optional ``namespaces`` argument accepts a\n",
      "    prefix-to-namespace mapping that allows the usage of XPath\n",
      "    prefixes in the path expression.\n",
      "\n"
     ]
    }
   ],
   "source": [
    "help(root.find)"
   ]
  },
  {
   "cell_type": "code",
   "execution_count": 343,
   "id": "288e5930",
   "metadata": {
    "slideshow": {
     "slide_type": "slide"
    }
   },
   "outputs": [
    {
     "data": {
      "text/plain": [
       "<Element {http://www.politicalmashup.nl}speech at 0x7fa6a6e31bc0>"
      ]
     },
     "execution_count": 343,
     "metadata": {},
     "output_type": "execute_result"
    }
   ],
   "source": [
    "# note the namespace prefix\n",
    "# .// means from current location (i.e proceedings element)\n",
    "# search for descendant speech element regardless of their \n",
    "# position in the subtree\n",
    "# find only returns the first element\n",
    "nsmap = root.nsmap\n",
    "speeches = root[2].find('.//pm:speech',namespaces=nsmap); speeches"
   ]
  },
  {
   "cell_type": "code",
   "execution_count": 169,
   "id": "413bd787",
   "metadata": {
    "slideshow": {
     "slide_type": "fragment"
    }
   },
   "outputs": [
    {
     "data": {
      "text/plain": [
       "1101"
      ]
     },
     "execution_count": 169,
     "metadata": {},
     "output_type": "execute_result"
    }
   ],
   "source": [
    "# findall returns all element\n",
    "speeches = root[2].findall('.//pm:speech',namespaces=nsmap); len(speeches)"
   ]
  },
  {
   "cell_type": "markdown",
   "id": "f292142c",
   "metadata": {
    "slideshow": {
     "slide_type": "slide"
    }
   },
   "source": [
    "# Finding Needles and Mining Haystacks with XPath\n",
    "\n",
    "- XPath is a rich language for **querying** and **navigating** elements and attributes in an XML document.\n",
    "    - Elaborate language XPath for defining regions interest in you XML documents.\n",
    "- Select elements, attributes, or text nodes.\n",
    "- XPath uses **path expressions** for querying and XML."
   ]
  },
  {
   "cell_type": "code",
   "execution_count": 347,
   "id": "ba01b6e3",
   "metadata": {
    "slideshow": {
     "slide_type": "fragment"
    }
   },
   "outputs": [
    {
     "data": {
      "text/plain": [
       "[<Element {http://www.politicalmashup.nl}scene at 0x7fa6a6c87f80>]"
      ]
     },
     "execution_count": 347,
     "metadata": {},
     "output_type": "execute_result"
    }
   ],
   "source": [
    "# first scene of fifth topic\n",
    "# notice that index notation does not start at zero!\n",
    "topic = root.xpath('./pm:proceedings/pm:topic[5]/pm:scene[1]',namespaces=nsmap); topic"
   ]
  },
  {
   "cell_type": "code",
   "execution_count": 349,
   "id": "8a7fb5d4",
   "metadata": {
    "slideshow": {
     "slide_type": "fragment"
    }
   },
   "outputs": [
    {
     "data": {
      "text/plain": [
       "141"
      ]
     },
     "execution_count": 349,
     "metadata": {},
     "output_type": "execute_result"
    }
   ],
   "source": [
    "## first finds the first scene of fifth topic\n",
    "## // means any speech element contained by the third topic\n",
    "speeches = root.xpath('./pm:proceedings/pm:topic[3]//pm:speech',namespaces=nsmap); len(speeches)"
   ]
  },
  {
   "cell_type": "code",
   "execution_count": 351,
   "id": "eb8ca031",
   "metadata": {
    "slideshow": {
     "slide_type": "fragment"
    }
   },
   "outputs": [
    {
     "data": {
      "text/plain": [
       "1101"
      ]
     },
     "execution_count": 351,
     "metadata": {},
     "output_type": "execute_result"
    }
   ],
   "source": [
    "# .// from root find all speeches regardless of where they are situated\n",
    "speeches = root.xpath('.//pm:speech',namespaces=nsmap); len(speeches)"
   ]
  },
  {
   "cell_type": "code",
   "execution_count": 353,
   "id": "066d6da2",
   "metadata": {
    "slideshow": {
     "slide_type": "slide"
    }
   },
   "outputs": [
    {
     "data": {
      "text/plain": [
       "1101"
      ]
     },
     "execution_count": 353,
     "metadata": {},
     "output_type": "execute_result"
    }
   ],
   "source": [
    "# return speeches that contain a particular attribute\n",
    "# in this case speeches with a role attribute\n",
    "speeches = root.xpath('.//pm:speech[@pm:role]',namespaces=nsmap); len(speeches)"
   ]
  },
  {
   "cell_type": "code",
   "execution_count": 354,
   "id": "173a9be6",
   "metadata": {
    "slideshow": {
     "slide_type": "fragment"
    }
   },
   "outputs": [
    {
     "data": {
      "text/plain": [
       "['mp',\n",
       " 'government',\n",
       " 'mp',\n",
       " 'government',\n",
       " 'mp',\n",
       " 'government',\n",
       " 'mp',\n",
       " 'government',\n",
       " 'mp',\n",
       " 'government']"
      ]
     },
     "execution_count": 354,
     "metadata": {},
     "output_type": "execute_result"
    }
   ],
   "source": [
    "# return the attributes themselves not the element\n",
    "speeches = root.xpath('.//pm:speech/@pm:role',namespaces=nsmap); \n",
    "speeches[:10]"
   ]
  },
  {
   "cell_type": "code",
   "execution_count": 231,
   "id": "ffbad152",
   "metadata": {
    "slideshow": {
     "slide_type": "fragment"
    }
   },
   "outputs": [
    {
     "data": {
      "text/plain": [
       "178"
      ]
     },
     "execution_count": 231,
     "metadata": {},
     "output_type": "execute_result"
    }
   ],
   "source": [
    "# find speeches where attribute matches a particular value\n",
    "speeches = root[2].xpath('.//pm:speech[@pm:role=\"chair\"]',namespaces=nsmap); len(speeches)"
   ]
  },
  {
   "cell_type": "markdown",
   "id": "71010f50",
   "metadata": {
    "slideshow": {
     "slide_type": "slide"
    }
   },
   "source": [
    "### ✏️ Exercise\n",
    "\n",
    "- Which parties are participating in this sitting?\n",
    "- How many conservative/labour speeches does the document contain?"
   ]
  },
  {
   "cell_type": "code",
   "execution_count": 355,
   "id": "d592e0cd",
   "metadata": {
    "slideshow": {
     "slide_type": "fragment"
    }
   },
   "outputs": [],
   "source": [
    "# type answer here"
   ]
  },
  {
   "cell_type": "code",
   "execution_count": 240,
   "id": "4eb700cb",
   "metadata": {
    "slideshow": {
     "slide_type": "-"
    }
   },
   "outputs": [
    {
     "name": "stdout",
     "output_type": "stream",
     "text": [
      "{'uk.p.Con', 'uk.p.Lab', 'uk.p.UUP', 'uk.p.Lib', 'uk.p.LDem'}\n"
     ]
    }
   ],
   "source": [
    "print(set(root.xpath('.//pm:speech/@pm:party-ref',namespaces=nsmap)))"
   ]
  },
  {
   "cell_type": "code",
   "execution_count": 238,
   "id": "98e02d98",
   "metadata": {},
   "outputs": [
    {
     "name": "stdout",
     "output_type": "stream",
     "text": [
      "400\n",
      "595\n"
     ]
    }
   ],
   "source": [
    "print(len(root.xpath('.//pm:speech[@pm:party-ref=\"uk.p.Con\"]',namespaces=nsmap)))\n",
    "print(len(root.xpath('.//pm:speech[@pm:party-ref=\"uk.p.Lab\"]',namespaces=nsmap)))"
   ]
  },
  {
   "cell_type": "markdown",
   "id": "5b923091",
   "metadata": {
    "slideshow": {
     "slide_type": "slide"
    }
   },
   "source": [
    "## Combining structure and text"
   ]
  },
  {
   "cell_type": "code",
   "execution_count": 358,
   "id": "a027a3bb",
   "metadata": {
    "slideshow": {
     "slide_type": "fragment"
    }
   },
   "outputs": [],
   "source": [
    "# return paragraphs that mention a certain token, in this women\n",
    "mentions = root.xpath(\".//pm:speech/pm:p[contains(text(), 'women')]\",namespaces=nsmap)"
   ]
  },
  {
   "cell_type": "code",
   "execution_count": 359,
   "id": "66fde1a3",
   "metadata": {
    "slideshow": {
     "slide_type": "fragment"
    }
   },
   "outputs": [
    {
     "data": {
      "text/plain": [
       "'Mrs. Knight'"
      ]
     },
     "execution_count": 359,
     "metadata": {},
     "output_type": "execute_result"
    }
   ],
   "source": [
    "# get the fourth mention\n",
    "# move up one level in the tree to get the speech element \n",
    "# and then the speaker name in the attribute\n",
    "mentions[4].getparent().attrib['{http://www.politicalmashup.nl}speaker']"
   ]
  },
  {
   "cell_type": "markdown",
   "id": "f56cd5c9",
   "metadata": {
    "slideshow": {
     "slide_type": "slide"
    }
   },
   "source": [
    "### ✏️ Exercises:\n",
    "\n",
    "- Get the title attributes of the topic elements\n",
    "- Formulate an XPath expression that finds the debate (i.e. topic element) on the medical termination of pregnancy bill.\n",
    "- Formulate an XPath expression that finds speeches made by Labour MPs during the debate on the medical termination of pregnancy bill.\n",
    "- Formulate an XPath expression that finds paragraphs in speeches made by Conservative MPs during the debate on the medical termination of pregnancy bill that mentions the word \"women\". Print the content of these paragraphs.\n",
    "- Formulate a query the returns the speech in which the word woman is mentioned. (Difficult, requires some Googling)"
   ]
  },
  {
   "cell_type": "code",
   "execution_count": null,
   "id": "7be513e3",
   "metadata": {
    "slideshow": {
     "slide_type": "fragment"
    }
   },
   "outputs": [],
   "source": [
    "# type answer here"
   ]
  },
  {
   "cell_type": "code",
   "execution_count": 282,
   "id": "1fc1b99a",
   "metadata": {},
   "outputs": [
    {
     "data": {
      "text/plain": [
       "['Preamble',\n",
       " 'PRAYERS',\n",
       " 'Oral Answers to Questions — OVERSEAS DEVELOPMENT',\n",
       " 'Oral Answers to Questions — ECONOMIC AFFAIRS',\n",
       " 'Oral Answers to Questions — POST OFFICE',\n",
       " 'Oral Answers to Questions — TELEPHONE SERVICE',\n",
       " 'Oral Answers to Questions — WIRELESS AND TELEVISION',\n",
       " 'Oral Answers to Questions — HOME DEPARTMENT',\n",
       " 'QUESTIONS TO MINISTERS',\n",
       " 'NOTICES OF MOTION',\n",
       " 'BUSINESS OF THE HOUSE',\n",
       " 'PETROL PRICES (SURCHARGE)',\n",
       " 'BILLS PRESENTED',\n",
       " 'Orders of the Day — SUPPLY',\n",
       " 'Orders of the Day — NATIONAL AIRPORT POLICY',\n",
       " 'Orders of the Day — BUSINESS OF THE HOUSE',\n",
       " 'Orders of the Day — MEDICAL TERMINATION OF PREGNANCY BILL',\n",
       " 'Orders of the Day — ADJOURNMENT']"
      ]
     },
     "execution_count": 282,
     "metadata": {},
     "output_type": "execute_result"
    }
   ],
   "source": [
    "root.xpath('./pm:proceedings//pm:topic/@pm:title',namespaces=nsmap)"
   ]
  },
  {
   "cell_type": "code",
   "execution_count": 283,
   "id": "cd951167",
   "metadata": {},
   "outputs": [],
   "source": [
    "abortion_debate = root.xpath('./pm:proceedings/pm:topic[@pm:title=\"Orders of the Day — MEDICAL TERMINATION OF PREGNANCY BILL\"]',namespaces=nsmap)\n"
   ]
  },
  {
   "cell_type": "code",
   "execution_count": 284,
   "id": "968b87f6",
   "metadata": {},
   "outputs": [
    {
     "data": {
      "text/plain": [
       "[<Element {http://www.politicalmashup.nl}speech at 0x7fa6a6b25f40>,\n",
       " <Element {http://www.politicalmashup.nl}speech at 0x7fa6a6ce4340>,\n",
       " <Element {http://www.politicalmashup.nl}speech at 0x7fa6a6c2fbc0>,\n",
       " <Element {http://www.politicalmashup.nl}speech at 0x7fa6a6cb7fc0>,\n",
       " <Element {http://www.politicalmashup.nl}speech at 0x7fa6a6c2f240>,\n",
       " <Element {http://www.politicalmashup.nl}speech at 0x7fa6a6cb7a40>,\n",
       " <Element {http://www.politicalmashup.nl}speech at 0x7fa6a6b27840>,\n",
       " <Element {http://www.politicalmashup.nl}speech at 0x7fa6a6b27c00>,\n",
       " <Element {http://www.politicalmashup.nl}speech at 0x7fa6a6cb7d00>,\n",
       " <Element {http://www.politicalmashup.nl}speech at 0x7fa6a6b0b240>,\n",
       " <Element {http://www.politicalmashup.nl}speech at 0x7fa6a6cb7b40>,\n",
       " <Element {http://www.politicalmashup.nl}speech at 0x7fa6a6cb7400>,\n",
       " <Element {http://www.politicalmashup.nl}speech at 0x7fa6a6b0bfc0>,\n",
       " <Element {http://www.politicalmashup.nl}speech at 0x7fa6a6b0bb00>,\n",
       " <Element {http://www.politicalmashup.nl}speech at 0x7fa6a6b12d80>,\n",
       " <Element {http://www.politicalmashup.nl}speech at 0x7fa6a6c35a40>,\n",
       " <Element {http://www.politicalmashup.nl}speech at 0x7fa6a6cb7380>,\n",
       " <Element {http://www.politicalmashup.nl}speech at 0x7fa6a6c35a00>,\n",
       " <Element {http://www.politicalmashup.nl}speech at 0x7fa6a6be0880>,\n",
       " <Element {http://www.politicalmashup.nl}speech at 0x7fa6a6be0ec0>,\n",
       " <Element {http://www.politicalmashup.nl}speech at 0x7fa6a68c5bc0>,\n",
       " <Element {http://www.politicalmashup.nl}speech at 0x7fa6a68c5c80>,\n",
       " <Element {http://www.politicalmashup.nl}speech at 0x7fa6a68c5300>,\n",
       " <Element {http://www.politicalmashup.nl}speech at 0x7fa6a68c5240>,\n",
       " <Element {http://www.politicalmashup.nl}speech at 0x7fa6a68c5580>,\n",
       " <Element {http://www.politicalmashup.nl}speech at 0x7fa6a68c5800>,\n",
       " <Element {http://www.politicalmashup.nl}speech at 0x7fa6a68c5440>,\n",
       " <Element {http://www.politicalmashup.nl}speech at 0x7fa6a6cb7080>,\n",
       " <Element {http://www.politicalmashup.nl}speech at 0x7fa6a68a3cc0>,\n",
       " <Element {http://www.politicalmashup.nl}speech at 0x7fa6a68a3b80>,\n",
       " <Element {http://www.politicalmashup.nl}speech at 0x7fa6a68a34c0>,\n",
       " <Element {http://www.politicalmashup.nl}speech at 0x7fa6a6cb7b00>,\n",
       " <Element {http://www.politicalmashup.nl}speech at 0x7fa6a68a3940>,\n",
       " <Element {http://www.politicalmashup.nl}speech at 0x7fa6a68a3040>,\n",
       " <Element {http://www.politicalmashup.nl}speech at 0x7fa6a6ccddc0>,\n",
       " <Element {http://www.politicalmashup.nl}speech at 0x7fa6a6cb7a00>,\n",
       " <Element {http://www.politicalmashup.nl}speech at 0x7fa6a6ccd040>,\n",
       " <Element {http://www.politicalmashup.nl}speech at 0x7fa6a6cb7280>,\n",
       " <Element {http://www.politicalmashup.nl}speech at 0x7fa6a6cb7100>,\n",
       " <Element {http://www.politicalmashup.nl}speech at 0x7fa6a6cb73c0>,\n",
       " <Element {http://www.politicalmashup.nl}speech at 0x7fa6a6ccd280>,\n",
       " <Element {http://www.politicalmashup.nl}speech at 0x7fa6a6ccd740>,\n",
       " <Element {http://www.politicalmashup.nl}speech at 0x7fa6a6ccd780>,\n",
       " <Element {http://www.politicalmashup.nl}speech at 0x7fa6a6ccd880>,\n",
       " <Element {http://www.politicalmashup.nl}speech at 0x7fa6a6ccdd80>,\n",
       " <Element {http://www.politicalmashup.nl}speech at 0x7fa6a6ccde80>,\n",
       " <Element {http://www.politicalmashup.nl}speech at 0x7fa6a6ccd3c0>,\n",
       " <Element {http://www.politicalmashup.nl}speech at 0x7fa6a6ccd900>,\n",
       " <Element {http://www.politicalmashup.nl}speech at 0x7fa6a6cb7200>,\n",
       " <Element {http://www.politicalmashup.nl}speech at 0x7fa6a6cb7800>,\n",
       " <Element {http://www.politicalmashup.nl}speech at 0x7fa6a6cb7840>,\n",
       " <Element {http://www.politicalmashup.nl}speech at 0x7fa6a6cb7180>,\n",
       " <Element {http://www.politicalmashup.nl}speech at 0x7fa6a6cb71c0>,\n",
       " <Element {http://www.politicalmashup.nl}speech at 0x7fa6a6c72a00>,\n",
       " <Element {http://www.politicalmashup.nl}speech at 0x7fa6a6ce2d00>,\n",
       " <Element {http://www.politicalmashup.nl}speech at 0x7fa6a6ce2a80>,\n",
       " <Element {http://www.politicalmashup.nl}speech at 0x7fa6a6ce2e80>,\n",
       " <Element {http://www.politicalmashup.nl}speech at 0x7fa6a6ce2c80>,\n",
       " <Element {http://www.politicalmashup.nl}speech at 0x7fa6a6ce2180>,\n",
       " <Element {http://www.politicalmashup.nl}speech at 0x7fa6a6ce2280>,\n",
       " <Element {http://www.politicalmashup.nl}speech at 0x7fa6a6cb93c0>,\n",
       " <Element {http://www.politicalmashup.nl}speech at 0x7fa6a6ce2200>,\n",
       " <Element {http://www.politicalmashup.nl}speech at 0x7fa6a6ce2580>,\n",
       " <Element {http://www.politicalmashup.nl}speech at 0x7fa6a6ce2040>,\n",
       " <Element {http://www.politicalmashup.nl}speech at 0x7fa6a6cb9d40>,\n",
       " <Element {http://www.politicalmashup.nl}speech at 0x7fa6a6ce29c0>,\n",
       " <Element {http://www.politicalmashup.nl}speech at 0x7fa6a6cb7e00>,\n",
       " <Element {http://www.politicalmashup.nl}speech at 0x7fa6a6ce2400>,\n",
       " <Element {http://www.politicalmashup.nl}speech at 0x7fa6a6cb7bc0>,\n",
       " <Element {http://www.politicalmashup.nl}speech at 0x7fa6a6ce2340>,\n",
       " <Element {http://www.politicalmashup.nl}speech at 0x7fa6a6cb7640>,\n",
       " <Element {http://www.politicalmashup.nl}speech at 0x7fa6a6ce25c0>,\n",
       " <Element {http://www.politicalmashup.nl}speech at 0x7fa6a6cb7540>,\n",
       " <Element {http://www.politicalmashup.nl}speech at 0x7fa6a6cb7f00>,\n",
       " <Element {http://www.politicalmashup.nl}speech at 0x7fa6a6ce2fc0>,\n",
       " <Element {http://www.politicalmashup.nl}speech at 0x7fa6a6cb7900>,\n",
       " <Element {http://www.politicalmashup.nl}speech at 0x7fa6a6cb7580>,\n",
       " <Element {http://www.politicalmashup.nl}speech at 0x7fa6a6cb7340>,\n",
       " <Element {http://www.politicalmashup.nl}speech at 0x7fa6a6ce2380>,\n",
       " <Element {http://www.politicalmashup.nl}speech at 0x7fa6a6ce2ec0>,\n",
       " <Element {http://www.politicalmashup.nl}speech at 0x7fa6a6be8b80>,\n",
       " <Element {http://www.politicalmashup.nl}speech at 0x7fa6a6be82c0>,\n",
       " <Element {http://www.politicalmashup.nl}speech at 0x7fa6a6ce2e00>,\n",
       " <Element {http://www.politicalmashup.nl}speech at 0x7fa6a6cba680>,\n",
       " <Element {http://www.politicalmashup.nl}speech at 0x7fa6a6ce2740>,\n",
       " <Element {http://www.politicalmashup.nl}speech at 0x7fa6a6ce20c0>,\n",
       " <Element {http://www.politicalmashup.nl}speech at 0x7fa6a6b602c0>,\n",
       " <Element {http://www.politicalmashup.nl}speech at 0x7fa6a6ce2b40>,\n",
       " <Element {http://www.politicalmashup.nl}speech at 0x7fa6a6cb50c0>,\n",
       " <Element {http://www.politicalmashup.nl}speech at 0x7fa6a6cb5680>,\n",
       " <Element {http://www.politicalmashup.nl}speech at 0x7fa6a6ce2f00>,\n",
       " <Element {http://www.politicalmashup.nl}speech at 0x7fa6a6c54380>,\n",
       " <Element {http://www.politicalmashup.nl}speech at 0x7fa6a6c54f80>,\n",
       " <Element {http://www.politicalmashup.nl}speech at 0x7fa6a6cbd500>,\n",
       " <Element {http://www.politicalmashup.nl}speech at 0x7fa6a6cbdcc0>,\n",
       " <Element {http://www.politicalmashup.nl}speech at 0x7fa6a6cbd700>,\n",
       " <Element {http://www.politicalmashup.nl}speech at 0x7fa6a6ce2680>,\n",
       " <Element {http://www.politicalmashup.nl}speech at 0x7fa6a6ce2600>,\n",
       " <Element {http://www.politicalmashup.nl}speech at 0x7fa6a6ce24c0>,\n",
       " <Element {http://www.politicalmashup.nl}speech at 0x7fa6a6ce2c40>,\n",
       " <Element {http://www.politicalmashup.nl}speech at 0x7fa6a6ce26c0>,\n",
       " <Element {http://www.politicalmashup.nl}speech at 0x7fa6a6ce27c0>,\n",
       " <Element {http://www.politicalmashup.nl}speech at 0x7fa6a6ce28c0>,\n",
       " <Element {http://www.politicalmashup.nl}speech at 0x7fa6a6ce2500>,\n",
       " <Element {http://www.politicalmashup.nl}speech at 0x7fa6a6cd3280>,\n",
       " <Element {http://www.politicalmashup.nl}speech at 0x7fa6a6cc8240>,\n",
       " <Element {http://www.politicalmashup.nl}speech at 0x7fa6a6cd3140>,\n",
       " <Element {http://www.politicalmashup.nl}speech at 0x7fa6a6cd3500>,\n",
       " <Element {http://www.politicalmashup.nl}speech at 0x7fa6a6bf0a40>,\n",
       " <Element {http://www.politicalmashup.nl}speech at 0x7fa6a6cd3a00>,\n",
       " <Element {http://www.politicalmashup.nl}speech at 0x7fa6a6cdd780>,\n",
       " <Element {http://www.politicalmashup.nl}speech at 0x7fa6a6cddc80>,\n",
       " <Element {http://www.politicalmashup.nl}speech at 0x7fa6a6cc5340>,\n",
       " <Element {http://www.politicalmashup.nl}speech at 0x7fa6a6cd19c0>,\n",
       " <Element {http://www.politicalmashup.nl}speech at 0x7fa6a6cd1500>,\n",
       " <Element {http://www.politicalmashup.nl}speech at 0x7fa6a6cd3d40>,\n",
       " <Element {http://www.politicalmashup.nl}speech at 0x7fa6a6cd7080>,\n",
       " <Element {http://www.politicalmashup.nl}speech at 0x7fa6a6cd3400>,\n",
       " <Element {http://www.politicalmashup.nl}speech at 0x7fa6a6cd7880>,\n",
       " <Element {http://www.politicalmashup.nl}speech at 0x7fa6a6cd3f40>,\n",
       " <Element {http://www.politicalmashup.nl}speech at 0x7fa6a6cd9a40>,\n",
       " <Element {http://www.politicalmashup.nl}speech at 0x7fa6a6cd3f00>,\n",
       " <Element {http://www.politicalmashup.nl}speech at 0x7fa6a6cd3780>,\n",
       " <Element {http://www.politicalmashup.nl}speech at 0x7fa6a6cd9700>,\n",
       " <Element {http://www.politicalmashup.nl}speech at 0x7fa6a6cd3080>,\n",
       " <Element {http://www.politicalmashup.nl}speech at 0x7fa6a6cdf640>,\n",
       " <Element {http://www.politicalmashup.nl}speech at 0x7fa6a6cd9900>,\n",
       " <Element {http://www.politicalmashup.nl}speech at 0x7fa6a6cdf040>,\n",
       " <Element {http://www.politicalmashup.nl}speech at 0x7fa6a6cd9f40>,\n",
       " <Element {http://www.politicalmashup.nl}speech at 0x7fa6a6cdf740>,\n",
       " <Element {http://www.politicalmashup.nl}speech at 0x7fa6a6cdfb80>,\n",
       " <Element {http://www.politicalmashup.nl}speech at 0x7fa6a6cd3680>,\n",
       " <Element {http://www.politicalmashup.nl}speech at 0x7fa6a6cdf940>,\n",
       " <Element {http://www.politicalmashup.nl}speech at 0x7fa6a6cdfa40>,\n",
       " <Element {http://www.politicalmashup.nl}speech at 0x7fa6a6ce2780>,\n",
       " <Element {http://www.politicalmashup.nl}speech at 0x7fa6a6cdf840>,\n",
       " <Element {http://www.politicalmashup.nl}speech at 0x7fa6a6cdfac0>,\n",
       " <Element {http://www.politicalmashup.nl}speech at 0x7fa6a6cdf6c0>,\n",
       " <Element {http://www.politicalmashup.nl}speech at 0x7fa6a6c49700>,\n",
       " <Element {http://www.politicalmashup.nl}speech at 0x7fa6a6cdfcc0>,\n",
       " <Element {http://www.politicalmashup.nl}speech at 0x7fa6a6cdf340>,\n",
       " <Element {http://www.politicalmashup.nl}speech at 0x7fa6a6cdf9c0>,\n",
       " <Element {http://www.politicalmashup.nl}speech at 0x7fa6a6ce51c0>,\n",
       " <Element {http://www.politicalmashup.nl}speech at 0x7fa6a6ce5900>,\n",
       " <Element {http://www.politicalmashup.nl}speech at 0x7fa6a6cdf540>,\n",
       " <Element {http://www.politicalmashup.nl}speech at 0x7fa6a6cdf240>,\n",
       " <Element {http://www.politicalmashup.nl}speech at 0x7fa6a6ce4c40>,\n",
       " <Element {http://www.politicalmashup.nl}speech at 0x7fa6a6cdff00>,\n",
       " <Element {http://www.politicalmashup.nl}speech at 0x7fa6a6ce7180>,\n",
       " <Element {http://www.politicalmashup.nl}speech at 0x7fa6a6ceaf00>,\n",
       " <Element {http://www.politicalmashup.nl}speech at 0x7fa6a6cea5c0>,\n",
       " <Element {http://www.politicalmashup.nl}speech at 0x7fa6a6cedc40>,\n",
       " <Element {http://www.politicalmashup.nl}speech at 0x7fa6a6ced580>,\n",
       " <Element {http://www.politicalmashup.nl}speech at 0x7fa6a6cf2440>,\n",
       " <Element {http://www.politicalmashup.nl}speech at 0x7fa6a6cf25c0>,\n",
       " <Element {http://www.politicalmashup.nl}speech at 0x7fa6a6cf2ac0>,\n",
       " <Element {http://www.politicalmashup.nl}speech at 0x7fa6a6cf0240>,\n",
       " <Element {http://www.politicalmashup.nl}speech at 0x7fa6a6cf08c0>,\n",
       " <Element {http://www.politicalmashup.nl}speech at 0x7fa6a6cdf5c0>,\n",
       " <Element {http://www.politicalmashup.nl}speech at 0x7fa6a6cf34c0>,\n",
       " <Element {http://www.politicalmashup.nl}speech at 0x7fa6a6cf3280>,\n",
       " <Element {http://www.politicalmashup.nl}speech at 0x7fa6a6cf5700>,\n",
       " <Element {http://www.politicalmashup.nl}speech at 0x7fa6a6cfaf80>,\n",
       " <Element {http://www.politicalmashup.nl}speech at 0x7fa6a6cfa240>,\n",
       " <Element {http://www.politicalmashup.nl}speech at 0x7fa6a6cfa6c0>,\n",
       " <Element {http://www.politicalmashup.nl}speech at 0x7fa6a6cdf900>,\n",
       " <Element {http://www.politicalmashup.nl}speech at 0x7fa6a6cfc6c0>,\n",
       " <Element {http://www.politicalmashup.nl}speech at 0x7fa6a6cdfdc0>,\n",
       " <Element {http://www.politicalmashup.nl}speech at 0x7fa6a6cfc300>,\n",
       " <Element {http://www.politicalmashup.nl}speech at 0x7fa6a6cdfec0>,\n",
       " <Element {http://www.politicalmashup.nl}speech at 0x7fa6a6cfcd00>,\n",
       " <Element {http://www.politicalmashup.nl}speech at 0x7fa6a6cdf480>,\n",
       " <Element {http://www.politicalmashup.nl}speech at 0x7fa6a6cfcd80>,\n",
       " <Element {http://www.politicalmashup.nl}speech at 0x7fa6a6cdfb00>,\n",
       " <Element {http://www.politicalmashup.nl}speech at 0x7fa6a6cfc980>,\n",
       " <Element {http://www.politicalmashup.nl}speech at 0x7fa6a6cfcc80>,\n",
       " <Element {http://www.politicalmashup.nl}speech at 0x7fa6a6c63ac0>,\n",
       " <Element {http://www.politicalmashup.nl}speech at 0x7fa6a6c47f00>,\n",
       " <Element {http://www.politicalmashup.nl}speech at 0x7fa6a6c47c40>,\n",
       " <Element {http://www.politicalmashup.nl}speech at 0x7fa6a6cdfc00>,\n",
       " <Element {http://www.politicalmashup.nl}speech at 0x7fa6a6cdff80>,\n",
       " <Element {http://www.politicalmashup.nl}speech at 0x7fa6a6cdf880>,\n",
       " <Element {http://www.politicalmashup.nl}speech at 0x7fa6a6cdfd00>,\n",
       " <Element {http://www.politicalmashup.nl}speech at 0x7fa6a6d43180>,\n",
       " <Element {http://www.politicalmashup.nl}speech at 0x7fa6a6cdf780>,\n",
       " <Element {http://www.politicalmashup.nl}speech at 0x7fa6a6d43940>,\n",
       " <Element {http://www.politicalmashup.nl}speech at 0x7fa6a6cd71c0>,\n",
       " <Element {http://www.politicalmashup.nl}speech at 0x7fa6a6d43fc0>,\n",
       " <Element {http://www.politicalmashup.nl}speech at 0x7fa6a6d467c0>,\n",
       " <Element {http://www.politicalmashup.nl}speech at 0x7fa6a6d466c0>,\n",
       " <Element {http://www.politicalmashup.nl}speech at 0x7fa6a6d46640>,\n",
       " <Element {http://www.politicalmashup.nl}speech at 0x7fa6a6cd7cc0>,\n",
       " <Element {http://www.politicalmashup.nl}speech at 0x7fa6a6cd7480>,\n",
       " <Element {http://www.politicalmashup.nl}speech at 0x7fa6a6d46b00>,\n",
       " <Element {http://www.politicalmashup.nl}speech at 0x7fa6a6d46e80>,\n",
       " <Element {http://www.politicalmashup.nl}speech at 0x7fa6a6cd7900>,\n",
       " <Element {http://www.politicalmashup.nl}speech at 0x7fa6a6cd7e80>,\n",
       " <Element {http://www.politicalmashup.nl}speech at 0x7fa6a6d480c0>,\n",
       " <Element {http://www.politicalmashup.nl}speech at 0x7fa6a6cd7ec0>,\n",
       " <Element {http://www.politicalmashup.nl}speech at 0x7fa6a6d48240>,\n",
       " <Element {http://www.politicalmashup.nl}speech at 0x7fa6a6cd79c0>,\n",
       " <Element {http://www.politicalmashup.nl}speech at 0x7fa6a6cd7bc0>,\n",
       " <Element {http://www.politicalmashup.nl}speech at 0x7fa6a6d48480>,\n",
       " <Element {http://www.politicalmashup.nl}speech at 0x7fa6a6cd7fc0>,\n",
       " <Element {http://www.politicalmashup.nl}speech at 0x7fa6a6d413c0>,\n",
       " <Element {http://www.politicalmashup.nl}speech at 0x7fa6a6d41ac0>,\n",
       " <Element {http://www.politicalmashup.nl}speech at 0x7fa6a6d486c0>,\n",
       " <Element {http://www.politicalmashup.nl}speech at 0x7fa6a6d487c0>,\n",
       " <Element {http://www.politicalmashup.nl}speech at 0x7fa6a6d48ac0>,\n",
       " <Element {http://www.politicalmashup.nl}speech at 0x7fa6a6d41f40>,\n",
       " <Element {http://www.politicalmashup.nl}speech at 0x7fa6a6d48c80>,\n",
       " <Element {http://www.politicalmashup.nl}speech at 0x7fa6a6d41bc0>,\n",
       " <Element {http://www.politicalmashup.nl}speech at 0x7fa6a6d41840>,\n",
       " <Element {http://www.politicalmashup.nl}speech at 0x7fa6a6d4a280>,\n",
       " <Element {http://www.politicalmashup.nl}speech at 0x7fa6a6d4a380>,\n",
       " <Element {http://www.politicalmashup.nl}speech at 0x7fa6a6d4a440>,\n",
       " <Element {http://www.politicalmashup.nl}speech at 0x7fa6a6d4a540>,\n",
       " <Element {http://www.politicalmashup.nl}speech at 0x7fa6a6d4a640>,\n",
       " <Element {http://www.politicalmashup.nl}speech at 0x7fa6a6d4a740>,\n",
       " <Element {http://www.politicalmashup.nl}speech at 0x7fa6a6d4a840>,\n",
       " <Element {http://www.politicalmashup.nl}speech at 0x7fa6a6d4a900>,\n",
       " <Element {http://www.politicalmashup.nl}speech at 0x7fa6a6d4aa00>,\n",
       " <Element {http://www.politicalmashup.nl}speech at 0x7fa6a6d41a00>,\n",
       " <Element {http://www.politicalmashup.nl}speech at 0x7fa6a6d41900>,\n",
       " <Element {http://www.politicalmashup.nl}speech at 0x7fa6a6d41200>,\n",
       " <Element {http://www.politicalmashup.nl}speech at 0x7fa6a6d4ac80>,\n",
       " <Element {http://www.politicalmashup.nl}speech at 0x7fa6a6d41f00>,\n",
       " <Element {http://www.politicalmashup.nl}speech at 0x7fa6a6d411c0>,\n",
       " <Element {http://www.politicalmashup.nl}speech at 0x7fa6a6d41100>,\n",
       " <Element {http://www.politicalmashup.nl}speech at 0x7fa6a6d41380>,\n",
       " <Element {http://www.politicalmashup.nl}speech at 0x7fa6a6d41080>,\n",
       " <Element {http://www.politicalmashup.nl}speech at 0x7fa6a6d41740>,\n",
       " <Element {http://www.politicalmashup.nl}speech at 0x7fa6a6d41fc0>,\n",
       " <Element {http://www.politicalmashup.nl}speech at 0x7fa6a6d41140>,\n",
       " <Element {http://www.politicalmashup.nl}speech at 0x7fa6a6d41500>,\n",
       " <Element {http://www.politicalmashup.nl}speech at 0x7fa6a6d41680>,\n",
       " <Element {http://www.politicalmashup.nl}speech at 0x7fa6a6cfaa00>,\n",
       " <Element {http://www.politicalmashup.nl}speech at 0x7fa6a6cfa340>,\n",
       " <Element {http://www.politicalmashup.nl}speech at 0x7fa6a6d4c880>,\n",
       " <Element {http://www.politicalmashup.nl}speech at 0x7fa6a6cfad40>,\n",
       " <Element {http://www.politicalmashup.nl}speech at 0x7fa6a6d4c040>,\n",
       " <Element {http://www.politicalmashup.nl}speech at 0x7fa6a6cfab40>,\n",
       " <Element {http://www.politicalmashup.nl}speech at 0x7fa6a6d4c0c0>,\n",
       " <Element {http://www.politicalmashup.nl}speech at 0x7fa6a6cfa8c0>,\n",
       " <Element {http://www.politicalmashup.nl}speech at 0x7fa6a6d4c1c0>,\n",
       " <Element {http://www.politicalmashup.nl}speech at 0x7fa6a6cfa400>,\n",
       " <Element {http://www.politicalmashup.nl}speech at 0x7fa6a6d4c340>,\n",
       " <Element {http://www.politicalmashup.nl}speech at 0x7fa6a6d52a00>,\n",
       " <Element {http://www.politicalmashup.nl}speech at 0x7fa6a6d52f40>,\n",
       " <Element {http://www.politicalmashup.nl}speech at 0x7fa6a6d52440>,\n",
       " <Element {http://www.politicalmashup.nl}speech at 0x7fa6a6d52640>,\n",
       " <Element {http://www.politicalmashup.nl}speech at 0x7fa6a6cfaa80>,\n",
       " <Element {http://www.politicalmashup.nl}speech at 0x7fa6a6d52c00>,\n",
       " <Element {http://www.politicalmashup.nl}speech at 0x7fa6a6d52540>,\n",
       " <Element {http://www.politicalmashup.nl}speech at 0x7fa6a6d52d80>,\n",
       " <Element {http://www.politicalmashup.nl}speech at 0x7fa6a6d52580>,\n",
       " <Element {http://www.politicalmashup.nl}speech at 0x7fa6a6cfa600>,\n",
       " <Element {http://www.politicalmashup.nl}speech at 0x7fa6a6d52f80>,\n",
       " <Element {http://www.politicalmashup.nl}speech at 0x7fa6a6cfa9c0>,\n",
       " <Element {http://www.politicalmashup.nl}speech at 0x7fa6a6d58300>,\n",
       " <Element {http://www.politicalmashup.nl}speech at 0x7fa6a6d583c0>,\n",
       " <Element {http://www.politicalmashup.nl}speech at 0x7fa6a6d58480>,\n",
       " <Element {http://www.politicalmashup.nl}speech at 0x7fa6a6d586c0>,\n",
       " <Element {http://www.politicalmashup.nl}speech at 0x7fa6a6d587c0>,\n",
       " <Element {http://www.politicalmashup.nl}speech at 0x7fa6a6cfabc0>,\n",
       " <Element {http://www.politicalmashup.nl}speech at 0x7fa6a6d58900>,\n",
       " <Element {http://www.politicalmashup.nl}speech at 0x7fa6a6d58a00>,\n",
       " <Element {http://www.politicalmashup.nl}speech at 0x7fa6a6d58bc0>,\n",
       " <Element {http://www.politicalmashup.nl}speech at 0x7fa6a6cfab80>,\n",
       " <Element {http://www.politicalmashup.nl}speech at 0x7fa6a6d58c80>,\n",
       " <Element {http://www.politicalmashup.nl}speech at 0x7fa6a6d58f40>,\n",
       " <Element {http://www.politicalmashup.nl}speech at 0x7fa6a6cfad80>,\n",
       " <Element {http://www.politicalmashup.nl}speech at 0x7fa6a6bff8c0>]"
      ]
     },
     "execution_count": 284,
     "metadata": {},
     "output_type": "execute_result"
    }
   ],
   "source": [
    "lab_speeches = root.xpath('./pm:proceedings/pm:topic[@pm:title=\"Orders of the Day — MEDICAL TERMINATION OF PREGNANCY BILL\"]//pm:speech[@pm:party-ref=\"uk.p.Lab\"]',namespaces=nsmap)\n",
    "lab_speeches"
   ]
  },
  {
   "cell_type": "code",
   "execution_count": 285,
   "id": "cb4fc725",
   "metadata": {},
   "outputs": [
    {
     "name": "stdout",
     "output_type": "stream",
     "text": [
      "The effect of the Bill's handling on doctors is shown by a letter I received a few days ago from two eminent Yorkshire consultants, Mr. G. A. Craig, consultant obstetrician and gynaecologist for the Bradford A group of hospitals, and Mr. John Mander, consultant obstetrician and gynaecologist at York, which reads: The following statement has been submitted to the 29 Consultant Gynaecologists employed by the Leeds Regional Hospital Board (as per attached list). There follows a list of distinguished medical men and women.\n",
      "          \n",
      "I will not anticipate arguments which I shall address to the House later, but it will emerge in the course of debate during the night that this is not a Bill which will permit a large increase in therapeutic abortion in the National Health Service hospitals. The Minister knows that well. There are about 10,000 gynaecological beds in the country and there are 60,000 women on the gynaecological waiting list, awaiting appointments. The chances of the National Health Service providing massive facilities for abortions once the Bill becomes law are remote. The Minister knows that. The Bill is therefore a licence to permit abortion on a very much larger scale in the private sector. Thanks to the abdication of responsibility by the Minister and the blindness of the sponsors, the Bill will do little to ensure any change in the number of therapeutic abortions carried out in the National Health Service, but it will give a great deal of encouragement to the professional abortionists in the private sector.\n",
      "        \n",
      "Apart from questions of psychosis, there is the further and perhaps most important sub-division under the issue of mental indications for an abortion, the risk of suicide. Again the lay point of view would very often be that the risk of this taking place is so great that there must be a termination. But, looked at from the medical point of view, a principle which the Amendment seeks to write into the Bill, there may be a completely different answer. I again quote from the researches of Dr. Sim: In the City of Birmingham with a population of a million and a quarter over a six-year period 120 women of child bearing age committed suicide. Not one was pregnant. Post mortem examinations have been carried out, so there was no question of a pregnancy or even abortion being missed. I followed this up with a second six-year inquiry and this time one woman who was pregnant had committed suicide. She was a married woman with two or three children, attending a psychiatric clinic at the time. She needed psychiatric treatment. So in a 12-year period in Birmingham we have one suicide amongst pregnant women and here abortion would not have influenced the outcome. Dr. Sim goes on to go into details, with which I will not burden the House.[HON. MEMBERS: \"Hear, hear.\"] This is very important, because these are the details of research, which give some substance to what is otherwise an extraordinarily vague conception.\n",
      "          \n",
      " If such knowledge exists, why has it been suppressed from the public at large? He makes it clear that the reason is that doctors' knowledge about what abortion involves is often painful and upsetting to the women concerned.\n",
      "          \n",
      "It is true to say that many women suffer serious consequences from having an abortion, not on health grounds but simply because she did not want a child. It can cause her the gravest mental anguish for having brought about the death of her own child. Recently, I received a letter from a woman who said that when she was 18, her father had threatened to throw her out of the house unless she had an abortion. She was taken to a psychiatrist and had to pretend to be suicidal. She had an abortion. After the operation, she really felt suicidal, and she said in her moving letter to me that she has never got over the frightful feeling of loss. She became sterile, and has since had two nervous breakdowns. It is not an uncommon story.\n",
      "          \n",
      "Certainly we must take steps to see that women at risk are not placed in jeopardy. Later we can go into the question of abnormality in children, a terrifyingly difficult problem, but while we are discussing the question of environment, the hon. Member for Roxburgh, Selkirk and Peebles (Mr. David Steel) must accept that the Bill is still not right. After all, this is the seventh or eighth time that this provision has been re-written. Is it right now? Perhaps the ninth try will be better. Or perhaps the seventh, or second, attempt was the right answer.\n",
      "          \n",
      "The Chief of the Bureau is assisted by two part-time psychiatrists, and there are four persons, generally gynaecologists, who take it in turns to act as chairman of the committee. In addition, other people are involved who are women experienced in social welfare, and they take turns at being the third member of the committee. There is a similar provision in more general terms in my Amendment providing for social workers to be members of the panel.\n",
      "          \n",
      "What we want to achieve under the Bill is that a person who can genuinely justify that a baby should be aborted will not be in an atmosphere when she will be frightened to take steps to terminate the pregnancy. What would inevitably happen as a result of having a panel of experts would be that the simpler type of person might be inhibited from going before a panel, which would be rather frightening. Because the panel would be frightening, that type of person would be much more inclined to continue to go to a back-street abortionist. Therefore, many women who even my hon. Friend would be prepared to accept probably should be aborted would not be aborted. There is a good deal of danger in my hon. Friend's proposition.\n",
      "          \n",
      "The rejection of the Amendment which would have provided that there should be expert guidance on whether an abortion should be carried out makes Amendment No. 40 all the more important, because we should not undertake decisions of this kind without going into them very carefully. The experts referred to in Amendment No. 40 are doctors, psychiatrists and social workers. This is an important point to recognise. They would be persons well versed in the facilities available to help women in difficulties with their pregnancies. A panel of this sort might have to deal with all kinds of difficulties. The difficulty might be one of housing. A social worker on the panel would surely be able to say whether or not the difficulty facing the woman could be resolved by means available. There are plenty of remedies at the disposal of local authorities, which is very relevant when we are dealing with such a very important matter as abortion.\n",
      "          \n",
      "The difficulty in which the woman finds herself may well be that she already has an ample quiverful. If so, and if the extra work entailed in having an extra child is too much for her, a social worker would surely be able to bring in the home help service, which is there to help women in such situations. If the difficulty is financial, there are plenty of ways in which the financial difficulties of a woman who is pregnant can be resolved. If it is suggested that she may have a handicapped child, as Clause 1(1, b ) visualises, the difficulty may be able to be resolved within the scope of existing facilities.\n",
      "          \n",
      "On recent occasions doctors have told me that women are coming into the surgeries, at this moment, and saying that it is the law that abortion can now be obtained. They think the Bill has been passed through Parliament. Doctors are already receiving far too many inquiries from patients for abortions to take place. If we had a panel of experts the doctors would be in a much better position.\n",
      "        \n",
      "In cases where women are going to a doctor for an abortion, it would be much better if the doctor could explain to them that there is to be set up a panel of experts who could go into the facts of the case. The doctor might not be able to know all the details.\n",
      "        \n",
      "This, I think, is a further illustration of the wrongheadedness of those, both the sponsors of the Bill and the Minister himself, who have rejected the considered view of the British Medical Association and of the Royal College of Physicians and Gynaecologists that one of the two registered medical practitioners should have special experience and qualifications. My hon. Friend the Member for Chigwell (Mr. Biggs-Davison) thought that the value of having this particular panel was that it would provide expert advice for women seeking an abortion. But this is not the case. The proposal is that there shall be a panel to whom the doctor in the case can refer.\n",
      "          \n",
      "I can lead the hon. Member to water but I cannot make him drink. I have carefully explained that what we do here must bear some relation to the realities outside the House. We can enact an Act of Parliament here, but it would be meaningless if we have not got the support of the doctors. We shall raise the expectations of women all over the country that there will be more therapeutic abortions. But in fact, in the present mood of the medical profession, there will be precious few, for the reasons which I have given. The proposal to have a panel to which the two doctors will go—or one of them will go—for advice is. in the view of the B.M.A., alien to our tradition of inter-professional relationships in this country. With great reluctance, therefore. I cannot support the Amendments and advise the House not to do so.\n",
      "        \n"
     ]
    }
   ],
   "source": [
    "con_paras = root.xpath('./pm:proceedings/pm:topic[@pm:title=\"Orders of the Day — MEDICAL TERMINATION OF PREGNANCY BILL\"]//pm:speech[@pm:party-ref=\"uk.p.Con\"]/pm:p[contains(text(), \"women\")]',namespaces=nsmap)\n",
    "for s in con_paras:\n",
    "    print(etree.tostring(s,method='text',encoding='unicode'))"
   ]
  },
  {
   "cell_type": "markdown",
   "id": "399076d7",
   "metadata": {
    "slideshow": {
     "slide_type": "slide"
    }
   },
   "source": [
    "### ✏️ Exercise\n",
    "- (Difficult) Make a small program that computes word frequencies by party (only Labour and Conservative is fine).\n",
    "- (Difficult) Can you calculate if the probability of mentioning \"woman\" or \"women\" differs by party? The probability in this case is just the frequency of the word \"woman\" divided by the total number of words spoken by a certain party."
   ]
  },
  {
   "cell_type": "markdown",
   "id": "9a632b1d",
   "metadata": {},
   "source": [
    "# Fin."
   ]
  }
 ],
 "metadata": {
  "celltoolbar": "Slideshow",
  "kernelspec": {
   "display_name": "Python 3 (ipykernel)",
   "language": "python",
   "name": "python3"
  },
  "language_info": {
   "codemirror_mode": {
    "name": "ipython",
    "version": 3
   },
   "file_extension": ".py",
   "mimetype": "text/x-python",
   "name": "python",
   "nbconvert_exporter": "python",
   "pygments_lexer": "ipython3",
   "version": "3.9.7"
  }
 },
 "nbformat": 4,
 "nbformat_minor": 5
}
