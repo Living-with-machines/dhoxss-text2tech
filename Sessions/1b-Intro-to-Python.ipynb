{
 "cells": [
  {
   "attachments": {},
   "cell_type": "markdown",
   "metadata": {},
   "source": [
    "# Introduction to Python"
   ]
  },
  {
   "cell_type": "code",
   "execution_count": null,
   "metadata": {},
   "outputs": [],
   "source": [
    "text = \"This is our first python example.\"\n",
    "print(text)"
   ]
  },
  {
   "attachments": {},
   "cell_type": "markdown",
   "metadata": {},
   "source": [
    "## Variables and data types"
   ]
  },
  {
   "attachments": {},
   "cell_type": "markdown",
   "metadata": {},
   "source": [
    "Variables are containers for storing data values, such as numbers, text, lists of numbers, etc.\n",
    "\n",
    "A data value (on the right) is assigned to a variable (on the left) using the `=` sign."
   ]
  },
  {
   "cell_type": "code",
   "execution_count": null,
   "metadata": {},
   "outputs": [],
   "source": [
    "text = \"This is our first python example.\"\n",
    "print(text)"
   ]
  },
  {
   "attachments": {},
   "cell_type": "markdown",
   "metadata": {},
   "source": [
    "A variable can contain values of many different types, but there are basic data types in Python:\n",
    "\n",
    "Data type | Description | Format | Example |\n",
    "----------|-------------|--------|---------|\n",
    "str    | A string, a text of any length | Must be enclosed in quotation marks | `\"This is a string\"` |\n",
    "bool   | A boolean, a logical value | Either `True` or `False`, must not be enclosed in quotation marks | `False` |\n",
    "int       | An integer, i.e. a whole number | Number | `4` |\n",
    "float     | A floating point number | Decimal number | `4.1` |"
   ]
  },
  {
   "cell_type": "code",
   "execution_count": null,
   "metadata": {},
   "outputs": [],
   "source": [
    "boolean_example = False\n",
    "print(boolean_example)"
   ]
  },
  {
   "cell_type": "code",
   "execution_count": null,
   "metadata": {},
   "outputs": [],
   "source": [
    "int_example = 4\n",
    "print(int_example)"
   ]
  },
  {
   "cell_type": "code",
   "execution_count": null,
   "metadata": {},
   "outputs": [],
   "source": [
    "float_example = 3.5\n",
    "print(float_example)"
   ]
  },
  {
   "attachments": {},
   "cell_type": "markdown",
   "metadata": {},
   "source": [
    "There are some contraints on naming the variables:\n",
    "* A variable name **must** start with a letter or underscore.\n",
    "* A variable name **can** contain numbers, but not at the beginning.\n",
    "* A variable name can only contain numbers, letters, or underscores.\n",
    "\n",
    "The name of the variable is up to you, but it's good practice to try to describe the content of the variable!"
   ]
  },
  {
   "cell_type": "code",
   "execution_count": null,
   "metadata": {},
   "outputs": [],
   "source": [
    "potato = \"This is an example.\"\n",
    "print(potato)"
   ]
  },
  {
   "attachments": {},
   "cell_type": "markdown",
   "metadata": {},
   "source": [
    "A variable can be reused at any point in your code, just by reassigning a new value to it. Note that by reassigning a new value to a variable, the variable will not contain the initial value anymore, only the last. The initial value will be lost.\n",
    "\n",
    "The value in a variable will be stored for as long as the program runs. This is why it is important that variables have names that are meaningful and descriptive."
   ]
  },
  {
   "attachments": {},
   "cell_type": "markdown",
   "metadata": {},
   "source": [
    "#### Lists"
   ]
  },
  {
   "attachments": {},
   "cell_type": "markdown",
   "metadata": {},
   "source": [
    "A list is a data structure that **lists** elements.\n",
    "\n",
    "Lists are sequences of comma-separated elements. Lists can contain:\n",
    "\n",
    "* Strings: `[\"one\", \"two\", \"three\"]`\n",
    "* Numbers: `[1, 2, 3]`\n",
    "* Booleans: `[True, True, False]`\n",
    "* Other lists!: `[[1, 2, 3], [2, 3, 4], [3, 4, 5]]`\n",
    "* A combination!: `[\"one\", \"two\", 3, False, [3, 4, 5]]`"
   ]
  },
  {
   "cell_type": "code",
   "execution_count": null,
   "metadata": {},
   "outputs": [],
   "source": [
    "list_of_numbers = [2, 3, 7, 2, 3]"
   ]
  },
  {
   "cell_type": "code",
   "execution_count": null,
   "metadata": {},
   "outputs": [],
   "source": [
    "print(list_of_numbers)"
   ]
  },
  {
   "cell_type": "code",
   "execution_count": null,
   "metadata": {},
   "outputs": [],
   "source": [
    "type(list_of_numbers)"
   ]
  },
  {
   "cell_type": "markdown",
   "metadata": {},
   "source": [
    "## Built-in functions"
   ]
  },
  {
   "attachments": {},
   "cell_type": "markdown",
   "metadata": {},
   "source": [
    "Python has a series of built-in functions for common actions.\n",
    "\n",
    "For example, the following built-in functions allow us to know more about a variable or a value:\n",
    "* `print()`: prints the value in the parentheses.\n",
    "* `type()`: describes the data type of the value the parentheses.\n",
    "\n",
    "See the full list [here](https://docs.python.org/3/library/functions.html)."
   ]
  },
  {
   "cell_type": "code",
   "execution_count": null,
   "metadata": {},
   "outputs": [],
   "source": [
    "print(text)"
   ]
  },
  {
   "cell_type": "code",
   "execution_count": null,
   "metadata": {},
   "outputs": [],
   "source": [
    "print(\"hello\")"
   ]
  },
  {
   "cell_type": "code",
   "execution_count": null,
   "metadata": {},
   "outputs": [],
   "source": [
    "type(text)"
   ]
  },
  {
   "cell_type": "code",
   "execution_count": null,
   "metadata": {},
   "outputs": [],
   "source": [
    "type(\"hello\")"
   ]
  },
  {
   "attachments": {},
   "cell_type": "markdown",
   "metadata": {},
   "source": [
    "A special (more meta) built-in function is `help()`, which tells you more about a built-in function:"
   ]
  },
  {
   "cell_type": "code",
   "execution_count": null,
   "metadata": {},
   "outputs": [],
   "source": [
    "help(print)"
   ]
  },
  {
   "attachments": {},
   "cell_type": "markdown",
   "metadata": {},
   "source": [
    "## Comments"
   ]
  },
  {
   "attachments": {},
   "cell_type": "markdown",
   "metadata": {},
   "source": [
    "Comments can be used to explain the code, Python will ignore them when executing the program.\n",
    "\n",
    "Any text in a line preceded by a hashtag will be interpreted as a comment."
   ]
  },
  {
   "cell_type": "code",
   "execution_count": null,
   "metadata": {},
   "outputs": [],
   "source": [
    "first_name = \"Mariona\" # Assigning a string to the variable `first_name`\n",
    "first_name = \"Kaspar\" # Here we are reassigning the variable to contain the string \"Kaspar\"\n",
    "# Print the content of `first_name`:\n",
    "print(first_name)"
   ]
  },
  {
   "cell_type": "markdown",
   "metadata": {},
   "source": [
    "Multi-line comments are surrounded by three double quotation marks:"
   ]
  },
  {
   "cell_type": "code",
   "execution_count": null,
   "metadata": {},
   "outputs": [],
   "source": [
    "\"\"\"\n",
    "This is a multi-line comment. In this cell,\n",
    "we're first assigning the name \"Mariona\" to\n",
    "variable (`first_name`) and then we're\n",
    "reassigning it to the string \"Kaspar\". Finally,\n",
    "we print the content of the variable.\n",
    "\"\"\"\n",
    "first_name = \"Mariona\"\n",
    "first_name = \"Kaspar\"\n",
    "print(first_name)"
   ]
  },
  {
   "cell_type": "markdown",
   "metadata": {},
   "source": [
    "## Interpreting errors"
   ]
  },
  {
   "attachments": {},
   "cell_type": "markdown",
   "metadata": {},
   "source": [
    "Python errors help us understand why our code does not run, or what's wrong in our code. They are usually quite descriptive, and knowing how to interpret them will help us fix and improve our code. Read more about errors [here](https://docs.python.org/3/tutorial/errors.html)."
   ]
  },
  {
   "cell_type": "markdown",
   "metadata": {},
   "source": [
    "### Syntax errors\n",
    "\n",
    "Syntax errors (also called parsing errors) are errors in how we use python. They are like grammar mistakes: forgetting to close parentheses, for example, results in a syntax error. Python will complain: if there is a syntax error, the code will not run."
   ]
  },
  {
   "cell_type": "code",
   "execution_count": null,
   "metadata": {},
   "outputs": [],
   "source": [
    "print(text"
   ]
  },
  {
   "cell_type": "markdown",
   "metadata": {},
   "source": [
    "Interpreting the error: Python provides the number and content of the line that contains the mistake: in this case `print(text`. It also provides the type of error (`SyntaxError`) and the description of the error: in this case, python has reached the end of the file (or program) before a code block is completed. In other words: we've forgotten to close the parenthesis."
   ]
  },
  {
   "attachments": {},
   "cell_type": "markdown",
   "metadata": {},
   "source": [
    "### Exceptions\n",
    "\n",
    "Exceptions are errors that are not related to the syntax. In this case, Python does not complain about the syntax (everything looks \"syntactically\" correct) and it therefore attempts to execute the code. There are many types of exceptions, such as `NameError` or `TypeError`. For example:"
   ]
  },
  {
   "cell_type": "code",
   "execution_count": null,
   "metadata": {},
   "outputs": [],
   "source": [
    "print(\"text\")\n",
    "print(text)\n",
    "print(3)\n",
    "print(hello)\n",
    "print(\"hello\")"
   ]
  },
  {
   "attachments": {},
   "cell_type": "markdown",
   "metadata": {},
   "source": [
    "Why do we get this error?"
   ]
  },
  {
   "attachments": {},
   "cell_type": "markdown",
   "metadata": {},
   "source": [
    "## Basic operations"
   ]
  },
  {
   "cell_type": "markdown",
   "metadata": {},
   "source": [
    "Depending on the data type, you can use Python to perform different operations."
   ]
  },
  {
   "cell_type": "markdown",
   "metadata": {},
   "source": [
    "### Operations with numbers\n",
    "\n",
    "You can use Python as you would use a calculator."
   ]
  },
  {
   "cell_type": "code",
   "execution_count": null,
   "metadata": {},
   "outputs": [],
   "source": [
    "3 + 5"
   ]
  },
  {
   "cell_type": "code",
   "execution_count": null,
   "metadata": {},
   "outputs": [],
   "source": [
    "3-5"
   ]
  },
  {
   "cell_type": "code",
   "execution_count": null,
   "metadata": {},
   "outputs": [],
   "source": [
    "1.2*5"
   ]
  },
  {
   "cell_type": "code",
   "execution_count": null,
   "metadata": {},
   "outputs": [],
   "source": [
    "4/2"
   ]
  },
  {
   "attachments": {},
   "cell_type": "markdown",
   "metadata": {},
   "source": [
    "Everytime we do these operations, results are displayed but not stored.\n",
    "\n",
    "We can create variables and store the results of these operations in them:"
   ]
  },
  {
   "cell_type": "code",
   "execution_count": null,
   "metadata": {},
   "outputs": [],
   "source": [
    "result = 3 * 2"
   ]
  },
  {
   "cell_type": "markdown",
   "metadata": {},
   "source": [
    "We can sum a number to a variable containing a number:"
   ]
  },
  {
   "cell_type": "code",
   "execution_count": null,
   "metadata": {},
   "outputs": [],
   "source": [
    "result = result + 1"
   ]
  },
  {
   "cell_type": "markdown",
   "metadata": {},
   "source": [
    "We can continue performing operations and storing the results in the same variable:"
   ]
  },
  {
   "cell_type": "code",
   "execution_count": null,
   "metadata": {},
   "outputs": [],
   "source": [
    "result = result * 42 - 1"
   ]
  },
  {
   "cell_type": "markdown",
   "metadata": {},
   "source": [
    "You can at any time print the variable, to check its content:"
   ]
  },
  {
   "cell_type": "code",
   "execution_count": null,
   "metadata": {},
   "outputs": [],
   "source": [
    "print(result)"
   ]
  },
  {
   "cell_type": "markdown",
   "metadata": {},
   "source": [
    "### Comparisons"
   ]
  },
  {
   "attachments": {},
   "cell_type": "markdown",
   "metadata": {},
   "source": [
    "You can use Python to compare values. The result of comparing two values is a Boolean (`True` if the condition is correct, `False` if it is not).\n",
    "\n",
    "⚠️ **Warning:** Note that the equals sign (`=`) is used for assigning a value to a variable. In Python, the sign for comparing whether two elements are the same is `==`."
   ]
  },
  {
   "cell_type": "code",
   "execution_count": null,
   "metadata": {},
   "outputs": [],
   "source": [
    "2 == 2"
   ]
  },
  {
   "cell_type": "code",
   "execution_count": null,
   "metadata": {},
   "outputs": [],
   "source": [
    "2 + 2 == 5"
   ]
  },
  {
   "cell_type": "code",
   "execution_count": null,
   "metadata": {},
   "outputs": [],
   "source": [
    "2 + 2 == 4"
   ]
  },
  {
   "cell_type": "code",
   "execution_count": null,
   "metadata": {},
   "outputs": [],
   "source": [
    "2 < 3"
   ]
  },
  {
   "cell_type": "code",
   "execution_count": null,
   "metadata": {},
   "outputs": [],
   "source": [
    "3 >= 3"
   ]
  },
  {
   "cell_type": "code",
   "execution_count": null,
   "metadata": {},
   "outputs": [],
   "source": [
    "3 > 3"
   ]
  },
  {
   "cell_type": "markdown",
   "metadata": {},
   "source": [
    "## ⚠️ Warning: working on notebooks"
   ]
  },
  {
   "attachments": {},
   "cell_type": "markdown",
   "metadata": {},
   "source": [
    "Python runs code sequentially. When working on notebooks, Python keeps in memory the code that has already been executed. Unless we restart the kernel, a variable will contain the last value that has been stored, regardless of the cell where it has been used.\n",
    "\n",
    "Let's see this with an example. We first instantiate a variable called `number`, and assign value `3` to it:"
   ]
  },
  {
   "cell_type": "code",
   "execution_count": null,
   "metadata": {},
   "outputs": [],
   "source": [
    "number = 3"
   ]
  },
  {
   "cell_type": "markdown",
   "metadata": {},
   "source": [
    "Now we multiply it by 42. Run the following cell multiple times. What's happening, and why?"
   ]
  },
  {
   "cell_type": "code",
   "execution_count": null,
   "metadata": {},
   "outputs": [],
   "source": [
    "number = number * 42\n",
    "print(number)"
   ]
  },
  {
   "attachments": {},
   "cell_type": "markdown",
   "metadata": {},
   "source": [
    "## Control structure: conditionals"
   ]
  },
  {
   "attachments": {},
   "cell_type": "markdown",
   "metadata": {},
   "source": [
    "Conditionals handle programming decisions: depending on the result of a condition, a certain action or another will be performed. In other words, **if** a certain condition is met, a particular action will be performed. They are often called if-statements, or if/else-statements."
   ]
  },
  {
   "attachments": {},
   "cell_type": "markdown",
   "metadata": {},
   "source": [
    "Syntax of a conditional in python:\n",
    "* An if-statement will always contain the keyword `if`, followed by the condition, and a colon.\n",
    "* The action to perform if the condition is met should be written below, and **should be indented**.\n",
    "\n",
    "For example:"
   ]
  },
  {
   "cell_type": "code",
   "execution_count": null,
   "metadata": {},
   "outputs": [],
   "source": [
    "if 3 + 4 == 7:\n",
    "    print(\"This is correct!\")"
   ]
  },
  {
   "attachments": {},
   "cell_type": "markdown",
   "metadata": {},
   "source": [
    "Correct indentation is very important. Everything that is indented under a condition will be performed only if the condition is met.\n",
    "\n",
    "✏️ **Question:** What's the issue in the following cell?"
   ]
  },
  {
   "cell_type": "code",
   "execution_count": null,
   "metadata": {},
   "outputs": [],
   "source": [
    "if 3 + 4 == 7:\n",
    "print(\"This is correct!\")"
   ]
  },
  {
   "cell_type": "markdown",
   "metadata": {},
   "source": [
    "We can provide an alternative action to perform in the case the condition is not met, with `else`:"
   ]
  },
  {
   "cell_type": "code",
   "execution_count": null,
   "metadata": {},
   "outputs": [],
   "source": [
    "if 3 + 4 == 7:\n",
    "    print(\"This is correct!\")\n",
    "else:\n",
    "    print(\"This is incorrect!\")"
   ]
  },
  {
   "cell_type": "code",
   "execution_count": null,
   "metadata": {},
   "outputs": [],
   "source": [
    "if 3 + 4 == 8:\n",
    "    print(\"This is correct!\")\n",
    "else:\n",
    "    print(\"This is incorrect!\")"
   ]
  },
  {
   "cell_type": "markdown",
   "metadata": {},
   "source": [
    "We can also provide several conditions using `elif` (a contraction of \"else if\", meaning \"otherwise, if...\"):"
   ]
  },
  {
   "cell_type": "code",
   "execution_count": null,
   "metadata": {},
   "outputs": [],
   "source": [
    "author = \"Jane Austen\"\n",
    "\n",
    "if author == \"J.R.R. Tolkien\":\n",
    "    print(\"Lived in Oxford\")\n",
    "elif author == \"CS Lewis\":\n",
    "    print(\"Lived in Oxford\")\n",
    "elif author == \"Virginia Woolf\":\n",
    "    print(\"Did not live in Oxford\")\n",
    "else:\n",
    "    print(\"Did not live in Oxford\")"
   ]
  },
  {
   "cell_type": "markdown",
   "metadata": {},
   "source": [
    "We can also use logical operators `and` and `or` in conditions:"
   ]
  },
  {
   "cell_type": "code",
   "execution_count": null,
   "metadata": {},
   "outputs": [],
   "source": [
    "if author == \"J.R.R. Tolkien\" or author == \"CS Lewis\":\n",
    "    print(\"Lived in Oxford\")\n",
    "elif author == \"Virginia Woolf\":\n",
    "    print(\"Did not live in Oxford\")\n",
    "else:\n",
    "    print(\"Did not live in Oxford\")"
   ]
  },
  {
   "cell_type": "markdown",
   "metadata": {},
   "source": [
    "If no condition is met and there is no `else` statement, no further action will be performed until we exit the conditional:"
   ]
  },
  {
   "cell_type": "code",
   "execution_count": null,
   "metadata": {},
   "outputs": [],
   "source": [
    "if author == \"J.R.R. Tolkien\" or author == \"CS Lewis\":\n",
    "    print(\"Lived in Oxford\")\n",
    "elif author == \"Virginia Woolf\":\n",
    "    print(\"Did not live in Oxford\")"
   ]
  },
  {
   "cell_type": "markdown",
   "metadata": {},
   "source": [
    "There can be multiple actions under a conditional, even inner conditions:"
   ]
  },
  {
   "cell_type": "code",
   "execution_count": null,
   "metadata": {},
   "outputs": [],
   "source": [
    "x = 4\n",
    "y = 5\n",
    "\n",
    "if x == 4:\n",
    "    x = x + y\n",
    "    result = x - y\n",
    "    if result == 4:\n",
    "        print(\"Whatever you were trying to achieve with this conditional, it's correct.\")\n",
    "    elif result == y:\n",
    "        print(\"The value of `result` is the same as y.\")\n",
    "    result = 0\n",
    "    print(\"The new value of `result` is:\")\n",
    "    print(result)\n",
    "else:\n",
    "    print(\"x is not 4.\")"
   ]
  },
  {
   "cell_type": "markdown",
   "metadata": {},
   "source": [
    "You can also write negated conditions:"
   ]
  },
  {
   "cell_type": "code",
   "execution_count": null,
   "metadata": {},
   "outputs": [],
   "source": [
    "location = \"Saskatchewan\"\n",
    "if not location == \"Oxford\":\n",
    "    print(\"I am somewhere else.\")\n",
    "else:\n",
    "    print(\"I am in Oxford.\")"
   ]
  },
  {
   "cell_type": "markdown",
   "metadata": {},
   "source": [
    "## Control structure: for-loops"
   ]
  },
  {
   "attachments": {},
   "cell_type": "markdown",
   "metadata": {},
   "source": [
    "A for-loop is a data structure that allows you to iterate over something that has a length (i.e, an iterable, an object able to return its members one at a time). For example, a list (it allows you to iterate over the elements of the list) or a string (allowing you to iterate over the characters of a string).\n",
    "\n",
    "The syntax of the for-loop is:\n",
    "* The for-statement contains the `for` keyword, followed by a new variable that is a placeholder for the elements in the iterable, followed by the `in` keyword, followed by the iterable.\n",
    "* An indented block of code stating the action to perform on the current element of the iteration.\n",
    "\n",
    "For example:"
   ]
  },
  {
   "cell_type": "code",
   "execution_count": null,
   "metadata": {},
   "outputs": [],
   "source": [
    "list_of_numbers = [2, 3, 7, 2, 3]"
   ]
  },
  {
   "cell_type": "code",
   "execution_count": null,
   "metadata": {},
   "outputs": [],
   "source": [
    "print(list_of_numbers)"
   ]
  },
  {
   "cell_type": "code",
   "execution_count": null,
   "metadata": {},
   "outputs": [],
   "source": [
    "for element in list_of_numbers:\n",
    "    print(element)"
   ]
  },
  {
   "cell_type": "code",
   "execution_count": null,
   "metadata": {},
   "outputs": [],
   "source": [
    "for element in list_of_numbers:\n",
    "    print(\"This is number:\", element)"
   ]
  },
  {
   "cell_type": "code",
   "execution_count": null,
   "metadata": {},
   "outputs": [],
   "source": [
    "for element in list_of_numbers:\n",
    "    print(\"hello\")"
   ]
  },
  {
   "cell_type": "markdown",
   "metadata": {},
   "source": [
    "You can also combine a for-loop with if-statements (indentation!):"
   ]
  },
  {
   "cell_type": "code",
   "execution_count": null,
   "metadata": {},
   "outputs": [],
   "source": [
    "for element in list_of_numbers:\n",
    "    if element >= 2 and element <= 3:\n",
    "        print(element)"
   ]
  },
  {
   "cell_type": "markdown",
   "metadata": {},
   "source": [
    "✏️ **Question:** What was I trying to achieve here, and how can I fix it?"
   ]
  },
  {
   "cell_type": "code",
   "execution_count": null,
   "metadata": {},
   "outputs": [],
   "source": [
    "counter_2 = 0\n",
    "for n in [1, 2, 3, 2, 1, 2, 3, 4, 5, 4, 3, 2, 1, 2, 3]:\n",
    "    if n == 2:\n",
    "    counter_2 += 1\n",
    "print(counter_2)"
   ]
  }
 ],
 "metadata": {
  "kernelspec": {
   "display_name": "Python (py39)",
   "language": "python",
   "name": "py39"
  },
  "language_info": {
   "codemirror_mode": {
    "name": "ipython",
    "version": 3
   },
   "file_extension": ".py",
   "mimetype": "text/x-python",
   "name": "python",
   "nbconvert_exporter": "python",
   "pygments_lexer": "ipython3",
   "version": "3.9.16"
  }
 },
 "nbformat": 4,
 "nbformat_minor": 2
}
