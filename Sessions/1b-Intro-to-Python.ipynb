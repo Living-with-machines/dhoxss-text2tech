{
 "cells": [
  {
   "cell_type": "markdown",
   "metadata": {},
   "source": [
    "# Introduction to Python (part 2)\n",
    "\n",
    "## What is a library?\n",
    "\n",
    "Research programming is all about using libraries: tools other people have written and shared with the communit and that do many cool things.\n",
    "The python syntax to import someone else’s library is “import”."
   ]
  },
  {
   "cell_type": "code",
   "execution_count": 3,
   "metadata": {},
   "outputs": [
    {
     "ename": "ModuleNotFoundError",
     "evalue": "No module named 'geopy'",
     "output_type": "error",
     "traceback": [
      "\u001b[0;31m---------------------------------------------------------------------------\u001b[0m",
      "\u001b[0;31mModuleNotFoundError\u001b[0m                       Traceback (most recent call last)",
      "\u001b[1;32m/Users/fnanni/Projects/dhoxss-text2tech/Sessions/1b-Intro-to-Python.ipynb Cell 2'\u001b[0m in \u001b[0;36m<cell line: 1>\u001b[0;34m()\u001b[0m\n\u001b[0;32m----> <a href='vscode-notebook-cell:/Users/fnanni/Projects/dhoxss-text2tech/Sessions/1b-Intro-to-Python.ipynb#ch0000002?line=0'>1</a>\u001b[0m \u001b[39mimport\u001b[39;00m \u001b[39mgeopy\u001b[39;00m\n",
      "\u001b[0;31mModuleNotFoundError\u001b[0m: No module named 'geopy'"
     ]
    }
   ],
   "source": [
    "import geopy  # A python library for investigating geographic information. https://pypi.org/project/geopy/\n"
   ]
  },
  {
   "cell_type": "markdown",
   "metadata": {},
   "source": [
    "Now, if you try to follow along on this example in an Jupyter notebook, you’ll probably find that you just got an error message.\n",
    "There are three main types of code written outside your script that we will see this week:\n",
    "- built-in functions and methods (for instance `type()` that we used this morning), so pieces of code that are always available - you don't need to import them\n",
    "- libraries that core components of the Python installation you have on your machine or have been pre-installed \n",
    "- libraries that need to be installed (`geopy` is one of them)"
   ]
  },
  {
   "cell_type": "markdown",
   "metadata": {},
   "source": [
    "### Built-in functions and methods"
   ]
  },
  {
   "cell_type": "code",
   "execution_count": 4,
   "metadata": {},
   "outputs": [
    {
     "data": {
      "text/plain": [
       "45"
      ]
     },
     "execution_count": 4,
     "metadata": {},
     "output_type": "execute_result"
    }
   ],
   "source": [
    "len(\"pneumonoultramicroscopicsilicovolcanoconiosis\")"
   ]
  },
  {
   "cell_type": "markdown",
   "metadata": {},
   "source": [
    "The built-in function `len` takes one input, and has one output. The output is the length of whatever the input was. Also the command `print` is a built-in function."
   ]
  },
  {
   "cell_type": "code",
   "execution_count": 5,
   "metadata": {},
   "outputs": [
    {
     "name": "stdout",
     "output_type": "stream",
     "text": [
      "pizza\n"
     ]
    }
   ],
   "source": [
    "print(\"pizza\")"
   ]
  },
  {
   "cell_type": "markdown",
   "metadata": {},
   "source": [
    "Objects (for instance the object `str`) come associated with a bunch of functions designed for working on objects of that type. We access these with a dot.\n"
   ]
  },
  {
   "cell_type": "code",
   "execution_count": 6,
   "metadata": {},
   "outputs": [
    {
     "data": {
      "text/plain": [
       "'SHOUT'"
      ]
     },
     "execution_count": 6,
     "metadata": {},
     "output_type": "execute_result"
    }
   ],
   "source": [
    "\"shout\".upper()"
   ]
  },
  {
   "cell_type": "markdown",
   "metadata": {},
   "source": [
    "To support you with functions and objects you can read many online tutorials, but you can also use the `help` function"
   ]
  },
  {
   "cell_type": "code",
   "execution_count": 7,
   "metadata": {},
   "outputs": [
    {
     "name": "stdout",
     "output_type": "stream",
     "text": [
      "Help on built-in function print in module builtins:\n",
      "\n",
      "print(...)\n",
      "    print(value, ..., sep=' ', end='\\n', file=sys.stdout, flush=False)\n",
      "    \n",
      "    Prints the values to a stream, or to sys.stdout by default.\n",
      "    Optional keyword arguments:\n",
      "    file:  a file-like object (stream); defaults to the current sys.stdout.\n",
      "    sep:   string inserted between values, default a space.\n",
      "    end:   string appended after the last value, default a newline.\n",
      "    flush: whether to forcibly flush the stream.\n",
      "\n"
     ]
    }
   ],
   "source": [
    "help(print)"
   ]
  },
  {
   "cell_type": "markdown",
   "metadata": {},
   "source": [
    "For instance a useful command when working with strings is `replace`. To see how it works you can read the documentation [here](https://docs.python.org/3/library/stdtypes.html), I am reporting a snippet here below:\n",
    "> str.replace(old, new[, count])\n",
    "Return a copy of the string with all occurrences of substring old replaced by new. If the optional argument count is given, only the first count occurrences are replaced.\n",
    "\n",
    "✏️ **Exercise:** Given the text here below, find a way to use the `replace` function to turn the text into \"Hello Paul\""
   ]
  },
  {
   "cell_type": "code",
   "execution_count": 8,
   "metadata": {},
   "outputs": [],
   "source": [
    "text = \"he%l%lo Pau%l\""
   ]
  },
  {
   "cell_type": "markdown",
   "metadata": {},
   "source": [
    "### Pre-installed libraries\n",
    "\n",
    "Some libraries are pre-installed in the Python environment you will be using. In your case, you can see the libraries that we have pre-installed in the `requirements.txt` file in our GitHub repo. In other cases, if you use for instance `anaconda`, this will install some core libraries for you by default etc. "
   ]
  },
  {
   "cell_type": "code",
   "execution_count": 25,
   "metadata": {},
   "outputs": [
    {
     "name": "stdout",
     "output_type": "stream",
     "text": [
      "25.0\n"
     ]
    }
   ],
   "source": [
    "# this is a libraries available, that you just need to import\n",
    "\n",
    "import math\n",
    "\n",
    "number = 5\n",
    "number_power_of_two =  math.pow(5,2)\n",
    "print (number_power_of_two)"
   ]
  },
  {
   "cell_type": "code",
   "execution_count": 30,
   "metadata": {},
   "outputs": [
    {
     "name": "stdout",
     "output_type": "stream",
     "text": [
      "[2, 4, 3, 5, 5, 1, 7, 6, 8, 5, 3]\n"
     ]
    }
   ],
   "source": [
    "import random\n",
    "\n",
    "list_of_numbers = [5,6,7,8,4,3,5,3,2,1,5]\n",
    "\n",
    "random.shuffle(list_of_numbers)\n",
    "\n",
    "print (list_of_numbers)"
   ]
  },
  {
   "cell_type": "markdown",
   "metadata": {},
   "source": [
    "Note a main difference between `math.pow()` and `random.shuffle()`. The first returns the power (of 2 in our case) of a number (in our case 5). The second is a in-place function. It modifies directly the `list_of_numbers` object and returns `None`. In-place functions are a bit confusing to get at the beginning, but remember that you will encounter them a lot!"
   ]
  },
  {
   "cell_type": "markdown",
   "metadata": {},
   "source": [
    "### Installing libraries\n",
    "\n",
    "Note that import does not install libraries. It just makes them available to your current notebook session, assuming they are already installed. Installing libraries is harder, and so for this Summer School we have already pre-installed for you all the libraries you will need. If you want to know more about installing libraries, check out [this part](https://alan-turing-institute.github.io/rse-course/html/module06_software_projects/06_01_libraries.html) of the Turing RSE Course."
   ]
  },
  {
   "cell_type": "markdown",
   "metadata": {},
   "source": [
    "While libraries are great, they generally have three main drawbacks:\n",
    "\n",
    "1. Sometimes, libraries are not looked after by their creator - for many different reasons\n",
    "2. Sometimes, libraries are hard to get working (especially when you are in a rush and don't want to read the documentation!)\n",
    "3. Sometimes, libraries don't do exactly what you need\n",
    "\n",
    "![](images/dependency.png) \n",
    "\n",
    "### Contribute, don’t duplicate!!\n",
    "\n",
    "You have a duty to the ecosystem of scholarly software:\n",
    "\n",
    "If there’s a tool or algorithm you need, find a project which provides it.\n",
    "\n",
    "If there are features missing, or problems with it, fix them, don’t create your own library."
   ]
  },
  {
   "cell_type": "markdown",
   "metadata": {},
   "source": [
    "## Writing your own functions\n",
    "\n",
    "Defining functions which put together code to make a more complex task seem simple from the outside is the most important thing in programming. \n",
    "\n",
    "Imagine you want to comput the mean, given a list of numbers **AND** there's no library that could do this for you (if there's a library it's always better to rely on it, as other people would have used it in the past and caught specific bugs etc.)\n",
    "\n",
    "✏️ **Exercise:** Given a list of numbers, for instance [1,4,5,6,7] - how would you compute the mean without a computer?"
   ]
  },
  {
   "cell_type": "markdown",
   "metadata": {},
   "source": [
    "A good starting point for defining a function is to think how to convert the process of doing an operation \"manually\", in a series of defined steps.Let's see an example below"
   ]
  },
  {
   "cell_type": "code",
   "execution_count": 10,
   "metadata": {},
   "outputs": [],
   "source": [
    "def compute_mean(numbers):\n",
    "    mean = sum(numbers)/len(numbers)\n",
    "    return mean"
   ]
  },
  {
   "cell_type": "markdown",
   "metadata": {},
   "source": [
    "This is the basic structure of a function, you have a function name `compute_mean`, and input `numbers`, a series of operations and an output (`mean`). However this function seems also **a bit difficult to read**, so let's go through the different components together.\n",
    "\n",
    "Sum and len are for instance built-in Python function. It means that these are always available, you don't need to import them. You can see the documentation of sum [here](https://docs.python.org/3/library/functions.html#sum)"
   ]
  },
  {
   "cell_type": "code",
   "execution_count": 11,
   "metadata": {},
   "outputs": [
    {
     "name": "stdout",
     "output_type": "stream",
     "text": [
      "23\n"
     ]
    }
   ],
   "source": [
    "numbers = [1,4,5,6,7]\n",
    "numbers_sum = sum(numbers)\n",
    "print (numbers_sum)"
   ]
  },
  {
   "cell_type": "code",
   "execution_count": 12,
   "metadata": {},
   "outputs": [
    {
     "name": "stdout",
     "output_type": "stream",
     "text": [
      "5\n"
     ]
    }
   ],
   "source": [
    "number_of_elements = len(numbers)\n",
    "print (number_of_elements)"
   ]
  },
  {
   "cell_type": "code",
   "execution_count": 13,
   "metadata": {},
   "outputs": [
    {
     "name": "stdout",
     "output_type": "stream",
     "text": [
      "4.6\n"
     ]
    }
   ],
   "source": [
    "mean = numbers_sum / number_of_elements\n",
    "print (mean)"
   ]
  },
  {
   "cell_type": "markdown",
   "metadata": {},
   "source": [
    "✏️ **Exercises:** What is the mean of [10,124,65,86,7,98,6,54,112,13,87] ?"
   ]
  },
  {
   "cell_type": "code",
   "execution_count": null,
   "metadata": {},
   "outputs": [],
   "source": []
  },
  {
   "cell_type": "markdown",
   "metadata": {},
   "source": [
    "A function would prevent you for reusing over and over the same commands in your code, because you will define a specific operation (for instance `compute_mean`) and then you will be able to use it over and over, whenver needed. This will also prevent you for adding bugs to your code by making mistakes copy-pasting your code.\n",
    "\n",
    "However, there are two problems with functions:\n",
    "1. they need to be well documented, otherwise it will be difficult to read them (even by you in a few weeks!)\n",
    "2. they can have bugs too! So you need to be careful"
   ]
  },
  {
   "cell_type": "markdown",
   "metadata": {},
   "source": [
    "## Documenting functions\n",
    "\n",
    "A Python docstring is a documentation string. When you call the built-in help() function on a Python function for instance, you see its documentation. This documentation is specified by the docstring at the beginning of the definition."
   ]
  },
  {
   "cell_type": "code",
   "execution_count": 14,
   "metadata": {},
   "outputs": [
    {
     "name": "stdout",
     "output_type": "stream",
     "text": [
      "Help on built-in function sum in module builtins:\n",
      "\n",
      "sum(iterable, /, start=0)\n",
      "    Return the sum of a 'start' value (default: 0) plus an iterable of numbers\n",
      "    \n",
      "    When the iterable is empty, return the start value.\n",
      "    This function is intended specifically for use with numeric values and may\n",
      "    reject non-numeric types.\n",
      "\n"
     ]
    }
   ],
   "source": [
    "### this description is the way a function is documented, so others can quickly understand how to use it\n",
    "help(sum)"
   ]
  },
  {
   "cell_type": "code",
   "execution_count": 15,
   "metadata": {},
   "outputs": [],
   "source": [
    "def compute_mean(numbers):\n",
    "    \"\"\" compute the mean, given a list of numbers \"\"\"\n",
    "    mean = sum(numbers)/len(numbers)\n",
    "    return mean"
   ]
  },
  {
   "cell_type": "markdown",
   "metadata": {},
   "source": [
    "Ok this looks better, but still the input / output and operation are hard to read. A way of documenting function is following the [Google style for docstring](https://google.github.io/styleguide/pyguide.html). Here's an example"
   ]
  },
  {
   "cell_type": "code",
   "execution_count": 16,
   "metadata": {},
   "outputs": [
    {
     "name": "stdout",
     "output_type": "stream",
     "text": [
      "Help on function compute_mean in module __main__:\n",
      "\n",
      "compute_mean(numbers)\n",
      "    compute the mean, given a list of numbers \n",
      "    \n",
      "    Args:\n",
      "        numbers: List of integers\n",
      "    \n",
      "    Returns:\n",
      "        The mean of the values contained in the list\n",
      "\n"
     ]
    }
   ],
   "source": [
    "def compute_mean(numbers):\n",
    "    \"\"\" compute the mean, given a list of numbers \n",
    "    \n",
    "    Args:\n",
    "        numbers: List of integers\n",
    "    \n",
    "    Returns:\n",
    "        The mean of the values contained in the list\n",
    "    \"\"\"\n",
    "    mean = sum(numbers)/len(numbers)\n",
    "    return mean\n",
    "\n",
    "help(compute_mean)"
   ]
  },
  {
   "cell_type": "markdown",
   "metadata": {},
   "source": [
    "Additionally, you can write the types of arguments and return values"
   ]
  },
  {
   "cell_type": "code",
   "execution_count": 17,
   "metadata": {},
   "outputs": [
    {
     "name": "stdout",
     "output_type": "stream",
     "text": [
      "Help on function compute_mean in module __main__:\n",
      "\n",
      "compute_mean(numbers: list) -> float\n",
      "    compute the mean, given a list of numbers \n",
      "    \n",
      "    Args:\n",
      "        numbers: List of integers\n",
      "    \n",
      "    Returns:\n",
      "        The mean of the values contained in the list\n",
      "\n"
     ]
    }
   ],
   "source": [
    "def compute_mean(numbers:list)-> float:\n",
    "    \"\"\" compute the mean, given a list of numbers \n",
    "    \n",
    "    Args:\n",
    "        numbers: List of integers\n",
    "    \n",
    "    Returns:\n",
    "        The mean of the values contained in the list\n",
    "    \"\"\"\n",
    "    mean = sum(numbers)/len(numbers)\n",
    "    return mean\n",
    "\n",
    "help(compute_mean)"
   ]
  },
  {
   "cell_type": "markdown",
   "metadata": {},
   "source": [
    "Finally, you can make the variable names more clear or even breaking down each step to make it more readable"
   ]
  },
  {
   "cell_type": "code",
   "execution_count": 18,
   "metadata": {},
   "outputs": [],
   "source": [
    "def compute_mean(list_of_numbers:list)-> float:\n",
    "    \"\"\" compute the mean, given a list of numbers \n",
    "    \n",
    "    Args:\n",
    "        numbers: List of numbers (either integers or floats)\n",
    "    \n",
    "    Returns:\n",
    "        The mean of the values contained in the list\n",
    "    \"\"\"\n",
    "    sum_list = sum(list_of_numbers)\n",
    "    length_list = len(list_of_numbers)\n",
    "    mean = sum_list / length_list\n",
    "    return mean"
   ]
  },
  {
   "cell_type": "code",
   "execution_count": 19,
   "metadata": {},
   "outputs": [
    {
     "name": "stdout",
     "output_type": "stream",
     "text": [
      "4.6\n",
      "60.18181818181818\n"
     ]
    }
   ],
   "source": [
    "# to use the function\n",
    "\n",
    "list_a = [1,4,5,6,7]\n",
    "list_b = [10,124,65,86,7,98,6,54,112,13,87]\n",
    "\n",
    "mean_a = compute_mean(list_a)\n",
    "mean_b = compute_mean(list_b)\n",
    "\n",
    "print (mean_a)\n",
    "print (mean_b)"
   ]
  },
  {
   "cell_type": "markdown",
   "metadata": {},
   "source": [
    "## Testing Functions\n",
    "\n",
    "Functions are really useful tools when writing code. They allow your scripts to be more concise and modular. However, functions can easily add bugs to your code. Let's see the following example"
   ]
  },
  {
   "cell_type": "code",
   "execution_count": 20,
   "metadata": {},
   "outputs": [
    {
     "name": "stdout",
     "output_type": "stream",
     "text": [
      "5\n"
     ]
    }
   ],
   "source": [
    "def compute_mean(list_of_numbers:list)-> float:\n",
    "    \"\"\" compute the mean, given a list of numbers \n",
    "    \n",
    "    Args:\n",
    "        numbers: List of integers\n",
    "    \n",
    "    Returns:\n",
    "        The mean of the values contained in the list\n",
    "    \"\"\"\n",
    "    sum_list = sum(list_of_numbers)\n",
    "    length_list = len(list_of_numbers)\n",
    "    mean = sum_list / length_list\n",
    "    return length_list\n",
    "\n",
    "mean_a = compute_mean(list_a)\n",
    "print (mean_a)"
   ]
  },
  {
   "cell_type": "markdown",
   "metadata": {},
   "source": [
    "In this example the function is well documented and as expected returns a number, however by mistake we are returning the length of the list instead of the computed mean. Bugs like this one are very easy to make and hard to spot when you have a fairly complex pipeline.\n",
    "\n",
    "To make sure the functions work correctly often people test them quickly after having implemented or spot errors by looking at the final output of the code. However both these approaches add additional issues.\n",
    "\n",
    "So, what are best practices in testing your code?\n",
    "\n",
    "A good starting point is to define some specific cases where you test your function and you know what output it should give, for instance:\n"
   ]
  },
  {
   "cell_type": "code",
   "execution_count": 21,
   "metadata": {},
   "outputs": [
    {
     "ename": "AssertionError",
     "evalue": "The mean is not correct",
     "output_type": "error",
     "traceback": [
      "\u001b[0;31m---------------------------------------------------------------------------\u001b[0m",
      "\u001b[0;31mAssertionError\u001b[0m                            Traceback (most recent call last)",
      "\u001b[1;32m/Users/fnanni/Projects/dhoxss-text2tech/Sessions/1b-Intro-to-Python.ipynb Cell 41'\u001b[0m in \u001b[0;36m<cell line: 4>\u001b[0;34m()\u001b[0m\n\u001b[1;32m      <a href='vscode-notebook-cell:/Users/fnanni/Projects/dhoxss-text2tech/Sessions/1b-Intro-to-Python.ipynb#ch0000031?line=0'>1</a>\u001b[0m \u001b[39m# In Python, the assert statement is used to continue the execute if the given condition evaluates to True. \u001b[39;00m\n\u001b[1;32m      <a href='vscode-notebook-cell:/Users/fnanni/Projects/dhoxss-text2tech/Sessions/1b-Intro-to-Python.ipynb#ch0000031?line=1'>2</a>\u001b[0m \u001b[39m# If the assert condition evaluates to False, then it raises the AssertionError exception with the specified error message.\u001b[39;00m\n\u001b[0;32m----> <a href='vscode-notebook-cell:/Users/fnanni/Projects/dhoxss-text2tech/Sessions/1b-Intro-to-Python.ipynb#ch0000031?line=3'>4</a>\u001b[0m \u001b[39massert\u001b[39;00m compute_mean([\u001b[39m1\u001b[39m,\u001b[39m4\u001b[39m,\u001b[39m5\u001b[39m,\u001b[39m6\u001b[39m,\u001b[39m7\u001b[39m]) \u001b[39m==\u001b[39m \u001b[39m4.6\u001b[39m,\u001b[39m'\u001b[39m\u001b[39mThe mean is not correct\u001b[39m\u001b[39m'\u001b[39m\n",
      "\u001b[0;31mAssertionError\u001b[0m: The mean is not correct"
     ]
    }
   ],
   "source": [
    "# In Python, the assert statement is used to continue the execute if the given condition evaluates to True. \n",
    "# If the assert condition evaluates to False, then it raises the AssertionError exception with the specified error message.\n",
    "\n",
    "assert compute_mean([1,4,5,6,7]) == 4.6,'The mean is not correct'"
   ]
  },
  {
   "cell_type": "markdown",
   "metadata": {},
   "source": [
    "Everytime you write a function, define a series of assert statements that should produce a specfic outcome.\n",
    "\n",
    "Other typical things that are important to test is that the input you are expecting is correct. For instance in our function we are expecting a list of numbers (either integers or floats)\n",
    "\n",
    "What happens if the list contains a string? or the input list is empty? or the input is not a list?\n",
    "Let's see!"
   ]
  },
  {
   "cell_type": "code",
   "execution_count": 22,
   "metadata": {},
   "outputs": [
    {
     "ename": "TypeError",
     "evalue": "unsupported operand type(s) for +: 'int' and 'str'",
     "output_type": "error",
     "traceback": [
      "\u001b[0;31m---------------------------------------------------------------------------\u001b[0m",
      "\u001b[0;31mTypeError\u001b[0m                                 Traceback (most recent call last)",
      "\u001b[1;32m/Users/fnanni/Projects/dhoxss-text2tech/Sessions/1b-Intro-to-Python.ipynb Cell 43'\u001b[0m in \u001b[0;36m<cell line: 1>\u001b[0;34m()\u001b[0m\n\u001b[0;32m----> <a href='vscode-notebook-cell:/Users/fnanni/Projects/dhoxss-text2tech/Sessions/1b-Intro-to-Python.ipynb#ch0000035?line=0'>1</a>\u001b[0m compute_mean([\u001b[39m1\u001b[39;49m,\u001b[39m4\u001b[39;49m,\u001b[39m\"\u001b[39;49m\u001b[39m0.555\u001b[39;49m\u001b[39m\"\u001b[39;49m,\u001b[39m6\u001b[39;49m,\u001b[39m7\u001b[39;49m])\n",
      "\u001b[1;32m/Users/fnanni/Projects/dhoxss-text2tech/Sessions/1b-Intro-to-Python.ipynb Cell 39'\u001b[0m in \u001b[0;36mcompute_mean\u001b[0;34m(list_of_numbers)\u001b[0m\n\u001b[1;32m      <a href='vscode-notebook-cell:/Users/fnanni/Projects/dhoxss-text2tech/Sessions/1b-Intro-to-Python.ipynb#ch0000029?line=0'>1</a>\u001b[0m \u001b[39mdef\u001b[39;00m \u001b[39mcompute_mean\u001b[39m(list_of_numbers:\u001b[39mlist\u001b[39m)\u001b[39m-\u001b[39m\u001b[39m>\u001b[39m \u001b[39mfloat\u001b[39m:\n\u001b[1;32m      <a href='vscode-notebook-cell:/Users/fnanni/Projects/dhoxss-text2tech/Sessions/1b-Intro-to-Python.ipynb#ch0000029?line=1'>2</a>\u001b[0m     \u001b[39m\"\"\" compute the mean, given a list of numbers \u001b[39;00m\n\u001b[1;32m      <a href='vscode-notebook-cell:/Users/fnanni/Projects/dhoxss-text2tech/Sessions/1b-Intro-to-Python.ipynb#ch0000029?line=2'>3</a>\u001b[0m \u001b[39m    \u001b[39;00m\n\u001b[1;32m      <a href='vscode-notebook-cell:/Users/fnanni/Projects/dhoxss-text2tech/Sessions/1b-Intro-to-Python.ipynb#ch0000029?line=3'>4</a>\u001b[0m \u001b[39m    Args:\u001b[39;00m\n\u001b[0;32m   (...)\u001b[0m\n\u001b[1;32m      <a href='vscode-notebook-cell:/Users/fnanni/Projects/dhoxss-text2tech/Sessions/1b-Intro-to-Python.ipynb#ch0000029?line=7'>8</a>\u001b[0m \u001b[39m        The mean of the values contained in the list\u001b[39;00m\n\u001b[1;32m      <a href='vscode-notebook-cell:/Users/fnanni/Projects/dhoxss-text2tech/Sessions/1b-Intro-to-Python.ipynb#ch0000029?line=8'>9</a>\u001b[0m \u001b[39m    \"\"\"\u001b[39;00m\n\u001b[0;32m---> <a href='vscode-notebook-cell:/Users/fnanni/Projects/dhoxss-text2tech/Sessions/1b-Intro-to-Python.ipynb#ch0000029?line=9'>10</a>\u001b[0m     sum_list \u001b[39m=\u001b[39m \u001b[39msum\u001b[39;49m(list_of_numbers)\n\u001b[1;32m     <a href='vscode-notebook-cell:/Users/fnanni/Projects/dhoxss-text2tech/Sessions/1b-Intro-to-Python.ipynb#ch0000029?line=10'>11</a>\u001b[0m     length_list \u001b[39m=\u001b[39m \u001b[39mlen\u001b[39m(list_of_numbers)\n\u001b[1;32m     <a href='vscode-notebook-cell:/Users/fnanni/Projects/dhoxss-text2tech/Sessions/1b-Intro-to-Python.ipynb#ch0000029?line=11'>12</a>\u001b[0m     mean \u001b[39m=\u001b[39m sum_list \u001b[39m/\u001b[39m length_list\n",
      "\u001b[0;31mTypeError\u001b[0m: unsupported operand type(s) for +: 'int' and 'str'"
     ]
    }
   ],
   "source": [
    "compute_mean([1,4,\"0.555\",6,7])"
   ]
  },
  {
   "cell_type": "code",
   "execution_count": 23,
   "metadata": {},
   "outputs": [
    {
     "ename": "ZeroDivisionError",
     "evalue": "division by zero",
     "output_type": "error",
     "traceback": [
      "\u001b[0;31m---------------------------------------------------------------------------\u001b[0m",
      "\u001b[0;31mZeroDivisionError\u001b[0m                         Traceback (most recent call last)",
      "\u001b[1;32m/Users/fnanni/Projects/dhoxss-text2tech/Sessions/1b-Intro-to-Python.ipynb Cell 44'\u001b[0m in \u001b[0;36m<cell line: 1>\u001b[0;34m()\u001b[0m\n\u001b[0;32m----> <a href='vscode-notebook-cell:/Users/fnanni/Projects/dhoxss-text2tech/Sessions/1b-Intro-to-Python.ipynb#ch0000036?line=0'>1</a>\u001b[0m compute_mean([])\n",
      "\u001b[1;32m/Users/fnanni/Projects/dhoxss-text2tech/Sessions/1b-Intro-to-Python.ipynb Cell 39'\u001b[0m in \u001b[0;36mcompute_mean\u001b[0;34m(list_of_numbers)\u001b[0m\n\u001b[1;32m     <a href='vscode-notebook-cell:/Users/fnanni/Projects/dhoxss-text2tech/Sessions/1b-Intro-to-Python.ipynb#ch0000029?line=9'>10</a>\u001b[0m sum_list \u001b[39m=\u001b[39m \u001b[39msum\u001b[39m(list_of_numbers)\n\u001b[1;32m     <a href='vscode-notebook-cell:/Users/fnanni/Projects/dhoxss-text2tech/Sessions/1b-Intro-to-Python.ipynb#ch0000029?line=10'>11</a>\u001b[0m length_list \u001b[39m=\u001b[39m \u001b[39mlen\u001b[39m(list_of_numbers)\n\u001b[0;32m---> <a href='vscode-notebook-cell:/Users/fnanni/Projects/dhoxss-text2tech/Sessions/1b-Intro-to-Python.ipynb#ch0000029?line=11'>12</a>\u001b[0m mean \u001b[39m=\u001b[39m sum_list \u001b[39m/\u001b[39;49m length_list\n\u001b[1;32m     <a href='vscode-notebook-cell:/Users/fnanni/Projects/dhoxss-text2tech/Sessions/1b-Intro-to-Python.ipynb#ch0000029?line=12'>13</a>\u001b[0m \u001b[39mreturn\u001b[39;00m length_list\n",
      "\u001b[0;31mZeroDivisionError\u001b[0m: division by zero"
     ]
    }
   ],
   "source": [
    "compute_mean([])"
   ]
  },
  {
   "cell_type": "code",
   "execution_count": 24,
   "metadata": {},
   "outputs": [
    {
     "ename": "TypeError",
     "evalue": "'int' object is not iterable",
     "output_type": "error",
     "traceback": [
      "\u001b[0;31m---------------------------------------------------------------------------\u001b[0m",
      "\u001b[0;31mTypeError\u001b[0m                                 Traceback (most recent call last)",
      "\u001b[1;32m/Users/fnanni/Projects/dhoxss-text2tech/Sessions/1b-Intro-to-Python.ipynb Cell 45'\u001b[0m in \u001b[0;36m<cell line: 1>\u001b[0;34m()\u001b[0m\n\u001b[0;32m----> <a href='vscode-notebook-cell:/Users/fnanni/Projects/dhoxss-text2tech/Sessions/1b-Intro-to-Python.ipynb#ch0000033?line=0'>1</a>\u001b[0m compute_mean(\u001b[39m5\u001b[39;49m)\n",
      "\u001b[1;32m/Users/fnanni/Projects/dhoxss-text2tech/Sessions/1b-Intro-to-Python.ipynb Cell 39'\u001b[0m in \u001b[0;36mcompute_mean\u001b[0;34m(list_of_numbers)\u001b[0m\n\u001b[1;32m      <a href='vscode-notebook-cell:/Users/fnanni/Projects/dhoxss-text2tech/Sessions/1b-Intro-to-Python.ipynb#ch0000029?line=0'>1</a>\u001b[0m \u001b[39mdef\u001b[39;00m \u001b[39mcompute_mean\u001b[39m(list_of_numbers:\u001b[39mlist\u001b[39m)\u001b[39m-\u001b[39m\u001b[39m>\u001b[39m \u001b[39mfloat\u001b[39m:\n\u001b[1;32m      <a href='vscode-notebook-cell:/Users/fnanni/Projects/dhoxss-text2tech/Sessions/1b-Intro-to-Python.ipynb#ch0000029?line=1'>2</a>\u001b[0m     \u001b[39m\"\"\" compute the mean, given a list of numbers \u001b[39;00m\n\u001b[1;32m      <a href='vscode-notebook-cell:/Users/fnanni/Projects/dhoxss-text2tech/Sessions/1b-Intro-to-Python.ipynb#ch0000029?line=2'>3</a>\u001b[0m \u001b[39m    \u001b[39;00m\n\u001b[1;32m      <a href='vscode-notebook-cell:/Users/fnanni/Projects/dhoxss-text2tech/Sessions/1b-Intro-to-Python.ipynb#ch0000029?line=3'>4</a>\u001b[0m \u001b[39m    Args:\u001b[39;00m\n\u001b[0;32m   (...)\u001b[0m\n\u001b[1;32m      <a href='vscode-notebook-cell:/Users/fnanni/Projects/dhoxss-text2tech/Sessions/1b-Intro-to-Python.ipynb#ch0000029?line=7'>8</a>\u001b[0m \u001b[39m        The mean of the values contained in the list\u001b[39;00m\n\u001b[1;32m      <a href='vscode-notebook-cell:/Users/fnanni/Projects/dhoxss-text2tech/Sessions/1b-Intro-to-Python.ipynb#ch0000029?line=8'>9</a>\u001b[0m \u001b[39m    \"\"\"\u001b[39;00m\n\u001b[0;32m---> <a href='vscode-notebook-cell:/Users/fnanni/Projects/dhoxss-text2tech/Sessions/1b-Intro-to-Python.ipynb#ch0000029?line=9'>10</a>\u001b[0m     sum_list \u001b[39m=\u001b[39m \u001b[39msum\u001b[39;49m(list_of_numbers)\n\u001b[1;32m     <a href='vscode-notebook-cell:/Users/fnanni/Projects/dhoxss-text2tech/Sessions/1b-Intro-to-Python.ipynb#ch0000029?line=10'>11</a>\u001b[0m     length_list \u001b[39m=\u001b[39m \u001b[39mlen\u001b[39m(list_of_numbers)\n\u001b[1;32m     <a href='vscode-notebook-cell:/Users/fnanni/Projects/dhoxss-text2tech/Sessions/1b-Intro-to-Python.ipynb#ch0000029?line=11'>12</a>\u001b[0m     mean \u001b[39m=\u001b[39m sum_list \u001b[39m/\u001b[39m length_list\n",
      "\u001b[0;31mTypeError\u001b[0m: 'int' object is not iterable"
     ]
    }
   ],
   "source": [
    "compute_mean(5)"
   ]
  },
  {
   "cell_type": "markdown",
   "metadata": {},
   "source": [
    "As you can see the code crashes for different reasons. Instead of this, we should assert that the input is what we are expecting or returning a message"
   ]
  },
  {
   "cell_type": "code",
   "execution_count": null,
   "metadata": {},
   "outputs": [],
   "source": [
    "def compute_mean(list_of_numbers:list)-> float:\n",
    "    \"\"\" compute the mean, given a list of numbers \n",
    "    \n",
    "    Args:\n",
    "        numbers: List of numbers (either integers or floats)\n",
    "    \n",
    "    Returns:\n",
    "        The mean of the values contained in the list\n",
    "    \"\"\"\n",
    "\n",
    "    assert type(list_of_numbers) is list, 'The input is not a list'\n",
    "    assert len(list_of_numbers) >0, 'The input list is empty'\n",
    "\n",
    "    sum_list = sum(list_of_numbers)\n",
    "    length_list = len(list_of_numbers)\n",
    "    mean = sum_list / length_list\n",
    "    return mean"
   ]
  },
  {
   "cell_type": "markdown",
   "metadata": {},
   "source": [
    "✏️ **Exercise:** Add an assert to test that all elements in the list are integers or float "
   ]
  },
  {
   "cell_type": "markdown",
   "metadata": {},
   "source": [
    "✏️ **Exercise:** Write a function that, given a list of names (containing duplicates) returns a list of names without duplicates. Make sure to include documentation and define `assert` to check the input and the correctness of the output\n",
    "\n",
    "Example of input:"
   ]
  },
  {
   "cell_type": "code",
   "execution_count": null,
   "metadata": {},
   "outputs": [],
   "source": [
    "names = [\"Mark\",\"Paula\",\"Paul\",\"Fede\",\"Mariona\",\"Kaspar\",\"Paul\",\"Thomas\",\"Thomas\",\"Mark\",\"Thomas\"]"
   ]
  }
 ],
 "metadata": {
  "kernelspec": {
   "display_name": "Python 3.9.12 ('py39dhoxss')",
   "language": "python",
   "name": "python3"
  },
  "language_info": {
   "codemirror_mode": {
    "name": "ipython",
    "version": 3
   },
   "file_extension": ".py",
   "mimetype": "text/x-python",
   "name": "python",
   "nbconvert_exporter": "python",
   "pygments_lexer": "ipython3",
   "version": "3.9.12"
  },
  "orig_nbformat": 4,
  "vscode": {
   "interpreter": {
    "hash": "a2e91717858118300f159f516e8add62a50cea7986ea1e6059fd0b766f06d37e"
   }
  }
 },
 "nbformat": 4,
 "nbformat_minor": 2
}
