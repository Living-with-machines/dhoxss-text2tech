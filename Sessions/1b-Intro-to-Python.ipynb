{
 "cells": [
  {
   "cell_type": "markdown",
   "metadata": {
    "slideshow": {
     "slide_type": "slide"
    }
   },
   "source": [
    "# Introduction to Python"
   ]
  },
  {
   "cell_type": "code",
   "execution_count": null,
   "metadata": {
    "slideshow": {
     "slide_type": "slide"
    }
   },
   "outputs": [],
   "source": [
    "text = \"This is our first python example.\"\n",
    "print(text)"
   ]
  },
  {
   "cell_type": "markdown",
   "metadata": {
    "slideshow": {
     "slide_type": "slide"
    }
   },
   "source": [
    "## Variables and data types"
   ]
  },
  {
   "cell_type": "markdown",
   "metadata": {
    "slideshow": {
     "slide_type": "slide"
    }
   },
   "source": [
    "Variables are containers for storing data values, such as numbers, text, lists of numbers, etc.\n",
    "\n",
    "A data value (on the right) is assigned to a variable (on the left) using the `=` sign."
   ]
  },
  {
   "cell_type": "code",
   "execution_count": null,
   "metadata": {
    "slideshow": {
     "slide_type": "fragment"
    }
   },
   "outputs": [],
   "source": [
    "text = \"This is our first python example.\"\n",
    "print(text)"
   ]
  },
  {
   "cell_type": "markdown",
   "metadata": {
    "slideshow": {
     "slide_type": "slide"
    }
   },
   "source": [
    "A variable can contain values of many different types, but there are basic data types in Python:\n",
    "\n",
    "Data type | Description | Format | Example |\n",
    "----------|-------------|--------|---------|\n",
    "str    | A string, a text of any length | Must be enclosed in quotation marks | `\"This is a string\"` |\n",
    "bool   | A boolean, a logical value | Either `True` or `False`, must not be enclosed in quotation marks | `False` |\n",
    "int       | An integer, i.e. a whole number | Number | `4` |\n",
    "float     | A floating point number | Decimal number | `4.1` |"
   ]
  },
  {
   "cell_type": "code",
   "execution_count": null,
   "metadata": {
    "slideshow": {
     "slide_type": "slide"
    }
   },
   "outputs": [],
   "source": [
    "boolean_example = False\n",
    "print(boolean_example)"
   ]
  },
  {
   "cell_type": "code",
   "execution_count": null,
   "metadata": {
    "slideshow": {
     "slide_type": "-"
    }
   },
   "outputs": [],
   "source": [
    "int_example = 4\n",
    "print(int_example)"
   ]
  },
  {
   "cell_type": "code",
   "execution_count": null,
   "metadata": {
    "slideshow": {
     "slide_type": "-"
    }
   },
   "outputs": [],
   "source": [
    "float_example = 3.5\n",
    "print(float_example)"
   ]
  },
  {
   "cell_type": "markdown",
   "metadata": {
    "slideshow": {
     "slide_type": "slide"
    }
   },
   "source": [
    "There are some contraints on naming the variables:\n",
    "* A variable name **must** start with a letter or underscore.\n",
    "* A variable name **can** contain numbers, but not at the beginning.\n",
    "* A variable name can only contain numbers, letters, or underscores.\n",
    "* Variable names are case sensitive.\n",
    "* There are some protected words that shouldn't be used as variable names: `print`, `if`, `while`, etc.\n",
    "\n",
    "The name of the variable is up to you, but it's good practice to try to describe the content of the variable! It's also good practice that it's not super long."
   ]
  },
  {
   "cell_type": "code",
   "execution_count": null,
   "metadata": {
    "slideshow": {
     "slide_type": "slide"
    }
   },
   "outputs": [],
   "source": [
    "potato = \"This is an example.\""
   ]
  },
  {
   "cell_type": "code",
   "execution_count": null,
   "metadata": {},
   "outputs": [],
   "source": [
    "print(potato)"
   ]
  },
  {
   "cell_type": "markdown",
   "metadata": {
    "slideshow": {
     "slide_type": "slide"
    }
   },
   "source": [
    "A variable can be reused at any point in your code, just by reassigning a new value to it. Note that by reassigning a new value to a variable, the variable will not contain the initial value anymore, only the latest. The initial value will be lost.\n",
    "\n",
    "The value in a variable will be stored for as long as the program runs. This is why it is important that variables have names that are meaningful and descriptive."
   ]
  },
  {
   "cell_type": "markdown",
   "metadata": {
    "slideshow": {
     "slide_type": "slide"
    }
   },
   "source": [
    "#### Lists"
   ]
  },
  {
   "cell_type": "markdown",
   "metadata": {
    "slideshow": {
     "slide_type": "fragment"
    }
   },
   "source": [
    "A list is a data structure that **lists** elements.\n",
    "\n",
    "Lists are sequences of comma-separated elements. Lists can contain:\n",
    "\n",
    "* Strings: `[\"one\", \"two\", \"three\"]`\n",
    "* Numbers: `[1, 2, 3]`\n",
    "* Booleans: `[True, True, False]`\n",
    "* Other lists!: `[[1, 2, 3], [2, 3, 4], [3, 4, 5]]`\n",
    "* A combination!: `[\"one\", \"two\", 3, False, [3, 4, 5]]`"
   ]
  },
  {
   "cell_type": "code",
   "execution_count": null,
   "metadata": {
    "slideshow": {
     "slide_type": "slide"
    }
   },
   "outputs": [],
   "source": [
    "list_of_numbers = [2, 3, 7, 2, 3]"
   ]
  },
  {
   "cell_type": "code",
   "execution_count": null,
   "metadata": {
    "slideshow": {
     "slide_type": "fragment"
    }
   },
   "outputs": [],
   "source": [
    "print(list_of_numbers)"
   ]
  },
  {
   "cell_type": "markdown",
   "metadata": {
    "slideshow": {
     "slide_type": "slide"
    }
   },
   "source": [
    "## Built-in functions"
   ]
  },
  {
   "cell_type": "markdown",
   "metadata": {
    "slideshow": {
     "slide_type": "fragment"
    }
   },
   "source": [
    "Python has a series of built-in functions for common actions.\n",
    "\n",
    "For example, the following built-in functions allow us to know more about a variable or a value:\n",
    "* `print()`: prints the value of the element inside the parentheses.\n",
    "* `type()`: describes the data type of the element inside parentheses.\n",
    "\n",
    "See the full list of built-in functions [here](https://docs.python.org/3/library/functions.html)."
   ]
  },
  {
   "cell_type": "code",
   "execution_count": null,
   "metadata": {
    "slideshow": {
     "slide_type": "slide"
    }
   },
   "outputs": [],
   "source": [
    "print(text)"
   ]
  },
  {
   "cell_type": "code",
   "execution_count": null,
   "metadata": {
    "slideshow": {
     "slide_type": "fragment"
    }
   },
   "outputs": [],
   "source": [
    "print(\"hello\")"
   ]
  },
  {
   "cell_type": "code",
   "execution_count": null,
   "metadata": {
    "slideshow": {
     "slide_type": "slide"
    }
   },
   "outputs": [],
   "source": [
    "print(type(text))"
   ]
  },
  {
   "cell_type": "code",
   "execution_count": null,
   "metadata": {
    "slideshow": {
     "slide_type": "fragment"
    }
   },
   "outputs": [],
   "source": [
    "print(type(\"hello\"))"
   ]
  },
  {
   "cell_type": "markdown",
   "metadata": {
    "slideshow": {
     "slide_type": "slide"
    }
   },
   "source": [
    "A special (more meta) built-in function is `help()`, which tells you more about a built-in function:"
   ]
  },
  {
   "cell_type": "code",
   "execution_count": null,
   "metadata": {
    "slideshow": {
     "slide_type": "fragment"
    }
   },
   "outputs": [],
   "source": [
    "help(print)"
   ]
  },
  {
   "cell_type": "markdown",
   "metadata": {
    "slideshow": {
     "slide_type": "slide"
    }
   },
   "source": [
    "## Comments"
   ]
  },
  {
   "cell_type": "markdown",
   "metadata": {
    "slideshow": {
     "slide_type": "slide"
    }
   },
   "source": [
    "Comments can be used to explain the code, Python will ignore them when executing the program.\n",
    "\n",
    "Any text in a line preceded by a hashtag will be interpreted as a comment."
   ]
  },
  {
   "cell_type": "code",
   "execution_count": null,
   "metadata": {
    "slideshow": {
     "slide_type": "fragment"
    }
   },
   "outputs": [],
   "source": [
    "first_name = \"Mariona\" # Assigning a string to the variable `first_name`\n",
    "first_name = \"Kaspar\" # Here we are reassigning the variable to contain the string \"Kaspar\""
   ]
  },
  {
   "cell_type": "code",
   "execution_count": null,
   "metadata": {
    "slideshow": {
     "slide_type": "fragment"
    }
   },
   "outputs": [],
   "source": [
    "# Print the content of `first_name`:\n",
    "print(first_name)"
   ]
  },
  {
   "cell_type": "markdown",
   "metadata": {
    "slideshow": {
     "slide_type": "slide"
    }
   },
   "source": [
    "Multi-line comments are surrounded by three double quotation marks:"
   ]
  },
  {
   "cell_type": "code",
   "execution_count": null,
   "metadata": {
    "slideshow": {
     "slide_type": "fragment"
    }
   },
   "outputs": [],
   "source": [
    "\"\"\"\n",
    "This is a multi-line comment. In this cell,\n",
    "we're first assigning the name \"Mariona\" to a\n",
    "variable (`first_name`) and then we're\n",
    "reassigning a new value, the string \"Kaspar\",\n",
    "to the same variable. Finally, we print the\n",
    "content of the variable.\n",
    "\"\"\"\n",
    "first_name = \"Mariona\"\n",
    "first_name = \"Kaspar\"\n",
    "print(first_name)"
   ]
  },
  {
   "cell_type": "markdown",
   "metadata": {
    "slideshow": {
     "slide_type": "slide"
    }
   },
   "source": [
    "## Interpreting errors"
   ]
  },
  {
   "cell_type": "markdown",
   "metadata": {
    "slideshow": {
     "slide_type": "fragment"
    }
   },
   "source": [
    "Python errors help us understand why our code does not run, or what's wrong in our code. They are usually quite descriptive, and knowing how to interpret them will help us fix and improve our code. Read more about errors [here](https://docs.python.org/3/tutorial/errors.html)."
   ]
  },
  {
   "cell_type": "markdown",
   "metadata": {
    "slideshow": {
     "slide_type": "slide"
    }
   },
   "source": [
    "### Syntax errors\n",
    "\n",
    "Syntax errors (also called parsing errors) are errors in how we use python. They are like grammar mistakes: forgetting to close parentheses, for example, results in a syntax error. Python will complain: if there is a syntax error, the code will not run."
   ]
  },
  {
   "cell_type": "code",
   "execution_count": null,
   "metadata": {
    "slideshow": {
     "slide_type": "fragment"
    }
   },
   "outputs": [],
   "source": [
    "print(text"
   ]
  },
  {
   "cell_type": "markdown",
   "metadata": {
    "slideshow": {
     "slide_type": "fragment"
    }
   },
   "source": [
    "Interpreting the error: Python provides the number and content of the line that contains the mistake: in this case `print(text`. It also provides the type of error (`SyntaxError`) and the description of the error: in this case, python has reached the end of the file (or program) before a code block is completed. In other words: we've forgotten to close the parenthesis."
   ]
  },
  {
   "cell_type": "markdown",
   "metadata": {
    "slideshow": {
     "slide_type": "slide"
    }
   },
   "source": [
    "### Exceptions\n",
    "\n",
    "Exceptions are errors that are not due to syntax. In this case, Python does not complain about the syntax (everything looks \"syntactically\" correct) and it therefore attempts to execute the code. There are many types of exceptions, such as `NameError` or `TypeError`. For example:"
   ]
  },
  {
   "cell_type": "code",
   "execution_count": null,
   "metadata": {
    "slideshow": {
     "slide_type": "fragment"
    }
   },
   "outputs": [],
   "source": [
    "print(\"text\")\n",
    "print(text)\n",
    "print(3)\n",
    "print(hello)\n",
    "print(\"hello\")"
   ]
  },
  {
   "cell_type": "markdown",
   "metadata": {
    "slideshow": {
     "slide_type": "fragment"
    }
   },
   "source": [
    "Why do we get this error?"
   ]
  },
  {
   "cell_type": "markdown",
   "metadata": {
    "slideshow": {
     "slide_type": "slide"
    }
   },
   "source": [
    "## Basic operations"
   ]
  },
  {
   "cell_type": "markdown",
   "metadata": {
    "slideshow": {
     "slide_type": "fragment"
    }
   },
   "source": [
    "Depending on the data types of your variables, you can use Python to perform different kinds of operations."
   ]
  },
  {
   "cell_type": "markdown",
   "metadata": {
    "slideshow": {
     "slide_type": "slide"
    }
   },
   "source": [
    "### Operations with numbers\n",
    "\n",
    "You can use Python as you would use a calculator."
   ]
  },
  {
   "cell_type": "code",
   "execution_count": null,
   "metadata": {
    "slideshow": {
     "slide_type": "slide"
    }
   },
   "outputs": [],
   "source": [
    "3 + 5"
   ]
  },
  {
   "cell_type": "code",
   "execution_count": null,
   "metadata": {
    "slideshow": {
     "slide_type": "fragment"
    }
   },
   "outputs": [],
   "source": [
    "3-5"
   ]
  },
  {
   "cell_type": "code",
   "execution_count": null,
   "metadata": {
    "slideshow": {
     "slide_type": "fragment"
    }
   },
   "outputs": [],
   "source": [
    "1.2*5"
   ]
  },
  {
   "cell_type": "code",
   "execution_count": null,
   "metadata": {
    "slideshow": {
     "slide_type": "fragment"
    }
   },
   "outputs": [],
   "source": [
    "4/2"
   ]
  },
  {
   "cell_type": "markdown",
   "metadata": {
    "slideshow": {
     "slide_type": "slide"
    }
   },
   "source": [
    "Everytime we do these operations, results are displayed but not stored.\n",
    "\n",
    "We can create variables to store the results of these operations:"
   ]
  },
  {
   "cell_type": "code",
   "execution_count": null,
   "metadata": {
    "slideshow": {
     "slide_type": "fragment"
    }
   },
   "outputs": [],
   "source": [
    "result = 3 * 2"
   ]
  },
  {
   "cell_type": "markdown",
   "metadata": {
    "slideshow": {
     "slide_type": "fragment"
    }
   },
   "source": [
    "We can sum a number to a variable containing a number:"
   ]
  },
  {
   "cell_type": "code",
   "execution_count": null,
   "metadata": {
    "slideshow": {
     "slide_type": "-"
    }
   },
   "outputs": [],
   "source": [
    "result = result + 1"
   ]
  },
  {
   "cell_type": "markdown",
   "metadata": {
    "slideshow": {
     "slide_type": "fragment"
    }
   },
   "source": [
    "We can continue performing operations and storing the results in the same variable:"
   ]
  },
  {
   "cell_type": "code",
   "execution_count": null,
   "metadata": {
    "slideshow": {
     "slide_type": "-"
    }
   },
   "outputs": [],
   "source": [
    "result = result * 42 - 1"
   ]
  },
  {
   "cell_type": "markdown",
   "metadata": {
    "slideshow": {
     "slide_type": "fragment"
    }
   },
   "source": [
    "You can at any time print the variable, to check its content:"
   ]
  },
  {
   "cell_type": "code",
   "execution_count": null,
   "metadata": {
    "slideshow": {
     "slide_type": "-"
    }
   },
   "outputs": [],
   "source": [
    "print(result)"
   ]
  },
  {
   "cell_type": "markdown",
   "metadata": {
    "slideshow": {
     "slide_type": "slide"
    }
   },
   "source": [
    "### Comparisons\n",
    "\n",
    "You can use Python to compare values. The result of comparing two values is a Boolean (`True` if the condition is correct, `False` if it is not).\n",
    "\n",
    "⚠️ **Warning:** Note that the equals sign (`=`) is used for assigning a value to a variable. In Python, the sign for comparing whether two elements are the same is `==`."
   ]
  },
  {
   "cell_type": "code",
   "execution_count": null,
   "metadata": {
    "slideshow": {
     "slide_type": "fragment"
    }
   },
   "outputs": [],
   "source": [
    "2 == 2"
   ]
  },
  {
   "cell_type": "code",
   "execution_count": null,
   "metadata": {
    "slideshow": {
     "slide_type": "fragment"
    }
   },
   "outputs": [],
   "source": [
    "2 + 2 == 5"
   ]
  },
  {
   "cell_type": "code",
   "execution_count": null,
   "metadata": {
    "slideshow": {
     "slide_type": "fragment"
    }
   },
   "outputs": [],
   "source": [
    "2 + 2 == 4"
   ]
  },
  {
   "cell_type": "code",
   "execution_count": null,
   "metadata": {
    "slideshow": {
     "slide_type": "slide"
    }
   },
   "outputs": [],
   "source": [
    "2 < 3"
   ]
  },
  {
   "cell_type": "code",
   "execution_count": null,
   "metadata": {
    "slideshow": {
     "slide_type": "fragment"
    }
   },
   "outputs": [],
   "source": [
    "3 >= 3"
   ]
  },
  {
   "cell_type": "code",
   "execution_count": null,
   "metadata": {
    "slideshow": {
     "slide_type": "fragment"
    }
   },
   "outputs": [],
   "source": [
    "3 > 3"
   ]
  },
  {
   "cell_type": "markdown",
   "metadata": {
    "slideshow": {
     "slide_type": "slide"
    }
   },
   "source": [
    "## ⚠️ Warning: working on notebooks"
   ]
  },
  {
   "cell_type": "markdown",
   "metadata": {
    "slideshow": {
     "slide_type": "fragment"
    }
   },
   "source": [
    "Python runs code sequentially. When working on notebooks, Python keeps in memory the code that has already been executed. Unless we restart the kernel, a variable will contain the latest value that has been stored, regardless of the cell where it has been used."
   ]
  },
  {
   "cell_type": "markdown",
   "metadata": {
    "slideshow": {
     "slide_type": "slide"
    }
   },
   "source": [
    "Let's see this with an example. We first instantiate a variable called `number`, and assign value `3` to it:"
   ]
  },
  {
   "cell_type": "code",
   "execution_count": null,
   "metadata": {
    "slideshow": {
     "slide_type": "fragment"
    }
   },
   "outputs": [],
   "source": [
    "number = 3"
   ]
  },
  {
   "cell_type": "markdown",
   "metadata": {
    "slideshow": {
     "slide_type": "fragment"
    }
   },
   "source": [
    "Now we multiply it by 42."
   ]
  },
  {
   "cell_type": "code",
   "execution_count": null,
   "metadata": {
    "slideshow": {
     "slide_type": "fragment"
    }
   },
   "outputs": [],
   "source": [
    "number = number * 42\n",
    "print(number)"
   ]
  },
  {
   "cell_type": "markdown",
   "metadata": {
    "slideshow": {
     "slide_type": "fragment"
    }
   },
   "source": [
    "Now, run the cell above multiple times. What's happening, and why?"
   ]
  },
  {
   "cell_type": "markdown",
   "metadata": {
    "slideshow": {
     "slide_type": "slide"
    }
   },
   "source": [
    "## Control structure: conditionals"
   ]
  },
  {
   "cell_type": "markdown",
   "metadata": {
    "slideshow": {
     "slide_type": "fragment"
    }
   },
   "source": [
    "Conditionals handle programming decisions: depending on the result of a condition, a certain action or another will be performed. In other words, **if** a certain condition is met, a particular action will be performed. They are often called if-statements, or if/else-statements."
   ]
  },
  {
   "cell_type": "markdown",
   "metadata": {
    "slideshow": {
     "slide_type": "slide"
    }
   },
   "source": [
    "Syntax of a conditional in python:\n",
    "* An if-statement will always contain the keyword `if`, followed by the condition, and a colon.\n",
    "* The action to perform if the condition is met should be written below, and **should be indented**.\n",
    "\n",
    "For example:"
   ]
  },
  {
   "cell_type": "code",
   "execution_count": null,
   "metadata": {
    "slideshow": {
     "slide_type": "-"
    }
   },
   "outputs": [],
   "source": [
    "if 3 + 4 == 7:\n",
    "    print(\"This is correct!\")"
   ]
  },
  {
   "cell_type": "markdown",
   "metadata": {
    "slideshow": {
     "slide_type": "slide"
    }
   },
   "source": [
    "Correct indentation is **VERY IMPORTANT** in python.\n",
    "\n",
    "Everything that is indented under a condition will be performed only if the condition is met.\n",
    "\n",
    "✏️ **Question:** What's the issue in the following cell?"
   ]
  },
  {
   "cell_type": "code",
   "execution_count": null,
   "metadata": {
    "slideshow": {
     "slide_type": "fragment"
    }
   },
   "outputs": [],
   "source": [
    "if 3 + 4 == 7:\n",
    "print(\"This is correct!\")"
   ]
  },
  {
   "cell_type": "markdown",
   "metadata": {
    "slideshow": {
     "slide_type": "slide"
    }
   },
   "source": [
    "We can provide an alternative action to perform in the case the condition is not met, with `else`:"
   ]
  },
  {
   "cell_type": "code",
   "execution_count": null,
   "metadata": {
    "slideshow": {
     "slide_type": "-"
    }
   },
   "outputs": [],
   "source": [
    "if 3 + 4 == 7:\n",
    "    print(\"This is correct!\")\n",
    "else:\n",
    "    print(\"This is incorrect!\")"
   ]
  },
  {
   "cell_type": "code",
   "execution_count": null,
   "metadata": {
    "slideshow": {
     "slide_type": "-"
    }
   },
   "outputs": [],
   "source": [
    "if 3 + 4 == 8:\n",
    "    print(\"This is correct!\")\n",
    "else:\n",
    "    print(\"This is incorrect!\")"
   ]
  },
  {
   "cell_type": "markdown",
   "metadata": {
    "slideshow": {
     "slide_type": "slide"
    }
   },
   "source": [
    "We can also provide several conditions using `elif` (a contraction of \"else if\", meaning \"otherwise, if...\"):"
   ]
  },
  {
   "cell_type": "code",
   "execution_count": null,
   "metadata": {
    "slideshow": {
     "slide_type": "fragment"
    }
   },
   "outputs": [],
   "source": [
    "author = \"Austen\"\n",
    "\n",
    "if author == \"Tolkien\":\n",
    "    print(\"Lived in Oxford\")\n",
    "elif author == \"Lewis\":\n",
    "    print(\"Lived in Oxford\")\n",
    "elif author == \"Woolf\":\n",
    "    print(\"Did not live in Oxford\")\n",
    "else:\n",
    "    print(\"Did not live in Oxford\")"
   ]
  },
  {
   "cell_type": "markdown",
   "metadata": {
    "slideshow": {
     "slide_type": "slide"
    }
   },
   "source": [
    "We can also use logical operators `and` and `or` in conditions:"
   ]
  },
  {
   "cell_type": "code",
   "execution_count": null,
   "metadata": {
    "slideshow": {
     "slide_type": "fragment"
    }
   },
   "outputs": [],
   "source": [
    "if author == \"Tolkien\" or author == \"Lewis\":\n",
    "    print(\"Lived in Oxford\")\n",
    "elif author == \"Woolf\":\n",
    "    print(\"Did not live in Oxford\")\n",
    "else:\n",
    "    print(\"Did not live in Oxford\")"
   ]
  },
  {
   "cell_type": "markdown",
   "metadata": {
    "slideshow": {
     "slide_type": "slide"
    }
   },
   "source": [
    "If no condition is met and there is no `else` statement, no further action will be performed until we exit the conditional:"
   ]
  },
  {
   "cell_type": "code",
   "execution_count": null,
   "metadata": {
    "slideshow": {
     "slide_type": "fragment"
    }
   },
   "outputs": [],
   "source": [
    "if author == \"Tolkien\" or author == \"Lewis\":\n",
    "    print(\"Lived in Oxford\")\n",
    "elif author == \"Woolf\":\n",
    "    print(\"Did not live in Oxford\")"
   ]
  },
  {
   "cell_type": "markdown",
   "metadata": {
    "slideshow": {
     "slide_type": "slide"
    }
   },
   "source": [
    "There can be multiple actions under a conditional, even inner conditions:"
   ]
  },
  {
   "cell_type": "code",
   "execution_count": null,
   "metadata": {
    "slideshow": {
     "slide_type": "fragment"
    }
   },
   "outputs": [],
   "source": [
    "first_name = \"Wilkie\"\n",
    "last_name = \"Collins\"\n",
    "\n",
    "if last_name == \"Collins\":\n",
    "    if first_name == \"Wilkie\":\n",
    "        print(\"Writer!\")\n",
    "        print(first_name)\n",
    "    elif first_name == \"Suzanne\":\n",
    "        print(\"Writer!\")\n",
    "        print(last_name)\n",
    "    else:\n",
    "        print(\"I don't know!\")"
   ]
  },
  {
   "cell_type": "markdown",
   "metadata": {
    "slideshow": {
     "slide_type": "slide"
    }
   },
   "source": [
    "You can also write negated conditions:"
   ]
  },
  {
   "cell_type": "code",
   "execution_count": null,
   "metadata": {
    "slideshow": {
     "slide_type": "fragment"
    }
   },
   "outputs": [],
   "source": [
    "location = \"Shetland\"\n",
    "if not location == \"Oxford\":\n",
    "    print(\"I am somewhere else.\")\n",
    "else:\n",
    "    print(\"I am in Oxford.\")"
   ]
  },
  {
   "cell_type": "markdown",
   "metadata": {
    "slideshow": {
     "slide_type": "fragment"
    }
   },
   "source": [
    "The same can be done like this:"
   ]
  },
  {
   "cell_type": "code",
   "execution_count": null,
   "metadata": {},
   "outputs": [],
   "source": [
    "location = \"Shetland\"\n",
    "if location != \"Oxford\":\n",
    "    print(\"I am somewhere else.\")\n",
    "else:\n",
    "    print(\"I am in Oxford.\")"
   ]
  },
  {
   "cell_type": "markdown",
   "metadata": {
    "slideshow": {
     "slide_type": "slide"
    }
   },
   "source": [
    "## Control structure: for-loops"
   ]
  },
  {
   "cell_type": "markdown",
   "metadata": {
    "slideshow": {
     "slide_type": "slide"
    }
   },
   "source": [
    "A for-loop is a data structure that allows you to iterate over something that has a length (i.e, an iterable, an object able to return its members one at a time). For example, a list (it allows you to iterate over the elements of the list) or a string (allowing you to iterate over the characters of a string).\n",
    "\n",
    "The syntax of the for-loop is:\n",
    "* The for-statement contains the `for` keyword, followed by a new variable that is a placeholder for the elements in the iterable, followed by the `in` keyword, followed by the iterable.\n",
    "* An indented block of code stating the action to perform on the current element of the iteration.\n",
    "\n",
    "For example:"
   ]
  },
  {
   "cell_type": "code",
   "execution_count": null,
   "metadata": {},
   "outputs": [],
   "source": [
    "for element in [1, 2, 3]:\n",
    "    print(element)"
   ]
  },
  {
   "cell_type": "code",
   "execution_count": null,
   "metadata": {
    "slideshow": {
     "slide_type": "slide"
    }
   },
   "outputs": [],
   "source": [
    "list_of_numbers = [2, 3, 7, 2, 3]"
   ]
  },
  {
   "cell_type": "code",
   "execution_count": null,
   "metadata": {
    "slideshow": {
     "slide_type": "-"
    }
   },
   "outputs": [],
   "source": [
    "print(list_of_numbers)"
   ]
  },
  {
   "cell_type": "code",
   "execution_count": null,
   "metadata": {
    "slideshow": {
     "slide_type": "-"
    }
   },
   "outputs": [],
   "source": [
    "for element in list_of_numbers:\n",
    "    print(element)"
   ]
  },
  {
   "cell_type": "code",
   "execution_count": null,
   "metadata": {
    "slideshow": {
     "slide_type": "-"
    }
   },
   "outputs": [],
   "source": [
    "for element in list_of_numbers:\n",
    "    print(\"This is number:\", element)"
   ]
  },
  {
   "cell_type": "code",
   "execution_count": null,
   "metadata": {
    "slideshow": {
     "slide_type": "-"
    }
   },
   "outputs": [],
   "source": [
    "for element in list_of_numbers:\n",
    "    print(\"hello\")"
   ]
  },
  {
   "cell_type": "markdown",
   "metadata": {
    "slideshow": {
     "slide_type": "slide"
    }
   },
   "source": [
    "You can also combine a for-loop with if-statements (indentation!):"
   ]
  },
  {
   "cell_type": "code",
   "execution_count": null,
   "metadata": {},
   "outputs": [],
   "source": [
    "list_of_numbers = [2, 3, 7, 2, 3]"
   ]
  },
  {
   "cell_type": "code",
   "execution_count": null,
   "metadata": {
    "slideshow": {
     "slide_type": "-"
    }
   },
   "outputs": [],
   "source": [
    "for element in list_of_numbers:\n",
    "    if element >= 2 and element <= 3:\n",
    "        print(element)"
   ]
  },
  {
   "cell_type": "markdown",
   "metadata": {
    "slideshow": {
     "slide_type": "slide"
    }
   },
   "source": [
    "✏️ **Question:** Can you guess what I was trying to achieve here, and how can I fix it?"
   ]
  },
  {
   "cell_type": "code",
   "execution_count": null,
   "metadata": {
    "slideshow": {
     "slide_type": "-"
    }
   },
   "outputs": [],
   "source": [
    "counter_2 = 0\n",
    "for n in [1, 2, 3, 2, 1, 2, 3, 4, 5, 4, 3, 2, 1, 2, 3]:\n",
    "    if n == 2:\n",
    "    counter_2 += 1\n",
    "print(counter_2)"
   ]
  }
 ],
 "metadata": {
  "kernelspec": {
   "display_name": "py39",
   "language": "python",
   "name": "py39"
  },
  "language_info": {
   "codemirror_mode": {
    "name": "ipython",
    "version": 3
   },
   "file_extension": ".py",
   "mimetype": "text/x-python",
   "name": "python",
   "nbconvert_exporter": "python",
   "pygments_lexer": "ipython3",
   "version": "3.9.16"
  }
 },
 "nbformat": 4,
 "nbformat_minor": 4
}
