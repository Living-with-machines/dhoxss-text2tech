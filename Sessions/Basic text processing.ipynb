{
 "cells": [
  {
   "cell_type": "markdown",
   "id": "cb10be16",
   "metadata": {},
   "source": [
    "# Basic text processing"
   ]
  },
  {
   "cell_type": "markdown",
   "id": "cf3c485e",
   "metadata": {},
   "source": [
    "## What is a _string_?\n",
    "\n",
    "A string is the data type that is used for dealing with text.\n",
    "\n",
    "A string is a sequence of characters, and is always enclosed by quotation marks."
   ]
  },
  {
   "cell_type": "markdown",
   "id": "e77a0887",
   "metadata": {},
   "source": [
    "An example of string is:"
   ]
  },
  {
   "cell_type": "code",
   "execution_count": null,
   "id": "5c6f4b0e",
   "metadata": {},
   "outputs": [],
   "source": [
    "example_of_string = \"A text is a sequence of characters.\""
   ]
  },
  {
   "cell_type": "markdown",
   "id": "751f3fae",
   "metadata": {},
   "source": [
    "A string does not need to make any sense. Another example of string is:"
   ]
  },
  {
   "cell_type": "code",
   "execution_count": null,
   "id": "e5d7e0a0",
   "metadata": {},
   "outputs": [],
   "source": [
    "example_of_string = \"xt is a sequence of ch\""
   ]
  },
  {
   "cell_type": "markdown",
   "id": "84f9aec0",
   "metadata": {},
   "source": [
    "We can use double quotation marks, single quotation marks, or triple double quotation marks:"
   ]
  },
  {
   "cell_type": "code",
   "execution_count": null,
   "id": "34372ce7",
   "metadata": {},
   "outputs": [],
   "source": [
    "example_of_string = \"A text is a sequence of characters.\""
   ]
  },
  {
   "cell_type": "code",
   "execution_count": null,
   "id": "7abc6613",
   "metadata": {},
   "outputs": [],
   "source": [
    "example_of_string = 'A text is a sequence of characters.'"
   ]
  },
  {
   "cell_type": "code",
   "execution_count": null,
   "id": "e2319636",
   "metadata": {},
   "outputs": [],
   "source": [
    "example_of_string = \"\"\"A text is a sequence of characters, enclosed by quotation marks!\"\"\""
   ]
  },
  {
   "cell_type": "markdown",
   "id": "5de3703c",
   "metadata": {},
   "source": [
    "If the string spans more than one line, we should use the triple double quotation marks:"
   ]
  },
  {
   "cell_type": "code",
   "execution_count": null,
   "id": "99dbcd24",
   "metadata": {},
   "outputs": [],
   "source": [
    "beginning = \"\"\"When shall we three meet again\n",
    "In thunder, lightning, or in rain?\n",
    "When the hurlyburly's done,\n",
    "When the battle's lost and won.\"\"\""
   ]
  },
  {
   "cell_type": "code",
   "execution_count": null,
   "id": "439827c8",
   "metadata": {},
   "outputs": [],
   "source": [
    "print(beginning)"
   ]
  },
  {
   "cell_type": "markdown",
   "id": "71d6b949",
   "metadata": {},
   "source": [
    "We can check the data type of variable `beginning` using the `type()` built-in function:"
   ]
  },
  {
   "cell_type": "code",
   "execution_count": null,
   "id": "2898f234",
   "metadata": {},
   "outputs": [],
   "source": [
    "print(type(beginning))"
   ]
  },
  {
   "cell_type": "markdown",
   "id": "83625c4f",
   "metadata": {},
   "source": [
    "## Strings and numbers"
   ]
  },
  {
   "cell_type": "markdown",
   "id": "58eefc01",
   "metadata": {},
   "source": [
    "Python differentiates between numbers (mathematical objects) and strings (sequences of characters).\n",
    "\n",
    "⚠️ **Warning**: A number in quotation marks is actually a string, and can't be used in mathematical operations. This is quite important! It's an easy mistake that even experienced programmers make, and which can have huge consequences."
   ]
  },
  {
   "cell_type": "markdown",
   "id": "3bdf5eef",
   "metadata": {},
   "source": [
    "Compare the following two cells. Are they numbers or strings?"
   ]
  },
  {
   "cell_type": "code",
   "execution_count": null,
   "id": "ce993348",
   "metadata": {},
   "outputs": [],
   "source": [
    "a = 3\n",
    "b = 4"
   ]
  },
  {
   "cell_type": "code",
   "execution_count": null,
   "id": "4d770add",
   "metadata": {},
   "outputs": [],
   "source": [
    "c = \"3\"\n",
    "d = \"4\""
   ]
  },
  {
   "cell_type": "markdown",
   "id": "4b87f3b7",
   "metadata": {},
   "source": [
    "✏️ **Exercises:**"
   ]
  },
  {
   "cell_type": "code",
   "execution_count": null,
   "id": "12b68cd8",
   "metadata": {},
   "outputs": [],
   "source": [
    "# Write the code to print the data type of variable `a`\n",
    "\n"
   ]
  },
  {
   "cell_type": "code",
   "execution_count": null,
   "id": "d1060c0d",
   "metadata": {},
   "outputs": [],
   "source": [
    "# Write the code to print the data type of variable `c`:\n",
    "\n"
   ]
  },
  {
   "cell_type": "code",
   "execution_count": null,
   "id": "135fe9c1",
   "metadata": {},
   "outputs": [],
   "source": [
    "# What happens if we sum variables `a` and `b`?\n",
    "# Write your code here:\n",
    "\n"
   ]
  },
  {
   "cell_type": "code",
   "execution_count": null,
   "id": "19c530e3",
   "metadata": {},
   "outputs": [],
   "source": [
    "# What happens if we sum variables `c` and `d`?\n",
    "# Write your code here:\n",
    "\n"
   ]
  },
  {
   "cell_type": "code",
   "execution_count": null,
   "id": "e3292248",
   "metadata": {},
   "outputs": [],
   "source": [
    "# What happens if we sum variables `a` and `c`?\n",
    "# Write your code here:\n",
    "\n"
   ]
  },
  {
   "cell_type": "markdown",
   "id": "d0c5fc41",
   "metadata": {},
   "source": [
    "You can convert a number to a string using the `str()` function:"
   ]
  },
  {
   "cell_type": "code",
   "execution_count": null,
   "id": "f67e28c0",
   "metadata": {},
   "outputs": [],
   "source": [
    "a = 4\n",
    "print(a)\n",
    "print(type(a))\n",
    "\n",
    "a = str(4)\n",
    "print(a)\n",
    "print(type(a))"
   ]
  },
  {
   "cell_type": "markdown",
   "id": "268ea7d6",
   "metadata": {},
   "source": [
    "We can use the `int()` and `float()` functions to convert a string into a number:"
   ]
  },
  {
   "cell_type": "code",
   "execution_count": null,
   "id": "be1f6cc6",
   "metadata": {},
   "outputs": [],
   "source": [
    "a = \"3\"\n",
    "print(a)\n",
    "print(type(a))\n",
    "\n",
    "a = int(a)\n",
    "print(a)\n",
    "print(type(a))"
   ]
  },
  {
   "cell_type": "code",
   "execution_count": null,
   "id": "f9a294f4",
   "metadata": {},
   "outputs": [],
   "source": [
    "a = \"3.4\"\n",
    "print(a)\n",
    "print(type(a))\n",
    "\n",
    "a = float(a)\n",
    "print(a)\n",
    "print(type(a))"
   ]
  },
  {
   "cell_type": "markdown",
   "id": "ae706ce9",
   "metadata": {},
   "source": [
    "## Common operations on strings"
   ]
  },
  {
   "cell_type": "markdown",
   "id": "8c3272f1",
   "metadata": {},
   "source": [
    "In this section we will learn to manipulate strings. We will look into the following (very useful) operations:\n",
    "1. Converting to upper/lower case\n",
    "2. Removing white spaces (including linebreaks) as the beginning and end of string\n",
    "3. Replacing one part of the string by another\n",
    "4. Concatenating strings\n",
    "5. Splitting strings\n",
    "6. Finding the length of strings\n",
    "7. Checking the beginning and ending of a string\n",
    "\n",
    "If you want to know more on how to use them, you can read about these and other operations in the [official Python documentation](https://python-reference.readthedocs.io/en/latest/docs/str/)."
   ]
  },
  {
   "cell_type": "markdown",
   "id": "a70f29d6",
   "metadata": {},
   "source": [
    "#### 1. Converting to upper or lower case**\n",
    "\n",
    "The `.lower()` and `.upper()` methods are applied to a string variable to make the string lower- or uppercase.\n",
    "\n",
    "To use it, append it to the variable you want to convert:"
   ]
  },
  {
   "cell_type": "code",
   "execution_count": 6,
   "id": "ea1753ea",
   "metadata": {},
   "outputs": [
    {
     "name": "stdout",
     "output_type": "stream",
     "text": [
      "I AM SHOUTING.\n"
     ]
    }
   ],
   "source": [
    "a = \"I am shouting.\"\n",
    "\n",
    "print(a.upper())"
   ]
  },
  {
   "cell_type": "markdown",
   "id": "5dc77100",
   "metadata": {},
   "source": [
    "#### 2. Removing white spaces\n",
    "\n",
    "The `.lstrip()`, `.rstrip()` and `strip()` methods remove white spaces at the beginning, end, and beginning and end of the string."
   ]
  },
  {
   "cell_type": "code",
   "execution_count": 5,
   "id": "a4a40baa",
   "metadata": {
    "scrolled": true
   },
   "outputs": [
    {
     "name": "stdout",
     "output_type": "stream",
     "text": [
      "Too many whitespaces!   \n",
      "   Too many whitespaces!\n",
      "Too many whitespaces!\n"
     ]
    }
   ],
   "source": [
    "text_to_trim = \"   Too many whitespaces!   \"\n",
    "\n",
    "print(text_to_trim.lstrip()) # The \"l\" stands for left\n",
    "print(text_to_trim.rstrip()) # The \"r\" stands for right\n",
    "print(text_to_trim.strip())"
   ]
  },
  {
   "cell_type": "markdown",
   "id": "f42f0823",
   "metadata": {},
   "source": [
    "#### 3. Replacing one part of the string by another\n",
    "\n",
    "The `replace()` method can be used to replace one part of the string by another. It's appended to the variable containing the string you want to replace, and it requires two arguments at least: _arg1_ is the string to be replaced whereas _arg2_ is the string to replace the other one. For example:"
   ]
  },
  {
   "cell_type": "code",
   "execution_count": 8,
   "id": "f15b4110",
   "metadata": {},
   "outputs": [
    {
     "name": "stdout",
     "output_type": "stream",
     "text": [
      "It was the worst of times.\n"
     ]
    }
   ],
   "source": [
    "main_string = \"It was the best of times.\"\n",
    "\n",
    "print(main_string.replace(\"best\", \"worst\"))"
   ]
  },
  {
   "cell_type": "markdown",
   "id": "8beaf292",
   "metadata": {},
   "source": [
    "Now, if we print the value of the variable `main_string`, what happens? Try it."
   ]
  },
  {
   "cell_type": "code",
   "execution_count": 10,
   "id": "6745faa8",
   "metadata": {},
   "outputs": [
    {
     "name": "stdout",
     "output_type": "stream",
     "text": [
      "It was the best of times.\n"
     ]
    }
   ],
   "source": [
    "print(main_string)"
   ]
  },
  {
   "cell_type": "markdown",
   "id": "a080b380",
   "metadata": {},
   "source": [
    "⚠️ **Warning:** in-place"
   ]
  },
  {
   "cell_type": "markdown",
   "id": "92a29b67",
   "metadata": {},
   "source": [
    "✏️ **Exercises:**"
   ]
  },
  {
   "cell_type": "code",
   "execution_count": null,
   "id": "a8592a47",
   "metadata": {},
   "outputs": [],
   "source": [
    "# Create a variable with the text \"I AM NOT SHOUTING\" and convert it to lower case:\n",
    "\n",
    "# Write your code here:"
   ]
  }
 ],
 "metadata": {
  "kernelspec": {
   "display_name": "Python (py39)",
   "language": "python",
   "name": "py39"
  },
  "language_info": {
   "codemirror_mode": {
    "name": "ipython",
    "version": 3
   },
   "file_extension": ".py",
   "mimetype": "text/x-python",
   "name": "python",
   "nbconvert_exporter": "python",
   "pygments_lexer": "ipython3",
   "version": "3.9.7"
  }
 },
 "nbformat": 4,
 "nbformat_minor": 5
}
