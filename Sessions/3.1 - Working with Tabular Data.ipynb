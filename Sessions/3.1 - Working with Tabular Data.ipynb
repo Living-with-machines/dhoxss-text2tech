{
 "cells": [
  {
   "cell_type": "markdown",
   "id": "0818404a",
   "metadata": {
    "slideshow": {
     "slide_type": "slide"
    }
   },
   "source": [
    "# Today, a Tale About Pythons and Pandas\n",
    "![pandas](https://miro.medium.com/max/1400/1*6d5dw6dPhy4vBp2vRW6uzw.png)"
   ]
  },
  {
   "cell_type": "markdown",
   "id": "abef25e4",
   "metadata": {
    "slideshow": {
     "slide_type": "slide"
    }
   },
   "source": [
    "# Introduction\n",
    "\n",
    "### Recap\n",
    "The course discussed:\n",
    "- the basics of **programming** in Python \n",
    "- elementary techniques for **text processing**\n",
    "\n",
    "\"Text\" came primarily as string variables or `.txt` files."
   ]
  },
  {
   "cell_type": "markdown",
   "id": "835fef81",
   "metadata": {
    "slideshow": {
     "slide_type": "slide"
    }
   },
   "source": [
    "### On Today's Plate: Data Formats and Access\n",
    "\n",
    "- In practice, text comes in many different **formats**: CSV, XML, HTML or JSON. \n",
    "\n",
    "- Also, different types of **access**:\n",
    "    - reading content from a **local** file\n",
    "    - retrieving data via an **API**\n",
    "    - scraping information from the **web**.\n",
    "\n",
    "(Don't worry if this does not make sense, we will cover these concepts in more detail soon!)\n",
    "\n"
   ]
  },
  {
   "cell_type": "markdown",
   "id": "148cad37",
   "metadata": {
    "slideshow": {
     "slide_type": "slide"
    }
   },
   "source": [
    "In short: today we talk about data **formats** and **access** ...\n",
    "    \n",
    "![img](https://media.giphy.com/media/3d5O10XObbr8LW4bDY/giphy.gif)"
   ]
  },
  {
   "cell_type": "markdown",
   "id": "4e1a1a8f",
   "metadata": {
    "slideshow": {
     "slide_type": "slide"
    }
   },
   "source": [
    " ... also, we explore more realistic research scenarios using our novel computational skills!\n",
    " \n",
    " ![img](https://media.giphy.com/media/UuebWyG4pts3rboawU/giphy.gif)"
   ]
  },
  {
   "cell_type": "markdown",
   "id": "db3bc1dc",
   "metadata": {
    "slideshow": {
     "slide_type": "slide"
    }
   },
   "source": [
    "# Data Classification\n",
    "\n",
    "## (Un)structured Data\n",
    "\n",
    "- **Data formats** indicate how data is structured (`.txt`, `.csv`, `.xml`).\n",
    "- Structure relates to the degree of **organization** of information.\n",
    "- Data is located on a **scale** from structured to unstructured.\n",
    "- Text (or a `str` object in Python) is often referred to as \"unstructured data\", and is just a sequence of characters.\n",
    "- Spreadsheets are considered examples of structured data (highly organised)."
   ]
  },
  {
   "cell_type": "code",
   "execution_count": null,
   "id": "f7d89644",
   "metadata": {
    "slideshow": {
     "slide_type": "fragment"
    }
   },
   "outputs": [],
   "source": [
    "text = 'This is not a sentence.'"
   ]
  },
  {
   "cell_type": "markdown",
   "id": "d2309ee4",
   "metadata": {
    "slideshow": {
     "slide_type": "slide"
    }
   },
   "source": [
    "✏️ **Exercises:** \n",
    "- To refresh your memory and get those fingers in the mood for typing: how many characters does the variable `text` contain? \n",
    "- How to retrieve the first (or last) element of the `text` variable?"
   ]
  },
  {
   "cell_type": "code",
   "execution_count": null,
   "id": "37467c66",
   "metadata": {
    "slideshow": {
     "slide_type": "subslide"
    }
   },
   "outputs": [],
   "source": [
    "# Enter answer here"
   ]
  },
  {
   "cell_type": "markdown",
   "id": "b440813e",
   "metadata": {
    "slideshow": {
     "slide_type": "slide"
    }
   },
   "source": [
    "To better understand the difference between structured and unstructured information, compare the following representation of \"age\" and \"place of birth\"."
   ]
  },
  {
   "cell_type": "code",
   "execution_count": null,
   "id": "14a9709c",
   "metadata": {
    "slideshow": {
     "slide_type": "fragment"
    }
   },
   "outputs": [],
   "source": [
    "unstructured = 'Thomas (age 46) was born in Germany. Betsy was two years younger and grew up in the States.'\n",
    "print(unstructured)"
   ]
  },
  {
   "cell_type": "code",
   "execution_count": null,
   "id": "150f1d3e",
   "metadata": {
    "slideshow": {
     "slide_type": "fragment"
    }
   },
   "outputs": [],
   "source": [
    "import pandas as pd\n",
    "structured = pd.DataFrame([['Thomas',46,'Germany'],['Betsy',44,'United States']],columns=['name','age','born'],index=[1,2])\n",
    "structured"
   ]
  },
  {
   "cell_type": "markdown",
   "id": "3c7859a7",
   "metadata": {
    "slideshow": {
     "slide_type": "slide"
    }
   },
   "source": [
    "\n",
    "**Why is it important?**\n",
    "- Degree of organisation affects how we can read, process, and store data.\n",
    "- Working with text is often **difficult** as it lacks prior structure we can use for analysis or data manipulation.\n",
    "- Structured information (i.e. spreadsheets) is most amenable to quantitative analysis, but it is also a very **abstract** representation of information (there is a trade-off)."
   ]
  },
  {
   "cell_type": "markdown",
   "id": "04a0b274",
   "metadata": {
    "slideshow": {
     "slide_type": "slide"
    }
   },
   "source": [
    "## Semi-structured Data\n",
    "\n",
    "- Data positioned on a continuous scale, i.e. does not neatly fit the structured vs. unstructured dichotomy. \n",
    "- Semi-structured information has some structural elements but is not as rigorously organized as a spreadsheet."
   ]
  },
  {
   "cell_type": "code",
   "execution_count": null,
   "id": "dfd63a83",
   "metadata": {
    "slideshow": {
     "slide_type": "fragment"
    }
   },
   "outputs": [],
   "source": [
    "semi_structured = \"\"\"<bio><name>Thomas<\\name> (age <age>46</age>) was born in <country>Germany</country>. \n",
    "    <name>Betsy</name> was <age>two years younger</age> and grew up in the <country>States</country>.</bio>\"\"\"\n"
   ]
  },
  {
   "cell_type": "markdown",
   "id": "62fe31d7",
   "metadata": {
    "slideshow": {
     "slide_type": "slide"
    }
   },
   "source": [
    "\n",
    "### Take-aways: \n",
    "- Lost in Translation?: Research at scale often involves some **transformation** of unstructured text to a (semi-)structured representation, e.g. annotations, word frequencies, emotion scores of sentences, etc. (**text-as-data**).\n",
    "- The optimal representation of your data depends on your research question. (Abstraction can be risky!)\n"
   ]
  },
  {
   "cell_type": "markdown",
   "id": "3a0d6b6d",
   "metadata": {
    "slideshow": {
     "slide_type": "slide"
    }
   },
   "source": [
    "\n",
    "### Next:\n",
    "We study different **formats** in which you will encounter text documents:\n",
    "- CSV \n",
    "- XML\n",
    "- JSON"
   ]
  },
  {
   "cell_type": "markdown",
   "id": "aa92af0e",
   "metadata": {
    "slideshow": {
     "slide_type": "slide"
    }
   },
   "source": [
    "# Tabular data\n",
    "\n",
    "We first focus on working with textual data in a **tabular** format. \n",
    "- organized in rows (observations) and columns (features/attributes of these observations)\n",
    "- structured data stored in a CSV format (Comma Separated Values)\n",
    "\n",
    "Let's inspect an example: a list of [American baby names](https://www.ssa.gov/OACT/babynames/limits.html) from 1880 to 2020. We can open this `.csv` file as we have previously done. "
   ]
  },
  {
   "cell_type": "code",
   "execution_count": null,
   "id": "8c4b502d",
   "metadata": {
    "slideshow": {
     "slide_type": "slide"
    }
   },
   "outputs": [],
   "source": [
    "# interestingly csv file is just a text document\n",
    "names_example = open('data/names_extract.csv').read(); names_example"
   ]
  },
  {
   "cell_type": "code",
   "execution_count": null,
   "id": "0c22f934",
   "metadata": {
    "slideshow": {
     "slide_type": "fragment"
    }
   },
   "outputs": [],
   "source": [
    "# you can check this of course if you do not believe me\n",
    "type(names_example)"
   ]
  },
  {
   "cell_type": "markdown",
   "id": "bb3487e9",
   "metadata": {
    "slideshow": {
     "slide_type": "slide"
    }
   },
   "source": [
    "Even though I referred to the CSV file as structured (or tabular) it initially appears as unstructured text. \n",
    "\n",
    "But, as you have undoubtedly noticed, the `str` object adheres to an **implicit** pattern: \n",
    "- **rows** end with a hard return `\\n`\n",
    "- **cells** within rows are separated by a **comma** (or the **delimiter = ','**. This is a convention, e.g. tsv files have `\\t` or tab to separate cells)\n",
    "\n",
    "Converting such a string to a structured and machine-readable format is called **\"parsing\"**."
   ]
  },
  {
   "cell_type": "markdown",
   "id": "41c4595d",
   "metadata": {
    "slideshow": {
     "slide_type": "slide"
    }
   },
   "source": [
    "✏️ **Exercise:**: Can you write a parser function called `csv_parser` that given an input string returns a dataframe in the shape of a nested list, i.e.:\n",
    "- in goes: \n",
    "```python\n",
    "csv_text = 'c1,c2,c3\\n1,2,3'\n",
    "```\n",
    "\n",
    "- out goes:\n",
    "```python\n",
    "[['c1','c2','c3'],['1','2','3']]\n",
    "```\n",
    "\n",
    "- apply csv_parser to the `names_example` variable and save it in a new variable `names_parsed`."
   ]
  },
  {
   "cell_type": "code",
   "execution_count": null,
   "id": "9a359e2b",
   "metadata": {
    "slideshow": {
     "slide_type": "slide"
    }
   },
   "outputs": [],
   "source": [
    "# Write your answer here"
   ]
  },
  {
   "cell_type": "code",
   "execution_count": null,
   "id": "99367cc0",
   "metadata": {
    "slideshow": {
     "slide_type": "-"
    }
   },
   "outputs": [],
   "source": [
    "def csv_parser(input_string: str) -> list:\n",
    "    \"\"\"\n",
    "    Argument:\n",
    "        input_string (str): CSV string\n",
    "    Returns:\n",
    "        a nested list \n",
    "    \"\"\"\n",
    "    lines = input_string.split('\\n')\n",
    "    cells = [l.split(',') for l in lines]\n",
    "    return cells\n",
    "\n",
    "names_parsed = csv_parser(names_example)"
   ]
  },
  {
   "cell_type": "markdown",
   "id": "71b6e8bc",
   "metadata": {
    "slideshow": {
     "slide_type": "slide"
    }
   },
   "source": [
    "Previous code \"parsed\" a text file, i.e. converted it to a structured format, in this case, a **nested list**. However, this is the most convenient way of working with tabular data.\n",
    "\n",
    "Why? You can retrieve rows (and cells within rows), but other operations pose more problems. For example, accessing the data column-wise, i.e. gefting all names, is not trivial. \n"
   ]
  },
  {
   "cell_type": "markdown",
   "id": "5fa8940a",
   "metadata": {
    "slideshow": {
     "slide_type": "slide"
    }
   },
   "source": [
    "### ✏️  1. Exercises.\n",
    "- How many rows does the data frame `names_parsed` contain?\n",
    "- What name is recorded on the fifth row (i.e. ignoring the header)?\n",
    "- Print the `sex` column as a list.\n",
    "- Write a `for` loop to find the most frequent name in 1880? (**Difficult**)."
   ]
  },
  {
   "cell_type": "code",
   "execution_count": null,
   "id": "4e7de718",
   "metadata": {
    "slideshow": {
     "slide_type": "fragment"
    }
   },
   "outputs": [],
   "source": [
    "# write your answer here"
   ]
  },
  {
   "cell_type": "markdown",
   "id": "74368628",
   "metadata": {
    "slideshow": {
     "slide_type": "slide"
    }
   },
   "source": [
    "## Pandas DataFrames"
   ]
  },
  {
   "cell_type": "code",
   "execution_count": null,
   "id": "68dc569c",
   "metadata": {
    "slideshow": {
     "slide_type": "slide"
    }
   },
   "outputs": [],
   "source": [
    "# run this cell before continuing\n",
    "!unzip data/names.zip -d data # unzip data\n",
    "!ls data # the content"
   ]
  },
  {
   "cell_type": "markdown",
   "id": "c537975d",
   "metadata": {
    "slideshow": {
     "slide_type": "slide"
    }
   },
   "source": [
    "The previous examples and exercises have shown how to convert a text file to a spreadsheet-like data format. However, the nested list proved hard to work with in practice.\n",
    "\n",
    "Luckily, there exists a library that makes working with tabular information much, much, much easier. [Pandas](https://pandas.pydata.org/) to the rescue!\n",
    "\n",
    "![pandas](https://media.giphy.com/media/EatwJZRUIv41G/giphy.gif)\n"
   ]
  },
  {
   "cell_type": "markdown",
   "id": "6b6b7561",
   "metadata": {
    "slideshow": {
     "slide_type": "slide"
    }
   },
   "source": [
    "**Pandas** is a library for processing and analysing (tabular) data. Its tools are the bread and butter for doing **data science** in Python. Let's start with importing Pandas into our notebook.\n",
    "- The session ventures into applied data science, and a critical aspect of \"distant reading\"\n",
    "- Transforming text to numbers (yes there will be numbers)."
   ]
  },
  {
   "cell_type": "code",
   "execution_count": null,
   "id": "010fdfb4",
   "metadata": {
    "slideshow": {
     "slide_type": "fragment"
    }
   },
   "outputs": [],
   "source": [
    "import pandas as pd # import pandas using pd as abbreviation\n",
    "print(pd.__doc__) # import the __doc__ attribute attached to pd"
   ]
  },
  {
   "cell_type": "markdown",
   "id": "a8349d00",
   "metadata": {
    "slideshow": {
     "slide_type": "slide"
    }
   },
   "source": [
    "Notice that using `pd` as an abbreviation for `pandas` is merely a convention and you are free to use any other (syntactically acceptable name) i.e. \n",
    "```python\n",
    "import pandas as dfsfgjrelfgdjgkldsjgkdfgjdfklgjdfklgjkflskfdklfsk \n",
    "```\n",
    "\n",
    "will work but will also make your life miserable..."
   ]
  },
  {
   "cell_type": "markdown",
   "id": "7fe6f8e9",
   "metadata": {
    "slideshow": {
     "slide_type": "slide"
    }
   },
   "source": [
    "## Opening a file\n",
    "\n",
    "Given a path, Pandas will open, read and parse the CSV file and return it as a `DataFrame` object. In this case, we are loading more \"serious\" data, i.e. a frequency list of American baby names after 1880 till the present."
   ]
  },
  {
   "cell_type": "code",
   "execution_count": null,
   "id": "1b217e0e",
   "metadata": {
    "slideshow": {
     "slide_type": "slide"
    }
   },
   "outputs": [],
   "source": [
    "# sep has ',' as default value, change this parameter to '\\t' if you need to open a tsv file\n",
    "df = pd.read_csv('data/names.csv', sep=',')\n",
    "type(df)"
   ]
  },
  {
   "cell_type": "markdown",
   "id": "c7273e8b",
   "metadata": {
    "slideshow": {
     "slide_type": "slide"
    }
   },
   "source": [
    "As with other Python objects, the `DataFrame` comes with a specific set of **attributes** and **methods** for inspecting, analysing and manipulating information in a dataframe.\n",
    "\n",
    "Important attributes for understanding the contours of you data are `.shape` and `.columns`."
   ]
  },
  {
   "cell_type": "code",
   "execution_count": null,
   "id": "d6fb744d",
   "metadata": {
    "slideshow": {
     "slide_type": "fragment"
    }
   },
   "outputs": [],
   "source": [
    "df.shape # returns the number of rows and columns as a tuple"
   ]
  },
  {
   "cell_type": "code",
   "execution_count": null,
   "id": "02782560",
   "metadata": {
    "slideshow": {
     "slide_type": "fragment"
    }
   },
   "outputs": [],
   "source": [
    "df.columns # returns the column names"
   ]
  },
  {
   "cell_type": "code",
   "execution_count": null,
   "id": "f47d8438",
   "metadata": {
    "slideshow": {
     "slide_type": "slide"
    }
   },
   "outputs": [],
   "source": [
    "help(df) # heeeeelp!"
   ]
  },
  {
   "cell_type": "markdown",
   "id": "1447b704",
   "metadata": {
    "slideshow": {
     "slide_type": "slide"
    }
   },
   "source": [
    "## Exploring Tabular Content\n",
    "\n",
    "In the first instance, let's explore the **content** of our dataframe. "
   ]
  },
  {
   "cell_type": "code",
   "execution_count": null,
   "id": "3cb5b95b",
   "metadata": {
    "slideshow": {
     "slide_type": "fragment"
    }
   },
   "outputs": [],
   "source": [
    "help(df.head)"
   ]
  },
  {
   "cell_type": "code",
   "execution_count": null,
   "id": "1076dffd",
   "metadata": {
    "slideshow": {
     "slide_type": "slide"
    }
   },
   "outputs": [],
   "source": [
    "# head allows us to view the first n rows\n",
    "df.head(4)"
   ]
  },
  {
   "cell_type": "code",
   "execution_count": null,
   "id": "5fa6249e",
   "metadata": {
    "slideshow": {
     "slide_type": "fragment"
    }
   },
   "outputs": [],
   "source": [
    "df.tail(4)"
   ]
  },
  {
   "cell_type": "code",
   "execution_count": null,
   "id": "e8a7f6c3",
   "metadata": {
    "slideshow": {
     "slide_type": "slide"
    }
   },
   "outputs": [],
   "source": [
    "help(df.describe)"
   ]
  },
  {
   "cell_type": "code",
   "execution_count": null,
   "id": "a010aea7",
   "metadata": {
    "slideshow": {
     "slide_type": "slide"
    }
   },
   "outputs": [],
   "source": [
    "df.describe()"
   ]
  },
  {
   "cell_type": "markdown",
   "id": "1221d871",
   "metadata": {
    "slideshow": {
     "slide_type": "slide"
    }
   },
   "source": [
    "## Sequencing methods"
   ]
  },
  {
   "cell_type": "code",
   "execution_count": null,
   "id": "97adbc0b",
   "metadata": {
    "slideshow": {
     "slide_type": "fragment"
    }
   },
   "outputs": [],
   "source": [
    "type(df.describe())"
   ]
  },
  {
   "cell_type": "code",
   "execution_count": null,
   "id": "8a98a255",
   "metadata": {
    "slideshow": {
     "slide_type": "fragment"
    }
   },
   "outputs": [],
   "source": [
    "# dot notation -> read from left to right\n",
    "# describe numerical values in the dataframe\n",
    "# which returns a dataframe\n",
    "# round the numerical values to the third decimal\n",
    "df.describe().round(3)"
   ]
  },
  {
   "cell_type": "markdown",
   "id": "a82d5ea0",
   "metadata": {
    "slideshow": {
     "slide_type": "slide"
    }
   },
   "source": [
    "`describe()` returns a (statistical) summary for each column that contains **numerical information** (i.e. are of type `int` or `float`). \n",
    "\n",
    "For example, you notice that the `name` and `sex` columns are not present in the output. When working with dataframes it is important to be aware of the **data types* (abbreviated as `dtypes`) that are present in your table. \n",
    "\n",
    "You can access data types under the `dtype` attribute.\n"
   ]
  },
  {
   "cell_type": "code",
   "execution_count": null,
   "id": "a40afd3a",
   "metadata": {
    "slideshow": {
     "slide_type": "fragment"
    }
   },
   "outputs": [],
   "source": [
    "df.dtypes"
   ]
  },
  {
   "cell_type": "markdown",
   "id": "4edd0077",
   "metadata": {
    "slideshow": {
     "slide_type": "slide"
    }
   },
   "source": [
    "\n",
    "✏️ **Question**:\n",
    "- Which value is the **median** in this summary?\n",
    "- Why are the median and mean so different for the `frequency` column?"
   ]
  },
  {
   "cell_type": "code",
   "execution_count": null,
   "id": "6b0d628c",
   "metadata": {
    "slideshow": {
     "slide_type": "fragment"
    }
   },
   "outputs": [],
   "source": [
    "# type answer here"
   ]
  },
  {
   "cell_type": "markdown",
   "id": "cb2e0bc1",
   "metadata": {
    "slideshow": {
     "slide_type": "slide"
    }
   },
   "source": [
    "## Accessing and Selecting Content\n",
    "\n",
    "## Why?\n",
    "- Research often requires **data selection**.\n",
    "- Selection criteria based on **content** and/or **metadata**.\n",
    "- In this example `names` are the content, and `year` and `gender` are metadata.\n",
    "- The techniques we discuss below enable you to **select** , **explore** and **compare** relevant (subsets) of texts in a pandas `DataFrame`.\n",
    "    - very useful for many types of analysis!"
   ]
  },
  {
   "cell_type": "markdown",
   "id": "cdb0cbea",
   "metadata": {
    "slideshow": {
     "slide_type": "slide"
    }
   },
   "source": [
    "\n",
    "`DataFrames` provide many useful tools for selecting information in a spreadsheet. They combine techniques you encountered earlier, such as \n",
    "- retrieving values by position:\n",
    "```python \n",
    "l = ['a','b']\n",
    "l[1]\n",
    "```\n",
    "- retrieving values by a key:\n",
    "```python \n",
    "d = {'a': 1}\n",
    "d['a']\n",
    "```"
   ]
  },
  {
   "cell_type": "markdown",
   "id": "8e919c61",
   "metadata": {
    "slideshow": {
     "slide_type": "slide"
    }
   },
   "source": [
    "... however, the tools for interrogating (and extracting information) from dataframes are more powerful and advanced when compared to lists or dictionaries.\n",
    "\n",
    "More technically, a `DataFrame` is a **two dimensional array** of **indexed data**, which allows you to access content by row **and** column. Don't worry if this sounds abstract at this point! Help is on its way!\n",
    "\n",
    "The code below shows the row and column index."
   ]
  },
  {
   "cell_type": "code",
   "execution_count": null,
   "id": "a9c6543a",
   "metadata": {
    "slideshow": {
     "slide_type": "fragment"
    }
   },
   "outputs": [],
   "source": [
    "df.index # row index, index is a list of numbers"
   ]
  },
  {
   "cell_type": "code",
   "execution_count": null,
   "id": "a77a65aa",
   "metadata": {
    "slideshow": {
     "slide_type": "fragment"
    }
   },
   "outputs": [],
   "source": [
    "df.columns # column index, index is a list of names"
   ]
  },
  {
   "cell_type": "markdown",
   "id": "d284b6fc",
   "metadata": {
    "slideshow": {
     "slide_type": "slide"
    }
   },
   "source": [
    "## Retrieving information row-wise\n"
   ]
  },
  {
   "cell_type": "code",
   "execution_count": null,
   "id": "06b73f1f",
   "metadata": {
    "slideshow": {
     "slide_type": "slide"
    }
   },
   "outputs": [],
   "source": [
    "# let's make a toy dataframe\n",
    "mock_df = pd.DataFrame([[1,4,6],\n",
    "                        [2,3,5],\n",
    "                        [0,9,6],\n",
    "                        [7,8,9]], \n",
    "                       columns= ['c1','c2','c3'], \n",
    "                       index=['r1','r2','r3','r4'])\n",
    "mock_df"
   ]
  },
  {
   "cell_type": "markdown",
   "id": "3d2a2377",
   "metadata": {
    "slideshow": {
     "slide_type": "slide"
    }
   },
   "source": [
    "A dataframe has an **explicit** index, which are the **row names**, i.e. \"r1\", \"r2\" etc). With `.loc` we can access rows by their explicit index (also using **slice** notation!)"
   ]
  },
  {
   "cell_type": "code",
   "execution_count": null,
   "id": "d199d1a5",
   "metadata": {
    "slideshow": {
     "slide_type": "slide"
    }
   },
   "outputs": [],
   "source": [
    "mock_df.loc['r2']"
   ]
  },
  {
   "cell_type": "code",
   "execution_count": null,
   "id": "738216d0",
   "metadata": {
    "slideshow": {
     "slide_type": "slide"
    }
   },
   "outputs": [],
   "source": [
    "# slice notation, notice I am not using numbers here!\n",
    "mock_df.loc['r2':\"r4\"]"
   ]
  },
  {
   "cell_type": "markdown",
   "id": "8999fdb2",
   "metadata": {
    "slideshow": {
     "slide_type": "slide"
    }
   },
   "source": [
    "The **implicit** index is the Python-style position-wise index, which looks similar to lists and starts at 0! We can retrieve rows by their position using `.iloc`."
   ]
  },
  {
   "cell_type": "code",
   "execution_count": null,
   "id": "49aaa2bb",
   "metadata": {
    "slideshow": {
     "slide_type": "slide"
    }
   },
   "outputs": [],
   "source": [
    "mock_df.iloc[0]"
   ]
  },
  {
   "cell_type": "code",
   "execution_count": null,
   "id": "52a2b1ec",
   "metadata": {
    "slideshow": {
     "slide_type": "slide"
    }
   },
   "outputs": [],
   "source": [
    "# notice that this is different to mock_df.loc['r2':\"r4\"]\n",
    "mock_df.iloc[1:3]"
   ]
  },
  {
   "cell_type": "markdown",
   "id": "ace127db",
   "metadata": {
    "slideshow": {
     "slide_type": "slide"
    }
   },
   "source": [
    "For our main `df` using `iloc` or `loc` doesn't make a difference when we want to access just one specific row."
   ]
  },
  {
   "cell_type": "code",
   "execution_count": null,
   "id": "efb59c8b",
   "metadata": {
    "slideshow": {
     "slide_type": "slide"
    }
   },
   "outputs": [],
   "source": [
    "df.iloc[3]"
   ]
  },
  {
   "cell_type": "code",
   "execution_count": null,
   "id": "f88f4c9a",
   "metadata": {
    "slideshow": {
     "slide_type": "fragment"
    }
   },
   "outputs": [],
   "source": [
    "df.loc[3]"
   ]
  },
  {
   "cell_type": "markdown",
   "id": "4504785b",
   "metadata": {
    "slideshow": {
     "slide_type": "slide"
    }
   },
   "source": [
    "However when using slice notation, `.iloc` and `.loc` do not return exactly the same."
   ]
  },
  {
   "cell_type": "markdown",
   "id": "a1722fb8",
   "metadata": {
    "slideshow": {
     "slide_type": "fragment"
    }
   },
   "source": [
    "### ✏️  2. Exercise:\n",
    "\n",
    " Get the first five rows with `iloc` and `loc`."
   ]
  },
  {
   "cell_type": "code",
   "execution_count": null,
   "id": "c2fccbeb",
   "metadata": {
    "slideshow": {
     "slide_type": "fragment"
    }
   },
   "outputs": [],
   "source": [
    "# write your answer here"
   ]
  },
  {
   "cell_type": "markdown",
   "id": "8bb70e36",
   "metadata": {
    "slideshow": {
     "slide_type": "slide"
    }
   },
   "source": [
    "## Retrieving information column-wise\n",
    "\n",
    "Both `iloc` and `loc` allow you to select data by row and column. The general syntax for `loc` is:\n",
    "```python\n",
    "df.loc[row_index, column_index]\n",
    "```\n",
    "\n",
    "To select the `\"name\"` columns, \n",
    " - use `\"name\"` as column_index\n",
    " - use as colon (`:`) as row index, indicating all values from start to end (similar to lists). \n",
    " \n",
    " In the code cell below we get the full `'name'` column (with the row index!)."
   ]
  },
  {
   "cell_type": "code",
   "execution_count": null,
   "id": "d1622d99",
   "metadata": {
    "slideshow": {
     "slide_type": "slide"
    }
   },
   "outputs": [],
   "source": [
    "df.loc[:,'name']"
   ]
  },
  {
   "cell_type": "code",
   "execution_count": null,
   "id": "73c5fa56",
   "metadata": {
    "slideshow": {
     "slide_type": "slide"
    }
   },
   "outputs": [],
   "source": [
    "# a simpler way to retrieve a column\n",
    "df['name']"
   ]
  },
  {
   "cell_type": "markdown",
   "id": "fdecf46c",
   "metadata": {
    "slideshow": {
     "slide_type": "slide"
    }
   },
   "source": [
    "As an aside, both rows and columns are instances of the `Series` class."
   ]
  },
  {
   "cell_type": "code",
   "execution_count": null,
   "id": "f5670683",
   "metadata": {
    "slideshow": {
     "slide_type": "subslide"
    }
   },
   "outputs": [],
   "source": [
    "type(df['name']), type(df.loc[3])"
   ]
  },
  {
   "cell_type": "markdown",
   "id": "93b6dbe3",
   "metadata": {},
   "source": [
    "### ✏️  3. Exercises:\n",
    "\n",
    "- Select the `year` column.\n",
    "- Select the first ten rows of just the `year` column."
   ]
  },
  {
   "cell_type": "code",
   "execution_count": null,
   "id": "dca14398",
   "metadata": {},
   "outputs": [],
   "source": [
    "# write answer here"
   ]
  },
  {
   "cell_type": "markdown",
   "id": "7caddf6c",
   "metadata": {
    "slideshow": {
     "slide_type": "slide"
    }
   },
   "source": [
    "### \"Fancy\" Indexing\n",
    "\n",
    "To retrieve multiple columns, you can use so-called **'fancy' indexing** by passing column names as a list or an array."
   ]
  },
  {
   "cell_type": "code",
   "execution_count": null,
   "id": "8d83d9e9",
   "metadata": {
    "slideshow": {
     "slide_type": "slide"
    }
   },
   "outputs": [],
   "source": [
    "df.loc[:,['name','sex']]"
   ]
  },
  {
   "cell_type": "code",
   "execution_count": null,
   "id": "ee366522",
   "metadata": {
    "slideshow": {
     "slide_type": "slide"
    }
   },
   "outputs": [],
   "source": [
    "# or simpler\n",
    "df[['sex','name']]"
   ]
  },
  {
   "cell_type": "code",
   "execution_count": null,
   "id": "ae98d39e",
   "metadata": {
    "slideshow": {
     "slide_type": "slide"
    }
   },
   "outputs": [],
   "source": [
    "# you can apply fancy indexing to both rows and columns!\n",
    "# cool, no?!\n",
    "df.loc[[3,5],['name','sex']]"
   ]
  },
  {
   "cell_type": "code",
   "execution_count": null,
   "id": "ecd83bc2",
   "metadata": {
    "slideshow": {
     "slide_type": "slide"
    }
   },
   "outputs": [],
   "source": [
    "# you can combine multiple indexing strategies, i.e. slicing and fancy indexing\n",
    "df.loc[3:5,['name','sex']]"
   ]
  },
  {
   "cell_type": "markdown",
   "id": "589be12a",
   "metadata": {
    "slideshow": {
     "slide_type": "slide"
    }
   },
   "source": [
    "## Masking\n",
    "\n",
    "Another technique for selecting relevant information (which will be often useful) is called **masking**. In this scenario, \n",
    "- we define a boolean expression (i.e. one which evaluates to `True` or `False`)\n",
    "- apply it to a column\n",
    "- select all rows that evaluate to `True`.\n",
    "\n",
    "Below we show how this works for selecting "
   ]
  },
  {
   "cell_type": "code",
   "execution_count": null,
   "id": "52c4e4fb",
   "metadata": {
    "slideshow": {
     "slide_type": "slide"
    }
   },
   "outputs": [],
   "source": [
    "# first we inspect the data type\n",
    "df.year.dtype"
   ]
  },
  {
   "cell_type": "code",
   "execution_count": null,
   "id": "13a2cd01",
   "metadata": {
    "slideshow": {
     "slide_type": "fragment"
    }
   },
   "outputs": [],
   "source": [
    "# we formulate a boolean expression\n",
    "year = 1899\n",
    "print(f'{year} > 1900 = ', year > 1900)\n",
    "print(f'{year} > 1900 = ', year < 1900)"
   ]
  },
  {
   "cell_type": "markdown",
   "id": "9c65416e",
   "metadata": {
    "slideshow": {
     "slide_type": "slide"
    }
   },
   "source": [
    "We can apply this expression to a column, which returns a series with the boolean value for each row index.\n",
    "This series we use as a **mask** for selecting rows in the dataframe."
   ]
  },
  {
   "cell_type": "code",
   "execution_count": null,
   "id": "8882b96f",
   "metadata": {
    "slideshow": {
     "slide_type": "fragment"
    }
   },
   "outputs": [],
   "source": [
    "df['year'] > 1900"
   ]
  },
  {
   "cell_type": "markdown",
   "id": "baafa23c",
   "metadata": {
    "slideshow": {
     "slide_type": "slide"
    }
   },
   "source": [
    "In Python `False` is interpreted as zero and `True` as 1. To measure how many rows match a condition we can apply `sum` to a mask."
   ]
  },
  {
   "cell_type": "code",
   "execution_count": null,
   "id": "5d946550",
   "metadata": {
    "slideshow": {
     "slide_type": "fragment"
    }
   },
   "outputs": [],
   "source": [
    "# we have 1802468 row with names after 1900\n",
    "sum(df['year'] > 1900)"
   ]
  },
  {
   "cell_type": "code",
   "execution_count": null,
   "id": "8c4f8245",
   "metadata": {
    "slideshow": {
     "slide_type": "slide"
    }
   },
   "outputs": [],
   "source": [
    "# saving subset in a new dataframe\n",
    "# note that index does not start from zero!\n",
    "mask = df.year > 1900\n",
    "df_after_1900 = df[mask]\n",
    "df_after_1900"
   ]
  },
  {
   "cell_type": "code",
   "execution_count": null,
   "id": "c8effcbb",
   "metadata": {
    "slideshow": {
     "slide_type": "slide"
    }
   },
   "outputs": [],
   "source": [
    "sum(df['year'] > 1900) == df_after_1900.shape[0]"
   ]
  },
  {
   "cell_type": "markdown",
   "id": "ac8a8315",
   "metadata": {
    "slideshow": {
     "slide_type": "slide"
    }
   },
   "source": [
    "### ✏️ 4. Exercises:\n",
    "- What is the output of the code excerpt below?\n",
    "```python\n",
    "df['year'].between(1900,1910)\n",
    "```\n",
    "- can you adapt to select all years between 1950 and 1960 (all names from the fifties)"
   ]
  },
  {
   "cell_type": "code",
   "execution_count": null,
   "id": "8e82a1f6",
   "metadata": {
    "slideshow": {
     "slide_type": "slide"
    }
   },
   "outputs": [],
   "source": [
    "# type answer here"
   ]
  },
  {
   "cell_type": "markdown",
   "id": "0d0c0ac0",
   "metadata": {
    "slideshow": {
     "slide_type": "slide"
    }
   },
   "source": [
    "### ✏️ 5. Exercises:\n",
    "\n",
    "- Select all rows in which the value for the variable 'sex' is equal to 'F'\n",
    "- Save this in a new Python variable called `names_f`\n",
    "- How many rows does the dataframe `names_f` contain?\n",
    "- Repeat the same for male baby names. What is the gender balance (in terms of the number of rows in `df`, i.e. ignoring the frequency of each name."
   ]
  },
  {
   "cell_type": "code",
   "execution_count": null,
   "id": "36257a7d",
   "metadata": {},
   "outputs": [],
   "source": [
    "# type answer here"
   ]
  },
  {
   "cell_type": "markdown",
   "id": "2113c90c",
   "metadata": {
    "slideshow": {
     "slide_type": "slide"
    }
   },
   "source": [
    "## Inspecting columns\n",
    "\n",
    "Pandas provides you with multiple methods for **understanding** and **transforming** the content of a dataframe.\n",
    "\n",
    "`.unique()` lists all the unique values in a column. It is useful for getting a sense of the range of possible values of a column."
   ]
  },
  {
   "cell_type": "code",
   "execution_count": null,
   "id": "e7cea56c",
   "metadata": {
    "slideshow": {
     "slide_type": "fragment"
    }
   },
   "outputs": [],
   "source": [
    "df['sex'].unique()"
   ]
  },
  {
   "cell_type": "markdown",
   "id": "e451dedd",
   "metadata": {
    "slideshow": {
     "slide_type": "slide"
    }
   },
   "source": [
    "`.value_counts()` returns the frequency of each unique value in a column. Below, we count the name of 'male' and 'female' rows (which should give you the same results as the previous exercise on gender balance). \n",
    "\n",
    "Be careful with intrepretation here! Does this mean there are less female names in this dataframe?"
   ]
  },
  {
   "cell_type": "code",
   "execution_count": null,
   "id": "47c51149",
   "metadata": {
    "slideshow": {
     "slide_type": "fragment"
    }
   },
   "outputs": [],
   "source": [
    "df['sex'].value_counts()"
   ]
  },
  {
   "cell_type": "markdown",
   "id": "4c4f69b7",
   "metadata": {
    "slideshow": {
     "slide_type": "slide"
    }
   },
   "source": [
    "### ✏️ 6. Exercise.\n",
    "\n",
    "- Apply `.value_counts()` to the `\"year\"` column. What does this actually count?"
   ]
  },
  {
   "cell_type": "code",
   "execution_count": null,
   "id": "a116c05f",
   "metadata": {},
   "outputs": [],
   "source": [
    "# write your answer here"
   ]
  },
  {
   "cell_type": "markdown",
   "id": "5c734240",
   "metadata": {
    "slideshow": {
     "slide_type": "slide"
    }
   },
   "source": [
    "### ✏️ 7. Exercise.\n",
    "- Which female names have the \"longest runs\", i.e. tend to reappear every year since 1880."
   ]
  },
  {
   "cell_type": "code",
   "execution_count": null,
   "id": "9e887cf3",
   "metadata": {
    "slideshow": {
     "slide_type": "slide"
    }
   },
   "outputs": [],
   "source": [
    "# write your answer here"
   ]
  },
  {
   "cell_type": "markdown",
   "id": "27b23abe",
   "metadata": {
    "slideshow": {
     "slide_type": "slide"
    }
   },
   "source": [
    "## Visualising information with `.plot()`\n",
    "\n",
    "Visualisation is another strategy for better understanding your data."
   ]
  },
  {
   "cell_type": "code",
   "execution_count": null,
   "id": "64d2c3de",
   "metadata": {
    "slideshow": {
     "slide_type": "slide"
    }
   },
   "outputs": [],
   "source": [
    "# this figure shows the data in sorted by the of value counts\n",
    "df.year.value_counts().plot()"
   ]
  },
  {
   "cell_type": "code",
   "execution_count": null,
   "id": "5bfbbc67",
   "metadata": {
    "slideshow": {
     "slide_type": "slide"
    }
   },
   "outputs": [],
   "source": [
    "df.year.value_counts()[-50:-30]"
   ]
  },
  {
   "cell_type": "code",
   "execution_count": null,
   "id": "4479ffc3",
   "metadata": {
    "slideshow": {
     "slide_type": "slide"
    }
   },
   "outputs": [],
   "source": [
    "# this one shows the data sorted by year\n",
    "# again notice the sequence of methods\n",
    "# you can unpack this to understand what is happening at each stage\n",
    "df.year.value_counts().sort_index().plot()"
   ]
  },
  {
   "cell_type": "markdown",
   "id": "fe15956d",
   "metadata": {
    "slideshow": {
     "slide_type": "slide"
    }
   },
   "source": [
    "Other methods allow you to compute basic statistics for columns with numerical (or boolean!) values."
   ]
  },
  {
   "cell_type": "code",
   "execution_count": null,
   "id": "e8d79caf",
   "metadata": {
    "slideshow": {
     "slide_type": "fragment"
    }
   },
   "outputs": [],
   "source": [
    "df.frequency.mean()"
   ]
  },
  {
   "cell_type": "code",
   "execution_count": null,
   "id": "0982fe72",
   "metadata": {
    "slideshow": {
     "slide_type": "fragment"
    }
   },
   "outputs": [],
   "source": [
    "df.frequency.max()"
   ]
  },
  {
   "cell_type": "code",
   "execution_count": null,
   "id": "de9e1d2f",
   "metadata": {
    "slideshow": {
     "slide_type": "fragment"
    }
   },
   "outputs": [],
   "source": [
    "df.frequency.min()"
   ]
  },
  {
   "cell_type": "markdown",
   "id": "117df6d1",
   "metadata": {
    "slideshow": {
     "slide_type": "slide"
    }
   },
   "source": [
    "## Working with Text\n",
    "\n",
    "Okay, but this is a session about text processing not applied data science (even though, in practice you need both!). \n",
    "\n",
    "In what follows we will use Pandas' string methods to explore historical trends in the history of American baby names.\n",
    "\n",
    "Let's first have a look at the length of first names: are boys given longer names than girls?\n",
    "\n",
    "To measure the number of characters in a string you can use `len()`."
   ]
  },
  {
   "cell_type": "code",
   "execution_count": null,
   "id": "dffc49e3",
   "metadata": {
    "slideshow": {
     "slide_type": "fragment"
    }
   },
   "outputs": [],
   "source": [
    "len('Mary')"
   ]
  },
  {
   "cell_type": "markdown",
   "id": "1b0720be",
   "metadata": {
    "slideshow": {
     "slide_type": "slide"
    }
   },
   "source": [
    "We can apply `len()` to each value in the `'name'` cell. "
   ]
  },
  {
   "cell_type": "code",
   "execution_count": null,
   "id": "ba254bbd",
   "metadata": {
    "slideshow": {
     "slide_type": "fragment"
    }
   },
   "outputs": [],
   "source": [
    "# notice that we access names via the str attribute of the column\n",
    "# this returns a new series object \n",
    "df['name'].str.len()"
   ]
  },
  {
   "cell_type": "markdown",
   "id": "f711bd39",
   "metadata": {
    "slideshow": {
     "slide_type": "slide"
    }
   },
   "source": [
    "The above operation returns the length of each name but does not store the result. We'd like to save the length of each name in our main dataframe. For this we need to create a new column in which we store the output of `df['name'].str.len()`.  \n",
    "\n",
    "The syntax below may be confusing at first, but basically, we just store the length of each name in a column titled `'name_length'`."
   ]
  },
  {
   "cell_type": "code",
   "execution_count": null,
   "id": "4fa9ac53",
   "metadata": {
    "slideshow": {
     "slide_type": "fragment"
    }
   },
   "outputs": [],
   "source": [
    "\n",
    "df['name_length'] = df['name'].str.len()"
   ]
  },
  {
   "cell_type": "markdown",
   "id": "a787305a",
   "metadata": {
    "slideshow": {
     "slide_type": "slide"
    }
   },
   "source": [
    "Revisiting the original dataframe `df`, you'll notice that it now contains an extra column with the length of each name."
   ]
  },
  {
   "cell_type": "code",
   "execution_count": null,
   "id": "d7b0c550",
   "metadata": {
    "slideshow": {
     "slide_type": "fragment"
    }
   },
   "outputs": [],
   "source": [
    "df.head()"
   ]
  },
  {
   "cell_type": "markdown",
   "id": "cb57e838",
   "metadata": {
    "slideshow": {
     "slide_type": "slide"
    }
   },
   "source": [
    "### ✏️ 8. Exercise.\n",
    "\n",
    "Using `.sort_values()` we can investigate the longest surnames.\n",
    "\n",
    "Use the `help()` to print the docstring of the `.sort_values` method. Read it carefully and try to figure out how sort row by the length of the name."
   ]
  },
  {
   "cell_type": "code",
   "execution_count": null,
   "id": "9310b1e3",
   "metadata": {
    "slideshow": {
     "slide_type": "fragment"
    }
   },
   "outputs": [],
   "source": [
    "# type answer here"
   ]
  },
  {
   "cell_type": "markdown",
   "id": "d23228cb",
   "metadata": {
    "slideshow": {
     "slide_type": "slide"
    }
   },
   "source": [
    "## Combining conditions"
   ]
  },
  {
   "cell_type": "code",
   "execution_count": null,
   "id": "da6e608b",
   "metadata": {
    "slideshow": {
     "slide_type": "fragment"
    }
   },
   "outputs": [],
   "source": [
    "# endless options\n",
    "# for example all female names between 1940 and 1945\n",
    "df[(df.year.between(1940,1945)) & (df.sex=='F')]"
   ]
  },
  {
   "cell_type": "markdown",
   "id": "29705d45",
   "metadata": {
    "slideshow": {
     "slide_type": "slide"
    }
   },
   "source": [
    "# Selection and Aggregation\n",
    "\n",
    "By now we have enough skills to address more realistic research questions. For example, on average, are male names longer than female names (ignoring the frequency by which the names occur for now)?\n",
    "\n",
    "- compute the length of each name in the dataframe\n",
    "- for each value in sex, select all rows\n",
    "- compute the mean for the 'name_length' column\n",
    "\n",
    "We have discussed all these steps, and with minimal code you can start investigating this question."
   ]
  },
  {
   "cell_type": "code",
   "execution_count": null,
   "id": "b76e1a7d",
   "metadata": {
    "slideshow": {
     "slide_type": "fragment"
    }
   },
   "outputs": [],
   "source": [
    "avg_m = df[df.sex=='M'].name_length.mean()\n",
    "avg_f = df[df.sex=='F'].name_length.mean()\n",
    "print('Mean length of male names: ',round(avg_m,3),\n",
    "      '\\nMean length of female names: ',round( avg_f,3))"
   ]
  },
  {
   "cell_type": "markdown",
   "id": "4f777d8a",
   "metadata": {
    "slideshow": {
     "slide_type": "slide"
    }
   },
   "source": [
    "Of course, the various plot functions allow you to look more closely at gender different for example:"
   ]
  },
  {
   "cell_type": "code",
   "execution_count": null,
   "id": "2c3c28bc",
   "metadata": {
    "slideshow": {
     "slide_type": "fragment"
    }
   },
   "outputs": [],
   "source": [
    "df[df.sex=='M'].name_length.plot(kind='density',alpha=.75) # blue line\n",
    "df[df.sex=='F'].name_length.plot(kind='density',alpha=.75) # orange line"
   ]
  },
  {
   "cell_type": "markdown",
   "id": "0ea4c975",
   "metadata": {
    "slideshow": {
     "slide_type": "slide"
    }
   },
   "source": [
    "## .groupby()\n",
    "\n",
    "Grouping and aggregating data is a common operation. Pandas even offers tailord tool  `.groupby()` to facilitate comparison of subsets in a dataframe. [Jake VanderPlas](https://jakevdp.github.io/PythonDataScienceHandbook/), who wrote an excellent introduction to Pandas, has very helpfully visualized the workflow: "
   ]
  },
  {
   "cell_type": "markdown",
   "id": "8680a154",
   "metadata": {
    "slideshow": {
     "slide_type": "slide"
    }
   },
   "source": [
    "![grouby](https://jakevdp.github.io/PythonDataScienceHandbook/figures/03.08-split-apply-combine.png)"
   ]
  },
  {
   "cell_type": "markdown",
   "id": "cb669813",
   "metadata": {
    "slideshow": {
     "slide_type": "slide"
    }
   },
   "source": [
    "Following the previous example, **keys** are the values in the `sex` columns, and **values** are the length of each name."
   ]
  },
  {
   "cell_type": "code",
   "execution_count": null,
   "id": "69463fb7",
   "metadata": {
    "slideshow": {
     "slide_type": "fragment"
    }
   },
   "outputs": [],
   "source": [
    "df.groupby('sex').mean()"
   ]
  },
  {
   "cell_type": "code",
   "execution_count": null,
   "id": "e9cb9202",
   "metadata": {
    "slideshow": {
     "slide_type": "fragment"
    }
   },
   "outputs": [],
   "source": [
    "df.groupby('sex')['name_length'].mean()"
   ]
  },
  {
   "cell_type": "markdown",
   "id": "c1fea5af",
   "metadata": {
    "slideshow": {
     "slide_type": "slide"
    }
   },
   "source": [
    "### ✏️ 9. Exercise.\n",
    "\n",
    "Again ignoring the frequency by which names occur, are names getting longer or short over time? Plot the result as a timeline."
   ]
  },
  {
   "cell_type": "code",
   "execution_count": null,
   "id": "68b833a0",
   "metadata": {
    "slideshow": {
     "slide_type": "slide"
    }
   },
   "outputs": [],
   "source": [
    "# write your answer here"
   ]
  },
  {
   "cell_type": "markdown",
   "id": "4c1af70f",
   "metadata": {
    "slideshow": {
     "slide_type": "slide"
    }
   },
   "source": [
    "## Intermezzo: Hierarchical Index"
   ]
  },
  {
   "cell_type": "code",
   "execution_count": null,
   "id": "d50f2778",
   "metadata": {
    "slideshow": {
     "slide_type": "fragment"
    }
   },
   "outputs": [],
   "source": [
    "by_dec_sex = df.groupby(['year','sex'])['name_length'].mean()\n",
    "by_dec_sex"
   ]
  },
  {
   "cell_type": "code",
   "execution_count": null,
   "id": "9319d4cd",
   "metadata": {
    "slideshow": {
     "slide_type": "slide"
    }
   },
   "outputs": [],
   "source": [
    "by_dec_sex.loc[1880:1885]"
   ]
  },
  {
   "cell_type": "code",
   "execution_count": null,
   "id": "77be2404",
   "metadata": {
    "slideshow": {
     "slide_type": "slide"
    }
   },
   "outputs": [],
   "source": [
    "# get all female names between 1880 and 1888\n",
    "by_dec_sex.loc[1880:1885,'F']"
   ]
  },
  {
   "cell_type": "code",
   "execution_count": null,
   "id": "5749af94",
   "metadata": {
    "slideshow": {
     "slide_type": "slide"
    }
   },
   "outputs": [],
   "source": [
    "# you can plot the average name length by year\n",
    "by_dec_sex.loc[:,'F'].plot()\n",
    "by_dec_sex.loc[:,'M'].plot()"
   ]
  },
  {
   "cell_type": "code",
   "execution_count": null,
   "id": "af78f49d",
   "metadata": {
    "slideshow": {
     "slide_type": "slide"
    }
   },
   "outputs": [],
   "source": [
    "# a more elegant way is to use unstack\n",
    "by_dec_sex.unstack().plot()"
   ]
  },
  {
   "cell_type": "code",
   "execution_count": null,
   "id": "62c9b2e3",
   "metadata": {
    "slideshow": {
     "slide_type": "slide"
    }
   },
   "outputs": [],
   "source": [
    "# just FYI you can apply multiple aggregations at once\n",
    "df.groupby(['year','sex'])['name_length'].agg(['min','max','mean','median'])"
   ]
  },
  {
   "cell_type": "markdown",
   "id": "8310dd6b",
   "metadata": {},
   "source": [
    "## Trends over time"
   ]
  },
  {
   "cell_type": "code",
   "execution_count": null,
   "id": "8835a737",
   "metadata": {},
   "outputs": [],
   "source": [
    "df['end-n'] = df.name.str.endswith('n')"
   ]
  },
  {
   "cell_type": "code",
   "execution_count": null,
   "id": "b26b3aba",
   "metadata": {},
   "outputs": [],
   "source": [
    "df['end-n']"
   ]
  },
  {
   "cell_type": "code",
   "execution_count": null,
   "id": "2a937ddb",
   "metadata": {
    "slideshow": {
     "slide_type": "slide"
    }
   },
   "outputs": [],
   "source": [
    "df[df.sex=='M'].groupby('year')['end-n'].mean().plot()"
   ]
  },
  {
   "cell_type": "markdown",
   "id": "6412441b",
   "metadata": {
    "slideshow": {
     "slide_type": "slide"
    }
   },
   "source": [
    "## Apply and lambda functions\n",
    "\n",
    "String method do not always suffice, in this scenario we often use `lambda` function (or a normal one of course) in combination with apply. For example, what names contain no mare than two different characters? In Python we can formulate this as a boolean expression which evaluates if the length of the set of character is small or equal than two:"
   ]
  },
  {
   "cell_type": "code",
   "execution_count": null,
   "id": "69a9ec45",
   "metadata": {
    "slideshow": {
     "slide_type": "fragment"
    }
   },
   "outputs": [],
   "source": [
    "name = 'dddffff'\n",
    "len(set(name)) <= 2"
   ]
  },
  {
   "cell_type": "markdown",
   "id": "389e5c3c",
   "metadata": {
    "slideshow": {
     "slide_type": "slide"
    }
   },
   "source": [
    "Let's turn this in function. \n",
    "Let's turn this into an \n",
    "\n",
    "### ✏️ 10 Exercise!"
   ]
  },
  {
   "cell_type": "code",
   "execution_count": null,
   "id": "a3787ee1",
   "metadata": {
    "slideshow": {
     "slide_type": "fragment"
    }
   },
   "outputs": [],
   "source": [
    "# enter solution here"
   ]
  },
  {
   "cell_type": "markdown",
   "id": "0de8210a",
   "metadata": {
    "slideshow": {
     "slide_type": "slide"
    }
   },
   "source": [
    "In Python, we like to keep the number of lines small. We could write a more concise function using `lambda`."
   ]
  },
  {
   "cell_type": "code",
   "execution_count": null,
   "id": "7e8340f5",
   "metadata": {
    "slideshow": {
     "slide_type": "fragment"
    }
   },
   "outputs": [],
   "source": [
    "twochars = lambda x: len(set(x)) <= 2"
   ]
  },
  {
   "cell_type": "markdown",
   "id": "6a9e29fe",
   "metadata": {
    "slideshow": {
     "slide_type": "slide"
    }
   },
   "source": [
    " Now we can use the `.apply()` method to the `name` column. The will \"apply\" (duh) the function we created to each value in the name columns and return a `pd.Series` object."
   ]
  },
  {
   "cell_type": "code",
   "execution_count": null,
   "id": "d7419217",
   "metadata": {
    "slideshow": {
     "slide_type": "slide"
    }
   },
   "outputs": [],
   "source": [
    "df.name.apply(twochars)"
   ]
  },
  {
   "cell_type": "code",
   "execution_count": null,
   "id": "e65eadd3",
   "metadata": {
    "slideshow": {
     "slide_type": "slide"
    }
   },
   "outputs": [],
   "source": [
    "# we can use it as a mask\n",
    "df[df.name.apply(twochars)]"
   ]
  },
  {
   "cell_type": "code",
   "execution_count": null,
   "id": "f53f79ac",
   "metadata": {
    "slideshow": {
     "slide_type": "slide"
    }
   },
   "outputs": [],
   "source": [
    "# or save the result in a new column\n",
    "df['two_chars'] = df.name.apply(twochars)"
   ]
  },
  {
   "cell_type": "code",
   "execution_count": null,
   "id": "3f7f3ac4",
   "metadata": {
    "slideshow": {
     "slide_type": "slide"
    }
   },
   "outputs": [],
   "source": [
    "# and plot results over time\n",
    "df[df.sex=='M'].groupby('year')['two_chars'].mean().plot()\n",
    "df[df.sex=='F'].groupby('year')['two_chars'].mean().plot()"
   ]
  },
  {
   "cell_type": "markdown",
   "id": "e39ff4f1",
   "metadata": {
    "slideshow": {
     "slide_type": "slide"
    }
   },
   "source": [
    "### ✏️ 11. Exercise\n",
    "\n",
    "What about names starting with 'a' and ending with 'e'  have they become more frequent over time? Use a lambda function to answer this question!."
   ]
  },
  {
   "cell_type": "code",
   "execution_count": null,
   "id": "d3421410",
   "metadata": {
    "slideshow": {
     "slide_type": "fragment"
    }
   },
   "outputs": [],
   "source": [
    "# write solution here"
   ]
  },
  {
   "cell_type": "markdown",
   "id": "18e88171",
   "metadata": {
    "slideshow": {
     "slide_type": "slide"
    }
   },
   "source": [
    "## Type-token ration"
   ]
  },
  {
   "cell_type": "code",
   "execution_count": null,
   "id": "a152c9f9",
   "metadata": {
    "slideshow": {
     "slide_type": "slide"
    }
   },
   "outputs": [],
   "source": [
    "tt = lambda x: len(x) / x.sum()\n",
    "tt_by_year_sex = df.groupby(['year','sex'])['frequency'].apply(tt)"
   ]
  },
  {
   "cell_type": "code",
   "execution_count": null,
   "id": "3d7d8cef",
   "metadata": {
    "slideshow": {
     "slide_type": "slide"
    }
   },
   "outputs": [],
   "source": [
    "tt_by_year_sex.unstack().plot()"
   ]
  },
  {
   "cell_type": "markdown",
   "id": "ebdc0641",
   "metadata": {
    "slideshow": {
     "slide_type": "slide"
    }
   },
   "source": [
    "# Fin."
   ]
  }
 ],
 "metadata": {
  "celltoolbar": "Slideshow",
  "kernelspec": {
   "display_name": "Python 3 (ipykernel)",
   "language": "python",
   "name": "python3"
  },
  "language_info": {
   "codemirror_mode": {
    "name": "ipython",
    "version": 3
   },
   "file_extension": ".py",
   "mimetype": "text/x-python",
   "name": "python",
   "nbconvert_exporter": "python",
   "pygments_lexer": "ipython3",
   "version": "3.9.7"
  }
 },
 "nbformat": 4,
 "nbformat_minor": 5
}
