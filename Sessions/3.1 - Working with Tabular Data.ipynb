{
 "cells": [
  {
   "cell_type": "markdown",
   "id": "abef25e4",
   "metadata": {},
   "source": [
    "# Introduction\n",
    "\n",
    "So far we have discussed the basics of **programming** in Python and **text processing**.\n",
    "\n",
    "Text as python strings or `.txt` documents. \n",
    "\n",
    "In reality we encounter text in many different **formats**: in csv files, HTML or JSON. \n",
    "\n",
    "But also types of **access** can vary: we can retrieve data in different ways automatic download, web scraping, or API.\n",
    "\n",
    "Don't worry if many of these notions don't make sense at this point, we will cover them in more detail today!\n",
    "\n"
   ]
  },
  {
   "cell_type": "markdown",
   "id": "db3bc1dc",
   "metadata": {},
   "source": [
    "# Types of data\n",
    "\n",
    "## Unstructured Data\n",
    "\n",
    "Text is characterized as unstructured data as it comes as a sequences of characters. \n"
   ]
  },
  {
   "cell_type": "code",
   "execution_count": 17,
   "id": "d0256614",
   "metadata": {},
   "outputs": [],
   "source": [
    "text = 'This is not a sentence.'"
   ]
  },
  {
   "cell_type": "code",
   "execution_count": 18,
   "id": "d6bbcbcb",
   "metadata": {},
   "outputs": [
    {
     "data": {
      "text/plain": [
       "23"
      ]
     },
     "execution_count": 18,
     "metadata": {},
     "output_type": "execute_result"
    }
   ],
   "source": [
    "len(text)"
   ]
  },
  {
   "cell_type": "code",
   "execution_count": 19,
   "id": "1004a24a",
   "metadata": {},
   "outputs": [
    {
     "data": {
      "text/plain": [
       "'h'"
      ]
     },
     "execution_count": 19,
     "metadata": {},
     "output_type": "execute_result"
    }
   ],
   "source": [
    "text[1]"
   ]
  },
  {
   "cell_type": "markdown",
   "id": "726656ef",
   "metadata": {},
   "source": [
    "\n",
    "## Structured data"
   ]
  },
  {
   "cell_type": "code",
   "execution_count": 20,
   "id": "f610bbd6",
   "metadata": {},
   "outputs": [],
   "source": [
    "import pandas as pd"
   ]
  },
  {
   "cell_type": "code",
   "execution_count": 27,
   "id": "c3e886c3",
   "metadata": {},
   "outputs": [
    {
     "data": {
      "text/html": [
       "<div>\n",
       "<style scoped>\n",
       "    .dataframe tbody tr th:only-of-type {\n",
       "        vertical-align: middle;\n",
       "    }\n",
       "\n",
       "    .dataframe tbody tr th {\n",
       "        vertical-align: top;\n",
       "    }\n",
       "\n",
       "    .dataframe thead th {\n",
       "        text-align: right;\n",
       "    }\n",
       "</style>\n",
       "<table border=\"1\" class=\"dataframe\">\n",
       "  <thead>\n",
       "    <tr style=\"text-align: right;\">\n",
       "      <th></th>\n",
       "      <th>a</th>\n",
       "      <th>b</th>\n",
       "      <th>c</th>\n",
       "    </tr>\n",
       "  </thead>\n",
       "  <tbody>\n",
       "    <tr>\n",
       "      <th>1</th>\n",
       "      <td>1</td>\n",
       "      <td>2</td>\n",
       "      <td>1</td>\n",
       "    </tr>\n",
       "    <tr>\n",
       "      <th>2</th>\n",
       "      <td>1</td>\n",
       "      <td>2</td>\n",
       "      <td>0</td>\n",
       "    </tr>\n",
       "  </tbody>\n",
       "</table>\n",
       "</div>"
      ],
      "text/plain": [
       "   a  b  c\n",
       "1  1  2  1\n",
       "2  1  2  0"
      ]
     },
     "execution_count": 27,
     "metadata": {},
     "output_type": "execute_result"
    }
   ],
   "source": [
    "df = pd.DataFrame([[1,2,1],[1,2,0]],columns=['a','b','c'],index=[1,2])\n",
    "df"
   ]
  },
  {
   "cell_type": "code",
   "execution_count": 28,
   "id": "cfe6c607",
   "metadata": {},
   "outputs": [
    {
     "data": {
      "text/plain": [
       "a    1\n",
       "b    2\n",
       "c    1\n",
       "Name: 1, dtype: int64"
      ]
     },
     "execution_count": 28,
     "metadata": {},
     "output_type": "execute_result"
    }
   ],
   "source": [
    "df.iloc[0]"
   ]
  },
  {
   "cell_type": "code",
   "execution_count": 29,
   "id": "3f6ace39",
   "metadata": {},
   "outputs": [
    {
     "data": {
      "text/plain": [
       "1    1\n",
       "2    1\n",
       "Name: a, dtype: int64"
      ]
     },
     "execution_count": 29,
     "metadata": {},
     "output_type": "execute_result"
    }
   ],
   "source": [
    "df['a']"
   ]
  },
  {
   "cell_type": "markdown",
   "id": "f1f29945",
   "metadata": {},
   "source": [
    "## Semi-structured"
   ]
  },
  {
   "cell_type": "code",
   "execution_count": 34,
   "id": "7e4f5b01",
   "metadata": {},
   "outputs": [],
   "source": [
    "tweets = [{'tweet_id':\"gd3534dsfdf23r\",'tweet_text':'tweettweet :-)','user_id':'123409'},\n",
    "          {'tweet_id' :\"sdd23ew343dfs\",'tweet_text':'ello! :-)  :-)','user_id':'123343'}]"
   ]
  },
  {
   "cell_type": "code",
   "execution_count": 35,
   "id": "aec6c381",
   "metadata": {},
   "outputs": [
    {
     "data": {
      "text/plain": [
       "'tweettweet :-)'"
      ]
     },
     "execution_count": 35,
     "metadata": {},
     "output_type": "execute_result"
    }
   ],
   "source": [
    "tweets[0]['tweet_text']"
   ]
  },
  {
   "cell_type": "markdown",
   "id": "4b48c26e",
   "metadata": {},
   "source": [
    "## Text as Tabular Data\n",
    "\n",
    "Today we first focus on working with text in a tabular format, a very commom form of semi-structured data.\n",
    "\n",
    "Tabular data often provides contextual information about a text\n",
    "\n",
    "- Names\n",
    "- Accidents: Studying the occurence of **accidents** in the 19th century newspapers. "
   ]
  },
  {
   "cell_type": "markdown",
   "id": "59daffad",
   "metadata": {},
   "source": [
    "## Names"
   ]
  },
  {
   "cell_type": "code",
   "execution_count": 54,
   "id": "bec55ec1",
   "metadata": {},
   "outputs": [
    {
     "ename": "NameError",
     "evalue": "name 'The' is not defined",
     "output_type": "error",
     "traceback": [
      "\u001b[0;31m---------------------------------------------------------------------------\u001b[0m",
      "\u001b[0;31mNameError\u001b[0m                                 Traceback (most recent call last)",
      "Input \u001b[0;32mIn [54]\u001b[0m, in \u001b[0;36m<cell line: 1>\u001b[0;34m()\u001b[0m\n\u001b[0;32m----> 1\u001b[0m \u001b[43mThe\u001b[49m\n",
      "\u001b[0;31mNameError\u001b[0m: name 'The' is not defined"
     ]
    }
   ],
   "source": [
    "The "
   ]
  },
  {
   "cell_type": "code",
   "execution_count": 41,
   "id": "1c1747a1",
   "metadata": {},
   "outputs": [
    {
     "name": "stdout",
     "output_type": "stream",
     "text": [
      "--2022-06-24 10:25:35--  https://zenodo.org/record/3560761/files/data.zip?download=1\n",
      "Resolving zenodo.org (zenodo.org)... 137.138.76.77\n",
      "Connecting to zenodo.org (zenodo.org)|137.138.76.77|:443... connected.\n",
      "HTTP request sent, awaiting response... 200 OK\n",
      "Length: 408933742 (390M) [application/octet-stream]\n",
      "Saving to: ‘data.zip’\n",
      "\n",
      "data.zip            100%[===================>] 389.99M  2.88MB/s    in 2m 15s  \n",
      "\n",
      "2022-06-24 10:27:51 (2.88 MB/s) - ‘data.zip’ saved [408933742/408933742]\n",
      "\n"
     ]
    }
   ],
   "source": [
    "!wget -O data.zip \"https://zenodo.org/record/3560761/files/data.zip?download=1\""
   ]
  },
  {
   "cell_type": "code",
   "execution_count": 48,
   "id": "e02f4382",
   "metadata": {},
   "outputs": [],
   "source": [
    "!mkdir data"
   ]
  },
  {
   "cell_type": "code",
   "execution_count": 49,
   "id": "9bd34ddb",
   "metadata": {},
   "outputs": [
    {
     "name": "stdout",
     "output_type": "stream",
     "text": [
      "Archive:  data.zip\n",
      "  inflating: data/README             \n",
      "   creating: data/04-working-with-data/\n",
      "   creating: data/04-working-with-data/data/\n",
      "  inflating: data/04-working-with-data/data/README  \n",
      "  inflating: data/04-working-with-data/data/names.csv  \n",
      "   creating: data/02-getting-data/\n",
      "   creating: data/02-getting-data/data/\n",
      "  inflating: data/02-getting-data/data/README  \n",
      "  inflating: data/02-getting-data/data/vangoghxml.tar.gz  \n",
      "  inflating: data/02-getting-data/data/vondel-stcn.csv  \n",
      "  inflating: data/02-getting-data/data/folger_shakespeare_collection.csv  \n",
      "   creating: data/02-getting-data/data/sonnets/\n",
      "  inflating: data/02-getting-data/data/sonnets/116.xml  \n",
      "  inflating: data/02-getting-data/data/sonnets/18.txt  \n",
      "  inflating: data/02-getting-data/data/sonnets/18.xml  \n",
      "  inflating: data/02-getting-data/data/sonnets/116.txt  \n",
      "  inflating: data/02-getting-data/data/macbeth.json  \n",
      "  inflating: data/02-getting-data/data/folger.tar.gz  \n",
      "  inflating: data/02-getting-data/data/anna-karenina.txt  \n",
      "   creating: data/02-getting-data/data/folger/\n",
      "   creating: data/02-getting-data/data/folger/pdf/\n",
      "  inflating: data/02-getting-data/data/folger/pdf/H8.pdf  \n",
      "  inflating: data/02-getting-data/data/folger/pdf/2H4.pdf  \n",
      "  inflating: data/02-getting-data/data/folger/pdf/LLL.pdf  \n",
      "  inflating: data/02-getting-data/data/folger/pdf/Cor.pdf  \n",
      "  inflating: data/02-getting-data/data/folger/pdf/Cym.pdf  \n",
      "  inflating: data/02-getting-data/data/folger/pdf/Tim.pdf  \n",
      "  inflating: data/02-getting-data/data/folger/pdf/JC.pdf  \n",
      "  inflating: data/02-getting-data/data/folger/pdf/Luc.pdf  \n",
      "  inflating: data/02-getting-data/data/folger/pdf/MV.pdf  \n",
      "  inflating: data/02-getting-data/data/folger/pdf/3H6.pdf  \n",
      "  inflating: data/02-getting-data/data/folger/pdf/Ven.pdf  \n",
      "  inflating: data/02-getting-data/data/folger/pdf/Mac.pdf  \n",
      "  inflating: data/02-getting-data/data/folger/pdf/Tmp.pdf  \n",
      "  inflating: data/02-getting-data/data/folger/pdf/Lr.pdf  \n",
      "  inflating: data/02-getting-data/data/folger/pdf/1H6.pdf  \n",
      "  inflating: data/02-getting-data/data/folger/pdf/Son.pdf  \n",
      "  inflating: data/02-getting-data/data/folger/pdf/Err.pdf  \n",
      "  inflating: data/02-getting-data/data/folger/pdf/Ham.pdf  \n",
      "  inflating: data/02-getting-data/data/folger/pdf/Tit.pdf  \n",
      "  inflating: data/02-getting-data/data/folger/pdf/Shr.pdf  \n",
      "  inflating: data/02-getting-data/data/folger/pdf/TGV.pdf  \n",
      "  inflating: data/02-getting-data/data/folger/pdf/Ado.pdf  \n",
      "  inflating: data/02-getting-data/data/folger/pdf/WT.pdf  \n",
      "  inflating: data/02-getting-data/data/folger/pdf/PhT.pdf  \n",
      "  inflating: data/02-getting-data/data/folger/pdf/H5.pdf  \n",
      "  inflating: data/02-getting-data/data/folger/pdf/Ant.pdf  \n",
      "  inflating: data/02-getting-data/data/folger/pdf/Wiv.pdf  \n",
      "  inflating: data/02-getting-data/data/folger/pdf/MND.pdf  \n",
      "  inflating: data/02-getting-data/data/folger/pdf/Tro.pdf  \n",
      "  inflating: data/02-getting-data/data/folger/pdf/Per.pdf  \n",
      "  inflating: data/02-getting-data/data/folger/pdf/1H4.pdf  \n",
      "  inflating: data/02-getting-data/data/folger/pdf/MM.pdf  \n",
      "  inflating: data/02-getting-data/data/folger/pdf/R3.pdf  \n",
      "  inflating: data/02-getting-data/data/folger/pdf/AWW.pdf  \n",
      "  inflating: data/02-getting-data/data/folger/pdf/Rom.pdf  \n",
      "  inflating: data/02-getting-data/data/folger/pdf/TN.pdf  \n",
      "  inflating: data/02-getting-data/data/folger/pdf/R2.pdf  \n",
      "  inflating: data/02-getting-data/data/folger/pdf/Oth.pdf  \n",
      "  inflating: data/02-getting-data/data/folger/pdf/Jn.pdf  \n",
      "  inflating: data/02-getting-data/data/folger/pdf/TNK.pdf  \n",
      "  inflating: data/02-getting-data/data/folger/pdf/AYL.pdf  \n",
      "  inflating: data/02-getting-data/data/folger/pdf/2H6.pdf  \n",
      "   creating: data/02-getting-data/data/folger/html/\n",
      "  inflating: data/02-getting-data/data/folger/html/MV.html  \n",
      "  inflating: data/02-getting-data/data/folger/html/H8titleblack.png  \n",
      "  inflating: data/02-getting-data/data/folger/html/tnktitleblack.png  \n",
      "  inflating: data/02-getting-data/data/folger/html/mmtitleblack.png  \n",
      "  inflating: data/02-getting-data/data/folger/html/1H6.html  \n",
      "  inflating: data/02-getting-data/data/folger/html/Per.html  \n",
      "  inflating: data/02-getting-data/data/folger/html/fdtpoems.xsl  \n",
      "  inflating: data/02-getting-data/data/folger/html/2H6titleblack.png  \n",
      "  inflating: data/02-getting-data/data/folger/html/errtitleblack.png  \n",
      "  inflating: data/02-getting-data/data/folger/html/Lr.html  \n",
      "  inflating: data/02-getting-data/data/folger/html/Ado.html  \n",
      "  inflating: data/02-getting-data/data/folger/html/3H6titleblack.png  \n",
      "  inflating: data/02-getting-data/data/folger/html/fdt.xsl  \n",
      "  inflating: data/02-getting-data/data/folger/html/1H4titleblack.png  \n",
      "  inflating: data/02-getting-data/data/folger/html/trotitleblack.png  \n",
      "  inflating: data/02-getting-data/data/folger/html/hamtitleblack.png  \n",
      "  inflating: data/02-getting-data/data/folger/html/1H4.html  \n",
      "  inflating: data/02-getting-data/data/folger/html/fdt.css  \n",
      "  inflating: data/02-getting-data/data/folger/html/Luctitleblack.png  \n",
      "  inflating: data/02-getting-data/data/folger/html/2H6.html  \n",
      "  inflating: data/02-getting-data/data/folger/html/TN.html  \n",
      "  inflating: data/02-getting-data/data/folger/html/lrtitleblack.png  \n",
      "  inflating: data/02-getting-data/data/folger/html/PhT.html  \n",
      "  inflating: data/02-getting-data/data/folger/html/AWW.html  \n",
      "  inflating: data/02-getting-data/data/folger/html/Err.html  \n",
      "  inflating: data/02-getting-data/data/folger/html/PhTtitleblack.png  \n",
      "  inflating: data/02-getting-data/data/folger/html/adotitleblack.png  \n",
      "  inflating: data/02-getting-data/data/folger/html/jntitleblack.png  \n",
      "  inflating: data/02-getting-data/data/folger/html/awwtitleblack.png  \n",
      "  inflating: data/02-getting-data/data/folger/html/Mac.html  \n",
      "  inflating: data/02-getting-data/data/folger/html/ayltitleblack.png  \n",
      "  inflating: data/02-getting-data/data/folger/html/R3.html  \n",
      "  inflating: data/02-getting-data/data/folger/html/romtitleblack.png  \n",
      "  inflating: data/02-getting-data/data/folger/html/2H4titleblack.png  \n",
      "  inflating: data/02-getting-data/data/folger/html/Tim.html  \n",
      "  inflating: data/02-getting-data/data/folger/html/Cymtitleblack.png  \n",
      "  inflating: data/02-getting-data/data/folger/html/LLL.html  \n",
      "  inflating: data/02-getting-data/data/folger/html/mndtitleblack.png  \n",
      "  inflating: data/02-getting-data/data/folger/html/AYL.html  \n",
      "  inflating: data/02-getting-data/data/folger/html/wttitleblack.png  \n",
      "  inflating: data/02-getting-data/data/folger/html/cortitleblack.png  \n",
      "  inflating: data/02-getting-data/data/folger/html/Cor.html  \n",
      "  inflating: data/02-getting-data/data/folger/html/jctitleblack.png  \n",
      "  inflating: data/02-getting-data/data/folger/html/r2titleblack.png  \n",
      "  inflating: data/02-getting-data/data/folger/html/Tit.html  \n",
      "  inflating: data/02-getting-data/data/folger/html/TNK.html  \n",
      "  inflating: data/02-getting-data/data/folger/html/r3titleblack.png  \n",
      "  inflating: data/02-getting-data/data/folger/html/WT.html  \n",
      "  inflating: data/02-getting-data/data/folger/html/tittitleblack.png  \n",
      "  inflating: data/02-getting-data/data/folger/html/shrtitleblack.png  \n",
      "  inflating: data/02-getting-data/data/folger/html/tmptitleblack.png  \n",
      "  inflating: data/02-getting-data/data/folger/html/Ham.html  \n",
      "  inflating: data/02-getting-data/data/folger/html/JC.html  \n",
      "  inflating: data/02-getting-data/data/folger/html/Tro.html  \n",
      "  inflating: data/02-getting-data/data/folger/html/Rom.html  \n",
      "  inflating: data/02-getting-data/data/folger/html/tgvtitleblack.png  \n",
      "  inflating: data/02-getting-data/data/folger/html/tntitleblack.png  \n",
      " extracting: data/02-getting-data/data/folger/html/fdt-texta-r.png  \n",
      "  inflating: data/02-getting-data/data/folger/html/Oth.html  \n",
      "  inflating: data/02-getting-data/data/folger/html/H8.html  \n",
      "  inflating: data/02-getting-data/data/folger/html/Sontitleblack.png  \n",
      "  inflating: data/02-getting-data/data/folger/html/mactitleblack.png  \n",
      "  inflating: data/02-getting-data/data/folger/html/3H6.html  \n",
      "  inflating: data/02-getting-data/data/folger/html/fdt-poem.css  \n",
      " extracting: data/02-getting-data/data/folger/html/fdt-emend-r.png  \n",
      "  inflating: data/02-getting-data/data/folger/html/LLLtitleblack.png  \n",
      "  inflating: data/02-getting-data/data/folger/html/Cym.html  \n",
      " extracting: data/02-getting-data/data/folger/html/fdt-bracket.png  \n",
      "  inflating: data/02-getting-data/data/folger/html/1H6titleblack.png  \n",
      "  inflating: data/02-getting-data/data/folger/html/Luc.html  \n",
      "  inflating: data/02-getting-data/data/folger/html/mvtitleblack.png  \n",
      " extracting: data/02-getting-data/data/folger/html/fdt-texta-l.png  \n",
      "  inflating: data/02-getting-data/data/folger/html/R2.html  \n",
      "  inflating: data/02-getting-data/data/folger/html/pertitleblack.png  \n"
     ]
    },
    {
     "name": "stdout",
     "output_type": "stream",
     "text": [
      "  inflating: data/02-getting-data/data/folger/html/H5.html  \n",
      " extracting: data/02-getting-data/data/folger/html/fdt-textb-r.png  \n",
      "  inflating: data/02-getting-data/data/folger/html/othtitleblack.png  \n",
      "  inflating: data/02-getting-data/data/folger/html/Anttitleblack.png  \n",
      " extracting: data/02-getting-data/data/folger/html/fdt-emend-l.png  \n",
      "  inflating: data/02-getting-data/data/folger/html/Ven.html  \n",
      "  inflating: data/02-getting-data/data/folger/html/TGV.html  \n",
      "  inflating: data/02-getting-data/data/folger/html/MND.html  \n",
      " extracting: data/02-getting-data/data/folger/html/fdt-textb-l.png  \n",
      "  inflating: data/02-getting-data/data/folger/html/Ant.html  \n",
      "  inflating: data/02-getting-data/data/folger/html/Ventitleblack.png  \n",
      "  inflating: data/02-getting-data/data/folger/html/Son.html  \n",
      "  inflating: data/02-getting-data/data/folger/html/Tmp.html  \n",
      "  inflating: data/02-getting-data/data/folger/html/Wiv.html  \n",
      "  inflating: data/02-getting-data/data/folger/html/wivtitleblack.png  \n",
      "  inflating: data/02-getting-data/data/folger/html/2H4.html  \n",
      "  inflating: data/02-getting-data/data/folger/html/MM.html  \n",
      "  inflating: data/02-getting-data/data/folger/html/Shr.html  \n",
      "  inflating: data/02-getting-data/data/folger/html/h5titleblack.png  \n",
      "  inflating: data/02-getting-data/data/folger/html/Jn.html  \n",
      "  inflating: data/02-getting-data/data/folger/html/timtitleblack.png  \n",
      "   creating: data/02-getting-data/data/folger/xml/\n",
      "  inflating: data/02-getting-data/data/folger/xml/H8titleblack.png  \n",
      "  inflating: data/02-getting-data/data/folger/xml/Cor.xml  \n",
      "  inflating: data/02-getting-data/data/folger/xml/tnktitleblack.png  \n",
      "  inflating: data/02-getting-data/data/folger/xml/mmtitleblack.png  \n",
      "  inflating: data/02-getting-data/data/folger/xml/TN.xml  \n",
      "  inflating: data/02-getting-data/data/folger/xml/Ant.xml  \n",
      "  inflating: data/02-getting-data/data/folger/xml/fdtpoems.xsl  \n",
      "  inflating: data/02-getting-data/data/folger/xml/2H6titleblack.png  \n",
      "  inflating: data/02-getting-data/data/folger/xml/errtitleblack.png  \n",
      "  inflating: data/02-getting-data/data/folger/xml/Jn.xml  \n",
      "  inflating: data/02-getting-data/data/folger/xml/3H6titleblack.png  \n",
      "  inflating: data/02-getting-data/data/folger/xml/fdt.xsl  \n",
      "  inflating: data/02-getting-data/data/folger/xml/1H4titleblack.png  \n",
      "  inflating: data/02-getting-data/data/folger/xml/Tim.xml  \n",
      "  inflating: data/02-getting-data/data/folger/xml/trotitleblack.png  \n",
      "  inflating: data/02-getting-data/data/folger/xml/hamtitleblack.png  \n",
      "  inflating: data/02-getting-data/data/folger/xml/Ham.xml  \n",
      "  inflating: data/02-getting-data/data/folger/xml/TNK.xml  \n",
      "  inflating: data/02-getting-data/data/folger/xml/Tmp.xml  \n",
      "  inflating: data/02-getting-data/data/folger/xml/fdt.css  \n",
      "  inflating: data/02-getting-data/data/folger/xml/Luctitleblack.png  \n",
      "  inflating: data/02-getting-data/data/folger/xml/3H6.xml  \n",
      "  inflating: data/02-getting-data/data/folger/xml/Err.xml  \n",
      "  inflating: data/02-getting-data/data/folger/xml/LLL.xml  \n",
      "  inflating: data/02-getting-data/data/folger/xml/lrtitleblack.png  \n",
      "  inflating: data/02-getting-data/data/folger/xml/1H6.xml  \n",
      "  inflating: data/02-getting-data/data/folger/xml/PhTtitleblack.png  \n",
      "  inflating: data/02-getting-data/data/folger/xml/adotitleblack.png  \n",
      "  inflating: data/02-getting-data/data/folger/xml/jntitleblack.png  \n",
      "  inflating: data/02-getting-data/data/folger/xml/H8.xml  \n",
      "  inflating: data/02-getting-data/data/folger/xml/awwtitleblack.png  \n",
      "  inflating: data/02-getting-data/data/folger/xml/ayltitleblack.png  \n",
      "  inflating: data/02-getting-data/data/folger/xml/romtitleblack.png  \n",
      "  inflating: data/02-getting-data/data/folger/xml/2H4titleblack.png  \n",
      "  inflating: data/02-getting-data/data/folger/xml/Cymtitleblack.png  \n",
      "  inflating: data/02-getting-data/data/folger/xml/Per.xml  \n",
      "  inflating: data/02-getting-data/data/folger/xml/mndtitleblack.png  \n",
      "  inflating: data/02-getting-data/data/folger/xml/wttitleblack.png  \n",
      "  inflating: data/02-getting-data/data/folger/xml/R3.xml  \n",
      "  inflating: data/02-getting-data/data/folger/xml/cortitleblack.png  \n",
      "  inflating: data/02-getting-data/data/folger/xml/jctitleblack.png  \n",
      "  inflating: data/02-getting-data/data/folger/xml/Ven.xml  \n",
      "  inflating: data/02-getting-data/data/folger/xml/Tit.xml  \n",
      "  inflating: data/02-getting-data/data/folger/xml/r2titleblack.png  \n",
      "  inflating: data/02-getting-data/data/folger/xml/Son.xml  \n",
      "  inflating: data/02-getting-data/data/folger/xml/r3titleblack.png  \n",
      "  inflating: data/02-getting-data/data/folger/xml/PhT.xml  \n",
      "  inflating: data/02-getting-data/data/folger/xml/AYL.xml  \n",
      "  inflating: data/02-getting-data/data/folger/xml/MM.xml  \n",
      "  inflating: data/02-getting-data/data/folger/xml/tittitleblack.png  \n",
      "  inflating: data/02-getting-data/data/folger/xml/shrtitleblack.png  \n",
      "  inflating: data/02-getting-data/data/folger/xml/tmptitleblack.png  \n",
      "  inflating: data/02-getting-data/data/folger/xml/tgvtitleblack.png  \n",
      "  inflating: data/02-getting-data/data/folger/xml/tntitleblack.png  \n",
      " extracting: data/02-getting-data/data/folger/xml/fdt-texta-r.png  \n",
      "  inflating: data/02-getting-data/data/folger/xml/TGV.xml  \n",
      "  inflating: data/02-getting-data/data/folger/xml/Cym.xml  \n",
      "  inflating: data/02-getting-data/data/folger/xml/Oth.xml  \n",
      "  inflating: data/02-getting-data/data/folger/xml/Tro.xml  \n",
      "  inflating: data/02-getting-data/data/folger/xml/Sontitleblack.png  \n",
      "  inflating: data/02-getting-data/data/folger/xml/R2.xml  \n",
      "  inflating: data/02-getting-data/data/folger/xml/mactitleblack.png  \n",
      "  inflating: data/02-getting-data/data/folger/xml/Mac.xml  \n",
      "  inflating: data/02-getting-data/data/folger/xml/fdt-poem.css  \n",
      " extracting: data/02-getting-data/data/folger/xml/fdt-emend-r.png  \n",
      "  inflating: data/02-getting-data/data/folger/xml/MV.xml  \n",
      "  inflating: data/02-getting-data/data/folger/xml/LLLtitleblack.png  \n",
      "  inflating: data/02-getting-data/data/folger/xml/JC.xml  \n",
      " extracting: data/02-getting-data/data/folger/xml/fdt-bracket.png  \n",
      "  inflating: data/02-getting-data/data/folger/xml/1H6titleblack.png  \n",
      "  inflating: data/02-getting-data/data/folger/xml/2H6.xml  \n",
      "  inflating: data/02-getting-data/data/folger/xml/Luc.xml  \n",
      "  inflating: data/02-getting-data/data/folger/xml/Lr.xml  \n",
      "  inflating: data/02-getting-data/data/folger/xml/mvtitleblack.png  \n",
      " extracting: data/02-getting-data/data/folger/xml/fdt-texta-l.png  \n",
      "  inflating: data/02-getting-data/data/folger/xml/Shr.xml  \n",
      "  inflating: data/02-getting-data/data/folger/xml/pertitleblack.png  \n",
      "  inflating: data/02-getting-data/data/folger/xml/H5.xml  \n",
      " extracting: data/02-getting-data/data/folger/xml/fdt-textb-r.png  \n",
      "  inflating: data/02-getting-data/data/folger/xml/WT.xml  \n",
      "  inflating: data/02-getting-data/data/folger/xml/Rom.xml  \n",
      "  inflating: data/02-getting-data/data/folger/xml/othtitleblack.png  \n",
      "  inflating: data/02-getting-data/data/folger/xml/Anttitleblack.png  \n",
      " extracting: data/02-getting-data/data/folger/xml/fdt-emend-l.png  \n",
      "  inflating: data/02-getting-data/data/folger/xml/Wiv.xml  \n",
      "  inflating: data/02-getting-data/data/folger/xml/AWW.xml  \n",
      " extracting: data/02-getting-data/data/folger/xml/fdt-textb-l.png  \n",
      "  inflating: data/02-getting-data/data/folger/xml/MND.xml  \n",
      "  inflating: data/02-getting-data/data/folger/xml/Ventitleblack.png  \n",
      "  inflating: data/02-getting-data/data/folger/xml/wivtitleblack.png  \n",
      "  inflating: data/02-getting-data/data/folger/xml/1H4.xml  \n",
      "  inflating: data/02-getting-data/data/folger/xml/2H4.xml  \n",
      "  inflating: data/02-getting-data/data/folger/xml/h5titleblack.png  \n",
      "  inflating: data/02-getting-data/data/folger/xml/Ado.xml  \n",
      "  inflating: data/02-getting-data/data/folger/xml/timtitleblack.png  \n",
      "   creating: data/02-getting-data/data/folger/txt/\n",
      "  inflating: data/02-getting-data/data/folger/txt/Oth.txt  \n",
      "  inflating: data/02-getting-data/data/folger/txt/Ham.txt  \n",
      "  inflating: data/02-getting-data/data/folger/txt/MND.txt  \n",
      "  inflating: data/02-getting-data/data/folger/txt/Per.txt  \n",
      "  inflating: data/02-getting-data/data/folger/txt/2H6.txt  \n",
      "  inflating: data/02-getting-data/data/folger/txt/Tit.txt  \n",
      "  inflating: data/02-getting-data/data/folger/txt/2H4.txt  \n",
      "  inflating: data/02-getting-data/data/folger/txt/Tmp.txt  \n",
      "  inflating: data/02-getting-data/data/folger/txt/MV.txt  \n",
      "  inflating: data/02-getting-data/data/folger/txt/Mac.txt  \n",
      "  inflating: data/02-getting-data/data/folger/txt/Err.txt  \n",
      "  inflating: data/02-getting-data/data/folger/txt/Tro.txt  \n",
      "  inflating: data/02-getting-data/data/folger/txt/1H6.txt  \n",
      "  inflating: data/02-getting-data/data/folger/txt/Cym.txt  \n",
      "  inflating: data/02-getting-data/data/folger/txt/AYL.txt  \n",
      "  inflating: data/02-getting-data/data/folger/txt/TGV.txt  \n",
      "  inflating: data/02-getting-data/data/folger/txt/Ado.txt  \n",
      "  inflating: data/02-getting-data/data/folger/txt/Ant.txt  \n",
      "  inflating: data/02-getting-data/data/folger/txt/H5.txt  \n",
      "  inflating: data/02-getting-data/data/folger/txt/MM.txt  \n",
      "  inflating: data/02-getting-data/data/folger/txt/PhT.txt  \n",
      "  inflating: data/02-getting-data/data/folger/txt/Wiv.txt  \n",
      "  inflating: data/02-getting-data/data/folger/txt/WT.txt  \n",
      "  inflating: data/02-getting-data/data/folger/txt/R2.txt  \n",
      "  inflating: data/02-getting-data/data/folger/txt/Tim.txt  \n",
      "  inflating: data/02-getting-data/data/folger/txt/Luc.txt  \n",
      "  inflating: data/02-getting-data/data/folger/txt/AWW.txt  \n",
      "  inflating: data/02-getting-data/data/folger/txt/3H6.txt  \n"
     ]
    },
    {
     "name": "stdout",
     "output_type": "stream",
     "text": [
      "  inflating: data/02-getting-data/data/folger/txt/Rom.txt  \n",
      "  inflating: data/02-getting-data/data/folger/txt/Shr.txt  \n",
      "  inflating: data/02-getting-data/data/folger/txt/R3.txt  \n",
      "  inflating: data/02-getting-data/data/folger/txt/JC.txt  \n",
      "  inflating: data/02-getting-data/data/folger/txt/TNK.txt  \n",
      "  inflating: data/02-getting-data/data/folger/txt/Son.txt  \n",
      "  inflating: data/02-getting-data/data/folger/txt/Ven.txt  \n",
      "  inflating: data/02-getting-data/data/folger/txt/TN.txt  \n",
      "  inflating: data/02-getting-data/data/folger/txt/Jn.txt  \n",
      "  inflating: data/02-getting-data/data/folger/txt/Lr.txt  \n",
      "  inflating: data/02-getting-data/data/folger/txt/1H4.txt  \n",
      "  inflating: data/02-getting-data/data/folger/txt/LLL.txt  \n",
      "  inflating: data/02-getting-data/data/folger/txt/Cor.txt  \n",
      "  inflating: data/02-getting-data/data/folger/txt/H8.txt  \n",
      "   creating: data/06-intro-probability/\n",
      "   creating: data/06-intro-probability/data/\n",
      "  inflating: data/06-intro-probability/data/federalist-83.txt  \n",
      "  inflating: data/06-intro-probability/data/README  \n",
      "  inflating: data/06-intro-probability/data/declaration-independence-pg16780.txt  \n",
      "  inflating: data/06-intro-probability/data/federalist-papers.csv  \n",
      "   creating: data/03-vector-space-model/\n",
      "   creating: data/03-vector-space-model/data/\n",
      "  inflating: data/03-vector-space-model/data/README  \n",
      "   creating: data/03-vector-space-model/data/theatre-classique/\n",
      "  inflating: data/03-vector-space-model/data/theatre-classique/604.xml  \n",
      "  inflating: data/03-vector-space-model/data/theatre-classique/700.xml  \n",
      "  inflating: data/03-vector-space-model/data/theatre-classique/668.xml  \n",
      "  inflating: data/03-vector-space-model/data/theatre-classique/108.xml  \n",
      "  inflating: data/03-vector-space-model/data/theatre-classique/390.xml  \n",
      "  inflating: data/03-vector-space-model/data/theatre-classique/475.xml  \n",
      "  inflating: data/03-vector-space-model/data/theatre-classique/281.xml  \n",
      "  inflating: data/03-vector-space-model/data/theatre-classique/528.xml  \n",
      "  inflating: data/03-vector-space-model/data/theatre-classique/406.xml  \n",
      "  inflating: data/03-vector-space-model/data/theatre-classique/86.xml  \n",
      "  inflating: data/03-vector-space-model/data/theatre-classique/578.xml  \n",
      "  inflating: data/03-vector-space-model/data/theatre-classique/542.xml  \n",
      "  inflating: data/03-vector-space-model/data/theatre-classique/301.xml  \n",
      "  inflating: data/03-vector-space-model/data/theatre-classique/334.xml  \n",
      "  inflating: data/03-vector-space-model/data/theatre-classique/637.xml  \n",
      "  inflating: data/03-vector-space-model/data/theatre-classique/325.xml  \n",
      "  inflating: data/03-vector-space-model/data/theatre-classique/366.xml  \n",
      "  inflating: data/03-vector-space-model/data/theatre-classique/0.xml  \n",
      "  inflating: data/03-vector-space-model/data/theatre-classique/404.xml  \n",
      "  inflating: data/03-vector-space-model/data/theatre-classique/300.xml  \n",
      "  inflating: data/03-vector-space-model/data/theatre-classique/523.xml  \n",
      "  inflating: data/03-vector-space-model/data/theatre-classique/638.xml  \n",
      "  inflating: data/03-vector-space-model/data/theatre-classique/194.xml  \n",
      "  inflating: data/03-vector-space-model/data/theatre-classique/503.xml  \n",
      "  inflating: data/03-vector-space-model/data/theatre-classique/588.xml  \n",
      "  inflating: data/03-vector-space-model/data/theatre-classique/251.xml  \n",
      "  inflating: data/03-vector-space-model/data/theatre-classique/321.xml  \n",
      "  inflating: data/03-vector-space-model/data/theatre-classique/236.xml  \n",
      "  inflating: data/03-vector-space-model/data/theatre-classique/649.xml  \n",
      "  inflating: data/03-vector-space-model/data/theatre-classique/393.xml  \n",
      "  inflating: data/03-vector-space-model/data/theatre-classique/532.xml  \n",
      "  inflating: data/03-vector-space-model/data/theatre-classique/226.xml  \n",
      "  inflating: data/03-vector-space-model/data/theatre-classique/565.xml  \n",
      "  inflating: data/03-vector-space-model/data/theatre-classique/74.xml  \n",
      "  inflating: data/03-vector-space-model/data/theatre-classique/640.xml  \n",
      "  inflating: data/03-vector-space-model/data/theatre-classique/112.xml  \n",
      "  inflating: data/03-vector-space-model/data/theatre-classique/623.xml  \n",
      "  inflating: data/03-vector-space-model/data/theatre-classique/507.xml  \n",
      "  inflating: data/03-vector-space-model/data/theatre-classique/633.xml  \n",
      "  inflating: data/03-vector-space-model/data/theatre-classique/69.xml  \n",
      "  inflating: data/03-vector-space-model/data/theatre-classique/368.xml  \n",
      "  inflating: data/03-vector-space-model/data/theatre-classique/318.xml  \n",
      "  inflating: data/03-vector-space-model/data/theatre-classique/496.xml  \n",
      "  inflating: data/03-vector-space-model/data/theatre-classique/382.xml  \n",
      "  inflating: data/03-vector-space-model/data/theatre-classique/669.xml  \n",
      "  inflating: data/03-vector-space-model/data/theatre-classique/645.xml  \n",
      "  inflating: data/03-vector-space-model/data/theatre-classique/569.xml  \n",
      "  inflating: data/03-vector-space-model/data/theatre-classique/116.xml  \n",
      "  inflating: data/03-vector-space-model/data/theatre-classique/402.xml  \n",
      "  inflating: data/03-vector-space-model/data/theatre-classique/482.xml  \n",
      "  inflating: data/03-vector-space-model/data/theatre-classique/630.xml  \n",
      "  inflating: data/03-vector-space-model/data/theatre-classique/660.xml  \n",
      "  inflating: data/03-vector-space-model/data/theatre-classique/106.xml  \n",
      "  inflating: data/03-vector-space-model/data/theatre-classique/461.xml  \n",
      "  inflating: data/03-vector-space-model/data/theatre-classique/82.xml  \n",
      "  inflating: data/03-vector-space-model/data/theatre-classique/561.xml  \n",
      "  inflating: data/03-vector-space-model/data/theatre-classique/364.xml  \n",
      "  inflating: data/03-vector-space-model/data/theatre-classique/346.xml  \n",
      "  inflating: data/03-vector-space-model/data/theatre-classique/33.xml  \n",
      "  inflating: data/03-vector-space-model/data/theatre-classique/217.xml  \n",
      "  inflating: data/03-vector-space-model/data/theatre-classique/121.xml  \n",
      "  inflating: data/03-vector-space-model/data/theatre-classique/712.xml  \n",
      "  inflating: data/03-vector-space-model/data/theatre-classique/63.xml  \n",
      "  inflating: data/03-vector-space-model/data/theatre-classique/255.xml  \n",
      "  inflating: data/03-vector-space-model/data/theatre-classique/541.xml  \n",
      "  inflating: data/03-vector-space-model/data/theatre-classique/403.xml  \n",
      "  inflating: data/03-vector-space-model/data/theatre-classique/491.xml  \n",
      "  inflating: data/03-vector-space-model/data/theatre-classique/316.xml  \n",
      "  inflating: data/03-vector-space-model/data/theatre-classique/377.xml  \n",
      "  inflating: data/03-vector-space-model/data/theatre-classique/518.xml  \n",
      "  inflating: data/03-vector-space-model/data/theatre-classique/444.xml  \n",
      "  inflating: data/03-vector-space-model/data/theatre-classique/420.xml  \n",
      "  inflating: data/03-vector-space-model/data/theatre-classique/330.xml  \n",
      "  inflating: data/03-vector-space-model/data/theatre-classique/666.xml  \n",
      "  inflating: data/03-vector-space-model/data/theatre-classique/591.xml  \n",
      "  inflating: data/03-vector-space-model/data/theatre-classique/200.xml  \n",
      "  inflating: data/03-vector-space-model/data/theatre-classique/92.xml  \n",
      "  inflating: data/03-vector-space-model/data/theatre-classique/378.xml  \n",
      "  inflating: data/03-vector-space-model/data/theatre-classique/370.xml  \n",
      "  inflating: data/03-vector-space-model/data/theatre-classique/66.xml  \n",
      "  inflating: data/03-vector-space-model/data/theatre-classique/511.xml  \n",
      "  inflating: data/03-vector-space-model/data/theatre-classique/447.xml  \n",
      "  inflating: data/03-vector-space-model/data/theatre-classique/333.xml  \n",
      "  inflating: data/03-vector-space-model/data/theatre-classique/546.xml  \n",
      "  inflating: data/03-vector-space-model/data/theatre-classique/495.xml  \n",
      "  inflating: data/03-vector-space-model/data/theatre-classique/357.xml  \n",
      "  inflating: data/03-vector-space-model/data/theatre-classique/103.xml  \n",
      "  inflating: data/03-vector-space-model/data/theatre-classique/10.xml  \n",
      "  inflating: data/03-vector-space-model/data/theatre-classique/696.xml  \n",
      "  inflating: data/03-vector-space-model/data/theatre-classique/367.xml  \n",
      "  inflating: data/03-vector-space-model/data/theatre-classique/514.xml  \n",
      "  inflating: data/03-vector-space-model/data/theatre-classique/568.xml  \n",
      "  inflating: data/03-vector-space-model/data/theatre-classique/27.xml  \n",
      "  inflating: data/03-vector-space-model/data/theatre-classique/242.xml  \n"
     ]
    },
    {
     "name": "stdout",
     "output_type": "stream",
     "text": [
      "  inflating: data/03-vector-space-model/data/theatre-classique/43.xml  \n",
      "  inflating: data/03-vector-space-model/data/theatre-classique/581.xml  \n",
      "  inflating: data/03-vector-space-model/data/theatre-classique/694.xml  \n",
      "  inflating: data/03-vector-space-model/data/theatre-classique/228.xml  \n",
      "  inflating: data/03-vector-space-model/data/theatre-classique/19.xml  \n",
      "  inflating: data/03-vector-space-model/data/theatre-classique/598.xml  \n",
      "  inflating: data/03-vector-space-model/data/theatre-classique/471.xml  \n",
      "  inflating: data/03-vector-space-model/data/theatre-classique/493.xml  \n",
      "  inflating: data/03-vector-space-model/data/theatre-classique/41.xml  \n",
      "  inflating: data/03-vector-space-model/data/theatre-classique/187.xml  \n",
      "  inflating: data/03-vector-space-model/data/theatre-classique/441.xml  \n",
      "  inflating: data/03-vector-space-model/data/theatre-classique/592.xml  \n",
      "  inflating: data/03-vector-space-model/data/theatre-classique/18.xml  \n",
      "  inflating: data/03-vector-space-model/data/theatre-classique/244.xml  \n",
      "  inflating: data/03-vector-space-model/data/theatre-classique/558.xml  \n",
      "  inflating: data/03-vector-space-model/data/theatre-classique/252.xml  \n",
      "  inflating: data/03-vector-space-model/data/theatre-classique/72.xml  \n",
      "  inflating: data/03-vector-space-model/data/theatre-classique/284.xml  \n",
      "  inflating: data/03-vector-space-model/data/theatre-classique/348.xml  \n",
      "  inflating: data/03-vector-space-model/data/theatre-classique/344.xml  \n",
      "  inflating: data/03-vector-space-model/data/theatre-classique/388.xml  \n",
      "  inflating: data/03-vector-space-model/data/theatre-classique/383.xml  \n",
      "  inflating: data/03-vector-space-model/data/theatre-classique/239.xml  \n",
      "  inflating: data/03-vector-space-model/data/theatre-classique/275.xml  \n",
      "  inflating: data/03-vector-space-model/data/theatre-classique/549.xml  \n",
      "  inflating: data/03-vector-space-model/data/theatre-classique/64.xml  \n",
      "  inflating: data/03-vector-space-model/data/theatre-classique/109.xml  \n",
      "  inflating: data/03-vector-space-model/data/theatre-classique/385.xml  \n",
      "  inflating: data/03-vector-space-model/data/theatre-classique/51.xml  \n",
      "  inflating: data/03-vector-space-model/data/theatre-classique/560.xml  \n",
      "  inflating: data/03-vector-space-model/data/theatre-classique/631.xml  \n",
      "  inflating: data/03-vector-space-model/data/theatre-classique/693.xml  \n",
      "  inflating: data/03-vector-space-model/data/theatre-classique/463.xml  \n",
      "  inflating: data/03-vector-space-model/data/theatre-classique/347.xml  \n",
      "  inflating: data/03-vector-space-model/data/theatre-classique/214.xml  \n",
      "  inflating: data/03-vector-space-model/data/theatre-classique/296.xml  \n",
      "  inflating: data/03-vector-space-model/data/theatre-classique/101.xml  \n",
      "  inflating: data/03-vector-space-model/data/theatre-classique/225.xml  \n",
      "  inflating: data/03-vector-space-model/data/theatre-classique/516.xml  \n",
      "  inflating: data/03-vector-space-model/data/theatre-classique/280.xml  \n",
      "  inflating: data/03-vector-space-model/data/theatre-classique/407.xml  \n",
      "  inflating: data/03-vector-space-model/data/theatre-classique/431.xml  \n",
      "  inflating: data/03-vector-space-model/data/theatre-classique/624.xml  \n",
      "  inflating: data/03-vector-space-model/data/theatre-classique/606.xml  \n",
      "  inflating: data/03-vector-space-model/data/theatre-classique/513.xml  \n",
      "  inflating: data/03-vector-space-model/data/theatre-classique/396.xml  \n",
      "  inflating: data/03-vector-space-model/data/theatre-classique/276.xml  \n",
      "  inflating: data/03-vector-space-model/data/theatre-classique/81.xml  \n",
      "  inflating: data/03-vector-space-model/data/theatre-classique/207.xml  \n",
      "  inflating: data/03-vector-space-model/data/theatre-classique/4.xml  \n",
      "  inflating: data/03-vector-space-model/data/theatre-classique/107.xml  \n",
      "  inflating: data/03-vector-space-model/data/theatre-classique/186.xml  \n",
      "  inflating: data/03-vector-space-model/data/theatre-classique/574.xml  \n",
      "  inflating: data/03-vector-space-model/data/theatre-classique/626.xml  \n",
      "  inflating: data/03-vector-space-model/data/theatre-classique/506.xml  \n",
      "  inflating: data/03-vector-space-model/data/theatre-classique/457.xml  \n",
      "  inflating: data/03-vector-space-model/data/theatre-classique/59.xml  \n",
      "  inflating: data/03-vector-space-model/data/theatre-classique/363.xml  \n",
      "  inflating: data/03-vector-space-model/data/theatre-classique/320.xml  \n",
      "  inflating: data/03-vector-space-model/data/theatre-classique/710.xml  \n",
      "  inflating: data/03-vector-space-model/data/theatre-classique/675.xml  \n",
      "  inflating: data/03-vector-space-model/data/theatre-classique/122.xml  \n",
      "  inflating: data/03-vector-space-model/data/theatre-classique/273.xml  \n",
      "  inflating: data/03-vector-space-model/data/theatre-classique/576.xml  \n",
      "  inflating: data/03-vector-space-model/data/theatre-classique/515.xml  \n",
      "  inflating: data/03-vector-space-model/data/theatre-classique/38.xml  \n",
      "  inflating: data/03-vector-space-model/data/theatre-classique/401.xml  \n",
      "  inflating: data/03-vector-space-model/data/theatre-classique/677.xml  \n",
      "  inflating: data/03-vector-space-model/data/theatre-classique/23.xml  \n",
      "  inflating: data/03-vector-space-model/data/theatre-classique/28.xml  \n",
      "  inflating: data/03-vector-space-model/data/theatre-classique/211.xml  \n",
      "  inflating: data/03-vector-space-model/data/theatre-classique/479.xml  \n",
      "  inflating: data/03-vector-space-model/data/theatre-classique/698.xml  \n",
      "  inflating: data/03-vector-space-model/data/theatre-classique/90.xml  \n",
      "  inflating: data/03-vector-space-model/data/theatre-classique/104.xml  \n",
      "  inflating: data/03-vector-space-model/data/theatre-classique/480.xml  \n",
      "  inflating: data/03-vector-space-model/data/theatre-classique/102.xml  \n",
      "  inflating: data/03-vector-space-model/data/theatre-classique/294.xml  \n",
      "  inflating: data/03-vector-space-model/data/theatre-classique/232.xml  \n",
      "  inflating: data/03-vector-space-model/data/theatre-classique/418.xml  \n",
      "  inflating: data/03-vector-space-model/data/theatre-classique/579.xml  \n",
      "  inflating: data/03-vector-space-model/data/theatre-classique/254.xml  \n",
      "  inflating: data/03-vector-space-model/data/theatre-classique/245.xml  \n",
      "  inflating: data/03-vector-space-model/data/theatre-classique/417.xml  \n",
      "  inflating: data/03-vector-space-model/data/theatre-classique/620.xml  \n",
      "  inflating: data/03-vector-space-model/data/theatre-classique/65.xml  \n",
      "  inflating: data/03-vector-space-model/data/theatre-classique/238.xml  \n",
      "  inflating: data/03-vector-space-model/data/theatre-classique/15.xml  \n",
      "  inflating: data/03-vector-space-model/data/theatre-classique/266.xml  \n",
      "  inflating: data/03-vector-space-model/data/theatre-classique/713.xml  \n",
      "  inflating: data/03-vector-space-model/data/theatre-classique/575.xml  \n",
      "  inflating: data/03-vector-space-model/data/theatre-classique/502.xml  \n",
      "  inflating: data/03-vector-space-model/data/theatre-classique/85.xml  \n",
      "  inflating: data/03-vector-space-model/data/theatre-classique/405.xml  \n",
      "  inflating: data/03-vector-space-model/data/theatre-classique/635.xml  \n",
      "  inflating: data/03-vector-space-model/data/theatre-classique/259.xml  \n",
      "  inflating: data/03-vector-space-model/data/theatre-classique/593.xml  \n",
      "  inflating: data/03-vector-space-model/data/theatre-classique/22.xml  \n",
      "  inflating: data/03-vector-space-model/data/theatre-classique/655.xml  \n",
      "  inflating: data/03-vector-space-model/data/theatre-classique/489.xml  \n",
      "  inflating: data/03-vector-space-model/data/theatre-classique/206.xml  \n",
      "  inflating: data/03-vector-space-model/data/theatre-classique/2.xml  \n",
      "  inflating: data/03-vector-space-model/data/theatre-classique/79.xml  \n",
      "  inflating: data/03-vector-space-model/data/theatre-classique/434.xml  \n",
      "  inflating: data/03-vector-space-model/data/theatre-classique/307.xml  \n",
      "  inflating: data/03-vector-space-model/data/theatre-classique/534.xml  \n",
      "  inflating: data/03-vector-space-model/data/theatre-classique/429.xml  \n",
      "  inflating: data/03-vector-space-model/data/theatre-classique/241.xml  \n",
      "  inflating: data/03-vector-space-model/data/theatre-classique/317.xml  \n",
      "  inflating: data/03-vector-space-model/data/theatre-classique/193.xml  \n",
      "  inflating: data/03-vector-space-model/data/theatre-classique/421.xml  \n",
      "  inflating: data/03-vector-space-model/data/theatre-classique/442.xml  \n",
      "  inflating: data/03-vector-space-model/data/theatre-classique/76.xml  \n",
      "  inflating: data/03-vector-space-model/data/theatre-classique/653.xml  \n",
      "  inflating: data/03-vector-space-model/data/theatre-classique/216.xml  \n",
      "  inflating: data/03-vector-space-model/data/theatre-classique/412.xml  \n",
      "  inflating: data/03-vector-space-model/data/theatre-classique/663.xml  \n",
      "  inflating: data/03-vector-space-model/data/theatre-classique/553.xml  \n",
      "  inflating: data/03-vector-space-model/data/theatre-classique/34.xml  \n",
      "  inflating: data/03-vector-space-model/data/theatre-classique/224.xml  \n",
      "  inflating: data/03-vector-space-model/data/theatre-classique/714.xml  \n",
      "  inflating: data/03-vector-space-model/data/theatre-classique/399.xml  \n",
      "  inflating: data/03-vector-space-model/data/theatre-classique/54.xml  \n",
      "  inflating: data/03-vector-space-model/data/theatre-classique/99.xml  \n"
     ]
    },
    {
     "name": "stdout",
     "output_type": "stream",
     "text": [
      "  inflating: data/03-vector-space-model/data/theatre-classique/555.xml  \n",
      "  inflating: data/03-vector-space-model/data/theatre-classique/438.xml  \n",
      "  inflating: data/03-vector-space-model/data/theatre-classique/312.xml  \n",
      "  inflating: data/03-vector-space-model/data/theatre-classique/223.xml  \n",
      "  inflating: data/03-vector-space-model/data/theatre-classique/505.xml  \n",
      "  inflating: data/03-vector-space-model/data/theatre-classique/290.xml  \n",
      "  inflating: data/03-vector-space-model/data/theatre-classique/607.xml  \n",
      "  inflating: data/03-vector-space-model/data/theatre-classique/543.xml  \n",
      "  inflating: data/03-vector-space-model/data/theatre-classique/564.xml  \n",
      "  inflating: data/03-vector-space-model/data/theatre-classique/702.xml  \n",
      "  inflating: data/03-vector-space-model/data/theatre-classique/512.xml  \n",
      "  inflating: data/03-vector-space-model/data/theatre-classique/204.xml  \n",
      "  inflating: data/03-vector-space-model/data/theatre-classique/692.xml  \n",
      "  inflating: data/03-vector-space-model/data/theatre-classique/621.xml  \n",
      "  inflating: data/03-vector-space-model/data/theatre-classique/195.xml  \n",
      "  inflating: data/03-vector-space-model/data/theatre-classique/634.xml  \n",
      "  inflating: data/03-vector-space-model/data/theatre-classique/658.xml  \n",
      "  inflating: data/03-vector-space-model/data/theatre-classique/566.xml  \n",
      "  inflating: data/03-vector-space-model/data/theatre-classique/509.xml  \n",
      "  inflating: data/03-vector-space-model/data/theatre-classique/610.xml  \n",
      "  inflating: data/03-vector-space-model/data/theatre-classique/110.xml  \n",
      "  inflating: data/03-vector-space-model/data/theatre-classique/435.xml  \n",
      "  inflating: data/03-vector-space-model/data/theatre-classique/676.xml  \n",
      "  inflating: data/03-vector-space-model/data/theatre-classique/596.xml  \n",
      "  inflating: data/03-vector-space-model/data/theatre-classique/552.xml  \n",
      "  inflating: data/03-vector-space-model/data/theatre-classique/577.xml  \n",
      "  inflating: data/03-vector-space-model/data/theatre-classique/643.xml  \n",
      "  inflating: data/03-vector-space-model/data/theatre-classique/450.xml  \n",
      "  inflating: data/03-vector-space-model/data/theatre-classique/711.xml  \n",
      "  inflating: data/03-vector-space-model/data/theatre-classique/379.xml  \n",
      "  inflating: data/03-vector-space-model/data/theatre-classique/343.xml  \n",
      "  inflating: data/03-vector-space-model/data/theatre-classique/270.xml  \n",
      "  inflating: data/03-vector-space-model/data/theatre-classique/425.xml  \n",
      "  inflating: data/03-vector-space-model/data/theatre-classique/389.xml  \n",
      "  inflating: data/03-vector-space-model/data/theatre-classique/595.xml  \n",
      "  inflating: data/03-vector-space-model/data/theatre-classique/517.xml  \n",
      "  inflating: data/03-vector-space-model/data/theatre-classique/557.xml  \n",
      "  inflating: data/03-vector-space-model/data/theatre-classique/529.xml  \n",
      "  inflating: data/03-vector-space-model/data/theatre-classique/94.xml  \n",
      "  inflating: data/03-vector-space-model/data/theatre-classique/629.xml  \n",
      "  inflating: data/03-vector-space-model/data/theatre-classique/119.xml  \n",
      "  inflating: data/03-vector-space-model/data/theatre-classique/599.xml  \n",
      "  inflating: data/03-vector-space-model/data/theatre-classique/243.xml  \n",
      "  inflating: data/03-vector-space-model/data/theatre-classique/282.xml  \n",
      "  inflating: data/03-vector-space-model/data/theatre-classique/221.xml  \n",
      "  inflating: data/03-vector-space-model/data/theatre-classique/331.xml  \n",
      "  inflating: data/03-vector-space-model/data/theatre-classique/355.xml  \n",
      "  inflating: data/03-vector-space-model/data/theatre-classique/53.xml  \n",
      "  inflating: data/03-vector-space-model/data/theatre-classique/659.xml  \n",
      "  inflating: data/03-vector-space-model/data/theatre-classique/292.xml  \n",
      "  inflating: data/03-vector-space-model/data/theatre-classique/351.xml  \n",
      "  inflating: data/03-vector-space-model/data/theatre-classique/625.xml  \n",
      "  inflating: data/03-vector-space-model/data/theatre-classique/9.xml  \n",
      "  inflating: data/03-vector-space-model/data/theatre-classique/115.xml  \n",
      "  inflating: data/03-vector-space-model/data/theatre-classique/272.xml  \n",
      "  inflating: data/03-vector-space-model/data/theatre-classique/486.xml  \n",
      "  inflating: data/03-vector-space-model/data/theatre-classique/473.xml  \n",
      "  inflating: data/03-vector-space-model/data/theatre-classique/24.xml  \n",
      "  inflating: data/03-vector-space-model/data/theatre-classique/424.xml  \n",
      "  inflating: data/03-vector-space-model/data/theatre-classique/233.xml  \n",
      "  inflating: data/03-vector-space-model/data/theatre-classique/58.xml  \n",
      "  inflating: data/03-vector-space-model/data/theatre-classique/229.xml  \n",
      "  inflating: data/03-vector-space-model/data/theatre-classique/613.xml  \n",
      "  inflating: data/03-vector-space-model/data/theatre-classique/651.xml  \n",
      "  inflating: data/03-vector-space-model/data/theatre-classique/384.xml  \n",
      "  inflating: data/03-vector-space-model/data/theatre-classique/267.xml  \n",
      "  inflating: data/03-vector-space-model/data/theatre-classique/646.xml  \n",
      "  inflating: data/03-vector-space-model/data/theatre-classique/601.xml  \n",
      "  inflating: data/03-vector-space-model/data/theatre-classique/26.xml  \n",
      "  inflating: data/03-vector-space-model/data/theatre-classique/3.xml  \n",
      "  inflating: data/03-vector-space-model/data/theatre-classique/386.xml  \n",
      "  inflating: data/03-vector-space-model/data/theatre-classique/124.xml  \n",
      "  inflating: data/03-vector-space-model/data/theatre-classique/526.xml  \n",
      "  inflating: data/03-vector-space-model/data/theatre-classique/288.xml  \n",
      "  inflating: data/03-vector-space-model/data/theatre-classique/443.xml  \n",
      "  inflating: data/03-vector-space-model/data/theatre-classique/299.xml  \n",
      "  inflating: data/03-vector-space-model/data/theatre-classique/409.xml  \n",
      "  inflating: data/03-vector-space-model/data/theatre-classique/548.xml  \n",
      "  inflating: data/03-vector-space-model/data/theatre-classique/113.xml  \n",
      "  inflating: data/03-vector-space-model/data/theatre-classique/46.xml  \n",
      "  inflating: data/03-vector-space-model/data/theatre-classique/338.xml  \n",
      "  inflating: data/03-vector-space-model/data/theatre-classique/612.xml  \n",
      "  inflating: data/03-vector-space-model/data/theatre-classique/427.xml  \n",
      "  inflating: data/03-vector-space-model/data/theatre-classique/336.xml  \n",
      "  inflating: data/03-vector-space-model/data/theatre-classique/501.xml  \n",
      "  inflating: data/03-vector-space-model/data/theatre-classique/391.xml  \n",
      "  inflating: data/03-vector-space-model/data/theatre-classique/369.xml  \n",
      "  inflating: data/03-vector-space-model/data/theatre-classique/559.xml  \n",
      "  inflating: data/03-vector-space-model/data/theatre-classique/688.xml  \n",
      "  inflating: data/03-vector-space-model/data/theatre-classique/484.xml  \n",
      "  inflating: data/03-vector-space-model/data/theatre-classique/100.xml  \n",
      "  inflating: data/03-vector-space-model/data/theatre-classique/499.xml  \n",
      "  inflating: data/03-vector-space-model/data/theatre-classique/249.xml  \n",
      "  inflating: data/03-vector-space-model/data/theatre-classique/472.xml  \n",
      "  inflating: data/03-vector-space-model/data/theatre-classique/707.xml  \n",
      "  inflating: data/03-vector-space-model/data/theatre-classique/687.xml  \n",
      "  inflating: data/03-vector-space-model/data/theatre-classique/50.xml  \n",
      "  inflating: data/03-vector-space-model/data/theatre-classique/353.xml  \n",
      "  inflating: data/03-vector-space-model/data/theatre-classique/44.xml  \n",
      "  inflating: data/03-vector-space-model/data/theatre-classique/654.xml  \n",
      "  inflating: data/03-vector-space-model/data/theatre-classique/641.xml  \n",
      "  inflating: data/03-vector-space-model/data/theatre-classique/71.xml  \n",
      "  inflating: data/03-vector-space-model/data/theatre-classique/237.xml  \n",
      "  inflating: data/03-vector-space-model/data/theatre-classique/268.xml  \n",
      "  inflating: data/03-vector-space-model/data/theatre-classique/547.xml  \n",
      "  inflating: data/03-vector-space-model/data/theatre-classique/522.xml  \n",
      "  inflating: data/03-vector-space-model/data/theatre-classique/359.xml  \n",
      "  inflating: data/03-vector-space-model/data/theatre-classique/188.xml  \n",
      "  inflating: data/03-vector-space-model/data/theatre-classique/395.xml  \n",
      "  inflating: data/03-vector-space-model/data/theatre-classique/602.xml  \n",
      "  inflating: data/03-vector-space-model/data/theatre-classique/682.xml  \n",
      "  inflating: data/03-vector-space-model/data/theatre-classique/199.xml  \n",
      "  inflating: data/03-vector-space-model/data/theatre-classique/661.xml  \n",
      "  inflating: data/03-vector-space-model/data/theatre-classique/192.xml  \n",
      "  inflating: data/03-vector-space-model/data/theatre-classique/544.xml  \n",
      "  inflating: data/03-vector-space-model/data/theatre-classique/673.xml  \n",
      "  inflating: data/03-vector-space-model/data/theatre-classique/436.xml  \n",
      "  inflating: data/03-vector-space-model/data/theatre-classique/80.xml  \n",
      "  inflating: data/03-vector-space-model/data/theatre-classique/455.xml  \n",
      "  inflating: data/03-vector-space-model/data/theatre-classique/609.xml  \n",
      "  inflating: data/03-vector-space-model/data/theatre-classique/271.xml  \n"
     ]
    },
    {
     "name": "stdout",
     "output_type": "stream",
     "text": [
      "  inflating: data/03-vector-space-model/data/theatre-classique/524.xml  \n",
      "  inflating: data/03-vector-space-model/data/theatre-classique/413.xml  \n",
      "  inflating: data/03-vector-space-model/data/theatre-classique/235.xml  \n",
      "  inflating: data/03-vector-space-model/data/theatre-classique/375.xml  \n",
      "  inflating: data/03-vector-space-model/data/theatre-classique/400.xml  \n",
      "  inflating: data/03-vector-space-model/data/theatre-classique/376.xml  \n",
      "  inflating: data/03-vector-space-model/data/theatre-classique/256.xml  \n",
      "  inflating: data/03-vector-space-model/data/theatre-classique/500.xml  \n",
      "  inflating: data/03-vector-space-model/data/theatre-classique/220.xml  \n",
      "  inflating: data/03-vector-space-model/data/theatre-classique/632.xml  \n",
      "  inflating: data/03-vector-space-model/data/theatre-classique/605.xml  \n",
      "  inflating: data/03-vector-space-model/data/theatre-classique/423.xml  \n",
      "  inflating: data/03-vector-space-model/data/theatre-classique/335.xml  \n",
      "  inflating: data/03-vector-space-model/data/theatre-classique/48.xml  \n",
      "  inflating: data/03-vector-space-model/data/theatre-classique/537.xml  \n",
      "  inflating: data/03-vector-space-model/data/theatre-classique/381.xml  \n",
      "  inflating: data/03-vector-space-model/data/theatre-classique/387.xml  \n",
      "  inflating: data/03-vector-space-model/data/theatre-classique/12.xml  \n",
      "  inflating: data/03-vector-space-model/data/theatre-classique/39.xml  \n",
      "  inflating: data/03-vector-space-model/data/theatre-classique/636.xml  \n",
      "  inflating: data/03-vector-space-model/data/theatre-classique/29.xml  \n",
      "  inflating: data/03-vector-space-model/data/theatre-classique/683.xml  \n",
      "  inflating: data/03-vector-space-model/data/theatre-classique/533.xml  \n",
      "  inflating: data/03-vector-space-model/data/theatre-classique/451.xml  \n",
      "  inflating: data/03-vector-space-model/data/theatre-classique/446.xml  \n",
      "  inflating: data/03-vector-space-model/data/theatre-classique/584.xml  \n",
      "  inflating: data/03-vector-space-model/data/theatre-classique/91.xml  \n",
      "  inflating: data/03-vector-space-model/data/theatre-classique/326.xml  \n",
      "  inflating: data/03-vector-space-model/data/theatre-classique/686.xml  \n",
      "  inflating: data/03-vector-space-model/data/theatre-classique/508.xml  \n",
      "  inflating: data/03-vector-space-model/data/theatre-classique/572.xml  \n",
      "  inflating: data/03-vector-space-model/data/theatre-classique/56.xml  \n",
      "  inflating: data/03-vector-space-model/data/theatre-classique/47.xml  \n",
      "  inflating: data/03-vector-space-model/data/theatre-classique/545.xml  \n",
      "  inflating: data/03-vector-space-model/data/theatre-classique/314.xml  \n",
      "  inflating: data/03-vector-space-model/data/theatre-classique/313.xml  \n",
      "  inflating: data/03-vector-space-model/data/theatre-classique/372.xml  \n",
      "  inflating: data/03-vector-space-model/data/theatre-classique/374.xml  \n",
      "  inflating: data/03-vector-space-model/data/theatre-classique/582.xml  \n",
      "  inflating: data/03-vector-space-model/data/theatre-classique/197.xml  \n",
      "  inflating: data/03-vector-space-model/data/theatre-classique/422.xml  \n",
      "  inflating: data/03-vector-space-model/data/theatre-classique/703.xml  \n",
      "  inflating: data/03-vector-space-model/data/theatre-classique/323.xml  \n",
      "  inflating: data/03-vector-space-model/data/theatre-classique/339.xml  \n",
      "  inflating: data/03-vector-space-model/data/theatre-classique/350.xml  \n",
      "  inflating: data/03-vector-space-model/data/theatre-classique/230.xml  \n",
      "  inflating: data/03-vector-space-model/data/theatre-classique/587.xml  \n",
      "  inflating: data/03-vector-space-model/data/theatre-classique/611.xml  \n",
      "  inflating: data/03-vector-space-model/data/theatre-classique/87.xml  \n",
      "  inflating: data/03-vector-space-model/data/theatre-classique/295.xml  \n",
      "  inflating: data/03-vector-space-model/data/theatre-classique/536.xml  \n",
      "  inflating: data/03-vector-space-model/data/theatre-classique/231.xml  \n",
      "  inflating: data/03-vector-space-model/data/theatre-classique/498.xml  \n",
      "  inflating: data/03-vector-space-model/data/theatre-classique/123.xml  \n",
      "  inflating: data/03-vector-space-model/data/theatre-classique/215.xml  \n",
      "  inflating: data/03-vector-space-model/data/theatre-classique/248.xml  \n",
      "  inflating: data/03-vector-space-model/data/theatre-classique/454.xml  \n",
      "  inflating: data/03-vector-space-model/data/theatre-classique/219.xml  \n",
      "  inflating: data/03-vector-space-model/data/theatre-classique/415.xml  \n",
      "  inflating: data/03-vector-space-model/data/theatre-classique/392.xml  \n",
      "  inflating: data/03-vector-space-model/data/theatre-classique/476.xml  \n",
      "  inflating: data/03-vector-space-model/data/theatre-classique/360.xml  \n",
      "  inflating: data/03-vector-space-model/data/theatre-classique/111.xml  \n",
      "  inflating: data/03-vector-space-model/data/theatre-classique/492.xml  \n",
      "  inflating: data/03-vector-space-model/data/theatre-classique/253.xml  \n",
      "  inflating: data/03-vector-space-model/data/theatre-classique/521.xml  \n",
      "  inflating: data/03-vector-space-model/data/theatre-classique/319.xml  \n",
      "  inflating: data/03-vector-space-model/data/theatre-classique/680.xml  \n",
      "  inflating: data/03-vector-space-model/data/theatre-classique/77.xml  \n",
      "  inflating: data/03-vector-space-model/data/theatre-classique/467.xml  \n",
      "  inflating: data/03-vector-space-model/data/theatre-classique/287.xml  \n",
      "  inflating: data/03-vector-space-model/data/theatre-classique/13.xml  \n",
      "  inflating: data/03-vector-space-model/data/theatre-classique/597.xml  \n",
      "  inflating: data/03-vector-space-model/data/theatre-classique/531.xml  \n",
      "  inflating: data/03-vector-space-model/data/theatre-classique/705.xml  \n",
      "  inflating: data/03-vector-space-model/data/theatre-classique/293.xml  \n",
      "  inflating: data/03-vector-space-model/data/theatre-classique/42.xml  \n",
      "  inflating: data/03-vector-space-model/data/theatre-classique/538.xml  \n",
      "  inflating: data/03-vector-space-model/data/theatre-classique/456.xml  \n",
      "  inflating: data/03-vector-space-model/data/theatre-classique/715.xml  \n",
      "  inflating: data/03-vector-space-model/data/theatre-classique/30.xml  \n",
      "  inflating: data/03-vector-space-model/data/theatre-classique/365.xml  \n",
      "  inflating: data/03-vector-space-model/data/theatre-classique/304.xml  \n",
      "  inflating: data/03-vector-space-model/data/theatre-classique/274.xml  \n",
      "  inflating: data/03-vector-space-model/data/theatre-classique/356.xml  \n",
      "  inflating: data/03-vector-space-model/data/theatre-classique/212.xml  \n",
      "  inflating: data/03-vector-space-model/data/theatre-classique/556.xml  \n",
      "  inflating: data/03-vector-space-model/data/theatre-classique/298.xml  \n",
      "  inflating: data/03-vector-space-model/data/theatre-classique/483.xml  \n",
      "  inflating: data/03-vector-space-model/data/theatre-classique/428.xml  \n",
      "  inflating: data/03-vector-space-model/data/theatre-classique/201.xml  \n",
      "  inflating: data/03-vector-space-model/data/theatre-classique/332.xml  \n",
      "  inflating: data/03-vector-space-model/data/theatre-classique/262.xml  \n",
      "  inflating: data/03-vector-space-model/data/theatre-classique/460.xml  \n",
      "  inflating: data/03-vector-space-model/data/theatre-classique/408.xml  \n",
      "  inflating: data/03-vector-space-model/data/theatre-classique/628.xml  \n",
      "  inflating: data/03-vector-space-model/data/theatre-classique/497.xml  \n",
      "  inflating: data/03-vector-space-model/data/theatre-classique/614.xml  \n",
      "  inflating: data/03-vector-space-model/data/theatre-classique/432.xml  \n",
      "  inflating: data/03-vector-space-model/data/theatre-classique/120.xml  \n",
      "  inflating: data/03-vector-space-model/data/theatre-classique/699.xml  \n",
      "  inflating: data/03-vector-space-model/data/theatre-classique/263.xml  \n",
      "  inflating: data/03-vector-space-model/data/theatre-classique/213.xml  \n",
      "  inflating: data/03-vector-space-model/data/theatre-classique/697.xml  \n",
      "  inflating: data/03-vector-space-model/data/theatre-classique/35.xml  \n",
      "  inflating: data/03-vector-space-model/data/theatre-classique/208.xml  \n",
      "  inflating: data/03-vector-space-model/data/theatre-classique/458.xml  \n",
      "  inflating: data/03-vector-space-model/data/theatre-classique/600.xml  \n",
      "  inflating: data/03-vector-space-model/data/theatre-classique/57.xml  \n",
      "  inflating: data/03-vector-space-model/data/theatre-classique/342.xml  \n",
      "  inflating: data/03-vector-space-model/data/theatre-classique/25.xml  \n",
      "  inflating: data/03-vector-space-model/data/theatre-classique/619.xml  \n",
      "  inflating: data/03-vector-space-model/data/theatre-classique/358.xml  \n",
      "  inflating: data/03-vector-space-model/data/theatre-classique/67.xml  \n",
      "  inflating: data/03-vector-space-model/data/theatre-classique/433.xml  \n",
      "  inflating: data/03-vector-space-model/data/theatre-classique/665.xml  \n",
      "  inflating: data/03-vector-space-model/data/theatre-classique/540.xml  \n",
      "  inflating: data/03-vector-space-model/data/theatre-classique/308.xml  \n",
      "  inflating: data/03-vector-space-model/data/theatre-classique/261.xml  \n",
      "  inflating: data/03-vector-space-model/data/theatre-classique/535.xml  \n",
      "  inflating: data/03-vector-space-model/data/theatre-classique/571.xml  \n",
      "  inflating: data/03-vector-space-model/data/theatre-classique/617.xml  \n",
      "  inflating: data/03-vector-space-model/data/theatre-classique/704.xml  \n",
      "  inflating: data/03-vector-space-model/data/theatre-classique/8.xml  \n",
      "  inflating: data/03-vector-space-model/data/theatre-classique/279.xml  \n",
      "  inflating: data/03-vector-space-model/data/theatre-classique/667.xml  \n",
      "  inflating: data/03-vector-space-model/data/theatre-classique/210.xml  \n",
      "  inflating: data/03-vector-space-model/data/theatre-classique/657.xml  \n",
      "  inflating: data/03-vector-space-model/data/theatre-classique/539.xml  \n",
      "  inflating: data/03-vector-space-model/data/theatre-classique/470.xml  \n",
      "  inflating: data/03-vector-space-model/data/theatre-classique/306.xml  \n",
      "  inflating: data/03-vector-space-model/data/theatre-classique/453.xml  \n",
      "  inflating: data/03-vector-space-model/data/theatre-classique/247.xml  \n",
      "  inflating: data/03-vector-space-model/data/theatre-classique/527.xml  \n",
      "  inflating: data/03-vector-space-model/data/theatre-classique/297.xml  \n",
      "  inflating: data/03-vector-space-model/data/theatre-classique/277.xml  \n",
      "  inflating: data/03-vector-space-model/data/theatre-classique/286.xml  \n",
      "  inflating: data/03-vector-space-model/data/theatre-classique/474.xml  \n",
      "  inflating: data/03-vector-space-model/data/theatre-classique/678.xml  \n",
      "  inflating: data/03-vector-space-model/data/theatre-classique/222.xml  \n"
     ]
    },
    {
     "name": "stdout",
     "output_type": "stream",
     "text": [
      "  inflating: data/03-vector-space-model/data/theatre-classique/426.xml  \n",
      "  inflating: data/03-vector-space-model/data/theatre-classique/202.xml  \n",
      "  inflating: data/03-vector-space-model/data/theatre-classique/97.xml  \n",
      "  inflating: data/03-vector-space-model/data/theatre-classique/21.xml  \n",
      "  inflating: data/03-vector-space-model/data/theatre-classique/510.xml  \n",
      "  inflating: data/03-vector-space-model/data/theatre-classique/324.xml  \n",
      "  inflating: data/03-vector-space-model/data/theatre-classique/95.xml  \n",
      "  inflating: data/03-vector-space-model/data/theatre-classique/258.xml  \n",
      "  inflating: data/03-vector-space-model/data/theatre-classique/75.xml  \n",
      "  inflating: data/03-vector-space-model/data/theatre-classique/269.xml  \n",
      "  inflating: data/03-vector-space-model/data/theatre-classique/32.xml  \n",
      "  inflating: data/03-vector-space-model/data/theatre-classique/586.xml  \n",
      "  inflating: data/03-vector-space-model/data/theatre-classique/305.xml  \n",
      "  inflating: data/03-vector-space-model/data/theatre-classique/494.xml  \n",
      "  inflating: data/03-vector-space-model/data/theatre-classique/373.xml  \n",
      "  inflating: data/03-vector-space-model/data/theatre-classique/83.xml  \n",
      "  inflating: data/03-vector-space-model/data/theatre-classique/504.xml  \n",
      "  inflating: data/03-vector-space-model/data/theatre-classique/327.xml  \n",
      "  inflating: data/03-vector-space-model/data/theatre-classique/203.xml  \n",
      "  inflating: data/03-vector-space-model/data/theatre-classique/644.xml  \n",
      "  inflating: data/03-vector-space-model/data/theatre-classique/62.xml  \n",
      "  inflating: data/03-vector-space-model/data/theatre-classique/419.xml  \n",
      "  inflating: data/03-vector-space-model/data/theatre-classique/397.xml  \n",
      "  inflating: data/03-vector-space-model/data/theatre-classique/468.xml  \n",
      "  inflating: data/03-vector-space-model/data/theatre-classique/371.xml  \n",
      "  inflating: data/03-vector-space-model/data/theatre-classique/322.xml  \n",
      "  inflating: data/03-vector-space-model/data/theatre-classique/190.xml  \n",
      "  inflating: data/03-vector-space-model/data/theatre-classique/191.xml  \n",
      "  inflating: data/03-vector-space-model/data/theatre-classique/459.xml  \n",
      "  inflating: data/03-vector-space-model/data/theatre-classique/278.xml  \n",
      "  inflating: data/03-vector-space-model/data/theatre-classique/257.xml  \n",
      "  inflating: data/03-vector-space-model/data/theatre-classique/448.xml  \n",
      "  inflating: data/03-vector-space-model/data/theatre-classique/618.xml  \n",
      "  inflating: data/03-vector-space-model/data/theatre-classique/691.xml  \n",
      "  inflating: data/03-vector-space-model/data/theatre-classique/603.xml  \n",
      "  inflating: data/03-vector-space-model/data/theatre-classique/594.xml  \n",
      "  inflating: data/03-vector-space-model/data/theatre-classique/40.xml  \n",
      "  inflating: data/03-vector-space-model/data/theatre-classique/616.xml  \n",
      "  inflating: data/03-vector-space-model/data/theatre-classique/585.xml  \n",
      "  inflating: data/03-vector-space-model/data/theatre-classique/17.xml  \n",
      "  inflating: data/03-vector-space-model/data/theatre-classique/701.xml  \n",
      "  inflating: data/03-vector-space-model/data/theatre-classique/573.xml  \n",
      "  inflating: data/03-vector-space-model/data/theatre-classique/5.xml  \n",
      "  inflating: data/03-vector-space-model/data/theatre-classique/315.xml  \n",
      "  inflating: data/03-vector-space-model/data/theatre-classique/352.xml  \n",
      "  inflating: data/03-vector-space-model/data/theatre-classique/469.xml  \n",
      "  inflating: data/03-vector-space-model/data/theatre-classique/20.xml  \n",
      "  inflating: data/03-vector-space-model/data/theatre-classique/234.xml  \n",
      "  inflating: data/03-vector-space-model/data/theatre-classique/662.xml  \n",
      "  inflating: data/03-vector-space-model/data/theatre-classique/410.xml  \n",
      "  inflating: data/03-vector-space-model/data/theatre-classique/664.xml  \n",
      "  inflating: data/03-vector-space-model/data/theatre-classique/289.xml  \n",
      "  inflating: data/03-vector-space-model/data/theatre-classique/14.xml  \n",
      "  inflating: data/03-vector-space-model/data/theatre-classique/114.xml  \n",
      "  inflating: data/03-vector-space-model/data/theatre-classique/84.xml  \n",
      "  inflating: data/03-vector-space-model/data/theatre-classique/551.xml  \n",
      "  inflating: data/03-vector-space-model/data/theatre-classique/45.xml  \n",
      "  inflating: data/03-vector-space-model/data/theatre-classique/583.xml  \n",
      "  inflating: data/03-vector-space-model/data/theatre-classique/681.xml  \n",
      "  inflating: data/03-vector-space-model/data/theatre-classique/98.xml  \n",
      "  inflating: data/03-vector-space-model/data/theatre-classique/55.xml  \n",
      "  inflating: data/03-vector-space-model/data/theatre-classique/189.xml  \n",
      "  inflating: data/03-vector-space-model/data/theatre-classique/196.xml  \n",
      "  inflating: data/03-vector-space-model/data/theatre-classique/264.xml  \n",
      "  inflating: data/03-vector-space-model/data/theatre-classique/695.xml  \n",
      "  inflating: data/03-vector-space-model/data/theatre-classique/445.xml  \n",
      "  inflating: data/03-vector-space-model/data/theatre-classique/437.xml  \n",
      "  inflating: data/03-vector-space-model/data/theatre-classique/674.xml  \n",
      "  inflating: data/03-vector-space-model/data/theatre-classique/345.xml  \n",
      "  inflating: data/03-vector-space-model/data/theatre-classique/608.xml  \n",
      "  inflating: data/03-vector-space-model/data/theatre-classique/398.xml  \n",
      "  inflating: data/03-vector-space-model/data/theatre-classique/652.xml  \n",
      "  inflating: data/03-vector-space-model/data/theatre-classique/709.xml  \n",
      "  inflating: data/03-vector-space-model/data/theatre-classique/285.xml  \n",
      "  inflating: data/03-vector-space-model/data/theatre-classique/478.xml  \n",
      "  inflating: data/03-vector-space-model/data/theatre-classique/567.xml  \n",
      "  inflating: data/03-vector-space-model/data/theatre-classique/354.xml  \n",
      "  inflating: data/03-vector-space-model/data/theatre-classique/481.xml  \n",
      "  inflating: data/03-vector-space-model/data/theatre-classique/650.xml  \n",
      "  inflating: data/03-vector-space-model/data/theatre-classique/562.xml  \n",
      "  inflating: data/03-vector-space-model/data/theatre-classique/570.xml  \n",
      "  inflating: data/03-vector-space-model/data/theatre-classique/554.xml  \n",
      "  inflating: data/03-vector-space-model/data/theatre-classique/52.xml  \n",
      "  inflating: data/03-vector-space-model/data/theatre-classique/716.xml  \n",
      "  inflating: data/03-vector-space-model/data/theatre-classique/648.xml  \n",
      "  inflating: data/03-vector-space-model/data/theatre-classique/440.xml  \n",
      "  inflating: data/03-vector-space-model/data/theatre-classique/311.xml  \n",
      "  inflating: data/03-vector-space-model/data/theatre-classique/198.xml  \n",
      "  inflating: data/03-vector-space-model/data/theatre-classique/465.xml  \n",
      "  inflating: data/03-vector-space-model/data/theatre-classique/60.xml  \n",
      "  inflating: data/03-vector-space-model/data/theatre-classique/31.xml  \n",
      "  inflating: data/03-vector-space-model/data/theatre-classique/580.xml  \n",
      "  inflating: data/03-vector-space-model/data/theatre-classique/449.xml  \n",
      "  inflating: data/03-vector-space-model/data/theatre-classique/672.xml  \n",
      "  inflating: data/03-vector-space-model/data/theatre-classique/328.xml  \n",
      "  inflating: data/03-vector-space-model/data/theatre-classique/439.xml  \n",
      "  inflating: data/03-vector-space-model/data/theatre-classique/291.xml  \n",
      "  inflating: data/03-vector-space-model/data/theatre-classique/70.xml  \n",
      "  inflating: data/03-vector-space-model/data/theatre-classique/61.xml  \n",
      "  inflating: data/03-vector-space-model/data/theatre-classique/490.xml  \n",
      "  inflating: data/03-vector-space-model/data/theatre-classique/627.xml  \n",
      "  inflating: data/03-vector-space-model/data/theatre-classique/6.xml  \n",
      "  inflating: data/03-vector-space-model/data/theatre-classique/488.xml  \n",
      "  inflating: data/03-vector-space-model/data/theatre-classique/205.xml  \n",
      "  inflating: data/03-vector-space-model/data/theatre-classique/530.xml  \n",
      "  inflating: data/03-vector-space-model/data/theatre-classique/49.xml  \n",
      "  inflating: data/03-vector-space-model/data/theatre-classique/487.xml  \n",
      "  inflating: data/03-vector-space-model/data/theatre-classique/93.xml  \n",
      "  inflating: data/03-vector-space-model/data/theatre-classique/78.xml  \n",
      "  inflating: data/03-vector-space-model/data/theatre-classique/485.xml  \n",
      "  inflating: data/03-vector-space-model/data/theatre-classique/706.xml  \n",
      "  inflating: data/03-vector-space-model/data/theatre-classique/466.xml  \n",
      "  inflating: data/03-vector-space-model/data/theatre-classique/642.xml  \n",
      "  inflating: data/03-vector-space-model/data/theatre-classique/16.xml  \n",
      "  inflating: data/03-vector-space-model/data/theatre-classique/684.xml  \n",
      "  inflating: data/03-vector-space-model/data/theatre-classique/227.xml  \n"
     ]
    },
    {
     "name": "stdout",
     "output_type": "stream",
     "text": [
      "  inflating: data/03-vector-space-model/data/theatre-classique/240.xml  \n",
      "  inflating: data/03-vector-space-model/data/theatre-classique/589.xml  \n",
      "  inflating: data/03-vector-space-model/data/theatre-classique/416.xml  \n",
      "  inflating: data/03-vector-space-model/data/theatre-classique/689.xml  \n",
      "  inflating: data/03-vector-space-model/data/theatre-classique/671.xml  \n",
      "  inflating: data/03-vector-space-model/data/theatre-classique/265.xml  \n",
      "  inflating: data/03-vector-space-model/data/theatre-classique/679.xml  \n",
      "  inflating: data/03-vector-space-model/data/theatre-classique/462.xml  \n",
      "  inflating: data/03-vector-space-model/data/theatre-classique/118.xml  \n",
      "  inflating: data/03-vector-space-model/data/theatre-classique/37.xml  \n",
      "  inflating: data/03-vector-space-model/data/theatre-classique/349.xml  \n",
      "  inflating: data/03-vector-space-model/data/theatre-classique/520.xml  \n",
      "  inflating: data/03-vector-space-model/data/theatre-classique/414.xml  \n",
      "  inflating: data/03-vector-space-model/data/theatre-classique/36.xml  \n",
      "  inflating: data/03-vector-space-model/data/theatre-classique/337.xml  \n",
      "  inflating: data/03-vector-space-model/data/theatre-classique/550.xml  \n",
      "  inflating: data/03-vector-space-model/data/theatre-classique/329.xml  \n",
      "  inflating: data/03-vector-space-model/data/theatre-classique/394.xml  \n",
      "  inflating: data/03-vector-space-model/data/theatre-classique/309.xml  \n",
      "  inflating: data/03-vector-space-model/data/theatre-classique/246.xml  \n",
      "  inflating: data/03-vector-space-model/data/theatre-classique/464.xml  \n",
      "  inflating: data/03-vector-space-model/data/theatre-classique/105.xml  \n",
      "  inflating: data/03-vector-space-model/data/theatre-classique/7.xml  \n",
      "  inflating: data/03-vector-space-model/data/theatre-classique/519.xml  \n",
      "  inflating: data/03-vector-space-model/data/theatre-classique/89.xml  \n",
      "  inflating: data/03-vector-space-model/data/theatre-classique/647.xml  \n",
      "  inflating: data/03-vector-space-model/data/theatre-classique/340.xml  \n",
      "  inflating: data/03-vector-space-model/data/theatre-classique/670.xml  \n",
      "  inflating: data/03-vector-space-model/data/theatre-classique/88.xml  \n",
      "  inflating: data/03-vector-space-model/data/theatre-classique/615.xml  \n",
      "  inflating: data/03-vector-space-model/data/theatre-classique/73.xml  \n",
      "  inflating: data/03-vector-space-model/data/theatre-classique/708.xml  \n",
      "  inflating: data/03-vector-space-model/data/theatre-classique/622.xml  \n",
      "  inflating: data/03-vector-space-model/data/theatre-classique/380.xml  \n",
      "  inflating: data/03-vector-space-model/data/theatre-classique/117.xml  \n",
      "  inflating: data/03-vector-space-model/data/theatre-classique/341.xml  \n",
      "  inflating: data/03-vector-space-model/data/theatre-classique/361.xml  \n",
      "  inflating: data/03-vector-space-model/data/theatre-classique/250.xml  \n",
      "  inflating: data/03-vector-space-model/data/theatre-classique/96.xml  \n",
      "  inflating: data/03-vector-space-model/data/theatre-classique/685.xml  \n",
      "  inflating: data/03-vector-space-model/data/theatre-classique/411.xml  \n",
      "  inflating: data/03-vector-space-model/data/theatre-classique/260.xml  \n",
      "  inflating: data/03-vector-space-model/data/theatre-classique/362.xml  \n",
      "  inflating: data/03-vector-space-model/data/theatre-classique/656.xml  \n",
      "  inflating: data/03-vector-space-model/data/theatre-classique/218.xml  \n",
      "  inflating: data/03-vector-space-model/data/theatre-classique/563.xml  \n",
      "  inflating: data/03-vector-space-model/data/theatre-classique/1.xml  \n",
      "  inflating: data/03-vector-space-model/data/theatre-classique/11.xml  \n",
      "  inflating: data/03-vector-space-model/data/theatre-classique/590.xml  \n",
      "  inflating: data/03-vector-space-model/data/theatre-classique/525.xml  \n",
      "  inflating: data/03-vector-space-model/data/chain-letters.csv  \n",
      "  inflating: data/03-vector-space-model/data/theatre-classique.tar.gz  \n",
      "   creating: data/01-introduction-cook-books/\n",
      "   creating: data/01-introduction-cook-books/data/\n",
      "  inflating: data/01-introduction-cook-books/data/README  \n",
      "  inflating: data/01-introduction-cook-books/data/aesop-wolf-dog.txt  \n",
      "  inflating: data/01-introduction-cook-books/data/feeding-america.csv  \n",
      "   creating: data/07-map-making/\n",
      "   creating: data/07-map-making/data/\n",
      "  inflating: data/07-map-making/data/README  \n",
      "  inflating: data/07-map-making/data/kristensen.csv  \n",
      "  inflating: data/07-map-making/data/st99_d00.shx  \n",
      "  inflating: data/07-map-making/data/st99_d00.dbf  \n",
      "  inflating: data/07-map-making/data/cwsac_battles_locations.pkl  \n",
      "  inflating: data/07-map-making/data/cwsac_battles.csv  \n",
      "   creating: data/07-map-making/data/denmark/\n",
      "  inflating: data/07-map-making/data/denmark/denmark.shx  \n",
      "  inflating: data/07-map-making/data/denmark/denmark.prj  \n",
      "  inflating: data/07-map-making/data/denmark/denmark.dbf  \n",
      "  inflating: data/07-map-making/data/denmark/denmark.qpj  \n",
      " extracting: data/07-map-making/data/denmark/denmark.cpg  \n",
      "  inflating: data/07-map-making/data/denmark/denmark.shp  \n",
      "  inflating: data/07-map-making/data/st99_d00.shp  \n",
      "   creating: data/09-topic-models/\n",
      "   creating: data/09-topic-models/data/\n",
      "  inflating: data/09-topic-models/data/old-bailey.csv.gz  \n",
      "  inflating: data/09-topic-models/data/SCDB_Legacy_03_caseCentered_Citation.csv.zip  \n",
      "  inflating: data/09-topic-models/data/README  \n",
      "  inflating: data/09-topic-models/data/E_Ferree_JuncosPre1950.xls  \n",
      "  inflating: data/09-topic-models/data/SCDB_2016_01_caseCentered_Citation.csv.zip  \n",
      "  inflating: data/09-topic-models/data/tate.csv.gz  \n",
      "  inflating: data/09-topic-models/data/supreme-court-opinions-by-author.jsonl.gz  \n",
      "   creating: data/05-statistics-essentials/\n",
      "   creating: data/05-statistics-essentials/data/\n",
      "  inflating: data/05-statistics-essentials/data/README  \n",
      "  inflating: data/05-statistics-essentials/data/tate.tar.gz  \n",
      "  inflating: data/05-statistics-essentials/data/tate.csv.gz  \n",
      "  inflating: data/05-statistics-essentials/data/GSS7214_R5.DTA.gz  \n",
      "   creating: data/08-stylometry/\n",
      "   creating: data/08-stylometry/data/\n",
      "  inflating: data/08-stylometry/data/README  \n",
      "  inflating: data/08-stylometry/data/hildegard.tar.gz  \n",
      "  inflating: data/08-stylometry/data/jack_the_ripper.tar.gz  \n",
      "   creating: data/08-stylometry/data/caesar/\n",
      "  inflating: data/08-stylometry/data/caesar/caesar_civ3_3.txt  \n",
      "  inflating: data/08-stylometry/data/caesar/caesar_gall7_8.txt  \n",
      "  inflating: data/08-stylometry/data/caesar/caesar_gall6_4.txt  \n",
      "  inflating: data/08-stylometry/data/caesar/caesar_gall1_3.txt  \n",
      "  inflating: data/08-stylometry/data/caesar/caesar_gall5_2.txt  \n",
      "  inflating: data/08-stylometry/data/caesar/caesar_gall5_1.txt  \n",
      "  inflating: data/08-stylometry/data/caesar/x_alex_10.txt  \n",
      "  inflating: data/08-stylometry/data/caesar/hirtius_gall8_4.txt  \n",
      "  inflating: data/08-stylometry/data/caesar/caesar_gall3_3.txt  \n",
      "  inflating: data/08-stylometry/data/caesar/caesar_gall5_5.txt  \n",
      "  inflating: data/08-stylometry/data/caesar/z_hispa_4.txt  \n",
      "  inflating: data/08-stylometry/data/caesar/hirtius_gall8_5.txt  \n",
      "  inflating: data/08-stylometry/data/caesar/caesar_gall4_4.txt  \n",
      "  inflating: data/08-stylometry/data/caesar/caesar_gall6_5.txt  \n",
      "  inflating: data/08-stylometry/data/caesar/caesar_civ3_6.txt  \n",
      "  inflating: data/08-stylometry/data/caesar/caesar_civ1_5.txt  \n",
      "  inflating: data/08-stylometry/data/caesar/x_alex_5.txt  \n",
      "  inflating: data/08-stylometry/data/caesar/caesar_gall7_10.txt  \n",
      "  inflating: data/08-stylometry/data/caesar/caesar_gall3_2.txt  \n",
      "  inflating: data/08-stylometry/data/caesar/caesar_civ2_4.txt  \n",
      "  inflating: data/08-stylometry/data/caesar/caesar_civ1_6.txt  \n",
      "  inflating: data/08-stylometry/data/caesar/caesar_gall4_3.txt  \n",
      "  inflating: data/08-stylometry/data/caesar/caesar_gall1_1.txt  \n",
      "  inflating: data/08-stylometry/data/caesar/caesar_gall3_1.txt  \n",
      "  inflating: data/08-stylometry/data/caesar/caesar_gall7_2.txt  \n",
      "  inflating: data/08-stylometry/data/caesar/caesar_gall5_6.txt  \n",
      "  inflating: data/08-stylometry/data/caesar/caesar_gall1_4.txt  \n",
      "  inflating: data/08-stylometry/data/caesar/caesar_gall6_1.txt  \n",
      "  inflating: data/08-stylometry/data/caesar/x_alex_8.txt  \n",
      "  inflating: data/08-stylometry/data/caesar/caesar_gall7_11.txt  \n",
      "  inflating: data/08-stylometry/data/caesar/x_alex_3.txt  \n",
      "  inflating: data/08-stylometry/data/caesar/x_alex_6.txt  \n",
      "  inflating: data/08-stylometry/data/caesar/caesar_civ2_1.txt  \n",
      "  inflating: data/08-stylometry/data/caesar/caesar_civ3_5.txt  \n",
      "  inflating: data/08-stylometry/data/caesar/caesar_civ3_10.txt  \n",
      "  inflating: data/08-stylometry/data/caesar/caesar_civ3_1.txt  \n",
      "  inflating: data/08-stylometry/data/caesar/caesar_civ1_10.txt  \n",
      "  inflating: data/08-stylometry/data/caesar/y_afric_8.txt  \n",
      "  inflating: data/08-stylometry/data/caesar/caesar_gall7_5.txt  \n",
      "  inflating: data/08-stylometry/data/caesar/z_hispa_2.txt  \n",
      "  inflating: data/08-stylometry/data/caesar/caesar_civ1_7.txt  \n",
      "  inflating: data/08-stylometry/data/caesar/caesar_gall7_7.txt  \n",
      "  inflating: data/08-stylometry/data/caesar/caesar_gall6_2.txt  \n",
      "  inflating: data/08-stylometry/data/caesar/caesar_gall5_3.txt  \n",
      "  inflating: data/08-stylometry/data/caesar/caesar_civ3_15.txt  \n",
      "  inflating: data/08-stylometry/data/caesar/caesar_gall1_6.txt  \n",
      "  inflating: data/08-stylometry/data/caesar/caesar_civ3_12.txt  \n",
      "  inflating: data/08-stylometry/data/caesar/hirtius_gall8_2.txt  \n",
      "  inflating: data/08-stylometry/data/caesar/caesar_civ1_3.txt  \n",
      "  inflating: data/08-stylometry/data/caesar/caesar_gall2_1.txt  \n",
      "  inflating: data/08-stylometry/data/caesar/y_afric_11.txt  \n",
      "  inflating: data/08-stylometry/data/caesar/hirtius_gall8_6.txt  \n",
      "  inflating: data/08-stylometry/data/caesar/x_alex_1.txt  \n",
      "  inflating: data/08-stylometry/data/caesar/caesar_civ3_7.txt  \n",
      "  inflating: data/08-stylometry/data/caesar/z_hispa_6.txt  \n",
      "  inflating: data/08-stylometry/data/caesar/caesar_civ2_2.txt  \n",
      "  inflating: data/08-stylometry/data/caesar/caesar_civ1_1.txt  \n",
      "  inflating: data/08-stylometry/data/caesar/caesar_civ3_11.txt  \n"
     ]
    },
    {
     "name": "stdout",
     "output_type": "stream",
     "text": [
      "  inflating: data/08-stylometry/data/caesar/caesar_gall2_3.txt  \n",
      "  inflating: data/08-stylometry/data/caesar/z_hispa_1.txt  \n",
      "  inflating: data/08-stylometry/data/caesar/y_afric_6.txt  \n",
      "  inflating: data/08-stylometry/data/caesar/x_alex_7.txt  \n",
      "  inflating: data/08-stylometry/data/caesar/caesar_gall1_5.txt  \n",
      "  inflating: data/08-stylometry/data/caesar/caesar_civ2_5.txt  \n",
      "  inflating: data/08-stylometry/data/caesar/caesar_civ1_9.txt  \n",
      "  inflating: data/08-stylometry/data/caesar/hirtius_gall8_1.txt  \n",
      "  inflating: data/08-stylometry/data/caesar/z_hispa_5.txt  \n",
      "  inflating: data/08-stylometry/data/caesar/y_afric_7.txt  \n",
      "  inflating: data/08-stylometry/data/caesar/y_afric_1.txt  \n",
      "  inflating: data/08-stylometry/data/caesar/caesar_civ1_4.txt  \n",
      "  inflating: data/08-stylometry/data/caesar/caesar_gall6_3.txt  \n",
      "  inflating: data/08-stylometry/data/caesar/caesar_gall7_3.txt  \n",
      "  inflating: data/08-stylometry/data/caesar/caesar_civ3_8.txt  \n",
      "  inflating: data/08-stylometry/data/caesar/caesar_civ2_6.txt  \n",
      "  inflating: data/08-stylometry/data/caesar/x_alex_2.txt  \n",
      "  inflating: data/08-stylometry/data/caesar/caesar_gall2_2.txt  \n",
      "  inflating: data/08-stylometry/data/caesar/y_afric_3.txt  \n",
      "  inflating: data/08-stylometry/data/caesar/caesar_gall7_4.txt  \n",
      "  inflating: data/08-stylometry/data/caesar/caesar_gall5_7.txt  \n",
      "  inflating: data/08-stylometry/data/caesar/caesar_gall1_7.txt  \n",
      "  inflating: data/08-stylometry/data/caesar/caesar_gall4_2.txt  \n",
      "  inflating: data/08-stylometry/data/caesar/z_hispa_3.txt  \n",
      "  inflating: data/08-stylometry/data/caesar/caesar_gall7_1.txt  \n",
      "  inflating: data/08-stylometry/data/caesar/y_afric_4.txt  \n",
      "  inflating: data/08-stylometry/data/caesar/x_alex_9.txt  \n",
      "  inflating: data/08-stylometry/data/caesar/caesar_gall1_2.txt  \n",
      "  inflating: data/08-stylometry/data/caesar/caesar_civ1_2.txt  \n",
      "  inflating: data/08-stylometry/data/caesar/caesar_gall7_9.txt  \n",
      "  inflating: data/08-stylometry/data/caesar/caesar_gall4_1.txt  \n",
      "  inflating: data/08-stylometry/data/caesar/caesar_gall5_4.txt  \n",
      "  inflating: data/08-stylometry/data/caesar/y_afric_5.txt  \n",
      "  inflating: data/08-stylometry/data/caesar/caesar_civ1_8.txt  \n",
      "  inflating: data/08-stylometry/data/caesar/x_alex_4.txt  \n",
      "  inflating: data/08-stylometry/data/caesar/y_afric_2.txt  \n",
      "  inflating: data/08-stylometry/data/caesar/caesar_civ3_2.txt  \n",
      "  inflating: data/08-stylometry/data/caesar/caesar_civ3_4.txt  \n",
      "  inflating: data/08-stylometry/data/caesar/y_afric_9.txt  \n",
      "  inflating: data/08-stylometry/data/caesar/caesar_gall1_8.txt  \n",
      "  inflating: data/08-stylometry/data/caesar/caesar_gall2_4.txt  \n",
      "  inflating: data/08-stylometry/data/caesar/hirtius_gall8_3.txt  \n",
      "  inflating: data/08-stylometry/data/caesar/caesar_civ3_14.txt  \n",
      "  inflating: data/08-stylometry/data/caesar/y_afric_12.txt  \n",
      "  inflating: data/08-stylometry/data/caesar/caesar_civ2_3.txt  \n",
      "  inflating: data/08-stylometry/data/caesar/caesar_gall7_6.txt  \n",
      "  inflating: data/08-stylometry/data/caesar/caesar_civ3_13.txt  \n",
      "  inflating: data/08-stylometry/data/caesar/caesar_civ3_9.txt  \n",
      "  inflating: data/08-stylometry/data/caesar/y_afric_10.txt  \n",
      "   creating: data/08-stylometry/data/hildegard/\n",
      "   creating: data/08-stylometry/data/hildegard/texts/\n",
      "  inflating: data/08-stylometry/data/hildegard/texts/B_ep.txt  \n",
      "  inflating: data/08-stylometry/data/hildegard/texts/H_epNG.txt  \n",
      "  inflating: data/08-stylometry/data/hildegard/texts/G_ep.txt  \n",
      "   creating: data/08-stylometry/data/hildegard/texts/test/\n",
      "  inflating: data/08-stylometry/data/hildegard/texts/test/B_Mart.txt  \n",
      "  inflating: data/08-stylometry/data/hildegard/texts/test/D_Missa.txt  \n",
      "  inflating: data/08-stylometry/data/hildegard/texts/test/D_Mart.txt  \n",
      "  inflating: data/08-stylometry/data/hildegard/wordlist.txt  \n",
      "  inflating: data/08-stylometry/data/caesar.tar.gz  \n"
     ]
    }
   ],
   "source": [
    "!unzip data.zip -d data"
   ]
  },
  {
   "cell_type": "code",
   "execution_count": 53,
   "id": "1ad3ab10",
   "metadata": {},
   "outputs": [
    {
     "name": "stdout",
     "output_type": "stream",
     "text": [
      "\u001b[34m01-introduction-cook-books\u001b[m\u001b[m \u001b[34m06-intro-probability\u001b[m\u001b[m\r\n",
      "\u001b[34m02-getting-data\u001b[m\u001b[m            \u001b[34m07-map-making\u001b[m\u001b[m\r\n",
      "\u001b[34m03-vector-space-model\u001b[m\u001b[m      \u001b[34m08-stylometry\u001b[m\u001b[m\r\n",
      "\u001b[34m04-working-with-data\u001b[m\u001b[m       \u001b[34m09-topic-models\u001b[m\u001b[m\r\n",
      "\u001b[34m05-statistics-essentials\u001b[m\u001b[m   README\r\n"
     ]
    }
   ],
   "source": [
    "!ls data"
   ]
  },
  {
   "cell_type": "code",
   "execution_count": 45,
   "id": "1f414ce2",
   "metadata": {},
   "outputs": [
    {
     "name": "stdout",
     "output_type": "stream",
     "text": [
      "README    names.csv\r\n"
     ]
    }
   ],
   "source": [
    "!ls 04-working-with-data/data/"
   ]
  },
  {
   "cell_type": "markdown",
   "id": "fe304919",
   "metadata": {},
   "source": [
    "## CSV files \n",
    "\n",
    "\"Parsing\" implicitly structured data."
   ]
  },
  {
   "cell_type": "code",
   "execution_count": 71,
   "id": "d65294f5",
   "metadata": {},
   "outputs": [
    {
     "name": "stdout",
     "output_type": "stream",
     "text": [
      "year,name,sex,frequency\r\n",
      "1880,Mary,F,7065\r\n",
      "1880,Anna,F,2604\r\n",
      "1880,Emma,F,2003\r\n",
      "1880,Elizabeth,F,1939\r\n",
      "1880,Minnie,F,1746\r\n",
      "1880,Margaret,F,1578\r\n",
      "1880,Ida,F,1472\r\n",
      "1880,Alice,F,1414\r\n",
      "1880,Bertha,F,1320\r\n"
     ]
    }
   ],
   "source": [
    "!head data/04-working-with-data/data/names.csv"
   ]
  },
  {
   "cell_type": "code",
   "execution_count": 64,
   "id": "31c63142",
   "metadata": {},
   "outputs": [],
   "source": [
    "with open('data/04-working-with-data/data/names.csv','r') as in_text:\n",
    "    text = in_text.read()"
   ]
  },
  {
   "cell_type": "code",
   "execution_count": 66,
   "id": "0ccea6e0",
   "metadata": {},
   "outputs": [
    {
     "data": {
      "text/plain": [
       "str"
      ]
     },
     "execution_count": 66,
     "metadata": {},
     "output_type": "execute_result"
    }
   ],
   "source": [
    "type(text)"
   ]
  },
  {
   "cell_type": "code",
   "execution_count": 70,
   "id": "c349166d",
   "metadata": {},
   "outputs": [
    {
     "data": {
      "text/plain": [
       "31414548"
      ]
     },
     "execution_count": 70,
     "metadata": {},
     "output_type": "execute_result"
    }
   ],
   "source": [
    "len(text)"
   ]
  },
  {
   "cell_type": "code",
   "execution_count": 67,
   "id": "aedf0a14",
   "metadata": {},
   "outputs": [
    {
     "data": {
      "text/plain": [
       "'year,name,sex,frequency\\n1880,Mary,F,7065\\n1880,Anna,F,2604\\n1880,Emma,F,2003\\n1880,Elizabeth,F,1939\\n188'"
      ]
     },
     "execution_count": 67,
     "metadata": {},
     "output_type": "execute_result"
    }
   ],
   "source": [
    "text[:100]"
   ]
  },
  {
   "cell_type": "code",
   "execution_count": 68,
   "id": "1d55bd61",
   "metadata": {},
   "outputs": [],
   "source": [
    "lines = text.split('\\n')"
   ]
  },
  {
   "cell_type": "code",
   "execution_count": 69,
   "id": "e14cb0b1",
   "metadata": {},
   "outputs": [
    {
     "data": {
      "text/plain": [
       "1858438"
      ]
     },
     "execution_count": 69,
     "metadata": {},
     "output_type": "execute_result"
    }
   ],
   "source": [
    "len(lines)"
   ]
  },
  {
   "cell_type": "code",
   "execution_count": 73,
   "id": "3a7d48d2",
   "metadata": {},
   "outputs": [
    {
     "data": {
      "text/plain": [
       "['1880', 'Emma', 'F', '2003']"
      ]
     },
     "execution_count": 73,
     "metadata": {},
     "output_type": "execute_result"
    }
   ],
   "source": [
    "data = [l.split(',') for l in lines]\n"
   ]
  },
  {
   "cell_type": "code",
   "execution_count": 75,
   "id": "4f81524f",
   "metadata": {},
   "outputs": [
    {
     "data": {
      "text/plain": [
       "['1880', 'Elizabeth', 'F', '1939']"
      ]
     },
     "execution_count": 75,
     "metadata": {},
     "output_type": "execute_result"
    }
   ],
   "source": [
    "data[4]"
   ]
  },
  {
   "cell_type": "code",
   "execution_count": 76,
   "id": "b5d436e9",
   "metadata": {},
   "outputs": [
    {
     "data": {
      "text/plain": [
       "'Elizabeth'"
      ]
     },
     "execution_count": 76,
     "metadata": {},
     "output_type": "execute_result"
    }
   ],
   "source": [
    "data[4][1]"
   ]
  },
  {
   "cell_type": "markdown",
   "id": "b60994f7",
   "metadata": {},
   "source": [
    "## Pandas objects"
   ]
  },
  {
   "cell_type": "markdown",
   "id": "988f4628",
   "metadata": {},
   "source": [
    "Previous code allowed you to \"parse\" as CSV files, but a nested list not the most convenient way of working with tabular data.\n",
    "\n",
    "You can retrieve rows (and cells within rows) but more difficult, for example to get access the data by column, i.e. get all names. \n",
    "\n",
    "Pandas is a library for data science, that is built around working with tabular data in the shape of 'DataFrames'. \n",
    "\n",
    "Given a path, Pandas will read and parse the text file and return a dataframe object."
   ]
  },
  {
   "cell_type": "code",
   "execution_count": 51,
   "id": "3c37983c",
   "metadata": {},
   "outputs": [],
   "source": [
    "df = pd.read_csv('data/04-working-with-data/data/names.csv')"
   ]
  },
  {
   "cell_type": "code",
   "execution_count": 77,
   "id": "88c6b5cf",
   "metadata": {},
   "outputs": [
    {
     "data": {
      "text/plain": [
       "pandas.core.frame.DataFrame"
      ]
     },
     "execution_count": 77,
     "metadata": {},
     "output_type": "execute_result"
    }
   ],
   "source": [
    "type(df)"
   ]
  },
  {
   "cell_type": "code",
   "execution_count": 184,
   "id": "0c91f271",
   "metadata": {},
   "outputs": [
    {
     "data": {
      "text/plain": [
       "year            int64\n",
       "name           object\n",
       "sex            object\n",
       "frequency       int64\n",
       "name_length     int64\n",
       "end-n            bool\n",
       "starts-a         bool\n",
       "dtype: object"
      ]
     },
     "execution_count": 184,
     "metadata": {},
     "output_type": "execute_result"
    }
   ],
   "source": [
    "df.dtypes"
   ]
  },
  {
   "cell_type": "markdown",
   "id": "254ad97b",
   "metadata": {},
   "source": [
    "DataFrame the principe data structure around which Pandas is built. This library will provide you with many tools and functions, to interrogate, analyse and transform tabular information. \n",
    "\n",
    "Like all Python object, think of a dataframe as a specific objects that to which many tools (called \"methods\") are attached. \n",
    "\n",
    "\n",
    "A simple example is `.head()`"
   ]
  },
  {
   "cell_type": "code",
   "execution_count": 52,
   "id": "2978dc66",
   "metadata": {},
   "outputs": [
    {
     "data": {
      "text/html": [
       "<div>\n",
       "<style scoped>\n",
       "    .dataframe tbody tr th:only-of-type {\n",
       "        vertical-align: middle;\n",
       "    }\n",
       "\n",
       "    .dataframe tbody tr th {\n",
       "        vertical-align: top;\n",
       "    }\n",
       "\n",
       "    .dataframe thead th {\n",
       "        text-align: right;\n",
       "    }\n",
       "</style>\n",
       "<table border=\"1\" class=\"dataframe\">\n",
       "  <thead>\n",
       "    <tr style=\"text-align: right;\">\n",
       "      <th></th>\n",
       "      <th>year</th>\n",
       "      <th>name</th>\n",
       "      <th>sex</th>\n",
       "      <th>frequency</th>\n",
       "    </tr>\n",
       "  </thead>\n",
       "  <tbody>\n",
       "    <tr>\n",
       "      <th>0</th>\n",
       "      <td>1880</td>\n",
       "      <td>Mary</td>\n",
       "      <td>F</td>\n",
       "      <td>7065</td>\n",
       "    </tr>\n",
       "    <tr>\n",
       "      <th>1</th>\n",
       "      <td>1880</td>\n",
       "      <td>Anna</td>\n",
       "      <td>F</td>\n",
       "      <td>2604</td>\n",
       "    </tr>\n",
       "    <tr>\n",
       "      <th>2</th>\n",
       "      <td>1880</td>\n",
       "      <td>Emma</td>\n",
       "      <td>F</td>\n",
       "      <td>2003</td>\n",
       "    </tr>\n",
       "    <tr>\n",
       "      <th>3</th>\n",
       "      <td>1880</td>\n",
       "      <td>Elizabeth</td>\n",
       "      <td>F</td>\n",
       "      <td>1939</td>\n",
       "    </tr>\n",
       "    <tr>\n",
       "      <th>4</th>\n",
       "      <td>1880</td>\n",
       "      <td>Minnie</td>\n",
       "      <td>F</td>\n",
       "      <td>1746</td>\n",
       "    </tr>\n",
       "  </tbody>\n",
       "</table>\n",
       "</div>"
      ],
      "text/plain": [
       "   year       name sex  frequency\n",
       "0  1880       Mary   F       7065\n",
       "1  1880       Anna   F       2604\n",
       "2  1880       Emma   F       2003\n",
       "3  1880  Elizabeth   F       1939\n",
       "4  1880     Minnie   F       1746"
      ]
     },
     "execution_count": 52,
     "metadata": {},
     "output_type": "execute_result"
    }
   ],
   "source": [
    "df.head(5)"
   ]
  },
  {
   "cell_type": "code",
   "execution_count": 105,
   "id": "29a4f965",
   "metadata": {},
   "outputs": [
    {
     "data": {
      "text/plain": [
       "(1858436, 4)"
      ]
     },
     "execution_count": 105,
     "metadata": {},
     "output_type": "execute_result"
    }
   ],
   "source": [
    "df.shape"
   ]
  },
  {
   "cell_type": "markdown",
   "id": "9813d48c",
   "metadata": {},
   "source": [
    "`pd.DataFrames` enhance access to tubular information compared to lists of dictionaries. \n",
    "\n",
    "A two-dimensional array of indexed data.\n",
    "\n",
    "Access by row indices or column names."
   ]
  },
  {
   "cell_type": "markdown",
   "id": "67284eae",
   "metadata": {},
   "source": [
    "## Data Index"
   ]
  },
  {
   "cell_type": "code",
   "execution_count": 89,
   "id": "628917d6",
   "metadata": {},
   "outputs": [
    {
     "data": {
      "text/plain": [
       "RangeIndex(start=0, stop=1858436, step=1)"
      ]
     },
     "execution_count": 89,
     "metadata": {},
     "output_type": "execute_result"
    }
   ],
   "source": [
    "df.index"
   ]
  },
  {
   "cell_type": "code",
   "execution_count": 90,
   "id": "c2b50fb8",
   "metadata": {},
   "outputs": [
    {
     "data": {
      "text/plain": [
       "Index(['year', 'name', 'sex', 'frequency'], dtype='object')"
      ]
     },
     "execution_count": 90,
     "metadata": {},
     "output_type": "execute_result"
    }
   ],
   "source": [
    "df.columns"
   ]
  },
  {
   "cell_type": "code",
   "execution_count": 82,
   "id": "3f270cc2",
   "metadata": {},
   "outputs": [
    {
     "data": {
      "text/plain": [
       "year              1880\n",
       "name         Elizabeth\n",
       "sex                  F\n",
       "frequency         1939\n",
       "Name: 3, dtype: object"
      ]
     },
     "execution_count": 82,
     "metadata": {},
     "output_type": "execute_result"
    }
   ],
   "source": [
    "df.iloc[3]"
   ]
  },
  {
   "cell_type": "code",
   "execution_count": 83,
   "id": "757f7124",
   "metadata": {},
   "outputs": [
    {
     "data": {
      "text/plain": [
       "year              1880\n",
       "name         Elizabeth\n",
       "sex                  F\n",
       "frequency         1939\n",
       "Name: 3, dtype: object"
      ]
     },
     "execution_count": 83,
     "metadata": {},
     "output_type": "execute_result"
    }
   ],
   "source": [
    "df.loc[3]"
   ]
  },
  {
   "cell_type": "markdown",
   "id": "cb828250",
   "metadata": {},
   "source": [
    "## Data Selection"
   ]
  },
  {
   "cell_type": "markdown",
   "id": "b4269396",
   "metadata": {},
   "source": [
    "### Slicing"
   ]
  },
  {
   "cell_type": "code",
   "execution_count": 84,
   "id": "03a010af",
   "metadata": {},
   "outputs": [
    {
     "data": {
      "text/html": [
       "<div>\n",
       "<style scoped>\n",
       "    .dataframe tbody tr th:only-of-type {\n",
       "        vertical-align: middle;\n",
       "    }\n",
       "\n",
       "    .dataframe tbody tr th {\n",
       "        vertical-align: top;\n",
       "    }\n",
       "\n",
       "    .dataframe thead th {\n",
       "        text-align: right;\n",
       "    }\n",
       "</style>\n",
       "<table border=\"1\" class=\"dataframe\">\n",
       "  <thead>\n",
       "    <tr style=\"text-align: right;\">\n",
       "      <th></th>\n",
       "      <th>year</th>\n",
       "      <th>name</th>\n",
       "      <th>sex</th>\n",
       "      <th>frequency</th>\n",
       "    </tr>\n",
       "  </thead>\n",
       "  <tbody>\n",
       "    <tr>\n",
       "      <th>3</th>\n",
       "      <td>1880</td>\n",
       "      <td>Elizabeth</td>\n",
       "      <td>F</td>\n",
       "      <td>1939</td>\n",
       "    </tr>\n",
       "    <tr>\n",
       "      <th>4</th>\n",
       "      <td>1880</td>\n",
       "      <td>Minnie</td>\n",
       "      <td>F</td>\n",
       "      <td>1746</td>\n",
       "    </tr>\n",
       "    <tr>\n",
       "      <th>5</th>\n",
       "      <td>1880</td>\n",
       "      <td>Margaret</td>\n",
       "      <td>F</td>\n",
       "      <td>1578</td>\n",
       "    </tr>\n",
       "  </tbody>\n",
       "</table>\n",
       "</div>"
      ],
      "text/plain": [
       "   year       name sex  frequency\n",
       "3  1880  Elizabeth   F       1939\n",
       "4  1880     Minnie   F       1746\n",
       "5  1880   Margaret   F       1578"
      ]
     },
     "execution_count": 84,
     "metadata": {},
     "output_type": "execute_result"
    }
   ],
   "source": [
    "df.loc[3:5]"
   ]
  },
  {
   "cell_type": "code",
   "execution_count": 85,
   "id": "bbb55148",
   "metadata": {},
   "outputs": [
    {
     "data": {
      "text/plain": [
       "0               Mary\n",
       "1               Anna\n",
       "2               Emma\n",
       "3          Elizabeth\n",
       "4             Minnie\n",
       "             ...    \n",
       "1858431       Zykell\n",
       "1858432       Zyking\n",
       "1858433        Zykir\n",
       "1858434        Zyrus\n",
       "1858435         Zyus\n",
       "Name: name, Length: 1858436, dtype: object"
      ]
     },
     "execution_count": 85,
     "metadata": {},
     "output_type": "execute_result"
    }
   ],
   "source": [
    "df['name']"
   ]
  },
  {
   "cell_type": "code",
   "execution_count": 61,
   "id": "ea5ea900",
   "metadata": {},
   "outputs": [
    {
     "data": {
      "text/plain": [
       "pandas.core.series.Series"
      ]
     },
     "execution_count": 61,
     "metadata": {},
     "output_type": "execute_result"
    }
   ],
   "source": [
    "type(df['name'])"
   ]
  },
  {
   "cell_type": "markdown",
   "id": "d6915cb8",
   "metadata": {},
   "source": [
    "### Fancy indexing"
   ]
  },
  {
   "cell_type": "code",
   "execution_count": 86,
   "id": "8b39b516",
   "metadata": {},
   "outputs": [
    {
     "data": {
      "text/html": [
       "<div>\n",
       "<style scoped>\n",
       "    .dataframe tbody tr th:only-of-type {\n",
       "        vertical-align: middle;\n",
       "    }\n",
       "\n",
       "    .dataframe tbody tr th {\n",
       "        vertical-align: top;\n",
       "    }\n",
       "\n",
       "    .dataframe thead th {\n",
       "        text-align: right;\n",
       "    }\n",
       "</style>\n",
       "<table border=\"1\" class=\"dataframe\">\n",
       "  <thead>\n",
       "    <tr style=\"text-align: right;\">\n",
       "      <th></th>\n",
       "      <th>name</th>\n",
       "      <th>sex</th>\n",
       "    </tr>\n",
       "  </thead>\n",
       "  <tbody>\n",
       "    <tr>\n",
       "      <th>0</th>\n",
       "      <td>Mary</td>\n",
       "      <td>F</td>\n",
       "    </tr>\n",
       "    <tr>\n",
       "      <th>1</th>\n",
       "      <td>Anna</td>\n",
       "      <td>F</td>\n",
       "    </tr>\n",
       "    <tr>\n",
       "      <th>2</th>\n",
       "      <td>Emma</td>\n",
       "      <td>F</td>\n",
       "    </tr>\n",
       "    <tr>\n",
       "      <th>3</th>\n",
       "      <td>Elizabeth</td>\n",
       "      <td>F</td>\n",
       "    </tr>\n",
       "    <tr>\n",
       "      <th>4</th>\n",
       "      <td>Minnie</td>\n",
       "      <td>F</td>\n",
       "    </tr>\n",
       "    <tr>\n",
       "      <th>...</th>\n",
       "      <td>...</td>\n",
       "      <td>...</td>\n",
       "    </tr>\n",
       "    <tr>\n",
       "      <th>1858431</th>\n",
       "      <td>Zykell</td>\n",
       "      <td>M</td>\n",
       "    </tr>\n",
       "    <tr>\n",
       "      <th>1858432</th>\n",
       "      <td>Zyking</td>\n",
       "      <td>M</td>\n",
       "    </tr>\n",
       "    <tr>\n",
       "      <th>1858433</th>\n",
       "      <td>Zykir</td>\n",
       "      <td>M</td>\n",
       "    </tr>\n",
       "    <tr>\n",
       "      <th>1858434</th>\n",
       "      <td>Zyrus</td>\n",
       "      <td>M</td>\n",
       "    </tr>\n",
       "    <tr>\n",
       "      <th>1858435</th>\n",
       "      <td>Zyus</td>\n",
       "      <td>M</td>\n",
       "    </tr>\n",
       "  </tbody>\n",
       "</table>\n",
       "<p>1858436 rows × 2 columns</p>\n",
       "</div>"
      ],
      "text/plain": [
       "              name sex\n",
       "0             Mary   F\n",
       "1             Anna   F\n",
       "2             Emma   F\n",
       "3        Elizabeth   F\n",
       "4           Minnie   F\n",
       "...            ...  ..\n",
       "1858431     Zykell   M\n",
       "1858432     Zyking   M\n",
       "1858433      Zykir   M\n",
       "1858434      Zyrus   M\n",
       "1858435       Zyus   M\n",
       "\n",
       "[1858436 rows x 2 columns]"
      ]
     },
     "execution_count": 86,
     "metadata": {},
     "output_type": "execute_result"
    }
   ],
   "source": [
    "df[['name','sex']]"
   ]
  },
  {
   "cell_type": "code",
   "execution_count": 116,
   "id": "0c1b282a",
   "metadata": {},
   "outputs": [
    {
     "data": {
      "text/html": [
       "<div>\n",
       "<style scoped>\n",
       "    .dataframe tbody tr th:only-of-type {\n",
       "        vertical-align: middle;\n",
       "    }\n",
       "\n",
       "    .dataframe tbody tr th {\n",
       "        vertical-align: top;\n",
       "    }\n",
       "\n",
       "    .dataframe thead th {\n",
       "        text-align: right;\n",
       "    }\n",
       "</style>\n",
       "<table border=\"1\" class=\"dataframe\">\n",
       "  <thead>\n",
       "    <tr style=\"text-align: right;\">\n",
       "      <th></th>\n",
       "      <th>sex</th>\n",
       "      <th>name</th>\n",
       "    </tr>\n",
       "  </thead>\n",
       "  <tbody>\n",
       "    <tr>\n",
       "      <th>0</th>\n",
       "      <td>F</td>\n",
       "      <td>Mary</td>\n",
       "    </tr>\n",
       "    <tr>\n",
       "      <th>1</th>\n",
       "      <td>F</td>\n",
       "      <td>Anna</td>\n",
       "    </tr>\n",
       "    <tr>\n",
       "      <th>2</th>\n",
       "      <td>F</td>\n",
       "      <td>Emma</td>\n",
       "    </tr>\n",
       "    <tr>\n",
       "      <th>3</th>\n",
       "      <td>F</td>\n",
       "      <td>Elizabeth</td>\n",
       "    </tr>\n",
       "    <tr>\n",
       "      <th>4</th>\n",
       "      <td>F</td>\n",
       "      <td>Minnie</td>\n",
       "    </tr>\n",
       "    <tr>\n",
       "      <th>...</th>\n",
       "      <td>...</td>\n",
       "      <td>...</td>\n",
       "    </tr>\n",
       "    <tr>\n",
       "      <th>1858431</th>\n",
       "      <td>M</td>\n",
       "      <td>Zykell</td>\n",
       "    </tr>\n",
       "    <tr>\n",
       "      <th>1858432</th>\n",
       "      <td>M</td>\n",
       "      <td>Zyking</td>\n",
       "    </tr>\n",
       "    <tr>\n",
       "      <th>1858433</th>\n",
       "      <td>M</td>\n",
       "      <td>Zykir</td>\n",
       "    </tr>\n",
       "    <tr>\n",
       "      <th>1858434</th>\n",
       "      <td>M</td>\n",
       "      <td>Zyrus</td>\n",
       "    </tr>\n",
       "    <tr>\n",
       "      <th>1858435</th>\n",
       "      <td>M</td>\n",
       "      <td>Zyus</td>\n",
       "    </tr>\n",
       "  </tbody>\n",
       "</table>\n",
       "<p>1858436 rows × 2 columns</p>\n",
       "</div>"
      ],
      "text/plain": [
       "        sex       name\n",
       "0         F       Mary\n",
       "1         F       Anna\n",
       "2         F       Emma\n",
       "3         F  Elizabeth\n",
       "4         F     Minnie\n",
       "...      ..        ...\n",
       "1858431   M     Zykell\n",
       "1858432   M     Zyking\n",
       "1858433   M      Zykir\n",
       "1858434   M      Zyrus\n",
       "1858435   M       Zyus\n",
       "\n",
       "[1858436 rows x 2 columns]"
      ]
     },
     "execution_count": 116,
     "metadata": {},
     "output_type": "execute_result"
    }
   ],
   "source": [
    "df[['sex','name']]"
   ]
  },
  {
   "cell_type": "code",
   "execution_count": 117,
   "id": "bb40cebd",
   "metadata": {},
   "outputs": [
    {
     "data": {
      "text/html": [
       "<div>\n",
       "<style scoped>\n",
       "    .dataframe tbody tr th:only-of-type {\n",
       "        vertical-align: middle;\n",
       "    }\n",
       "\n",
       "    .dataframe tbody tr th {\n",
       "        vertical-align: top;\n",
       "    }\n",
       "\n",
       "    .dataframe thead th {\n",
       "        text-align: right;\n",
       "    }\n",
       "</style>\n",
       "<table border=\"1\" class=\"dataframe\">\n",
       "  <thead>\n",
       "    <tr style=\"text-align: right;\">\n",
       "      <th></th>\n",
       "      <th>name</th>\n",
       "      <th>sex</th>\n",
       "    </tr>\n",
       "  </thead>\n",
       "  <tbody>\n",
       "    <tr>\n",
       "      <th>3</th>\n",
       "      <td>Elizabeth</td>\n",
       "      <td>F</td>\n",
       "    </tr>\n",
       "    <tr>\n",
       "      <th>4</th>\n",
       "      <td>Minnie</td>\n",
       "      <td>F</td>\n",
       "    </tr>\n",
       "    <tr>\n",
       "      <th>5</th>\n",
       "      <td>Margaret</td>\n",
       "      <td>F</td>\n",
       "    </tr>\n",
       "  </tbody>\n",
       "</table>\n",
       "</div>"
      ],
      "text/plain": [
       "        name sex\n",
       "3  Elizabeth   F\n",
       "4     Minnie   F\n",
       "5   Margaret   F"
      ]
     },
     "execution_count": 117,
     "metadata": {},
     "output_type": "execute_result"
    }
   ],
   "source": [
    "df.loc[3:5,['name','sex']]"
   ]
  },
  {
   "cell_type": "markdown",
   "id": "c625e73a",
   "metadata": {},
   "source": [
    "### Masking"
   ]
  },
  {
   "cell_type": "code",
   "execution_count": 94,
   "id": "531fb801",
   "metadata": {},
   "outputs": [
    {
     "data": {
      "text/plain": [
       "dtype('int64')"
      ]
     },
     "execution_count": 94,
     "metadata": {},
     "output_type": "execute_result"
    }
   ],
   "source": [
    "df.year.dtype"
   ]
  },
  {
   "cell_type": "code",
   "execution_count": 97,
   "id": "0a229b3e",
   "metadata": {},
   "outputs": [
    {
     "data": {
      "text/plain": [
       "0          False\n",
       "1          False\n",
       "2          False\n",
       "3          False\n",
       "4          False\n",
       "           ...  \n",
       "1858431     True\n",
       "1858432     True\n",
       "1858433     True\n",
       "1858434     True\n",
       "1858435     True\n",
       "Name: year, Length: 1858436, dtype: bool"
      ]
     },
     "execution_count": 97,
     "metadata": {},
     "output_type": "execute_result"
    }
   ],
   "source": [
    "df.year > 1900"
   ]
  },
  {
   "cell_type": "code",
   "execution_count": 99,
   "id": "8c5fa985",
   "metadata": {},
   "outputs": [
    {
     "data": {
      "text/plain": [
       "1802468"
      ]
     },
     "execution_count": 99,
     "metadata": {},
     "output_type": "execute_result"
    }
   ],
   "source": [
    "sum(df.year > 1900)"
   ]
  },
  {
   "cell_type": "code",
   "execution_count": 100,
   "id": "38a6d8b9",
   "metadata": {},
   "outputs": [],
   "source": [
    "mask = df.year > 1900"
   ]
  },
  {
   "cell_type": "code",
   "execution_count": 101,
   "id": "71e81bb0",
   "metadata": {},
   "outputs": [
    {
     "data": {
      "text/plain": [
       "(1802468, 4)"
      ]
     },
     "execution_count": 101,
     "metadata": {},
     "output_type": "execute_result"
    }
   ],
   "source": [
    "df_after_1900 = df[mask]\n"
   ]
  },
  {
   "cell_type": "code",
   "execution_count": 102,
   "id": "fd7116ed",
   "metadata": {},
   "outputs": [
    {
     "data": {
      "text/html": [
       "<div>\n",
       "<style scoped>\n",
       "    .dataframe tbody tr th:only-of-type {\n",
       "        vertical-align: middle;\n",
       "    }\n",
       "\n",
       "    .dataframe tbody tr th {\n",
       "        vertical-align: top;\n",
       "    }\n",
       "\n",
       "    .dataframe thead th {\n",
       "        text-align: right;\n",
       "    }\n",
       "</style>\n",
       "<table border=\"1\" class=\"dataframe\">\n",
       "  <thead>\n",
       "    <tr style=\"text-align: right;\">\n",
       "      <th></th>\n",
       "      <th>year</th>\n",
       "      <th>name</th>\n",
       "      <th>sex</th>\n",
       "      <th>frequency</th>\n",
       "    </tr>\n",
       "  </thead>\n",
       "  <tbody>\n",
       "    <tr>\n",
       "      <th>55968</th>\n",
       "      <td>1901</td>\n",
       "      <td>Mary</td>\n",
       "      <td>F</td>\n",
       "      <td>13136</td>\n",
       "    </tr>\n",
       "    <tr>\n",
       "      <th>55969</th>\n",
       "      <td>1901</td>\n",
       "      <td>Helen</td>\n",
       "      <td>F</td>\n",
       "      <td>5247</td>\n",
       "    </tr>\n",
       "    <tr>\n",
       "      <th>55970</th>\n",
       "      <td>1901</td>\n",
       "      <td>Anna</td>\n",
       "      <td>F</td>\n",
       "      <td>4923</td>\n",
       "    </tr>\n",
       "    <tr>\n",
       "      <th>55971</th>\n",
       "      <td>1901</td>\n",
       "      <td>Margaret</td>\n",
       "      <td>F</td>\n",
       "      <td>4424</td>\n",
       "    </tr>\n",
       "    <tr>\n",
       "      <th>55972</th>\n",
       "      <td>1901</td>\n",
       "      <td>Ruth</td>\n",
       "      <td>F</td>\n",
       "      <td>3974</td>\n",
       "    </tr>\n",
       "    <tr>\n",
       "      <th>...</th>\n",
       "      <td>...</td>\n",
       "      <td>...</td>\n",
       "      <td>...</td>\n",
       "      <td>...</td>\n",
       "    </tr>\n",
       "    <tr>\n",
       "      <th>1858431</th>\n",
       "      <td>2015</td>\n",
       "      <td>Zykell</td>\n",
       "      <td>M</td>\n",
       "      <td>5</td>\n",
       "    </tr>\n",
       "    <tr>\n",
       "      <th>1858432</th>\n",
       "      <td>2015</td>\n",
       "      <td>Zyking</td>\n",
       "      <td>M</td>\n",
       "      <td>5</td>\n",
       "    </tr>\n",
       "    <tr>\n",
       "      <th>1858433</th>\n",
       "      <td>2015</td>\n",
       "      <td>Zykir</td>\n",
       "      <td>M</td>\n",
       "      <td>5</td>\n",
       "    </tr>\n",
       "    <tr>\n",
       "      <th>1858434</th>\n",
       "      <td>2015</td>\n",
       "      <td>Zyrus</td>\n",
       "      <td>M</td>\n",
       "      <td>5</td>\n",
       "    </tr>\n",
       "    <tr>\n",
       "      <th>1858435</th>\n",
       "      <td>2015</td>\n",
       "      <td>Zyus</td>\n",
       "      <td>M</td>\n",
       "      <td>5</td>\n",
       "    </tr>\n",
       "  </tbody>\n",
       "</table>\n",
       "<p>1802468 rows × 4 columns</p>\n",
       "</div>"
      ],
      "text/plain": [
       "         year      name sex  frequency\n",
       "55968    1901      Mary   F      13136\n",
       "55969    1901     Helen   F       5247\n",
       "55970    1901      Anna   F       4923\n",
       "55971    1901  Margaret   F       4424\n",
       "55972    1901      Ruth   F       3974\n",
       "...       ...       ...  ..        ...\n",
       "1858431  2015    Zykell   M          5\n",
       "1858432  2015    Zyking   M          5\n",
       "1858433  2015     Zykir   M          5\n",
       "1858434  2015     Zyrus   M          5\n",
       "1858435  2015      Zyus   M          5\n",
       "\n",
       "[1802468 rows x 4 columns]"
      ]
     },
     "execution_count": 102,
     "metadata": {},
     "output_type": "execute_result"
    }
   ],
   "source": [
    "df_after_1900"
   ]
  },
  {
   "cell_type": "code",
   "execution_count": 103,
   "id": "098ec484",
   "metadata": {},
   "outputs": [],
   "source": [
    "## Exercise \n",
    "### Select second row in df_after_1900"
   ]
  },
  {
   "cell_type": "code",
   "execution_count": 108,
   "id": "a22183df",
   "metadata": {},
   "outputs": [
    {
     "data": {
      "text/plain": [
       "0          False\n",
       "1          False\n",
       "2          False\n",
       "3          False\n",
       "4          False\n",
       "           ...  \n",
       "1858431    False\n",
       "1858432    False\n",
       "1858433    False\n",
       "1858434    False\n",
       "1858435    False\n",
       "Name: year, Length: 1858436, dtype: bool"
      ]
     },
     "execution_count": 108,
     "metadata": {},
     "output_type": "execute_result"
    }
   ],
   "source": [
    "df.year.between(1900,1910)"
   ]
  },
  {
   "cell_type": "code",
   "execution_count": null,
   "id": "68f3634f",
   "metadata": {},
   "outputs": [],
   "source": [
    "## Exercise\n",
    "### create a new dataframe contain names between 1900 and 1910"
   ]
  },
  {
   "cell_type": "markdown",
   "id": "9d2051ed",
   "metadata": {},
   "source": [
    "## Inspecting columns"
   ]
  },
  {
   "cell_type": "code",
   "execution_count": 110,
   "id": "70ff664e",
   "metadata": {},
   "outputs": [
    {
     "data": {
      "text/plain": [
       "array([1880, 1881, 1882, 1883, 1884, 1885, 1886, 1887, 1888, 1889, 1890,\n",
       "       1891, 1892, 1893, 1894, 1895, 1896, 1897, 1898, 1899, 1900, 1901,\n",
       "       1902, 1903, 1904, 1905, 1906, 1907, 1908, 1909, 1910, 1911, 1912,\n",
       "       1913, 1914, 1915, 1916, 1917, 1918, 1919, 1920, 1921, 1922, 1923,\n",
       "       1924, 1925, 1926, 1927, 1928, 1929, 1930, 1931, 1932, 1933, 1934,\n",
       "       1935, 1936, 1937, 1938, 1939, 1940, 1941, 1942, 1943, 1944, 1945,\n",
       "       1946, 1947, 1948, 1949, 1950, 1951, 1952, 1953, 1954, 1955, 1956,\n",
       "       1957, 1958, 1959, 1960, 1961, 1962, 1963, 1964, 1965, 1966, 1967,\n",
       "       1968, 1969, 1970, 1971, 1972, 1973, 1974, 1975, 1976, 1977, 1978,\n",
       "       1979, 1980, 1981, 1982, 1983, 1984, 1985, 1986, 1987, 1988, 1989,\n",
       "       1990, 1991, 1992, 1993, 1994, 1995, 1996, 1997, 1998, 1999, 2000,\n",
       "       2001, 2002, 2003, 2004, 2005, 2006, 2007, 2008, 2009, 2010, 2011,\n",
       "       2012, 2013, 2014, 2015])"
      ]
     },
     "execution_count": 110,
     "metadata": {},
     "output_type": "execute_result"
    }
   ],
   "source": [
    "df.year.unique()"
   ]
  },
  {
   "cell_type": "code",
   "execution_count": 111,
   "id": "3db7fdbb",
   "metadata": {},
   "outputs": [
    {
     "data": {
      "text/plain": [
       "2008    35049\n",
       "2007    34939\n",
       "2009    34687\n",
       "2006    34071\n",
       "2010    34048\n",
       "        ...  \n",
       "1885     2293\n",
       "1882     2126\n",
       "1883     2083\n",
       "1880     1999\n",
       "1881     1934\n",
       "Name: year, Length: 136, dtype: int64"
      ]
     },
     "execution_count": 111,
     "metadata": {},
     "output_type": "execute_result"
    }
   ],
   "source": [
    "df.year.value_counts()"
   ]
  },
  {
   "cell_type": "code",
   "execution_count": 112,
   "id": "35e36823",
   "metadata": {},
   "outputs": [
    {
     "data": {
      "text/plain": [
       "<AxesSubplot:>"
      ]
     },
     "execution_count": 112,
     "metadata": {},
     "output_type": "execute_result"
    },
    {
     "data": {
      "image/png": "[encoded data removed]",
      "text/plain": [
       "<Figure size 432x288 with 1 Axes>"
      ]
     },
     "metadata": {
      "needs_background": "light"
     },
     "output_type": "display_data"
    }
   ],
   "source": [
    "df.year.value_counts().plot()"
   ]
  },
  {
   "cell_type": "code",
   "execution_count": 114,
   "id": "84784030",
   "metadata": {},
   "outputs": [
    {
     "data": {
      "text/plain": [
       "<AxesSubplot:>"
      ]
     },
     "execution_count": 114,
     "metadata": {},
     "output_type": "execute_result"
    },
    {
     "data": {
      "image/png": "[encoded data removed]",
      "text/plain": [
       "<Figure size 432x288 with 1 Axes>"
      ]
     },
     "metadata": {
      "needs_background": "light"
     },
     "output_type": "display_data"
    }
   ],
   "source": [
    "df.year.value_counts().sort_index().plot()"
   ]
  },
  {
   "cell_type": "code",
   "execution_count": 115,
   "id": "a3543d78",
   "metadata": {},
   "outputs": [],
   "source": [
    "### Exercise\n",
    "## Which values are there in the 'sex' columns"
   ]
  },
  {
   "cell_type": "markdown",
   "id": "0559b179",
   "metadata": {},
   "source": [
    "## Working with text"
   ]
  },
  {
   "cell_type": "code",
   "execution_count": 126,
   "id": "f663bffe",
   "metadata": {},
   "outputs": [
    {
     "data": {
      "text/plain": [
       "4"
      ]
     },
     "execution_count": 126,
     "metadata": {},
     "output_type": "execute_result"
    }
   ],
   "source": [
    "len('Mary')"
   ]
  },
  {
   "cell_type": "code",
   "execution_count": 127,
   "id": "9071931d",
   "metadata": {},
   "outputs": [],
   "source": [
    "df['name_length'] = 0"
   ]
  },
  {
   "cell_type": "code",
   "execution_count": 128,
   "id": "675d59ff",
   "metadata": {},
   "outputs": [
    {
     "data": {
      "text/html": [
       "<div>\n",
       "<style scoped>\n",
       "    .dataframe tbody tr th:only-of-type {\n",
       "        vertical-align: middle;\n",
       "    }\n",
       "\n",
       "    .dataframe tbody tr th {\n",
       "        vertical-align: top;\n",
       "    }\n",
       "\n",
       "    .dataframe thead th {\n",
       "        text-align: right;\n",
       "    }\n",
       "</style>\n",
       "<table border=\"1\" class=\"dataframe\">\n",
       "  <thead>\n",
       "    <tr style=\"text-align: right;\">\n",
       "      <th></th>\n",
       "      <th>year</th>\n",
       "      <th>name</th>\n",
       "      <th>sex</th>\n",
       "      <th>frequency</th>\n",
       "      <th>name_length</th>\n",
       "    </tr>\n",
       "  </thead>\n",
       "  <tbody>\n",
       "    <tr>\n",
       "      <th>0</th>\n",
       "      <td>1880</td>\n",
       "      <td>Mary</td>\n",
       "      <td>F</td>\n",
       "      <td>7065</td>\n",
       "      <td>0</td>\n",
       "    </tr>\n",
       "    <tr>\n",
       "      <th>1</th>\n",
       "      <td>1880</td>\n",
       "      <td>Anna</td>\n",
       "      <td>F</td>\n",
       "      <td>2604</td>\n",
       "      <td>0</td>\n",
       "    </tr>\n",
       "    <tr>\n",
       "      <th>2</th>\n",
       "      <td>1880</td>\n",
       "      <td>Emma</td>\n",
       "      <td>F</td>\n",
       "      <td>2003</td>\n",
       "      <td>0</td>\n",
       "    </tr>\n",
       "    <tr>\n",
       "      <th>3</th>\n",
       "      <td>1880</td>\n",
       "      <td>Elizabeth</td>\n",
       "      <td>F</td>\n",
       "      <td>1939</td>\n",
       "      <td>0</td>\n",
       "    </tr>\n",
       "    <tr>\n",
       "      <th>4</th>\n",
       "      <td>1880</td>\n",
       "      <td>Minnie</td>\n",
       "      <td>F</td>\n",
       "      <td>1746</td>\n",
       "      <td>0</td>\n",
       "    </tr>\n",
       "    <tr>\n",
       "      <th>...</th>\n",
       "      <td>...</td>\n",
       "      <td>...</td>\n",
       "      <td>...</td>\n",
       "      <td>...</td>\n",
       "      <td>...</td>\n",
       "    </tr>\n",
       "    <tr>\n",
       "      <th>1858431</th>\n",
       "      <td>2015</td>\n",
       "      <td>Zykell</td>\n",
       "      <td>M</td>\n",
       "      <td>5</td>\n",
       "      <td>0</td>\n",
       "    </tr>\n",
       "    <tr>\n",
       "      <th>1858432</th>\n",
       "      <td>2015</td>\n",
       "      <td>Zyking</td>\n",
       "      <td>M</td>\n",
       "      <td>5</td>\n",
       "      <td>0</td>\n",
       "    </tr>\n",
       "    <tr>\n",
       "      <th>1858433</th>\n",
       "      <td>2015</td>\n",
       "      <td>Zykir</td>\n",
       "      <td>M</td>\n",
       "      <td>5</td>\n",
       "      <td>0</td>\n",
       "    </tr>\n",
       "    <tr>\n",
       "      <th>1858434</th>\n",
       "      <td>2015</td>\n",
       "      <td>Zyrus</td>\n",
       "      <td>M</td>\n",
       "      <td>5</td>\n",
       "      <td>0</td>\n",
       "    </tr>\n",
       "    <tr>\n",
       "      <th>1858435</th>\n",
       "      <td>2015</td>\n",
       "      <td>Zyus</td>\n",
       "      <td>M</td>\n",
       "      <td>5</td>\n",
       "      <td>0</td>\n",
       "    </tr>\n",
       "  </tbody>\n",
       "</table>\n",
       "<p>1858436 rows × 5 columns</p>\n",
       "</div>"
      ],
      "text/plain": [
       "         year       name sex  frequency  name_length\n",
       "0        1880       Mary   F       7065            0\n",
       "1        1880       Anna   F       2604            0\n",
       "2        1880       Emma   F       2003            0\n",
       "3        1880  Elizabeth   F       1939            0\n",
       "4        1880     Minnie   F       1746            0\n",
       "...       ...        ...  ..        ...          ...\n",
       "1858431  2015     Zykell   M          5            0\n",
       "1858432  2015     Zyking   M          5            0\n",
       "1858433  2015      Zykir   M          5            0\n",
       "1858434  2015      Zyrus   M          5            0\n",
       "1858435  2015       Zyus   M          5            0\n",
       "\n",
       "[1858436 rows x 5 columns]"
      ]
     },
     "execution_count": 128,
     "metadata": {},
     "output_type": "execute_result"
    }
   ],
   "source": [
    "df"
   ]
  },
  {
   "cell_type": "code",
   "execution_count": 130,
   "id": "4b5a34e2",
   "metadata": {},
   "outputs": [],
   "source": [
    "df['name_length'] = df.name.str.len()"
   ]
  },
  {
   "cell_type": "code",
   "execution_count": 131,
   "id": "f59515d6",
   "metadata": {},
   "outputs": [
    {
     "data": {
      "text/plain": [
       "0          4\n",
       "1          4\n",
       "2          4\n",
       "3          9\n",
       "4          6\n",
       "          ..\n",
       "1858431    6\n",
       "1858432    6\n",
       "1858433    5\n",
       "1858434    5\n",
       "1858435    4\n",
       "Name: name_length, Length: 1858436, dtype: int64"
      ]
     },
     "execution_count": 131,
     "metadata": {},
     "output_type": "execute_result"
    }
   ],
   "source": [
    "df['name_length'] "
   ]
  },
  {
   "cell_type": "code",
   "execution_count": 132,
   "id": "2ca9b571",
   "metadata": {},
   "outputs": [
    {
     "data": {
      "text/html": [
       "<div>\n",
       "<style scoped>\n",
       "    .dataframe tbody tr th:only-of-type {\n",
       "        vertical-align: middle;\n",
       "    }\n",
       "\n",
       "    .dataframe tbody tr th {\n",
       "        vertical-align: top;\n",
       "    }\n",
       "\n",
       "    .dataframe thead th {\n",
       "        text-align: right;\n",
       "    }\n",
       "</style>\n",
       "<table border=\"1\" class=\"dataframe\">\n",
       "  <thead>\n",
       "    <tr style=\"text-align: right;\">\n",
       "      <th></th>\n",
       "      <th>year</th>\n",
       "      <th>name</th>\n",
       "      <th>sex</th>\n",
       "      <th>frequency</th>\n",
       "      <th>name_length</th>\n",
       "    </tr>\n",
       "  </thead>\n",
       "  <tbody>\n",
       "    <tr>\n",
       "      <th>96582</th>\n",
       "      <td>1911</td>\n",
       "      <td>Ed</td>\n",
       "      <td>M</td>\n",
       "      <td>164</td>\n",
       "      <td>2</td>\n",
       "    </tr>\n",
       "    <tr>\n",
       "      <th>755157</th>\n",
       "      <td>1973</td>\n",
       "      <td>Tj</td>\n",
       "      <td>M</td>\n",
       "      <td>10</td>\n",
       "      <td>2</td>\n",
       "    </tr>\n",
       "    <tr>\n",
       "      <th>938867</th>\n",
       "      <td>1983</td>\n",
       "      <td>Ge</td>\n",
       "      <td>M</td>\n",
       "      <td>8</td>\n",
       "      <td>2</td>\n",
       "    </tr>\n",
       "    <tr>\n",
       "      <th>1112343</th>\n",
       "      <td>1991</td>\n",
       "      <td>Jr</td>\n",
       "      <td>M</td>\n",
       "      <td>23</td>\n",
       "      <td>2</td>\n",
       "    </tr>\n",
       "    <tr>\n",
       "      <th>1112352</th>\n",
       "      <td>1991</td>\n",
       "      <td>Ky</td>\n",
       "      <td>M</td>\n",
       "      <td>23</td>\n",
       "      <td>2</td>\n",
       "    </tr>\n",
       "    <tr>\n",
       "      <th>...</th>\n",
       "      <td>...</td>\n",
       "      <td>...</td>\n",
       "      <td>...</td>\n",
       "      <td>...</td>\n",
       "      <td>...</td>\n",
       "    </tr>\n",
       "    <tr>\n",
       "      <th>1856815</th>\n",
       "      <td>2015</td>\n",
       "      <td>Christopherjame</td>\n",
       "      <td>M</td>\n",
       "      <td>5</td>\n",
       "      <td>15</td>\n",
       "    </tr>\n",
       "    <tr>\n",
       "      <th>1143345</th>\n",
       "      <td>1992</td>\n",
       "      <td>Christopherjohn</td>\n",
       "      <td>M</td>\n",
       "      <td>5</td>\n",
       "      <td>15</td>\n",
       "    </tr>\n",
       "    <tr>\n",
       "      <th>1856816</th>\n",
       "      <td>2015</td>\n",
       "      <td>Christopherjose</td>\n",
       "      <td>M</td>\n",
       "      <td>5</td>\n",
       "      <td>15</td>\n",
       "    </tr>\n",
       "    <tr>\n",
       "      <th>1044513</th>\n",
       "      <td>1988</td>\n",
       "      <td>Christopherjame</td>\n",
       "      <td>M</td>\n",
       "      <td>5</td>\n",
       "      <td>15</td>\n",
       "    </tr>\n",
       "    <tr>\n",
       "      <th>1273092</th>\n",
       "      <td>1997</td>\n",
       "      <td>Ryanchristopher</td>\n",
       "      <td>M</td>\n",
       "      <td>7</td>\n",
       "      <td>15</td>\n",
       "    </tr>\n",
       "  </tbody>\n",
       "</table>\n",
       "<p>1858436 rows × 5 columns</p>\n",
       "</div>"
      ],
      "text/plain": [
       "         year             name sex  frequency  name_length\n",
       "96582    1911               Ed   M        164            2\n",
       "755157   1973               Tj   M         10            2\n",
       "938867   1983               Ge   M          8            2\n",
       "1112343  1991               Jr   M         23            2\n",
       "1112352  1991               Ky   M         23            2\n",
       "...       ...              ...  ..        ...          ...\n",
       "1856815  2015  Christopherjame   M          5           15\n",
       "1143345  1992  Christopherjohn   M          5           15\n",
       "1856816  2015  Christopherjose   M          5           15\n",
       "1044513  1988  Christopherjame   M          5           15\n",
       "1273092  1997  Ryanchristopher   M          7           15\n",
       "\n",
       "[1858436 rows x 5 columns]"
      ]
     },
     "execution_count": 132,
     "metadata": {},
     "output_type": "execute_result"
    }
   ],
   "source": [
    "df.sort_values('name_length')"
   ]
  },
  {
   "cell_type": "code",
   "execution_count": 133,
   "id": "35af9578",
   "metadata": {},
   "outputs": [
    {
     "data": {
      "text/html": [
       "<div>\n",
       "<style scoped>\n",
       "    .dataframe tbody tr th:only-of-type {\n",
       "        vertical-align: middle;\n",
       "    }\n",
       "\n",
       "    .dataframe tbody tr th {\n",
       "        vertical-align: top;\n",
       "    }\n",
       "\n",
       "    .dataframe thead th {\n",
       "        text-align: right;\n",
       "    }\n",
       "</style>\n",
       "<table border=\"1\" class=\"dataframe\">\n",
       "  <thead>\n",
       "    <tr style=\"text-align: right;\">\n",
       "      <th></th>\n",
       "      <th>year</th>\n",
       "      <th>name</th>\n",
       "      <th>sex</th>\n",
       "      <th>frequency</th>\n",
       "      <th>name_length</th>\n",
       "    </tr>\n",
       "  </thead>\n",
       "  <tbody>\n",
       "    <tr>\n",
       "      <th>1756081</th>\n",
       "      <td>2012</td>\n",
       "      <td>Gabrielalexande</td>\n",
       "      <td>M</td>\n",
       "      <td>6</td>\n",
       "      <td>15</td>\n",
       "    </tr>\n",
       "    <tr>\n",
       "      <th>1247685</th>\n",
       "      <td>1996</td>\n",
       "      <td>Christianjoseph</td>\n",
       "      <td>M</td>\n",
       "      <td>5</td>\n",
       "      <td>15</td>\n",
       "    </tr>\n",
       "    <tr>\n",
       "      <th>1115876</th>\n",
       "      <td>1991</td>\n",
       "      <td>Ryanchristopher</td>\n",
       "      <td>M</td>\n",
       "      <td>8</td>\n",
       "      <td>15</td>\n",
       "    </tr>\n",
       "    <tr>\n",
       "      <th>1856816</th>\n",
       "      <td>2015</td>\n",
       "      <td>Christopherjose</td>\n",
       "      <td>M</td>\n",
       "      <td>5</td>\n",
       "      <td>15</td>\n",
       "    </tr>\n",
       "    <tr>\n",
       "      <th>1856815</th>\n",
       "      <td>2015</td>\n",
       "      <td>Christopherjame</td>\n",
       "      <td>M</td>\n",
       "      <td>5</td>\n",
       "      <td>15</td>\n",
       "    </tr>\n",
       "    <tr>\n",
       "      <th>...</th>\n",
       "      <td>...</td>\n",
       "      <td>...</td>\n",
       "      <td>...</td>\n",
       "      <td>...</td>\n",
       "      <td>...</td>\n",
       "    </tr>\n",
       "    <tr>\n",
       "      <th>1708234</th>\n",
       "      <td>2011</td>\n",
       "      <td>Zy</td>\n",
       "      <td>F</td>\n",
       "      <td>6</td>\n",
       "      <td>2</td>\n",
       "    </tr>\n",
       "    <tr>\n",
       "      <th>325528</th>\n",
       "      <td>1935</td>\n",
       "      <td>Su</td>\n",
       "      <td>F</td>\n",
       "      <td>6</td>\n",
       "      <td>2</td>\n",
       "    </tr>\n",
       "    <tr>\n",
       "      <th>555469</th>\n",
       "      <td>1958</td>\n",
       "      <td>In</td>\n",
       "      <td>F</td>\n",
       "      <td>5</td>\n",
       "      <td>2</td>\n",
       "    </tr>\n",
       "    <tr>\n",
       "      <th>1367706</th>\n",
       "      <td>2001</td>\n",
       "      <td>Vi</td>\n",
       "      <td>F</td>\n",
       "      <td>21</td>\n",
       "      <td>2</td>\n",
       "    </tr>\n",
       "    <tr>\n",
       "      <th>1051910</th>\n",
       "      <td>1989</td>\n",
       "      <td>Ly</td>\n",
       "      <td>F</td>\n",
       "      <td>13</td>\n",
       "      <td>2</td>\n",
       "    </tr>\n",
       "  </tbody>\n",
       "</table>\n",
       "<p>1858436 rows × 5 columns</p>\n",
       "</div>"
      ],
      "text/plain": [
       "         year             name sex  frequency  name_length\n",
       "1756081  2012  Gabrielalexande   M          6           15\n",
       "1247685  1996  Christianjoseph   M          5           15\n",
       "1115876  1991  Ryanchristopher   M          8           15\n",
       "1856816  2015  Christopherjose   M          5           15\n",
       "1856815  2015  Christopherjame   M          5           15\n",
       "...       ...              ...  ..        ...          ...\n",
       "1708234  2011               Zy   F          6            2\n",
       "325528   1935               Su   F          6            2\n",
       "555469   1958               In   F          5            2\n",
       "1367706  2001               Vi   F         21            2\n",
       "1051910  1989               Ly   F         13            2\n",
       "\n",
       "[1858436 rows x 5 columns]"
      ]
     },
     "execution_count": 133,
     "metadata": {},
     "output_type": "execute_result"
    }
   ],
   "source": [
    "df.sort_values('name_length', ascending=False)"
   ]
  },
  {
   "cell_type": "markdown",
   "id": "cacf8624",
   "metadata": {},
   "source": [
    "## Combining conditions"
   ]
  },
  {
   "cell_type": "code",
   "execution_count": 123,
   "id": "fd754e02",
   "metadata": {},
   "outputs": [
    {
     "data": {
      "text/html": [
       "<div>\n",
       "<style scoped>\n",
       "    .dataframe tbody tr th:only-of-type {\n",
       "        vertical-align: middle;\n",
       "    }\n",
       "\n",
       "    .dataframe tbody tr th {\n",
       "        vertical-align: top;\n",
       "    }\n",
       "\n",
       "    .dataframe thead th {\n",
       "        text-align: right;\n",
       "    }\n",
       "</style>\n",
       "<table border=\"1\" class=\"dataframe\">\n",
       "  <thead>\n",
       "    <tr style=\"text-align: right;\">\n",
       "      <th></th>\n",
       "      <th>year</th>\n",
       "      <th>name</th>\n",
       "      <th>sex</th>\n",
       "      <th>frequency</th>\n",
       "    </tr>\n",
       "  </thead>\n",
       "  <tbody>\n",
       "  </tbody>\n",
       "</table>\n",
       "</div>"
      ],
      "text/plain": [
       "Empty DataFrame\n",
       "Columns: [year, name, sex, frequency]\n",
       "Index: []"
      ]
     },
     "execution_count": 123,
     "metadata": {},
     "output_type": "execute_result"
    }
   ],
   "source": [
    "df[df.year.between(1940,1945) & df.sex=='F']"
   ]
  },
  {
   "cell_type": "code",
   "execution_count": 121,
   "id": "5a7c493a",
   "metadata": {},
   "outputs": [
    {
     "data": {
      "text/html": [
       "<div>\n",
       "<style scoped>\n",
       "    .dataframe tbody tr th:only-of-type {\n",
       "        vertical-align: middle;\n",
       "    }\n",
       "\n",
       "    .dataframe tbody tr th {\n",
       "        vertical-align: top;\n",
       "    }\n",
       "\n",
       "    .dataframe thead th {\n",
       "        text-align: right;\n",
       "    }\n",
       "</style>\n",
       "<table border=\"1\" class=\"dataframe\">\n",
       "  <thead>\n",
       "    <tr style=\"text-align: right;\">\n",
       "      <th></th>\n",
       "      <th>year</th>\n",
       "      <th>name</th>\n",
       "      <th>sex</th>\n",
       "      <th>frequency</th>\n",
       "    </tr>\n",
       "  </thead>\n",
       "  <tbody>\n",
       "    <tr>\n",
       "      <th>366194</th>\n",
       "      <td>1940</td>\n",
       "      <td>Mary</td>\n",
       "      <td>F</td>\n",
       "      <td>56196</td>\n",
       "    </tr>\n",
       "    <tr>\n",
       "      <th>366195</th>\n",
       "      <td>1940</td>\n",
       "      <td>Barbara</td>\n",
       "      <td>F</td>\n",
       "      <td>36732</td>\n",
       "    </tr>\n",
       "    <tr>\n",
       "      <th>366196</th>\n",
       "      <td>1940</td>\n",
       "      <td>Patricia</td>\n",
       "      <td>F</td>\n",
       "      <td>32661</td>\n",
       "    </tr>\n",
       "    <tr>\n",
       "      <th>366197</th>\n",
       "      <td>1940</td>\n",
       "      <td>Judith</td>\n",
       "      <td>F</td>\n",
       "      <td>22380</td>\n",
       "    </tr>\n",
       "    <tr>\n",
       "      <th>366198</th>\n",
       "      <td>1940</td>\n",
       "      <td>Betty</td>\n",
       "      <td>F</td>\n",
       "      <td>22074</td>\n",
       "    </tr>\n",
       "    <tr>\n",
       "      <th>...</th>\n",
       "      <td>...</td>\n",
       "      <td>...</td>\n",
       "      <td>...</td>\n",
       "      <td>...</td>\n",
       "    </tr>\n",
       "    <tr>\n",
       "      <th>417450</th>\n",
       "      <td>1945</td>\n",
       "      <td>Zannie</td>\n",
       "      <td>F</td>\n",
       "      <td>5</td>\n",
       "    </tr>\n",
       "    <tr>\n",
       "      <th>417451</th>\n",
       "      <td>1945</td>\n",
       "      <td>Zelphia</td>\n",
       "      <td>F</td>\n",
       "      <td>5</td>\n",
       "    </tr>\n",
       "    <tr>\n",
       "      <th>417452</th>\n",
       "      <td>1945</td>\n",
       "      <td>Zenaida</td>\n",
       "      <td>F</td>\n",
       "      <td>5</td>\n",
       "    </tr>\n",
       "    <tr>\n",
       "      <th>417453</th>\n",
       "      <td>1945</td>\n",
       "      <td>Zilla</td>\n",
       "      <td>F</td>\n",
       "      <td>5</td>\n",
       "    </tr>\n",
       "    <tr>\n",
       "      <th>417454</th>\n",
       "      <td>1945</td>\n",
       "      <td>Zonia</td>\n",
       "      <td>F</td>\n",
       "      <td>5</td>\n",
       "    </tr>\n",
       "  </tbody>\n",
       "</table>\n",
       "<p>31338 rows × 4 columns</p>\n",
       "</div>"
      ],
      "text/plain": [
       "        year      name sex  frequency\n",
       "366194  1940      Mary   F      56196\n",
       "366195  1940   Barbara   F      36732\n",
       "366196  1940  Patricia   F      32661\n",
       "366197  1940    Judith   F      22380\n",
       "366198  1940     Betty   F      22074\n",
       "...      ...       ...  ..        ...\n",
       "417450  1945    Zannie   F          5\n",
       "417451  1945   Zelphia   F          5\n",
       "417452  1945   Zenaida   F          5\n",
       "417453  1945     Zilla   F          5\n",
       "417454  1945     Zonia   F          5\n",
       "\n",
       "[31338 rows x 4 columns]"
      ]
     },
     "execution_count": 121,
     "metadata": {},
     "output_type": "execute_result"
    }
   ],
   "source": [
    "df[(df.year.between(1940,1945)) & (df.sex=='F')]"
   ]
  },
  {
   "cell_type": "code",
   "execution_count": null,
   "id": "97b4508d",
   "metadata": {},
   "outputs": [],
   "source": [
    "## Aggregation and Grouping"
   ]
  },
  {
   "cell_type": "code",
   "execution_count": 124,
   "id": "3b027262",
   "metadata": {},
   "outputs": [
    {
     "data": {
      "text/plain": [
       "183.39796743067828"
      ]
     },
     "execution_count": 124,
     "metadata": {},
     "output_type": "execute_result"
    }
   ],
   "source": [
    "df.frequency.mean()"
   ]
  },
  {
   "cell_type": "code",
   "execution_count": 125,
   "id": "4e7a861d",
   "metadata": {},
   "outputs": [
    {
     "data": {
      "text/plain": [
       "99680"
      ]
     },
     "execution_count": 125,
     "metadata": {},
     "output_type": "execute_result"
    }
   ],
   "source": [
    "df.frequency.max()"
   ]
  },
  {
   "cell_type": "markdown",
   "id": "9b8add59",
   "metadata": {},
   "source": [
    "## Selection and Aggregation"
   ]
  },
  {
   "cell_type": "code",
   "execution_count": 134,
   "id": "2a2a9723",
   "metadata": {},
   "outputs": [
    {
     "data": {
      "text/plain": [
       "5.993377308637478"
      ]
     },
     "execution_count": 134,
     "metadata": {},
     "output_type": "execute_result"
    }
   ],
   "source": [
    "df[df.sex=='M'].name_length.mean()"
   ]
  },
  {
   "cell_type": "code",
   "execution_count": 135,
   "id": "eac9d39d",
   "metadata": {},
   "outputs": [
    {
     "data": {
      "text/plain": [
       "6.298050944003023"
      ]
     },
     "execution_count": 135,
     "metadata": {},
     "output_type": "execute_result"
    }
   ],
   "source": [
    "df[df.sex=='F'].name_length.mean()"
   ]
  },
  {
   "cell_type": "code",
   "execution_count": 137,
   "id": "f8c12023",
   "metadata": {},
   "outputs": [
    {
     "data": {
      "text/plain": [
       "<AxesSubplot:ylabel='Frequency'>"
      ]
     },
     "execution_count": 137,
     "metadata": {},
     "output_type": "execute_result"
    },
    {
     "data": {
      "image/png": "[encoded data removed]",
      "text/plain": [
       "<Figure size 432x288 with 1 Axes>"
      ]
     },
     "metadata": {
      "needs_background": "light"
     },
     "output_type": "display_data"
    }
   ],
   "source": [
    "df[df.sex=='M'].name_length.plot(kind='hist',alpha=.5)\n",
    "df[df.sex=='F'].name_length.plot(kind='hist',alpha=.5)"
   ]
  },
  {
   "cell_type": "code",
   "execution_count": 138,
   "id": "e067454f",
   "metadata": {},
   "outputs": [
    {
     "data": {
      "text/html": [
       "<div>\n",
       "<style scoped>\n",
       "    .dataframe tbody tr th:only-of-type {\n",
       "        vertical-align: middle;\n",
       "    }\n",
       "\n",
       "    .dataframe tbody tr th {\n",
       "        vertical-align: top;\n",
       "    }\n",
       "\n",
       "    .dataframe thead th {\n",
       "        text-align: right;\n",
       "    }\n",
       "</style>\n",
       "<table border=\"1\" class=\"dataframe\">\n",
       "  <thead>\n",
       "    <tr style=\"text-align: right;\">\n",
       "      <th></th>\n",
       "      <th>year</th>\n",
       "      <th>frequency</th>\n",
       "      <th>name_length</th>\n",
       "    </tr>\n",
       "  </thead>\n",
       "  <tbody>\n",
       "    <tr>\n",
       "      <th>count</th>\n",
       "      <td>1.858436e+06</td>\n",
       "      <td>1.858436e+06</td>\n",
       "      <td>1.858436e+06</td>\n",
       "    </tr>\n",
       "    <tr>\n",
       "      <th>mean</th>\n",
       "      <td>1.973379e+03</td>\n",
       "      <td>1.833980e+02</td>\n",
       "      <td>6.173833e+00</td>\n",
       "    </tr>\n",
       "    <tr>\n",
       "      <th>std</th>\n",
       "      <td>3.369633e+01</td>\n",
       "      <td>1.555462e+03</td>\n",
       "      <td>1.472731e+00</td>\n",
       "    </tr>\n",
       "    <tr>\n",
       "      <th>min</th>\n",
       "      <td>1.880000e+03</td>\n",
       "      <td>5.000000e+00</td>\n",
       "      <td>2.000000e+00</td>\n",
       "    </tr>\n",
       "    <tr>\n",
       "      <th>25%</th>\n",
       "      <td>1.950000e+03</td>\n",
       "      <td>7.000000e+00</td>\n",
       "      <td>5.000000e+00</td>\n",
       "    </tr>\n",
       "    <tr>\n",
       "      <th>50%</th>\n",
       "      <td>1.983000e+03</td>\n",
       "      <td>1.200000e+01</td>\n",
       "      <td>6.000000e+00</td>\n",
       "    </tr>\n",
       "    <tr>\n",
       "      <th>75%</th>\n",
       "      <td>2.002000e+03</td>\n",
       "      <td>3.200000e+01</td>\n",
       "      <td>7.000000e+00</td>\n",
       "    </tr>\n",
       "    <tr>\n",
       "      <th>max</th>\n",
       "      <td>2.015000e+03</td>\n",
       "      <td>9.968000e+04</td>\n",
       "      <td>1.500000e+01</td>\n",
       "    </tr>\n",
       "  </tbody>\n",
       "</table>\n",
       "</div>"
      ],
      "text/plain": [
       "               year     frequency   name_length\n",
       "count  1.858436e+06  1.858436e+06  1.858436e+06\n",
       "mean   1.973379e+03  1.833980e+02  6.173833e+00\n",
       "std    3.369633e+01  1.555462e+03  1.472731e+00\n",
       "min    1.880000e+03  5.000000e+00  2.000000e+00\n",
       "25%    1.950000e+03  7.000000e+00  5.000000e+00\n",
       "50%    1.983000e+03  1.200000e+01  6.000000e+00\n",
       "75%    2.002000e+03  3.200000e+01  7.000000e+00\n",
       "max    2.015000e+03  9.968000e+04  1.500000e+01"
      ]
     },
     "execution_count": 138,
     "metadata": {},
     "output_type": "execute_result"
    }
   ],
   "source": [
    "df.describe()"
   ]
  },
  {
   "cell_type": "markdown",
   "id": "d3ef9ba6",
   "metadata": {},
   "source": [
    "### Groupby()"
   ]
  },
  {
   "cell_type": "markdown",
   "id": "8c163c68",
   "metadata": {},
   "source": [
    "![grouby](https://jakevdp.github.io/PythonDataScienceHandbook/figures/03.08-split-apply-combine.png)"
   ]
  },
  {
   "cell_type": "code",
   "execution_count": 141,
   "id": "016a3b7d",
   "metadata": {},
   "outputs": [
    {
     "data": {
      "text/html": [
       "<div>\n",
       "<style scoped>\n",
       "    .dataframe tbody tr th:only-of-type {\n",
       "        vertical-align: middle;\n",
       "    }\n",
       "\n",
       "    .dataframe tbody tr th {\n",
       "        vertical-align: top;\n",
       "    }\n",
       "\n",
       "    .dataframe thead th {\n",
       "        text-align: right;\n",
       "    }\n",
       "</style>\n",
       "<table border=\"1\" class=\"dataframe\">\n",
       "  <thead>\n",
       "    <tr style=\"text-align: right;\">\n",
       "      <th></th>\n",
       "      <th>year</th>\n",
       "      <th>frequency</th>\n",
       "      <th>name_length</th>\n",
       "    </tr>\n",
       "    <tr>\n",
       "      <th>sex</th>\n",
       "      <th></th>\n",
       "      <th></th>\n",
       "      <th></th>\n",
       "    </tr>\n",
       "  </thead>\n",
       "  <tbody>\n",
       "    <tr>\n",
       "      <th>F</th>\n",
       "      <td>1974.081408</td>\n",
       "      <td>153.399132</td>\n",
       "      <td>6.298051</td>\n",
       "    </tr>\n",
       "    <tr>\n",
       "      <th>M</th>\n",
       "      <td>1972.359507</td>\n",
       "      <td>226.978468</td>\n",
       "      <td>5.993377</td>\n",
       "    </tr>\n",
       "  </tbody>\n",
       "</table>\n",
       "</div>"
      ],
      "text/plain": [
       "            year   frequency  name_length\n",
       "sex                                      \n",
       "F    1974.081408  153.399132     6.298051\n",
       "M    1972.359507  226.978468     5.993377"
      ]
     },
     "execution_count": 141,
     "metadata": {},
     "output_type": "execute_result"
    }
   ],
   "source": [
    "df.groupby('sex').mean()"
   ]
  },
  {
   "cell_type": "code",
   "execution_count": 142,
   "id": "91473730",
   "metadata": {},
   "outputs": [
    {
     "data": {
      "text/plain": [
       "sex\n",
       "F    6.298051\n",
       "M    5.993377\n",
       "Name: name_length, dtype: float64"
      ]
     },
     "execution_count": 142,
     "metadata": {},
     "output_type": "execute_result"
    }
   ],
   "source": [
    "df.groupby('sex')['name_length'].mean()"
   ]
  },
  {
   "cell_type": "code",
   "execution_count": 147,
   "id": "6fb391a5",
   "metadata": {},
   "outputs": [
    {
     "data": {
      "text/plain": [
       "year  sex\n",
       "1880  F      5.773885\n",
       "      M      5.632923\n",
       "1881  F      5.750533\n",
       "      M      5.601406\n",
       "1882  F      5.805447\n",
       "               ...   \n",
       "2013  M      5.999786\n",
       "2014  F      6.317406\n",
       "      M      5.981319\n",
       "2015  F      6.303602\n",
       "      M      5.974853\n",
       "Name: name_length, Length: 272, dtype: float64"
      ]
     },
     "execution_count": 147,
     "metadata": {},
     "output_type": "execute_result"
    }
   ],
   "source": [
    "by_dec_sex = df.groupby(['year','sex'])['name_length'].mean()\n",
    "by_dec_sex"
   ]
  },
  {
   "cell_type": "markdown",
   "id": "7a24285e",
   "metadata": {},
   "source": [
    "## Intermezzo: Hierarchical Index"
   ]
  },
  {
   "cell_type": "code",
   "execution_count": 161,
   "id": "d2a32628",
   "metadata": {},
   "outputs": [
    {
     "data": {
      "text/plain": [
       "year  sex\n",
       "1880  F      5.773885\n",
       "      M      5.632923\n",
       "1881  F      5.750533\n",
       "      M      5.601406\n",
       "1882  F      5.805447\n",
       "      M      5.646630\n",
       "1883  F      5.771347\n",
       "      M      5.620019\n",
       "1884  F      5.795222\n",
       "      M      5.633778\n",
       "1885  F      5.772765\n",
       "      M      5.643248\n",
       "Name: name_length, dtype: float64"
      ]
     },
     "execution_count": 161,
     "metadata": {},
     "output_type": "execute_result"
    }
   ],
   "source": [
    "by_dec_sex.loc[1880:1885]"
   ]
  },
  {
   "cell_type": "code",
   "execution_count": 163,
   "id": "8f090a49",
   "metadata": {},
   "outputs": [
    {
     "data": {
      "text/plain": [
       "year  sex\n",
       "1880  F      5.773885\n",
       "1881  F      5.750533\n",
       "1882  F      5.805447\n",
       "1883  F      5.771347\n",
       "1884  F      5.795222\n",
       "1885  F      5.772765\n",
       "Name: name_length, dtype: float64"
      ]
     },
     "execution_count": 163,
     "metadata": {},
     "output_type": "execute_result"
    }
   ],
   "source": [
    "by_dec_sex.loc[1880:1885,'F']"
   ]
  },
  {
   "cell_type": "code",
   "execution_count": 165,
   "id": "1ed070bb",
   "metadata": {},
   "outputs": [
    {
     "data": {
      "text/plain": [
       "<AxesSubplot:xlabel='year'>"
      ]
     },
     "execution_count": 165,
     "metadata": {},
     "output_type": "execute_result"
    },
    {
     "data": {
      "image/png": "[encoded data removed]",
      "text/plain": [
       "<Figure size 432x288 with 1 Axes>"
      ]
     },
     "metadata": {
      "needs_background": "light"
     },
     "output_type": "display_data"
    }
   ],
   "source": [
    "by_dec_sex.loc[:,'F'].plot()\n",
    "by_dec_sex.loc[:,'M'].plot()"
   ]
  },
  {
   "cell_type": "code",
   "execution_count": 167,
   "id": "b3a3aeae",
   "metadata": {},
   "outputs": [
    {
     "data": {
      "text/plain": [
       "<AxesSubplot:xlabel='year'>"
      ]
     },
     "execution_count": 167,
     "metadata": {},
     "output_type": "execute_result"
    },
    {
     "data": {
      "image/png": "[encoded data removed]",
      "text/plain": [
       "<Figure size 432x288 with 1 Axes>"
      ]
     },
     "metadata": {
      "needs_background": "light"
     },
     "output_type": "display_data"
    }
   ],
   "source": [
    "by_dec_sex.unstack().plot()"
   ]
  },
  {
   "cell_type": "code",
   "execution_count": 170,
   "id": "8f3b56b6",
   "metadata": {},
   "outputs": [
    {
     "data": {
      "text/html": [
       "<div>\n",
       "<style scoped>\n",
       "    .dataframe tbody tr th:only-of-type {\n",
       "        vertical-align: middle;\n",
       "    }\n",
       "\n",
       "    .dataframe tbody tr th {\n",
       "        vertical-align: top;\n",
       "    }\n",
       "\n",
       "    .dataframe thead th {\n",
       "        text-align: right;\n",
       "    }\n",
       "</style>\n",
       "<table border=\"1\" class=\"dataframe\">\n",
       "  <thead>\n",
       "    <tr style=\"text-align: right;\">\n",
       "      <th></th>\n",
       "      <th></th>\n",
       "      <th>min</th>\n",
       "      <th>max</th>\n",
       "      <th>mean</th>\n",
       "      <th>median</th>\n",
       "    </tr>\n",
       "    <tr>\n",
       "      <th>year</th>\n",
       "      <th>sex</th>\n",
       "      <th></th>\n",
       "      <th></th>\n",
       "      <th></th>\n",
       "      <th></th>\n",
       "    </tr>\n",
       "  </thead>\n",
       "  <tbody>\n",
       "    <tr>\n",
       "      <th rowspan=\"2\" valign=\"top\">1880</th>\n",
       "      <th>F</th>\n",
       "      <td>3</td>\n",
       "      <td>10</td>\n",
       "      <td>5.773885</td>\n",
       "      <td>6.0</td>\n",
       "    </tr>\n",
       "    <tr>\n",
       "      <th>M</th>\n",
       "      <td>2</td>\n",
       "      <td>11</td>\n",
       "      <td>5.632923</td>\n",
       "      <td>6.0</td>\n",
       "    </tr>\n",
       "    <tr>\n",
       "      <th rowspan=\"2\" valign=\"top\">1881</th>\n",
       "      <th>F</th>\n",
       "      <td>2</td>\n",
       "      <td>10</td>\n",
       "      <td>5.750533</td>\n",
       "      <td>6.0</td>\n",
       "    </tr>\n",
       "    <tr>\n",
       "      <th>M</th>\n",
       "      <td>2</td>\n",
       "      <td>11</td>\n",
       "      <td>5.601406</td>\n",
       "      <td>6.0</td>\n",
       "    </tr>\n",
       "    <tr>\n",
       "      <th>1882</th>\n",
       "      <th>F</th>\n",
       "      <td>3</td>\n",
       "      <td>10</td>\n",
       "      <td>5.805447</td>\n",
       "      <td>6.0</td>\n",
       "    </tr>\n",
       "    <tr>\n",
       "      <th>...</th>\n",
       "      <th>...</th>\n",
       "      <td>...</td>\n",
       "      <td>...</td>\n",
       "      <td>...</td>\n",
       "      <td>...</td>\n",
       "    </tr>\n",
       "    <tr>\n",
       "      <th>2013</th>\n",
       "      <th>M</th>\n",
       "      <td>2</td>\n",
       "      <td>14</td>\n",
       "      <td>5.999786</td>\n",
       "      <td>6.0</td>\n",
       "    </tr>\n",
       "    <tr>\n",
       "      <th rowspan=\"2\" valign=\"top\">2014</th>\n",
       "      <th>F</th>\n",
       "      <td>2</td>\n",
       "      <td>14</td>\n",
       "      <td>6.317406</td>\n",
       "      <td>6.0</td>\n",
       "    </tr>\n",
       "    <tr>\n",
       "      <th>M</th>\n",
       "      <td>2</td>\n",
       "      <td>15</td>\n",
       "      <td>5.981319</td>\n",
       "      <td>6.0</td>\n",
       "    </tr>\n",
       "    <tr>\n",
       "      <th rowspan=\"2\" valign=\"top\">2015</th>\n",
       "      <th>F</th>\n",
       "      <td>2</td>\n",
       "      <td>14</td>\n",
       "      <td>6.303602</td>\n",
       "      <td>6.0</td>\n",
       "    </tr>\n",
       "    <tr>\n",
       "      <th>M</th>\n",
       "      <td>2</td>\n",
       "      <td>15</td>\n",
       "      <td>5.974853</td>\n",
       "      <td>6.0</td>\n",
       "    </tr>\n",
       "  </tbody>\n",
       "</table>\n",
       "<p>272 rows × 4 columns</p>\n",
       "</div>"
      ],
      "text/plain": [
       "          min  max      mean  median\n",
       "year sex                            \n",
       "1880 F      3   10  5.773885     6.0\n",
       "     M      2   11  5.632923     6.0\n",
       "1881 F      2   10  5.750533     6.0\n",
       "     M      2   11  5.601406     6.0\n",
       "1882 F      3   10  5.805447     6.0\n",
       "...       ...  ...       ...     ...\n",
       "2013 M      2   14  5.999786     6.0\n",
       "2014 F      2   14  6.317406     6.0\n",
       "     M      2   15  5.981319     6.0\n",
       "2015 F      2   14  6.303602     6.0\n",
       "     M      2   15  5.974853     6.0\n",
       "\n",
       "[272 rows x 4 columns]"
      ]
     },
     "execution_count": 170,
     "metadata": {},
     "output_type": "execute_result"
    }
   ],
   "source": [
    "df.groupby(['year','sex'])['name_length'].agg(['min','max','mean','median'])"
   ]
  },
  {
   "cell_type": "code",
   "execution_count": 171,
   "id": "53ea63bf",
   "metadata": {},
   "outputs": [],
   "source": [
    "df['end-n'] = df.name.str.endswith('n')"
   ]
  },
  {
   "cell_type": "code",
   "execution_count": 172,
   "id": "10c043ba",
   "metadata": {},
   "outputs": [
    {
     "data": {
      "text/plain": [
       "0          False\n",
       "1          False\n",
       "2          False\n",
       "3          False\n",
       "4          False\n",
       "           ...  \n",
       "1858431    False\n",
       "1858432    False\n",
       "1858433    False\n",
       "1858434    False\n",
       "1858435    False\n",
       "Name: end-n, Length: 1858436, dtype: bool"
      ]
     },
     "execution_count": 172,
     "metadata": {},
     "output_type": "execute_result"
    }
   ],
   "source": [
    "df['end-n']"
   ]
  },
  {
   "cell_type": "code",
   "execution_count": 189,
   "id": "31586660",
   "metadata": {},
   "outputs": [
    {
     "data": {
      "text/plain": [
       "<AxesSubplot:xlabel='year'>"
      ]
     },
     "execution_count": 189,
     "metadata": {},
     "output_type": "execute_result"
    },
    {
     "data": {
      "image/png": "[encoded data removed]",
      "text/plain": [
       "<Figure size 432x288 with 1 Axes>"
      ]
     },
     "metadata": {
      "needs_background": "light"
     },
     "output_type": "display_data"
    }
   ],
   "source": [
    "df[df.sex=='M'].groupby('year')['end-n'].sum().plot()"
   ]
  },
  {
   "cell_type": "code",
   "execution_count": 190,
   "id": "8922ca91",
   "metadata": {},
   "outputs": [
    {
     "data": {
      "text/plain": [
       "<AxesSubplot:xlabel='year'>"
      ]
     },
     "execution_count": 190,
     "metadata": {},
     "output_type": "execute_result"
    },
    {
     "data": {
      "image/png": "[encoded data removed]",
      "text/plain": [
       "<Figure size 432x288 with 1 Axes>"
      ]
     },
     "metadata": {
      "needs_background": "light"
     },
     "output_type": "display_data"
    }
   ],
   "source": [
    "df[df.sex=='M'].groupby('year')['end-n'].mean().plot()"
   ]
  },
  {
   "cell_type": "code",
   "execution_count": 191,
   "id": "4f0e78c2",
   "metadata": {},
   "outputs": [
    {
     "data": {
      "text/plain": [
       "<AxesSubplot:xlabel='year'>"
      ]
     },
     "execution_count": 191,
     "metadata": {},
     "output_type": "execute_result"
    },
    {
     "data": {
      "image/png": "[encoded data removed]",
      "text/plain": [
       "<Figure size 432x288 with 1 Axes>"
      ]
     },
     "metadata": {
      "needs_background": "light"
     },
     "output_type": "display_data"
    }
   ],
   "source": [
    "df[df.sex=='M'].groupby('year')['end-n'].apply(lambda x: x.sum() / len(x)).plot()"
   ]
  },
  {
   "cell_type": "code",
   "execution_count": 192,
   "id": "c97de901",
   "metadata": {},
   "outputs": [
    {
     "data": {
      "text/plain": [
       "<AxesSubplot:xlabel='year'>"
      ]
     },
     "execution_count": 192,
     "metadata": {},
     "output_type": "execute_result"
    },
    {
     "data": {
      "image/png": "[encoded data removed]",
      "text/plain": [
       "<Figure size 432x288 with 1 Axes>"
      ]
     },
     "metadata": {
      "needs_background": "light"
     },
     "output_type": "display_data"
    }
   ],
   "source": [
    "## Exercise\n",
    "df['starts-a'] = df.name.str.lower().str.startswith('a')\n",
    "df[df.sex=='F'].groupby('year')['starts-a'].mean().plot()"
   ]
  },
  {
   "cell_type": "markdown",
   "id": "70a4e8bb",
   "metadata": {},
   "source": [
    "## Lambda functions"
   ]
  },
  {
   "cell_type": "code",
   "execution_count": 187,
   "id": "f8af157d",
   "metadata": {},
   "outputs": [],
   "source": [
    "tt = lambda x: len(x) / x.sum()\n",
    "tt_by_year_sex = df.groupby(['year','sex'])['frequency'].apply(tt)"
   ]
  },
  {
   "cell_type": "code",
   "execution_count": 188,
   "id": "42899cf6",
   "metadata": {},
   "outputs": [
    {
     "data": {
      "text/plain": [
       "<AxesSubplot:xlabel='year'>"
      ]
     },
     "execution_count": 188,
     "metadata": {},
     "output_type": "execute_result"
    },
    {
     "data": {
      "image/png": "[encoded data removed]",
      "text/plain": [
       "<Figure size 432x288 with 1 Axes>"
      ]
     },
     "metadata": {
      "needs_background": "light"
     },
     "output_type": "display_data"
    }
   ],
   "source": [
    "tt_by_year_sex.unstack().plot()"
   ]
  },
  {
   "cell_type": "markdown",
   "id": "667e7ae5",
   "metadata": {},
   "source": [
    "## Victorian Accidents"
   ]
  },
  {
   "cell_type": "code",
   "execution_count": null,
   "id": "3cfa61d1",
   "metadata": {},
   "outputs": [],
   "source": []
  }
 ],
 "metadata": {
  "kernelspec": {
   "display_name": "torch_geo",
   "language": "python",
   "name": "torch_geo"
  },
  "language_info": {
   "codemirror_mode": {
    "name": "ipython",
    "version": 3
   },
   "file_extension": ".py",
   "mimetype": "text/x-python",
   "name": "python",
   "nbconvert_exporter": "python",
   "pygments_lexer": "ipython3",
   "version": "3.9.12"
  }
 },
 "nbformat": 4,
 "nbformat_minor": 5
}
