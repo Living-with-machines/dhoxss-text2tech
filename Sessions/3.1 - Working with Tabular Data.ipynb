{
 "cells": [
  {
   "cell_type": "markdown",
   "id": "0818404a",
   "metadata": {
    "slideshow": {
     "slide_type": "slide"
    }
   },
   "source": [
    "# Today, a Tale About Pythons and Pandas\n",
    "![pandas](https://miro.medium.com/max/1400/1*6d5dw6dPhy4vBp2vRW6uzw.png)"
   ]
  },
  {
   "cell_type": "markdown",
   "id": "abef25e4",
   "metadata": {
    "slideshow": {
     "slide_type": "slide"
    }
   },
   "source": [
    "# 1. Introduction\n",
    "\n",
    "## 1.2 Recap\n",
    "So far, we discussed\n",
    "- the basics of **programming** in Python \n",
    "- elementary techniques for **text processing**\n",
    "\n",
    "\"Text\" came primarily as **string variables* or `.txt` files."
   ]
  },
  {
   "cell_type": "markdown",
   "id": "835fef81",
   "metadata": {
    "slideshow": {
     "slide_type": "slide"
    }
   },
   "source": [
    "## 1.2 This Session: Analysing Texts Embedded in Tabular Data\n",
    "\n",
    "\n",
    "- In practice, text is often embedded in other **formats**.\n",
    "- Common types are CSV and XML files (or JSON, but we covered that briefly in the previous sessions).\n",
    "- In the morning, we look at tabular data (CSV). In the afternoon, we cover XML.\n",
    "  "
   ]
  },
  {
   "cell_type": "markdown",
   "id": "148cad37",
   "metadata": {
    "slideshow": {
     "slide_type": "slide"
    }
   },
   "source": [
    "More generally, we have to talk about data **formats**...\n",
    "    \n",
    "![img](https://media.giphy.com/media/3d5O10XObbr8LW4bDY/giphy.gif)"
   ]
  },
  {
   "cell_type": "markdown",
   "id": "4e1a1a8f",
   "metadata": {
    "slideshow": {
     "slide_type": "slide"
    }
   },
   "source": [
    " ... but also, we explore more **realistic research scenarios** using our novel computational skills!\n",
    " \n",
    " ![img](https://media.giphy.com/media/UuebWyG4pts3rboawU/giphy.gif)"
   ]
  },
  {
   "cell_type": "markdown",
   "id": "7a9903a3",
   "metadata": {
    "slideshow": {
     "slide_type": "slide"
    }
   },
   "source": [
    "In order to get there, we need to cover quite some ground in one session. \n",
    "\n",
    "This session may feel like an information overload (at times) but don't worry if you don't understand everything at once. It took me multiple years.\n",
    "\n",
    "It will take time, but I hope that at the end of this notebook you have an intuition (before having mastered the skills). Patience is key, sorry...\n",
    "\n",
    "![](https://media.giphy.com/media/UxREcFThpSEqk/giphy.gif)"
   ]
  },
  {
   "cell_type": "markdown",
   "id": "aa92af0e",
   "metadata": {
    "slideshow": {
     "slide_type": "slide"
    }
   },
   "source": [
    "# 2. What is Tabular Data?\n",
    "\n",
    "- Organized in **rows** (observations) and **columns** (features/attributes of these observations). [Example](https://github.com/Living-with-machines/dhoxss-text2tech/blob/dev/Sessions/data/names_extract.csv)\n",
    "- Tabular, structured data often stored in a CSV format (Comma Separated Values). [Example](https://raw.githubusercontent.com/Living-with-machines/dhoxss-text2tech/dev/Sessions/data/names_extract.csv)\n",
    "- A very common format for **storing** and **exchanging** text data (think of spreadsheets!)\n",
    "- Most importantly, this format relates **text to context** (e.g. name (text) to year and frequency (context).\n",
    "\n",
    "**Studying the relation between text and context is the focus of this session.**\n",
    "\n"
   ]
  },
  {
   "cell_type": "markdown",
   "id": "74368628",
   "metadata": {
    "slideshow": {
     "slide_type": "slide"
    }
   },
   "source": [
    "# 3. Pandas to the rescue! (or libraries continued)\n",
    "\n",
    "The library we will be looking at in this session is called 'Pandas' (and explains all the excellent gifs in this Notebook ;-) )\n",
    "\n",
    "![pandas](https://media.giphy.com/media/EatwJZRUIv41G/giphy.gif)"
   ]
  },
  {
   "cell_type": "markdown",
   "id": "bb2e92c6",
   "metadata": {
    "slideshow": {
     "slide_type": "slide"
    }
   },
   "source": [
    "Pandas' functionalities are the bread and butter for doing **data science** in Python. \n",
    "\n",
    "\n",
    "## Ho, wait...\n",
    "![](https://media.giphy.com/media/o7OChVtT1oqmk/giphy.gif)\n",
    "\n",
    "We are in a course on text analysis, not (applied) data science.\n",
    "\n",
    "#### Yes, but:\n",
    "\n",
    "- any venture into text mining will require some data science skills (a critical aspect of \"distant reading\").\n",
    "- in practice, these fields overlap \n",
    "- yes, **there will be numbers**\n",
    "\n",
    "Text-as-data often involves turning texts into numbers, which we then analyse."
   ]
  },
  {
   "cell_type": "markdown",
   "id": "7ac4051a",
   "metadata": {},
   "source": [
    "Let's start with importing Pandas into our notebook."
   ]
  },
  {
   "cell_type": "code",
   "execution_count": null,
   "id": "010fdfb4",
   "metadata": {
    "slideshow": {
     "slide_type": "fragment"
    }
   },
   "outputs": [],
   "source": [
    "import pandas as pd # import pandas using pd as abbreviation\n",
    "print(pd.__doc__) # import the __doc__ attribute attached to pd"
   ]
  },
  {
   "cell_type": "markdown",
   "id": "a8349d00",
   "metadata": {
    "slideshow": {
     "slide_type": "slide"
    }
   },
   "source": [
    "Notice that using `pd` as an abbreviation for `pandas` is merely a **convention** and you are free to use any other (syntactically acceptable) shorthand\n",
    "\n",
    "The command below \n",
    "```python\n",
    "import pandas as dfsfgjrelfgdjgkldsjgkdfgjdfklgjdfklgjkflskfdklfsk \n",
    "```\n",
    "\n",
    "will work but will also make your life miserable..."
   ]
  },
  {
   "cell_type": "markdown",
   "id": "7fe6f8e9",
   "metadata": {
    "slideshow": {
     "slide_type": "slide"
    }
   },
   "source": [
    "## 3.1 Opening a CSV File\n",
    "\n",
    "Given a path, Pandas will **open**, **read** and **parse** the CSV file and return it as a `DataFrame` object. In this case, we are loading more \"serious\" data, i.e. a frequency list of American baby names after 1880 till the present.\n",
    "\n",
    "This lecture is based on two excellent books:\n",
    "  - Chapter 3 of [Python Data Science Handbook](https://jakevdp.github.io/PythonDataScienceHandbook/) by Jake VanderPlas\n",
    "  - Chapter 4 of [Humanities Data Analysis](https://www.humanitiesdataanalysis.org/) by Folgert Karsdorp, Mike Kestemont, and Allen Riddell."
   ]
  },
  {
   "cell_type": "code",
   "execution_count": null,
   "id": "68dc569c",
   "metadata": {
    "slideshow": {
     "slide_type": "slide"
    }
   },
   "outputs": [],
   "source": [
    "%%bash\n",
    "# we need to unzip the file first\n",
    "# run this cell before continuing\n",
    "# we need to unzip a larger csv file with name data\n",
    "unzip data/names.zip -d data # unzip data\n",
    "ls data # the content"
   ]
  },
  {
   "cell_type": "markdown",
   "id": "3d7d37bf",
   "metadata": {
    "slideshow": {
     "slide_type": "slide"
    }
   },
   "source": [
    "\n",
    "\n",
    "\n",
    "Let's inspect a realistic example: a list of [American baby names](https://www.ssa.gov/OACT/babynames/limits.html). We can open this `.csv` file as we have previously done. \n",
    "- Note the `sep` attribute (when working with `.tsv` files, you need to use \"\\t\")"
   ]
  },
  {
   "cell_type": "code",
   "execution_count": null,
   "id": "1b217e0e",
   "metadata": {
    "slideshow": {
     "slide_type": "slide"
    }
   },
   "outputs": [],
   "source": [
    "# sep has ',' as default value, change this parameter to '\\t' if you need to open a tsv file\n",
    "df = pd.read_csv('data/names.csv', sep=',')\n",
    "df"
   ]
  },
  {
   "cell_type": "markdown",
   "id": "f1e0e02e",
   "metadata": {
    "slideshow": {
     "slide_type": "slide"
    }
   },
   "source": [
    "Never believe me on my word, always check the data type!"
   ]
  },
  {
   "cell_type": "code",
   "execution_count": null,
   "id": "4dbf8375",
   "metadata": {
    "slideshow": {
     "slide_type": "fragment"
    }
   },
   "outputs": [],
   "source": [
    "type(df)"
   ]
  },
  {
   "cell_type": "markdown",
   "id": "c7273e8b",
   "metadata": {
    "slideshow": {
     "slide_type": "slide"
    }
   },
   "source": [
    "## 3.2 Exploring Pandas DataFrames\n",
    "\n",
    "As with other Python objects, the `DataFrame` comes with a specific set of **attributes** and **methods**, tools that you can use to inspect, analyse and manipulate tabular information.\n",
    "\n",
    "Important **attributes** for understanding the contours of your data are `.shape` and `.columns`."
   ]
  },
  {
   "cell_type": "code",
   "execution_count": null,
   "id": "d6fb744d",
   "metadata": {
    "slideshow": {
     "slide_type": "fragment"
    }
   },
   "outputs": [],
   "source": [
    "df.shape # returns the number of rows and columns as a tuple"
   ]
  },
  {
   "cell_type": "code",
   "execution_count": null,
   "id": "02782560",
   "metadata": {
    "slideshow": {
     "slide_type": "fragment"
    }
   },
   "outputs": [],
   "source": [
    "df.columns # returns the column names"
   ]
  },
  {
   "cell_type": "code",
   "execution_count": null,
   "id": "f47d8438",
   "metadata": {
    "slideshow": {
     "slide_type": "slide"
    }
   },
   "outputs": [],
   "source": [
    "help(df) # heeeeelp!"
   ]
  },
  {
   "cell_type": "markdown",
   "id": "1447b704",
   "metadata": {
    "slideshow": {
     "slide_type": "slide"
    }
   },
   "source": [
    "We observe the general shape of the dataframe, but what's actually in there? Let's explore the **content** of our dataframe. "
   ]
  },
  {
   "cell_type": "code",
   "execution_count": null,
   "id": "1076dffd",
   "metadata": {
    "slideshow": {
     "slide_type": "slide"
    }
   },
   "outputs": [],
   "source": [
    "# head allows us to view the first n rows\n",
    "df.head(4)"
   ]
  },
  {
   "cell_type": "code",
   "execution_count": null,
   "id": "5fa6249e",
   "metadata": {
    "slideshow": {
     "slide_type": "fragment"
    }
   },
   "outputs": [],
   "source": [
    "df.tail(4)"
   ]
  },
  {
   "cell_type": "markdown",
   "id": "914f4067",
   "metadata": {
    "slideshow": {
     "slide_type": "slide"
    }
   },
   "source": [
    "Data in these spreadsheets are often ordered in certain ways. Therefore `.head()` and `.tail()` can give a misleading impression. `.sample()` allows us to view a random set of n rows."
   ]
  },
  {
   "cell_type": "code",
   "execution_count": null,
   "id": "3dde2221",
   "metadata": {
    "slideshow": {
     "slide_type": "fragment"
    }
   },
   "outputs": [],
   "source": [
    "df.sample(4)"
   ]
  },
  {
   "cell_type": "markdown",
   "id": "8d568fe6",
   "metadata": {},
   "source": [
    "Besides inspecting specific observations (rows), Pandas' `describe()` method returns a **quantitative summary** of all numerical columns in the dataframe."
   ]
  },
  {
   "cell_type": "code",
   "execution_count": null,
   "id": "e8a7f6c3",
   "metadata": {
    "slideshow": {
     "slide_type": "slide"
    }
   },
   "outputs": [],
   "source": [
    "help(df.describe)"
   ]
  },
  {
   "cell_type": "code",
   "execution_count": null,
   "id": "a010aea7",
   "metadata": {
    "slideshow": {
     "slide_type": "slide"
    }
   },
   "outputs": [],
   "source": [
    "df.describe()"
   ]
  },
  {
   "cell_type": "markdown",
   "id": "1221d871",
   "metadata": {
    "slideshow": {
     "slide_type": "slide"
    }
   },
   "source": [
    "## 3.3 Sequencing methods\n",
    "\n",
    "This table is not very readable. Let's print this more neatly by using two methods in a sequence\n",
    "- firstly, we generate the summary dataframe with `describe()`\n",
    "- secondly, we round the numbers in this summary dataframe to their second decimal\n",
    "\n",
    "Using dot notation, we can easily create a chain of multiple operations.\n",
    "\n",
    "The general syntax is:\n",
    "\n",
    "```python\n",
    "df.method_1().method_2().method_3()\n",
    "```\n",
    "\n",
    "The operations are executed from left to right."
   ]
  },
  {
   "cell_type": "code",
   "execution_count": null,
   "id": "8a98a255",
   "metadata": {
    "slideshow": {
     "slide_type": "fragment"
    }
   },
   "outputs": [],
   "source": [
    "# dot notation -> read from left to right\n",
    "# describe numerical values in the dataframe\n",
    "# this returns a dataframe\n",
    "# round the numerical values to the third decimal\n",
    "df.describe().round(2)"
   ]
  },
  {
   "cell_type": "markdown",
   "id": "03c9d431",
   "metadata": {
    "slideshow": {
     "slide_type": "slide"
    }
   },
   "source": [
    "Note that this is identical to the code below, but shorter and quite common syntax."
   ]
  },
  {
   "cell_type": "code",
   "execution_count": null,
   "id": "e8305236",
   "metadata": {
    "slideshow": {
     "slide_type": "fragment"
    }
   },
   "outputs": [],
   "source": [
    "df_described = df.describe()\n",
    "df_described.round(2)"
   ]
  },
  {
   "cell_type": "markdown",
   "id": "4edd0077",
   "metadata": {
    "slideshow": {
     "slide_type": "slide"
    }
   },
   "source": [
    "\n",
    "### ✏️ Questions:\n",
    "\n",
    "- Which columns are missing and why?\n",
    "- What do the numbers actually mean? Which ones could be interesting?\n",
    "- Which value is the **median** in this summary?\n",
    "- Why are the median and mean so different for the `frequency` column?"
   ]
  },
  {
   "cell_type": "code",
   "execution_count": null,
   "id": "6b0d628c",
   "metadata": {
    "slideshow": {
     "slide_type": "fragment"
    }
   },
   "outputs": [],
   "source": [
    "# type answer here"
   ]
  },
  {
   "cell_type": "markdown",
   "id": "a82d5ea0",
   "metadata": {
    "slideshow": {
     "slide_type": "slide"
    }
   },
   "source": [
    "`describe()` returns a (statistical) summary for each column that contains **numerical information** (i.e. are of type `int` or `float`). \n",
    "\n",
    "For example, you'll notice that the `name` and `sex` columns are not present in the output. When working with dataframes, it is critical to be aware of the **data types** (abbreviated as `dtypes`) present in your table. \n",
    "\n",
    "You can access data types under the `dtype` attribute.\n"
   ]
  },
  {
   "cell_type": "code",
   "execution_count": null,
   "id": "a40afd3a",
   "metadata": {
    "slideshow": {
     "slide_type": "fragment"
    }
   },
   "outputs": [],
   "source": [
    "df.dtypes"
   ]
  },
  {
   "cell_type": "markdown",
   "id": "b3af8f95",
   "metadata": {
    "slideshow": {
     "slide_type": "slide"
    }
   },
   "source": [
    "### ✏️ 1. Exercise:\n",
    "\n",
    "The `data` folder contains one more interesting dataset (`muse_v3.csv`), the [MuSe](https://www.kaggle.com/datasets/cakiki/muse-the-musical-sentiment-dataset) or The Musical Sentiment Dataset.\n",
    "\n",
    "On the Kaggle website, the dataset is described as:\n",
    "\n",
    "> The MuSe dataset contains sentiment information for 90,001 songs. The sentiment conveyed by a song is derived from the social tags given ot that song on Last.fm, derived through the Warriner et al. database, and expressed across 3 dimensions:\n",
    "\n",
    ">valence (\"the pleasantness of a stimulus\") arousal (\"the intensity of emotion provoked by a stimulus\") dominance  (\"the degree of control exerted by a stimulus\")\n",
    "\n",
    "- Open the MuSe dataset with Pandas and save the resulting dataframe in the variable `muse_df`.\n",
    "- Randomly select 10 rows.\n",
    "- Apply the `describe()` method to `df_muse`, what do these numbers tell you?"
   ]
  },
  {
   "cell_type": "code",
   "execution_count": null,
   "id": "0d22199b",
   "metadata": {
    "slideshow": {
     "slide_type": "slide"
    }
   },
   "outputs": [],
   "source": [
    "%%bash\n",
    "# run this cell before continuing\n",
    "# we need to unzip a larger csv file with name data\n",
    "unzip data/muse_v3.csv.zip -d data # unzip data\n",
    "ls data # the content"
   ]
  },
  {
   "cell_type": "code",
   "execution_count": null,
   "id": "6324d80f",
   "metadata": {
    "slideshow": {
     "slide_type": "slide"
    }
   },
   "outputs": [],
   "source": [
    "# open muse dataset\n",
    "# df_muse = "
   ]
  },
  {
   "cell_type": "code",
   "execution_count": null,
   "id": "f7bcd187",
   "metadata": {
    "slideshow": {
     "slide_type": "fragment"
    }
   },
   "outputs": [],
   "source": [
    "# randomly select 10 rows"
   ]
  },
  {
   "cell_type": "code",
   "execution_count": null,
   "id": "83c9ed5a",
   "metadata": {
    "slideshow": {
     "slide_type": "fragment"
    }
   },
   "outputs": [],
   "source": [
    "# apply the describe method"
   ]
  },
  {
   "cell_type": "markdown",
   "id": "ab620a75",
   "metadata": {
    "slideshow": {
     "slide_type": "slide"
    }
   },
   "source": [
    "Important: `describe()` doesn't work for text columns. We need **additional** tools to analyse these fields."
   ]
  },
  {
   "cell_type": "markdown",
   "id": "cb2e0bc1",
   "metadata": {
    "slideshow": {
     "slide_type": "slide"
    }
   },
   "source": [
    "# 4. Analysing Text in Tabular Data\n",
    "\n",
    "So far we've shown how to import and view CSV data. How can we actually interrogate and work with these files? \n",
    "\n",
    "**More specifically, how to use tabular data for text analysis?**\n",
    "\n",
    "\n",
    "\n",
    "To do this we need to cover three steps:\n",
    "- **Selecting** data (column and row-wise): what parts of the dataframe are relevant to your research?\n",
    "- **Manipulating text columns**: converting text to numbers\n",
    "- **Aggregating data**: analysing trends over time or language use across different groups\n"
   ]
  },
  {
   "cell_type": "markdown",
   "id": "6e7a7a6b",
   "metadata": {
    "slideshow": {
     "slide_type": "slide"
    }
   },
   "source": [
    "\n",
    "## 4.1 Data Selection\n",
    "\n",
    "- Research often requires **data selection** (or sampling). What information is relevant to your research (e.g. a historical period)?\n",
    "- Selection criteria based on **content** and/or **metadata**.\n",
    "- In this example `names` are the **content**, and `year` and `gender` are **metadata**."
   ]
  },
  {
   "cell_type": "markdown",
   "id": "8e919c61",
   "metadata": {
    "slideshow": {
     "slide_type": "slide"
    }
   },
   "source": [
    "Selecting data from lists and dictionaries:\n",
    "\n",
    "- retrieving values by position:\n",
    "```python \n",
    "l = ['a','b']\n",
    "l[1]\n",
    "```\n",
    "- retrieving values by key:\n",
    "```python \n",
    "d = {'a': 1}\n",
    "d['a']\n",
    "```\n",
    "\n",
    "Dataframes provide more powerful and advanced tools for selecting data compared to those that come with lists or dictionaries.\n",
    "\n",
    "More technically, a `DataFrame` is a **two-dimensional array** of **indexed data** (which means that you to access content by row **and/or** column)."
   ]
  },
  {
   "cell_type": "markdown",
   "id": "d663df89",
   "metadata": {
    "slideshow": {
     "slide_type": "slide"
    }
   },
   "source": [
    "The code below shows the row and column index."
   ]
  },
  {
   "cell_type": "code",
   "execution_count": null,
   "id": "a9c6543a",
   "metadata": {
    "slideshow": {
     "slide_type": "fragment"
    }
   },
   "outputs": [],
   "source": [
    "df.index # row index, index is a list of numbers"
   ]
  },
  {
   "cell_type": "code",
   "execution_count": null,
   "id": "a77a65aa",
   "metadata": {
    "slideshow": {
     "slide_type": "fragment"
    }
   },
   "outputs": [],
   "source": [
    "df.columns # column index, index is a list of names"
   ]
  },
  {
   "cell_type": "markdown",
   "id": "8bb70e36",
   "metadata": {
    "slideshow": {
     "slide_type": "slide"
    }
   },
   "source": [
    "## 4.2 Retrieving data column-wise\n",
    "\n",
    "\n"
   ]
  },
  {
   "cell_type": "markdown",
   "id": "8f5186d8",
   "metadata": {
    "slideshow": {
     "slide_type": "slide"
    }
   },
   "source": [
    "In the code cell below we get the full `'name'` column."
   ]
  },
  {
   "cell_type": "code",
   "execution_count": null,
   "id": "73c5fa56",
   "metadata": {
    "slideshow": {
     "slide_type": "slide"
    }
   },
   "outputs": [],
   "source": [
    "# a simple way to retrieve a column\n",
    "df['name']"
   ]
  },
  {
   "cell_type": "markdown",
   "id": "fdecf46c",
   "metadata": {
    "slideshow": {
     "slide_type": "slide"
    }
   },
   "source": [
    "As an aside, both rows and columns are instances of the `Series` class."
   ]
  },
  {
   "cell_type": "code",
   "execution_count": null,
   "id": "f5670683",
   "metadata": {
    "slideshow": {
     "slide_type": "subslide"
    }
   },
   "outputs": [],
   "source": [
    "type(df['name'])"
   ]
  },
  {
   "cell_type": "markdown",
   "id": "93b6dbe3",
   "metadata": {
    "slideshow": {
     "slide_type": "slide"
    }
   },
   "source": [
    "### ✏️ 2.  Exercise:\n",
    "\n",
    "- Select the `year` column in `df`."
   ]
  },
  {
   "cell_type": "code",
   "execution_count": null,
   "id": "dca14398",
   "metadata": {
    "slideshow": {
     "slide_type": "fragment"
    }
   },
   "outputs": [],
   "source": [
    "# write answer here"
   ]
  },
  {
   "cell_type": "markdown",
   "id": "6f50f264",
   "metadata": {
    "slideshow": {
     "slide_type": "slide"
    }
   },
   "source": [
    "You can select multiple columns, but you have to pass the column names as a **list**."
   ]
  },
  {
   "cell_type": "code",
   "execution_count": null,
   "id": "4c8539b9",
   "metadata": {
    "slideshow": {
     "slide_type": "fragment"
    }
   },
   "outputs": [],
   "source": [
    "# this won't work\n",
    "df['name','sex']"
   ]
  },
  {
   "cell_type": "code",
   "execution_count": null,
   "id": "5b2841d1",
   "metadata": {
    "slideshow": {
     "slide_type": "fragment"
    }
   },
   "outputs": [],
   "source": [
    "# this will work\n",
    "df[['name','sex']]"
   ]
  },
  {
   "cell_type": "markdown",
   "id": "9fb47cc0",
   "metadata": {
    "slideshow": {
     "slide_type": "slide"
    }
   },
   "source": [
    "### ✏️  3. Exercise:\n",
    "\n",
    "- Select the \"track\" and \"artist\" column from `df_muse`."
   ]
  },
  {
   "cell_type": "code",
   "execution_count": null,
   "id": "3d89b3b6",
   "metadata": {
    "slideshow": {
     "slide_type": "fragment"
    }
   },
   "outputs": [],
   "source": [
    "#df_muse"
   ]
  },
  {
   "cell_type": "markdown",
   "id": "2113c90c",
   "metadata": {
    "slideshow": {
     "slide_type": "slide"
    }
   },
   "source": [
    "## 4.3 Inspecting columns\n",
    "\n",
    "What information do these columns contain? Pandas provides you with multiple methods for **understanding** and **transforming** the content of a dataframe.\n",
    "\n",
    "`.unique()` lists all the unique values in a column. It is useful for getting a sense of the (range of) possible values."
   ]
  },
  {
   "cell_type": "code",
   "execution_count": null,
   "id": "e7cea56c",
   "metadata": {
    "slideshow": {
     "slide_type": "fragment"
    }
   },
   "outputs": [],
   "source": [
    "df['sex'].unique()"
   ]
  },
  {
   "cell_type": "markdown",
   "id": "e451dedd",
   "metadata": {
    "slideshow": {
     "slide_type": "slide"
    }
   },
   "source": [
    "`.value_counts()` returns the frequency of each unique value in a column. Below, we count the name of 'male' and 'female' rows.\n",
    "\n",
    "Be careful with interpretation here! Does this mean there are fewer female names in this dataframe?"
   ]
  },
  {
   "cell_type": "code",
   "execution_count": null,
   "id": "47c51149",
   "metadata": {
    "slideshow": {
     "slide_type": "fragment"
    }
   },
   "outputs": [],
   "source": [
    "df['sex'].value_counts()"
   ]
  },
  {
   "cell_type": "code",
   "execution_count": null,
   "id": "63c6bd9f",
   "metadata": {
    "slideshow": {
     "slide_type": "slide"
    }
   },
   "outputs": [],
   "source": [
    "df['sex'].value_counts(normalize=True)"
   ]
  },
  {
   "cell_type": "code",
   "execution_count": null,
   "id": "b8f884c2",
   "metadata": {
    "slideshow": {
     "slide_type": "slide"
    }
   },
   "outputs": [],
   "source": [
    "df['sex'].value_counts(normalize=True).plot(kind='bar')"
   ]
  },
  {
   "cell_type": "markdown",
   "id": "335ea32b",
   "metadata": {
    "slideshow": {
     "slide_type": "slide"
    }
   },
   "source": [
    "### ✏️ Question:\n",
    "\n",
    "If we apply `.value_counts()` to the \"name\" column, what do we see?"
   ]
  },
  {
   "cell_type": "code",
   "execution_count": null,
   "id": "111c3dfc",
   "metadata": {
    "slideshow": {
     "slide_type": "fragment"
    }
   },
   "outputs": [],
   "source": [
    "df['name'].value_counts()"
   ]
  },
  {
   "cell_type": "code",
   "execution_count": null,
   "id": "63cde843",
   "metadata": {
    "slideshow": {
     "slide_type": "fragment"
    }
   },
   "outputs": [],
   "source": [
    "df[df['name']=='Robert']['sex'].value_counts()"
   ]
  },
  {
   "cell_type": "code",
   "execution_count": null,
   "id": "34c2e827",
   "metadata": {
    "slideshow": {
     "slide_type": "fragment"
    }
   },
   "outputs": [],
   "source": [
    "(2016 - 1880) * 2"
   ]
  },
  {
   "cell_type": "markdown",
   "id": "1b1f5df7",
   "metadata": {
    "slideshow": {
     "slide_type": "slide"
    }
   },
   "source": [
    "You can select the top `n` values using normal Python slice notation."
   ]
  },
  {
   "cell_type": "code",
   "execution_count": null,
   "id": "03a96e0a",
   "metadata": {},
   "outputs": [],
   "source": [
    "# select the 10 most recurrent names\n",
    "df['name'].value_counts()[:10]"
   ]
  },
  {
   "cell_type": "markdown",
   "id": "4c4f69b7",
   "metadata": {
    "slideshow": {
     "slide_type": "slide"
    }
   },
   "source": [
    "### ✏️ 4. Exercise:\n",
    "\n",
    "- Apply `.value_counts()` to the `\"artist\"` column. \n",
    "- Get the names of the ten most frequently mentioned artists in `df_muse`.\n",
    "- Plot these results in a bar chart."
   ]
  },
  {
   "cell_type": "code",
   "execution_count": null,
   "id": "a116c05f",
   "metadata": {
    "slideshow": {
     "slide_type": "fragment"
    }
   },
   "outputs": [],
   "source": [
    "# write your answer here"
   ]
  },
  {
   "cell_type": "markdown",
   "id": "d5fb696b",
   "metadata": {
    "slideshow": {
     "slide_type": "slide"
    }
   },
   "source": [
    "### ✏️ 5. Exercise:\n",
    "\n",
    "- How many different genres are there in the `df_muse` dataframe?\n",
    "- What are the ten most (and least) popular (i.e. frequent) genres?"
   ]
  },
  {
   "cell_type": "code",
   "execution_count": null,
   "id": "3a585153",
   "metadata": {
    "slideshow": {
     "slide_type": "slide"
    }
   },
   "outputs": [],
   "source": [
    "# write your answer here"
   ]
  },
  {
   "cell_type": "markdown",
   "id": "d284b6fc",
   "metadata": {
    "slideshow": {
     "slide_type": "slide"
    }
   },
   "source": [
    "## 4.4 Retrieving information row-wise\n",
    "\n",
    "### 4.4.1 By index \n",
    "\n",
    " `loc` allow you to select data by row and column. The general syntax for `loc` is:\n",
    "```python\n",
    "df.loc[row_name, column_name]\n",
    "```"
   ]
  },
  {
   "cell_type": "markdown",
   "id": "178e45cc",
   "metadata": {
    "slideshow": {
     "slide_type": "slide"
    }
   },
   "source": [
    "Similar to lists we can retrieve rows by the index position in the dataframe. We use the same square brackets notation, but precafe it with `.loc`, shorthand for index location."
   ]
  },
  {
   "cell_type": "code",
   "execution_count": null,
   "id": "0c2fd453",
   "metadata": {
    "slideshow": {
     "slide_type": "fragment"
    }
   },
   "outputs": [],
   "source": [
    "df.loc[0]"
   ]
  },
  {
   "cell_type": "markdown",
   "id": "a8422040",
   "metadata": {
    "slideshow": {
     "slide_type": "slide"
    }
   },
   "source": [
    "### ✏️ 6. Exercise:\n",
    "Get the 11th row in the `df_muse` dataframe."
   ]
  },
  {
   "cell_type": "code",
   "execution_count": null,
   "id": "c35b554b",
   "metadata": {
    "slideshow": {
     "slide_type": "fragment"
    }
   },
   "outputs": [],
   "source": [
    "# write answer here"
   ]
  },
  {
   "cell_type": "markdown",
   "id": "c0a411ed",
   "metadata": {
    "slideshow": {
     "slide_type": "slide"
    }
   },
   "source": [
    "But Pandas provides more options for retrieving observations by their row index.\n",
    "Imagine we'd like to access songs by their genre. We have several options at our disposal, but a convenient way would be to set the `genre` column as row index and then retrieve rows based on their genre value (i.e. \"rap\" or \"rock\")"
   ]
  },
  {
   "cell_type": "code",
   "execution_count": null,
   "id": "bb1f9023",
   "metadata": {},
   "outputs": [],
   "source": [
    "# just in case let's load the data again\n",
    "df_muse = pd.read_csv('data/muse_v3.csv')"
   ]
  },
  {
   "cell_type": "code",
   "execution_count": null,
   "id": "19d62802",
   "metadata": {
    "slideshow": {
     "slide_type": "slide"
    }
   },
   "outputs": [],
   "source": [
    "df_muse_by_genre = df_muse.set_index('genre') # set the genre column as the index of the dataframe\n",
    "df_muse_by_genre"
   ]
  },
  {
   "cell_type": "code",
   "execution_count": null,
   "id": "db6283ec",
   "metadata": {
    "slideshow": {
     "slide_type": "slide"
    }
   },
   "outputs": [],
   "source": [
    "rap_songs = df_muse_by_genre.loc['rap'] # \n",
    "rap_songs.shape"
   ]
  },
  {
   "cell_type": "markdown",
   "id": "589be12a",
   "metadata": {
    "slideshow": {
     "slide_type": "slide"
    }
   },
   "source": [
    "### 4.4.2 Masking\n",
    "\n",
    "Another technique for selecting relevant information (which will be often useful) is called **masking**. In this scenario, \n",
    "- we define a boolean expression (i.e. one which evaluates to `True` or `False`)\n",
    "- apply it to a column\n",
    "- select all rows for which the mask evaluates to `True`.\n",
    "\n",
    "Below we show how this works for selecting data within a certain date range."
   ]
  },
  {
   "cell_type": "code",
   "execution_count": null,
   "id": "52c4e4fb",
   "metadata": {
    "slideshow": {
     "slide_type": "slide"
    }
   },
   "outputs": [],
   "source": [
    "# first we inspect the data type\n",
    "df.year.dtype"
   ]
  },
  {
   "cell_type": "code",
   "execution_count": null,
   "id": "13a2cd01",
   "metadata": {
    "slideshow": {
     "slide_type": "fragment"
    }
   },
   "outputs": [],
   "source": [
    "# we formulate a boolean expression\n",
    "year = 1899\n",
    "print(f'{year} > 1900 = ', year > 1900)\n",
    "print(f'{year} > 1900 = ', year < 1900)"
   ]
  },
  {
   "cell_type": "markdown",
   "id": "9c65416e",
   "metadata": {
    "slideshow": {
     "slide_type": "slide"
    }
   },
   "source": [
    "We can apply this expression to a column, which returns a series with the boolean value for each row index.\n",
    "This series we use as a **mask** for selecting rows in the dataframe."
   ]
  },
  {
   "cell_type": "code",
   "execution_count": null,
   "id": "8882b96f",
   "metadata": {
    "slideshow": {
     "slide_type": "fragment"
    }
   },
   "outputs": [],
   "source": [
    "df['year'] > 1900"
   ]
  },
  {
   "cell_type": "markdown",
   "id": "baafa23c",
   "metadata": {
    "slideshow": {
     "slide_type": "slide"
    }
   },
   "source": [
    "In Python `False` is interpreted as zero and `True` as 1. To measure how many rows match a condition we can apply `sum` to a mask."
   ]
  },
  {
   "cell_type": "code",
   "execution_count": null,
   "id": "5d946550",
   "metadata": {
    "slideshow": {
     "slide_type": "fragment"
    }
   },
   "outputs": [],
   "source": [
    "# we have 1802468 row with names after 1900\n",
    "sum(df['year'] > 1900)"
   ]
  },
  {
   "cell_type": "code",
   "execution_count": null,
   "id": "8c4f8245",
   "metadata": {
    "slideshow": {
     "slide_type": "slide"
    }
   },
   "outputs": [],
   "source": [
    "# saving subset in a new dataframe\n",
    "# note that index does not start from zero!\n",
    "mask = df.year > 1900\n",
    "df_after_1900 = df[mask]\n",
    "df_after_1900"
   ]
  },
  {
   "cell_type": "code",
   "execution_count": null,
   "id": "c8effcbb",
   "metadata": {
    "slideshow": {
     "slide_type": "slide"
    }
   },
   "outputs": [],
   "source": [
    "sum(df['year'] > 1900) == df_after_1900.shape[0]"
   ]
  },
  {
   "cell_type": "markdown",
   "id": "ac8a8315",
   "metadata": {
    "slideshow": {
     "slide_type": "slide"
    }
   },
   "source": [
    "### ✏️ 7. Exercises:\n",
    "- What is the output of the code example below?\n",
    "```python\n",
    "df['year'].between(1900,1910)\n",
    "```\n",
    "- can you adapt the code to select rows between 1950 and 1960 (all names from the fifties)"
   ]
  },
  {
   "cell_type": "code",
   "execution_count": null,
   "id": "8e82a1f6",
   "metadata": {
    "slideshow": {
     "slide_type": "slide"
    }
   },
   "outputs": [],
   "source": [
    "# type answer here"
   ]
  },
  {
   "cell_type": "markdown",
   "id": "0d0c0ac0",
   "metadata": {
    "slideshow": {
     "slide_type": "slide"
    }
   },
   "source": [
    "### ✏️ 8. Exercises:\n",
    "\n",
    "- Select all rows in which the value for the variable 'sex' is equal to 'F'. (Google \"is equal to\" operator Python)\n",
    "- Save this in a new Python variable called `names_f`\n",
    "- How many rows does the dataframe `names_f` contain?\n",
    "- Repeat the same for male baby names. Apply `.describe()` to `names_f` and `names_m`. What differences do you see?"
   ]
  },
  {
   "cell_type": "code",
   "execution_count": null,
   "id": "36257a7d",
   "metadata": {},
   "outputs": [],
   "source": [
    "# type answer here"
   ]
  },
  {
   "cell_type": "markdown",
   "id": "d23228cb",
   "metadata": {
    "slideshow": {
     "slide_type": "slide"
    }
   },
   "source": [
    "### 4.4.3 Combining conditions"
   ]
  },
  {
   "cell_type": "code",
   "execution_count": null,
   "id": "da6e608b",
   "metadata": {
    "slideshow": {
     "slide_type": "fragment"
    }
   },
   "outputs": [],
   "source": [
    "# endless options\n",
    "# for example all female names between 1940 and 1945\n",
    "df[(df.year.between(1940,1945)) & (df.sex=='F')]"
   ]
  },
  {
   "cell_type": "markdown",
   "id": "117df6d1",
   "metadata": {
    "slideshow": {
     "slide_type": "slide"
    }
   },
   "source": [
    "## 5. Working with Text Columns\n",
    "\n",
    "Okay, but this is a session about text processing, not applied data science (even though, as said earlier, in practice, you'll need both!). \n",
    "\n",
    "In what follows, we will use bespoke function to explore historical trends in the history of American baby names.\n"
   ]
  },
  {
   "cell_type": "markdown",
   "id": "aa10c46b",
   "metadata": {
    "slideshow": {
     "slide_type": "slide"
    }
   },
   "source": [
    "To measure the number of characters in a string you can use `len()`."
   ]
  },
  {
   "cell_type": "code",
   "execution_count": null,
   "id": "dffc49e3",
   "metadata": {
    "slideshow": {
     "slide_type": "fragment"
    }
   },
   "outputs": [],
   "source": [
    "len('Mary')"
   ]
  },
  {
   "cell_type": "markdown",
   "id": "1b0720be",
   "metadata": {
    "slideshow": {
     "slide_type": "slide"
    }
   },
   "source": [
    "We can apply `len()` to each value in the `'name'` cell by simply calling the `.apply()` method and passing the function `len` as argument."
   ]
  },
  {
   "cell_type": "code",
   "execution_count": null,
   "id": "ba254bbd",
   "metadata": {
    "slideshow": {
     "slide_type": "fragment"
    }
   },
   "outputs": [],
   "source": [
    "# counting the number of characters\n",
    "# in the name colums\n",
    "# this returns a new series object \n",
    "df['name'].apply(len)"
   ]
  },
  {
   "cell_type": "markdown",
   "id": "2e93a341",
   "metadata": {
    "slideshow": {
     "slide_type": "slide"
    }
   },
   "source": [
    "As an aside, in this specific case we could have used a built-in Pandas method."
   ]
  },
  {
   "cell_type": "code",
   "execution_count": null,
   "id": "6cdcd917",
   "metadata": {
    "slideshow": {
     "slide_type": "fragment"
    }
   },
   "outputs": [],
   "source": [
    "df['name'].str.len()"
   ]
  },
  {
   "cell_type": "markdown",
   "id": "f711bd39",
   "metadata": {
    "slideshow": {
     "slide_type": "slide"
    }
   },
   "source": [
    "The above operation returns the length of each name but does not store the result. We'd like to save the length of each name in our main dataframe. For this we need to create a new column where we store the output.  \n",
    "\n",
    "The syntax below may be confusing at first, but basically, we  store the length of each name in a column titled `'name_length'`."
   ]
  },
  {
   "cell_type": "code",
   "execution_count": null,
   "id": "4fa9ac53",
   "metadata": {
    "slideshow": {
     "slide_type": "fragment"
    }
   },
   "outputs": [],
   "source": [
    "df['name_length'] = df['name'].apply(len)"
   ]
  },
  {
   "cell_type": "markdown",
   "id": "a787305a",
   "metadata": {
    "slideshow": {
     "slide_type": "slide"
    }
   },
   "source": [
    "Revisiting the original dataframe `df`, you'll notice that it now contains an extra column containing the length of each name."
   ]
  },
  {
   "cell_type": "code",
   "execution_count": null,
   "id": "d7b0c550",
   "metadata": {
    "slideshow": {
     "slide_type": "fragment"
    }
   },
   "outputs": [],
   "source": [
    "df.head()"
   ]
  },
  {
   "cell_type": "markdown",
   "id": "3ca7fd00",
   "metadata": {
    "slideshow": {
     "slide_type": "slide"
    }
   },
   "source": [
    "### ✏️ 9. Exercise:\n",
    "\n",
    "Add a column to `df_muse` that records the number of characters in each title."
   ]
  },
  {
   "cell_type": "code",
   "execution_count": null,
   "id": "9714237b",
   "metadata": {},
   "outputs": [],
   "source": [
    "# type answer here"
   ]
  },
  {
   "cell_type": "markdown",
   "id": "cb57e838",
   "metadata": {
    "slideshow": {
     "slide_type": "slide"
    }
   },
   "source": [
    "### ✏️ 10. Exercise:\n",
    "\n",
    "Using `.sort_values()` we can investigate the longest surnames (or song titles).\n",
    "\n",
    "Use the `help()` to print the docstring of the `.sort_values` method. Read it carefully and try to figure out how sort row by the length of the name."
   ]
  },
  {
   "cell_type": "code",
   "execution_count": null,
   "id": "9310b1e3",
   "metadata": {
    "slideshow": {
     "slide_type": "fragment"
    }
   },
   "outputs": [],
   "source": [
    "# type answer here"
   ]
  },
  {
   "cell_type": "markdown",
   "id": "f5d5e710",
   "metadata": {
    "slideshow": {
     "slide_type": "slide"
    }
   },
   "source": [
    "`len()` is just an example of a function we apply to a text document (in this case it is a built-in function). \n",
    "\n",
    "We can create our own custom or bespoke function and **apply** it to all the values in a column.\n",
    "\n",
    "As earlier, and maybe somewhat unusually, we don't pass a variable of the type string or integer. We pass a function instead.\n",
    "\n",
    "For example, let's create a function that checks if a name starts and ends with the letter \"a\"."
   ]
  },
  {
   "cell_type": "code",
   "execution_count": null,
   "id": "d3704875",
   "metadata": {
    "slideshow": {
     "slide_type": "slide"
    }
   },
   "outputs": [],
   "source": [
    "def startsenda(name):\n",
    "    \"\"\"checks if a name starts and end with and a\n",
    "    Argument:\n",
    "        name (str): the input name to check\n",
    "    Returns\n",
    "        a boolean\n",
    "    \"\"\"\n",
    "    name_lower = name.lower()\n",
    "    return name_lower.startswith('a') and name_lower.endswith('a')"
   ]
  },
  {
   "cell_type": "code",
   "execution_count": null,
   "id": "da787c0b",
   "metadata": {},
   "outputs": [],
   "source": [
    "type(startsenda)"
   ]
  },
  {
   "cell_type": "markdown",
   "id": "9df2f7e4",
   "metadata": {
    "slideshow": {
     "slide_type": "slide"
    }
   },
   "source": [
    "Before we apply the function more widely, let's first check if it works on a simple example."
   ]
  },
  {
   "cell_type": "code",
   "execution_count": null,
   "id": "6b3c57af",
   "metadata": {
    "slideshow": {
     "slide_type": "fragment"
    }
   },
   "outputs": [],
   "source": [
    "startsenda('Andrea')"
   ]
  },
  {
   "cell_type": "code",
   "execution_count": null,
   "id": "e56548f4",
   "metadata": {
    "slideshow": {
     "slide_type": "fragment"
    }
   },
   "outputs": [],
   "source": [
    "startsenda('Roberta')"
   ]
  },
  {
   "cell_type": "markdown",
   "id": "b6c86e1d",
   "metadata": {
    "slideshow": {
     "slide_type": "slide"
    }
   },
   "source": [
    "Now we apply `startsenda` to the \"name\" column."
   ]
  },
  {
   "cell_type": "code",
   "execution_count": null,
   "id": "3c013e9e",
   "metadata": {
    "slideshow": {
     "slide_type": "fragment"
    }
   },
   "outputs": [],
   "source": [
    "df['name'].apply(startsenda)"
   ]
  },
  {
   "cell_type": "code",
   "execution_count": null,
   "id": "ccdbd327",
   "metadata": {
    "slideshow": {
     "slide_type": "fragment"
    }
   },
   "outputs": [],
   "source": [
    "df['starsendwitha'] = df['name'].apply(startsenda)"
   ]
  },
  {
   "cell_type": "markdown",
   "id": "882c5aaf",
   "metadata": {
    "slideshow": {
     "slide_type": "slide"
    }
   },
   "source": [
    "This operation returns a \"mask\", which we can use to select the rows for which the boolean operation evaluates to `True`. "
   ]
  },
  {
   "cell_type": "code",
   "execution_count": null,
   "id": "d2921831",
   "metadata": {
    "slideshow": {
     "slide_type": "slide"
    }
   },
   "outputs": [],
   "source": [
    "mask = df['name'].apply(startsenda)\n",
    "mask"
   ]
  },
  {
   "cell_type": "code",
   "execution_count": null,
   "id": "1f27d46f",
   "metadata": {
    "slideshow": {
     "slide_type": "slide"
    }
   },
   "outputs": [],
   "source": [
    "df_startsenda = df[mask]\n",
    "df.shape, df_startsenda.shape"
   ]
  },
  {
   "cell_type": "code",
   "execution_count": null,
   "id": "034ce6d5",
   "metadata": {
    "slideshow": {
     "slide_type": "slide"
    }
   },
   "outputs": [],
   "source": [
    "df_startsenda['name'].unique()"
   ]
  },
  {
   "cell_type": "markdown",
   "id": "8dc7d36c",
   "metadata": {
    "slideshow": {
     "slide_type": "slide"
    }
   },
   "source": [
    "### ✏️ 11. Exercise:\n",
    "\n",
    "Add a column to `df_muse` that records the number of white spaces in each title."
   ]
  },
  {
   "cell_type": "code",
   "execution_count": null,
   "id": "c879c6a4",
   "metadata": {
    "slideshow": {
     "slide_type": "fragment"
    }
   },
   "outputs": [],
   "source": [
    "# type answer here"
   ]
  },
  {
   "cell_type": "markdown",
   "id": "759ea6c5",
   "metadata": {},
   "source": [
    "### ✏️ 12. Exercise: Palindrome Names\n",
    "\n",
    "Simple question: what is the proportion of Palindrome names (i.e. names that stay the same when reversed, after lowercasing of course). Think of 'Ada'.\n",
    "\n",
    "\n",
    "- Write a function that returns True if the name is a palindrome (we will help you)\n",
    "- Apply this function to \"name\" column in the dataframe. It should return a \"mask\", i.e. a Series that has the value `True` for palindrome names.\n",
    "- Use the mask to select the subset of palindrame names within `df`.\n",
    "- Lastly, how many unique names are there in this subset of `df`?"
   ]
  },
  {
   "cell_type": "code",
   "execution_count": null,
   "id": "1ab14516",
   "metadata": {
    "slideshow": {
     "slide_type": "slide"
    }
   },
   "outputs": [],
   "source": [
    "def is_palindrome(name):\n",
    "    # tip, check if string variable is palindrome\n",
    "    # name == name[::-1]\n"
   ]
  },
  {
   "cell_type": "markdown",
   "id": "29705d45",
   "metadata": {
    "slideshow": {
     "slide_type": "slide"
    }
   },
   "source": [
    "# 6. Aggregating and Analysing Text Data\n",
    "\n",
    "By now we have enough skills to address more realistic research questions. For example, on average, are male names longer than female names (ignoring the frequency by which the names occur for now)?\n",
    "\n",
    "- compute the length of each name in the dataframe\n",
    "- for each value in sex, select all rows\n",
    "- compute the mean for the 'name_length' column\n",
    "\n",
    "With minimal code you can start investigating this question."
   ]
  },
  {
   "cell_type": "code",
   "execution_count": null,
   "id": "5198537a",
   "metadata": {},
   "outputs": [],
   "source": [
    "# count the number of characters in each name\n",
    "df['name_length'] = df['name'].apply(len)"
   ]
  },
  {
   "cell_type": "code",
   "execution_count": null,
   "id": "46cf978e",
   "metadata": {},
   "outputs": [],
   "source": [
    "# split the dataframe in female and male\n",
    "df_m = df[df.sex=='M']\n",
    "df_f = df[df.sex=='F']"
   ]
  },
  {
   "cell_type": "code",
   "execution_count": null,
   "id": "b76e1a7d",
   "metadata": {
    "slideshow": {
     "slide_type": "fragment"
    }
   },
   "outputs": [],
   "source": [
    "# apply the .mean() method to the name_length column\n",
    "avg_m = df_m['name_length'].mean()\n",
    "avg_f = df_f['name_length'].mean()"
   ]
  },
  {
   "cell_type": "code",
   "execution_count": null,
   "id": "635a1847",
   "metadata": {},
   "outputs": [],
   "source": [
    "# print the results nicely\n",
    "print('Mean length of male names: ',round(avg_m,3),\n",
    "      '\\nMean length of female names: ',round( avg_f,3))"
   ]
  },
  {
   "cell_type": "markdown",
   "id": "4f777d8a",
   "metadata": {
    "slideshow": {
     "slide_type": "slide"
    }
   },
   "source": [
    "Pandas offers various plot functions that enable you to look more closely at gender (and other) differences. How different are these distributions?"
   ]
  },
  {
   "cell_type": "code",
   "execution_count": null,
   "id": "2c3c28bc",
   "metadata": {
    "slideshow": {
     "slide_type": "fragment"
    }
   },
   "outputs": [],
   "source": [
    "df_m['name_length'].plot(kind='hist',alpha=.75) # blue bars\n",
    "df_f['name_length'].plot(kind='hist',alpha=.75) # orange bars\n"
   ]
  },
  {
   "cell_type": "markdown",
   "id": "0ea4c975",
   "metadata": {
    "slideshow": {
     "slide_type": "slide"
    }
   },
   "source": [
    "## .groupby()\n",
    "\n",
    "**Grouping** and **aggregating** data are incedibly common operations, and we'll almost need them any time we want to make **comparisons** (over time or between groups). \n",
    "\n",
    "Pandas offers a tool `.groupby()` to facilitate comparison (of subsets) **within** a dataframe. [Jake VanderPlas](https://jakevdp.github.io/PythonDataScienceHandbook/), who wrote an excellent introduction to Pandas, has very helpfully visualized the workflow: \n",
    "\n",
    "`.groupby()` \n",
    "- split the dataframe in sub-dataframes by key\n",
    "- for each of these sub-dataframes, apply an function (to the values)\n",
    "- glue these results back together"
   ]
  },
  {
   "cell_type": "markdown",
   "id": "8680a154",
   "metadata": {
    "slideshow": {
     "slide_type": "slide"
    }
   },
   "source": [
    "![grouby](https://jakevdp.github.io/PythonDataScienceHandbook/figures/03.08-split-apply-combine.png)"
   ]
  },
  {
   "cell_type": "markdown",
   "id": "cb669813",
   "metadata": {
    "slideshow": {
     "slide_type": "slide"
    }
   },
   "source": [
    "Following the previous example, **keys** are the values in the `sex` columns, and **data** is the length of each name.\n",
    "\n",
    "In generally you can think of the syntax as:\n",
    "\n",
    "```python\n",
    "df.groupby(key)[data].operation()\n",
    "```"
   ]
  },
  {
   "cell_type": "code",
   "execution_count": null,
   "id": "e9cb9202",
   "metadata": {
    "slideshow": {
     "slide_type": "fragment"
    }
   },
   "outputs": [],
   "source": [
    "# we split th\n",
    "df.groupby('sex')['name_length'].mean()"
   ]
  },
  {
   "cell_type": "markdown",
   "id": "c1fea5af",
   "metadata": {
    "slideshow": {
     "slide_type": "slide"
    }
   },
   "source": [
    "### ✏️ 13. Exercise:\n",
    "\n",
    "Let's analyse the relationship between genre and title length.\n",
    "- add a column to `df_muse` that records the number of characters\n",
    "- optional: can you also add a column that counts the number of words in a song title\n",
    "- group the dataframe by genre and compute the average title length\n"
   ]
  },
  {
   "cell_type": "code",
   "execution_count": null,
   "id": "a5788c44",
   "metadata": {
    "slideshow": {
     "slide_type": "fragment"
    }
   },
   "outputs": [],
   "source": [
    "# write your answer here"
   ]
  },
  {
   "cell_type": "markdown",
   "id": "fb597a4a",
   "metadata": {},
   "source": [
    "### ✏️ Exercise (more difficult version).\n",
    "\n",
    "Let's analyse the relation between genre and title length.\n",
    "- add a column to `df_muse` that records number of characters\n",
    "- use `value_counts()` to obtain the 20 most frequent genres\n",
    "- create a mask to retrieve only songs from these most popular genres\n",
    "- group the dataframe by genre and compute the average title length\n",
    "- optional: plot the results as a barplot"
   ]
  },
  {
   "cell_type": "code",
   "execution_count": null,
   "id": "68b833a0",
   "metadata": {
    "slideshow": {
     "slide_type": "fragment"
    }
   },
   "outputs": [],
   "source": [
    "# write your answer here"
   ]
  },
  {
   "cell_type": "markdown",
   "id": "8310dd6b",
   "metadata": {
    "slideshow": {
     "slide_type": "slide"
    }
   },
   "source": [
    "## Trends over time\n",
    "\n",
    "We can also use `.groupby()` to study trends over time. "
   ]
  },
  {
   "cell_type": "code",
   "execution_count": null,
   "id": "8835a737",
   "metadata": {
    "slideshow": {
     "slide_type": "fragment"
    }
   },
   "outputs": [],
   "source": [
    "df['end-n'] = df.name.str.endswith('n')"
   ]
  },
  {
   "cell_type": "code",
   "execution_count": null,
   "id": "b26b3aba",
   "metadata": {
    "slideshow": {
     "slide_type": "fragment"
    }
   },
   "outputs": [],
   "source": [
    "df['end-n']"
   ]
  },
  {
   "cell_type": "code",
   "execution_count": null,
   "id": "2a937ddb",
   "metadata": {
    "slideshow": {
     "slide_type": "slide"
    }
   },
   "outputs": [],
   "source": [
    "df.groupby('year')['end-n'].mean().plot()"
   ]
  },
  {
   "cell_type": "markdown",
   "id": "984c352b",
   "metadata": {
    "slideshow": {
     "slide_type": "slide"
    }
   },
   "source": [
    "### ✏️ 14. Exercise:\n",
    "\n",
    "Adapt the preceding code. On average, are palindromes becoming more or less common over time?"
   ]
  },
  {
   "cell_type": "code",
   "execution_count": null,
   "id": "ac89e67e",
   "metadata": {
    "slideshow": {
     "slide_type": "fragment"
    }
   },
   "outputs": [],
   "source": [
    "# write your answer here"
   ]
  },
  {
   "cell_type": "markdown",
   "id": "4808c0a9",
   "metadata": {
    "slideshow": {
     "slide_type": "slide"
    }
   },
   "source": [
    "## Grouping by multiple keys\n",
    "\n",
    "We can compute the average name langth by gender and year. We simply pass multiple keys as a list"
   ]
  },
  {
   "cell_type": "code",
   "execution_count": null,
   "id": "82853885",
   "metadata": {
    "slideshow": {
     "slide_type": "slide"
    }
   },
   "outputs": [],
   "source": [
    "df['name_length'] = df['name'].apply(len)\n",
    "by_year_gender = df.groupby(['year','sex'])['name_length'].mean()"
   ]
  },
  {
   "cell_type": "code",
   "execution_count": null,
   "id": "598a75f8",
   "metadata": {
    "slideshow": {
     "slide_type": "fragment"
    }
   },
   "outputs": [],
   "source": [
    "by_year_gender"
   ]
  },
  {
   "cell_type": "code",
   "execution_count": null,
   "id": "92745e07",
   "metadata": {
    "slideshow": {
     "slide_type": "slide"
    }
   },
   "outputs": [],
   "source": [
    "by_year_gender.unstack()"
   ]
  },
  {
   "cell_type": "code",
   "execution_count": null,
   "id": "ff5deed7",
   "metadata": {
    "slideshow": {
     "slide_type": "slide"
    }
   },
   "outputs": [],
   "source": [
    "by_year_gender.unstack().plot()"
   ]
  },
  {
   "cell_type": "markdown",
   "id": "fdc028ba",
   "metadata": {},
   "source": [
    "### ✏️ 15. Final Exercise:\n",
    "\n",
    "Genre and pronouns\n",
    "- Select the 10 most popular genres in `df_muse`\n",
    "- for each pronoun, \"I\", \"we\", \"you\", \"they\", add a columns that records if this pronoun appears in the song title\n",
    "> TIP: you can use a regex for this, `r'\\bwe\\b'` \n",
    "- Group the dataframe by genre to see how pronouns differ"
   ]
  },
  {
   "cell_type": "code",
   "execution_count": null,
   "id": "de7f50d4",
   "metadata": {},
   "outputs": [],
   "source": [
    "# write your answer here"
   ]
  },
  {
   "cell_type": "markdown",
   "id": "ebdc0641",
   "metadata": {
    "slideshow": {
     "slide_type": "slide"
    }
   },
   "source": [
    "# Fin."
   ]
  },
  {
   "cell_type": "markdown",
   "id": "4cf91a44",
   "metadata": {},
   "source": [
    "# Appendix: Advanced Topics"
   ]
  },
  {
   "cell_type": "markdown",
   "id": "362017fa",
   "metadata": {},
   "source": [
    "## Explicit and Implicit indexing"
   ]
  },
  {
   "cell_type": "code",
   "execution_count": null,
   "id": "06b73f1f",
   "metadata": {
    "slideshow": {
     "slide_type": "slide"
    }
   },
   "outputs": [],
   "source": [
    "# let's make a toy dataframe\n",
    "mock_df = pd.DataFrame([[1,4,6],\n",
    "                        [2,3,5],\n",
    "                        [0,9,6],\n",
    "                        [7,8,9]], \n",
    "                       columns= ['c1','c2','c3'], \n",
    "                       index=['r1','r2','r3','r4'])\n",
    "mock_df"
   ]
  },
  {
   "cell_type": "markdown",
   "id": "3d2a2377",
   "metadata": {
    "slideshow": {
     "slide_type": "slide"
    }
   },
   "source": [
    "A dataframe has an **explicit** index, which are the **row names**, i.e. \"r1\", \"r2\" etc). With `.loc` we can access rows by their explicit index (also using **slice** notation!)"
   ]
  },
  {
   "cell_type": "code",
   "execution_count": null,
   "id": "d199d1a5",
   "metadata": {
    "slideshow": {
     "slide_type": "slide"
    }
   },
   "outputs": [],
   "source": [
    "mock_df.loc['r2']"
   ]
  },
  {
   "cell_type": "code",
   "execution_count": null,
   "id": "738216d0",
   "metadata": {
    "slideshow": {
     "slide_type": "slide"
    }
   },
   "outputs": [],
   "source": [
    "# slice notation, notice I am not using numbers here!\n",
    "mock_df.loc['r2':\"r4\"]"
   ]
  },
  {
   "cell_type": "markdown",
   "id": "8999fdb2",
   "metadata": {
    "slideshow": {
     "slide_type": "slide"
    }
   },
   "source": [
    "The **implicit** index is the Python-style position-wise index, which looks similar to lists and starts at 0! We can retrieve rows by their position using `.iloc`."
   ]
  },
  {
   "cell_type": "code",
   "execution_count": null,
   "id": "49aaa2bb",
   "metadata": {
    "slideshow": {
     "slide_type": "slide"
    }
   },
   "outputs": [],
   "source": [
    "mock_df.iloc[0]"
   ]
  },
  {
   "cell_type": "code",
   "execution_count": null,
   "id": "52a2b1ec",
   "metadata": {
    "slideshow": {
     "slide_type": "slide"
    }
   },
   "outputs": [],
   "source": [
    "# notice that this is different to mock_df.loc['r2':\"r4\"]\n",
    "mock_df.iloc[1:3]"
   ]
  },
  {
   "cell_type": "markdown",
   "id": "ace127db",
   "metadata": {
    "slideshow": {
     "slide_type": "slide"
    }
   },
   "source": [
    "For our main `df` using `iloc` or `loc` doesn't make a difference when we want to access just one specific row."
   ]
  },
  {
   "cell_type": "code",
   "execution_count": null,
   "id": "efb59c8b",
   "metadata": {
    "slideshow": {
     "slide_type": "slide"
    }
   },
   "outputs": [],
   "source": [
    "df.iloc[3]"
   ]
  },
  {
   "cell_type": "code",
   "execution_count": null,
   "id": "f88f4c9a",
   "metadata": {
    "slideshow": {
     "slide_type": "fragment"
    }
   },
   "outputs": [],
   "source": [
    "df.loc[3]"
   ]
  },
  {
   "cell_type": "markdown",
   "id": "4504785b",
   "metadata": {
    "slideshow": {
     "slide_type": "slide"
    }
   },
   "source": [
    "However when using slice notation, `.iloc` and `.loc` do not return exactly the same."
   ]
  },
  {
   "cell_type": "markdown",
   "id": "a1722fb8",
   "metadata": {
    "slideshow": {
     "slide_type": "fragment"
    }
   },
   "source": [
    "### ✏️ Exercise:\n",
    "\n",
    " Get the first five rows with `iloc` and `loc`."
   ]
  },
  {
   "cell_type": "code",
   "execution_count": null,
   "id": "c2fccbeb",
   "metadata": {
    "slideshow": {
     "slide_type": "fragment"
    }
   },
   "outputs": [],
   "source": [
    "# write your answer here"
   ]
  },
  {
   "cell_type": "markdown",
   "id": "7caddf6c",
   "metadata": {
    "slideshow": {
     "slide_type": "slide"
    }
   },
   "source": [
    "## Advanced: \"Fancy\" Indexing\n",
    "\n",
    "To retrieve multiple columns, you can use so-called **'fancy' indexing** by passing column names as a list or an array. (Often we do not need all the data!)"
   ]
  },
  {
   "cell_type": "code",
   "execution_count": null,
   "id": "8d83d9e9",
   "metadata": {
    "slideshow": {
     "slide_type": "slide"
    }
   },
   "outputs": [],
   "source": [
    "df.loc[:,['name','sex']]"
   ]
  },
  {
   "cell_type": "code",
   "execution_count": null,
   "id": "ee366522",
   "metadata": {
    "slideshow": {
     "slide_type": "slide"
    }
   },
   "outputs": [],
   "source": [
    "# or simpler\n",
    "df[['sex','name']]"
   ]
  },
  {
   "cell_type": "code",
   "execution_count": null,
   "id": "ae98d39e",
   "metadata": {
    "slideshow": {
     "slide_type": "slide"
    }
   },
   "outputs": [],
   "source": [
    "# you can apply fancy indexing to both rows and columns!\n",
    "# cool, no?!\n",
    "df.loc[[3,5],['name','sex']]"
   ]
  },
  {
   "cell_type": "code",
   "execution_count": null,
   "id": "ecd83bc2",
   "metadata": {
    "slideshow": {
     "slide_type": "slide"
    }
   },
   "outputs": [],
   "source": [
    "# you can combine multiple indexing strategies, i.e. slicing and fancy indexing\n",
    "df.loc[3:5,['name','sex']]"
   ]
  },
  {
   "cell_type": "code",
   "execution_count": null,
   "id": "ee6216a1",
   "metadata": {},
   "outputs": [],
   "source": [
    "df_muse_by_genre.loc['rap',['track','artist']]"
   ]
  },
  {
   "cell_type": "markdown",
   "id": "4c1af70f",
   "metadata": {
    "slideshow": {
     "slide_type": "slide"
    }
   },
   "source": [
    "## Hierarchical Index"
   ]
  },
  {
   "cell_type": "code",
   "execution_count": null,
   "id": "d50f2778",
   "metadata": {
    "slideshow": {
     "slide_type": "fragment"
    }
   },
   "outputs": [],
   "source": [
    "by_dec_sex = df.groupby(['year','sex'])['name_length'].mean()\n",
    "by_dec_sex"
   ]
  },
  {
   "cell_type": "code",
   "execution_count": null,
   "id": "9319d4cd",
   "metadata": {
    "slideshow": {
     "slide_type": "slide"
    }
   },
   "outputs": [],
   "source": [
    "by_dec_sex.loc[1880:1885]"
   ]
  },
  {
   "cell_type": "code",
   "execution_count": null,
   "id": "77be2404",
   "metadata": {
    "slideshow": {
     "slide_type": "slide"
    }
   },
   "outputs": [],
   "source": [
    "# get all female names between 1880 and 1888\n",
    "by_dec_sex.loc[1880:1885,'F']"
   ]
  },
  {
   "cell_type": "code",
   "execution_count": null,
   "id": "5749af94",
   "metadata": {
    "slideshow": {
     "slide_type": "slide"
    }
   },
   "outputs": [],
   "source": [
    "# you can plot the average name length by year\n",
    "by_dec_sex.loc[:,'F'].plot()\n",
    "by_dec_sex.loc[:,'M'].plot()"
   ]
  },
  {
   "cell_type": "code",
   "execution_count": null,
   "id": "af78f49d",
   "metadata": {
    "slideshow": {
     "slide_type": "slide"
    }
   },
   "outputs": [],
   "source": [
    "# a more elegant way is to use unstack\n",
    "by_dec_sex.unstack().plot()"
   ]
  },
  {
   "cell_type": "code",
   "execution_count": null,
   "id": "62c9b2e3",
   "metadata": {
    "slideshow": {
     "slide_type": "slide"
    }
   },
   "outputs": [],
   "source": [
    "# just FYI you can apply multiple aggregations at once\n",
    "df.groupby(['year','sex'])['name_length'].agg(['min','max','mean','median'])"
   ]
  },
  {
   "cell_type": "markdown",
   "id": "6412441b",
   "metadata": {
    "slideshow": {
     "slide_type": "slide"
    }
   },
   "source": [
    "## Apply and lambda functions\n",
    "\n",
    "String method do not always suffice, in this scenario we often use `lambda` function (or a normal one of course) in combination with apply. For example, what names contain no mare than two different characters? In Python we can formulate this as a boolean expression which evaluates if the length of the set of character is small or equal than two:"
   ]
  },
  {
   "cell_type": "code",
   "execution_count": null,
   "id": "69a9ec45",
   "metadata": {
    "slideshow": {
     "slide_type": "fragment"
    }
   },
   "outputs": [],
   "source": [
    "name = 'dddffff'\n",
    "len(set(name)) <= 2"
   ]
  },
  {
   "cell_type": "markdown",
   "id": "389e5c3c",
   "metadata": {
    "slideshow": {
     "slide_type": "slide"
    }
   },
   "source": [
    "Let's turn this in function. \n",
    "Let's turn this into an \n",
    "\n",
    "### ✏️ Exercise!"
   ]
  },
  {
   "cell_type": "code",
   "execution_count": null,
   "id": "a3787ee1",
   "metadata": {
    "slideshow": {
     "slide_type": "fragment"
    }
   },
   "outputs": [],
   "source": [
    "# enter solution here"
   ]
  },
  {
   "cell_type": "markdown",
   "id": "0de8210a",
   "metadata": {
    "slideshow": {
     "slide_type": "slide"
    }
   },
   "source": [
    "In Python, we like to keep the number of lines small. We could write a more concise function using `lambda`."
   ]
  },
  {
   "cell_type": "code",
   "execution_count": null,
   "id": "7e8340f5",
   "metadata": {
    "slideshow": {
     "slide_type": "fragment"
    }
   },
   "outputs": [],
   "source": [
    "twochars = lambda x: len(set(x)) <= 2"
   ]
  },
  {
   "cell_type": "markdown",
   "id": "6a9e29fe",
   "metadata": {
    "slideshow": {
     "slide_type": "slide"
    }
   },
   "source": [
    " Now we can use the `.apply()` method to the `name` column. The will \"apply\" (duh) the function we created to each value in the name columns and return a `pd.Series` object."
   ]
  },
  {
   "cell_type": "code",
   "execution_count": null,
   "id": "d7419217",
   "metadata": {
    "slideshow": {
     "slide_type": "slide"
    }
   },
   "outputs": [],
   "source": [
    "df.name.apply(twochars)"
   ]
  },
  {
   "cell_type": "code",
   "execution_count": null,
   "id": "e65eadd3",
   "metadata": {
    "slideshow": {
     "slide_type": "slide"
    }
   },
   "outputs": [],
   "source": [
    "# we can use it as a mask\n",
    "df[df.name.apply(twochars)]"
   ]
  },
  {
   "cell_type": "code",
   "execution_count": null,
   "id": "f53f79ac",
   "metadata": {
    "slideshow": {
     "slide_type": "slide"
    }
   },
   "outputs": [],
   "source": [
    "# or save the result in a new column\n",
    "df['two_chars'] = df.name.apply(twochars)"
   ]
  },
  {
   "cell_type": "code",
   "execution_count": null,
   "id": "3f7f3ac4",
   "metadata": {
    "slideshow": {
     "slide_type": "slide"
    }
   },
   "outputs": [],
   "source": [
    "# and plot results over time\n",
    "df[df.sex=='M'].groupby('year')['two_chars'].mean().plot()\n",
    "df[df.sex=='F'].groupby('year')['two_chars'].mean().plot()"
   ]
  },
  {
   "cell_type": "markdown",
   "id": "e39ff4f1",
   "metadata": {
    "slideshow": {
     "slide_type": "slide"
    }
   },
   "source": [
    "### ✏️ Exercise\n",
    "\n",
    "What about names starting with 'a' and ending with 'e'  have they become more frequent over time? Use a lambda function to answer this question!."
   ]
  },
  {
   "cell_type": "code",
   "execution_count": null,
   "id": "d3421410",
   "metadata": {
    "slideshow": {
     "slide_type": "fragment"
    }
   },
   "outputs": [],
   "source": [
    "# write solution here"
   ]
  }
 ],
 "metadata": {
  "celltoolbar": "Slideshow",
  "kernelspec": {
   "display_name": "Python 3 (ipykernel)",
   "language": "python",
   "name": "python3"
  },
  "language_info": {
   "codemirror_mode": {
    "name": "ipython",
    "version": 3
   },
   "file_extension": ".py",
   "mimetype": "text/x-python",
   "name": "python",
   "nbconvert_exporter": "python",
   "pygments_lexer": "ipython3",
   "version": "3.9.16"
  }
 },
 "nbformat": 4,
 "nbformat_minor": 5
}
