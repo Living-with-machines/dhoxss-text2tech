{
 "cells": [
  {
   "cell_type": "markdown",
   "id": "3fc6a760",
   "metadata": {},
   "source": [
    "## Use case: exploring Hamlet\n",
    "\n",
    "### ✏️ Exercises that combine reading files, basic text processing and data structures"
   ]
  },
  {
   "cell_type": "markdown",
   "id": "a738e7dc",
   "metadata": {
    "slideshow": {
     "slide_type": "slide"
    }
   },
   "source": [
    "### Upload a file\n",
    "\n",
    "Go to [Project Gutenberg](https://www.gutenberg.org/) and download _Hamlet_.\n",
    "\n",
    "Have a look at the document: get familiarised with the data!\n",
    "\n",
    "Remove the header and the license and copyright considerations at the end of the file. Remove table of contents, and dramatis personae. Save it and rename it `hamlet.txt`."
   ]
  },
  {
   "cell_type": "markdown",
   "id": "3081e8b4",
   "metadata": {
    "slideshow": {
     "slide_type": "slide"
    }
   },
   "source": [
    "### Read the file\n",
    "\n",
    "Ask python to load the whole book. You can load the whole book at once with the `.read()` method:"
   ]
  },
  {
   "cell_type": "code",
   "execution_count": null,
   "id": "3fbb32e6",
   "metadata": {},
   "outputs": [],
   "source": [
    "book = []\n",
    "with open(\"data/hamlet.txt\") as fr:\n",
    "    book = fr.readlines()"
   ]
  },
  {
   "cell_type": "markdown",
   "id": "c3c3876f",
   "metadata": {},
   "source": [
    "We now have the whole book in a **string** variable, called `book`.\n",
    "\n",
    "You can read the book line per line with the `.readlines()` method:"
   ]
  },
  {
   "cell_type": "code",
   "execution_count": null,
   "id": "8a99b353",
   "metadata": {},
   "outputs": [],
   "source": [
    "lines = []\n",
    "with open(\"data/hamlet.txt\") as fr:\n",
    "    lines = fr.readlines()"
   ]
  },
  {
   "cell_type": "markdown",
   "id": "ebdb4fdb",
   "metadata": {},
   "source": [
    "We now have the whole book in a variable, called `lines`, that is a list of strings, each string a line of the book."
   ]
  },
  {
   "cell_type": "markdown",
   "id": "e9601859",
   "metadata": {
    "slideshow": {
     "slide_type": "-"
    }
   },
   "source": [
    "Let's first iterate over the first 20 lines of the _Hamlet_ play, and print each line:"
   ]
  },
  {
   "cell_type": "code",
   "execution_count": null,
   "id": "f49a3a00",
   "metadata": {},
   "outputs": [],
   "source": [
    "for line in lines[:50]:\n",
    "    print(line)"
   ]
  },
  {
   "cell_type": "markdown",
   "id": "2204d2fc",
   "metadata": {
    "slideshow": {
     "slide_type": "slide"
    }
   },
   "source": [
    "### Exercise 1: How many times does each character talk?"
   ]
  },
  {
   "cell_type": "code",
   "execution_count": null,
   "id": "45265f34",
   "metadata": {},
   "outputs": [],
   "source": [
    "characters = ['LORD', 'FORTINBRAS', 'ALL', 'FIRST SAILOR', 'SERVANT', 'BOTH',\n",
    "              'PRIEST', 'PROLOGUE', 'CAPTAIN', 'HORATIO', 'HAMLET', 'DANES',\n",
    "              'FIRST AMBASSADOR', 'SECOND CLOWN', 'FIRST PLAYER', 'GENTLEMAN',\n",
    "              'FRANCISCO', 'PLAYER KING', 'PLAYER QUEEN', 'MARCELLUS', 'KING',\n",
    "              'BARNARDO', 'VOLTEMAND', 'OSRIC', 'FIRST CLOWN', 'GUILDENSTERN',\n",
    "              'REYNALDO', 'LAERTES', 'OPHELIA', 'GHOST', 'MESSENGER', 'LUCIANUS',\n",
    "              'QUEEN', 'ROSENCRANTZ', 'POLONIUS']"
   ]
  },
  {
   "cell_type": "code",
   "execution_count": null,
   "id": "e3e9ce7a",
   "metadata": {},
   "outputs": [],
   "source": [
    "# Iterate through the lines of the file. Count how many times a character has a line, and sort the\n",
    "# list of characters by how many times they speak in the play. You can use the list of characters\n",
    "# that is provided above.\n",
    "# \n",
    "# There are many ways to do that, some more efficient and some less. We don't care about that now!\n",
    "#\n",
    "# **Extra points** if you get the list of characters directly from the file, instead of using the\n",
    "# one provided above! (tip: use Regular Expressions).\n",
    "#\n",
    "# Type your code here:\n",
    "\n"
   ]
  },
  {
   "cell_type": "markdown",
   "id": "118533e9",
   "metadata": {},
   "source": [
    "**👀 Tips:**\n",
    "\n",
    "Don't read this unless you want some tips on how to address this problem!\n",
    "\n",
    "Think how you would solve this problem without using python.\n",
    "\n",
    "One possible solution can be achieved in this way:\n",
    "\n",
    "**Main exercise: counting character lines and sorting them:**\n",
    "* We can use a dictionary to keep counts of how many times a character speaks. To do so:\n",
    "  * Instantiate an empty dictionary where we will store counts of character lines.\n",
    "  * Assuming we already know the list of characters (provided above), we can iterate over the list of characters.\n",
    "  * Then, for each character, we iterate over the lines in the file.\n",
    "  * If the line starts with the name of the character, there are two possibilities:\n",
    "  * 1: if the character is not in the dictionary, we will add it to the dictionary, with value 1 (because we've seen it once)\n",
    "  * 2: if the character is already in the dictionary, we will not add it to the dictionary (because it's already there!) but we will increase the value by 1.\n",
    "* After having iterated over all characters, we already have a dictionary of counts per character. We can now sort this dictionary (using the `sorted()` function), and print the contents.\n",
    "\n",
    "**Extra exercise: finding the characters in the play:**\n",
    "* Instantiate an empty list where we will keep the list of characters.\n",
    "* You can iterate over the list of lines in the Hamlet txt file.\n",
    "* Notice the pattern: character names happen at the beginning of the line, in capital letters, followed by a dot. Create a regular expression that captures the character name. Therefore, if a line starts this way, add the captured character name to the list of characters. Watch out: the word \"SCENE\" has the same pattern, you may want to write a condition that ignores \"SCENE\" and does not add it to the list of characters."
   ]
  },
  {
   "cell_type": "markdown",
   "id": "dd9af3aa",
   "metadata": {},
   "source": [
    "**👀 Suggested solution:**"
   ]
  },
  {
   "cell_type": "code",
   "execution_count": null,
   "id": "6088494f",
   "metadata": {},
   "outputs": [],
   "source": [
    "# ---------------------------------------\n",
    "# Main exercise: get character counts:\n",
    "dict_character_counts = dict()\n",
    "for character in characters:\n",
    "    for line in lines:\n",
    "        if line.startswith(character + \".\"):\n",
    "            if character in dict_character_counts:\n",
    "                dict_character_counts[character] += 1\n",
    "            else:\n",
    "                dict_character_counts[character] = 1\n",
    "\n",
    "sorted_characters = sorted(dict_character_counts.items(),key=lambda x:x[1], reverse=True)\n",
    "for ch in sorted_characters:\n",
    "    print(ch)"
   ]
  },
  {
   "cell_type": "code",
   "execution_count": null,
   "id": "b02ed30e",
   "metadata": {},
   "outputs": [],
   "source": [
    "# ---------------------------------------\n",
    "# Extra points: find the characters in the play:\n",
    "import re\n",
    "characters = []\n",
    "for line in lines:\n",
    "    if re.match(r'^[A-Z ]+\\..*', line):\n",
    "        match = re.match(r'^([A-Z ]+)\\..*', line).group(1)\n",
    "        if not 'SCENE' in match:\n",
    "            characters.append(match)\n",
    "characters = list(set(characters))\n",
    "print(characters)"
   ]
  },
  {
   "cell_type": "markdown",
   "id": "410d959d",
   "metadata": {},
   "source": [
    "### Exercise 2: Remove superfluous line breaks"
   ]
  },
  {
   "cell_type": "code",
   "execution_count": null,
   "id": "e934840d",
   "metadata": {},
   "outputs": [],
   "source": [
    "# You will have noticed that there are line breaks in the text file that do not correspond with the\n",
    "# text logical line breaks (i.e. paragraphs). Paragraphs are marked with two or more line breaks. Could\n",
    "# you try and have one paragraph per line? This means removing superfluous line breaks. The output should\n",
    "# be a list of strings, where each string corresponds to a paragraph.\n",
    "#\n",
    "# Type your code here:\n",
    "\n"
   ]
  },
  {
   "cell_type": "markdown",
   "id": "1290a762",
   "metadata": {
    "slideshow": {
     "slide_type": "slide"
    }
   },
   "source": [
    "#### 👀 Suggested solution"
   ]
  },
  {
   "cell_type": "code",
   "execution_count": null,
   "id": "c289a260",
   "metadata": {
    "slideshow": {
     "slide_type": "-"
    }
   },
   "outputs": [],
   "source": [
    "book_paragraphs = []\n",
    "with open(\"data/hamlet.txt\") as fr:\n",
    "    book = fr.readlines()\n",
    "    paragraph = \"\"\n",
    "    for line in book:\n",
    "        line = line.strip()\n",
    "        if line != \"\":\n",
    "            paragraph += line + \" \"\n",
    "        else:\n",
    "            book_paragraphs.append(paragraph)\n",
    "            paragraph = \"\"\n",
    "\n",
    "for paragraph in book_paragraphs[:100]:\n",
    "    print(paragraph)"
   ]
  },
  {
   "cell_type": "code",
   "execution_count": null,
   "id": "510aa9d5",
   "metadata": {
    "slideshow": {
     "slide_type": "slide"
    }
   },
   "outputs": [],
   "source": []
  },
  {
   "cell_type": "code",
   "execution_count": null,
   "id": "7c093b4b",
   "metadata": {},
   "outputs": [],
   "source": []
  }
 ],
 "metadata": {
  "kernelspec": {
   "display_name": "Python (py39)",
   "language": "python",
   "name": "py39"
  },
  "language_info": {
   "codemirror_mode": {
    "name": "ipython",
    "version": 3
   },
   "file_extension": ".py",
   "mimetype": "text/x-python",
   "name": "python",
   "nbconvert_exporter": "python",
   "pygments_lexer": "ipython3",
   "version": "3.9.12"
  }
 },
 "nbformat": 4,
 "nbformat_minor": 5
}
