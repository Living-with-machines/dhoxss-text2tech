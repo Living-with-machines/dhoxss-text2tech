{
 "cells": [
  {
   "cell_type": "markdown",
   "id": "7dd64a3f",
   "metadata": {
    "slideshow": {
     "slide_type": "slide"
    }
   },
   "source": [
    "# Data structures: dictionaries"
   ]
  },
  {
   "cell_type": "markdown",
   "id": "054fcc5c",
   "metadata": {
    "slideshow": {
     "slide_type": "slide"
    }
   },
   "source": [
    "Next to lists, **dictionaries** are another common Python data type. \n",
    "\n",
    "At first these objects may seem abstract (and understanding why they are useful takes some time) but please be assured, dictionaries are everywhere when writing a program in Python."
   ]
  },
  {
   "cell_type": "markdown",
   "id": "e51b7ea4",
   "metadata": {
    "slideshow": {
     "slide_type": "slide"
    }
   },
   "source": [
    "\n",
    "Why is it called a dictionary? Similar to how a traditional dictionary is structured, it consists of a collection of entries (i.e. **keys**) with **values** (in a traditional dictionary, that's the definition).\n",
    "\n",
    "Example from a traditional dictionary:\n",
    "> _programming (n)_: The art of writing a program."
   ]
  },
  {
   "cell_type": "markdown",
   "id": "300a0b48",
   "metadata": {
    "slideshow": {
     "slide_type": "slide"
    }
   },
   "source": [
    "A dictionary in Python is a mapping between keys and values:\n",
    "* **Key**: the index of the dictionary, it can be a string, a number, or a tuple. **Keys are unique**.\n",
    "* **Value**: the value associated with a given key, it can be of any type! Values don't need to be unique."
   ]
  },
  {
   "cell_type": "markdown",
   "id": "a5b6ce80",
   "metadata": {
    "slideshow": {
     "slide_type": "slide"
    }
   },
   "source": [
    "For example:\n",
    "\n",
    "```python\n",
    "dictionary = {\"programming\" : \"The art of writing a program.\",\n",
    "              \"dictionary\" : \"Collection of words with their definitions.\"\n",
    "             }\n",
    "```\n",
    "\n",
    "In Python:\n",
    "* A dictionary is represented in curly brackets `{}`.\n",
    "* A colon (```:```) is used to separate the key from the value. \n",
    "* A key-value pair is called an **item**\n",
    "* Different **items** in a dictionary are separated by commas (```,```)."
   ]
  },
  {
   "cell_type": "markdown",
   "id": "04b8e225",
   "metadata": {
    "slideshow": {
     "slide_type": "slide"
    }
   },
   "source": [
    "You can have as many elements as necessary in a dictionary:"
   ]
  },
  {
   "cell_type": "code",
   "execution_count": null,
   "id": "26e7550c",
   "metadata": {
    "slideshow": {
     "slide_type": "fragment"
    }
   },
   "outputs": [],
   "source": [
    "shipwrecks_by_year = {\n",
    "    \"Santa Maria\": 1492,\n",
    "    \"USS Indianapolis\" : 1945,\n",
    "    \"HMS Endeavour\": 1778,\n",
    "    \"Endurance\": 1915\n",
    "    }"
   ]
  },
  {
   "cell_type": "markdown",
   "id": "396a9244",
   "metadata": {
    "slideshow": {
     "slide_type": "slide"
    }
   },
   "source": [
    "Values of dictionaries can also be tuples (like here), or lists, or sets..."
   ]
  },
  {
   "cell_type": "code",
   "execution_count": null,
   "id": "bc0f6708",
   "metadata": {
    "slideshow": {
     "slide_type": "fragment"
    }
   },
   "outputs": [],
   "source": [
    "shipwrecks_by_location = {\n",
    "    \"Santa Maria\": (19.00, -71.00),\n",
    "    \"USS Indianapolis\" : (12.03, 134.80),\n",
    "    \"HMS Endeavour\": (41.60, -71.35),\n",
    "    \"Endurance\": (-69.08, -51.50)\n",
    "    }"
   ]
  },
  {
   "cell_type": "markdown",
   "id": "2dc76b6b",
   "metadata": {
    "slideshow": {
     "slide_type": "slide"
    }
   },
   "source": [
    "... and dictionary values can also be nested dictionaries!"
   ]
  },
  {
   "cell_type": "code",
   "execution_count": null,
   "id": "786cf105",
   "metadata": {
    "slideshow": {
     "slide_type": "fragment"
    }
   },
   "outputs": [],
   "source": [
    "# Here the outer keys are strings, values are dictionaries!\n",
    "# The keys of the inner dictionary ('Coordinates', 'Year')\n",
    "# are strings, their values are (1) a tuple of floats for\n",
    "# key \"Coordinates\", and (2) an integer for key \"Year\".\n",
    "shipwrecks = {\n",
    "    \"Santa Maria\": {\n",
    "        \"Coordinates\": (19.00, -71.00),\n",
    "        \"Year\": 1492\n",
    "    },\n",
    "    \"USS Indianapolis\": {\n",
    "        \"Coordinates\": (12.03, 134.80),\n",
    "        \"Year\": 1945\n",
    "    },\n",
    "    \"HMS Endeavour\": {\n",
    "        \"Coordinates\": (41.60, -71.35),\n",
    "        \"Year\": 1778\n",
    "    },\n",
    "    \"Endurance\": {\n",
    "        \"Coordinates\": (-69.08, -51.50),\n",
    "        \"Year\": 1915\n",
    "    }\n",
    "}"
   ]
  },
  {
   "cell_type": "markdown",
   "id": "3cbb2d35",
   "metadata": {
    "slideshow": {
     "slide_type": "slide"
    }
   },
   "source": [
    "## Counting words\n",
    "\n",
    "In the context of text mining, we often use dictionaries to keep track of **word counts**. For example the **bag-of-words** representation of the first sentence of Alice in Wonderland\n",
    "> Alice was beginning to get very tired of sitting by her sister on the bank, and of having nothing to do: once or twice she had peeped into the book her sister was reading, but it had no pictures or conversations in it, “and what is the use of a book,” thought Alice “without pictures or conversations?”\n",
    "\n",
    "could be represented with a dictionary as (after stripping away the punctuation):\n",
    "\n",
    "\n"
   ]
  },
  {
   "cell_type": "code",
   "execution_count": null,
   "id": "b9e8d5ba",
   "metadata": {
    "slideshow": {
     "slide_type": "fragment"
    }
   },
   "outputs": [],
   "source": [
    "wordcounts = {'Alice': 2,\n",
    " 'was': 2,\n",
    " 'beginning': 1,\n",
    " 'to': 2,\n",
    " 'get': 1,\n",
    " 'very': 1,\n",
    " 'tired': 1,\n",
    " 'of': 3,\n",
    " 'sitting': 1,\n",
    " 'by': 1,\n",
    " 'her': 2,\n",
    " 'sister': 2,\n",
    " 'on': 1,\n",
    " 'the': 3,\n",
    " 'bank': 1,\n",
    " 'and': 2,\n",
    " 'having': 1,\n",
    " 'nothing': 1,\n",
    " 'do': 1,\n",
    " 'once': 1,\n",
    " 'or': 3,\n",
    " 'twice': 1,\n",
    " 'she': 1,\n",
    " 'had': 2,\n",
    " 'peeped': 1,\n",
    " 'into': 1,\n",
    " 'book': 2,\n",
    " 'reading': 1,\n",
    " 'but': 1,\n",
    " 'it': 2,\n",
    " 'no': 1,\n",
    " 'pictures': 2,\n",
    " 'conversations': 2,\n",
    " 'in': 1,\n",
    " 'what': 1,\n",
    " 'is': 1,\n",
    " 'use': 1,\n",
    " 'a': 1,\n",
    " 'thought': 1,\n",
    " 'without': 1}\n"
   ]
  },
  {
   "cell_type": "markdown",
   "id": "816bc092",
   "metadata": {
    "slideshow": {
     "slide_type": "slide"
    }
   },
   "source": [
    "## Creating a dictionary\n",
    "\n",
    "Creating an **empty** dictionary (with no items):"
   ]
  },
  {
   "cell_type": "code",
   "execution_count": null,
   "id": "52b08678",
   "metadata": {
    "slideshow": {
     "slide_type": "fragment"
    }
   },
   "outputs": [],
   "source": [
    "new_dict = dict()"
   ]
  },
  {
   "cell_type": "markdown",
   "id": "e73e5b3b",
   "metadata": {
    "slideshow": {
     "slide_type": "slide"
    }
   },
   "source": [
    "Creating a dictionary with some items in it:"
   ]
  },
  {
   "cell_type": "code",
   "execution_count": null,
   "id": "1beed043",
   "metadata": {
    "slideshow": {
     "slide_type": "fragment"
    }
   },
   "outputs": [],
   "source": [
    "new_dict = {\n",
    "    \"item1\": 1,\n",
    "    \"item2\": 2,\n",
    "    \"item3\": 3\n",
    "    }"
   ]
  },
  {
   "cell_type": "markdown",
   "id": "93555d9f",
   "metadata": {
    "slideshow": {
     "slide_type": "slide"
    }
   },
   "source": [
    "✏️ **1. Exercise:**"
   ]
  },
  {
   "cell_type": "code",
   "execution_count": null,
   "id": "ec19476f",
   "metadata": {
    "slideshow": {
     "slide_type": "fragment"
    }
   },
   "outputs": [],
   "source": [
    "# Create a dictionary that maps all places you've lived in with the country they belong to, and print it.\n",
    "# You can include some holidays locations if you lived in one country only\n",
    "# Type your code here:\n",
    "\n"
   ]
  },
  {
   "cell_type": "markdown",
   "id": "93f6c4ef",
   "metadata": {
    "slideshow": {
     "slide_type": "slide"
    }
   },
   "source": [
    "## Adding and updating items into a dictionary\n",
    "\n",
    "You add a key-value pair into a dictionary like this, where \"London\" in this case is the new key you want to add, and \"United Kingdom\" is its value:"
   ]
  },
  {
   "cell_type": "code",
   "execution_count": null,
   "id": "12933bd5",
   "metadata": {
    "slideshow": {
     "slide_type": "fragment"
    }
   },
   "outputs": [],
   "source": [
    "# Instantiate a dictionary of lived places:\n",
    "dictionary_of_lived_places = {\"Toronto\": \"Canada\",\n",
    "                              \"Berlin\": \"Germany\",\n",
    "                              \"Amsterdam\": \"Netherlands\",\n",
    "                              \"Boras\": \"Sweden\",\n",
    "                              \"Saint Petersburg\": \"Russia\",\n",
    "                              \"Antwerp\": \"Belgium\"\n",
    "                             }\n",
    "print(dictionary_of_lived_places)"
   ]
  },
  {
   "cell_type": "code",
   "execution_count": null,
   "id": "3b0dc1aa",
   "metadata": {
    "slideshow": {
     "slide_type": "fragment"
    }
   },
   "outputs": [],
   "source": [
    "# Below, we're adding a new key-value pair in our dicionary_of_lived_places:\n",
    "dictionary_of_lived_places[\"London\"] = \"United Kingdom\"\n",
    "\n",
    "# Print the dictionary:\n",
    "print(dictionary_of_lived_places)"
   ]
  },
  {
   "cell_type": "markdown",
   "id": "2d69b5ed",
   "metadata": {
    "slideshow": {
     "slide_type": "slide"
    }
   },
   "source": [
    "You can update the value of a given key in the same way. For example, let's suppose for a moment that \"Amsterdam\" is not in \"Netherlands\", but in \"The Netherlands\":"
   ]
  },
  {
   "cell_type": "code",
   "execution_count": null,
   "id": "88d8264e",
   "metadata": {
    "slideshow": {
     "slide_type": "fragment"
    }
   },
   "outputs": [],
   "source": [
    "dictionary_of_lived_places[\"Amsterdam\"] = \"The Netherlands\"\n",
    "print(dictionary_of_lived_places)"
   ]
  },
  {
   "cell_type": "markdown",
   "id": "db586891",
   "metadata": {
    "slideshow": {
     "slide_type": "slide"
    }
   },
   "source": [
    "## Accessing a value from a dictionary\n",
    "\n",
    "Dictionaries provide a very straightforward way to access the values of a given key.\n",
    "\n",
    "Suppose we want to get the coordinates of the 'Endurance', given the following dictionary:"
   ]
  },
  {
   "cell_type": "code",
   "execution_count": null,
   "id": "00567be0",
   "metadata": {
    "slideshow": {
     "slide_type": "fragment"
    }
   },
   "outputs": [],
   "source": [
    "shipwrecks_by_location = {\n",
    "    \"Santa Maria\": (19.00, -71.00),\n",
    "    \"USS Indianapolis\" : (12.03, 134.80),\n",
    "    \"HMS Endeavour\": (41.60, -71.35),\n",
    "    \"Endurance\": (-69.08, -51.50)\n",
    "    }"
   ]
  },
  {
   "cell_type": "markdown",
   "id": "8782ec45",
   "metadata": {
    "slideshow": {
     "slide_type": "slide"
    }
   },
   "source": [
    "We just need to call the dictionary and the key in square brackets:"
   ]
  },
  {
   "cell_type": "code",
   "execution_count": null,
   "id": "94d306e2",
   "metadata": {
    "slideshow": {
     "slide_type": "fragment"
    }
   },
   "outputs": [],
   "source": [
    "print(shipwrecks_by_location[\"Endurance\"])"
   ]
  },
  {
   "cell_type": "markdown",
   "id": "eb5c361e",
   "metadata": {
    "slideshow": {
     "slide_type": "slide"
    }
   },
   "source": [
    "What happens if you try to access a key that does not exist in the dictionary?"
   ]
  },
  {
   "cell_type": "code",
   "execution_count": null,
   "id": "4443e741",
   "metadata": {
    "slideshow": {
     "slide_type": "fragment"
    }
   },
   "outputs": [],
   "source": [
    "print(shipwrecks_by_location[\"Titanic\"])"
   ]
  },
  {
   "cell_type": "markdown",
   "id": "9ec2c13f",
   "metadata": {
    "slideshow": {
     "slide_type": "slide"
    }
   },
   "source": [
    "To avoid annoying error messages, you can always check beforehand if the key exists:"
   ]
  },
  {
   "cell_type": "code",
   "execution_count": null,
   "id": "5ed4a946",
   "metadata": {
    "slideshow": {
     "slide_type": "fragment"
    }
   },
   "outputs": [],
   "source": [
    "query = \"Titanic\"\n",
    "if query in shipwrecks_by_location:\n",
    "    print(shipwrecks_by_location[query])\n",
    "else:\n",
    "    print(\"Warning: \" + query + \" is not in the dictionary.\")"
   ]
  },
  {
   "cell_type": "markdown",
   "id": "e1a856b4",
   "metadata": {
    "slideshow": {
     "slide_type": "slide"
    }
   },
   "source": [
    "Alternatively, you also can use the method ```.get()```: the first element of the method is the key you want to look for in the dictionary, and the second element the message that it is returned if the key has not been found:"
   ]
  },
  {
   "cell_type": "code",
   "execution_count": null,
   "id": "2abb25c4",
   "metadata": {
    "slideshow": {
     "slide_type": "fragment"
    }
   },
   "outputs": [],
   "source": [
    "query = \"Endurance\"\n",
    "print(shipwrecks_by_location.get(query, \"Key not in dictionary!\"))"
   ]
  },
  {
   "cell_type": "code",
   "execution_count": null,
   "id": "1c848602",
   "metadata": {
    "slideshow": {
     "slide_type": "fragment"
    }
   },
   "outputs": [],
   "source": [
    "query = \"Titanic\"\n",
    "print(shipwrecks_by_location.get(query, \"Key not in dictionary!\"))"
   ]
  },
  {
   "cell_type": "markdown",
   "id": "11ec61d1",
   "metadata": {
    "slideshow": {
     "slide_type": "slide"
    }
   },
   "source": [
    "## Other methods to retrieve data from a dictionary:\n",
    "\n",
    "Get all the **keys** in the dictionary:"
   ]
  },
  {
   "cell_type": "code",
   "execution_count": null,
   "id": "9bf3ff04",
   "metadata": {
    "slideshow": {
     "slide_type": "fragment"
    }
   },
   "outputs": [],
   "source": [
    "print(dictionary_of_lived_places.keys())"
   ]
  },
  {
   "cell_type": "markdown",
   "id": "caac9a3e",
   "metadata": {
    "slideshow": {
     "slide_type": "slide"
    }
   },
   "source": [
    "Get all the **values** in the dictionary (in a list format):"
   ]
  },
  {
   "cell_type": "code",
   "execution_count": null,
   "id": "5b88ab5e",
   "metadata": {
    "slideshow": {
     "slide_type": "fragment"
    }
   },
   "outputs": [],
   "source": [
    "print(dictionary_of_lived_places.values())"
   ]
  },
  {
   "cell_type": "markdown",
   "id": "5d44bafd",
   "metadata": {
    "slideshow": {
     "slide_type": "slide"
    }
   },
   "source": [
    "Get the **key-value pairs** in the dictionary (in a list of tuples format):"
   ]
  },
  {
   "cell_type": "code",
   "execution_count": null,
   "id": "8b60d509",
   "metadata": {
    "slideshow": {
     "slide_type": "fragment"
    }
   },
   "outputs": [],
   "source": [
    "print(dictionary_of_lived_places.items())"
   ]
  },
  {
   "cell_type": "markdown",
   "id": "4880c372",
   "metadata": {
    "slideshow": {
     "slide_type": "slide"
    }
   },
   "source": [
    "## Sorting a dictionary\n",
    "\n",
    "Dictionaries are unordered and can't be sorted, but we can sort a representation of a dictionary.\n",
    "\n",
    "We often use sorting operation when working with word counts (or any other type of counts, really). Let's revisit the (reduced) word counts taken from the first sentence of Alice in Wonderland.\n",
    "\n",
    "Sort **by key** in ascending order:"
   ]
  },
  {
   "cell_type": "code",
   "execution_count": null,
   "id": "12927518",
   "metadata": {},
   "outputs": [],
   "source": [
    "wordcounts = {'Alice': 2,\n",
    " 'was': 2,\n",
    " 'beginning': 1,\n",
    " 'to': 2,\n",
    " 'get': 1,\n",
    " 'very': 1,\n",
    " 'tired': 1,\n",
    " 'of': 3,\n",
    " 'the': 3,\n",
    " 'bank': 1,\n",
    " 'and': 2,\n",
    " 'having': 1,\n",
    " 'nothing': 1,\n",
    " 'do': 1,\n",
    " 'once': 1,\n",
    " 'or': 3}\n"
   ]
  },
  {
   "cell_type": "code",
   "execution_count": null,
   "id": "55e84945",
   "metadata": {
    "slideshow": {
     "slide_type": "fragment"
    }
   },
   "outputs": [],
   "source": [
    "sorted(wordcounts.items())"
   ]
  },
  {
   "cell_type": "markdown",
   "id": "abf75aca",
   "metadata": {
    "slideshow": {
     "slide_type": "slide"
    }
   },
   "source": [
    "Sort **by key** in descending order:"
   ]
  },
  {
   "cell_type": "code",
   "execution_count": null,
   "id": "6667df78",
   "metadata": {
    "slideshow": {
     "slide_type": "fragment"
    }
   },
   "outputs": [],
   "source": [
    "sorted(wordcounts.items(), reverse=True)"
   ]
  },
  {
   "cell_type": "markdown",
   "id": "0af2fc96",
   "metadata": {
    "slideshow": {
     "slide_type": "slide"
    }
   },
   "source": [
    "Dictionaries are unordered and can't be sorted, but we can sort a representation of a dictionary.\n",
    "\n",
    "Sort **by value** in ascending order:"
   ]
  },
  {
   "cell_type": "code",
   "execution_count": null,
   "id": "0bc2dde4",
   "metadata": {
    "slideshow": {
     "slide_type": "fragment"
    }
   },
   "outputs": [],
   "source": [
    "sorted(wordcounts.items(),key=lambda x:x[1])"
   ]
  },
  {
   "cell_type": "code",
   "execution_count": null,
   "id": "98caa654",
   "metadata": {},
   "outputs": [],
   "source": [
    "def get_second_item(x):\n",
    "    \"\"\"given a tuple with two elements, return the second element\n",
    "    for example if input is (2,4) this function will return 2\n",
    "    \"\"\"\n",
    "    return x[1]\n",
    "get_second_item((2,3))"
   ]
  },
  {
   "cell_type": "code",
   "execution_count": null,
   "id": "235f4fea",
   "metadata": {},
   "outputs": [],
   "source": [
    "sorted(wordcounts.items(),key=get_second_item)"
   ]
  },
  {
   "cell_type": "code",
   "execution_count": null,
   "id": "6ef02439",
   "metadata": {},
   "outputs": [],
   "source": [
    "get_second_item = lambda x : x[1]\n",
    "get_second_item((2,3))"
   ]
  },
  {
   "cell_type": "code",
   "execution_count": null,
   "id": "c82b474f",
   "metadata": {},
   "outputs": [],
   "source": [
    "sorted(wordcounts.items(),key=get_second_item)"
   ]
  },
  {
   "cell_type": "markdown",
   "id": "6559be3c",
   "metadata": {
    "slideshow": {
     "slide_type": "slide"
    }
   },
   "source": [
    "✏️ **2. Exercise:** \n",
    "\n",
    "Sort word frequencies from high to low (i.e. from most common to least common)."
   ]
  },
  {
   "cell_type": "code",
   "execution_count": null,
   "id": "016947c3",
   "metadata": {
    "slideshow": {
     "slide_type": "fragment"
    }
   },
   "outputs": [],
   "source": [
    "# Can you guess how to sort by value in descending order?\n",
    "#\n",
    "# Type your code here:\n",
    "\n"
   ]
  },
  {
   "cell_type": "markdown",
   "id": "a48fdf4e",
   "metadata": {
    "slideshow": {
     "slide_type": "slide"
    }
   },
   "source": [
    "## Iterate over a dictionary\n",
    "\n",
    "We can iterate over a dictionary in a similar way to how we interate over a list. By default, iteration is done over the keys of the dictionary. See the example:"
   ]
  },
  {
   "cell_type": "code",
   "execution_count": null,
   "id": "af52a516",
   "metadata": {
    "slideshow": {
     "slide_type": "fragment"
    }
   },
   "outputs": [],
   "source": [
    "dictionary_of_lived_places = {\n",
    "    \"Moose Jaw\": \"Canada\",\n",
    "    \"Saskatoon\": \"Canada\",\n",
    "    \"Ithaca\": \"Greece\"\n",
    "}\n",
    "\n",
    "for k in dictionary_of_lived_places:\n",
    "    print(k)"
   ]
  },
  {
   "cell_type": "markdown",
   "id": "9979f212",
   "metadata": {
    "slideshow": {
     "slide_type": "slide"
    }
   },
   "source": [
    "We can also iterate over the dictionary key-value pairs (`k, v`) with the `.items()` method."
   ]
  },
  {
   "cell_type": "code",
   "execution_count": null,
   "id": "74b431bb",
   "metadata": {
    "slideshow": {
     "slide_type": "fragment"
    }
   },
   "outputs": [],
   "source": [
    "dictionary_of_lived_places = {\n",
    "    \"Moose Jaw\": \"Canada\",\n",
    "    \"Saskatoon\": \"Canada\",\n",
    "    \"Ithaca\": \"Greece\"\n",
    "}\n",
    "\n",
    "for k, v in dictionary_of_lived_places.items():\n",
    "    print(k, v)"
   ]
  },
  {
   "cell_type": "markdown",
   "id": "72a04d1d",
   "metadata": {
    "slideshow": {
     "slide_type": "slide"
    }
   },
   "source": [
    "Remember that we can access the value of a key like this: ```dictionary[key]```. The cell below achieves teh same as the cell above:"
   ]
  },
  {
   "cell_type": "code",
   "execution_count": null,
   "id": "d7391c4c",
   "metadata": {
    "slideshow": {
     "slide_type": "fragment"
    }
   },
   "outputs": [],
   "source": [
    "for k in dictionary_of_lived_places:\n",
    "    print(k, dictionary_of_lived_places[k])"
   ]
  },
  {
   "cell_type": "markdown",
   "id": "8882955e",
   "metadata": {
    "slideshow": {
     "slide_type": "slide"
    }
   },
   "source": [
    "## Use case: counting words\n",
    "\n",
    "Dictionaries are very helpful to count and keep track of how often words appear in a document or a collection. Look at the example below:"
   ]
  },
  {
   "cell_type": "code",
   "execution_count": null,
   "id": "85dc7e5d",
   "metadata": {
    "slideshow": {
     "slide_type": "fragment"
    }
   },
   "outputs": [],
   "source": [
    "text = \"This is the second day of the summer school, we're covering data structures in Python.\"\n",
    "\n",
    "word_list = text.split(\" \")\n",
    "dict_wordcounts = dict()\n",
    "for word in word_list:\n",
    "    if word in dict_wordcounts:\n",
    "        dict_wordcounts[word] += 1\n",
    "    else:\n",
    "        dict_wordcounts[word] = 1\n",
    "\n",
    "print(dict_wordcounts)"
   ]
  },
  {
   "cell_type": "markdown",
   "id": "111dc98c",
   "metadata": {
    "slideshow": {
     "slide_type": "slide"
    }
   },
   "source": [
    "Do you understand what is happening at each line of code?"
   ]
  },
  {
   "cell_type": "markdown",
   "id": "36a7fc6f",
   "metadata": {
    "slideshow": {
     "slide_type": "slide"
    }
   },
   "source": [
    "Now with comments:"
   ]
  },
  {
   "cell_type": "code",
   "execution_count": null,
   "id": "e9ae8a7e",
   "metadata": {
    "slideshow": {
     "slide_type": "fragment"
    }
   },
   "outputs": [],
   "source": [
    "text = \"This is the second day of the summer school, we're covering data structures in Python.\"\n",
    "word_list = text.split(\" \") # First of all, split the text by white space.\n",
    "dict_wordcounts = dict() # We start an empty dictionary, which we will be filling with data as we read it.\n",
    "for word in word_list: # Read and iterate over the data, in this case a list of words. \n",
    "    if word in dict_wordcounts: # Check if the word exists as a key in the dictionary\n",
    "        dict_wordcounts[word] += 1 # Update the value (i.e. count) of the key (i.e. word) by adding 1 to it.\n",
    "    else: # If the word does not exist as a key in the dictionary: \n",
    "        dict_wordcounts[word] = 1 # Add the key to the dictionary, and give it the value 1.\n",
    "\n",
    "print(dict_wordcounts)"
   ]
  },
  {
   "cell_type": "markdown",
   "id": "97177302",
   "metadata": {
    "slideshow": {
     "slide_type": "slide"
    }
   },
   "source": [
    "## Using Counter\n",
    "\n",
    "In practice, Python provides more convenient tools for computing word counts, a `Counter`.\n",
    "\n",
    "The `Counter` takes a list of tokens (or other items) as input and computes how often each value appears.\n",
    "\n",
    "It is not loaded automatically, so we need to add an `import` statement first."
   ]
  },
  {
   "cell_type": "code",
   "execution_count": null,
   "id": "2c1b72e9",
   "metadata": {
    "slideshow": {
     "slide_type": "slide"
    }
   },
   "outputs": [],
   "source": [
    "from collections import Counter\n",
    "sentence = \"Alice was beginning to get very tired of sitting by her sister on the bank and of having nothing to do\"\n",
    "word_list = sentence.split()\n",
    "print(word_list)"
   ]
  },
  {
   "cell_type": "markdown",
   "id": "65565139",
   "metadata": {
    "slideshow": {
     "slide_type": "slide"
    }
   },
   "source": [
    "Convert the list of tokens to Counter object with word counts."
   ]
  },
  {
   "cell_type": "code",
   "execution_count": null,
   "id": "7ae1c222",
   "metadata": {
    "slideshow": {
     "slide_type": "fragment"
    }
   },
   "outputs": [],
   "source": [
    "word_counts = Counter(word_list)\n",
    "word_counts"
   ]
  },
  {
   "cell_type": "markdown",
   "id": "3c48513b",
   "metadata": {
    "slideshow": {
     "slide_type": "slide"
    }
   },
   "source": [
    "The Counter is an adaptation of the dictionary and behaves similarly in many contexts. For example, accessing values by key."
   ]
  },
  {
   "cell_type": "code",
   "execution_count": null,
   "id": "f86921fb",
   "metadata": {
    "slideshow": {
     "slide_type": "fragment"
    }
   },
   "outputs": [],
   "source": [
    "word_counts['of']"
   ]
  },
  {
   "cell_type": "markdown",
   "id": "7d7f1c31",
   "metadata": {
    "slideshow": {
     "slide_type": "slide"
    }
   },
   "source": [
    "Or reassigning values by key."
   ]
  },
  {
   "cell_type": "code",
   "execution_count": null,
   "id": "208bef67",
   "metadata": {
    "slideshow": {
     "slide_type": "fragment"
    }
   },
   "outputs": [],
   "source": [
    "word_counts['of'] = 3\n",
    "word_counts['of']"
   ]
  },
  {
   "cell_type": "markdown",
   "id": "42afdb47",
   "metadata": {
    "slideshow": {
     "slide_type": "slide"
    }
   },
   "source": [
    "Sorting is much more convenient with the `.most_common()` method. You print the three most common words using the statemnt below."
   ]
  },
  {
   "cell_type": "code",
   "execution_count": null,
   "id": "1582a243",
   "metadata": {
    "slideshow": {
     "slide_type": "fragment"
    }
   },
   "outputs": [],
   "source": [
    "word_counts.most_common(3)"
   ]
  },
  {
   "cell_type": "markdown",
   "id": "3770798c",
   "metadata": {
    "slideshow": {
     "slide_type": "slide"
    }
   },
   "source": [
    "# APIs and JSON."
   ]
  },
  {
   "cell_type": "markdown",
   "id": "4de67a48",
   "metadata": {
    "slideshow": {
     "slide_type": "slide"
    }
   },
   "source": [
    "## Application Programming Interfaces\n",
    "\n",
    "\n",
    "- API access means programmatic access to (online) content.\n",
    "- Another common source of information besides webscraping."
   ]
  },
  {
   "cell_type": "markdown",
   "id": "31ea6950",
   "metadata": {
    "slideshow": {
     "slide_type": "slide"
    }
   },
   "source": [
    "- Many institutions/data providers allow API access to their content. \n",
    "- Details are different, but they generally work in similar ways."
   ]
  },
  {
   "cell_type": "markdown",
   "id": "5ff237d0",
   "metadata": {
    "slideshow": {
     "slide_type": "slide"
    }
   },
   "source": [
    "We look at Chronicling America [API interface](https://chroniclingamerica.loc.gov/about/api/)"
   ]
  },
  {
   "cell_type": "markdown",
   "id": "01c2334c",
   "metadata": {
    "slideshow": {
     "slide_type": "slide"
    }
   },
   "source": [
    "## Chronicling America API\n",
    "\n",
    "We define a call to the API by formulating a URL.\n",
    "\n",
    "```python\n",
    "url=\"https://chroniclingamerica.loc.gov/search/pages/results/?andtext=suffrage&format=json\"\n",
    "```\n",
    "- First part defines protocol and server: `https://chroniclingamerica.loc.gov/`\n",
    "- `search`: type of request\n",
    "- `pages`: level of search, can also be '`title`'\n",
    "- `results/?` is followed by search parameters\n",
    "  - andtext: the search query\n",
    "  - format: 'html' (default), or 'json', or 'atom' (optional)\n",
    "  - page: for paging results (optional)"
   ]
  },
  {
   "cell_type": "code",
   "execution_count": 1,
   "id": "59bf1cec",
   "metadata": {
    "slideshow": {
     "slide_type": "slide"
    }
   },
   "outputs": [],
   "source": [
    "import requests"
   ]
  },
  {
   "cell_type": "code",
   "execution_count": 2,
   "id": "be53b510",
   "metadata": {
    "slideshow": {
     "slide_type": "fragment"
    }
   },
   "outputs": [],
   "source": [
    "api_query = \"https://chroniclingamerica.loc.gov/search/pages/results/?andtext=suffrage&format=json&page=1\" "
   ]
  },
  {
   "cell_type": "code",
   "execution_count": 3,
   "id": "40b99cba",
   "metadata": {
    "slideshow": {
     "slide_type": "fragment"
    }
   },
   "outputs": [],
   "source": [
    "content = requests.get(api_query).json()"
   ]
  },
  {
   "cell_type": "markdown",
   "id": "90d4bc3f",
   "metadata": {
    "slideshow": {
     "slide_type": "slide"
    }
   },
   "source": [
    "## Navigating JSON\n",
    "\n",
    "- JavaScript Object Notation"
   ]
  },
  {
   "cell_type": "code",
   "execution_count": 4,
   "id": "2297b1fa",
   "metadata": {
    "slideshow": {
     "slide_type": "slide"
    }
   },
   "outputs": [
    {
     "data": {
      "text/plain": [
       "dict"
      ]
     },
     "execution_count": 4,
     "metadata": {},
     "output_type": "execute_result"
    }
   ],
   "source": [
    "type(content)"
   ]
  },
  {
   "cell_type": "code",
   "execution_count": 5,
   "id": "2f6a71ba",
   "metadata": {
    "slideshow": {
     "slide_type": "slide"
    }
   },
   "outputs": [
    {
     "data": {
      "text/plain": [
       "{'totalItems': 688053,\n",
       " 'endIndex': 20,\n",
       " 'startIndex': 1,\n",
       " 'itemsPerPage': 20,\n",
       " 'items': [{'sequence': 1,\n",
       "   'county': [None],\n",
       "   'edition': None,\n",
       "   'frequency': 'Weekly',\n",
       "   'id': '/lccn/sn89060379/1916-12-02/ed-1/seq-1/',\n",
       "   'subject': ['Baltimore (Md.)--Newspapers.',\n",
       "    'Maryland--Baltimore.--fast--(OCoLC)fst01204292',\n",
       "    'United States.--fast--(OCoLC)fst01204155',\n",
       "    'Women--Suffrage--United States--Newspapers.',\n",
       "    'Women--Suffrage.--fast--(OCoLC)fst01176996'],\n",
       "   'city': ['Baltimore'],\n",
       "   'date': '19161202',\n",
       "   'title': 'Maryland suffrage news.',\n",
       "   'end_year': 1920,\n",
       "   'note': ['Archived issues are available in digital format from the Library of Congress Chronicling America online collection.',\n",
       "    'Description based on: Vol. 1, no. 34 (Nov. 23, 1912).'],\n",
       "   'state': ['Maryland'],\n",
       "   'section_label': '',\n",
       "   'type': 'page',\n",
       "   'place_of_publication': 'Baltimore, Md.',\n",
       "   'start_year': 1912,\n",
       "   'edition_label': '',\n",
       "   'publisher': 'Just Government League of Maryland',\n",
       "   'language': ['English'],\n",
       "   'alt_title': [],\n",
       "   'lccn': 'sn89060379',\n",
       "   'country': 'Maryland',\n",
       "   'ocr_eng': 'MARYLAND SUFFRAGE NEWS\\nVol. V. No. 36 DECEMBER 2, 1916 Five Cents\\nTHE SUFFRAGE MAP OF NORTH AMERICA\\nWHITE— YIM Sincerest Flattery\\nFULL SUFFRAGE\\npartial Suffrage Suffrage States\\n* FULL SUFFRAGE y',\n",
       "   'batch': 'mdu_columbine_ver02',\n",
       "   'title_normal': 'maryland suffrage news.',\n",
       "   'url': 'https://chroniclingamerica.loc.gov/lccn/sn89060379/1916-12-02/ed-1/seq-1.json',\n",
       "   'place': ['Maryland--Baltimore'],\n",
       "   'page': ''},\n",
       "  {'sequence': 1,\n",
       "   'county': [None],\n",
       "   'edition': None,\n",
       "   'frequency': 'Weekly',\n",
       "   'id': '/lccn/sn89060379/1918-04-06/ed-1/seq-1/',\n",
       "   'subject': ['Baltimore (Md.)--Newspapers.',\n",
       "    'Maryland--Baltimore.--fast--(OCoLC)fst01204292',\n",
       "    'United States.--fast--(OCoLC)fst01204155',\n",
       "    'Women--Suffrage--United States--Newspapers.',\n",
       "    'Women--Suffrage.--fast--(OCoLC)fst01176996'],\n",
       "   'city': ['Baltimore'],\n",
       "   'date': '19180406',\n",
       "   'title': 'Maryland suffrage news.',\n",
       "   'end_year': 1920,\n",
       "   'note': ['Archived issues are available in digital format from the Library of Congress Chronicling America online collection.',\n",
       "    'Description based on: Vol. 1, no. 34 (Nov. 23, 1912).'],\n",
       "   'state': ['Maryland'],\n",
       "   'section_label': '',\n",
       "   'type': 'page',\n",
       "   'place_of_publication': 'Baltimore, Md.',\n",
       "   'start_year': 1912,\n",
       "   'edition_label': '',\n",
       "   'publisher': 'Just Government League of Maryland',\n",
       "   'language': ['English'],\n",
       "   'alt_title': [],\n",
       "   'lccn': 'sn89060379',\n",
       "   'country': 'Maryland',\n",
       "   'ocr_eng': 'OUR SIXTH ANNIVERSARY NUMBER\\nMARYLAND SUFFRAGE NEWS\\nVol. VII. No. t APRIL 6, /9/S Five Cents\\nHOW THE SUFFRAGE MAP LOOKED WHEN THE SUFFRAGE NEWS FIRST STARTED\\nIN APRIL, 1912\\n: „ _\\nWHITE STATES—FULL SUFFRAGE. Shaded States—Partial Suffrage. Dark States —No suffrage.\\n? —Pending.\\nabc\\nWHITE STATES —FULL SUFFRAGE. Dark States—No suffrage. Shaded States—Partial suffrage.\\n* —Full suffrage, except for State officials. *—Practically complete suffrage.\\nTHE SUFFRAGE MAP TODAY',\n",
       "   'batch': 'mdu_columbine_ver02',\n",
       "   'title_normal': 'maryland suffrage news.',\n",
       "   'url': 'https://chroniclingamerica.loc.gov/lccn/sn89060379/1918-04-06/ed-1/seq-1.json',\n",
       "   'place': ['Maryland--Baltimore'],\n",
       "   'page': ''},\n",
       "  {'sequence': 1,\n",
       "   'county': [None],\n",
       "   'edition': None,\n",
       "   'frequency': 'Weekly',\n",
       "   'id': '/lccn/sn89060379/1916-12-23/ed-1/seq-1/',\n",
       "   'subject': ['Baltimore (Md.)--Newspapers.',\n",
       "    'Maryland--Baltimore.--fast--(OCoLC)fst01204292',\n",
       "    'United States.--fast--(OCoLC)fst01204155',\n",
       "    'Women--Suffrage--United States--Newspapers.',\n",
       "    'Women--Suffrage.--fast--(OCoLC)fst01176996'],\n",
       "   'city': ['Baltimore'],\n",
       "   'date': '19161223',\n",
       "   'title': 'Maryland suffrage news.',\n",
       "   'end_year': 1920,\n",
       "   'note': ['Archived issues are available in digital format from the Library of Congress Chronicling America online collection.',\n",
       "    'Description based on: Vol. 1, no. 34 (Nov. 23, 1912).'],\n",
       "   'state': ['Maryland'],\n",
       "   'section_label': '',\n",
       "   'type': 'page',\n",
       "   'place_of_publication': 'Baltimore, Md.',\n",
       "   'start_year': 1912,\n",
       "   'edition_label': '',\n",
       "   'publisher': 'Just Government League of Maryland',\n",
       "   'language': ['English'],\n",
       "   'alt_title': [],\n",
       "   'lccn': 'sn89060379',\n",
       "   'country': 'Maryland',\n",
       "   'ocr_eng': 'MARYLAND SUFFRAGE NEWS\\n■ B\\nMerry Xmas to All!',\n",
       "   'batch': 'mdu_columbine_ver02',\n",
       "   'title_normal': 'maryland suffrage news.',\n",
       "   'url': 'https://chroniclingamerica.loc.gov/lccn/sn89060379/1916-12-23/ed-1/seq-1.json',\n",
       "   'place': ['Maryland--Baltimore'],\n",
       "   'page': ''},\n",
       "  {'sequence': 1,\n",
       "   'county': [None],\n",
       "   'edition': None,\n",
       "   'frequency': 'Weekly',\n",
       "   'id': '/lccn/sn89060379/1917-05-12/ed-1/seq-1/',\n",
       "   'subject': ['Baltimore (Md.)--Newspapers.',\n",
       "    'Maryland--Baltimore.--fast--(OCoLC)fst01204292',\n",
       "    'United States.--fast--(OCoLC)fst01204155',\n",
       "    'Women--Suffrage--United States--Newspapers.',\n",
       "    'Women--Suffrage.--fast--(OCoLC)fst01176996'],\n",
       "   'city': ['Baltimore'],\n",
       "   'date': '19170512',\n",
       "   'title': 'Maryland suffrage news.',\n",
       "   'end_year': 1920,\n",
       "   'note': ['Archived issues are available in digital format from the Library of Congress Chronicling America online collection.',\n",
       "    'Description based on: Vol. 1, no. 34 (Nov. 23, 1912).'],\n",
       "   'state': ['Maryland'],\n",
       "   'section_label': '',\n",
       "   'type': 'page',\n",
       "   'place_of_publication': 'Baltimore, Md.',\n",
       "   'start_year': 1912,\n",
       "   'edition_label': '',\n",
       "   'publisher': 'Just Government League of Maryland',\n",
       "   'language': ['English'],\n",
       "   'alt_title': [],\n",
       "   'lccn': 'sn89060379',\n",
       "   'country': 'Maryland',\n",
       "   'ocr_eng': 'MARYLAND SUFFRAGE NEWS\\nVol. VI. No. 6 MAY 12, 1917 Five Cents\\nWOMAN SUFFRAGE IN NORTH AMERICA\\nGRAY— > COMPLETE SUFFRAGE\\nPARTIAL SUFFRAGE HA BLACK-',\n",
       "   'batch': 'mdu_columbine_ver02',\n",
       "   'title_normal': 'maryland suffrage news.',\n",
       "   'url': 'https://chroniclingamerica.loc.gov/lccn/sn89060379/1917-05-12/ed-1/seq-1.json',\n",
       "   'place': ['Maryland--Baltimore'],\n",
       "   'page': ''},\n",
       "  {'sequence': 1,\n",
       "   'county': [None],\n",
       "   'edition': None,\n",
       "   'frequency': 'Weekly',\n",
       "   'id': '/lccn/sn89060379/1915-12-18/ed-1/seq-1/',\n",
       "   'subject': ['Baltimore (Md.)--Newspapers.',\n",
       "    'Maryland--Baltimore.--fast--(OCoLC)fst01204292',\n",
       "    'United States.--fast--(OCoLC)fst01204155',\n",
       "    'Women--Suffrage--United States--Newspapers.',\n",
       "    'Women--Suffrage.--fast--(OCoLC)fst01176996'],\n",
       "   'city': ['Baltimore'],\n",
       "   'date': '19151218',\n",
       "   'title': 'Maryland suffrage news.',\n",
       "   'end_year': 1920,\n",
       "   'note': ['Archived issues are available in digital format from the Library of Congress Chronicling America online collection.',\n",
       "    'Description based on: Vol. 1, no. 34 (Nov. 23, 1912).'],\n",
       "   'state': ['Maryland'],\n",
       "   'section_label': '',\n",
       "   'type': 'page',\n",
       "   'place_of_publication': 'Baltimore, Md.',\n",
       "   'start_year': 1912,\n",
       "   'edition_label': '',\n",
       "   'publisher': 'Just Government League of Maryland',\n",
       "   'language': ['English'],\n",
       "   'alt_title': [],\n",
       "   'lccn': 'sn89060379',\n",
       "   'country': 'Maryland',\n",
       "   'ocr_eng': 'MARYLAND SUFFRAGE NEWS\\nVol. IV, No. 38 DECEMBER 18,1915 Five Cents\\nace\\nTHE SILENT VOTE —\\nfor Suffrage',\n",
       "   'batch': 'mdu_columbine_ver02',\n",
       "   'title_normal': 'maryland suffrage news.',\n",
       "   'url': 'https://chroniclingamerica.loc.gov/lccn/sn89060379/1915-12-18/ed-1/seq-1.json',\n",
       "   'place': ['Maryland--Baltimore'],\n",
       "   'page': ''},\n",
       "  {'sequence': 1,\n",
       "   'county': [None],\n",
       "   'edition': None,\n",
       "   'frequency': 'Weekly',\n",
       "   'id': '/lccn/sn89060379/1916-11-04/ed-1/seq-1/',\n",
       "   'subject': ['Baltimore (Md.)--Newspapers.',\n",
       "    'Maryland--Baltimore.--fast--(OCoLC)fst01204292',\n",
       "    'United States.--fast--(OCoLC)fst01204155',\n",
       "    'Women--Suffrage--United States--Newspapers.',\n",
       "    'Women--Suffrage.--fast--(OCoLC)fst01176996'],\n",
       "   'city': ['Baltimore'],\n",
       "   'date': '19161104',\n",
       "   'title': 'Maryland suffrage news.',\n",
       "   'end_year': 1920,\n",
       "   'note': ['Archived issues are available in digital format from the Library of Congress Chronicling America online collection.',\n",
       "    'Description based on: Vol. 1, no. 34 (Nov. 23, 1912).'],\n",
       "   'state': ['Maryland'],\n",
       "   'section_label': '',\n",
       "   'type': 'page',\n",
       "   'place_of_publication': 'Baltimore, Md.',\n",
       "   'start_year': 1912,\n",
       "   'edition_label': '',\n",
       "   'publisher': 'Just Government League of Maryland',\n",
       "   'language': ['English'],\n",
       "   'alt_title': [],\n",
       "   'lccn': 'sn89060379',\n",
       "   'country': 'Maryland',\n",
       "   'ocr_eng': 'ELECTION DAY EDITION\\nMARYLAND SUFFRAGE NEWS\\nVoL V, No. 32 NOVEMBER 4, 1916 Five Cents\\nTHE SUFFRAGE MAP OF NORTH AMERICA\\nfull W suffrage Sincere* Flattery\\npartia G L ßA s Y uffrage Suffrage States\\n* FULL SUFFRAGE',\n",
       "   'batch': 'mdu_columbine_ver02',\n",
       "   'title_normal': 'maryland suffrage news.',\n",
       "   'url': 'https://chroniclingamerica.loc.gov/lccn/sn89060379/1916-11-04/ed-1/seq-1.json',\n",
       "   'place': ['Maryland--Baltimore'],\n",
       "   'page': ''},\n",
       "  {'sequence': 1,\n",
       "   'county': [None],\n",
       "   'edition': None,\n",
       "   'frequency': 'Weekly',\n",
       "   'id': '/lccn/sn89060379/1916-07-15/ed-1/seq-1/',\n",
       "   'subject': ['Baltimore (Md.)--Newspapers.',\n",
       "    'Maryland--Baltimore.--fast--(OCoLC)fst01204292',\n",
       "    'United States.--fast--(OCoLC)fst01204155',\n",
       "    'Women--Suffrage--United States--Newspapers.',\n",
       "    'Women--Suffrage.--fast--(OCoLC)fst01176996'],\n",
       "   'city': ['Baltimore'],\n",
       "   'date': '19160715',\n",
       "   'title': 'Maryland suffrage news.',\n",
       "   'end_year': 1920,\n",
       "   'note': ['Archived issues are available in digital format from the Library of Congress Chronicling America online collection.',\n",
       "    'Description based on: Vol. 1, no. 34 (Nov. 23, 1912).'],\n",
       "   'state': ['Maryland'],\n",
       "   'section_label': '',\n",
       "   'type': 'page',\n",
       "   'place_of_publication': 'Baltimore, Md.',\n",
       "   'start_year': 1912,\n",
       "   'edition_label': '',\n",
       "   'publisher': 'Just Government League of Maryland',\n",
       "   'language': ['English'],\n",
       "   'alt_title': [],\n",
       "   'lccn': 'sn89060379',\n",
       "   'country': 'Maryland',\n",
       "   'ocr_eng': 'MARYLAND SUFFRAGE NEWS\\nVol. V, No. !6 JULY 15, 19/6 Five Cents\\nabc\\nWhite—Full Suffrage. Gray\\n—Partial Suffrage. ?—States\\nwhere the Amendment has\\npassed one Legislature, or where\\nit is ready to go to the voters.\\n*Full Suffrage, except for State\\nOfficials. Black—No Suffrage.\\nThe black States of this coun\\ntry now find their only parallel\\nin Mexico, Central America,\\nNewfoundland, and the uninhab\\nited Northwest Territory, where\\nthere is no form of suffrage even\\nfor men.\\nSUFFRAGE TERRITORY IN NORTH AMERICA',\n",
       "   'batch': 'mdu_columbine_ver02',\n",
       "   'title_normal': 'maryland suffrage news.',\n",
       "   'url': 'https://chroniclingamerica.loc.gov/lccn/sn89060379/1916-07-15/ed-1/seq-1.json',\n",
       "   'place': ['Maryland--Baltimore'],\n",
       "   'page': ''},\n",
       "  {'sequence': 1,\n",
       "   'county': [None],\n",
       "   'edition': None,\n",
       "   'frequency': 'Weekly',\n",
       "   'id': '/lccn/sn89060379/1917-03-03/ed-1/seq-1/',\n",
       "   'subject': ['Baltimore (Md.)--Newspapers.',\n",
       "    'Maryland--Baltimore.--fast--(OCoLC)fst01204292',\n",
       "    'United States.--fast--(OCoLC)fst01204155',\n",
       "    'Women--Suffrage--United States--Newspapers.',\n",
       "    'Women--Suffrage.--fast--(OCoLC)fst01176996'],\n",
       "   'city': ['Baltimore'],\n",
       "   'date': '19170303',\n",
       "   'title': 'Maryland suffrage news.',\n",
       "   'end_year': 1920,\n",
       "   'note': ['Archived issues are available in digital format from the Library of Congress Chronicling America online collection.',\n",
       "    'Description based on: Vol. 1, no. 34 (Nov. 23, 1912).'],\n",
       "   'state': ['Maryland'],\n",
       "   'section_label': '',\n",
       "   'type': 'page',\n",
       "   'place_of_publication': 'Baltimore, Md.',\n",
       "   'start_year': 1912,\n",
       "   'edition_label': '',\n",
       "   'publisher': 'Just Government League of Maryland',\n",
       "   'language': ['English'],\n",
       "   'alt_title': [],\n",
       "   'lccn': 'sn89060379',\n",
       "   'country': 'Maryland',\n",
       "   'ocr_eng': 'MARYLAND SUFFRAGE NEWS\\nVol. V. J\\\\[o. 49 MJHfCH 3, 1917 Five Cents\\nTHE NEW MAP OF NORTH AMERICA\\nWHITE— * p ULL suffrage\\nFULL SUFFRAGE W Except for State ° fficial *\\npartial Suffrage HX gf no^frage',\n",
       "   'batch': 'mdu_columbine_ver02',\n",
       "   'title_normal': 'maryland suffrage news.',\n",
       "   'url': 'https://chroniclingamerica.loc.gov/lccn/sn89060379/1917-03-03/ed-1/seq-1.json',\n",
       "   'place': ['Maryland--Baltimore'],\n",
       "   'page': ''},\n",
       "  {'sequence': 1,\n",
       "   'county': [None],\n",
       "   'edition': None,\n",
       "   'frequency': 'Weekly',\n",
       "   'id': '/lccn/sn89060379/1917-04-14/ed-1/seq-1/',\n",
       "   'subject': ['Baltimore (Md.)--Newspapers.',\n",
       "    'Maryland--Baltimore.--fast--(OCoLC)fst01204292',\n",
       "    'United States.--fast--(OCoLC)fst01204155',\n",
       "    'Women--Suffrage--United States--Newspapers.',\n",
       "    'Women--Suffrage.--fast--(OCoLC)fst01176996'],\n",
       "   'city': ['Baltimore'],\n",
       "   'date': '19170414',\n",
       "   'title': 'Maryland suffrage news.',\n",
       "   'end_year': 1920,\n",
       "   'note': ['Archived issues are available in digital format from the Library of Congress Chronicling America online collection.',\n",
       "    'Description based on: Vol. 1, no. 34 (Nov. 23, 1912).'],\n",
       "   'state': ['Maryland'],\n",
       "   'section_label': '',\n",
       "   'type': 'page',\n",
       "   'place_of_publication': 'Baltimore, Md.',\n",
       "   'start_year': 1912,\n",
       "   'edition_label': '',\n",
       "   'publisher': 'Just Government League of Maryland',\n",
       "   'language': ['English'],\n",
       "   'alt_title': [],\n",
       "   'lccn': 'sn89060379',\n",
       "   'country': 'Maryland',\n",
       "   'ocr_eng': \"MARYLAND SUFFRAGE NEWS\\nVol. VI. N 0.2 APRIL 14, 1917 Five Cents\\n“Our Party is so distinctly pledged to its (Woman Suffrage) passage, that it seems to me the\\nmoral obligation is complete.” Woodrow Wilson, 'President of the United States .\\nWOMAN SUFFRAGE IN NORTH AMERICA\\nPARTIAL SUFFRAGE BLACK-\",\n",
       "   'batch': 'mdu_columbine_ver02',\n",
       "   'title_normal': 'maryland suffrage news.',\n",
       "   'url': 'https://chroniclingamerica.loc.gov/lccn/sn89060379/1917-04-14/ed-1/seq-1.json',\n",
       "   'place': ['Maryland--Baltimore'],\n",
       "   'page': ''},\n",
       "  {'sequence': 1,\n",
       "   'county': [None],\n",
       "   'edition': None,\n",
       "   'frequency': 'Weekly',\n",
       "   'id': '/lccn/sn89060379/1916-04-08/ed-1/seq-1/',\n",
       "   'subject': ['Baltimore (Md.)--Newspapers.',\n",
       "    'Maryland--Baltimore.--fast--(OCoLC)fst01204292',\n",
       "    'United States.--fast--(OCoLC)fst01204155',\n",
       "    'Women--Suffrage--United States--Newspapers.',\n",
       "    'Women--Suffrage.--fast--(OCoLC)fst01176996'],\n",
       "   'city': ['Baltimore'],\n",
       "   'date': '19160408',\n",
       "   'title': 'Maryland suffrage news.',\n",
       "   'end_year': 1920,\n",
       "   'note': ['Archived issues are available in digital format from the Library of Congress Chronicling America online collection.',\n",
       "    'Description based on: Vol. 1, no. 34 (Nov. 23, 1912).'],\n",
       "   'state': ['Maryland'],\n",
       "   'section_label': '',\n",
       "   'type': 'page',\n",
       "   'place_of_publication': 'Baltimore, Md.',\n",
       "   'start_year': 1912,\n",
       "   'edition_label': '',\n",
       "   'publisher': 'Just Government League of Maryland',\n",
       "   'language': ['English'],\n",
       "   'alt_title': [],\n",
       "   'lccn': 'sn89060379',\n",
       "   'country': 'Maryland',\n",
       "   'ocr_eng': 'MARYLAND SUFFRAGE NEWS\\nVol. V, No, 2 APRIL 8, 1916 Five Cents\\nMARYLAND SUFFRAGE MAP\\nThe Tabulated Vote on the State* Wide Woman Suffrage Amendment in the Legislature of 1916\\nWill Be Found in the March 25 Issue of the Maryland Suffrage News',\n",
       "   'batch': 'mdu_columbine_ver02',\n",
       "   'title_normal': 'maryland suffrage news.',\n",
       "   'url': 'https://chroniclingamerica.loc.gov/lccn/sn89060379/1916-04-08/ed-1/seq-1.json',\n",
       "   'place': ['Maryland--Baltimore'],\n",
       "   'page': ''},\n",
       "  {'sequence': 1,\n",
       "   'county': [None],\n",
       "   'edition': None,\n",
       "   'frequency': 'Weekly',\n",
       "   'id': '/lccn/sn89060379/1915-12-11/ed-1/seq-1/',\n",
       "   'subject': ['Baltimore (Md.)--Newspapers.',\n",
       "    'Maryland--Baltimore.--fast--(OCoLC)fst01204292',\n",
       "    'United States.--fast--(OCoLC)fst01204155',\n",
       "    'Women--Suffrage--United States--Newspapers.',\n",
       "    'Women--Suffrage.--fast--(OCoLC)fst01176996'],\n",
       "   'city': ['Baltimore'],\n",
       "   'date': '19151211',\n",
       "   'title': 'Maryland suffrage news.',\n",
       "   'end_year': 1920,\n",
       "   'note': ['Archived issues are available in digital format from the Library of Congress Chronicling America online collection.',\n",
       "    'Description based on: Vol. 1, no. 34 (Nov. 23, 1912).'],\n",
       "   'state': ['Maryland'],\n",
       "   'section_label': '',\n",
       "   'type': 'page',\n",
       "   'place_of_publication': 'Baltimore, Md.',\n",
       "   'start_year': 1912,\n",
       "   'edition_label': '',\n",
       "   'publisher': 'Just Government League of Maryland',\n",
       "   'language': ['English'],\n",
       "   'alt_title': [],\n",
       "   'lccn': 'sn89060379',\n",
       "   'country': 'Maryland',\n",
       "   'ocr_eng': 'MARYLAND SUFFRAGE NEWS\\nVol. IV, No. 37 DECEMBER //, 1915 five Cents\\nacd\\nWHICH SIDE DO YOU STAND WITH\\nFor Women’s Suffrage Jlgalnst',\n",
       "   'batch': 'mdu_columbine_ver02',\n",
       "   'title_normal': 'maryland suffrage news.',\n",
       "   'url': 'https://chroniclingamerica.loc.gov/lccn/sn89060379/1915-12-11/ed-1/seq-1.json',\n",
       "   'place': ['Maryland--Baltimore'],\n",
       "   'page': ''},\n",
       "  {'sequence': 1,\n",
       "   'county': [None],\n",
       "   'edition': None,\n",
       "   'frequency': 'Weekly',\n",
       "   'id': '/lccn/sn89060379/1918-03-16/ed-1/seq-1/',\n",
       "   'subject': ['Baltimore (Md.)--Newspapers.',\n",
       "    'Maryland--Baltimore.--fast--(OCoLC)fst01204292',\n",
       "    'United States.--fast--(OCoLC)fst01204155',\n",
       "    'Women--Suffrage--United States--Newspapers.',\n",
       "    'Women--Suffrage.--fast--(OCoLC)fst01176996'],\n",
       "   'city': ['Baltimore'],\n",
       "   'date': '19180316',\n",
       "   'title': 'Maryland suffrage news.',\n",
       "   'end_year': 1920,\n",
       "   'note': ['Archived issues are available in digital format from the Library of Congress Chronicling America online collection.',\n",
       "    'Description based on: Vol. 1, no. 34 (Nov. 23, 1912).'],\n",
       "   'state': ['Maryland'],\n",
       "   'section_label': '',\n",
       "   'type': 'page',\n",
       "   'place_of_publication': 'Baltimore, Md.',\n",
       "   'start_year': 1912,\n",
       "   'edition_label': '',\n",
       "   'publisher': 'Just Government League of Maryland',\n",
       "   'language': ['English'],\n",
       "   'alt_title': [],\n",
       "   'lccn': 'sn89060379',\n",
       "   'country': 'Maryland',\n",
       "   'ocr_eng': \"MARYLAND SUFFRAGE NEWS\\nVol. VI. No. 50 MARCH 16, 1918 Five Cents\\nOver 10,000,000 Women Now Vote in the United States\\nFULL SUFFRAGE ★ PRACTICALLY\\nGRAY— * ' COMPLETE SUFFRAGE\\nPARTIAL SUFFRAGE HglgßL £g BLACK-\\nNO SUFFRAGE\\nMaryland women will be enfranchised through the passage of the Federal Suffrage\\nAmendment, now waiting action in the Senate.\\nThe victory postponed in Annapolis this week is awaiting Maryland women in the Capitol\\nof the nation.\",\n",
       "   'batch': 'mdu_columbine_ver02',\n",
       "   'title_normal': 'maryland suffrage news.',\n",
       "   'url': 'https://chroniclingamerica.loc.gov/lccn/sn89060379/1918-03-16/ed-1/seq-1.json',\n",
       "   'place': ['Maryland--Baltimore'],\n",
       "   'page': ''},\n",
       "  {'sequence': 1,\n",
       "   'county': [None],\n",
       "   'edition': None,\n",
       "   'frequency': 'Weekly',\n",
       "   'id': '/lccn/sn89060379/1916-10-14/ed-1/seq-1/',\n",
       "   'subject': ['Baltimore (Md.)--Newspapers.',\n",
       "    'Maryland--Baltimore.--fast--(OCoLC)fst01204292',\n",
       "    'United States.--fast--(OCoLC)fst01204155',\n",
       "    'Women--Suffrage--United States--Newspapers.',\n",
       "    'Women--Suffrage.--fast--(OCoLC)fst01176996'],\n",
       "   'city': ['Baltimore'],\n",
       "   'date': '19161014',\n",
       "   'title': 'Maryland suffrage news.',\n",
       "   'end_year': 1920,\n",
       "   'note': ['Archived issues are available in digital format from the Library of Congress Chronicling America online collection.',\n",
       "    'Description based on: Vol. 1, no. 34 (Nov. 23, 1912).'],\n",
       "   'state': ['Maryland'],\n",
       "   'section_label': '',\n",
       "   'type': 'page',\n",
       "   'place_of_publication': 'Baltimore, Md.',\n",
       "   'start_year': 1912,\n",
       "   'edition_label': '',\n",
       "   'publisher': 'Just Government League of Maryland',\n",
       "   'language': ['English'],\n",
       "   'alt_title': [],\n",
       "   'lccn': 'sn89060379',\n",
       "   'country': 'Maryland',\n",
       "   'ocr_eng': 'MARYLAND SUFFRAGE NEWS\\nVol. V, No. 29 OCTOBER 14, 1916 Five Cents\\nVOTES FOR WOMEN A SUCCESS\\nThe Suffrage Map Proves It\\nALASKA\\nWhite States—Full Suffrage\\nGray States Partial Suf*\\nBlack States—No Suffrage\\nWOMEN VOTE IN ALL THE WHITE STATES AND PROVINCES\\nWHY NOT IN MARYLAND?\\nNearly 4,000,000 women vote in the Equal Suffrage States, Total Number of Electoral Votes in Equal Suffrage States—9l.',\n",
       "   'batch': 'mdu_columbine_ver02',\n",
       "   'title_normal': 'maryland suffrage news.',\n",
       "   'url': 'https://chroniclingamerica.loc.gov/lccn/sn89060379/1916-10-14/ed-1/seq-1.json',\n",
       "   'place': ['Maryland--Baltimore'],\n",
       "   'page': ''},\n",
       "  {'sequence': 1,\n",
       "   'county': [None],\n",
       "   'edition': None,\n",
       "   'frequency': 'Weekly',\n",
       "   'id': '/lccn/sn89060379/1917-06-16/ed-1/seq-1/',\n",
       "   'subject': ['Baltimore (Md.)--Newspapers.',\n",
       "    'Maryland--Baltimore.--fast--(OCoLC)fst01204292',\n",
       "    'United States.--fast--(OCoLC)fst01204155',\n",
       "    'Women--Suffrage--United States--Newspapers.',\n",
       "    'Women--Suffrage.--fast--(OCoLC)fst01176996'],\n",
       "   'city': ['Baltimore'],\n",
       "   'date': '19170616',\n",
       "   'title': 'Maryland suffrage news.',\n",
       "   'end_year': 1920,\n",
       "   'note': ['Archived issues are available in digital format from the Library of Congress Chronicling America online collection.',\n",
       "    'Description based on: Vol. 1, no. 34 (Nov. 23, 1912).'],\n",
       "   'state': ['Maryland'],\n",
       "   'section_label': '',\n",
       "   'type': 'page',\n",
       "   'place_of_publication': 'Baltimore, Md.',\n",
       "   'start_year': 1912,\n",
       "   'edition_label': '',\n",
       "   'publisher': 'Just Government League of Maryland',\n",
       "   'language': ['English'],\n",
       "   'alt_title': [],\n",
       "   'lccn': 'sn89060379',\n",
       "   'country': 'Maryland',\n",
       "   'ocr_eng': 'MARYLAND SUFFRAGE NEWS\\nVol. VI. No. 11 JUNE 16, 1917 Five Cents\\nEqual Suffrage is Now Established in 11 States\\nPresidential Suffrage is Now Established in 7 States\\nPrimary Suffrage is Now Established in 1 State\\nWOMAN SUFFRAGE IN NORTH AMERICA\\n\" \" Except for State Official*\\nGRAY— _ COMPLETE SUFFRAGE\\nPARTIAL SUFFRAGE JV BLACK—\\nOver 8,000,000 Now Vote in the United States\\nFrom the States Where Women Vote Come Nearly\\ny s of Electoral College (172 of the 531 Electoral Votes)\\nOver 14 of House (134 of the 435 Members of Congress)\\n% of Senate (38 of the 96 Senators)',\n",
       "   'batch': 'mdu_columbine_ver02',\n",
       "   'title_normal': 'maryland suffrage news.',\n",
       "   'url': 'https://chroniclingamerica.loc.gov/lccn/sn89060379/1917-06-16/ed-1/seq-1.json',\n",
       "   'place': ['Maryland--Baltimore'],\n",
       "   'page': ''},\n",
       "  {'sequence': 1,\n",
       "   'county': [None],\n",
       "   'edition': None,\n",
       "   'frequency': 'Weekly',\n",
       "   'id': '/lccn/sn89060379/1917-10-13/ed-1/seq-1/',\n",
       "   'subject': ['Baltimore (Md.)--Newspapers.',\n",
       "    'Maryland--Baltimore.--fast--(OCoLC)fst01204292',\n",
       "    'United States.--fast--(OCoLC)fst01204155',\n",
       "    'Women--Suffrage--United States--Newspapers.',\n",
       "    'Women--Suffrage.--fast--(OCoLC)fst01176996'],\n",
       "   'city': ['Baltimore'],\n",
       "   'date': '19171013',\n",
       "   'title': 'Maryland suffrage news.',\n",
       "   'end_year': 1920,\n",
       "   'note': ['Archived issues are available in digital format from the Library of Congress Chronicling America online collection.',\n",
       "    'Description based on: Vol. 1, no. 34 (Nov. 23, 1912).'],\n",
       "   'state': ['Maryland'],\n",
       "   'section_label': '',\n",
       "   'type': 'page',\n",
       "   'place_of_publication': 'Baltimore, Md.',\n",
       "   'start_year': 1912,\n",
       "   'edition_label': '',\n",
       "   'publisher': 'Just Government League of Maryland',\n",
       "   'language': ['English'],\n",
       "   'alt_title': [],\n",
       "   'lccn': 'sn89060379',\n",
       "   'country': 'Maryland',\n",
       "   'ocr_eng': 'MARYLAND SUFFRAGE NEWS\\nVol. VI. No. 27 OCTOBER 13, 1917 Five Cents\\nEqual Suffrage is Now Established in 11 States\\nPresidential Suffrage is Now Established in 7 States\\nPrimary Suffrage is Now Established in 1 State\\nWOMAN SUFFRAGE IN NORTH AMERICA\\nGRAY— _ COMPLETE SUFFRAGE\\nPARTIAL SUFFRAGE Jh BLACK-\\nOver 8,500,000 Women Now Vote in the United States\\nFrom the States Where Women Vote Come Nearly\\nY 3 of Electoral College (172 of the 531 Electoral Votes)\\nOver of House (134 of the 435 Members of Congress)\\n% of Senate (38 of the 96 Senators)',\n",
       "   'batch': 'mdu_columbine_ver02',\n",
       "   'title_normal': 'maryland suffrage news.',\n",
       "   'url': 'https://chroniclingamerica.loc.gov/lccn/sn89060379/1917-10-13/ed-1/seq-1.json',\n",
       "   'place': ['Maryland--Baltimore'],\n",
       "   'page': ''},\n",
       "  {'sequence': 1,\n",
       "   'county': [None],\n",
       "   'edition': None,\n",
       "   'frequency': 'Weekly',\n",
       "   'id': '/lccn/sn89060379/1917-06-30/ed-1/seq-1/',\n",
       "   'subject': ['Baltimore (Md.)--Newspapers.',\n",
       "    'Maryland--Baltimore.--fast--(OCoLC)fst01204292',\n",
       "    'United States.--fast--(OCoLC)fst01204155',\n",
       "    'Women--Suffrage--United States--Newspapers.',\n",
       "    'Women--Suffrage.--fast--(OCoLC)fst01176996'],\n",
       "   'city': ['Baltimore'],\n",
       "   'date': '19170630',\n",
       "   'title': 'Maryland suffrage news.',\n",
       "   'end_year': 1920,\n",
       "   'note': ['Archived issues are available in digital format from the Library of Congress Chronicling America online collection.',\n",
       "    'Description based on: Vol. 1, no. 34 (Nov. 23, 1912).'],\n",
       "   'state': ['Maryland'],\n",
       "   'section_label': '',\n",
       "   'type': 'page',\n",
       "   'place_of_publication': 'Baltimore, Md.',\n",
       "   'start_year': 1912,\n",
       "   'edition_label': '',\n",
       "   'publisher': 'Just Government League of Maryland',\n",
       "   'language': ['English'],\n",
       "   'alt_title': [],\n",
       "   'lccn': 'sn89060379',\n",
       "   'country': 'Maryland',\n",
       "   'ocr_eng': 'MARYLAND SUFFRAGE NEWS\\nVol. VI. No. !3 JUNE 30, 1917 Five Cents\\nEqual Suffrage is Now Established in 11 States\\nPresidential Suffrage is Now Established in 7 States\\nPrimary Suffrage is Now Established in 1 State\\nWomen also have full suffrage, in Iceland, Denmark, Norway, Finland, New Zealand, Australia,\\nTasmania, Queensland, Victoria, New South Wales, Isle of Man, and partial suffrage in France,\\nEngland, Ireland, Scotland, Wales, Belgium, South Africa, Kingdom of Wurttemburg (Germany),\\nBaroda (India), Laibach (Austria), Belitze (Honduras) and Province of Voralbur (Austrian Tyrol).\\ni i I, HU in\\nWHITE STATES—FULL SUFFRAGE. Dark States—No Suffrage. Shaded States—Partial Suffrage.\\n♦Full Suffrage, Except for State Officials. complete Suffrage.\\nThe black States of this country now find their only parallel in\\nMexico, Central America, Newfoundland, and the uninhabited\\nNorthwest Territory, where there is no form of suffrage even\\nfor men.',\n",
       "   'batch': 'mdu_columbine_ver02',\n",
       "   'title_normal': 'maryland suffrage news.',\n",
       "   'url': 'https://chroniclingamerica.loc.gov/lccn/sn89060379/1917-06-30/ed-1/seq-1.json',\n",
       "   'place': ['Maryland--Baltimore'],\n",
       "   'page': ''},\n",
       "  {'sequence': 1,\n",
       "   'county': [None],\n",
       "   'edition': None,\n",
       "   'frequency': 'Weekly',\n",
       "   'id': '/lccn/sn89060379/1920-04-03/ed-1/seq-1/',\n",
       "   'subject': ['Baltimore (Md.)--Newspapers.',\n",
       "    'Maryland--Baltimore.--fast--(OCoLC)fst01204292',\n",
       "    'United States.--fast--(OCoLC)fst01204155',\n",
       "    'Women--Suffrage--United States--Newspapers.',\n",
       "    'Women--Suffrage.--fast--(OCoLC)fst01176996'],\n",
       "   'city': ['Baltimore'],\n",
       "   'date': '19200403',\n",
       "   'title': 'Maryland suffrage news.',\n",
       "   'end_year': 1920,\n",
       "   'note': ['Archived issues are available in digital format from the Library of Congress Chronicling America online collection.',\n",
       "    'Description based on: Vol. 1, no. 34 (Nov. 23, 1912).'],\n",
       "   'state': ['Maryland'],\n",
       "   'section_label': '',\n",
       "   'type': 'page',\n",
       "   'place_of_publication': 'Baltimore, Md.',\n",
       "   'start_year': 1912,\n",
       "   'edition_label': 'Our Eighth Anniversary Number',\n",
       "   'publisher': 'Just Government League of Maryland',\n",
       "   'language': ['English'],\n",
       "   'alt_title': [],\n",
       "   'lccn': 'sn89060379',\n",
       "   'country': 'Maryland',\n",
       "   'ocr_eng': \"MARYLAND SUFFRAGE NEWS\\nVol. IX. No. BALTIMORE, MD. y APRIL 3, 1920 Twenty-Five Cents\\nOUR EIGHTH ANNIVERSARY NUMBER\\nEntered as second-class matter at the Postoffice at Baltimore, Md., under the Act of March 3, 1879\\n-k- : . - - - - - -\\nWhite States—Full Suffrage. Shaded States—Partial Suffrage.\\nDark States—No Suffrage ?—Pending.\\n77/£ FEDERAL AMENDMENT RATIFICATION MAP\\n/ NORTH I _ rf -‘A Z ‘O'\\nIt °Hjt„ 7 l JnS DAKOTA > g A — S rvk'^xi\\n/ a ****%°* / V ’ 19 ‘ Nov. 25, ’l9 ( ( [\\nTHE SUFFRAGE MAP IN 1912\\n(When the Suffrage News was first published)\",\n",
       "   'batch': 'mdu_columbine_ver02',\n",
       "   'title_normal': 'maryland suffrage news.',\n",
       "   'url': 'https://chroniclingamerica.loc.gov/lccn/sn89060379/1920-04-03/ed-1/seq-1.json',\n",
       "   'place': ['Maryland--Baltimore'],\n",
       "   'page': ''},\n",
       "  {'sequence': 1,\n",
       "   'county': [None],\n",
       "   'edition': None,\n",
       "   'frequency': 'Weekly',\n",
       "   'id': '/lccn/sn89060379/1919-05-31/ed-1/seq-1/',\n",
       "   'subject': ['Baltimore (Md.)--Newspapers.',\n",
       "    'Maryland--Baltimore.--fast--(OCoLC)fst01204292',\n",
       "    'United States.--fast--(OCoLC)fst01204155',\n",
       "    'Women--Suffrage--United States--Newspapers.',\n",
       "    'Women--Suffrage.--fast--(OCoLC)fst01176996'],\n",
       "   'city': ['Baltimore'],\n",
       "   'date': '19190531',\n",
       "   'title': 'Maryland suffrage news.',\n",
       "   'end_year': 1920,\n",
       "   'note': ['Archived issues are available in digital format from the Library of Congress Chronicling America online collection.',\n",
       "    'Description based on: Vol. 1, no. 34 (Nov. 23, 1912).'],\n",
       "   'state': ['Maryland'],\n",
       "   'section_label': '',\n",
       "   'type': 'page',\n",
       "   'place_of_publication': 'Baltimore, Md.',\n",
       "   'start_year': 1912,\n",
       "   'edition_label': '',\n",
       "   'publisher': 'Just Government League of Maryland',\n",
       "   'language': ['English'],\n",
       "   'alt_title': [],\n",
       "   'lccn': 'sn89060379',\n",
       "   'country': 'Maryland',\n",
       "   'ocr_eng': 'MARYLAND SUFFRAGE NEWS\\nVol. VIII. No. 9-Weekly BALTIMORE, MD„ MAY 31, 1919 Eive Cents\\nOver Fifteen Hon Women Can Vote For The Next President\\nEntered as second-class matter at the Postoffice at Baltimore, Md., under the Act of March 3, 1879\\n* FULL SUFFRAGE\\nFULL SUFFRAGE iff * PRIMARY\\nPARTIAL SUFFRAGE BLACK—\\nWoman Suffrage States hold the balance of power in the Electoral College, and\\nas it takes only a bare majority of the Electoral College to nominate the President of\\nthe United States, it behooves the United States Senate to act quickly with regard to\\nthe Federal Suffrage Amendment.',\n",
       "   'batch': 'mdu_columbine_ver02',\n",
       "   'title_normal': 'maryland suffrage news.',\n",
       "   'url': 'https://chroniclingamerica.loc.gov/lccn/sn89060379/1919-05-31/ed-1/seq-1.json',\n",
       "   'place': ['Maryland--Baltimore'],\n",
       "   'page': ''},\n",
       "  {'sequence': 1,\n",
       "   'county': [None],\n",
       "   'edition': None,\n",
       "   'frequency': 'Weekly',\n",
       "   'id': '/lccn/sn89060379/1917-09-01/ed-1/seq-1/',\n",
       "   'subject': ['Baltimore (Md.)--Newspapers.',\n",
       "    'Maryland--Baltimore.--fast--(OCoLC)fst01204292',\n",
       "    'United States.--fast--(OCoLC)fst01204155',\n",
       "    'Women--Suffrage--United States--Newspapers.',\n",
       "    'Women--Suffrage.--fast--(OCoLC)fst01176996'],\n",
       "   'city': ['Baltimore'],\n",
       "   'date': '19170901',\n",
       "   'title': 'Maryland suffrage news.',\n",
       "   'end_year': 1920,\n",
       "   'note': ['Archived issues are available in digital format from the Library of Congress Chronicling America online collection.',\n",
       "    'Description based on: Vol. 1, no. 34 (Nov. 23, 1912).'],\n",
       "   'state': ['Maryland'],\n",
       "   'section_label': '',\n",
       "   'type': 'page',\n",
       "   'place_of_publication': 'Baltimore, Md.',\n",
       "   'start_year': 1912,\n",
       "   'edition_label': '',\n",
       "   'publisher': 'Just Government League of Maryland',\n",
       "   'language': ['English'],\n",
       "   'alt_title': [],\n",
       "   'lccn': 'sn89060379',\n",
       "   'country': 'Maryland',\n",
       "   'ocr_eng': 'MARYLAND SUFFRAGE NEWS\\nVol. VI. No. 22 SEPTEMBERJ, 1917 Five Cents\\nEqual Suffrage is Now Established in 11 States\\nPresidential Suffrage is Now Established in 7 States\\nPrimary Suffrage is Now Established in 1 State\\nIn all, 19 States have given women the right to vote for President.\\nGRAY- * _ COMPLETE SUFFRAGE\\nPARTIAL SUFFRAGE BLACK—\\nOver 8,500,000 Now Vote in the United States\\nFrom the States Where Women Vote Come Nearly\\n14 of Electoral College (172 of the 531 Electoral Votes)\\nOver of House (134 of the 435 Members of Congress)\\n% of Senate (38 of the 96 Senators)',\n",
       "   'batch': 'mdu_columbine_ver02',\n",
       "   'title_normal': 'maryland suffrage news.',\n",
       "   'url': 'https://chroniclingamerica.loc.gov/lccn/sn89060379/1917-09-01/ed-1/seq-1.json',\n",
       "   'place': ['Maryland--Baltimore'],\n",
       "   'page': ''},\n",
       "  {'sequence': 1,\n",
       "   'county': [None],\n",
       "   'edition': None,\n",
       "   'frequency': 'Weekly',\n",
       "   'id': '/lccn/sn89060379/1918-07-06/ed-1/seq-1/',\n",
       "   'subject': ['Baltimore (Md.)--Newspapers.',\n",
       "    'Maryland--Baltimore.--fast--(OCoLC)fst01204292',\n",
       "    'United States.--fast--(OCoLC)fst01204155',\n",
       "    'Women--Suffrage--United States--Newspapers.',\n",
       "    'Women--Suffrage.--fast--(OCoLC)fst01176996'],\n",
       "   'city': ['Baltimore'],\n",
       "   'date': '19180706',\n",
       "   'title': 'Maryland suffrage news.',\n",
       "   'end_year': 1920,\n",
       "   'note': ['Archived issues are available in digital format from the Library of Congress Chronicling America online collection.',\n",
       "    'Description based on: Vol. 1, no. 34 (Nov. 23, 1912).'],\n",
       "   'state': ['Maryland'],\n",
       "   'section_label': '',\n",
       "   'type': 'page',\n",
       "   'place_of_publication': 'Baltimore, Md.',\n",
       "   'start_year': 1912,\n",
       "   'edition_label': '',\n",
       "   'publisher': 'Just Government League of Maryland',\n",
       "   'language': ['English'],\n",
       "   'alt_title': [],\n",
       "   'lccn': 'sn89060379',\n",
       "   'country': 'Maryland',\n",
       "   'ocr_eng': 'MARYLAND SUFFRAGE NEWS\\nVol. VII. No. 14**Weekly BALTIMORE, MD., JULY 6, 1918 Five Cents\\nSUFFRAGE TERRITORY IN NORTH AMERICA\\nWHITE— WnSsfiL r li * FULL SUFFRAGE\\nFULL SUFFRAGE XIftTCW ™ E,.. P . f., s*t. Offici.l.\\n’ -k PRIMARY\\nGRAY ~ IWwWHa M/g SUFFRAGE\\nPARTIAL SUFFRAGE\\nDuring the past year, full Suffrage has been granted to the women of\\nNew York, while partial suffrage was conferred on the women\\nof Texas, Michigan, Arkansas, Nebraska, Rhode Island,\\nVermont and North Dakota.\\nSince the war began nine great States and Nations have enfran* ,\\nchised their women.\\nEntered a* second-class matter at the Postoffice at Baltimore, Md., under the Act of March 3, 1879',\n",
       "   'batch': 'mdu_columbine_ver02',\n",
       "   'title_normal': 'maryland suffrage news.',\n",
       "   'url': 'https://chroniclingamerica.loc.gov/lccn/sn89060379/1918-07-06/ed-1/seq-1.json',\n",
       "   'place': ['Maryland--Baltimore'],\n",
       "   'page': ''}]}"
      ]
     },
     "execution_count": 5,
     "metadata": {},
     "output_type": "execute_result"
    }
   ],
   "source": [
    "content"
   ]
  },
  {
   "cell_type": "markdown",
   "id": "3c34208f",
   "metadata": {
    "slideshow": {
     "slide_type": "slide"
    }
   },
   "source": [
    "```python\n",
    "{'totalItems': 666702,\n",
    " 'endIndex': 220,\n",
    " 'startIndex': 201,\n",
    " 'itemsPerPage': 20,\n",
    " ...}\n",
    "```"
   ]
  },
  {
   "cell_type": "code",
   "execution_count": 6,
   "id": "9fab1a4d",
   "metadata": {},
   "outputs": [
    {
     "data": {
      "text/plain": [
       "dict"
      ]
     },
     "execution_count": 6,
     "metadata": {},
     "output_type": "execute_result"
    }
   ],
   "source": [
    "type(content)"
   ]
  },
  {
   "cell_type": "code",
   "execution_count": 7,
   "id": "d6ddad8d",
   "metadata": {
    "slideshow": {
     "slide_type": "slide"
    }
   },
   "outputs": [
    {
     "data": {
      "text/plain": [
       "dict_keys(['totalItems', 'endIndex', 'startIndex', 'itemsPerPage', 'items'])"
      ]
     },
     "execution_count": 7,
     "metadata": {},
     "output_type": "execute_result"
    }
   ],
   "source": [
    "content.keys()"
   ]
  },
  {
   "cell_type": "code",
   "execution_count": 8,
   "id": "5a43017e",
   "metadata": {},
   "outputs": [
    {
     "data": {
      "text/plain": [
       "list"
      ]
     },
     "execution_count": 8,
     "metadata": {},
     "output_type": "execute_result"
    }
   ],
   "source": [
    "type(content['items'])"
   ]
  },
  {
   "cell_type": "code",
   "execution_count": 12,
   "id": "b9eb0ed1",
   "metadata": {
    "slideshow": {
     "slide_type": "slide"
    }
   },
   "outputs": [
    {
     "data": {
      "text/plain": [
       "{'sequence': 1,\n",
       " 'county': [None],\n",
       " 'edition': None,\n",
       " 'frequency': 'Weekly',\n",
       " 'id': '/lccn/sn89060379/1916-12-02/ed-1/seq-1/',\n",
       " 'subject': ['Baltimore (Md.)--Newspapers.',\n",
       "  'Maryland--Baltimore.--fast--(OCoLC)fst01204292',\n",
       "  'United States.--fast--(OCoLC)fst01204155',\n",
       "  'Women--Suffrage--United States--Newspapers.',\n",
       "  'Women--Suffrage.--fast--(OCoLC)fst01176996'],\n",
       " 'city': ['Baltimore'],\n",
       " 'date': '19161202',\n",
       " 'title': 'Maryland suffrage news.',\n",
       " 'end_year': 1920,\n",
       " 'note': ['Archived issues are available in digital format from the Library of Congress Chronicling America online collection.',\n",
       "  'Description based on: Vol. 1, no. 34 (Nov. 23, 1912).'],\n",
       " 'state': ['Maryland'],\n",
       " 'section_label': '',\n",
       " 'type': 'page',\n",
       " 'place_of_publication': 'Baltimore, Md.',\n",
       " 'start_year': 1912,\n",
       " 'edition_label': '',\n",
       " 'publisher': 'Just Government League of Maryland',\n",
       " 'language': ['English'],\n",
       " 'alt_title': [],\n",
       " 'lccn': 'sn89060379',\n",
       " 'country': 'Maryland',\n",
       " 'ocr_eng': 'MARYLAND SUFFRAGE NEWS\\nVol. V. No. 36 DECEMBER 2, 1916 Five Cents\\nTHE SUFFRAGE MAP OF NORTH AMERICA\\nWHITE— YIM Sincerest Flattery\\nFULL SUFFRAGE\\npartial Suffrage Suffrage States\\n* FULL SUFFRAGE y',\n",
       " 'batch': 'mdu_columbine_ver02',\n",
       " 'title_normal': 'maryland suffrage news.',\n",
       " 'url': 'https://chroniclingamerica.loc.gov/lccn/sn89060379/1916-12-02/ed-1/seq-1.json',\n",
       " 'place': ['Maryland--Baltimore'],\n",
       " 'page': ''}"
      ]
     },
     "execution_count": 12,
     "metadata": {},
     "output_type": "execute_result"
    }
   ],
   "source": [
    "first_item = content['items'][0]\n",
    "first_item"
   ]
  },
  {
   "cell_type": "code",
   "execution_count": null,
   "id": "18ce6e20",
   "metadata": {},
   "outputs": [],
   "source": [
    "first_item['ocr_eng']"
   ]
  },
  {
   "cell_type": "markdown",
   "id": "fbdb261c",
   "metadata": {
    "slideshow": {
     "slide_type": "slide"
    }
   },
   "source": [
    "✏️ **3. Exercise:** \n",
    "\n",
    "\n",
    "- Change the search term in `api_query` from 'sufrage' to something else\n",
    "- Collect the JSON response\n",
    "- Iterate of `content['items']`\n",
    "- for each content item collect the 'ocr_eng' in a list called `text`\n",
    "- Join the text into one string with `' '.join(text)`\n",
    "- Compute the word counts with `Counter` (use split)\n",
    "- Print the twenty most frequent words (use Counter)"
   ]
  },
  {
   "cell_type": "code",
   "execution_count": null,
   "id": "5b750bfa",
   "metadata": {
    "slideshow": {
     "slide_type": "slide"
    }
   },
   "outputs": [],
   "source": [
    "# write your answer here"
   ]
  },
  {
   "cell_type": "markdown",
   "id": "8d0823ee",
   "metadata": {
    "slideshow": {
     "slide_type": "slide"
    }
   },
   "source": [
    "# Fin."
   ]
  },
  {
   "cell_type": "markdown",
   "id": "fea760d2",
   "metadata": {},
   "source": [
    "## Solutions\n"
   ]
  },
  {
   "cell_type": "code",
   "execution_count": null,
   "id": "1f9bf4a7",
   "metadata": {},
   "outputs": [],
   "source": [
    "# 1. Exercise\n",
    "# Instantiate a dictionary of lived places:\n",
    "dictionary_of_lived_places = {\"Toronto\": \"Canada\",\n",
    "                              \"Berlin\": \"Germany\",\n",
    "                              \"Amsterdam\": \"Netherlands\",\n",
    "                              \"Boras\": \"Sweden\",\n",
    "                              \"Saint Petersburg\": \"Russia\",\n",
    "                              \"Antwerp\": \"Belgium\"\n",
    "                             }\n",
    "print(dictionary_of_lived_places)"
   ]
  },
  {
   "cell_type": "code",
   "execution_count": null,
   "id": "805e6b4c",
   "metadata": {},
   "outputs": [],
   "source": [
    "# 2. Exercise:\n",
    "wordcounts = {'Alice': 2,\n",
    " 'was': 2,\n",
    " 'beginning': 1,\n",
    " 'to': 2,\n",
    " 'get': 1,\n",
    " 'very': 1,\n",
    " 'tired': 1,\n",
    " 'of': 3,\n",
    " 'the': 3,\n",
    " 'bank': 1,\n",
    " 'and': 2,\n",
    " 'having': 1,\n",
    " 'nothing': 1,\n",
    " 'do': 1,\n",
    " 'once': 1,\n",
    " 'or': 3}\n",
    "sorted(wordcounts.items(),key=lambda x:[1], reverse=True)"
   ]
  },
  {
   "cell_type": "code",
   "execution_count": null,
   "id": "3e0e2851",
   "metadata": {},
   "outputs": [],
   "source": [
    "# 3. Exercise:\n",
    "\n",
    "# Change the search term in `api_query` from 'sufrage' to something else\n",
    "# Collect the JSON response\n",
    "# Save all the 'ocr_text' in a list called `text`\n",
    "# Join the text into one string with `' '.join(text)'\n",
    "# Compute the word counts with `Counter` (use split)\n",
    "# Print the twenty most frequent words (use Counter)\n",
    "\n",
    "import requests\n",
    "from collections import Counter\n",
    "api_query = \"https://chroniclingamerica.loc.gov/search/pages/results/?andtext=suffragette&format=json&page=1\"\n",
    "content = requests.get(api_query).json()\n",
    "text = []\n",
    "for item in content['items']:\n",
    "    text.append(item['ocr_eng'])\n",
    "    \n",
    "text = ' '.join(text)\n",
    "text_words = text.split()\n",
    "word_counts = Counter(text_words)\n",
    "word_counts.most_common(20)"
   ]
  },
  {
   "cell_type": "code",
   "execution_count": null,
   "id": "7ba91ad2",
   "metadata": {},
   "outputs": [],
   "source": []
  }
 ],
 "metadata": {
  "celltoolbar": "Slideshow",
  "kernelspec": {
   "display_name": "Python 3 (ipykernel)",
   "language": "python",
   "name": "python3"
  },
  "language_info": {
   "codemirror_mode": {
    "name": "ipython",
    "version": 3
   },
   "file_extension": ".py",
   "mimetype": "text/x-python",
   "name": "python",
   "nbconvert_exporter": "python",
   "pygments_lexer": "ipython3",
   "version": "3.9.16"
  }
 },
 "nbformat": 4,
 "nbformat_minor": 5
}
