{
 "cells": [
  {
   "cell_type": "markdown",
   "id": "7dd64a3f",
   "metadata": {
    "slideshow": {
     "slide_type": "slide"
    }
   },
   "source": [
    "# Data structures: dictionaries"
   ]
  },
  {
   "cell_type": "markdown",
   "id": "054fcc5c",
   "metadata": {
    "slideshow": {
     "slide_type": "slide"
    }
   },
   "source": [
    "Besides lists, we have **dictionaries** as another common Python data type. Again, at first these objects seem abstract (and understanding why they are useful takes some time) but please be assured, dictionaries are everywhere when writing a program in Python.\n",
    "\n",
    "\n",
    "A dictionary in Python is a mapping between keys and values:\n",
    "* **Key**: the index of the dictionary, it can be a string, a number, or a tuple. Keys are unique.\n",
    "* **Value**: the value of a given key, it can be of any type! Values don't need to be unique."
   ]
  },
  {
   "cell_type": "markdown",
   "id": "300a0b48",
   "metadata": {
    "slideshow": {
     "slide_type": "slide"
    }
   },
   "source": [
    "Why is it called dictionary? Similar to how a traditional dictionary is structured, it consists of a collection of entries (i.e. **keys**) with **values** (in a traditional dictionary, that's the definition).\n",
    "\n",
    "Example from a traditional dictionary:\n",
    "> _programming (n)_: The art of writing a program."
   ]
  },
  {
   "cell_type": "markdown",
   "id": "a5b6ce80",
   "metadata": {
    "slideshow": {
     "slide_type": "slide"
    }
   },
   "source": [
    "In python:\n",
    "* A dictionary is represented in curly brackets.\n",
    "* A colon (```:```) is used to separate the key from the value.\n",
    "* Different items in a dictionary are separated by commas (```,```)."
   ]
  },
  {
   "cell_type": "markdown",
   "id": "2bbd8204",
   "metadata": {
    "slideshow": {
     "slide_type": "slide"
    }
   },
   "source": [
    "For example:"
   ]
  },
  {
   "cell_type": "code",
   "execution_count": null,
   "id": "cedb2591",
   "metadata": {
    "slideshow": {
     "slide_type": "fragment"
    }
   },
   "outputs": [],
   "source": [
    "dictionary = {\"programming\" : \"The art of writing a program.\",\n",
    "              \"dictionary\" : \"Collection of words with their definitions.\"\n",
    "             }"
   ]
  },
  {
   "cell_type": "markdown",
   "id": "04b8e225",
   "metadata": {
    "slideshow": {
     "slide_type": "slide"
    }
   },
   "source": [
    "You can have as many elements as necessary in a dictionary:"
   ]
  },
  {
   "cell_type": "code",
   "execution_count": null,
   "id": "26e7550c",
   "metadata": {
    "slideshow": {
     "slide_type": "fragment"
    }
   },
   "outputs": [],
   "source": [
    "shipwrecks_by_year = {\n",
    "    \"Santa Maria\": 1492,\n",
    "    \"USS Indianapolis\" : 1945,\n",
    "    \"HMS Endeavour\": 1778,\n",
    "    \"Endurance\": 1915\n",
    "    }"
   ]
  },
  {
   "cell_type": "markdown",
   "id": "396a9244",
   "metadata": {
    "slideshow": {
     "slide_type": "slide"
    }
   },
   "source": [
    "Values of dictionaries can also be tuples (like here), or lists, or sets..."
   ]
  },
  {
   "cell_type": "code",
   "execution_count": null,
   "id": "bc0f6708",
   "metadata": {
    "slideshow": {
     "slide_type": "fragment"
    }
   },
   "outputs": [],
   "source": [
    "shipwrecks_by_location = {\n",
    "    \"Santa Maria\": (19.00, -71.00),\n",
    "    \"USS Indianapolis\" : (12.03, 134.80),\n",
    "    \"HMS Endeavour\": (41.60, -71.35),\n",
    "    \"Endurance\": (-69.08, -51.50)\n",
    "    }"
   ]
  },
  {
   "cell_type": "markdown",
   "id": "2dc76b6b",
   "metadata": {
    "slideshow": {
     "slide_type": "slide"
    }
   },
   "source": [
    "... and dictionary values can also be nested dictionaries!"
   ]
  },
  {
   "cell_type": "code",
   "execution_count": null,
   "id": "786cf105",
   "metadata": {
    "slideshow": {
     "slide_type": "fragment"
    }
   },
   "outputs": [],
   "source": [
    "# Here the outer keys are strings, values are dictionaries!\n",
    "# The keys of the inner dictionary ('Coordinates', 'Year')\n",
    "# are strings, their values are (1) a tuple of floats for\n",
    "# key \"Coordinates\", and (2) an integer for key \"Year\".\n",
    "shipwrecks = {\n",
    "    \"Santa Maria\": {\n",
    "        \"Coordinates\": (19.00, -71.00),\n",
    "        \"Year\": 1492\n",
    "    },\n",
    "    \"USS Indianapolis\": {\n",
    "        \"Coordinates\": (12.03, 134.80),\n",
    "        \"Year\": 1945\n",
    "    },\n",
    "    \"HMS Endeavour\": {\n",
    "        \"Coordinates\": (41.60, -71.35),\n",
    "        \"Year\": 1778\n",
    "    },\n",
    "    \"Endurance\": {\n",
    "        \"Coordinates\": (-69.08, -51.50),\n",
    "        \"Year\": 1915\n",
    "    }\n",
    "}"
   ]
  },
  {
   "cell_type": "markdown",
   "id": "3cbb2d35",
   "metadata": {
    "slideshow": {
     "slide_type": "slide"
    }
   },
   "source": [
    "## Counting words\n",
    "\n",
    "In the context of text mining, we often use dictionaries to keep track of **word counts**. For example the **bag-of-words** representation of the first sentence of Alice in Wonderland, could be represented as:\n",
    "\n"
   ]
  },
  {
   "cell_type": "code",
   "execution_count": 5,
   "id": "b9e8d5ba",
   "metadata": {
    "slideshow": {
     "slide_type": "fragment"
    }
   },
   "outputs": [],
   "source": [
    "wordcounts = {'Alice': 2,\n",
    " 'was': 2,\n",
    " 'beginning': 1,\n",
    " 'to': 2,\n",
    " 'get': 1,\n",
    " 'very': 1,\n",
    " 'tired': 1,\n",
    " 'of': 3,\n",
    " 'sitting': 1,\n",
    " 'by': 1,\n",
    " 'her': 2,\n",
    " 'sister': 2,\n",
    " 'on': 1,\n",
    " 'the': 3,\n",
    " 'bank': 1,\n",
    " 'and': 2,\n",
    " 'having': 1,\n",
    " 'nothing': 1,\n",
    " 'do': 1,\n",
    " 'once': 1,\n",
    " 'or': 3,\n",
    " 'twice': 1,\n",
    " 'she': 1,\n",
    " 'had': 2,\n",
    " 'peeped': 1,\n",
    " 'into': 1,\n",
    " 'book': 2,\n",
    " 'reading': 1,\n",
    " 'but': 1,\n",
    " 'it': 2,\n",
    " 'no': 1,\n",
    " 'pictures': 2,\n",
    " 'conversations': 2,\n",
    " 'in': 1,\n",
    " 'what': 1,\n",
    " 'is': 1,\n",
    " 'use': 1,\n",
    " 'a': 1,\n",
    " 'thought': 1,\n",
    " 'without': 1}\n"
   ]
  },
  {
   "cell_type": "markdown",
   "id": "816bc092",
   "metadata": {
    "slideshow": {
     "slide_type": "slide"
    }
   },
   "source": [
    "## Creating a dictionary\n",
    "\n",
    "Creating an **empty** dictionary (with no items):"
   ]
  },
  {
   "cell_type": "code",
   "execution_count": null,
   "id": "52b08678",
   "metadata": {
    "slideshow": {
     "slide_type": "fragment"
    }
   },
   "outputs": [],
   "source": [
    "new_dict = dict()"
   ]
  },
  {
   "cell_type": "markdown",
   "id": "e73e5b3b",
   "metadata": {
    "slideshow": {
     "slide_type": "slide"
    }
   },
   "source": [
    "Creating a dictionary with some items in it:"
   ]
  },
  {
   "cell_type": "code",
   "execution_count": null,
   "id": "1beed043",
   "metadata": {
    "slideshow": {
     "slide_type": "fragment"
    }
   },
   "outputs": [],
   "source": [
    "new_dict = {\n",
    "    \"item1\": 1,\n",
    "    \"item2\": 2,\n",
    "    \"item3\": 3\n",
    "    }"
   ]
  },
  {
   "cell_type": "markdown",
   "id": "93555d9f",
   "metadata": {
    "slideshow": {
     "slide_type": "slide"
    }
   },
   "source": [
    "✏️ **Exercise:**"
   ]
  },
  {
   "cell_type": "code",
   "execution_count": null,
   "id": "ec19476f",
   "metadata": {
    "slideshow": {
     "slide_type": "fragment"
    }
   },
   "outputs": [],
   "source": [
    "# Create a dictionary that maps all places you've lived in with the country they belong to, and print it.\n",
    "#\n",
    "# Type your code here:\n",
    "\n"
   ]
  },
  {
   "cell_type": "markdown",
   "id": "93f6c4ef",
   "metadata": {
    "slideshow": {
     "slide_type": "slide"
    }
   },
   "source": [
    "## Adding and updating items into a dictionary\n",
    "\n",
    "You add a key-value pair into a dictionary like this, where \"London\" in this case is the new key you want to add, and \"United Kingdom\" is its value:"
   ]
  },
  {
   "cell_type": "code",
   "execution_count": 6,
   "id": "12933bd5",
   "metadata": {
    "slideshow": {
     "slide_type": "fragment"
    }
   },
   "outputs": [
    {
     "name": "stdout",
     "output_type": "stream",
     "text": [
      "{'Ottawa': 'Canada', 'Ithaca': 'Greece', 'Moose Jaw': 'Canada'}\n"
     ]
    }
   ],
   "source": [
    "# Instantiate a dictionary of lived places:\n",
    "dictionary_of_lived_places = {\"Ottawa\": \"Canada\",\n",
    "                              \"Ithaca\": \"Greece\",\n",
    "                              \"Moose Jaw\": \"Canada\"}\n",
    "print(dictionary_of_lived_places)"
   ]
  },
  {
   "cell_type": "code",
   "execution_count": 7,
   "id": "3b0dc1aa",
   "metadata": {
    "slideshow": {
     "slide_type": "fragment"
    }
   },
   "outputs": [
    {
     "name": "stdout",
     "output_type": "stream",
     "text": [
      "{'Ottawa': 'Canada', 'Ithaca': 'Greece', 'Moose Jaw': 'Canada', 'London': 'United Kingdom'}\n"
     ]
    }
   ],
   "source": [
    "# Below, we're adding a new key-value pair in our dicionary_of_lived_places:\n",
    "dictionary_of_lived_places[\"London\"] = \"United Kingdom\"\n",
    "\n",
    "# Print the dictionary:\n",
    "print(dictionary_of_lived_places)"
   ]
  },
  {
   "cell_type": "markdown",
   "id": "2d69b5ed",
   "metadata": {
    "slideshow": {
     "slide_type": "slide"
    }
   },
   "source": [
    "You can update the value of a given key in the same way. For example, let's suppose for a moment that 'Moose Jaw' is not in Canada, but in Iceland:"
   ]
  },
  {
   "cell_type": "code",
   "execution_count": null,
   "id": "88d8264e",
   "metadata": {
    "slideshow": {
     "slide_type": "fragment"
    }
   },
   "outputs": [],
   "source": [
    "dictionary_of_lived_places[\"Moose Jaw\"] = \"Iceland\"\n",
    "print(dictionary_of_lived_places)"
   ]
  },
  {
   "cell_type": "markdown",
   "id": "db586891",
   "metadata": {
    "slideshow": {
     "slide_type": "slide"
    }
   },
   "source": [
    "## Accessing a value from a dictionary\n",
    "\n",
    "Dictionaries provide a very straightforward way to access the values of a given key.\n",
    "\n",
    "Suppose we want to get the coordinates of the 'Endurance', given the following dictionary:"
   ]
  },
  {
   "cell_type": "code",
   "execution_count": 8,
   "id": "00567be0",
   "metadata": {
    "slideshow": {
     "slide_type": "fragment"
    }
   },
   "outputs": [],
   "source": [
    "shipwrecks_by_location = {\n",
    "    \"Santa Maria\": (19.00, -71.00),\n",
    "    \"USS Indianapolis\" : (12.03, 134.80),\n",
    "    \"HMS Endeavour\": (41.60, -71.35),\n",
    "    \"Endurance\": (-69.08, -51.50)\n",
    "    }"
   ]
  },
  {
   "cell_type": "markdown",
   "id": "8782ec45",
   "metadata": {
    "slideshow": {
     "slide_type": "slide"
    }
   },
   "source": [
    "We just need to call the dictionary and the key in square brackets:"
   ]
  },
  {
   "cell_type": "code",
   "execution_count": null,
   "id": "94d306e2",
   "metadata": {
    "slideshow": {
     "slide_type": "fragment"
    }
   },
   "outputs": [],
   "source": [
    "print(shipwrecks_by_location[\"Endurance\"])"
   ]
  },
  {
   "cell_type": "markdown",
   "id": "eb5c361e",
   "metadata": {
    "slideshow": {
     "slide_type": "slide"
    }
   },
   "source": [
    "What happens if you try to access a key that does not exist in the dictionary?"
   ]
  },
  {
   "cell_type": "code",
   "execution_count": null,
   "id": "4443e741",
   "metadata": {
    "slideshow": {
     "slide_type": "fragment"
    }
   },
   "outputs": [],
   "source": [
    "print(shipwrecks_by_location[\"Titanic\"])"
   ]
  },
  {
   "cell_type": "markdown",
   "id": "9ec2c13f",
   "metadata": {
    "slideshow": {
     "slide_type": "slide"
    }
   },
   "source": [
    "To avoid annoying error messages, you can always check beforehand if the key exists:"
   ]
  },
  {
   "cell_type": "code",
   "execution_count": 9,
   "id": "5ed4a946",
   "metadata": {
    "slideshow": {
     "slide_type": "fragment"
    }
   },
   "outputs": [
    {
     "name": "stdout",
     "output_type": "stream",
     "text": [
      "Warning: Titanic is not in the dictionary.\n"
     ]
    }
   ],
   "source": [
    "query = \"Titanic\"\n",
    "if query in shipwrecks_by_location:\n",
    "    print(shipwrecks_by_location[query])\n",
    "else:\n",
    "    print(\"Warning: \" + query + \" is not in the dictionary.\")"
   ]
  },
  {
   "cell_type": "markdown",
   "id": "e1a856b4",
   "metadata": {
    "slideshow": {
     "slide_type": "slide"
    }
   },
   "source": [
    "Alternatively, you also can use the method ```.get()```: the first element of the method is the key you want to look for in the dictionary, and the second element the message that it is returned if the key has not been found:"
   ]
  },
  {
   "cell_type": "code",
   "execution_count": null,
   "id": "2abb25c4",
   "metadata": {
    "slideshow": {
     "slide_type": "fragment"
    }
   },
   "outputs": [],
   "source": [
    "query = \"Endurance\"\n",
    "print(shipwrecks_by_location.get(query, \"Key not in dictionary!\"))"
   ]
  },
  {
   "cell_type": "code",
   "execution_count": null,
   "id": "1c848602",
   "metadata": {
    "slideshow": {
     "slide_type": "fragment"
    }
   },
   "outputs": [],
   "source": [
    "query = \"Titanic\"\n",
    "print(shipwrecks_by_location.get(query, \"Key not in dictionary!\"))"
   ]
  },
  {
   "cell_type": "markdown",
   "id": "11ec61d1",
   "metadata": {
    "slideshow": {
     "slide_type": "slide"
    }
   },
   "source": [
    "## Other methods to retrieve data from a dictionary:\n",
    "\n",
    "Get all the **keys** in the dictionary:"
   ]
  },
  {
   "cell_type": "code",
   "execution_count": null,
   "id": "9bf3ff04",
   "metadata": {
    "slideshow": {
     "slide_type": "fragment"
    }
   },
   "outputs": [],
   "source": [
    "print(dictionary_of_lived_places.keys())"
   ]
  },
  {
   "cell_type": "markdown",
   "id": "caac9a3e",
   "metadata": {
    "slideshow": {
     "slide_type": "slide"
    }
   },
   "source": [
    "Get all the **values** in the dictionary (in a list format):"
   ]
  },
  {
   "cell_type": "code",
   "execution_count": null,
   "id": "5b88ab5e",
   "metadata": {
    "slideshow": {
     "slide_type": "fragment"
    }
   },
   "outputs": [],
   "source": [
    "print(dictionary_of_lived_places.values())"
   ]
  },
  {
   "cell_type": "markdown",
   "id": "5d44bafd",
   "metadata": {
    "slideshow": {
     "slide_type": "slide"
    }
   },
   "source": [
    "Get the **key-value pairs** in the dictionary (in a list of tuples format):"
   ]
  },
  {
   "cell_type": "code",
   "execution_count": null,
   "id": "8b60d509",
   "metadata": {
    "slideshow": {
     "slide_type": "fragment"
    }
   },
   "outputs": [],
   "source": [
    "print(dictionary_of_lived_places.items())"
   ]
  },
  {
   "cell_type": "markdown",
   "id": "4880c372",
   "metadata": {
    "slideshow": {
     "slide_type": "slide"
    }
   },
   "source": [
    "## Sorting a dictionary\n",
    "\n",
    "Dictionaries are unordered and can't be sorted, but we can sort a representation of a dictionary.\n",
    "\n",
    "We often use sorting operation when working with word counts (or any other type of counts, really). Let's revisit the (reduced) word counts taken from the first sentence of Alice in Wonderland.\n",
    "\n",
    "Sort **by key** in ascending order:"
   ]
  },
  {
   "cell_type": "code",
   "execution_count": 13,
   "id": "12927518",
   "metadata": {},
   "outputs": [],
   "source": [
    "wordcounts = {'Alice': 2,\n",
    " 'was': 2,\n",
    " 'beginning': 1,\n",
    " 'to': 2,\n",
    " 'get': 1,\n",
    " 'very': 1,\n",
    " 'tired': 1,\n",
    " 'of': 3,\n",
    " 'the': 3,\n",
    " 'bank': 1,\n",
    " 'and': 2,\n",
    " 'having': 1,\n",
    " 'nothing': 1,\n",
    " 'do': 1,\n",
    " 'once': 1,\n",
    " 'or': 3}\n"
   ]
  },
  {
   "cell_type": "code",
   "execution_count": 14,
   "id": "55e84945",
   "metadata": {
    "slideshow": {
     "slide_type": "fragment"
    }
   },
   "outputs": [
    {
     "data": {
      "text/plain": [
       "[('Alice', 2),\n",
       " ('and', 2),\n",
       " ('bank', 1),\n",
       " ('beginning', 1),\n",
       " ('do', 1),\n",
       " ('get', 1),\n",
       " ('having', 1),\n",
       " ('nothing', 1),\n",
       " ('of', 3),\n",
       " ('once', 1),\n",
       " ('or', 3),\n",
       " ('the', 3),\n",
       " ('tired', 1),\n",
       " ('to', 2),\n",
       " ('very', 1),\n",
       " ('was', 2)]"
      ]
     },
     "execution_count": 14,
     "metadata": {},
     "output_type": "execute_result"
    }
   ],
   "source": [
    "sorted(wordcounts.items())"
   ]
  },
  {
   "cell_type": "markdown",
   "id": "abf75aca",
   "metadata": {
    "slideshow": {
     "slide_type": "slide"
    }
   },
   "source": [
    "Sort **by key** in descending order:"
   ]
  },
  {
   "cell_type": "code",
   "execution_count": 15,
   "id": "6667df78",
   "metadata": {
    "slideshow": {
     "slide_type": "fragment"
    }
   },
   "outputs": [
    {
     "data": {
      "text/plain": [
       "[('was', 2),\n",
       " ('very', 1),\n",
       " ('to', 2),\n",
       " ('tired', 1),\n",
       " ('the', 3),\n",
       " ('or', 3),\n",
       " ('once', 1),\n",
       " ('of', 3),\n",
       " ('nothing', 1),\n",
       " ('having', 1),\n",
       " ('get', 1),\n",
       " ('do', 1),\n",
       " ('beginning', 1),\n",
       " ('bank', 1),\n",
       " ('and', 2),\n",
       " ('Alice', 2)]"
      ]
     },
     "execution_count": 15,
     "metadata": {},
     "output_type": "execute_result"
    }
   ],
   "source": [
    "sorted(wordcounts.items(), reverse=True)"
   ]
  },
  {
   "cell_type": "markdown",
   "id": "0af2fc96",
   "metadata": {
    "slideshow": {
     "slide_type": "slide"
    }
   },
   "source": [
    "Dictionaries are unordered and can't be sorted, but we can sort a representation of a dictionary.\n",
    "\n",
    "Sort **by value** in ascending order:"
   ]
  },
  {
   "cell_type": "code",
   "execution_count": 16,
   "id": "0bc2dde4",
   "metadata": {
    "slideshow": {
     "slide_type": "fragment"
    }
   },
   "outputs": [
    {
     "data": {
      "text/plain": [
       "[('beginning', 1),\n",
       " ('get', 1),\n",
       " ('very', 1),\n",
       " ('tired', 1),\n",
       " ('bank', 1),\n",
       " ('having', 1),\n",
       " ('nothing', 1),\n",
       " ('do', 1),\n",
       " ('once', 1),\n",
       " ('Alice', 2),\n",
       " ('was', 2),\n",
       " ('to', 2),\n",
       " ('and', 2),\n",
       " ('of', 3),\n",
       " ('the', 3),\n",
       " ('or', 3)]"
      ]
     },
     "execution_count": 16,
     "metadata": {},
     "output_type": "execute_result"
    }
   ],
   "source": [
    "sorted(wordcounts.items(),key=lambda x:x[1])"
   ]
  },
  {
   "cell_type": "markdown",
   "id": "6559be3c",
   "metadata": {
    "slideshow": {
     "slide_type": "slide"
    }
   },
   "source": [
    "✏️ **Exercise:** \n",
    "\n",
    "Sort word frequencies from high to low (i.e. from most common to least common)."
   ]
  },
  {
   "cell_type": "code",
   "execution_count": null,
   "id": "016947c3",
   "metadata": {
    "slideshow": {
     "slide_type": "fragment"
    }
   },
   "outputs": [],
   "source": [
    "# Can you guess how to sort by value in descending order?\n",
    "#\n",
    "# Type your code here:\n",
    "\n"
   ]
  },
  {
   "cell_type": "markdown",
   "id": "a48fdf4e",
   "metadata": {
    "slideshow": {
     "slide_type": "slide"
    }
   },
   "source": [
    "## Iterate over a dictionary\n",
    "\n",
    "We can iterate over a dictionary in a similar way to how we interate over a list. By default, iteration is done over the keys of the dictionary. See the example:"
   ]
  },
  {
   "cell_type": "code",
   "execution_count": null,
   "id": "af52a516",
   "metadata": {
    "slideshow": {
     "slide_type": "fragment"
    }
   },
   "outputs": [],
   "source": [
    "dictionary_of_lived_places = {\n",
    "    \"Moose Jaw\": \"Canada\",\n",
    "    \"Saskatoon\": \"Canada\",\n",
    "    \"Ithaca\": \"Greece\"\n",
    "}\n",
    "\n",
    "for k in dictionary_of_lived_places:\n",
    "    print(k)"
   ]
  },
  {
   "cell_type": "markdown",
   "id": "9979f212",
   "metadata": {
    "slideshow": {
     "slide_type": "slide"
    }
   },
   "source": [
    "We can also iterate over the dictionary key-value pairs (`k, v`) with the `.items()` method."
   ]
  },
  {
   "cell_type": "code",
   "execution_count": null,
   "id": "74b431bb",
   "metadata": {
    "slideshow": {
     "slide_type": "fragment"
    }
   },
   "outputs": [],
   "source": [
    "dictionary_of_lived_places = {\n",
    "    \"Moose Jaw\": \"Canada\",\n",
    "    \"Saskatoon\": \"Canada\",\n",
    "    \"Ithaca\": \"Greece\"\n",
    "}\n",
    "\n",
    "for k, v in dictionary_of_lived_places.items():\n",
    "    print(k, v)"
   ]
  },
  {
   "cell_type": "markdown",
   "id": "72a04d1d",
   "metadata": {
    "slideshow": {
     "slide_type": "slide"
    }
   },
   "source": [
    "Remember that we can access the value of a key like this: ```dictionary[key]```. The cell below achieves teh same as the cell above:"
   ]
  },
  {
   "cell_type": "code",
   "execution_count": null,
   "id": "d7391c4c",
   "metadata": {
    "slideshow": {
     "slide_type": "fragment"
    }
   },
   "outputs": [],
   "source": [
    "for k in dictionary_of_lived_places:\n",
    "    print(k, dictionary_of_lived_places[k])"
   ]
  },
  {
   "cell_type": "markdown",
   "id": "8882955e",
   "metadata": {
    "slideshow": {
     "slide_type": "slide"
    }
   },
   "source": [
    "## Use case: counting words\n",
    "\n",
    "Dictionaries are very helpful to count and keep track of how often words appear in a document or a collection. Look at the example below:"
   ]
  },
  {
   "cell_type": "code",
   "execution_count": 17,
   "id": "85dc7e5d",
   "metadata": {
    "slideshow": {
     "slide_type": "fragment"
    }
   },
   "outputs": [
    {
     "name": "stdout",
     "output_type": "stream",
     "text": [
      "{'This': 1, 'is': 1, 'the': 2, 'second': 1, 'day': 1, 'of': 1, 'summer': 1, 'school,': 1, \"we're\": 1, 'covering': 1, 'data': 1, 'structures': 1, 'in': 1, 'Python.': 1}\n"
     ]
    }
   ],
   "source": [
    "text = \"This is the second day of the summer school, we're covering data structures in Python.\"\n",
    "\n",
    "word_list = text.split(\" \")\n",
    "dict_wordcounts = dict()\n",
    "for word in word_list:\n",
    "    if word in dict_wordcounts:\n",
    "        dict_wordcounts[word] += 1\n",
    "    else:\n",
    "        dict_wordcounts[word] = 1\n",
    "\n",
    "print(dict_wordcounts)"
   ]
  },
  {
   "cell_type": "markdown",
   "id": "111dc98c",
   "metadata": {
    "slideshow": {
     "slide_type": "slide"
    }
   },
   "source": [
    "Do you understand what is happening at each line of code?"
   ]
  },
  {
   "cell_type": "markdown",
   "id": "36a7fc6f",
   "metadata": {
    "slideshow": {
     "slide_type": "slide"
    }
   },
   "source": [
    "Now with comments:"
   ]
  },
  {
   "cell_type": "code",
   "execution_count": null,
   "id": "e9ae8a7e",
   "metadata": {
    "slideshow": {
     "slide_type": "fragment"
    }
   },
   "outputs": [],
   "source": [
    "text = \"This is the second day of the summer school, we're covering data structures in Python.\"\n",
    "word_list = text.split(\" \") # First of all, split the text by white space.\n",
    "dict_wordcounts = dict() # We start an empty dictionary, which we will be filling with data as we read it.\n",
    "for word in word_list: # Read and iterate over the data, in this case a list of words. \n",
    "    if word in dict_wordcounts: # Check if the word exists as a key in the dictionary\n",
    "        dict_wordcounts[word] += 1 # Update the value (i.e. count) of the key (i.e. word) by adding 1 to it.\n",
    "    else: # If the word does not exist as a key in the dictionary: \n",
    "        dict_wordcounts[word] = 1 # Add the key to the dictionary, and give it the value 1.\n",
    "\n",
    "print(dict_wordcounts)"
   ]
  },
  {
   "cell_type": "markdown",
   "id": "97177302",
   "metadata": {
    "slideshow": {
     "slide_type": "slide"
    }
   },
   "source": [
    "## Using Counter\n",
    "\n",
    "In practice, Python provides more convenient tools for computing word counts, a `Counter`.\n",
    "\n",
    "The `Counter` takes a list of tokens (or other items) as input and computes how often each value appears.\n",
    "\n",
    "It is not loaded automatically, so we need to add an `import` statement first."
   ]
  },
  {
   "cell_type": "code",
   "execution_count": 19,
   "id": "2c1b72e9",
   "metadata": {
    "slideshow": {
     "slide_type": "slide"
    }
   },
   "outputs": [
    {
     "name": "stdout",
     "output_type": "stream",
     "text": [
      "['Alice', 'was', 'beginning', 'to', 'get', 'very', 'tired', 'of', 'sitting', 'by', 'her', 'sister', 'on', 'the', 'bank', 'and', 'of', 'having', 'nothing', 'to', 'do']\n"
     ]
    }
   ],
   "source": [
    "from collections import Counter\n",
    "sentence = \"Alice was beginning to get very tired of sitting by her sister on the bank and of having nothing to do\".split()\n",
    "print(sentence)"
   ]
  },
  {
   "cell_type": "markdown",
   "id": "65565139",
   "metadata": {
    "slideshow": {
     "slide_type": "slide"
    }
   },
   "source": [
    "Convert the list of tokens to Counter object with word counts."
   ]
  },
  {
   "cell_type": "code",
   "execution_count": 20,
   "id": "7ae1c222",
   "metadata": {
    "slideshow": {
     "slide_type": "fragment"
    }
   },
   "outputs": [
    {
     "data": {
      "text/plain": [
       "Counter({'Alice': 1,\n",
       "         'was': 1,\n",
       "         'beginning': 1,\n",
       "         'to': 2,\n",
       "         'get': 1,\n",
       "         'very': 1,\n",
       "         'tired': 1,\n",
       "         'of': 2,\n",
       "         'sitting': 1,\n",
       "         'by': 1,\n",
       "         'her': 1,\n",
       "         'sister': 1,\n",
       "         'on': 1,\n",
       "         'the': 1,\n",
       "         'bank': 1,\n",
       "         'and': 1,\n",
       "         'having': 1,\n",
       "         'nothing': 1,\n",
       "         'do': 1})"
      ]
     },
     "execution_count": 20,
     "metadata": {},
     "output_type": "execute_result"
    }
   ],
   "source": [
    "word_counts = Counter(sentence)\n",
    "word_counts"
   ]
  },
  {
   "cell_type": "markdown",
   "id": "3c48513b",
   "metadata": {
    "slideshow": {
     "slide_type": "slide"
    }
   },
   "source": [
    "The Counter is an adaptation of the dictionary and behaves similarly in many contexts. For example, accessing values by key."
   ]
  },
  {
   "cell_type": "code",
   "execution_count": 21,
   "id": "f86921fb",
   "metadata": {
    "slideshow": {
     "slide_type": "fragment"
    }
   },
   "outputs": [
    {
     "data": {
      "text/plain": [
       "2"
      ]
     },
     "execution_count": 21,
     "metadata": {},
     "output_type": "execute_result"
    }
   ],
   "source": [
    "word_counts['of']"
   ]
  },
  {
   "cell_type": "markdown",
   "id": "7d7f1c31",
   "metadata": {
    "slideshow": {
     "slide_type": "slide"
    }
   },
   "source": [
    "Or reassigning values by key."
   ]
  },
  {
   "cell_type": "code",
   "execution_count": 22,
   "id": "208bef67",
   "metadata": {
    "slideshow": {
     "slide_type": "fragment"
    }
   },
   "outputs": [
    {
     "data": {
      "text/plain": [
       "3"
      ]
     },
     "execution_count": 22,
     "metadata": {},
     "output_type": "execute_result"
    }
   ],
   "source": [
    "word_counts['of'] = 3\n",
    "word_counts['of']"
   ]
  },
  {
   "cell_type": "markdown",
   "id": "42afdb47",
   "metadata": {
    "slideshow": {
     "slide_type": "slide"
    }
   },
   "source": [
    "Sorting is much more convenient with the `.most_common()` method. You print the three most common words using the statemnt below."
   ]
  },
  {
   "cell_type": "code",
   "execution_count": 24,
   "id": "1582a243",
   "metadata": {
    "slideshow": {
     "slide_type": "fragment"
    }
   },
   "outputs": [
    {
     "data": {
      "text/plain": [
       "[('of', 3), ('to', 2), ('Alice', 1)]"
      ]
     },
     "execution_count": 24,
     "metadata": {},
     "output_type": "execute_result"
    }
   ],
   "source": [
    "word_counts.most_common(3)"
   ]
  },
  {
   "cell_type": "markdown",
   "id": "3770798c",
   "metadata": {
    "slideshow": {
     "slide_type": "slide"
    }
   },
   "source": [
    "# APIs and JSON."
   ]
  },
  {
   "cell_type": "markdown",
   "id": "4de67a48",
   "metadata": {
    "slideshow": {
     "slide_type": "slide"
    }
   },
   "source": [
    "## Application Programming Interfaces\n",
    "\n",
    "\n",
    "- API access means programmatic access to (online) content.\n",
    "- Another common source of information besides webscraping."
   ]
  },
  {
   "cell_type": "markdown",
   "id": "31ea6950",
   "metadata": {
    "slideshow": {
     "slide_type": "slide"
    }
   },
   "source": [
    "- Many institutions/data providers allow API access to their content. \n",
    "- Details are different, but they generally work in similar ways."
   ]
  },
  {
   "cell_type": "markdown",
   "id": "5ff237d0",
   "metadata": {
    "slideshow": {
     "slide_type": "slide"
    }
   },
   "source": [
    "We look at Chronicling America [API interface](https://chroniclingamerica.loc.gov/about/api/)"
   ]
  },
  {
   "cell_type": "markdown",
   "id": "01c2334c",
   "metadata": {
    "slideshow": {
     "slide_type": "slide"
    }
   },
   "source": [
    "## Chronicling America API\n",
    "\n",
    "We define a call to the API by formulating a URL.\n",
    "\n",
    "```python\n",
    "url=\"https://chroniclingamerica.loc.gov/search/pages/results/?andtext=suffrage&format=json\"\n",
    "```\n",
    "- First part defines protocol and server: `https://chroniclingamerica.loc.gov/`\n",
    "- `search`: type of request\n",
    "- `pages`: level of search, can also be '`title`'\n",
    "- `results/?` is followed by search parameters\n",
    "  - andtext: the search query\n",
    "  - format: 'html' (default), or 'json', or 'atom' (optional)\n",
    "  - page: for paging results (optional)"
   ]
  },
  {
   "cell_type": "code",
   "execution_count": null,
   "id": "59bf1cec",
   "metadata": {
    "slideshow": {
     "slide_type": "slide"
    }
   },
   "outputs": [],
   "source": [
    "import requests"
   ]
  },
  {
   "cell_type": "code",
   "execution_count": null,
   "id": "be53b510",
   "metadata": {
    "slideshow": {
     "slide_type": "fragment"
    }
   },
   "outputs": [],
   "source": [
    "api_query = \"https://chroniclingamerica.loc.gov/search/pages/results/?andtext=suffrage&format=json&page=11\""
   ]
  },
  {
   "cell_type": "code",
   "execution_count": null,
   "id": "40b99cba",
   "metadata": {
    "slideshow": {
     "slide_type": "fragment"
    }
   },
   "outputs": [],
   "source": [
    "content = requests.get(api_query).json()"
   ]
  },
  {
   "cell_type": "markdown",
   "id": "90d4bc3f",
   "metadata": {
    "slideshow": {
     "slide_type": "slide"
    }
   },
   "source": [
    "## Navigating JSON\n",
    "\n",
    "- JavaScript Object Notation"
   ]
  },
  {
   "cell_type": "code",
   "execution_count": null,
   "id": "2297b1fa",
   "metadata": {
    "slideshow": {
     "slide_type": "slide"
    }
   },
   "outputs": [],
   "source": [
    "type(content)"
   ]
  },
  {
   "cell_type": "code",
   "execution_count": null,
   "id": "2f6a71ba",
   "metadata": {
    "slideshow": {
     "slide_type": "slide"
    }
   },
   "outputs": [],
   "source": [
    "content"
   ]
  },
  {
   "cell_type": "markdown",
   "id": "3c34208f",
   "metadata": {
    "slideshow": {
     "slide_type": "slide"
    }
   },
   "source": [
    "```python\n",
    "{'totalItems': 666702,\n",
    " 'endIndex': 220,\n",
    " 'startIndex': 201,\n",
    " 'itemsPerPage': 20,\n",
    " ...}\n",
    "```"
   ]
  },
  {
   "cell_type": "code",
   "execution_count": null,
   "id": "d6ddad8d",
   "metadata": {
    "slideshow": {
     "slide_type": "slide"
    }
   },
   "outputs": [],
   "source": [
    "content.keys()"
   ]
  },
  {
   "cell_type": "code",
   "execution_count": null,
   "id": "b9eb0ed1",
   "metadata": {
    "slideshow": {
     "slide_type": "slide"
    }
   },
   "outputs": [],
   "source": [
    "content['items'][0]"
   ]
  },
  {
   "cell_type": "markdown",
   "id": "8d0823ee",
   "metadata": {
    "slideshow": {
     "slide_type": "slide"
    }
   },
   "source": [
    "# Fin."
   ]
  }
 ],
 "metadata": {
  "celltoolbar": "Slideshow",
  "kernelspec": {
   "display_name": "Python 3 (ipykernel)",
   "language": "python",
   "name": "python3"
  },
  "language_info": {
   "codemirror_mode": {
    "name": "ipython",
    "version": 3
   },
   "file_extension": ".py",
   "mimetype": "text/x-python",
   "name": "python",
   "nbconvert_exporter": "python",
   "pygments_lexer": "ipython3",
   "version": "3.9.16"
  }
 },
 "nbformat": 4,
 "nbformat_minor": 5
}
