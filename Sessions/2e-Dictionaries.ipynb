{
 "cells": [
  {
   "cell_type": "markdown",
   "id": "c2eb0cf2",
   "metadata": {
    "slideshow": {
     "slide_type": "slide"
    }
   },
   "source": [
    "# Data structures: dictionaries"
   ]
  },
  {
   "cell_type": "markdown",
   "id": "223c2927",
   "metadata": {
    "slideshow": {
     "slide_type": "slide"
    }
   },
   "source": [
    "A dictionary is a collection of elements that can be accessed by their indices.\n",
    "\n",
    "A dictionary in Python is a mapping between keys and values:\n",
    "* **Key**: the index of the dictionary, it can be a string, a number, or a tuple. Keys are unique.\n",
    "* **Value**: the value of a given key, it can be of any type! Values don't need to be unique."
   ]
  },
  {
   "cell_type": "markdown",
   "id": "79cdac6d",
   "metadata": {
    "slideshow": {
     "slide_type": "slide"
    }
   },
   "source": [
    "Why is it called dictionary? Similar to how a traditional dictionary is structured, it consists of a collection of entries (i.e. **keys**) with **values** (in a traditional dictionary, that's the definition).\n",
    "\n",
    "Example from a traditional dictionary:\n",
    "> _programming (n)_: The art of writing a program."
   ]
  },
  {
   "cell_type": "markdown",
   "id": "be79d285",
   "metadata": {
    "slideshow": {
     "slide_type": "slide"
    }
   },
   "source": [
    "In python:\n",
    "* A dictionary is represented in curly brackets.\n",
    "* A colon (```:```) is used to separate the key from the value.\n",
    "* Different items in a dictionary are separated by commas (```,```)."
   ]
  },
  {
   "cell_type": "markdown",
   "id": "c84ae75d",
   "metadata": {
    "slideshow": {
     "slide_type": "slide"
    }
   },
   "source": [
    "For example:"
   ]
  },
  {
   "cell_type": "code",
   "execution_count": null,
   "id": "0cab1ed5",
   "metadata": {
    "slideshow": {
     "slide_type": "fragment"
    }
   },
   "outputs": [],
   "source": [
    "dictionary = {\"programming\" : \"The art of writing a program.\",\n",
    "              \"dictionary\" : \"Collection of words with their definitions.\"\n",
    "             }"
   ]
  },
  {
   "cell_type": "markdown",
   "id": "356dfebe",
   "metadata": {
    "slideshow": {
     "slide_type": "slide"
    }
   },
   "source": [
    "You can have as many elements as necessary in a dictionary:"
   ]
  },
  {
   "cell_type": "code",
   "execution_count": null,
   "id": "3c5abe9b",
   "metadata": {
    "slideshow": {
     "slide_type": "fragment"
    }
   },
   "outputs": [],
   "source": [
    "shipwrecks_by_year = {\n",
    "    \"Santa Maria\": 1492,\n",
    "    \"USS Indianapolis\" : 1945,\n",
    "    \"HMS Endeavour\": 1778,\n",
    "    \"Endurance\": 1915\n",
    "    }"
   ]
  },
  {
   "cell_type": "markdown",
   "id": "79b414a9",
   "metadata": {
    "slideshow": {
     "slide_type": "slide"
    }
   },
   "source": [
    "Values of dictionaries can also be tuples (like here), or lists, or sets..."
   ]
  },
  {
   "cell_type": "code",
   "execution_count": null,
   "id": "dd38650f",
   "metadata": {
    "slideshow": {
     "slide_type": "fragment"
    }
   },
   "outputs": [],
   "source": [
    "shipwrecks_by_location = {\n",
    "    \"Santa Maria\": (19.00, -71.00),\n",
    "    \"USS Indianapolis\" : (12.03, 134.80),\n",
    "    \"HMS Endeavour\": (41.60, -71.35),\n",
    "    \"Endurance\": (-69.08, -51.50)\n",
    "    }"
   ]
  },
  {
   "cell_type": "markdown",
   "id": "199e7f16",
   "metadata": {
    "slideshow": {
     "slide_type": "slide"
    }
   },
   "source": [
    "... and dictionary values can also be nested dictionaries!"
   ]
  },
  {
   "cell_type": "code",
   "execution_count": null,
   "id": "4b6d9e0d",
   "metadata": {
    "slideshow": {
     "slide_type": "fragment"
    }
   },
   "outputs": [],
   "source": [
    "# Here the outer keys are strings, values are dictionaries!\n",
    "# The keys of the inner dictionary ('Coordinates', 'Year')\n",
    "# are strings, their values are (1) a tuple of floats for\n",
    "# key \"Coordinates\", and (2) an integer for key \"Year\".\n",
    "shipwrecks = {\n",
    "    \"Santa Maria\": {\n",
    "        \"Coordinates\": (19.00, -71.00),\n",
    "        \"Year\": 1492\n",
    "    },\n",
    "    \"USS Indianapolis\": {\n",
    "        \"Coordinates\": (12.03, 134.80),\n",
    "        \"Year\": 1945\n",
    "    },\n",
    "    \"HMS Endeavour\": {\n",
    "        \"Coordinates\": (41.60, -71.35),\n",
    "        \"Year\": 1778\n",
    "    },\n",
    "    \"Endurance\": {\n",
    "        \"Coordinates\": (-69.08, -51.50),\n",
    "        \"Year\": 1915\n",
    "    }\n",
    "}"
   ]
  },
  {
   "cell_type": "markdown",
   "id": "45043ab6",
   "metadata": {
    "slideshow": {
     "slide_type": "slide"
    }
   },
   "source": [
    "## Creating a dictionary\n",
    "\n",
    "Creating an **empty** dictionary (with no items):"
   ]
  },
  {
   "cell_type": "code",
   "execution_count": null,
   "id": "e69f95d2",
   "metadata": {
    "slideshow": {
     "slide_type": "fragment"
    }
   },
   "outputs": [],
   "source": [
    "new_dict = dict()"
   ]
  },
  {
   "cell_type": "markdown",
   "id": "810602bb",
   "metadata": {
    "slideshow": {
     "slide_type": "slide"
    }
   },
   "source": [
    "Creating a dictionary with some items in it:"
   ]
  },
  {
   "cell_type": "code",
   "execution_count": null,
   "id": "6344fdd7",
   "metadata": {
    "slideshow": {
     "slide_type": "fragment"
    }
   },
   "outputs": [],
   "source": [
    "new_dict = {\n",
    "    \"item1\": 1,\n",
    "    \"item2\": 2,\n",
    "    \"item3\": 3\n",
    "    }"
   ]
  },
  {
   "cell_type": "markdown",
   "id": "528cb9a7",
   "metadata": {
    "slideshow": {
     "slide_type": "slide"
    }
   },
   "source": [
    "✏️ **Exercise:**"
   ]
  },
  {
   "cell_type": "code",
   "execution_count": null,
   "id": "a53b82bf",
   "metadata": {
    "slideshow": {
     "slide_type": "fragment"
    }
   },
   "outputs": [],
   "source": [
    "# Create a dictionary that maps all places you've lived in with the country they belong to, and print it.\n",
    "#\n",
    "# Type your code here:\n",
    "\n"
   ]
  },
  {
   "cell_type": "markdown",
   "id": "4a1dfcc3",
   "metadata": {
    "slideshow": {
     "slide_type": "slide"
    }
   },
   "source": [
    "## Adding and updating items into a dictionary\n",
    "\n",
    "You add a key-value pair into a dictionary like this, where \"London\" in this case is the new key you want to add, and \"United Kingdom\" is its value:"
   ]
  },
  {
   "cell_type": "code",
   "execution_count": null,
   "id": "b4d05a7c",
   "metadata": {
    "slideshow": {
     "slide_type": "fragment"
    }
   },
   "outputs": [],
   "source": [
    "# Instantiate a dictionary of lived places:\n",
    "dictionary_of_lived_places = dict()\n",
    "dictionary_of_lived_places = {\"Ottawa\": \"Canada\",\n",
    "                              \"Ithaca\": \"Greece\",\n",
    "                              \"Moose Jaw\": \"Canada\"}\n",
    "\n",
    "# Below, we're adding a new key-value pair in our dicionary_of_lived_places:\n",
    "dictionary_of_lived_places[\"London\"] = \"United Kingdom\"\n",
    "\n",
    "# Print the dictionary:\n",
    "print(dictionary_of_lived_places)"
   ]
  },
  {
   "cell_type": "markdown",
   "id": "aa9c462a",
   "metadata": {
    "slideshow": {
     "slide_type": "slide"
    }
   },
   "source": [
    "You can update the value of a given key in the same way. For example, let's suppose for a moment that 'Moose Jaw' is not in Canada, but in Iceland:"
   ]
  },
  {
   "cell_type": "code",
   "execution_count": null,
   "id": "70eb464d",
   "metadata": {
    "slideshow": {
     "slide_type": "fragment"
    }
   },
   "outputs": [],
   "source": [
    "dictionary_of_lived_places[\"Moose Jaw\"] = \"Iceland\"\n",
    "print(dictionary_of_lived_places)"
   ]
  },
  {
   "cell_type": "markdown",
   "id": "1a4b8212",
   "metadata": {
    "slideshow": {
     "slide_type": "slide"
    }
   },
   "source": [
    "## Accessing a value from a dictionary\n",
    "\n",
    "Dictionaries provide a very straightforward way to access the values of a given key.\n",
    "\n",
    "Suppose we want to get the coordinates of the 'Endurance', given the following dictionary:"
   ]
  },
  {
   "cell_type": "code",
   "execution_count": null,
   "id": "d0f5f017",
   "metadata": {
    "slideshow": {
     "slide_type": "fragment"
    }
   },
   "outputs": [],
   "source": [
    "shipwrecks_by_location = {\n",
    "    \"Santa Maria\": (19.00, -71.00),\n",
    "    \"USS Indianapolis\" : (12.03, 134.80),\n",
    "    \"HMS Endeavour\": (41.60, -71.35),\n",
    "    \"Endurance\": (-69.08, -51.50)\n",
    "    }"
   ]
  },
  {
   "cell_type": "markdown",
   "id": "32379afe",
   "metadata": {
    "slideshow": {
     "slide_type": "slide"
    }
   },
   "source": [
    "We just need to call the dictionary and the key in square brackets:"
   ]
  },
  {
   "cell_type": "code",
   "execution_count": null,
   "id": "29601712",
   "metadata": {
    "slideshow": {
     "slide_type": "fragment"
    }
   },
   "outputs": [],
   "source": [
    "print(shipwrecks_by_location[\"Endurance\"])"
   ]
  },
  {
   "cell_type": "markdown",
   "id": "a63b11da",
   "metadata": {
    "slideshow": {
     "slide_type": "slide"
    }
   },
   "source": [
    "What happens if you try to access a key that does not exist in the dictionary?"
   ]
  },
  {
   "cell_type": "code",
   "execution_count": null,
   "id": "1b237efa",
   "metadata": {
    "slideshow": {
     "slide_type": "fragment"
    }
   },
   "outputs": [],
   "source": [
    "print(shipwrecks_by_location[\"Titanic\"])"
   ]
  },
  {
   "cell_type": "markdown",
   "id": "06f4960e",
   "metadata": {
    "slideshow": {
     "slide_type": "slide"
    }
   },
   "source": [
    "To avoid annoying error messages, you can always check beforehand if the key exists:"
   ]
  },
  {
   "cell_type": "code",
   "execution_count": null,
   "id": "5c74402c",
   "metadata": {
    "slideshow": {
     "slide_type": "fragment"
    }
   },
   "outputs": [],
   "source": [
    "query = \"Titanic\"\n",
    "if query in shipwrecks_by_location:\n",
    "    print(shipwrecks_by_location[query])\n",
    "else:\n",
    "    print(\"Warning: \" + query + \" is not in the dictionary.\")"
   ]
  },
  {
   "cell_type": "markdown",
   "id": "a39578b6",
   "metadata": {
    "slideshow": {
     "slide_type": "slide"
    }
   },
   "source": [
    "Alternatively, you also can use the method ```.get()```: the first element of the method is the key you want to look for in the dictionary, and the second element the message that it is returned if the key has not been found:"
   ]
  },
  {
   "cell_type": "code",
   "execution_count": null,
   "id": "691c12cf",
   "metadata": {
    "slideshow": {
     "slide_type": "fragment"
    }
   },
   "outputs": [],
   "source": [
    "query = \"Endurance\"\n",
    "print(shipwrecks_by_location.get(query, \"Key not in dictionary!\"))"
   ]
  },
  {
   "cell_type": "code",
   "execution_count": null,
   "id": "a793912d",
   "metadata": {
    "slideshow": {
     "slide_type": "fragment"
    }
   },
   "outputs": [],
   "source": [
    "query = \"Titanic\"\n",
    "print(shipwrecks_by_location.get(query, \"Key not in dictionary!\"))"
   ]
  },
  {
   "cell_type": "markdown",
   "id": "318e67e2",
   "metadata": {
    "slideshow": {
     "slide_type": "slide"
    }
   },
   "source": [
    "## Other methods to retrieve data from a dictionary:\n",
    "\n",
    "Get all the **keys** in the dictionary:"
   ]
  },
  {
   "cell_type": "code",
   "execution_count": null,
   "id": "b70f6fa6",
   "metadata": {
    "slideshow": {
     "slide_type": "fragment"
    }
   },
   "outputs": [],
   "source": [
    "print(dictionary_of_lived_places.keys())"
   ]
  },
  {
   "cell_type": "markdown",
   "id": "e3aee3eb",
   "metadata": {
    "slideshow": {
     "slide_type": "slide"
    }
   },
   "source": [
    "Get all the **values** in the dictionary (in a list format):"
   ]
  },
  {
   "cell_type": "code",
   "execution_count": null,
   "id": "2be73c66",
   "metadata": {
    "slideshow": {
     "slide_type": "fragment"
    }
   },
   "outputs": [],
   "source": [
    "print(dictionary_of_lived_places.values())"
   ]
  },
  {
   "cell_type": "markdown",
   "id": "89e4153d",
   "metadata": {
    "slideshow": {
     "slide_type": "slide"
    }
   },
   "source": [
    "Get the **key-value pairs** in the dictionary (in a list of tuples format):"
   ]
  },
  {
   "cell_type": "code",
   "execution_count": null,
   "id": "09175320",
   "metadata": {
    "slideshow": {
     "slide_type": "fragment"
    }
   },
   "outputs": [],
   "source": [
    "print(dictionary_of_lived_places.items())"
   ]
  },
  {
   "cell_type": "markdown",
   "id": "c99656ee",
   "metadata": {
    "slideshow": {
     "slide_type": "slide"
    }
   },
   "source": [
    "## Sorting a dictionary\n",
    "\n",
    "Dictionaries are unordered and can't be sorted, but we can sort a representation of a dictionary.\n",
    "\n",
    "Sort **by key** in ascending order:"
   ]
  },
  {
   "cell_type": "code",
   "execution_count": null,
   "id": "52572515",
   "metadata": {
    "slideshow": {
     "slide_type": "fragment"
    }
   },
   "outputs": [],
   "source": [
    "sorted(dictionary_of_lived_places.items())"
   ]
  },
  {
   "cell_type": "markdown",
   "id": "014d77c2",
   "metadata": {
    "slideshow": {
     "slide_type": "slide"
    }
   },
   "source": [
    "Sort **by key** in descending order:"
   ]
  },
  {
   "cell_type": "code",
   "execution_count": null,
   "id": "c5b9525e",
   "metadata": {
    "slideshow": {
     "slide_type": "fragment"
    }
   },
   "outputs": [],
   "source": [
    "sorted(dictionary_of_lived_places.items(), reverse=True)"
   ]
  },
  {
   "cell_type": "markdown",
   "id": "18a5fa63",
   "metadata": {
    "slideshow": {
     "slide_type": "slide"
    }
   },
   "source": [
    "Dictionaries are unordered and can't be sorted, but we can sort a representation of a dictionary.\n",
    "\n",
    "Sort **by value** in ascending order:"
   ]
  },
  {
   "cell_type": "code",
   "execution_count": null,
   "id": "5f678a15",
   "metadata": {
    "slideshow": {
     "slide_type": "fragment"
    }
   },
   "outputs": [],
   "source": [
    "sorted(dictionary_of_lived_places.items(),key=lambda x:x[1])"
   ]
  },
  {
   "cell_type": "markdown",
   "id": "f02eb974",
   "metadata": {
    "slideshow": {
     "slide_type": "slide"
    }
   },
   "source": [
    "✏️ **Exercise:**"
   ]
  },
  {
   "cell_type": "code",
   "execution_count": null,
   "id": "1f6c3235",
   "metadata": {
    "slideshow": {
     "slide_type": "fragment"
    }
   },
   "outputs": [],
   "source": [
    "# Can you guess how to sort by value in descending order?\n",
    "#\n",
    "# Type your code here:\n",
    "\n"
   ]
  },
  {
   "cell_type": "markdown",
   "id": "fed46ff0",
   "metadata": {
    "slideshow": {
     "slide_type": "slide"
    }
   },
   "source": [
    "## Iterate over a dictionary\n",
    "\n",
    "We can iterate over a dictionary in a similar way to how we interate over a list. By default, iteration is done over the keys of the dictionary. See the example:"
   ]
  },
  {
   "cell_type": "code",
   "execution_count": null,
   "id": "43c92caa",
   "metadata": {
    "slideshow": {
     "slide_type": "fragment"
    }
   },
   "outputs": [],
   "source": [
    "dictionary_of_lived_places = {\n",
    "    \"Moose Jaw\": \"Canada\",\n",
    "    \"Saskatoon\": \"Canada\",\n",
    "    \"Ithaca\": \"Greece\"\n",
    "}\n",
    "\n",
    "for k in dictionary_of_lived_places:\n",
    "    print(k)"
   ]
  },
  {
   "cell_type": "markdown",
   "id": "f3eaaf76",
   "metadata": {
    "slideshow": {
     "slide_type": "slide"
    }
   },
   "source": [
    "We can also iterate over the dictionary key-value pairs (`k, v`) with the `.items()` method."
   ]
  },
  {
   "cell_type": "code",
   "execution_count": null,
   "id": "28a4a3f5",
   "metadata": {
    "slideshow": {
     "slide_type": "fragment"
    }
   },
   "outputs": [],
   "source": [
    "dictionary_of_lived_places = {\n",
    "    \"Moose Jaw\": \"Canada\",\n",
    "    \"Saskatoon\": \"Canada\",\n",
    "    \"Ithaca\": \"Greece\"\n",
    "}\n",
    "\n",
    "for k, v in dictionary_of_lived_places.items():\n",
    "    print(k, v)"
   ]
  },
  {
   "cell_type": "markdown",
   "id": "ca452e27",
   "metadata": {
    "slideshow": {
     "slide_type": "slide"
    }
   },
   "source": [
    "Remember that we can access the value of a key like this: ```dictionary[key]```. The cell below achieves teh same as the cell above:"
   ]
  },
  {
   "cell_type": "code",
   "execution_count": null,
   "id": "a1cbad95",
   "metadata": {
    "slideshow": {
     "slide_type": "fragment"
    }
   },
   "outputs": [],
   "source": [
    "for k in dictionary_of_lived_places:\n",
    "    print(k, dictionary_of_lived_places[k])"
   ]
  },
  {
   "cell_type": "markdown",
   "id": "6980513a",
   "metadata": {
    "slideshow": {
     "slide_type": "slide"
    }
   },
   "source": [
    "## Use case: counting words\n",
    "\n",
    "Dictionaries are very helpful to count and keep track. Look at the example below:"
   ]
  },
  {
   "cell_type": "code",
   "execution_count": null,
   "id": "b5dd0a8c",
   "metadata": {
    "slideshow": {
     "slide_type": "fragment"
    }
   },
   "outputs": [],
   "source": [
    "text = \"This is the second day of the summer school, we're covering data structures in Python.\"\n",
    "\n",
    "word_list = text.split(\" \")\n",
    "dict_wordcounts = dict()\n",
    "for word in word_list:\n",
    "    if word in dict_wordcounts:\n",
    "        dict_wordcounts[word] += 1\n",
    "    else:\n",
    "        dict_wordcounts[word] = 1\n",
    "\n",
    "print(dict_wordcounts)"
   ]
  },
  {
   "cell_type": "markdown",
   "id": "09ffb6cc",
   "metadata": {
    "slideshow": {
     "slide_type": "slide"
    }
   },
   "source": [
    "Do you understand what is happening at each line of code?"
   ]
  },
  {
   "cell_type": "markdown",
   "id": "2277482b",
   "metadata": {
    "slideshow": {
     "slide_type": "slide"
    }
   },
   "source": [
    "Now with comments:"
   ]
  },
  {
   "cell_type": "code",
   "execution_count": null,
   "id": "459ad789",
   "metadata": {
    "slideshow": {
     "slide_type": "fragment"
    }
   },
   "outputs": [],
   "source": [
    "text = \"This is the second day of the summer school, we're covering data structures in Python.\"\n",
    "word_list = text.split(\" \") # First of all, split the text by white space.\n",
    "dict_wordcounts = dict() # We start an empty dictionary, which we will be filling with data as we read it.\n",
    "for word in word_list: # Read and iterate over the data, in this case a list of words. \n",
    "    if word in dict_wordcounts: # Check if the word exists as a key in the dictionary\n",
    "        dict_wordcounts[word] += 1 # Update the value (i.e. count) of the key (i.e. word) by adding 1 to it.\n",
    "    else: # If the word does not exist as a key in the dictionary: \n",
    "        dict_wordcounts[word] = 1 # Add the key to the dictionary, and give it the value 1.\n",
    "\n",
    "print(dict_wordcounts)"
   ]
  },
  {
   "cell_type": "code",
   "execution_count": null,
   "id": "79d25990",
   "metadata": {},
   "outputs": [],
   "source": []
  }
 ],
 "metadata": {
  "celltoolbar": "Slideshow",
  "kernelspec": {
   "display_name": "Python (py39)",
   "language": "python",
   "name": "py39"
  },
  "language_info": {
   "codemirror_mode": {
    "name": "ipython",
    "version": 3
   },
   "file_extension": ".py",
   "mimetype": "text/x-python",
   "name": "python",
   "nbconvert_exporter": "python",
   "pygments_lexer": "ipython3",
   "version": "3.9.12"
  }
 },
 "nbformat": 4,
 "nbformat_minor": 5
}
