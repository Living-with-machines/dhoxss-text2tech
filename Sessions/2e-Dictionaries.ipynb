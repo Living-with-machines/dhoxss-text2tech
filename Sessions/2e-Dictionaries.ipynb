{
 "cells": [
  {
   "cell_type": "markdown",
   "id": "a72c1440",
   "metadata": {
    "slideshow": {
     "slide_type": "slide"
    }
   },
   "source": [
    "# Data structures: dictionaries"
   ]
  },
  {
   "cell_type": "markdown",
   "id": "889669d2",
   "metadata": {
    "slideshow": {
     "slide_type": "slide"
    }
   },
   "source": [
    "A dictionary is a collection of elements that can be accessed by their indices.\n",
    "\n",
    "A dictionary in Python is a mapping between keys and values:\n",
    "* **Key**: the index of the dictionary, it can be a string, a number, or a tuple. Keys are unique.\n",
    "* **Value**: the value of a given key, it can be of any type! Values don't need to be unique.\n",
    "\n",
    "Why is it called dictionary? Similar to how a traditional dictionary is structured, it consists of a collection of entries (i.e. **keys**) with **values** (in a traditional dictionary, that's the definition).\n",
    "\n",
    "Example from a traditional dictionary:\n",
    "> _programming (n)_: The art of writing a program.\n",
    "\n",
    "In python:\n",
    "* A dictionary is represented in curly brackets.\n",
    "* A colon (```:```) is used to separate the key from the value.\n",
    "* Different items in a dictionary are separated by commas (```,```).\n",
    "\n",
    "For example:"
   ]
  },
  {
   "cell_type": "code",
   "execution_count": null,
   "id": "fdf46cc4",
   "metadata": {},
   "outputs": [],
   "source": [
    "dictionary = {\"programming\" : \"The art of writing a program.\",\n",
    "              \"dictionary\" : \"Collection of words with their definitions.\"\n",
    "             }"
   ]
  },
  {
   "cell_type": "markdown",
   "id": "fa00a11e",
   "metadata": {},
   "source": [
    "You can have as many elements as necessary in a dictionary:"
   ]
  },
  {
   "cell_type": "code",
   "execution_count": null,
   "id": "016a5817",
   "metadata": {
    "slideshow": {
     "slide_type": "-"
    }
   },
   "outputs": [],
   "source": [
    "shipwrecks_by_year = {\n",
    "    \"Santa Maria\": 1492,\n",
    "    \"USS Indianapolis\" : 1945,\n",
    "    \"HMS Endeavour\": 1778,\n",
    "    \"Endurance\": 1915\n",
    "    }"
   ]
  },
  {
   "cell_type": "markdown",
   "id": "68704d59",
   "metadata": {
    "slideshow": {
     "slide_type": "slide"
    }
   },
   "source": [
    "Values of dictionaries can also be tuples (like here), or lists, or sets..."
   ]
  },
  {
   "cell_type": "code",
   "execution_count": null,
   "id": "a8a5e79e",
   "metadata": {},
   "outputs": [],
   "source": [
    "shipwrecks_by_location = {\n",
    "    \"Santa Maria\": (19.00, -71.00),\n",
    "    \"USS Indianapolis\" : (12.03, 134.80),\n",
    "    \"HMS Endeavour\": (41.60, -71.35),\n",
    "    \"Endurance\": (-69.08, -51.50)\n",
    "    }"
   ]
  },
  {
   "cell_type": "markdown",
   "id": "43ef40a7",
   "metadata": {
    "slideshow": {
     "slide_type": "slide"
    }
   },
   "source": [
    "... and dictionary values can also be nested dictionaries!"
   ]
  },
  {
   "cell_type": "code",
   "execution_count": null,
   "id": "1f153936",
   "metadata": {},
   "outputs": [],
   "source": [
    "# Here the outer keys are strings, values are dictionaries!\n",
    "# The keys of the inner dictionary ('Coordinates', 'Year')\n",
    "# are strings, their values are (1) a tuple of floats for\n",
    "# key \"Coordinates\", and (2) an integer for key \"Year\".\n",
    "shipwrecks = {\n",
    "    \"Santa Maria\": {\n",
    "        \"Coordinates\": (19.00, -71.00),\n",
    "        \"Year\": 1492\n",
    "    },\n",
    "    \"USS Indianapolis\": {\n",
    "        \"Coordinates\": (12.03, 134.80),\n",
    "        \"Year\": 1945\n",
    "    },\n",
    "    \"HMS Endeavour\": {\n",
    "        \"Coordinates\": (41.60, -71.35),\n",
    "        \"Year\": 1778\n",
    "    },\n",
    "    \"Endurance\": {\n",
    "        \"Coordinates\": (-69.08, -51.50),\n",
    "        \"Year\": 1915\n",
    "    }\n",
    "}"
   ]
  },
  {
   "cell_type": "markdown",
   "id": "cc0d7790",
   "metadata": {
    "slideshow": {
     "slide_type": "slide"
    }
   },
   "source": [
    "## Creating a dictionary\n",
    "\n",
    "Creating an **empty** dictionary (with no items):"
   ]
  },
  {
   "cell_type": "code",
   "execution_count": null,
   "id": "2cae30a0",
   "metadata": {},
   "outputs": [],
   "source": [
    "new_dict = dict()"
   ]
  },
  {
   "cell_type": "markdown",
   "id": "27eb3368",
   "metadata": {},
   "source": [
    "Creating a dictionary with some items in it:"
   ]
  },
  {
   "cell_type": "code",
   "execution_count": null,
   "id": "93f4cf8a",
   "metadata": {},
   "outputs": [],
   "source": [
    "new_dict = {\n",
    "    \"item1\": 1,\n",
    "    \"item2\": 2,\n",
    "    \"item3\": 3\n",
    "    }"
   ]
  },
  {
   "cell_type": "markdown",
   "id": "80eb80d9",
   "metadata": {
    "slideshow": {
     "slide_type": "slide"
    }
   },
   "source": [
    "✏️ **Exercise:**"
   ]
  },
  {
   "cell_type": "code",
   "execution_count": null,
   "id": "e1af9c90",
   "metadata": {
    "slideshow": {
     "slide_type": "fragment"
    }
   },
   "outputs": [],
   "source": [
    "# Create a dictionary that maps all places you've lived in with the country they belong to, and print it.\n",
    "#\n",
    "# Type your code here:\n",
    "\n"
   ]
  },
  {
   "cell_type": "markdown",
   "id": "52716f2d",
   "metadata": {
    "slideshow": {
     "slide_type": "slide"
    }
   },
   "source": [
    "## Adding and updating items into a dictionary\n",
    "\n",
    "You add a key-value pair into a dictionary like this, where \"London\" in this case is the new key you want to add, and \"United Kingdom\" is its value:"
   ]
  },
  {
   "cell_type": "code",
   "execution_count": null,
   "id": "d48b5192",
   "metadata": {},
   "outputs": [],
   "source": [
    "# Instantiate a dictionary of lived places:\n",
    "dictionary_of_lived_places = dict()\n",
    "dictionary_of_lived_places = {\"Ottawa\": \"Canada\",\n",
    "                              \"Ithaca\": \"Greece\",\n",
    "                              \"Moose Jaw\": \"Canada\"}\n",
    "\n",
    "# Below, we're adding a new key-value pair in our dicionary_of_lived_places:\n",
    "dictionary_of_lived_places[\"London\"] = \"United Kingdom\"\n",
    "\n",
    "# Print the dictionary:\n",
    "print(dictionary_of_lived_places)"
   ]
  },
  {
   "cell_type": "markdown",
   "id": "dc7245e5",
   "metadata": {
    "slideshow": {
     "slide_type": "fragment"
    }
   },
   "source": [
    "You can update the value of a given key in the same way. For example, let's suppose for a moment that 'Moose Jaw' is not in Canada, but in Iceland:"
   ]
  },
  {
   "cell_type": "code",
   "execution_count": null,
   "id": "712ecc1a",
   "metadata": {},
   "outputs": [],
   "source": [
    "dictionary_of_lived_places[\"Moose Jaw\"] = \"Iceland\"\n",
    "print(dictionary_of_lived_places)"
   ]
  },
  {
   "cell_type": "markdown",
   "id": "500db7ff",
   "metadata": {
    "slideshow": {
     "slide_type": "slide"
    }
   },
   "source": [
    "## Accessing a value from a dictionary\n",
    "\n",
    "Dictionaries provide a very straightforward way to access the values of a given key.\n",
    "\n",
    "Suppose we want to get the coordinates of the 'Endurance', given the following dictionary:"
   ]
  },
  {
   "cell_type": "code",
   "execution_count": null,
   "id": "b0f28657",
   "metadata": {},
   "outputs": [],
   "source": [
    "shipwrecks_by_location = {\n",
    "    \"Santa Maria\": (19.00, -71.00),\n",
    "    \"USS Indianapolis\" : (12.03, 134.80),\n",
    "    \"HMS Endeavour\": (41.60, -71.35),\n",
    "    \"Endurance\": (-69.08, -51.50)\n",
    "    }"
   ]
  },
  {
   "cell_type": "markdown",
   "id": "e8dfae64",
   "metadata": {},
   "source": [
    "We just need to call the dictionary and the key in square brackets:"
   ]
  },
  {
   "cell_type": "code",
   "execution_count": null,
   "id": "7df76885",
   "metadata": {},
   "outputs": [],
   "source": [
    "print(shipwrecks_by_location[\"Endurance\"])"
   ]
  },
  {
   "cell_type": "markdown",
   "id": "b3f7e82d",
   "metadata": {
    "slideshow": {
     "slide_type": "slide"
    }
   },
   "source": [
    "What happens if you try to access a key that does not exist in the dictionary?"
   ]
  },
  {
   "cell_type": "code",
   "execution_count": null,
   "id": "e29a5be8",
   "metadata": {},
   "outputs": [],
   "source": [
    "print(shipwrecks_by_location[\"Titanic\"])"
   ]
  },
  {
   "cell_type": "markdown",
   "id": "3d4834dd",
   "metadata": {
    "slideshow": {
     "slide_type": "slide"
    }
   },
   "source": [
    "To avoid annoying error messages, you can always check beforehand if the key exists:"
   ]
  },
  {
   "cell_type": "code",
   "execution_count": null,
   "id": "aff24d81",
   "metadata": {},
   "outputs": [],
   "source": [
    "query = \"Titanic\"\n",
    "if query in shipwrecks_by_location:\n",
    "    print(shipwrecks_by_location[query])\n",
    "else:\n",
    "    print(\"Warning: \" + query + \" is not in the dictionary.\")"
   ]
  },
  {
   "cell_type": "markdown",
   "id": "37691dcf",
   "metadata": {
    "slideshow": {
     "slide_type": "slide"
    }
   },
   "source": [
    "Alternatively, you also can use the method ```.get()```: the first element of the method is the key you want to look for in the dictionary, and the second element the message that it is returned if the key has not been found:"
   ]
  },
  {
   "cell_type": "code",
   "execution_count": null,
   "id": "aa7c19f8",
   "metadata": {},
   "outputs": [],
   "source": [
    "query = \"Endurance\"\n",
    "print(shipwrecks_by_location.get(query, \"Key not in dictionary!\"))"
   ]
  },
  {
   "cell_type": "code",
   "execution_count": null,
   "id": "b61fbaf4",
   "metadata": {},
   "outputs": [],
   "source": [
    "query = \"Titanic\"\n",
    "print(shipwrecks_by_location.get(query, \"Key not in dictionary!\"))"
   ]
  },
  {
   "cell_type": "markdown",
   "id": "71f692f3",
   "metadata": {
    "slideshow": {
     "slide_type": "slide"
    }
   },
   "source": [
    "## Other methods to retrieve data from a dictionary:\n",
    "\n",
    "Get all the **keys** in the dictionary:"
   ]
  },
  {
   "cell_type": "code",
   "execution_count": null,
   "id": "24a7b999",
   "metadata": {},
   "outputs": [],
   "source": [
    "print(dictionary_of_lived_places.keys())"
   ]
  },
  {
   "cell_type": "markdown",
   "id": "885d4f90",
   "metadata": {},
   "source": [
    "Get all the **values** in the dictionary (in a list format):"
   ]
  },
  {
   "cell_type": "code",
   "execution_count": null,
   "id": "d6580553",
   "metadata": {},
   "outputs": [],
   "source": [
    "print(dictionary_of_lived_places.values())"
   ]
  },
  {
   "cell_type": "markdown",
   "id": "aef6eb61",
   "metadata": {},
   "source": [
    "Get the **key-value pairs** in the dictionary (in a list of tuples format):"
   ]
  },
  {
   "cell_type": "code",
   "execution_count": null,
   "id": "909117b1",
   "metadata": {},
   "outputs": [],
   "source": [
    "print(dictionary_of_lived_places.items())"
   ]
  },
  {
   "cell_type": "markdown",
   "id": "df555089",
   "metadata": {
    "slideshow": {
     "slide_type": "slide"
    }
   },
   "source": [
    "## Sorting a dictionary\n",
    "\n",
    "Dictionaries are unordered and can't be sorted, but we can sort a representation of a dictionary.\n",
    "\n",
    "Sort **by key** in ascending order:"
   ]
  },
  {
   "cell_type": "code",
   "execution_count": null,
   "id": "6c53b6f7",
   "metadata": {},
   "outputs": [],
   "source": [
    "sorted(dictionary_of_lived_places.items())"
   ]
  },
  {
   "cell_type": "markdown",
   "id": "6ca2af4b",
   "metadata": {},
   "source": [
    "Sort **by key** in descending order:"
   ]
  },
  {
   "cell_type": "code",
   "execution_count": null,
   "id": "79878c73",
   "metadata": {},
   "outputs": [],
   "source": [
    "sorted(dictionary_of_lived_places.items(), reverse=True)"
   ]
  },
  {
   "cell_type": "markdown",
   "id": "fa33b06b",
   "metadata": {
    "slideshow": {
     "slide_type": "slide"
    }
   },
   "source": [
    "Dictionaries are unordered and can't be sorted, but we can sort a representation of a dictionary.\n",
    "\n",
    "Sort **by value** in ascending order:"
   ]
  },
  {
   "cell_type": "code",
   "execution_count": null,
   "id": "9bfcdcaa",
   "metadata": {},
   "outputs": [],
   "source": [
    "sorted(dictionary_of_lived_places.items(),key=lambda x:x[1])"
   ]
  },
  {
   "cell_type": "markdown",
   "id": "89e6c4d1",
   "metadata": {
    "slideshow": {
     "slide_type": "fragment"
    }
   },
   "source": [
    "✏️ **Exercise:**"
   ]
  },
  {
   "cell_type": "code",
   "execution_count": null,
   "id": "10b78cf8",
   "metadata": {},
   "outputs": [],
   "source": [
    "# Can you guess how to sort by value in descending order?\n",
    "#\n",
    "# Type your code here:\n",
    "\n"
   ]
  },
  {
   "cell_type": "markdown",
   "id": "ddfe1d18",
   "metadata": {
    "slideshow": {
     "slide_type": "slide"
    }
   },
   "source": [
    "## Iterate over a dictionary\n",
    "\n",
    "We can iterate over a dictionary in a similar way to how we interate over a list. By default, iteration is done over the keys of the dictionary. See the example:"
   ]
  },
  {
   "cell_type": "code",
   "execution_count": null,
   "id": "4e6da7af",
   "metadata": {},
   "outputs": [],
   "source": [
    "dictionary_of_lived_places = {\n",
    "    \"Moose Jaw\": \"Canada\",\n",
    "    \"Saskatoon\": \"Canada\",\n",
    "    \"Ithaca\": \"Greece\"\n",
    "}\n",
    "\n",
    "for k in dictionary_of_lived_places:\n",
    "    print(k)"
   ]
  },
  {
   "cell_type": "markdown",
   "id": "254c6a7a",
   "metadata": {
    "slideshow": {
     "slide_type": "slide"
    }
   },
   "source": [
    "We can also iterate over the dictionary key-value pairs (`k, v`) with the `.items()` method."
   ]
  },
  {
   "cell_type": "code",
   "execution_count": null,
   "id": "5cb39c49",
   "metadata": {},
   "outputs": [],
   "source": [
    "dictionary_of_lived_places = {\n",
    "    \"Moose Jaw\": \"Canada\",\n",
    "    \"Saskatoon\": \"Canada\",\n",
    "    \"Ithaca\": \"Greece\"\n",
    "}\n",
    "\n",
    "for k, v in dictionary_of_lived_places.items():\n",
    "    print(k, v)"
   ]
  },
  {
   "cell_type": "markdown",
   "id": "b0ed936c",
   "metadata": {},
   "source": [
    "Remember that we can access the value of a key like this: ```dictionary[key]```. The cell below achieves teh same as the cell above:"
   ]
  },
  {
   "cell_type": "code",
   "execution_count": null,
   "id": "8e249891",
   "metadata": {},
   "outputs": [],
   "source": [
    "for k in dictionary_of_lived_places:\n",
    "    print(k, dictionary_of_lived_places[k])"
   ]
  },
  {
   "cell_type": "markdown",
   "id": "0dd1f4c4",
   "metadata": {
    "slideshow": {
     "slide_type": "slide"
    }
   },
   "source": [
    "## Use case: counting words\n",
    "\n",
    "Dictionaries are very helpful to count and keep track. Look at the example below:"
   ]
  },
  {
   "cell_type": "code",
   "execution_count": null,
   "id": "4c4210d3",
   "metadata": {},
   "outputs": [],
   "source": [
    "text = \"This is the second day of the summer school, we're covering data structures in Python.\"\n",
    "\n",
    "word_list = text.split(\" \")\n",
    "dict_wordcounts = dict()\n",
    "for word in word_list:\n",
    "    if word in dict_wordcounts:\n",
    "        dict_wordcounts[word] += 1\n",
    "    else:\n",
    "        dict_wordcounts[word] = 1\n",
    "\n",
    "print(dict_wordcounts)"
   ]
  },
  {
   "cell_type": "markdown",
   "id": "0b2a204c",
   "metadata": {},
   "source": [
    "Do you understand what is happening at each line of code?"
   ]
  },
  {
   "cell_type": "markdown",
   "id": "41d709e4",
   "metadata": {
    "slideshow": {
     "slide_type": "slide"
    }
   },
   "source": [
    "Now with comments:"
   ]
  },
  {
   "cell_type": "code",
   "execution_count": null,
   "id": "61706249",
   "metadata": {},
   "outputs": [],
   "source": [
    "text = \"This is the second day of the summer school, we're covering data structures in Python.\"\n",
    "word_list = text.split(\" \") # First of all, split the text by white space.\n",
    "dict_wordcounts = dict() # We start an empty dictionary, which we will be filling with data as we read it.\n",
    "for word in word_list: # Read and iterate over the data, in this case a list of words. \n",
    "    if word in dict_wordcounts: # Check if the word exists as a key in the dictionary\n",
    "        dict_wordcounts[word] += 1 # Update the value (i.e. count) of the key (i.e. word) by adding 1 to it.\n",
    "    else: # If the word does not exist as a key in the dictionary: \n",
    "        dict_wordcounts[word] = 1 # Add the key to the dictionary, and give it the value 1.\n",
    "\n",
    "print(dict_wordcounts)"
   ]
  },
  {
   "cell_type": "code",
   "execution_count": null,
   "id": "c0efe046",
   "metadata": {},
   "outputs": [],
   "source": []
  }
 ],
 "metadata": {
  "kernelspec": {
   "display_name": "Python (py39)",
   "language": "python",
   "name": "py39"
  },
  "language_info": {
   "codemirror_mode": {
    "name": "ipython",
    "version": 3
   },
   "file_extension": ".py",
   "mimetype": "text/x-python",
   "name": "python",
   "nbconvert_exporter": "python",
   "pygments_lexer": "ipython3",
   "version": "3.9.12"
  }
 },
 "nbformat": 4,
 "nbformat_minor": 5
}
