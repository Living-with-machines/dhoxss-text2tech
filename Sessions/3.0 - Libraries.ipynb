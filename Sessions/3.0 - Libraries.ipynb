{
 "cells": [
  {
   "attachments": {},
   "cell_type": "markdown",
   "metadata": {},
   "source": [
    "## What is a library?\n",
    "\n",
    "Research programming is all about using libraries: tools other people have written and shared with the communit and that do many cool things.\n",
    "The python syntax to import someone else’s library is “import”."
   ]
  },
  {
   "attachments": {},
   "cell_type": "markdown",
   "metadata": {},
   "source": [
    "### Pre-installed libraries\n",
    "\n",
    "Some libraries are pre-installed in the Python environment you will be using. In your case, you can see the libraries that we have pre-installed in the `requirements.txt` file in our GitHub repo. In other cases, if you use for instance `anaconda`, this will install some core libraries for you by default etc. "
   ]
  },
  {
   "cell_type": "code",
   "execution_count": null,
   "metadata": {},
   "outputs": [],
   "source": [
    "# this is a libraries available, that you just need to import\n",
    "\n",
    "import math\n",
    "\n",
    "number = 5\n",
    "number_power_of_two =  math.pow(5,2)\n",
    "print (number_power_of_two)"
   ]
  },
  {
   "cell_type": "code",
   "execution_count": null,
   "metadata": {},
   "outputs": [],
   "source": [
    "import random\n",
    "\n",
    "list_of_numbers = [5,6,7,8,4,3,5,3,2,1,5]\n",
    "\n",
    "random.shuffle(list_of_numbers)\n",
    "\n",
    "print (list_of_numbers)"
   ]
  },
  {
   "attachments": {},
   "cell_type": "markdown",
   "metadata": {},
   "source": [
    "Note a main difference between `math.pow()` and `random.shuffle()`. The first returns the power (of 2 in our case) of a number (in our case 5). The second is a **in-place** function. It modifies directly the `list_of_numbers` object and returns `None`. In-place functions are a bit confusing to get at the beginning, but remember that you will encounter them a lot!"
   ]
  },
  {
   "attachments": {},
   "cell_type": "markdown",
   "metadata": {},
   "source": [
    "### Installing libraries\n",
    "\n",
    "Note that import does not install libraries. It just makes them available to your current notebook session, assuming they are already installed. Installing libraries is harder, and so for this Summer School we have already pre-installed for you all the libraries you will need. If you want to know more about installing libraries, check out [this part](https://alan-turing-institute.github.io/rse-course/html/module06_software_projects/06_01_libraries.html) of the Turing RSE Course."
   ]
  },
  {
   "attachments": {},
   "cell_type": "markdown",
   "metadata": {},
   "source": [
    "While libraries are great, they generally have three main drawbacks:\n",
    "\n",
    "1. Sometimes, libraries are not looked after by their creator - for many different reasons\n",
    "2. Sometimes, libraries are hard to get working (especially when you are in a rush and don't want to read the documentation!)\n",
    "3. Sometimes, libraries don't do exactly what you need\n",
    "\n",
    "![](images/dependency.png) \n",
    "\n",
    "### Contribute, don’t duplicate!!\n",
    "\n",
    "You have a duty to the ecosystem of scholarly software:\n",
    "\n",
    "If there’s a tool or algorithm you need, find a project which provides it.\n",
    "\n",
    "If there are features missing, or problems with it, fix them, don’t create your own library."
   ]
  }
 ],
 "metadata": {
  "language_info": {
   "name": "python"
  },
  "orig_nbformat": 4
 },
 "nbformat": 4,
 "nbformat_minor": 2
}
