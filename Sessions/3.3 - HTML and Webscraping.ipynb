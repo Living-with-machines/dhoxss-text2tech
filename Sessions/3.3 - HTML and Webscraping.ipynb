{
 "cells": [
  {
   "cell_type": "markdown",
   "id": "d8aa4c70",
   "metadata": {},
   "source": [
    "# HTML vs XML\n",
    "\n",
    "- Both HTML and XML are markup languages\n",
    "  - HyperText Markup Language\n",
    "    - Hypertext: text with links (hyperlinks) to other text\n",
    "  - eXtensible Markup Language\n"
   ]
  },
  {
   "cell_type": "markdown",
   "id": "acf5bdbe",
   "metadata": {},
   "source": [
    "Example from [W3](https://www.w3schools.com/html/tryit.asp?filename=tryhtml_basic_document)"
   ]
  },
  {
   "cell_type": "markdown",
   "id": "e7d5a815",
   "metadata": {},
   "source": [
    "<!DOCTYPE html>\n",
    "<html>\n",
    "<body>\n",
    "\n",
    "<h1>My First Heading</h1>\n",
    "\n",
    "<p>My first paragraph.</p>\n",
    "\n",
    "</body>\n",
    "</html>\n"
   ]
  },
  {
   "cell_type": "markdown",
   "id": "a8505413",
   "metadata": {},
   "source": [
    "- HTML contains a fixed set of tags (not eXtensible) (XML is a framework for defining markup languages whereas HTML is a markup language)\n",
    "- HTML focusses on displaying instead of describing data (semantically less interesting)\n",
    "- HTML allows small syntactic errors (XML is very unforgiving)\n"
   ]
  },
  {
   "cell_type": "markdown",
   "id": "d8adfd7f",
   "metadata": {},
   "source": [
    "Most importantly, if you know XML, you are ready work with HTML\n",
    "\n",
    "Today, practical advice on downloading, parsing and navigating HTML documents from the web."
   ]
  },
  {
   "cell_type": "markdown",
   "id": "17ce9773",
   "metadata": {},
   "source": [
    "# Accessing content with requests"
   ]
  },
  {
   "cell_type": "code",
   "execution_count": null,
   "id": "441e0e2b",
   "metadata": {},
   "outputs": [],
   "source": [
    "import requests"
   ]
  },
  {
   "cell_type": "code",
   "execution_count": null,
   "id": "d2acfa8b",
   "metadata": {},
   "outputs": [],
   "source": [
    "url = 'https://ia800908.us.archive.org/6/items/alicesadventures19033gut/19033-h/19033-h.htm'"
   ]
  },
  {
   "cell_type": "code",
   "execution_count": null,
   "id": "ff750b66",
   "metadata": {},
   "outputs": [],
   "source": [
    "response = requests.get(url)"
   ]
  },
  {
   "cell_type": "markdown",
   "id": "5c2665b0",
   "metadata": {},
   "source": [
    "## Inspecting HTML"
   ]
  },
  {
   "cell_type": "code",
   "execution_count": null,
   "id": "e02e46df",
   "metadata": {},
   "outputs": [],
   "source": [
    "# response codes indicate i HTTP request was completed successfully\n",
    "response"
   ]
  },
  {
   "cell_type": "markdown",
   "id": "f81eee29",
   "metadata": {},
   "source": [
    "List of response codes is available [here](https://developer.mozilla.org/en-US/docs/Web/HTTP/Status)"
   ]
  },
  {
   "cell_type": "markdown",
   "id": "945d88e8",
   "metadata": {},
   "source": [
    "- HTML often more difficult to navigate and query then XML (\"dirtier/complex\")\n",
    "    - Example of the [The Guardian](https://www.theguardian.com/uk)\n",
    "- HTML not always syntactically well-formed (parsers needs to be more forgiven"
   ]
  },
  {
   "cell_type": "markdown",
   "id": "2a1aeec5",
   "metadata": {},
   "source": [
    "Inspecting the HTML underlying [\"Alice in Wonderland\"](https://ia800908.us.archive.org/6/items/alicesadventures19033gut/19033-h/19033-h.htm)."
   ]
  },
  {
   "cell_type": "code",
   "execution_count": null,
   "id": "d68dd601",
   "metadata": {},
   "outputs": [],
   "source": [
    "response.content"
   ]
  },
  {
   "cell_type": "code",
   "execution_count": null,
   "id": "6a7c5325",
   "metadata": {},
   "outputs": [],
   "source": [
    "type(response.content)"
   ]
  },
  {
   "cell_type": "markdown",
   "id": "c352ba7a",
   "metadata": {},
   "source": [
    "## Parsing HTML"
   ]
  },
  {
   "cell_type": "code",
   "execution_count": null,
   "id": "bfb5c150",
   "metadata": {},
   "outputs": [],
   "source": [
    "from lxml import etree\n",
    "from io import StringIO, BytesIO"
   ]
  },
  {
   "cell_type": "code",
   "execution_count": null,
   "id": "e2134aba",
   "metadata": {},
   "outputs": [],
   "source": [
    "# parsin HTML as an XML document often yields an error\n",
    "tree = etree.parse(BytesIO(response.content))"
   ]
  },
  {
   "cell_type": "code",
   "execution_count": null,
   "id": "32a2e332",
   "metadata": {},
   "outputs": [],
   "source": [
    "# we can define a HTML parser\n",
    "parser = etree.HTMLParser()"
   ]
  },
  {
   "cell_type": "code",
   "execution_count": null,
   "id": "19323b71",
   "metadata": {},
   "outputs": [],
   "source": [
    "html_tree = etree.parse(BytesIO(response.content), parser)"
   ]
  },
  {
   "cell_type": "code",
   "execution_count": null,
   "id": "f540a763",
   "metadata": {},
   "outputs": [],
   "source": [
    "html_tree"
   ]
  },
  {
   "cell_type": "code",
   "execution_count": null,
   "id": "617c287b",
   "metadata": {},
   "outputs": [],
   "source": [
    "html_root = html_tree.getroot()"
   ]
  },
  {
   "cell_type": "code",
   "execution_count": null,
   "id": "c72cb666",
   "metadata": {},
   "outputs": [],
   "source": [
    "len(html_root)"
   ]
  },
  {
   "cell_type": "code",
   "execution_count": null,
   "id": "ac313c40",
   "metadata": {},
   "outputs": [],
   "source": [
    "for el in html_root: print(el.tag)"
   ]
  },
  {
   "cell_type": "code",
   "execution_count": null,
   "id": "fe5f577a",
   "metadata": {},
   "outputs": [],
   "source": [
    "print(etree.tostring(el[0],method='text',encoding='unicode'))"
   ]
  },
  {
   "cell_type": "markdown",
   "id": "39a9ef3b",
   "metadata": {},
   "source": [
    "## Navigating HTML tags"
   ]
  },
  {
   "cell_type": "markdown",
   "id": "37d6637d",
   "metadata": {},
   "source": [
    "[Popular HTML tags](http://www.columbia.edu/~sss31/html/html-tags.html)."
   ]
  },
  {
   "cell_type": "code",
   "execution_count": null,
   "id": "6a864f44",
   "metadata": {},
   "outputs": [],
   "source": [
    "headings = html_root[1].xpath('.//h2'); len(headings)"
   ]
  },
  {
   "cell_type": "code",
   "execution_count": null,
   "id": "fcaebed8",
   "metadata": {},
   "outputs": [],
   "source": [
    "for heading in headings: print(etree.tostring(heading,method='text',encoding='unicode'))"
   ]
  },
  {
   "cell_type": "markdown",
   "id": "95c30225",
   "metadata": {},
   "source": [
    "### Mining links"
   ]
  },
  {
   "cell_type": "code",
   "execution_count": null,
   "id": "d3c72c44",
   "metadata": {},
   "outputs": [],
   "source": [
    "links = html_root[1].xpath('.//a'); len(links)"
   ]
  },
  {
   "cell_type": "code",
   "execution_count": null,
   "id": "3692c16a",
   "metadata": {},
   "outputs": [],
   "source": [
    "# links to images\n",
    "links[1].attrib"
   ]
  },
  {
   "cell_type": "code",
   "execution_count": null,
   "id": "0bc4d2a2",
   "metadata": {},
   "outputs": [],
   "source": [
    "# links to other parts of the document\n",
    "links[10].attrib"
   ]
  },
  {
   "cell_type": "code",
   "execution_count": null,
   "id": "9ee6b295",
   "metadata": {},
   "outputs": [],
   "source": [
    "# anchor text\n",
    "links[10].text"
   ]
  },
  {
   "cell_type": "code",
   "execution_count": null,
   "id": "46069948",
   "metadata": {},
   "outputs": [],
   "source": [
    "hrefs = html_root[1].xpath('.//a/@href'); len(hrefs)"
   ]
  },
  {
   "cell_type": "code",
   "execution_count": null,
   "id": "24d2e590",
   "metadata": {},
   "outputs": [],
   "source": [
    "hrefs"
   ]
  },
  {
   "cell_type": "markdown",
   "id": "d857e969",
   "metadata": {},
   "source": [
    "## Handling images"
   ]
  },
  {
   "cell_type": "code",
   "execution_count": null,
   "id": "1e123feb",
   "metadata": {},
   "outputs": [],
   "source": [
    "base_url = 'https://ia800908.us.archive.org/6/items/alicesadventures19033gut/19033-h'\n",
    "base_url + '/' + hrefs[0]"
   ]
  },
  {
   "cell_type": "code",
   "execution_count": null,
   "id": "63a06814",
   "metadata": {},
   "outputs": [],
   "source": [
    "img = requests.get(base_url + '/' + hrefs[0])"
   ]
  },
  {
   "cell_type": "code",
   "execution_count": null,
   "id": "0050f351",
   "metadata": {},
   "outputs": [],
   "source": [
    "img.content"
   ]
  },
  {
   "cell_type": "code",
   "execution_count": null,
   "id": "5c312fba",
   "metadata": {},
   "outputs": [],
   "source": [
    "from IPython.display import Image\n",
    "Image(img.content)"
   ]
  },
  {
   "cell_type": "code",
   "execution_count": null,
   "id": "6a11399a",
   "metadata": {},
   "outputs": [],
   "source": [
    "with open('../../cover.jpg','wb') as handler:\n",
    "    handler.write(img.content)"
   ]
  },
  {
   "cell_type": "markdown",
   "id": "7bf9bb75",
   "metadata": {},
   "source": [
    "## ✏️ Open Exercise: Comparing Online Newspapers\n",
    "\n",
    "- Build a program that retrieves anchor text from the landing of page of the Guardian (and another paper, which you are free to choose)\n",
    "- For each newspaper, collect all anchor text in one variable (or document)\n",
    "- Compute word frequencies for each newspaper"
   ]
  },
  {
   "cell_type": "code",
   "execution_count": null,
   "id": "d1fc13b1",
   "metadata": {},
   "outputs": [],
   "source": [
    "# enter your code here"
   ]
  },
  {
   "cell_type": "markdown",
   "id": "2dfdc0d3",
   "metadata": {},
   "source": [
    "# Fin."
   ]
  }
 ],
 "metadata": {
  "kernelspec": {
   "display_name": "torch_geo",
   "language": "python",
   "name": "torch_geo"
  },
  "language_info": {
   "codemirror_mode": {
    "name": "ipython",
    "version": 3
   },
   "file_extension": ".py",
   "mimetype": "text/x-python",
   "name": "python",
   "nbconvert_exporter": "python",
   "pygments_lexer": "ipython3",
   "version": "3.9.12"
  }
 },
 "nbformat": 4,
 "nbformat_minor": 5
}
