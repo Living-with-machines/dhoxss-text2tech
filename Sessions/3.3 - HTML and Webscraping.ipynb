{
 "cells": [
  {
   "cell_type": "markdown",
   "id": "a56e4650",
   "metadata": {},
   "source": [
    "# HTML vs XML\n",
    "\n",
    "- Both HTML and XML are markup languages\n",
    "  - HyperText Markup Language\n",
    "    - Hypertext: text with links (hyperlinks) to other text\n",
    "  - eXtensible Markup Language\n"
   ]
  },
  {
   "cell_type": "markdown",
   "id": "f40541c0",
   "metadata": {},
   "source": [
    "Example from [W3](https://www.w3schools.com/html/tryit.asp?filename=tryhtml_basic_document)"
   ]
  },
  {
   "cell_type": "markdown",
   "id": "257df351",
   "metadata": {},
   "source": [
    "<!DOCTYPE html>\n",
    "<html>\n",
    "<body>\n",
    "\n",
    "<h1>My First Heading</h1>\n",
    "\n",
    "<p>My first paragraph.</p>\n",
    "\n",
    "</body>\n",
    "</html>\n"
   ]
  },
  {
   "cell_type": "markdown",
   "id": "1f49c1c8",
   "metadata": {},
   "source": [
    "- HTML contains a fixed set of tags (not eXtensible) (XML is a framework for defining markup languages whereas HTML is a markup language)\n",
    "- HTML focusses on displaying instead of describing data (semantically less interesting)\n",
    "- HTML allows small syntactic errors (XML is very unforgiving)\n"
   ]
  },
  {
   "cell_type": "markdown",
   "id": "46a1d84e",
   "metadata": {},
   "source": [
    "Most importantly, if you know XML, you are ready work with HTML\n",
    "\n",
    "Today, practical advice on downloading, parsing and navigating HTML documents from the web."
   ]
  },
  {
   "cell_type": "markdown",
   "id": "bc3b7806",
   "metadata": {},
   "source": [
    "# Accessing content with requests"
   ]
  },
  {
   "cell_type": "code",
   "execution_count": null,
   "id": "e112c978",
   "metadata": {},
   "outputs": [],
   "source": [
    "import requests"
   ]
  },
  {
   "cell_type": "code",
   "execution_count": null,
   "id": "969bff22",
   "metadata": {},
   "outputs": [],
   "source": [
    "url = 'https://ia800908.us.archive.org/6/items/alicesadventures19033gut/19033-h/19033-h.htm'"
   ]
  },
  {
   "cell_type": "code",
   "execution_count": null,
   "id": "e218c65d",
   "metadata": {},
   "outputs": [],
   "source": [
    "response = requests.get(url)"
   ]
  },
  {
   "cell_type": "markdown",
   "id": "29b8304f",
   "metadata": {},
   "source": [
    "## Inspecting HTML"
   ]
  },
  {
   "cell_type": "code",
   "execution_count": null,
   "id": "66ead02a",
   "metadata": {},
   "outputs": [],
   "source": [
    "# response codes indicate i HTTP request was completed successfully\n",
    "response"
   ]
  },
  {
   "cell_type": "markdown",
   "id": "a4d71ba8",
   "metadata": {},
   "source": [
    "List of response codes is available [here](https://developer.mozilla.org/en-US/docs/Web/HTTP/Status)"
   ]
  },
  {
   "cell_type": "markdown",
   "id": "ee636a16",
   "metadata": {},
   "source": [
    "- HTML often more difficult to navigate and query then XML (\"dirtier/complex\")\n",
    "    - Example of the [The Guardian](https://www.theguardian.com/uk)\n",
    "- HTML not always syntactically well-formed (parsers needs to be more forgiven"
   ]
  },
  {
   "cell_type": "markdown",
   "id": "ad0c2e26",
   "metadata": {},
   "source": [
    "Inspecting the HTML underlying [\"Alice in Wonderland\"](https://ia800908.us.archive.org/6/items/alicesadventures19033gut/19033-h/19033-h.htm)."
   ]
  },
  {
   "cell_type": "code",
   "execution_count": null,
   "id": "69c6a2ab",
   "metadata": {},
   "outputs": [],
   "source": [
    "response.content"
   ]
  },
  {
   "cell_type": "code",
   "execution_count": null,
   "id": "18017446",
   "metadata": {},
   "outputs": [],
   "source": [
    "type(response.content)"
   ]
  },
  {
   "cell_type": "markdown",
   "id": "473ee711",
   "metadata": {},
   "source": [
    "## Parsing HTML"
   ]
  },
  {
   "cell_type": "code",
   "execution_count": null,
   "id": "e3d27646",
   "metadata": {},
   "outputs": [],
   "source": [
    "from lxml import etree\n",
    "from io import StringIO, BytesIO"
   ]
  },
  {
   "cell_type": "code",
   "execution_count": null,
   "id": "575f4167",
   "metadata": {},
   "outputs": [],
   "source": [
    "# parsin HTML as an XML document often yields an error\n",
    "tree = etree.parse(BytesIO(response.content))"
   ]
  },
  {
   "cell_type": "code",
   "execution_count": null,
   "id": "da26c879",
   "metadata": {},
   "outputs": [],
   "source": [
    "# we can define a HTML parser\n",
    "parser = etree.HTMLParser()"
   ]
  },
  {
   "cell_type": "code",
   "execution_count": null,
   "id": "2ce22bec",
   "metadata": {},
   "outputs": [],
   "source": [
    "html_tree = etree.parse(BytesIO(response.content), parser)"
   ]
  },
  {
   "cell_type": "code",
   "execution_count": null,
   "id": "0a14dd8c",
   "metadata": {},
   "outputs": [],
   "source": [
    "html_tree"
   ]
  },
  {
   "cell_type": "code",
   "execution_count": null,
   "id": "1971da9d",
   "metadata": {},
   "outputs": [],
   "source": [
    "html_root = html_tree.getroot()"
   ]
  },
  {
   "cell_type": "code",
   "execution_count": null,
   "id": "cfc10def",
   "metadata": {},
   "outputs": [],
   "source": [
    "len(html_root)"
   ]
  },
  {
   "cell_type": "code",
   "execution_count": null,
   "id": "60433393",
   "metadata": {},
   "outputs": [],
   "source": [
    "for el in html_root: print(el.tag)"
   ]
  },
  {
   "cell_type": "code",
   "execution_count": null,
   "id": "d1bf2758",
   "metadata": {},
   "outputs": [],
   "source": [
    "print(etree.tostring(el[0],method='text',encoding='unicode'))"
   ]
  },
  {
   "cell_type": "markdown",
   "id": "76ac040a",
   "metadata": {},
   "source": [
    "## Navigating HTML tags"
   ]
  },
  {
   "cell_type": "markdown",
   "id": "ede17261",
   "metadata": {},
   "source": [
    "[Popular HTML tags](http://www.columbia.edu/~sss31/html/html-tags.html)."
   ]
  },
  {
   "cell_type": "code",
   "execution_count": null,
   "id": "d27cce32",
   "metadata": {},
   "outputs": [],
   "source": [
    "headings = html_root[1].xpath('.//h2'); len(headings)"
   ]
  },
  {
   "cell_type": "code",
   "execution_count": null,
   "id": "fa8b7838",
   "metadata": {},
   "outputs": [],
   "source": [
    "for heading in headings: print(etree.tostring(heading,method='text',encoding='unicode'))"
   ]
  },
  {
   "cell_type": "markdown",
   "id": "fc9f75b9",
   "metadata": {},
   "source": [
    "### Mining links"
   ]
  },
  {
   "cell_type": "code",
   "execution_count": null,
   "id": "041fe6ea",
   "metadata": {},
   "outputs": [],
   "source": [
    "links = html_root[1].xpath('.//a'); len(links)"
   ]
  },
  {
   "cell_type": "code",
   "execution_count": null,
   "id": "1c62f7b2",
   "metadata": {},
   "outputs": [],
   "source": [
    "# links to images\n",
    "links[1].attrib"
   ]
  },
  {
   "cell_type": "code",
   "execution_count": null,
   "id": "30b33a8b",
   "metadata": {},
   "outputs": [],
   "source": [
    "# links to other parts of the document\n",
    "links[10].attrib"
   ]
  },
  {
   "cell_type": "code",
   "execution_count": null,
   "id": "c7eb6c2e",
   "metadata": {},
   "outputs": [],
   "source": [
    "# anchor text\n",
    "links[10].text"
   ]
  },
  {
   "cell_type": "code",
   "execution_count": null,
   "id": "17d944f9",
   "metadata": {},
   "outputs": [],
   "source": [
    "hrefs = html_root[1].xpath('.//a/@href'); len(hrefs)"
   ]
  },
  {
   "cell_type": "code",
   "execution_count": null,
   "id": "78316027",
   "metadata": {},
   "outputs": [],
   "source": [
    "hrefs"
   ]
  },
  {
   "cell_type": "markdown",
   "id": "54fd0f4b",
   "metadata": {},
   "source": [
    "## Handling images"
   ]
  },
  {
   "cell_type": "code",
   "execution_count": null,
   "id": "4a1890cf",
   "metadata": {},
   "outputs": [],
   "source": [
    "base_url = 'https://ia800908.us.archive.org/6/items/alicesadventures19033gut/19033-h'\n",
    "base_url + '/' + hrefs[0]"
   ]
  },
  {
   "cell_type": "code",
   "execution_count": null,
   "id": "942de999",
   "metadata": {},
   "outputs": [],
   "source": [
    "img = requests.get(base_url + '/' + hrefs[0])"
   ]
  },
  {
   "cell_type": "code",
   "execution_count": null,
   "id": "6a8389e3",
   "metadata": {},
   "outputs": [],
   "source": [
    "img.content"
   ]
  },
  {
   "cell_type": "code",
   "execution_count": null,
   "id": "fff90c4b",
   "metadata": {},
   "outputs": [],
   "source": [
    "from IPython.display import Image\n",
    "Image(img.content)"
   ]
  },
  {
   "cell_type": "code",
   "execution_count": null,
   "id": "17b71c96",
   "metadata": {},
   "outputs": [],
   "source": [
    "with open('../../cover.jpg','wb') as handler:\n",
    "    handler.write(img.content)"
   ]
  },
  {
   "cell_type": "markdown",
   "id": "35da0a37",
   "metadata": {},
   "source": [
    "## ✏️ Open Exercise: Comparing Online Newspapers\n",
    "\n",
    "- Build a program that retrieves anchor text from the landing of page of the Guardian (and another paper, which you are free to choose)\n",
    "- For each newspaper, collect all anchor text in one variable (or document)\n",
    "- Compute word frequencies for each newspaper"
   ]
  },
  {
   "cell_type": "code",
   "execution_count": null,
   "id": "a448359e",
   "metadata": {},
   "outputs": [],
   "source": [
    "# enter your code here"
   ]
  },
  {
   "cell_type": "markdown",
   "id": "f1dcbca1",
   "metadata": {},
   "source": [
    "# Fin."
   ]
  }
 ],
 "metadata": {
  "kernelspec": {
   "display_name": "torch_geo",
   "language": "python",
   "name": "torch_geo"
  },
  "language_info": {
   "codemirror_mode": {
    "name": "ipython",
    "version": 3
   },
   "file_extension": ".py",
   "mimetype": "text/x-python",
   "name": "python",
   "nbconvert_exporter": "python",
   "pygments_lexer": "ipython3",
   "version": "3.9.12"
  }
 },
 "nbformat": 4,
 "nbformat_minor": 5
}
