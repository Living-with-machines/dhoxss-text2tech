{
 "cells": [
  {
   "cell_type": "markdown",
   "id": "3658e4a6",
   "metadata": {
    "colab_type": "text",
    "id": "uHR_1SVWbZkq",
    "slideshow": {
     "slide_type": "slide"
    }
   },
   "source": [
    "# Data structures: lists, sets, and tuples"
   ]
  },
  {
   "cell_type": "markdown",
   "id": "192baf64",
   "metadata": {
    "colab_type": "text",
    "id": "MTEvUw3ebZkr",
    "slideshow": {
     "slide_type": "slide"
    }
   },
   "source": [
    "## Lists\n",
    "\n",
    "Lists are sequences of comma-separated elements. Lists can contain:\n",
    "* Strings: _[\"one\", \"two\", \"three\"]_\n",
    "* Numbers: _[1, 2, 3]_\n",
    "* Booleans: _[True, True, False]_\n",
    "* Other lists!: _[[1, 2, 3], [2, 3, 4], [3, 4, 5]]_\n",
    "* A combination!: _[\"one\", \"two\", 3, False, [3, 4, 5]]_"
   ]
  },
  {
   "cell_type": "markdown",
   "id": "5cc51864",
   "metadata": {
    "slideshow": {
     "slide_type": "slide"
    }
   },
   "source": [
    "In lists, the order of the elements matters. We count elements:\n",
    "* From left to right.\n",
    "* Starting with 0.\n",
    "\n",
    "Lists are mutable (=changeable): items in them can be changed, added, deleted...\n",
    "\n",
    "Lists are enclosed in square brackets."
   ]
  },
  {
   "cell_type": "markdown",
   "id": "dbd5893b",
   "metadata": {
    "colab_type": "text",
    "id": "_GNloz2KbZkr",
    "slideshow": {
     "slide_type": "slide"
    }
   },
   "source": [
    "Example:"
   ]
  },
  {
   "cell_type": "code",
   "execution_count": null,
   "id": "7a2fab9d",
   "metadata": {
    "colab": {},
    "colab_type": "code",
    "id": "MnM-oGUTbZks",
    "slideshow": {
     "slide_type": "fragment"
    }
   },
   "outputs": [],
   "source": [
    "continents = [\"Europe\", \"Africa\", \"Asia\", \"America\", \"Oceania\", \"Antarctica\"]\n",
    "print(continents)"
   ]
  },
  {
   "cell_type": "code",
   "execution_count": null,
   "id": "18ba4d04",
   "metadata": {
    "colab": {},
    "colab_type": "code",
    "id": "5KnRCWQvbZku",
    "slideshow": {
     "slide_type": "fragment"
    }
   },
   "outputs": [],
   "source": [
    "print(type(continents))"
   ]
  },
  {
   "cell_type": "markdown",
   "id": "0088bc19",
   "metadata": {
    "colab_type": "text",
    "id": "C6ngTcfDbZkw",
    "slideshow": {
     "slide_type": "slide"
    }
   },
   "source": [
    "### Length of a list\n",
    "Function `len()` returns the length of a list (how many elements it contains)."
   ]
  },
  {
   "cell_type": "code",
   "execution_count": null,
   "id": "a7a2cb0e",
   "metadata": {
    "colab": {},
    "colab_type": "code",
    "id": "y_H7nrP5bZkx",
    "slideshow": {
     "slide_type": "fragment"
    }
   },
   "outputs": [],
   "source": [
    "# Find the length of the list:\n",
    "continents = [\"Europe\", \"Africa\", \"Asia\", \"America\", \"Oceania\", \"Antarctica\"]\n",
    "print(len(continents))"
   ]
  },
  {
   "cell_type": "markdown",
   "id": "002e9a7b",
   "metadata": {
    "colab_type": "text",
    "id": "tWapjwXEbZky",
    "slideshow": {
     "slide_type": "slide"
    }
   },
   "source": [
    "### Accessing list elements through index\n",
    "\n",
    "... starting with 0!:"
   ]
  },
  {
   "cell_type": "code",
   "execution_count": null,
   "id": "f514cb18",
   "metadata": {
    "colab": {},
    "colab_type": "code",
    "id": "3BFGE82SbZkz",
    "slideshow": {
     "slide_type": "fragment"
    }
   },
   "outputs": [],
   "source": [
    "print(continents[3])"
   ]
  },
  {
   "cell_type": "markdown",
   "id": "5cf7d202",
   "metadata": {
    "colab_type": "text",
    "id": "amKpVPIEbZk1",
    "slideshow": {
     "slide_type": "slide"
    }
   },
   "source": [
    "✏️ **Exercise:**"
   ]
  },
  {
   "cell_type": "code",
   "execution_count": null,
   "id": "7a9c1ac0",
   "metadata": {
    "colab": {},
    "colab_type": "code",
    "id": "5lXiJKoGcT63",
    "slideshow": {
     "slide_type": "fragment"
    }
   },
   "outputs": [],
   "source": [
    "# Given the list of continents above, use the index to return \"Oceania\".\n",
    "#\n",
    "# Type your code here:\n",
    "\n"
   ]
  },
  {
   "cell_type": "markdown",
   "id": "3e28664e",
   "metadata": {
    "colab_type": "text",
    "id": "drMVaPnLbZk2",
    "slideshow": {
     "slide_type": "slide"
    }
   },
   "source": [
    "### Removing an element from a list\n",
    "\n",
    "Removing an element from a list:"
   ]
  },
  {
   "cell_type": "code",
   "execution_count": null,
   "id": "477586c0",
   "metadata": {
    "colab": {
     "base_uri": "https://localhost:8080/",
     "height": 68
    },
    "colab_type": "code",
    "id": "xOgCl7ZcbZk2",
    "outputId": "530cdd74-a76f-448c-ff38-aa981c5ce680",
    "slideshow": {
     "slide_type": "fragment"
    }
   },
   "outputs": [],
   "source": [
    "# Remove first matching value:\n",
    "continents = [\"Europe\", \"Africa\", \"Asia\", \"America\", \"Oceania\", \"Antarctica\"]\n",
    "continents.remove(\"America\")\n",
    "print(continents)"
   ]
  },
  {
   "cell_type": "markdown",
   "id": "71eedb3f",
   "metadata": {
    "slideshow": {
     "slide_type": "fragment"
    }
   },
   "source": [
    "⚠️ The `remove()` function works **in-place**, meaning that the content of the variable is directly changed."
   ]
  },
  {
   "cell_type": "markdown",
   "id": "3ec407ba",
   "metadata": {
    "colab_type": "text",
    "id": "Ao15z7ePbZk4",
    "slideshow": {
     "slide_type": "slide"
    }
   },
   "source": [
    "### Adding elements to a list\n",
    "Add **one** element to a list with ```.append()```. This is again an **in-place** function:"
   ]
  },
  {
   "cell_type": "code",
   "execution_count": null,
   "id": "226f7c4b",
   "metadata": {
    "colab": {},
    "colab_type": "code",
    "id": "dJFzKDsAbZk5",
    "slideshow": {
     "slide_type": "fragment"
    }
   },
   "outputs": [],
   "source": [
    "continents = [\"Europe\", \"Africa\", \"Asia\", \"Oceania\", \"Antarctica\"]\n",
    "continents.append(\"North America\")\n",
    "continents.append(\"South America\")\n",
    "print(continents)"
   ]
  },
  {
   "cell_type": "markdown",
   "id": "4a26bc8f",
   "metadata": {
    "colab_type": "text",
    "id": "-M-N5N7_bZk8",
    "slideshow": {
     "slide_type": "slide"
    }
   },
   "source": [
    "Add **more than one** element to a list. In other words, expand a list with the contents of another list (not-in-place):"
   ]
  },
  {
   "cell_type": "code",
   "execution_count": null,
   "id": "e4840d1a",
   "metadata": {
    "colab": {
     "base_uri": "https://localhost:8080/",
     "height": 34
    },
    "colab_type": "code",
    "id": "YBZoJGuJbZk8",
    "outputId": "b42f10ea-71ad-4312-d776-ccc7c36b333d",
    "slideshow": {
     "slide_type": "fragment"
    }
   },
   "outputs": [],
   "source": [
    "continents = [\"Europe\", \"Africa\", \"Asia\", \"Oceania\", \"Antarctica\"]\n",
    "continents = continents + [\"North America\", \"South America\"]\n",
    "print(continents)"
   ]
  },
  {
   "cell_type": "markdown",
   "id": "f4dc9044",
   "metadata": {
    "colab_type": "text",
    "id": "FXRAFxHJR2Ns",
    "slideshow": {
     "slide_type": "slide"
    }
   },
   "source": [
    "**Tip:** The following two blocks of code do exactly the same:"
   ]
  },
  {
   "cell_type": "code",
   "execution_count": null,
   "id": "86ed83ac",
   "metadata": {
    "colab": {},
    "colab_type": "code",
    "id": "7xFin13JSVdp",
    "slideshow": {
     "slide_type": "fragment"
    }
   },
   "outputs": [],
   "source": [
    "# Block 1:\n",
    "continents = [\"Europe\", \"Africa\", \"Asia\", \"Oceania\", \"Antarctica\"]\n",
    "continents = continents + [\"North America\", \"South America\"]\n",
    "\n",
    "# Block 2:\n",
    "continents = [\"Europe\", \"Africa\", \"Asia\", \"Oceania\", \"Antarctica\"]\n",
    "continents += [\"North America\", \"South America\"]"
   ]
  },
  {
   "cell_type": "markdown",
   "id": "deec4230",
   "metadata": {
    "colab_type": "text",
    "id": "0DRJMnOrbZk_",
    "slideshow": {
     "slide_type": "slide"
    }
   },
   "source": [
    "### Checking presence of elements in list\n",
    "Check if **an element is (or is not) in list**, using the ```in``` (or ```not in```) operator:"
   ]
  },
  {
   "cell_type": "code",
   "execution_count": null,
   "id": "c1ce3964",
   "metadata": {
    "colab": {},
    "colab_type": "code",
    "id": "x4c-3u9lbZlA",
    "slideshow": {
     "slide_type": "fragment"
    }
   },
   "outputs": [],
   "source": [
    "continents = [\"Europe\", \"Africa\", \"Asia\", \"America\", \"Oceania\", \"Antarctica\"]\n",
    "query = \"Europe\""
   ]
  },
  {
   "cell_type": "code",
   "execution_count": null,
   "id": "c20b5786",
   "metadata": {
    "slideshow": {
     "slide_type": "fragment"
    }
   },
   "outputs": [],
   "source": [
    "print(query in continents)"
   ]
  },
  {
   "cell_type": "code",
   "execution_count": null,
   "id": "9a3dfe38",
   "metadata": {
    "colab": {},
    "colab_type": "code",
    "id": "l2yekVNebZlC",
    "slideshow": {
     "slide_type": "slide"
    }
   },
   "outputs": [],
   "source": [
    "if query in continents:\n",
    "    print(query + \" is a continent!\")\n",
    "else:\n",
    "    print(query + \" is not a continent!\")"
   ]
  },
  {
   "cell_type": "markdown",
   "id": "270e90e0",
   "metadata": {
    "colab_type": "text",
    "id": "7hkgTqu7bZlE",
    "slideshow": {
     "slide_type": "slide"
    }
   },
   "source": [
    "### Iterating over elements of a list\n",
    "We can iterate over the elements of a list, to see and process one element at a time:"
   ]
  },
  {
   "cell_type": "code",
   "execution_count": null,
   "id": "9a23c6b8",
   "metadata": {
    "colab": {},
    "colab_type": "code",
    "id": "osrOS-66bZlE",
    "slideshow": {
     "slide_type": "fragment"
    }
   },
   "outputs": [],
   "source": [
    "continents = [\"Europe\", \"Africa\", \"Asia\", \"North America\", \"South America\", \"Oceania\", \"Antarctica\"]\n",
    "for continent in continents:\n",
    "    print(continent)"
   ]
  },
  {
   "cell_type": "markdown",
   "id": "05be88cb",
   "metadata": {
    "colab_type": "text",
    "id": "yqM12Xq2bZlG",
    "slideshow": {
     "slide_type": "slide"
    }
   },
   "source": [
    "✏️ **Exercises:** Iterating over the elements of a list allows us to process them individually."
   ]
  },
  {
   "cell_type": "code",
   "execution_count": null,
   "id": "b4e28a52",
   "metadata": {
    "colab": {},
    "colab_type": "code",
    "id": "lSx-3Jb0c6bI",
    "slideshow": {
     "slide_type": "fragment"
    }
   },
   "outputs": [],
   "source": [
    "# Print only continents whose name starts with an 'A'.\n",
    "#\n",
    "# Type your code here:\n",
    "\n"
   ]
  },
  {
   "cell_type": "code",
   "execution_count": null,
   "id": "8091faa3",
   "metadata": {
    "colab": {},
    "colab_type": "code",
    "id": "KRekWLn0dBAB",
    "slideshow": {
     "slide_type": "slide"
    }
   },
   "outputs": [],
   "source": [
    "# Print only continents whose name ends with an 'a'.\n",
    "#\n",
    "# Type your code here:\n",
    "\n"
   ]
  },
  {
   "cell_type": "code",
   "execution_count": null,
   "id": "466eb1a2",
   "metadata": {
    "colab": {},
    "colab_type": "code",
    "id": "LMwet4GTdFrq",
    "slideshow": {
     "slide_type": "slide"
    }
   },
   "outputs": [],
   "source": [
    "# Print only continents whose name consists of two words.\n",
    "#\n",
    "# Type your code here:\n",
    "\n"
   ]
  },
  {
   "cell_type": "markdown",
   "id": "d646108c",
   "metadata": {
    "colab_type": "text",
    "id": "QfEgxyXmbZlG",
    "slideshow": {
     "slide_type": "slide"
    }
   },
   "source": [
    "### Sorting"
   ]
  },
  {
   "cell_type": "markdown",
   "id": "f30f3225",
   "metadata": {
    "colab_type": "text",
    "id": "Rvid1eg0dVPy",
    "slideshow": {
     "slide_type": "fragment"
    }
   },
   "source": [
    "Sort a list **in place** (modify the original list):"
   ]
  },
  {
   "cell_type": "code",
   "execution_count": null,
   "id": "948b96b5",
   "metadata": {
    "colab": {},
    "colab_type": "code",
    "id": "2p_mS-B5bZlK",
    "slideshow": {
     "slide_type": "fragment"
    }
   },
   "outputs": [],
   "source": [
    "continents = [\"Europe\", \"Africa\", \"Asia\", \"North America\", \"South America\", \"Oceania\", \"Antarctica\"]\n",
    "continents.sort()\n",
    "print(continents)"
   ]
  },
  {
   "cell_type": "markdown",
   "id": "45caac6e",
   "metadata": {
    "colab_type": "text",
    "id": "mb5Onoi6dW7Q",
    "slideshow": {
     "slide_type": "slide"
    }
   },
   "source": [
    "Sort a list **not in place** (create a new sorted list without modifying the original one):"
   ]
  },
  {
   "cell_type": "code",
   "execution_count": null,
   "id": "d7dc5531",
   "metadata": {
    "colab": {},
    "colab_type": "code",
    "id": "wPF0lY2ubZlN",
    "slideshow": {
     "slide_type": "fragment"
    }
   },
   "outputs": [],
   "source": [
    "continents = [\"Europe\", \"Africa\", \"Asia\", \"North America\", \"South America\", \"Oceania\", \"Antarctica\"]\n",
    "sorted_continents = sorted(continents)\n",
    "\n",
    "print(continents)\n",
    "print(sorted_continents)"
   ]
  },
  {
   "cell_type": "markdown",
   "id": "4d10510e",
   "metadata": {
    "colab_type": "text",
    "id": "6Gyj1NtxbZlQ",
    "slideshow": {
     "slide_type": "slide"
    }
   },
   "source": [
    "Sort in descending order, through parameter `reverse = True`"
   ]
  },
  {
   "cell_type": "code",
   "execution_count": null,
   "id": "30a463f0",
   "metadata": {
    "colab": {},
    "colab_type": "code",
    "id": "8GnOGUDabZlR",
    "slideshow": {
     "slide_type": "fragment"
    }
   },
   "outputs": [],
   "source": [
    "continents = [\"Europe\", \"Africa\", \"Asia\", \"North America\", \"South America\", \"Oceania\", \"Antarctica\"]\n",
    "continents.sort(reverse = True)\n",
    "print(continents)"
   ]
  },
  {
   "cell_type": "code",
   "execution_count": null,
   "id": "d2dc3042",
   "metadata": {
    "colab": {},
    "colab_type": "code",
    "id": "bT_g8HE2bZlT",
    "slideshow": {
     "slide_type": "fragment"
    }
   },
   "outputs": [],
   "source": [
    "continents = [\"Europe\", \"Africa\", \"Asia\", \"North America\", \"South America\", \"Oceania\", \"Antarctica\"]\n",
    "sorted_continents = sorted(continents, reverse = True)\n",
    "print(sorted_continents)"
   ]
  },
  {
   "cell_type": "markdown",
   "id": "8cecb568",
   "metadata": {
    "colab_type": "text",
    "id": "L5Bp16rDbZlV",
    "slideshow": {
     "slide_type": "slide"
    }
   },
   "source": [
    "### Updating list elements"
   ]
  },
  {
   "cell_type": "markdown",
   "id": "37da6613",
   "metadata": {
    "colab_type": "text",
    "id": "tQIU06ePbZlW",
    "slideshow": {
     "slide_type": "fragment"
    }
   },
   "source": [
    "Updating an element of the list can be done through its index.\n",
    "\n",
    "For example, let's suppose we want to change the 6th element of the following list. We can assign a new value to it like this:"
   ]
  },
  {
   "cell_type": "code",
   "execution_count": null,
   "id": "29afb6fc",
   "metadata": {
    "colab": {},
    "colab_type": "code",
    "id": "2YyFa5R_bZlW",
    "slideshow": {
     "slide_type": "fragment"
    }
   },
   "outputs": [],
   "source": [
    "continents = [\"Europe\", \"Africa\", \"Asia\", \"North America\", \"South America\", \"Oceania\", \"Antarctica\"]\n",
    "continents[5] = \"Australia\"\n",
    "\n",
    "print(continents)"
   ]
  },
  {
   "cell_type": "markdown",
   "id": "dc93fcf2",
   "metadata": {
    "slideshow": {
     "slide_type": "slide"
    }
   },
   "source": [
    "### Populate lists incrementally\n",
    "\n",
    "A very common operation is to populate a new list using a loop.\n",
    "\n",
    "For example, we have the following `list_a`, and an empty `list_b`."
   ]
  },
  {
   "cell_type": "markdown",
   "id": "7c4af988",
   "metadata": {
    "slideshow": {
     "slide_type": "slide"
    }
   },
   "source": [
    "First, we want to put in `list_b` **only those continents** that start with \"A\":"
   ]
  },
  {
   "cell_type": "code",
   "execution_count": null,
   "id": "bad7a3ed",
   "metadata": {
    "slideshow": {
     "slide_type": "fragment"
    }
   },
   "outputs": [],
   "source": [
    "list_a = [\"Europe\", \"Africa\", \"Asia\", \"North America\", \"South America\", \"Oceania\", \"Antarctica\"]\n",
    "list_b = []\n",
    "\n",
    "for continent in list_a:\n",
    "    if continent.startswith(\"A\"):\n",
    "        list_b.append(continent)\n",
    "        \n",
    "print(list_b)"
   ]
  },
  {
   "cell_type": "markdown",
   "id": "bf5ff4bc",
   "metadata": {
    "slideshow": {
     "slide_type": "slide"
    }
   },
   "source": [
    "### List comprehensions"
   ]
  },
  {
   "cell_type": "markdown",
   "id": "44d31b50",
   "metadata": {
    "slideshow": {
     "slide_type": "fragment"
    }
   },
   "source": [
    "There is a more condensed way of doing this that we have just seen: to create a new list based on the values of an existing list.\n",
    "\n",
    "This is the syntax: \n",
    "\n",
    "`newlist = [expression for item in oldlist if condition == True]`"
   ]
  },
  {
   "cell_type": "markdown",
   "id": "7391a6ca",
   "metadata": {
    "slideshow": {
     "slide_type": "slide"
    }
   },
   "source": [
    "Now with our example:"
   ]
  },
  {
   "cell_type": "code",
   "execution_count": null,
   "id": "4ec33c3b",
   "metadata": {
    "slideshow": {
     "slide_type": "fragment"
    }
   },
   "outputs": [],
   "source": [
    "list_b = [continent for continent in list_a if continent.startswith(\"A\")]\n",
    "print(list_b)"
   ]
  },
  {
   "cell_type": "markdown",
   "id": "c45e843a",
   "metadata": {
    "slideshow": {
     "slide_type": "slide"
    }
   },
   "source": [
    "✏️ **Exercise:**"
   ]
  },
  {
   "cell_type": "code",
   "execution_count": null,
   "id": "f79e480e",
   "metadata": {
    "slideshow": {
     "slide_type": "fragment"
    }
   },
   "outputs": [],
   "source": [
    "# Create a list that is a range of numbers between 0 and 100. Iterate over\n",
    "# the items in the range and create a new list that contains only the numbers\n",
    "# that are divisible by 3:\n",
    "# \n",
    "# Tip: the modulo operator (%) is used to see if an element is divisible by\n",
    "# another number. The modulo operator returns the remainder portion of a\n",
    "# division operation. For example, 24%3 is 0, because if you divide 24 by\n",
    "# 3 you get 8, and the remainder is 0. On the other hang, 25%3 is 1, because\n",
    "# the remainder of the division is 1.\n",
    "\n",
    "# Type your code here:\n",
    "\n"
   ]
  },
  {
   "cell_type": "markdown",
   "id": "a6e59233",
   "metadata": {
    "colab_type": "text",
    "id": "_KM5KRrhbZlY",
    "slideshow": {
     "slide_type": "slide"
    }
   },
   "source": [
    "## Sets"
   ]
  },
  {
   "cell_type": "markdown",
   "id": "b59f402d",
   "metadata": {
    "colab_type": "text",
    "id": "okx4DibKbZlY",
    "slideshow": {
     "slide_type": "fragment"
    }
   },
   "source": [
    "Like lists, sets are sequences of comma-separated elements. Unlike lists, sets contain only **unique elements** and are **unordered**.\n",
    "\n",
    "Sets are enclosed in curly brackets."
   ]
  },
  {
   "cell_type": "code",
   "execution_count": null,
   "id": "eca899d7",
   "metadata": {
    "colab": {},
    "colab_type": "code",
    "id": "kftX-tklbZlZ",
    "slideshow": {
     "slide_type": "slide"
    }
   },
   "outputs": [],
   "source": [
    "continents = [\"Europe\", \"Africa\", \"Asia\", \"America\", \"Oceania\", \"Antarctica\"]\n",
    "print(continents)\n",
    "print(type(continents))"
   ]
  },
  {
   "cell_type": "code",
   "execution_count": null,
   "id": "2f1bd19b",
   "metadata": {
    "slideshow": {
     "slide_type": "fragment"
    }
   },
   "outputs": [],
   "source": [
    "continents = {\"Europe\", \"Africa\", \"Asia\", \"America\", \"Oceania\", \"Antarctica\"}\n",
    "print(continents)\n",
    "print(type(continents))"
   ]
  },
  {
   "cell_type": "markdown",
   "id": "f550c458",
   "metadata": {
    "colab_type": "text",
    "id": "tvFTCm2tbZlb",
    "slideshow": {
     "slide_type": "slide"
    }
   },
   "source": [
    "**Tip:** Sets are useful to remove duplicates from lists, if you don't care about the order of the elements in the list. You usually convert the list into a set, and back to a list.\n",
    "\n",
    "Sets can be converted from lists, and viceversa, with the following methods:"
   ]
  },
  {
   "cell_type": "code",
   "execution_count": null,
   "id": "bc84e996",
   "metadata": {
    "colab": {},
    "colab_type": "code",
    "id": "05YkBUjQVBoW",
    "slideshow": {
     "slide_type": "fragment"
    }
   },
   "outputs": [],
   "source": [
    "convertingStructures = {2, 3, 1, 4}\n",
    "convertingStructures = list(convertingStructures)\n",
    "convertingStructures = set(convertingStructures)\n",
    "print(convertingStructures)\n",
    "print(type(convertingStructures))"
   ]
  },
  {
   "cell_type": "markdown",
   "id": "26166df0",
   "metadata": {
    "colab_type": "text",
    "id": "0p5xfOJCbZlc",
    "slideshow": {
     "slide_type": "slide"
    }
   },
   "source": [
    "✏️ **Exercise:**"
   ]
  },
  {
   "cell_type": "code",
   "execution_count": null,
   "id": "8dd58eed",
   "metadata": {
    "colab": {},
    "colab_type": "code",
    "id": "DuVdZ7_rlMWp",
    "slideshow": {
     "slide_type": "fragment"
    }
   },
   "outputs": [],
   "source": [
    "# Add duplicates in the `continents` list, and then convert it to a set, and\n",
    "# convert it back into a list. What is the output? Try adding duplicates\n",
    "# ignoring case too, what happens?\n",
    "# \n",
    "# Type your code here:\n",
    "\n"
   ]
  },
  {
   "cell_type": "markdown",
   "id": "95598ef5",
   "metadata": {
    "colab_type": "text",
    "id": "jXfBglP6bZld",
    "slideshow": {
     "slide_type": "slide"
    }
   },
   "source": [
    "## Tuples\n",
    "Like lists and sets, tuples are sequences of comma-separated elements. But unlike lists and sets, they are **immutable**, and therefore you **won't be able to**:\n",
    "* update values\n",
    "* remove values\n",
    "* add new values"
   ]
  },
  {
   "cell_type": "markdown",
   "id": "8183b101",
   "metadata": {
    "slideshow": {
     "slide_type": "slide"
    }
   },
   "source": [
    "Tuples are usually enclosed in parentheses: `()` (But they don't need to!)"
   ]
  },
  {
   "cell_type": "code",
   "execution_count": null,
   "id": "cfb9db7a",
   "metadata": {
    "colab": {},
    "colab_type": "code",
    "id": "we2JYHP6bZle",
    "slideshow": {
     "slide_type": "fragment"
    }
   },
   "outputs": [],
   "source": [
    "continents = (\"Europe\", \"Africa\", \"Asia\", \"America\", \"Oceania\", \"Antarctica\")\n",
    "print(continents)\n",
    "print(type(continents))"
   ]
  },
  {
   "cell_type": "code",
   "execution_count": null,
   "id": "3e11456d",
   "metadata": {},
   "outputs": [],
   "source": []
  }
 ],
 "metadata": {
  "celltoolbar": "Slideshow",
  "kernelspec": {
   "display_name": "Python (py39)",
   "language": "python",
   "name": "py39"
  },
  "language_info": {
   "codemirror_mode": {
    "name": "ipython",
    "version": 3
   },
   "file_extension": ".py",
   "mimetype": "text/x-python",
   "name": "python",
   "nbconvert_exporter": "python",
   "pygments_lexer": "ipython3",
   "version": "3.9.12"
  }
 },
 "nbformat": 4,
 "nbformat_minor": 5
}
