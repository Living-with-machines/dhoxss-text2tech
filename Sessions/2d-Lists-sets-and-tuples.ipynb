{
 "cells": [
  {
   "cell_type": "markdown",
   "id": "302a569b",
   "metadata": {
    "colab_type": "text",
    "id": "uHR_1SVWbZkq"
   },
   "source": [
    "# Data structures: lists, sets, and tuples"
   ]
  },
  {
   "cell_type": "markdown",
   "id": "a51c455f",
   "metadata": {
    "colab_type": "text",
    "id": "MTEvUw3ebZkr"
   },
   "source": [
    "## Lists\n",
    "\n",
    "Lists are sequences of comma-separated elements. Lists can contain:\n",
    "* Strings: _[\"one\", \"two\", \"three\"]_\n",
    "* Numbers: _[1, 2, 3]_\n",
    "* Booleans: _[True, True, False]_\n",
    "* Other lists!: _[[1, 2, 3], [2, 3, 4], [3, 4, 5]]_\n",
    "* A combination!: _[\"one\", \"two\", 3, False, [3, 4, 5]]_\n",
    "\n",
    "In lists, order of the elements matters. We count elements:\n",
    "* From left to right.\n",
    "* Starting with 0.\n",
    "\n",
    "Lists are mutable (=changeable): items in them can be changed, added, deleted...\n",
    "\n",
    "Lists are enclosed in square brackets."
   ]
  },
  {
   "cell_type": "markdown",
   "id": "13b18b7a",
   "metadata": {
    "colab_type": "text",
    "id": "_GNloz2KbZkr"
   },
   "source": [
    "Example:"
   ]
  },
  {
   "cell_type": "code",
   "execution_count": null,
   "id": "66bc4e11",
   "metadata": {
    "colab": {},
    "colab_type": "code",
    "id": "MnM-oGUTbZks"
   },
   "outputs": [],
   "source": [
    "continents = [\"Europe\", \"Africa\", \"Asia\", \"America\", \"Oceania\", \"Antarctica\"]\n",
    "print(continents)"
   ]
  },
  {
   "cell_type": "code",
   "execution_count": null,
   "id": "ea20f16e",
   "metadata": {
    "colab": {},
    "colab_type": "code",
    "id": "5KnRCWQvbZku"
   },
   "outputs": [],
   "source": [
    "print(type(continents))"
   ]
  },
  {
   "cell_type": "markdown",
   "id": "b1c3c4d8",
   "metadata": {
    "colab_type": "text",
    "id": "C6ngTcfDbZkw"
   },
   "source": [
    "### Length of a list\n",
    "Function `len()` returns the length of a list (how many elements it contains)."
   ]
  },
  {
   "cell_type": "code",
   "execution_count": null,
   "id": "71c3288b",
   "metadata": {
    "colab": {},
    "colab_type": "code",
    "id": "y_H7nrP5bZkx"
   },
   "outputs": [],
   "source": [
    "# Find the length of the list:\n",
    "continents = [\"Europe\", \"Africa\", \"Asia\", \"America\", \"Oceania\", \"Antarctica\"]\n",
    "print(len(continents))"
   ]
  },
  {
   "cell_type": "markdown",
   "id": "d0e72c15",
   "metadata": {
    "colab_type": "text",
    "id": "tWapjwXEbZky"
   },
   "source": [
    "### Accessing list elements through index\n",
    "\n",
    "... starting with 0!:"
   ]
  },
  {
   "cell_type": "code",
   "execution_count": null,
   "id": "0cc575e6",
   "metadata": {
    "colab": {},
    "colab_type": "code",
    "id": "3BFGE82SbZkz"
   },
   "outputs": [],
   "source": [
    "print(continents[3])"
   ]
  },
  {
   "cell_type": "markdown",
   "id": "7d9bbf2d",
   "metadata": {
    "colab_type": "text",
    "id": "amKpVPIEbZk1"
   },
   "source": [
    "✏️ **Exercise:**"
   ]
  },
  {
   "cell_type": "code",
   "execution_count": null,
   "id": "9cbee833",
   "metadata": {
    "colab": {},
    "colab_type": "code",
    "id": "5lXiJKoGcT63"
   },
   "outputs": [],
   "source": [
    "# Given the list of continents above, use the index to return \"Oceania\".\n",
    "#\n",
    "# Type your code here:\n",
    "\n"
   ]
  },
  {
   "cell_type": "markdown",
   "id": "ad8f770e",
   "metadata": {
    "colab_type": "text",
    "id": "drMVaPnLbZk2"
   },
   "source": [
    "### Removing an element from a list\n",
    "\n",
    "Removing an element from a list:"
   ]
  },
  {
   "cell_type": "code",
   "execution_count": null,
   "id": "9a0c6f62",
   "metadata": {
    "colab": {
     "base_uri": "https://localhost:8080/",
     "height": 68
    },
    "colab_type": "code",
    "id": "xOgCl7ZcbZk2",
    "outputId": "530cdd74-a76f-448c-ff38-aa981c5ce680"
   },
   "outputs": [],
   "source": [
    "# Remove first matching value:\n",
    "continents = [\"Europe\", \"Africa\", \"Asia\", \"America\", \"Oceania\", \"Antarctica\"]\n",
    "continents.remove(\"America\")\n",
    "print(continents)"
   ]
  },
  {
   "cell_type": "markdown",
   "id": "fc59ca0a",
   "metadata": {},
   "source": [
    "⚠️ The `remove()` function works **in-place**, meaning that the content of the variable is directly changed."
   ]
  },
  {
   "cell_type": "markdown",
   "id": "cf350a7b",
   "metadata": {
    "colab_type": "text",
    "id": "Ao15z7ePbZk4"
   },
   "source": [
    "### Adding elements to a list\n",
    "Add **one** element to a list with ```.append()```. This is again an **in-place** function:"
   ]
  },
  {
   "cell_type": "code",
   "execution_count": null,
   "id": "7a94146b",
   "metadata": {
    "colab": {},
    "colab_type": "code",
    "id": "dJFzKDsAbZk5"
   },
   "outputs": [],
   "source": [
    "continents = [\"Europe\", \"Africa\", \"Asia\", \"Oceania\", \"Antarctica\"]\n",
    "continents.append(\"North America\")\n",
    "continents.append(\"South America\")\n",
    "print(continents)"
   ]
  },
  {
   "cell_type": "markdown",
   "id": "e69b2b90",
   "metadata": {
    "colab_type": "text",
    "id": "-M-N5N7_bZk8"
   },
   "source": [
    "Add **more than one** element to a list. In other words, expand a list with the contents of another list (not-in-place):"
   ]
  },
  {
   "cell_type": "code",
   "execution_count": null,
   "id": "d25cf297",
   "metadata": {
    "colab": {
     "base_uri": "https://localhost:8080/",
     "height": 34
    },
    "colab_type": "code",
    "id": "YBZoJGuJbZk8",
    "outputId": "b42f10ea-71ad-4312-d776-ccc7c36b333d"
   },
   "outputs": [],
   "source": [
    "continents = [\"Europe\", \"Africa\", \"Asia\", \"Oceania\", \"Antarctica\"]\n",
    "continents = continents + [\"North America\", \"South America\"]\n",
    "print(continents)"
   ]
  },
  {
   "cell_type": "markdown",
   "id": "fa894b90",
   "metadata": {
    "colab_type": "text",
    "id": "FXRAFxHJR2Ns"
   },
   "source": [
    "**Tip:** The following two blocks of code do exactly the same:"
   ]
  },
  {
   "cell_type": "code",
   "execution_count": null,
   "id": "fa576eba",
   "metadata": {
    "colab": {},
    "colab_type": "code",
    "id": "7xFin13JSVdp"
   },
   "outputs": [],
   "source": [
    "# Block 1:\n",
    "continents = [\"Europe\", \"Africa\", \"Asia\", \"Oceania\", \"Antarctica\"]\n",
    "continents = continents + [\"North America\", \"South America\"]\n",
    "\n",
    "# Block 2:\n",
    "continents = [\"Europe\", \"Africa\", \"Asia\", \"Oceania\", \"Antarctica\"]\n",
    "continents += [\"North America\", \"South America\"]"
   ]
  },
  {
   "cell_type": "markdown",
   "id": "b5c841b2",
   "metadata": {
    "colab_type": "text",
    "id": "0DRJMnOrbZk_"
   },
   "source": [
    "### Checking presence of elements in list\n",
    "Check if **an element is (or is not) in list**, using the ```in``` (or ```not in```) operator:"
   ]
  },
  {
   "cell_type": "code",
   "execution_count": null,
   "id": "344b8e0a",
   "metadata": {
    "colab": {},
    "colab_type": "code",
    "id": "x4c-3u9lbZlA"
   },
   "outputs": [],
   "source": [
    "continents = [\"Europe\", \"Africa\", \"Asia\", \"America\", \"Oceania\", \"Antarctica\"]\n",
    "query = \"Europe\""
   ]
  },
  {
   "cell_type": "code",
   "execution_count": null,
   "id": "b926710f",
   "metadata": {},
   "outputs": [],
   "source": [
    "print(query in continents)"
   ]
  },
  {
   "cell_type": "code",
   "execution_count": null,
   "id": "5a88567e",
   "metadata": {
    "colab": {},
    "colab_type": "code",
    "id": "l2yekVNebZlC"
   },
   "outputs": [],
   "source": [
    "if query in continents:\n",
    "    print(query + \" is a continent!\")\n",
    "else:\n",
    "    print(query + \" is not a continent!\")"
   ]
  },
  {
   "cell_type": "markdown",
   "id": "a475d6dd",
   "metadata": {
    "colab_type": "text",
    "id": "7hkgTqu7bZlE"
   },
   "source": [
    "### Iterating over elements of a list\n",
    "We can iterate over the elements of a list, to see and process one element at a time:"
   ]
  },
  {
   "cell_type": "code",
   "execution_count": null,
   "id": "a526ad7c",
   "metadata": {
    "colab": {},
    "colab_type": "code",
    "id": "osrOS-66bZlE"
   },
   "outputs": [],
   "source": [
    "continents = [\"Europe\", \"Africa\", \"Asia\", \"North America\", \"South America\", \"Oceania\", \"Antarctica\"]\n",
    "for continent in continents:\n",
    "    print(continent)"
   ]
  },
  {
   "cell_type": "markdown",
   "id": "d063c91d",
   "metadata": {
    "colab_type": "text",
    "id": "yqM12Xq2bZlG"
   },
   "source": [
    "✏️ **Exercises:** Iterating over the elements of a list allows us to process them individually."
   ]
  },
  {
   "cell_type": "code",
   "execution_count": null,
   "id": "787109c4",
   "metadata": {
    "colab": {},
    "colab_type": "code",
    "id": "lSx-3Jb0c6bI"
   },
   "outputs": [],
   "source": [
    "# Print only continents whose name starts with an 'A'.\n",
    "#\n",
    "# Type your code here:\n",
    "\n"
   ]
  },
  {
   "cell_type": "code",
   "execution_count": null,
   "id": "b862506a",
   "metadata": {
    "colab": {},
    "colab_type": "code",
    "id": "KRekWLn0dBAB"
   },
   "outputs": [],
   "source": [
    "# Print only continents whose name ends with an 'a'.\n",
    "#\n",
    "# Type your code here:\n",
    "\n"
   ]
  },
  {
   "cell_type": "code",
   "execution_count": null,
   "id": "98a559a1",
   "metadata": {
    "colab": {},
    "colab_type": "code",
    "id": "LMwet4GTdFrq"
   },
   "outputs": [],
   "source": [
    "# Print only continents whose name consists of two words.\n",
    "#\n",
    "# Type your code here:\n",
    "\n"
   ]
  },
  {
   "cell_type": "markdown",
   "id": "4b2001b5",
   "metadata": {
    "colab_type": "text",
    "id": "QfEgxyXmbZlG"
   },
   "source": [
    "### Sorting"
   ]
  },
  {
   "cell_type": "markdown",
   "id": "03f3edff",
   "metadata": {
    "colab_type": "text",
    "id": "Rvid1eg0dVPy"
   },
   "source": [
    "Sort a list **in place** (modify the original list):"
   ]
  },
  {
   "cell_type": "code",
   "execution_count": null,
   "id": "d6ff7a9a",
   "metadata": {
    "colab": {},
    "colab_type": "code",
    "id": "2p_mS-B5bZlK"
   },
   "outputs": [],
   "source": [
    "continents = [\"Europe\", \"Africa\", \"Asia\", \"North America\", \"South America\", \"Oceania\", \"Antarctica\"]\n",
    "continents.sort()\n",
    "print(continents)"
   ]
  },
  {
   "cell_type": "markdown",
   "id": "e45b1f10",
   "metadata": {
    "colab_type": "text",
    "id": "mb5Onoi6dW7Q"
   },
   "source": [
    "Sort a list **not in place** (create a new sorted list without modifying the original one):"
   ]
  },
  {
   "cell_type": "code",
   "execution_count": null,
   "id": "62e3d9cd",
   "metadata": {
    "colab": {},
    "colab_type": "code",
    "id": "wPF0lY2ubZlN"
   },
   "outputs": [],
   "source": [
    "continents = [\"Europe\", \"Africa\", \"Asia\", \"North America\", \"South America\", \"Oceania\", \"Antarctica\"]\n",
    "sorted_continents = sorted(continents)\n",
    "\n",
    "print(continents)\n",
    "print(sorted_continents)"
   ]
  },
  {
   "cell_type": "markdown",
   "id": "6e1fec7d",
   "metadata": {
    "colab_type": "text",
    "id": "6Gyj1NtxbZlQ"
   },
   "source": [
    "Sort in descending order, through parameter `reverse = True`"
   ]
  },
  {
   "cell_type": "code",
   "execution_count": null,
   "id": "e7b4e2f8",
   "metadata": {
    "colab": {},
    "colab_type": "code",
    "id": "8GnOGUDabZlR"
   },
   "outputs": [],
   "source": [
    "continents = [\"Europe\", \"Africa\", \"Asia\", \"North America\", \"South America\", \"Oceania\", \"Antarctica\"]\n",
    "continents.sort(reverse = True)\n",
    "print(continents)"
   ]
  },
  {
   "cell_type": "code",
   "execution_count": null,
   "id": "e0dc7faa",
   "metadata": {
    "colab": {},
    "colab_type": "code",
    "id": "bT_g8HE2bZlT"
   },
   "outputs": [],
   "source": [
    "continents = [\"Europe\", \"Africa\", \"Asia\", \"North America\", \"South America\", \"Oceania\", \"Antarctica\"]\n",
    "sorted_continents = sorted(continents, reverse = True)\n",
    "print(sorted_continents)"
   ]
  },
  {
   "cell_type": "markdown",
   "id": "84bc1bad",
   "metadata": {
    "colab_type": "text",
    "id": "L5Bp16rDbZlV"
   },
   "source": [
    "### Updating list elements"
   ]
  },
  {
   "cell_type": "markdown",
   "id": "d1870bce",
   "metadata": {
    "colab_type": "text",
    "id": "tQIU06ePbZlW"
   },
   "source": [
    "Updating an element of the list can be done through its index.\n",
    "\n",
    "For example, let's suppose we want to change the 6th element of the following list. We can assign a new value to it like this:"
   ]
  },
  {
   "cell_type": "code",
   "execution_count": null,
   "id": "68d64cf3",
   "metadata": {
    "colab": {},
    "colab_type": "code",
    "id": "2YyFa5R_bZlW"
   },
   "outputs": [],
   "source": [
    "continents = [\"Europe\", \"Africa\", \"Asia\", \"North America\", \"South America\", \"Oceania\", \"Antarctica\"]\n",
    "continents[5] = \"Australia\"\n",
    "\n",
    "print(continents)"
   ]
  },
  {
   "cell_type": "markdown",
   "id": "05765a7c",
   "metadata": {
    "colab_type": "text",
    "id": "_KM5KRrhbZlY"
   },
   "source": [
    "## Sets"
   ]
  },
  {
   "cell_type": "markdown",
   "id": "79103bb9",
   "metadata": {
    "colab_type": "text",
    "id": "okx4DibKbZlY"
   },
   "source": [
    "Like lists, sets are sequences of comma-separated elements. Unlike lists, sets contain only **unique elements** and are **unordered**.\n",
    "\n",
    "Sets are enclosed in curly brackets."
   ]
  },
  {
   "cell_type": "code",
   "execution_count": null,
   "id": "ade90b25",
   "metadata": {
    "colab": {},
    "colab_type": "code",
    "id": "kftX-tklbZlZ"
   },
   "outputs": [],
   "source": [
    "continents = [\"Europe\", \"Africa\", \"Asia\", \"America\", \"Oceania\", \"Antarctica\"]\n",
    "print(continents)\n",
    "print(type(continents))"
   ]
  },
  {
   "cell_type": "code",
   "execution_count": null,
   "id": "408349af",
   "metadata": {},
   "outputs": [],
   "source": [
    "continents = {\"Europe\", \"Africa\", \"Asia\", \"America\", \"Oceania\", \"Antarctica\"}\n",
    "print(continents)\n",
    "print(type(continents))"
   ]
  },
  {
   "cell_type": "markdown",
   "id": "df4e0482",
   "metadata": {
    "colab_type": "text",
    "id": "tvFTCm2tbZlb"
   },
   "source": [
    "**Tip:** Sets are useful to remove duplicates from lists, if you don't care about the order of the elements in the list. You usually convert the list into a set, and back to a list.\n",
    "\n",
    "Sets can be converted from lists, and viceversa, with the following methods:"
   ]
  },
  {
   "cell_type": "code",
   "execution_count": null,
   "id": "95db2f99",
   "metadata": {
    "colab": {},
    "colab_type": "code",
    "id": "05YkBUjQVBoW"
   },
   "outputs": [],
   "source": [
    "convertingStructures = {2, 3, 1, 4}\n",
    "convertingStructures = list(convertingStructures)\n",
    "convertingStructures = set(convertingStructures)\n",
    "print(convertingStructures)\n",
    "print(type(convertingStructures))"
   ]
  },
  {
   "cell_type": "markdown",
   "id": "39b30355",
   "metadata": {
    "colab_type": "text",
    "id": "0p5xfOJCbZlc"
   },
   "source": [
    "✏️ **Exercise:**"
   ]
  },
  {
   "cell_type": "code",
   "execution_count": null,
   "id": "3fa002c5",
   "metadata": {
    "colab": {},
    "colab_type": "code",
    "id": "DuVdZ7_rlMWp"
   },
   "outputs": [],
   "source": [
    "# Add duplicates in the `continents` list, and then convert it to a set, and\n",
    "# convert it back into a list. What is the output? Try adding duplicates\n",
    "# ignoring case too, what happens?\n",
    "# \n",
    "# Type your code here:\n",
    "\n"
   ]
  },
  {
   "cell_type": "markdown",
   "id": "ccc4b17a",
   "metadata": {
    "colab_type": "text",
    "id": "jXfBglP6bZld"
   },
   "source": [
    "## Tuples\n",
    "Like lists and sets, tuples are sequences of comma-separated elements. But unlike lists and sets, they are **immutable**, and therefore you **won't be able to**:\n",
    "* update values\n",
    "* remove values\n",
    "* add new values\n",
    "\n",
    "Tuples are usually enclosed in parentheses: `()` (But they don't need to!)"
   ]
  },
  {
   "cell_type": "code",
   "execution_count": null,
   "id": "822867bd",
   "metadata": {
    "colab": {},
    "colab_type": "code",
    "id": "we2JYHP6bZle"
   },
   "outputs": [],
   "source": [
    "continents = (\"Europe\", \"Africa\", \"Asia\", \"America\", \"Oceania\", \"Antarctica\")\n",
    "print(continents)\n",
    "print(type(continents))"
   ]
  },
  {
   "cell_type": "code",
   "execution_count": null,
   "id": "d2b35d0d",
   "metadata": {},
   "outputs": [],
   "source": []
  }
 ],
 "metadata": {
  "kernelspec": {
   "display_name": "Python (py39)",
   "language": "python",
   "name": "py39"
  },
  "language_info": {
   "codemirror_mode": {
    "name": "ipython",
    "version": 3
   },
   "file_extension": ".py",
   "mimetype": "text/x-python",
   "name": "python",
   "nbconvert_exporter": "python",
   "pygments_lexer": "ipython3",
   "version": "3.9.12"
  }
 },
 "nbformat": 4,
 "nbformat_minor": 5
}
