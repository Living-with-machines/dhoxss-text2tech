{
 "cells": [
  {
   "cell_type": "markdown",
   "id": "ab075159",
   "metadata": {},
   "source": [
    "# Working with files"
   ]
  },
  {
   "cell_type": "markdown",
   "id": "13bacc9b",
   "metadata": {},
   "source": [
    "Very often, you will be working with your own text files, locally stored in your computer.\n",
    "\n",
    "Before we can start processing and analysing the data with Python, we need Python to open and \"read\" these files.\n",
    "\n",
    "Python can be used to work with files in different formats (plain text, comma- or tab-separated values, json, etc). \n",
    "\n",
    "We will focus on unstructured data in this section (i.e. unformatted plain text)."
   ]
  },
  {
   "cell_type": "markdown",
   "id": "f617d6b3",
   "metadata": {},
   "source": [
    "## Paths"
   ]
  },
  {
   "cell_type": "markdown",
   "id": "ed83c486",
   "metadata": {},
   "source": [
    "We need to indicate the location to the file we want to open, i.e. in which folder the file is located.\n",
    "\n",
    "This can be done by providing the file's absolute path or its relative path.\n",
    "\n",
    "* **Absolute path:** This is the complete \"address\" of the file or folder in your machine, starting from the root. The absolute path will be different in each machine. For example, in my machine, the absolute path to the file `tale_beginning.txt` is:\n",
    "  ```\n",
    "  /Users/myself/Documents/LwM/dhoxss-text2tech/Sessions/data/tale_beginning.txt\n",
    "  ```\n",
    "\n",
    "* **Relative path:** The location of a file or folder relative to the location of the python script or notebook. For example, from this notebook, the relative path to the file `tale_beginning.txt` is:\n",
    "  ```\n",
    "  data/tale_beginning.txt\n",
    "  ```\n",
    "\n",
    "Note: If you need to go one level up in the folder structure, you can do it with `../`."
   ]
  },
  {
   "cell_type": "markdown",
   "id": "095919de",
   "metadata": {},
   "source": [
    "## Opening and reading a file"
   ]
  },
  {
   "cell_type": "markdown",
   "id": "143b9305",
   "metadata": {},
   "source": [
    "You can open a text file using the following syntax:\n",
    "\n",
    "```python\n",
    "with open(\"path_to_file\") as fr:\n",
    "    text = fr.read()\n",
    "```\n",
    "\n",
    "This means:\n",
    "* The first line opens the file (you should change `path_to_file` to the actual path to your file) and keeps it temporarily in variable `fr`.\n",
    "* The second line (note that it's indented), fetches the actual text from variable `fr` and puts it in variable `text`.\n",
    "\n",
    "For example, to read the content of `tale_beginning.txt``"
   ]
  },
  {
   "cell_type": "code",
   "execution_count": null,
   "id": "4c84ecc0",
   "metadata": {},
   "outputs": [],
   "source": [
    "# Read the content of \"tale_beginning.txt\":\n",
    "with open(\"data/tale_beginning.txt\") as fr:\n",
    "    text = fr.read()"
   ]
  },
  {
   "cell_type": "code",
   "execution_count": null,
   "id": "fb7e1457",
   "metadata": {},
   "outputs": [],
   "source": [
    "# And print its contents:\n",
    "print(text)"
   ]
  },
  {
   "cell_type": "code",
   "execution_count": null,
   "id": "eb805d73",
   "metadata": {},
   "outputs": [],
   "source": [
    "# What's the data type of variable `text`?\n",
    "type(text)"
   ]
  },
  {
   "cell_type": "markdown",
   "id": "eda0330a",
   "metadata": {},
   "source": [
    "A useful alternative is to load the text line-per-line, which can be done with the `.readlines()` method:"
   ]
  },
  {
   "cell_type": "code",
   "execution_count": null,
   "id": "87339d78",
   "metadata": {},
   "outputs": [],
   "source": [
    "# Read the content of \"tale_beginning.txt\":\n",
    "with open(\"data/tale_beginning.txt\") as fr:\n",
    "    text = fr.readlines()"
   ]
  },
  {
   "cell_type": "code",
   "execution_count": null,
   "id": "cdc41ae1",
   "metadata": {},
   "outputs": [],
   "source": [
    "# Now print the content:\n",
    "print(text)"
   ]
  },
  {
   "cell_type": "code",
   "execution_count": null,
   "id": "61da9b71",
   "metadata": {},
   "outputs": [],
   "source": [
    "# And print the data type:\n",
    "type(text)"
   ]
  },
  {
   "cell_type": "markdown",
   "id": "bdab92ba",
   "metadata": {},
   "source": [
    "✏️ **Question:** Without running the cells: what do you think will happen in each case?"
   ]
  },
  {
   "cell_type": "code",
   "execution_count": null,
   "id": "aa151c64",
   "metadata": {},
   "outputs": [],
   "source": [
    "# Read the content of \"tale_beginning.txt\":\n",
    "with open(\"../Sessions/data/tale_beginning.txt\") as fr:\n",
    "    text = fr.read()\n",
    "\n",
    "print(text)"
   ]
  },
  {
   "cell_type": "code",
   "execution_count": null,
   "id": "63804fc5",
   "metadata": {},
   "outputs": [],
   "source": [
    "# Read the content of \"tale_beginning.txt\":\n",
    "with open(\"../data/tale_beginning.txt\") as fr:\n",
    "    text = fr.read()\n",
    "\n",
    "print(text)"
   ]
  },
  {
   "cell_type": "code",
   "execution_count": null,
   "id": "1a0146ba",
   "metadata": {},
   "outputs": [],
   "source": [
    "# Read the content of \"tale_beginning.txt\":\n",
    "with open(\"../../dhoxss-text2tech/Sessions/data/tale_beginning.txt\") as fr:\n",
    "    text = fr.read()\n",
    "\n",
    "print(text)"
   ]
  }
 ],
 "metadata": {
  "kernelspec": {
   "display_name": "Python (py39)",
   "language": "python",
   "name": "py39"
  },
  "language_info": {
   "codemirror_mode": {
    "name": "ipython",
    "version": 3
   },
   "file_extension": ".py",
   "mimetype": "text/x-python",
   "name": "python",
   "nbconvert_exporter": "python",
   "pygments_lexer": "ipython3",
   "version": "3.9.16"
  }
 },
 "nbformat": 4,
 "nbformat_minor": 5
}
