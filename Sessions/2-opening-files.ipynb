{
 "cells": [
  {
   "cell_type": "markdown",
   "id": "ab075159",
   "metadata": {
    "slideshow": {
     "slide_type": "slide"
    }
   },
   "source": [
    "# Working with files"
   ]
  },
  {
   "cell_type": "markdown",
   "id": "13bacc9b",
   "metadata": {
    "slideshow": {
     "slide_type": "slide"
    }
   },
   "source": [
    "Very often, you will be working with your own text files, locally stored in your computer.\n",
    "\n",
    "Before we can start processing and analysing the data with Python, we need Python to open and \"read\" these files.\n",
    "\n",
    "Python can be used to work with files in different formats (plain text, comma- or tab-separated values, json, etc). \n",
    "\n",
    "We will focus on unstructured data in this section (i.e. unformatted plain text)."
   ]
  },
  {
   "cell_type": "markdown",
   "id": "c45f13be",
   "metadata": {
    "slideshow": {
     "slide_type": "slide"
    }
   },
   "source": [
    "## Knowing where you are"
   ]
  },
  {
   "cell_type": "markdown",
   "id": "70f3112c",
   "metadata": {
    "slideshow": {
     "slide_type": "slide"
    }
   },
   "source": [
    "We are used to interact with our computer via an interface, but you can also navigate your file system using the command line (also called the terminal). Melanie Walsh's [course](https://melaniewalsh.github.io/Intro-Cultural-Analytics/01-Command-Line/01-The-Command-Line.html) has a good introduction to understanding the command line.\n",
    "\n",
    "<img src=\"images/terminalwindow.png\" width=\"600\" />"
   ]
  },
  {
   "cell_type": "markdown",
   "id": "0a1a7b15",
   "metadata": {
    "slideshow": {
     "slide_type": "slide"
    }
   },
   "source": [
    "We only need to understand one command at the moment: `pwd`, which stands for \"path of working directory\" or, in other words, the folder in which you are right now.\n",
    "\n",
    "Conveniently, Jupyter Notebook gives a way of accessing the command line without needing to use a terminal: if you add `%` or `!` at the beginning of a cell, whatever comes next will be interpreted as if you typed it in a terminal."
   ]
  },
  {
   "cell_type": "markdown",
   "id": "0c6ff29f",
   "metadata": {
    "slideshow": {
     "slide_type": "fragment"
    }
   },
   "source": [
    "Therefore, we can check in which folder this notebook is located with `pwd`, like this:"
   ]
  },
  {
   "cell_type": "code",
   "execution_count": null,
   "id": "602091f6",
   "metadata": {
    "slideshow": {
     "slide_type": "-"
    }
   },
   "outputs": [],
   "source": [
    "!pwd"
   ]
  },
  {
   "cell_type": "markdown",
   "id": "50631c1e",
   "metadata": {
    "slideshow": {
     "slide_type": "-"
    }
   },
   "source": [
    "The output of this will be different for each of us, because we all have different folder structures!"
   ]
  },
  {
   "cell_type": "markdown",
   "id": "f617d6b3",
   "metadata": {
    "slideshow": {
     "slide_type": "slide"
    }
   },
   "source": [
    "## Paths"
   ]
  },
  {
   "cell_type": "markdown",
   "id": "ed83c486",
   "metadata": {
    "slideshow": {
     "slide_type": "slide"
    }
   },
   "source": [
    "In order for python to access a file, we need to indicate the location to the file we want to open, i.e. in which folder the file is located.\n",
    "\n",
    "This can be done by providing the file's absolute path or its relative path."
   ]
  },
  {
   "cell_type": "markdown",
   "id": "c84cf0ca",
   "metadata": {
    "slideshow": {
     "slide_type": "slide"
    }
   },
   "source": [
    "* **Absolute path:** This is the complete \"address\" of the file or folder in your machine, starting from the root. The absolute path will be different in each machine. For example, in my machine, the absolute path to the file `tale_beginning.txt` is:\n",
    "  ```\n",
    "  /Users/myself/Documents/dhoxss-text2tech/Sessions/data/tale_beginning.txt\n",
    "  ```"
   ]
  },
  {
   "cell_type": "markdown",
   "id": "fbfc7e7a",
   "metadata": {
    "slideshow": {
     "slide_type": "slide"
    }
   },
   "source": [
    "* **Relative path:** The location of a file or folder relative to the location of the python script or notebook. For example, from this notebook, the relative path to the file `tale_beginning.txt` is:\n",
    "  ```\n",
    "  data/tale_beginning.txt\n",
    "  ```\n",
    "\n",
    "  Note: If you need to go one level up in the folder structure, you can do it with `../`."
   ]
  },
  {
   "cell_type": "markdown",
   "id": "095919de",
   "metadata": {
    "slideshow": {
     "slide_type": "slide"
    }
   },
   "source": [
    "## Opening and reading a file"
   ]
  },
  {
   "cell_type": "markdown",
   "id": "143b9305",
   "metadata": {
    "slideshow": {
     "slide_type": "slide"
    }
   },
   "source": [
    "Once you know the path to your file, you can open it using the following syntax:\n",
    "\n",
    "```python\n",
    "with open(\"path_to_file\") as fr:\n",
    "    text = fr.read()\n",
    "```\n",
    "\n",
    "Where:\n",
    "* The first line opens the file (you should change `path_to_file` to the actual path to your file) and keeps it temporarily in variable `fr`.\n",
    "* The second line (note that it's indented), fetches the actual text from variable `fr` and puts it in variable `text`."
   ]
  },
  {
   "cell_type": "markdown",
   "id": "fe99a206",
   "metadata": {
    "slideshow": {
     "slide_type": "slide"
    }
   },
   "source": [
    "For example, to read the content of `tale_beginning.txt`:"
   ]
  },
  {
   "cell_type": "code",
   "execution_count": null,
   "id": "4c84ecc0",
   "metadata": {
    "slideshow": {
     "slide_type": "fragment"
    }
   },
   "outputs": [],
   "source": [
    "# Read the content of \"tale_beginning.txt\":\n",
    "with open(\"data/tale_beginning.txt\") as fr:\n",
    "    text = fr.read()"
   ]
  },
  {
   "cell_type": "code",
   "execution_count": null,
   "id": "eb805d73",
   "metadata": {
    "slideshow": {
     "slide_type": "fragment"
    }
   },
   "outputs": [],
   "source": [
    "# What's the data type of variable `text`?\n",
    "type(text)"
   ]
  },
  {
   "cell_type": "code",
   "execution_count": null,
   "id": "fb7e1457",
   "metadata": {
    "slideshow": {
     "slide_type": "fragment"
    }
   },
   "outputs": [],
   "source": [
    "# And print its contents:\n",
    "print(text)"
   ]
  },
  {
   "cell_type": "markdown",
   "id": "bdab92ba",
   "metadata": {
    "slideshow": {
     "slide_type": "slide"
    }
   },
   "source": [
    "✏️ **Question:** Without running the cells: what do you think will happen in each case?"
   ]
  },
  {
   "cell_type": "code",
   "execution_count": null,
   "id": "aa151c64",
   "metadata": {
    "slideshow": {
     "slide_type": "fragment"
    }
   },
   "outputs": [],
   "source": [
    "# Read the content of \"tale_beginning.txt\":\n",
    "with open(\"../Sessions/data/tale_beginning.txt\") as fr:\n",
    "    text = fr.read()\n",
    "\n",
    "print(text)"
   ]
  },
  {
   "cell_type": "code",
   "execution_count": null,
   "id": "63804fc5",
   "metadata": {
    "slideshow": {
     "slide_type": "slide"
    }
   },
   "outputs": [],
   "source": [
    "# Read the content of \"tale_beginning.txt\":\n",
    "with open(\"../data/tale_beginning.txt\") as fr:\n",
    "    text = fr.read()\n",
    "\n",
    "print(text)"
   ]
  },
  {
   "cell_type": "code",
   "execution_count": null,
   "id": "1a0146ba",
   "metadata": {
    "slideshow": {
     "slide_type": "slide"
    }
   },
   "outputs": [],
   "source": [
    "# Read the content of \"tale_beginning.txt\":\n",
    "with open(\"../../dhoxss-text2tech/Sessions/data/tale_beginning.txt\") as fr:\n",
    "    text = fr.read()\n",
    "\n",
    "print(text)"
   ]
  }
 ],
 "metadata": {
  "kernelspec": {
   "display_name": "py39",
   "language": "python",
   "name": "py39"
  },
  "language_info": {
   "codemirror_mode": {
    "name": "ipython",
    "version": 3
   },
   "file_extension": ".py",
   "mimetype": "text/x-python",
   "name": "python",
   "nbconvert_exporter": "python",
   "pygments_lexer": "ipython3",
   "version": "3.9.16"
  }
 },
 "nbformat": 4,
 "nbformat_minor": 5
}
