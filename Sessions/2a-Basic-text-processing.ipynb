{
 "cells": [
  {
   "cell_type": "markdown",
   "id": "ea3ef215",
   "metadata": {
    "slideshow": {
     "slide_type": "slide"
    }
   },
   "source": [
    "# Basic text processing"
   ]
  },
  {
   "cell_type": "markdown",
   "id": "26689b6c",
   "metadata": {
    "slideshow": {
     "slide_type": "fragment"
    }
   },
   "source": [
    "## What is a _string_?\n",
    "\n",
    "A string is the data type that is used for dealing with text.\n",
    "\n",
    "A string is a sequence of characters, and is always enclosed by quotation marks."
   ]
  },
  {
   "cell_type": "markdown",
   "id": "5902169d",
   "metadata": {
    "slideshow": {
     "slide_type": "slide"
    }
   },
   "source": [
    "An example of string is:"
   ]
  },
  {
   "cell_type": "code",
   "execution_count": null,
   "id": "3b539b90",
   "metadata": {
    "slideshow": {
     "slide_type": "fragment"
    }
   },
   "outputs": [],
   "source": [
    "example_of_string = \"A text is a sequence of characters.\""
   ]
  },
  {
   "cell_type": "markdown",
   "id": "31cfc91b",
   "metadata": {
    "slideshow": {
     "slide_type": "slide"
    }
   },
   "source": [
    "A string does not need to make any sense. Another example of string is:"
   ]
  },
  {
   "cell_type": "code",
   "execution_count": null,
   "id": "73b5f5c1",
   "metadata": {
    "slideshow": {
     "slide_type": "fragment"
    }
   },
   "outputs": [],
   "source": [
    "example_of_string = \"xt is a sequence of ch\""
   ]
  },
  {
   "cell_type": "markdown",
   "id": "9dc4046c",
   "metadata": {
    "slideshow": {
     "slide_type": "slide"
    }
   },
   "source": [
    "We can use double quotation marks, single quotation marks, or triple double quotation marks:"
   ]
  },
  {
   "cell_type": "code",
   "execution_count": null,
   "id": "5cd8544b",
   "metadata": {
    "slideshow": {
     "slide_type": "fragment"
    }
   },
   "outputs": [],
   "source": [
    "example_of_string = \"A text is a sequence of characters.\""
   ]
  },
  {
   "cell_type": "code",
   "execution_count": null,
   "id": "a41434b3",
   "metadata": {
    "slideshow": {
     "slide_type": "fragment"
    }
   },
   "outputs": [],
   "source": [
    "example_of_string = 'A text is a sequence of characters.'"
   ]
  },
  {
   "cell_type": "code",
   "execution_count": null,
   "id": "90e5b5dd",
   "metadata": {
    "slideshow": {
     "slide_type": "fragment"
    }
   },
   "outputs": [],
   "source": [
    "example_of_string = \"\"\"A text is a sequence of characters, enclosed by quotation marks!\"\"\""
   ]
  },
  {
   "cell_type": "markdown",
   "id": "95257262",
   "metadata": {
    "slideshow": {
     "slide_type": "slide"
    }
   },
   "source": [
    "If the string spans more than one line, we should use the triple double quotation marks:"
   ]
  },
  {
   "cell_type": "code",
   "execution_count": null,
   "id": "5d859bcf",
   "metadata": {
    "slideshow": {
     "slide_type": "fragment"
    }
   },
   "outputs": [],
   "source": [
    "beginning = \"\"\"When shall we three meet again\n",
    "In thunder, lightning, or in rain?\n",
    "When the hurlyburly's done,\n",
    "When the battle's lost and won.\"\"\""
   ]
  },
  {
   "cell_type": "code",
   "execution_count": null,
   "id": "0432c8a2",
   "metadata": {
    "slideshow": {
     "slide_type": "fragment"
    }
   },
   "outputs": [],
   "source": [
    "print(beginning)"
   ]
  },
  {
   "cell_type": "markdown",
   "id": "ecac53ea",
   "metadata": {
    "slideshow": {
     "slide_type": "slide"
    }
   },
   "source": [
    "### Type and length of a string"
   ]
  },
  {
   "cell_type": "markdown",
   "id": "ee8c84d8",
   "metadata": {
    "slideshow": {
     "slide_type": "fragment"
    }
   },
   "source": [
    "We can check the data type of variable `beginning` using the `type()` built-in function:"
   ]
  },
  {
   "cell_type": "code",
   "execution_count": null,
   "id": "f81b88dd",
   "metadata": {
    "slideshow": {
     "slide_type": "fragment"
    }
   },
   "outputs": [],
   "source": [
    "print(type(beginning))"
   ]
  },
  {
   "cell_type": "markdown",
   "id": "0f7c4067",
   "metadata": {
    "slideshow": {
     "slide_type": "slide"
    }
   },
   "source": [
    "We can check the length of the string using the `len()` built-in function:"
   ]
  },
  {
   "cell_type": "code",
   "execution_count": null,
   "id": "a9113a95",
   "metadata": {
    "slideshow": {
     "slide_type": "fragment"
    }
   },
   "outputs": [],
   "source": [
    "print(len(beginning))"
   ]
  },
  {
   "cell_type": "markdown",
   "id": "80f3b86a",
   "metadata": {
    "slideshow": {
     "slide_type": "slide"
    }
   },
   "source": [
    "## Strings and numbers"
   ]
  },
  {
   "cell_type": "markdown",
   "id": "239d0f80",
   "metadata": {
    "slideshow": {
     "slide_type": "fragment"
    }
   },
   "source": [
    "Python differentiates between numbers (mathematical objects) and strings (sequences of characters).\n",
    "\n",
    "⚠️ **Warning**: A number in quotation marks is actually a string, and can't be used in mathematical operations. This is quite important! It's an easy mistake that even experienced programmers make, and which can have huge consequences."
   ]
  },
  {
   "cell_type": "markdown",
   "id": "59cf629b",
   "metadata": {
    "slideshow": {
     "slide_type": "slide"
    }
   },
   "source": [
    "Compare the following two cells. Are they numbers or strings?"
   ]
  },
  {
   "cell_type": "code",
   "execution_count": null,
   "id": "cfe2fb8a",
   "metadata": {
    "slideshow": {
     "slide_type": "fragment"
    }
   },
   "outputs": [],
   "source": [
    "a = 3\n",
    "b = 4"
   ]
  },
  {
   "cell_type": "code",
   "execution_count": null,
   "id": "0be307a1",
   "metadata": {
    "slideshow": {
     "slide_type": "fragment"
    }
   },
   "outputs": [],
   "source": [
    "c = \"3\"\n",
    "d = \"4\""
   ]
  },
  {
   "cell_type": "markdown",
   "id": "308c8cea",
   "metadata": {
    "slideshow": {
     "slide_type": "slide"
    }
   },
   "source": [
    "✏️ **Exercises:**"
   ]
  },
  {
   "cell_type": "code",
   "execution_count": null,
   "id": "444fba09",
   "metadata": {
    "slideshow": {
     "slide_type": "fragment"
    }
   },
   "outputs": [],
   "source": [
    "# Write the code to print the data type of variable `a`\n",
    "\n"
   ]
  },
  {
   "cell_type": "code",
   "execution_count": null,
   "id": "da171dc1",
   "metadata": {
    "slideshow": {
     "slide_type": "fragment"
    }
   },
   "outputs": [],
   "source": [
    "# Write the code to print the data type of variable `c`:\n",
    "\n"
   ]
  },
  {
   "cell_type": "code",
   "execution_count": null,
   "id": "c3da08b3",
   "metadata": {
    "slideshow": {
     "slide_type": "slide"
    }
   },
   "outputs": [],
   "source": [
    "# What happens if we sum variables `a` and `b`?\n",
    "# Write your code here:\n",
    "\n"
   ]
  },
  {
   "cell_type": "code",
   "execution_count": null,
   "id": "1cdab984",
   "metadata": {
    "slideshow": {
     "slide_type": "fragment"
    }
   },
   "outputs": [],
   "source": [
    "# What happens if we sum variables `c` and `d`?\n",
    "# Write your code here:\n",
    "\n"
   ]
  },
  {
   "cell_type": "code",
   "execution_count": null,
   "id": "24b9dc6d",
   "metadata": {
    "slideshow": {
     "slide_type": "fragment"
    }
   },
   "outputs": [],
   "source": [
    "# What happens if we sum variables `a` and `c`?\n",
    "# Write your code here:\n",
    "\n"
   ]
  },
  {
   "cell_type": "markdown",
   "id": "d570bdd3",
   "metadata": {
    "slideshow": {
     "slide_type": "slide"
    }
   },
   "source": [
    "You can convert a number to a string using the `str()` function:"
   ]
  },
  {
   "cell_type": "code",
   "execution_count": null,
   "id": "cee6f402",
   "metadata": {
    "slideshow": {
     "slide_type": "fragment"
    }
   },
   "outputs": [],
   "source": [
    "a = 4\n",
    "print(a)\n",
    "print(type(a))"
   ]
  },
  {
   "cell_type": "code",
   "execution_count": null,
   "id": "e7d8a05d",
   "metadata": {
    "slideshow": {
     "slide_type": "fragment"
    }
   },
   "outputs": [],
   "source": [
    "a = str(4)\n",
    "print(a)\n",
    "print(type(a))"
   ]
  },
  {
   "cell_type": "markdown",
   "id": "3b270b56",
   "metadata": {
    "slideshow": {
     "slide_type": "slide"
    }
   },
   "source": [
    "We can use the `int()` and `float()` functions to convert a string into a number:"
   ]
  },
  {
   "cell_type": "code",
   "execution_count": null,
   "id": "bee0b7f9",
   "metadata": {
    "slideshow": {
     "slide_type": "fragment"
    }
   },
   "outputs": [],
   "source": [
    "a = \"3\"\n",
    "print(a)\n",
    "print(type(a))"
   ]
  },
  {
   "cell_type": "code",
   "execution_count": null,
   "id": "6727d7c4",
   "metadata": {
    "slideshow": {
     "slide_type": "fragment"
    }
   },
   "outputs": [],
   "source": [
    "a = int(a)\n",
    "print(a)\n",
    "print(type(a))"
   ]
  },
  {
   "cell_type": "code",
   "execution_count": null,
   "id": "d49f7447",
   "metadata": {
    "slideshow": {
     "slide_type": "slide"
    }
   },
   "outputs": [],
   "source": [
    "a = \"3.4\"\n",
    "print(a)\n",
    "print(type(a))"
   ]
  },
  {
   "cell_type": "code",
   "execution_count": null,
   "id": "84edc39d",
   "metadata": {
    "slideshow": {
     "slide_type": "fragment"
    }
   },
   "outputs": [],
   "source": [
    "a = float(a)\n",
    "print(a)\n",
    "print(type(a))"
   ]
  },
  {
   "cell_type": "markdown",
   "id": "9492504f",
   "metadata": {
    "slideshow": {
     "slide_type": "slide"
    }
   },
   "source": [
    "## Five common operations on strings"
   ]
  },
  {
   "cell_type": "markdown",
   "id": "2182052d",
   "metadata": {
    "slideshow": {
     "slide_type": "fragment"
    }
   },
   "source": [
    "In this section we will learn to manipulate strings. We will look into the following (very useful) operations:\n",
    "1. Converting to upper/lower case\n",
    "2. Removing white spaces (including linebreaks) as the beginning and end of string\n",
    "3. Replacing one part of the string by another\n",
    "4. Concatenating strings\n",
    "5. Splitting strings"
   ]
  },
  {
   "cell_type": "markdown",
   "id": "0de91b73",
   "metadata": {
    "slideshow": {
     "slide_type": "slide"
    }
   },
   "source": [
    "If you want to know more on how to use them, you can read about these and other operations in the [official Python documentation](https://python-reference.readthedocs.io/en/latest/docs/str/)."
   ]
  },
  {
   "cell_type": "markdown",
   "id": "7e652b9d",
   "metadata": {
    "slideshow": {
     "slide_type": "slide"
    }
   },
   "source": [
    "### 1. Converting to upper or lower case\n",
    "\n",
    "The `.lower()` and `.upper()` methods are applied to a string variable to make the string lower- or uppercase.\n",
    "\n",
    "To use it, append it to the variable you want to convert:"
   ]
  },
  {
   "cell_type": "code",
   "execution_count": null,
   "id": "2b2d9e98",
   "metadata": {
    "slideshow": {
     "slide_type": "fragment"
    }
   },
   "outputs": [],
   "source": [
    "a = \"I am shouting.\"\n",
    "\n",
    "print(a.upper())"
   ]
  },
  {
   "cell_type": "markdown",
   "id": "d43c1a8b",
   "metadata": {
    "slideshow": {
     "slide_type": "slide"
    }
   },
   "source": [
    "### 2. Removing white spaces\n",
    "\n",
    "The `strip()` method removes white spaces at the beginning and end of the string."
   ]
  },
  {
   "cell_type": "code",
   "execution_count": null,
   "id": "e6f4e1af",
   "metadata": {
    "scrolled": true,
    "slideshow": {
     "slide_type": "fragment"
    }
   },
   "outputs": [],
   "source": [
    "text_to_trim = \"   Too many whitespaces!   \"\n",
    "\n",
    "print(text_to_trim.strip())"
   ]
  },
  {
   "cell_type": "markdown",
   "id": "2599d28e",
   "metadata": {
    "slideshow": {
     "slide_type": "slide"
    }
   },
   "source": [
    "### 3. Replacing one part of the string by another\n",
    "\n",
    "The `replace()` method can be used to replace one part of the string by another. It's appended to the variable containing the string you want to replace, and it requires two arguments at least: _arg1_ is the string to be replaced whereas _arg2_ is the string to replace the other one. For example:"
   ]
  },
  {
   "cell_type": "code",
   "execution_count": null,
   "id": "8f11e3d8",
   "metadata": {
    "slideshow": {
     "slide_type": "fragment"
    }
   },
   "outputs": [],
   "source": [
    "main_string = \"It was the best of times.\"\n",
    "\n",
    "print(main_string.replace(\"best\", \"worst\"))"
   ]
  },
  {
   "cell_type": "markdown",
   "id": "419bcb91",
   "metadata": {
    "slideshow": {
     "slide_type": "slide"
    }
   },
   "source": [
    "Now, if we print the value of the variable `main_string`, what happens? Try it."
   ]
  },
  {
   "cell_type": "code",
   "execution_count": null,
   "id": "53554212",
   "metadata": {
    "slideshow": {
     "slide_type": "fragment"
    }
   },
   "outputs": [],
   "source": [
    "print(main_string)"
   ]
  },
  {
   "cell_type": "markdown",
   "id": "b5cb656b",
   "metadata": {
    "slideshow": {
     "slide_type": "slide"
    }
   },
   "source": [
    "But... why isn't \"best\" replaced by \"worst\" in `main_string`?\n",
    "\n",
    "⚠️ **Warning:** In python, a string is immutable, which means that you cannot change the content. However, you can assign the changed content to a new variable or reassign the variable with the changed content, as shown below:"
   ]
  },
  {
   "cell_type": "code",
   "execution_count": null,
   "id": "59176930",
   "metadata": {
    "slideshow": {
     "slide_type": "fragment"
    }
   },
   "outputs": [],
   "source": [
    "# Change the content of a string varible and assign it to a new variable:\n",
    "main_string = \"It was the best of times.\"\n",
    "changed_string = main_string.replace(\"best\", \"worst\")\n",
    "\n",
    "# Print the new variable:\n",
    "print(changed_string)"
   ]
  },
  {
   "cell_type": "code",
   "execution_count": null,
   "id": "bf6f22fc",
   "metadata": {
    "slideshow": {
     "slide_type": "slide"
    }
   },
   "outputs": [],
   "source": [
    "# Change the content of a string varible and reassign it to that variable:\n",
    "main_string = \"It was the best of times.\"\n",
    "main_string = main_string.replace(\"best\", \"worst\")\n",
    "\n",
    "# Print the main_string variable:\n",
    "print(main_string)"
   ]
  },
  {
   "cell_type": "markdown",
   "id": "a956e6fc",
   "metadata": {
    "slideshow": {
     "slide_type": "slide"
    }
   },
   "source": [
    "✏️ **Exercises:**"
   ]
  },
  {
   "cell_type": "code",
   "execution_count": null,
   "id": "0454eae6",
   "metadata": {
    "slideshow": {
     "slide_type": "fragment"
    }
   },
   "outputs": [],
   "source": [
    "# Create a variable with the text \"I AM NOT SHOUTING\" and convert it to lower case:\n",
    "\n"
   ]
  },
  {
   "cell_type": "code",
   "execution_count": null,
   "id": "13036219",
   "metadata": {
    "slideshow": {
     "slide_type": "slide"
    }
   },
   "outputs": [],
   "source": [
    "# Using the functions we've learnt, transform the contents of `original_string` so\n",
    "# that you obtain the text \"IT WAS THE WORST OF TIMES.\"\n",
    "\n",
    "original_string = \"It was the best of times.\"\n",
    "\n",
    "# Write your code here:\n",
    "\n"
   ]
  },
  {
   "cell_type": "markdown",
   "id": "ed8d3990",
   "metadata": {
    "slideshow": {
     "slide_type": "slide"
    }
   },
   "source": [
    "### 4. Concatenating strings"
   ]
  },
  {
   "cell_type": "markdown",
   "id": "b321c887",
   "metadata": {
    "slideshow": {
     "slide_type": "fragment"
    }
   },
   "source": [
    "Concatenating is the process of joining or combining strings together.\n",
    "\n",
    "For example, let's concatenate the strings in `title1` and `title2`:"
   ]
  },
  {
   "cell_type": "code",
   "execution_count": null,
   "id": "fd0428b8",
   "metadata": {
    "slideshow": {
     "slide_type": "fragment"
    }
   },
   "outputs": [],
   "source": [
    "title1 = \"Alice's Adventures in Wonderland\"\n",
    "title2 = \"Through the Looking Mirror\"\n",
    "print(title1 + title2)"
   ]
  },
  {
   "cell_type": "markdown",
   "id": "e2e2f4ba",
   "metadata": {
    "slideshow": {
     "slide_type": "fragment"
    }
   },
   "source": [
    "⚠️ **Warning:** As you can see, python won't add the white spaces for you!"
   ]
  },
  {
   "cell_type": "markdown",
   "id": "3eeac7c9",
   "metadata": {
    "slideshow": {
     "slide_type": "slide"
    }
   },
   "source": [
    "✏️ **Exercises:**"
   ]
  },
  {
   "cell_type": "code",
   "execution_count": null,
   "id": "ef93d6fc",
   "metadata": {
    "slideshow": {
     "slide_type": "fragment"
    }
   },
   "outputs": [],
   "source": [
    "# Concatenate the two titles plus the name of the author in parentheses (which\n",
    "# should also be stored in a variable), so that the result looks exactly like this:\n",
    "# \"Alice's Adventures in Wonderland and Through the Looking Mirror (Lewis Carroll)\"\n",
    "# \n",
    "# Write your code here:\n",
    "\n"
   ]
  },
  {
   "cell_type": "markdown",
   "id": "71d9f35f",
   "metadata": {
    "slideshow": {
     "slide_type": "slide"
    }
   },
   "source": [
    "### 5. Splitting strings"
   ]
  },
  {
   "cell_type": "markdown",
   "id": "b696c42c",
   "metadata": {
    "slideshow": {
     "slide_type": "fragment"
    }
   },
   "source": [
    "Splitting strings is a very common operation in python.\n",
    "\n",
    "Using the `.split()` method (see the [documentation](https://docs.python.org/3/library/stdtypes.html#str.split)), we can split string into a list of chunks (substrings).\n",
    "\n",
    "By default, `.split()` uses the white space to split the string, but you can specify another delimiter inside the parentheses, in quotation marks."
   ]
  },
  {
   "cell_type": "code",
   "execution_count": null,
   "id": "8b846469",
   "metadata": {
    "slideshow": {
     "slide_type": "fragment"
    }
   },
   "outputs": [],
   "source": [
    "mirror_title = \"Through the Looking Mirror\"\n",
    "print(mirror_title.split())"
   ]
  },
  {
   "cell_type": "code",
   "execution_count": null,
   "id": "a27a2163",
   "metadata": {
    "slideshow": {
     "slide_type": "slide"
    }
   },
   "outputs": [],
   "source": [
    "# Converting a string that looks like a list into an actual list in python:\n",
    "string_to_split = \"poetry, drama, non-fiction, novel\"\n",
    "list_of_fruits = string_to_split.split(\", \") # The delimiter is a string, can have more than one character.\n",
    "print(list_of_fruits)\n",
    "print(type(list_of_fruits))"
   ]
  },
  {
   "cell_type": "markdown",
   "id": "befa107f",
   "metadata": {
    "colab_type": "text",
    "id": "TkpomHRRIXpy",
    "slideshow": {
     "slide_type": "slide"
    }
   },
   "source": [
    "### 6. Indexing and accessing characters\n",
    "\n",
    "A string is a sequence of characters in a specific order, and can be indexed:\n",
    "\n",
    "| 0 | 1 | 2 | 3 | 4 | 5 | 6 | 7  | 8 | 9 | 10 | 11 | 12 | 13 | 14 | 15 | 16 | 17 |\n",
    "|---|---|---|---|---|---|---|----|---|---|----|----|----|----|----|----|----|----|\n",
    "| A | l | i | c | e | ' | s |  | A | d | v  | e  | n  | t  | u  | r  | e  | s  |\n"
   ]
  },
  {
   "cell_type": "code",
   "execution_count": null,
   "id": "76a41f92",
   "metadata": {
    "colab": {},
    "colab_type": "code",
    "id": "XcaVrTxyIXpz",
    "slideshow": {
     "slide_type": "fragment"
    }
   },
   "outputs": [],
   "source": [
    "strAlice = \"Alice's Adventures\""
   ]
  },
  {
   "cell_type": "markdown",
   "id": "cc12af10",
   "metadata": {
    "colab_type": "text",
    "id": "8vWrDBdS2Bwb",
    "slideshow": {
     "slide_type": "slide"
    }
   },
   "source": [
    "Individual characters in a string can be accessed by indicating their index in square brackets.\n",
    "\n",
    "Example, this is how we can access the first character of the string:"
   ]
  },
  {
   "cell_type": "code",
   "execution_count": null,
   "id": "b57e5db1",
   "metadata": {
    "colab": {},
    "colab_type": "code",
    "id": "xUF6KZSaIXp1",
    "slideshow": {
     "slide_type": "fragment"
    }
   },
   "outputs": [],
   "source": [
    "print(strAlice[0])"
   ]
  },
  {
   "cell_type": "markdown",
   "id": "7af593e5",
   "metadata": {
    "colab_type": "text",
    "id": "D3AXw5MU2etm",
    "slideshow": {
     "slide_type": "slide"
    }
   },
   "source": [
    "We can access the last character of the string in the same way, but there is a more clever way:"
   ]
  },
  {
   "cell_type": "code",
   "execution_count": null,
   "id": "820d735c",
   "metadata": {
    "colab": {},
    "colab_type": "code",
    "id": "VLzLCOvvIXp4",
    "slideshow": {
     "slide_type": "fragment"
    }
   },
   "outputs": [],
   "source": [
    "# Accessing the last character of the string:\n",
    "print(strAlice[17])\n",
    "print(strAlice[-1])"
   ]
  },
  {
   "cell_type": "markdown",
   "id": "fe9f9ea8",
   "metadata": {
    "colab_type": "text",
    "id": "0hFDp_JW3HWV",
    "slideshow": {
     "slide_type": "slide"
    }
   },
   "source": [
    "✏️ **Exercises:**"
   ]
  },
  {
   "cell_type": "code",
   "execution_count": null,
   "id": "3f119743",
   "metadata": {
    "colab": {},
    "colab_type": "code",
    "id": "QL_Srwws3ZfU",
    "slideshow": {
     "slide_type": "fragment"
    }
   },
   "outputs": [],
   "source": [
    "# 1. Create a variable that contains your name.\n",
    "# 2. Print the last-but-one character of this variable.\n",
    "# 3. Print the length of this variable?\n",
    "# 4. Can you think of a way of printing the last character of the string using the ```len()``` method?\n",
    "# \n",
    "# Type your code here:\n",
    "\n"
   ]
  },
  {
   "cell_type": "markdown",
   "id": "38da47cd",
   "metadata": {
    "colab_type": "text",
    "id": "6oBikEmXIXp7",
    "slideshow": {
     "slide_type": "slide"
    }
   },
   "source": [
    "### 7. Slicing\n",
    "\n",
    "| 0 | 1 | 2 | 3 | 4 | 5 | 6 | 7  | 8 | 9 | 10 | 11 | 12 | 13 | 14 | 15 | 16 | 17 |\n",
    "|---|---|---|---|---|---|---|----|---|---|----|----|----|----|----|----|----|----|\n",
    "| A | l | i | c | e | ' | s |  | A | d | v  | e  | n  | t  | u  | r  | e  | s  |\n",
    "\n",
    "Slicing allows us to create a substring from a string, by specifying the start and end indices in square brackets, separated by a colon, like this:\n"
   ]
  },
  {
   "cell_type": "code",
   "execution_count": null,
   "id": "ba79a41c",
   "metadata": {
    "colab": {},
    "colab_type": "code",
    "id": "wexpMYj95IO2",
    "slideshow": {
     "slide_type": "fragment"
    }
   },
   "outputs": [],
   "source": [
    "strAlice = \"Alice's Adventures\"\n",
    "print(strAlice[2:12])"
   ]
  },
  {
   "cell_type": "markdown",
   "id": "c346c502",
   "metadata": {
    "colab_type": "text",
    "id": "WoBUFe6e5fls",
    "slideshow": {
     "slide_type": "slide"
    }
   },
   "source": [
    "Notice that the start index is included in the resulting string, whereas the end index is not.\n",
    "\n",
    "If the start index is left empty, it means the beginning of the string:"
   ]
  },
  {
   "cell_type": "code",
   "execution_count": null,
   "id": "befb0a4e",
   "metadata": {
    "colab": {},
    "colab_type": "code",
    "id": "0v9eIkYpIXp-",
    "slideshow": {
     "slide_type": "fragment"
    }
   },
   "outputs": [],
   "source": [
    "substring = strAlice[:5]\n",
    "print(substring)"
   ]
  },
  {
   "cell_type": "markdown",
   "id": "09db121b",
   "metadata": {
    "colab_type": "text",
    "id": "P4KZJPHG6DXq",
    "slideshow": {
     "slide_type": "slide"
    }
   },
   "source": [
    "If the end index is left empty, it means the end of the string:"
   ]
  },
  {
   "cell_type": "code",
   "execution_count": null,
   "id": "917698a1",
   "metadata": {
    "colab": {},
    "colab_type": "code",
    "id": "7Jd-pCp76Xd5",
    "slideshow": {
     "slide_type": "fragment"
    }
   },
   "outputs": [],
   "source": [
    "substring = strAlice[8:]\n",
    "print(substring)"
   ]
  },
  {
   "cell_type": "markdown",
   "id": "2e2ef89b",
   "metadata": {
    "colab_type": "text",
    "id": "mAcuf6efMcJr",
    "slideshow": {
     "slide_type": "slide"
    }
   },
   "source": [
    "✏️ **Exercises:**"
   ]
  },
  {
   "cell_type": "code",
   "execution_count": null,
   "id": "b66402a9",
   "metadata": {
    "colab": {},
    "colab_type": "code",
    "id": "FI63x27OMbt7",
    "slideshow": {
     "slide_type": "fragment"
    }
   },
   "outputs": [],
   "source": [
    "# Given a string that contains your full name, print only your last name by slicing the string.\n",
    "# \n",
    "# Type your code here:\n",
    "\n"
   ]
  },
  {
   "cell_type": "markdown",
   "id": "6f20d31d",
   "metadata": {
    "colab_type": "text",
    "id": "4-z9hogYIXp_",
    "slideshow": {
     "slide_type": "slide"
    }
   },
   "source": [
    "### 8. Finding substrings\n",
    "\n",
    "The python ```in``` operator is wonderful: it is a very easy way to understand wether and element is inside another element."
   ]
  },
  {
   "cell_type": "markdown",
   "id": "ba87465e",
   "metadata": {
    "slideshow": {
     "slide_type": "slide"
    }
   },
   "source": [
    "Suppose we want to find out if a string contains a certain substring in it. This is how we use it:"
   ]
  },
  {
   "cell_type": "code",
   "execution_count": null,
   "id": "f1bf5c90",
   "metadata": {
    "colab": {
     "base_uri": "https://localhost:8080/",
     "height": 34
    },
    "colab_type": "code",
    "id": "Xz1jKbXKIXp_",
    "outputId": "c3c77362-2654-44cc-8b1d-bd970ec68f8e",
    "slideshow": {
     "slide_type": "fragment"
    }
   },
   "outputs": [],
   "source": [
    "substring = \"age\"\n",
    "\n",
    "taleBeginning = \"\"\"It was the best of times,\n",
    "it was the worst of times,\n",
    "it was the age of wisdom,\n",
    "it was the age of foolishness,\n",
    "it was the epoch of belief,\n",
    "it was the epoch of incredulity,\"\"\"\n",
    "\n",
    "if substring in taleBeginning:\n",
    "    print('Substring \"' + substring + '\" has been found.')\n",
    "else:\n",
    "    print(\"Substring '\" + substring + \"' has NOT been found.\")"
   ]
  },
  {
   "cell_type": "markdown",
   "id": "37bd30eb",
   "metadata": {
    "colab_type": "text",
    "id": "95xxD419IXqD",
    "slideshow": {
     "slide_type": "slide"
    }
   },
   "source": [
    "### 9. Does the string starts or ends with...\n",
    "The ```.startswith()``` method checks whether a string starts with a certain string, specified inside the brackets:"
   ]
  },
  {
   "cell_type": "code",
   "execution_count": null,
   "id": "cd22efed",
   "metadata": {
    "colab": {},
    "colab_type": "code",
    "id": "IRKCQ_26OjZt",
    "slideshow": {
     "slide_type": "fragment"
    }
   },
   "outputs": [],
   "source": [
    "taleBeginning = \"\"\"It was the best of times,\"\"\"\n",
    "\n",
    "if taleBeginning.startswith(\"It was\"):\n",
    "    print(\"Yes, these are the first characters of the string!\")\n",
    "else:\n",
    "    print(\"No, that's not how the string starts...\")"
   ]
  },
  {
   "cell_type": "markdown",
   "id": "97d129a5",
   "metadata": {
    "colab_type": "text",
    "id": "42o6_24wO5pO",
    "slideshow": {
     "slide_type": "slide"
    }
   },
   "source": [
    "Similarly, we have a method that checks whether a string ends in a certain way: ```.endswith()```"
   ]
  },
  {
   "cell_type": "code",
   "execution_count": null,
   "id": "59250529",
   "metadata": {
    "colab": {},
    "colab_type": "code",
    "id": "Ui0W4fBHO7JP",
    "slideshow": {
     "slide_type": "fragment"
    }
   },
   "outputs": [],
   "source": [
    "taleBeginning = \"\"\"It was the best of times,\"\"\"\n",
    "if taleBeginning.endswith(\"times\"):\n",
    "    print(\"Yes, these are the last characters of the string!\")\n",
    "else:\n",
    "    print(\"No, that's not how the string ends...\")"
   ]
  },
  {
   "cell_type": "markdown",
   "id": "6908d4f8",
   "metadata": {
    "slideshow": {
     "slide_type": "slide"
    }
   },
   "source": [
    "✏️ **Exercise:**\n",
    "\n",
    "Do you remember **functions**?\n",
    "\n",
    "Create a function called `does_it_end_with` that takes two arguments in: `string1` and `string2`. The function should return `True` if `string2` is the ending of `string1`. Otherwise, it should return `False`. Test that your function is correct by trying it with different inputs."
   ]
  },
  {
   "cell_type": "code",
   "execution_count": null,
   "id": "f2c6b3cb",
   "metadata": {
    "slideshow": {
     "slide_type": "fragment"
    }
   },
   "outputs": [],
   "source": [
    "# Write your code here:\n",
    "\n"
   ]
  }
 ],
 "metadata": {
  "celltoolbar": "Slideshow",
  "kernelspec": {
   "display_name": "Python (py39)",
   "language": "python",
   "name": "py39"
  },
  "language_info": {
   "codemirror_mode": {
    "name": "ipython",
    "version": 3
   },
   "file_extension": ".py",
   "mimetype": "text/x-python",
   "name": "python",
   "nbconvert_exporter": "python",
   "pygments_lexer": "ipython3",
   "version": "3.9.12"
  }
 },
 "nbformat": 4,
 "nbformat_minor": 5
}
