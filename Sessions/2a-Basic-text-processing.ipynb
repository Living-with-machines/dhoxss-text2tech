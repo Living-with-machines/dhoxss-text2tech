{
 "cells": [
  {
   "cell_type": "markdown",
   "id": "8e00ed17",
   "metadata": {},
   "source": [
    "# Basic text processing"
   ]
  },
  {
   "cell_type": "markdown",
   "id": "5c9a29be",
   "metadata": {},
   "source": [
    "## What is a _string_?\n",
    "\n",
    "A string is the data type that is used for dealing with text.\n",
    "\n",
    "A string is a sequence of characters, and is always enclosed by quotation marks."
   ]
  },
  {
   "cell_type": "markdown",
   "id": "458a21e0",
   "metadata": {},
   "source": [
    "An example of string is:"
   ]
  },
  {
   "cell_type": "code",
   "execution_count": null,
   "id": "1373e2fe",
   "metadata": {},
   "outputs": [],
   "source": [
    "example_of_string = \"A text is a sequence of characters.\""
   ]
  },
  {
   "cell_type": "markdown",
   "id": "2453358d",
   "metadata": {},
   "source": [
    "A string does not need to make any sense. Another example of string is:"
   ]
  },
  {
   "cell_type": "code",
   "execution_count": null,
   "id": "502269a3",
   "metadata": {},
   "outputs": [],
   "source": [
    "example_of_string = \"xt is a sequence of ch\""
   ]
  },
  {
   "cell_type": "markdown",
   "id": "b44a617d",
   "metadata": {},
   "source": [
    "We can use double quotation marks, single quotation marks, or triple double quotation marks:"
   ]
  },
  {
   "cell_type": "code",
   "execution_count": null,
   "id": "c0933aa1",
   "metadata": {},
   "outputs": [],
   "source": [
    "example_of_string = \"A text is a sequence of characters.\""
   ]
  },
  {
   "cell_type": "code",
   "execution_count": null,
   "id": "15aa4553",
   "metadata": {},
   "outputs": [],
   "source": [
    "example_of_string = 'A text is a sequence of characters.'"
   ]
  },
  {
   "cell_type": "code",
   "execution_count": null,
   "id": "1483062b",
   "metadata": {},
   "outputs": [],
   "source": [
    "example_of_string = \"\"\"A text is a sequence of characters, enclosed by quotation marks!\"\"\""
   ]
  },
  {
   "cell_type": "markdown",
   "id": "bc18404f",
   "metadata": {},
   "source": [
    "If the string spans more than one line, we should use the triple double quotation marks:"
   ]
  },
  {
   "cell_type": "code",
   "execution_count": null,
   "id": "c7fbb92b",
   "metadata": {},
   "outputs": [],
   "source": [
    "beginning = \"\"\"When shall we three meet again\n",
    "In thunder, lightning, or in rain?\n",
    "When the hurlyburly's done,\n",
    "When the battle's lost and won.\"\"\""
   ]
  },
  {
   "cell_type": "code",
   "execution_count": null,
   "id": "e02d6879",
   "metadata": {},
   "outputs": [],
   "source": [
    "print(beginning)"
   ]
  },
  {
   "cell_type": "markdown",
   "id": "7cda91a4",
   "metadata": {},
   "source": [
    "### Type and length of a string"
   ]
  },
  {
   "cell_type": "markdown",
   "id": "74e52d75",
   "metadata": {},
   "source": [
    "We can check the data type of variable `beginning` using the `type()` built-in function:"
   ]
  },
  {
   "cell_type": "code",
   "execution_count": null,
   "id": "429bc48d",
   "metadata": {},
   "outputs": [],
   "source": [
    "print(type(beginning))"
   ]
  },
  {
   "cell_type": "markdown",
   "id": "27ef6547",
   "metadata": {},
   "source": [
    "We can check the length of the string using the `len()` built-in function:"
   ]
  },
  {
   "cell_type": "code",
   "execution_count": null,
   "id": "451cbf56",
   "metadata": {},
   "outputs": [],
   "source": [
    "print(len(beginning))"
   ]
  },
  {
   "cell_type": "markdown",
   "id": "656130f1",
   "metadata": {},
   "source": [
    "## Strings and numbers"
   ]
  },
  {
   "cell_type": "markdown",
   "id": "6c7a2d6f",
   "metadata": {},
   "source": [
    "Python differentiates between numbers (mathematical objects) and strings (sequences of characters).\n",
    "\n",
    "⚠️ **Warning**: A number in quotation marks is actually a string, and can't be used in mathematical operations. This is quite important! It's an easy mistake that even experienced programmers make, and which can have huge consequences."
   ]
  },
  {
   "cell_type": "markdown",
   "id": "554be86e",
   "metadata": {},
   "source": [
    "Compare the following two cells. Are they numbers or strings?"
   ]
  },
  {
   "cell_type": "code",
   "execution_count": null,
   "id": "2e8a72fc",
   "metadata": {},
   "outputs": [],
   "source": [
    "a = 3\n",
    "b = 4"
   ]
  },
  {
   "cell_type": "code",
   "execution_count": null,
   "id": "9a87c2e6",
   "metadata": {},
   "outputs": [],
   "source": [
    "c = \"3\"\n",
    "d = \"4\""
   ]
  },
  {
   "cell_type": "markdown",
   "id": "e47d191e",
   "metadata": {},
   "source": [
    "✏️ **Exercises:**"
   ]
  },
  {
   "cell_type": "code",
   "execution_count": null,
   "id": "8eb9c776",
   "metadata": {},
   "outputs": [],
   "source": [
    "# Write the code to print the data type of variable `a`\n",
    "\n"
   ]
  },
  {
   "cell_type": "code",
   "execution_count": null,
   "id": "7bde447e",
   "metadata": {},
   "outputs": [],
   "source": [
    "# Write the code to print the data type of variable `c`:\n",
    "\n"
   ]
  },
  {
   "cell_type": "code",
   "execution_count": null,
   "id": "502c4099",
   "metadata": {},
   "outputs": [],
   "source": [
    "# What happens if we sum variables `a` and `b`?\n",
    "# Write your code here:\n",
    "\n"
   ]
  },
  {
   "cell_type": "code",
   "execution_count": null,
   "id": "e8b2e7b6",
   "metadata": {},
   "outputs": [],
   "source": [
    "# What happens if we sum variables `c` and `d`?\n",
    "# Write your code here:\n",
    "\n"
   ]
  },
  {
   "cell_type": "code",
   "execution_count": null,
   "id": "2263a8ba",
   "metadata": {},
   "outputs": [],
   "source": [
    "# What happens if we sum variables `a` and `c`?\n",
    "# Write your code here:\n",
    "\n"
   ]
  },
  {
   "cell_type": "markdown",
   "id": "5556e6b4",
   "metadata": {},
   "source": [
    "You can convert a number to a string using the `str()` function:"
   ]
  },
  {
   "cell_type": "code",
   "execution_count": null,
   "id": "b8023323",
   "metadata": {},
   "outputs": [],
   "source": [
    "a = 4\n",
    "print(a)\n",
    "print(type(a))\n",
    "\n",
    "a = str(4)\n",
    "print(a)\n",
    "print(type(a))"
   ]
  },
  {
   "cell_type": "markdown",
   "id": "4b12f822",
   "metadata": {},
   "source": [
    "We can use the `int()` and `float()` functions to convert a string into a number:"
   ]
  },
  {
   "cell_type": "code",
   "execution_count": null,
   "id": "17817ee2",
   "metadata": {},
   "outputs": [],
   "source": [
    "a = \"3\"\n",
    "print(a)\n",
    "print(type(a))\n",
    "\n",
    "a = int(a)\n",
    "print(a)\n",
    "print(type(a))"
   ]
  },
  {
   "cell_type": "code",
   "execution_count": null,
   "id": "06eca986",
   "metadata": {},
   "outputs": [],
   "source": [
    "a = \"3.4\"\n",
    "print(a)\n",
    "print(type(a))\n",
    "\n",
    "a = float(a)\n",
    "print(a)\n",
    "print(type(a))"
   ]
  },
  {
   "cell_type": "markdown",
   "id": "f463fe62",
   "metadata": {},
   "source": [
    "## Five common operations on strings"
   ]
  },
  {
   "cell_type": "markdown",
   "id": "3c4480da",
   "metadata": {},
   "source": [
    "In this section we will learn to manipulate strings. We will look into the following (very useful) operations:\n",
    "1. Converting to upper/lower case\n",
    "2. Removing white spaces (including linebreaks) as the beginning and end of string\n",
    "3. Replacing one part of the string by another\n",
    "4. Concatenating strings\n",
    "5. Splitting strings\n",
    "\n",
    "If you want to know more on how to use them, you can read about these and other operations in the [official Python documentation](https://python-reference.readthedocs.io/en/latest/docs/str/)."
   ]
  },
  {
   "cell_type": "markdown",
   "id": "f9212c0f",
   "metadata": {},
   "source": [
    "### 1. Converting to upper or lower case**\n",
    "\n",
    "The `.lower()` and `.upper()` methods are applied to a string variable to make the string lower- or uppercase.\n",
    "\n",
    "To use it, append it to the variable you want to convert:"
   ]
  },
  {
   "cell_type": "code",
   "execution_count": null,
   "id": "d231b286",
   "metadata": {},
   "outputs": [],
   "source": [
    "a = \"I am shouting.\"\n",
    "\n",
    "print(a.upper())"
   ]
  },
  {
   "cell_type": "markdown",
   "id": "2f1d48ed",
   "metadata": {},
   "source": [
    "### 2. Removing white spaces\n",
    "\n",
    "The `strip()` method removes white spaces at the beginning and end of the string."
   ]
  },
  {
   "cell_type": "code",
   "execution_count": null,
   "id": "b4c80b09",
   "metadata": {
    "scrolled": true
   },
   "outputs": [],
   "source": [
    "text_to_trim = \"   Too many whitespaces!   \"\n",
    "\n",
    "print(text_to_trim.strip())"
   ]
  },
  {
   "cell_type": "markdown",
   "id": "a98d22e9",
   "metadata": {},
   "source": [
    "### 3. Replacing one part of the string by another\n",
    "\n",
    "The `replace()` method can be used to replace one part of the string by another. It's appended to the variable containing the string you want to replace, and it requires two arguments at least: _arg1_ is the string to be replaced whereas _arg2_ is the string to replace the other one. For example:"
   ]
  },
  {
   "cell_type": "code",
   "execution_count": null,
   "id": "cf394a8b",
   "metadata": {},
   "outputs": [],
   "source": [
    "main_string = \"It was the best of times.\"\n",
    "\n",
    "print(main_string.replace(\"best\", \"worst\"))"
   ]
  },
  {
   "cell_type": "markdown",
   "id": "929be7b2",
   "metadata": {},
   "source": [
    "Now, if we print the value of the variable `main_string`, what happens? Try it."
   ]
  },
  {
   "cell_type": "code",
   "execution_count": null,
   "id": "e9858d82",
   "metadata": {},
   "outputs": [],
   "source": [
    "print(main_string)"
   ]
  },
  {
   "cell_type": "markdown",
   "id": "e31d0a36",
   "metadata": {},
   "source": [
    "But... why isn't \"best\" replaced by \"worst\" in `main_string`?\n",
    "\n",
    "⚠️ **Warning:** In python, a string is immutable, which means that you cannot change the content. However, you can assign the changed content to a new variable or reassign the variable with the changed content, as shown below:"
   ]
  },
  {
   "cell_type": "code",
   "execution_count": null,
   "id": "a4e979ea",
   "metadata": {},
   "outputs": [],
   "source": [
    "# Change the content of a string varible and assign it to a new variable:\n",
    "main_string = \"It was the best of times.\"\n",
    "changed_string = main_string.replace(\"best\", \"worst\")\n",
    "\n",
    "# Print the new variable:\n",
    "print(changed_string)"
   ]
  },
  {
   "cell_type": "code",
   "execution_count": null,
   "id": "5acd95da",
   "metadata": {},
   "outputs": [],
   "source": [
    "# Change the content of a string varible and reassign it to that variable:\n",
    "main_string = \"It was the best of times.\"\n",
    "main_string = main_string.replace(\"best\", \"worst\")\n",
    "\n",
    "# Print the main_string variable:\n",
    "print(main_string)"
   ]
  },
  {
   "cell_type": "markdown",
   "id": "cb2ba43f",
   "metadata": {},
   "source": [
    "✏️ **Exercises:**"
   ]
  },
  {
   "cell_type": "code",
   "execution_count": null,
   "id": "ce02c79f",
   "metadata": {},
   "outputs": [],
   "source": [
    "# Create a variable with the text \"I AM NOT SHOUTING\" and convert it to lower case:\n",
    "\n"
   ]
  },
  {
   "cell_type": "code",
   "execution_count": null,
   "id": "a139718f",
   "metadata": {},
   "outputs": [],
   "source": [
    "# Using the functions we've learnt, transform the contents of `original_string` so\n",
    "# that you obtain the text \"IT WAS THE WORST OF TIMES.\"\n",
    "\n",
    "original_string = \"It was the best of times.\"\n",
    "\n",
    "# Write your code here:\n",
    "\n"
   ]
  },
  {
   "cell_type": "markdown",
   "id": "0cbb1fa2",
   "metadata": {},
   "source": [
    "### 4. Concatenating strings"
   ]
  },
  {
   "cell_type": "markdown",
   "id": "47dd9bce",
   "metadata": {},
   "source": [
    "Concatenating is the process of joining or combining strings together.\n",
    "\n",
    "For example, let's concatenate the strings in `title1` and `title2`:"
   ]
  },
  {
   "cell_type": "code",
   "execution_count": null,
   "id": "517dca2a",
   "metadata": {},
   "outputs": [],
   "source": [
    "title1 = \"Alice's Adventures in Wonderland\"\n",
    "title2 = \"Through the Looking Mirror\"\n",
    "print(title1 + title2)"
   ]
  },
  {
   "cell_type": "markdown",
   "id": "2c1d872f",
   "metadata": {},
   "source": [
    "⚠️ **Warning:** As you can see, python won't add the white spaces for you!"
   ]
  },
  {
   "cell_type": "code",
   "execution_count": null,
   "id": "bdcb830b",
   "metadata": {},
   "outputs": [],
   "source": [
    "print(title1 + \" and \" + title2)"
   ]
  },
  {
   "cell_type": "markdown",
   "id": "ac653794",
   "metadata": {},
   "source": [
    "✏️ **Exercises:**"
   ]
  },
  {
   "cell_type": "code",
   "execution_count": null,
   "id": "107ed898",
   "metadata": {},
   "outputs": [],
   "source": [
    "# Concatenate the two titles plus the name of the author in parentheses (which\n",
    "# should also be stored in a variable), so that the result looks exactly like this:\n",
    "# \"Alice's Adventures in Wonderland and Through the Looking Mirror (Lewis Carroll)\"\n",
    "# \n",
    "# Write your code here:\n",
    "\n"
   ]
  },
  {
   "cell_type": "markdown",
   "id": "867e8539",
   "metadata": {},
   "source": [
    "### 5. Splitting strings"
   ]
  },
  {
   "cell_type": "markdown",
   "id": "b0c44792",
   "metadata": {},
   "source": [
    "Splitting strings is a very common operation in python.\n",
    "\n",
    "Using the `.split()` method (see the [documentation](https://docs.python.org/3/library/stdtypes.html#str.split)), we can split string into a list of chunks (substrings).\n",
    "\n",
    "By default, `.split()` uses the white space to split the string, but you can specify another delimiter inside the parentheses, in quotation marks."
   ]
  },
  {
   "cell_type": "code",
   "execution_count": null,
   "id": "650636bb",
   "metadata": {},
   "outputs": [],
   "source": [
    "mirror_title = \"Through the Looking Mirror\"\n",
    "print(mirror_title.split())"
   ]
  },
  {
   "cell_type": "code",
   "execution_count": null,
   "id": "a98de2ea",
   "metadata": {},
   "outputs": [],
   "source": [
    "# Converting a string that looks like a list into an actual list in python:\n",
    "string_to_split = \"poetry, drama, non-fiction, novel\"\n",
    "list_of_fruits = string_to_split.split(\", \") # The delimiter is a string, can have more than one character.\n",
    "print(list_of_fruits)\n",
    "print(type(list_of_fruits))"
   ]
  },
  {
   "cell_type": "markdown",
   "id": "e939575c",
   "metadata": {
    "colab_type": "text",
    "id": "TkpomHRRIXpy"
   },
   "source": [
    "### 6. Indexing and accessing characters\n",
    "\n",
    "A string is a sequence of characters in a specific order, and can be indexed:\n",
    "\n",
    "| 0 | 1 | 2 | 3 | 4 | 5 | 6 | 7  | 8 | 9 | 10 | 11 | 12 | 13 | 14 | 15 | 16 | 17 |\n",
    "|---|---|---|---|---|---|---|----|---|---|----|----|----|----|----|----|----|----|\n",
    "| A | l | i | c | e | ' | s |  | A | d | v  | e  | n  | t  | u  | r  | e  | s  |\n"
   ]
  },
  {
   "cell_type": "code",
   "execution_count": null,
   "id": "1628d1c7",
   "metadata": {
    "colab": {},
    "colab_type": "code",
    "id": "XcaVrTxyIXpz"
   },
   "outputs": [],
   "source": [
    "strAlice = \"Alice's Adventures\""
   ]
  },
  {
   "cell_type": "markdown",
   "id": "5435d891",
   "metadata": {
    "colab_type": "text",
    "id": "8vWrDBdS2Bwb"
   },
   "source": [
    "Individual characters in a string can be accessed by indicating their index in square brackets.\n",
    "\n",
    "Example, this is how we can access the first character of the string:"
   ]
  },
  {
   "cell_type": "code",
   "execution_count": null,
   "id": "044d492f",
   "metadata": {
    "colab": {},
    "colab_type": "code",
    "id": "xUF6KZSaIXp1"
   },
   "outputs": [],
   "source": [
    "print(strAlice[0])"
   ]
  },
  {
   "cell_type": "markdown",
   "id": "6b38c8e7",
   "metadata": {
    "colab_type": "text",
    "id": "D3AXw5MU2etm"
   },
   "source": [
    "We can access the last character of the string in the same way, but there is a more clever way:"
   ]
  },
  {
   "cell_type": "code",
   "execution_count": null,
   "id": "5542bb48",
   "metadata": {
    "colab": {},
    "colab_type": "code",
    "id": "VLzLCOvvIXp4"
   },
   "outputs": [],
   "source": [
    "# Accessing the last character of the string:\n",
    "print(strAlice[17])\n",
    "print(strAlicte[-1])"
   ]
  },
  {
   "cell_type": "markdown",
   "id": "31115670",
   "metadata": {
    "colab_type": "text",
    "id": "0hFDp_JW3HWV"
   },
   "source": [
    "✏️ **Exercises:**"
   ]
  },
  {
   "cell_type": "code",
   "execution_count": null,
   "id": "f4393aef",
   "metadata": {
    "colab": {},
    "colab_type": "code",
    "id": "QL_Srwws3ZfU"
   },
   "outputs": [],
   "source": [
    "# 1. Create a variable that contains your name.\n",
    "# 2. Print the last-but-one character of this variable.\n",
    "# 3. Print the length of this variable?\n",
    "# 4. Can you think of a way of printing the last character of the string using the ```len()``` method?\n",
    "# \n",
    "# Type your code here:\n",
    "\n"
   ]
  },
  {
   "cell_type": "markdown",
   "id": "69db4ee2",
   "metadata": {
    "colab_type": "text",
    "id": "6oBikEmXIXp7"
   },
   "source": [
    "### 7. Slicing\n",
    "\n",
    "| 0 | 1 | 2 | 3 | 4 | 5 | 6 | 7  | 8 | 9 | 10 | 11 | 12 | 13 | 14 | 15 | 16 | 17 |\n",
    "|---|---|---|---|---|---|---|----|---|---|----|----|----|----|----|----|----|----|\n",
    "| A | l | i | c | e | ' | s |  | A | d | v  | e  | n  | t  | u  | r  | e  | s  |\n",
    "\n",
    "Slicing allows us to create a substring from a string, by specifying the start and end indices in square brackets, separated by a colon, like this:\n"
   ]
  },
  {
   "cell_type": "code",
   "execution_count": null,
   "id": "396e4975",
   "metadata": {
    "colab": {},
    "colab_type": "code",
    "id": "wexpMYj95IO2"
   },
   "outputs": [],
   "source": [
    "strAlice = \"Alice's Adventures\"\n",
    "print(strAlice[2:12])"
   ]
  },
  {
   "cell_type": "markdown",
   "id": "501b15a3",
   "metadata": {
    "colab_type": "text",
    "id": "WoBUFe6e5fls"
   },
   "source": [
    "Notice that the start index is included in the resulting string, whereas the end index is not.\n",
    "\n",
    "If the start index is left empty, it means the beginning of the string:"
   ]
  },
  {
   "cell_type": "code",
   "execution_count": null,
   "id": "5fc07433",
   "metadata": {
    "colab": {},
    "colab_type": "code",
    "id": "0v9eIkYpIXp-"
   },
   "outputs": [],
   "source": [
    "substring = strAlice[:5]\n",
    "print(substring)"
   ]
  },
  {
   "cell_type": "markdown",
   "id": "e39bb3aa",
   "metadata": {
    "colab_type": "text",
    "id": "P4KZJPHG6DXq"
   },
   "source": [
    "If the end index is left empty, it means the end of the string:"
   ]
  },
  {
   "cell_type": "code",
   "execution_count": null,
   "id": "ced15322",
   "metadata": {
    "colab": {},
    "colab_type": "code",
    "id": "7Jd-pCp76Xd5"
   },
   "outputs": [],
   "source": [
    "substring = strAlice[8:]\n",
    "print(substring)"
   ]
  },
  {
   "cell_type": "markdown",
   "id": "08a72f93",
   "metadata": {
    "colab_type": "text",
    "id": "mAcuf6efMcJr"
   },
   "source": [
    "✏️ **Exercises:**"
   ]
  },
  {
   "cell_type": "code",
   "execution_count": null,
   "id": "a17bfeb7",
   "metadata": {
    "colab": {},
    "colab_type": "code",
    "id": "FI63x27OMbt7"
   },
   "outputs": [],
   "source": [
    "# Given a string that contains your full name, print only your last name by slicing the string.\n",
    "# \n",
    "# Type your code here:\n",
    "\n"
   ]
  },
  {
   "cell_type": "markdown",
   "id": "a730a3bb",
   "metadata": {
    "colab_type": "text",
    "id": "4-z9hogYIXp_"
   },
   "source": [
    "### 8. Finding substrings\n",
    "\n",
    "The python ```in``` operator is wonderful: it is a very easy way to understand wether and element is inside another element.\n",
    "\n",
    "Suppose we want to find out if a string contains a certain substring in it. This is how we use it:"
   ]
  },
  {
   "cell_type": "code",
   "execution_count": null,
   "id": "fc5c30f0",
   "metadata": {
    "colab": {
     "base_uri": "https://localhost:8080/",
     "height": 34
    },
    "colab_type": "code",
    "id": "Xz1jKbXKIXp_",
    "outputId": "c3c77362-2654-44cc-8b1d-bd970ec68f8e"
   },
   "outputs": [],
   "source": [
    "substring = \"age\"\n",
    "\n",
    "taleBeginning = \"\"\"It was the best of times,\n",
    "it was the worst of times,\n",
    "it was the age of wisdom,\n",
    "it was the age of foolishness,\n",
    "it was the epoch of belief,\n",
    "it was the epoch of incredulity,\"\"\"\n",
    "\n",
    "if substring in taleBeginning:\n",
    "    print('Substring \"' + substring + '\" has been found.')\n",
    "else:\n",
    "    print(\"Substring '\" + substring + \"' has NOT been found.\")"
   ]
  },
  {
   "cell_type": "markdown",
   "id": "71b3beff",
   "metadata": {
    "colab_type": "text",
    "id": "95xxD419IXqD"
   },
   "source": [
    "### 9. Does the string starts or ends with...\n",
    "The ```.startswith()``` method checks whether a string starts with a certain string, specified inside the brackets:"
   ]
  },
  {
   "cell_type": "code",
   "execution_count": null,
   "id": "30022c40",
   "metadata": {
    "colab": {},
    "colab_type": "code",
    "id": "IRKCQ_26OjZt"
   },
   "outputs": [],
   "source": [
    "taleBeginning = \"\"\"It was the best of times,\"\"\"\n",
    "\n",
    "if taleBeginning.startswith(\"It was\"):\n",
    "    print(\"Yes, these are the first characters of the string!\")\n",
    "else:\n",
    "    print(\"No, that's not how the string starts...\")"
   ]
  },
  {
   "cell_type": "markdown",
   "id": "bfd1bbc8",
   "metadata": {
    "colab_type": "text",
    "id": "42o6_24wO5pO"
   },
   "source": [
    "Similarly, we have a method that checks whether a string ends in a certain way: ```.endswith()```"
   ]
  },
  {
   "cell_type": "code",
   "execution_count": null,
   "id": "552f1429",
   "metadata": {
    "colab": {},
    "colab_type": "code",
    "id": "Ui0W4fBHO7JP"
   },
   "outputs": [],
   "source": [
    "taleBeginning = \"\"\"It was the best of times,\"\"\"\n",
    "if taleBeginning.endswith(\"times\"):\n",
    "    print(\"Yes, these are the last characters of the string!\")\n",
    "else:\n",
    "    print(\"No, that's not how the string ends...\")"
   ]
  }
 ],
 "metadata": {
  "kernelspec": {
   "display_name": "Python (py39)",
   "language": "python",
   "name": "py39"
  },
  "language_info": {
   "codemirror_mode": {
    "name": "ipython",
    "version": 3
   },
   "file_extension": ".py",
   "mimetype": "text/x-python",
   "name": "python",
   "nbconvert_exporter": "python",
   "pygments_lexer": "ipython3",
   "version": "3.9.12"
  }
 },
 "nbformat": 4,
 "nbformat_minor": 5
}
