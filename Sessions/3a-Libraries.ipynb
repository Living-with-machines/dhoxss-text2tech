{
 "cells": [
  {
   "cell_type": "markdown",
   "metadata": {},
   "source": [
    "# Libraries and modules"
   ]
  },
  {
   "cell_type": "markdown",
   "metadata": {},
   "source": [
    "## What is a library?\n",
    "\n",
    "A library is a collection of modules that are grouped together because they have similar or related functionalities.\n",
    "\n",
    "A library or its modules are sometimes called `package` (there are slight differences between the terms, which don't matter at the moment).\n",
    "\n",
    "Examples of libraries:\n",
    "* [pandas](https://pypi.org/project/pandas/): \"provides fast, flexible, and expressive data structures designed to make working with \"relational\" or \"labeled\" data both easy and intuitive\".\n",
    "* [fuzzywuzzy](https://pypi.org/project/fuzzywuzzy/): \"fuzzy string matching like a boss. It uses Levenshtein Distance to calculate the differences between sequences in a simple-to-use package.\"\n",
    "* [scikit-learn](https://pypi.org/project/scikit-learn/): \"a Python module for machine learning\".\n",
    "* [haversine](https://pypi.org/project/haversine/): \"Calculate the distance (in various units) between two points on Earth using their latitude and longitude.\"\n",
    "\n",
    "They are tools other people have written and shared with the community.\n",
    "\n",
    "Python is famous for its easy way to integrate other's code into your own. You can do this with libraries.\n",
    "\n",
    "![](https://imgs.xkcd.com/comics/python.png)\n",
    "Source: https://xkcd.com/353\n",
    "\n",
    "Library modules can be imported into your code just by calling `import`."
   ]
  },
  {
   "cell_type": "markdown",
   "metadata": {},
   "source": [
    "## The Python standard library"
   ]
  },
  {
   "cell_type": "markdown",
   "metadata": {},
   "source": [
    "The standard library contains many modules that are very useful. It is distributed together with Python: modules provided in the standard library can always be used, you don't need to install them.\n",
    "\n",
    "You can learn more about the standard library and its modules here: https://docs.python.org/3/library/\n",
    "\n",
    "If you want to use these modules in your code, you need to `import` them into your script (or notebook)."
   ]
  },
  {
   "cell_type": "markdown",
   "metadata": {},
   "source": [
    "#### Example 1: The `math` module"
   ]
  },
  {
   "cell_type": "markdown",
   "metadata": {},
   "source": [
    "The `math` module provides common mathematical functions.\n",
    "\n",
    "See the documentation: https://docs.python.org/3/library/math.html#module-math\n",
    "\n",
    "For example, imagine we want to find the square of 5 (expressed $5^2$, `5^2`, or `5*5`). We don't necessarily have to use the `math` module, we could just do:"
   ]
  },
  {
   "cell_type": "code",
   "execution_count": null,
   "metadata": {},
   "outputs": [],
   "source": [
    "5*5"
   ]
  },
  {
   "cell_type": "markdown",
   "metadata": {},
   "source": [
    "Or if we want to return the 5 to the power of 10 (expressed $5^{10}$, `5^10`, or `5*5*5*5*5...`), we could do:"
   ]
  },
  {
   "cell_type": "code",
   "execution_count": null,
   "metadata": {},
   "outputs": [],
   "source": [
    "5*5*5*5*5*5*5*5*5*5"
   ]
  },
  {
   "cell_type": "markdown",
   "metadata": {},
   "source": [
    "However, there is a function in the `math` module for this calculation.\n",
    "\n",
    "See the docs: https://docs.python.org/3/library/math.html#math.pow\n",
    "\n",
    "First, we need to import the module:"
   ]
  },
  {
   "cell_type": "code",
   "execution_count": null,
   "metadata": {},
   "outputs": [],
   "source": [
    "import math"
   ]
  },
  {
   "cell_type": "markdown",
   "metadata": {},
   "source": [
    "Then, in order to use any of the imported module's functions, we use the \"dot notation\": we write the name of the module + dot + the function you wish to use.\n",
    "\n",
    "As you can see in the documentation, the syntax for using this function is: `math.pow(x, y)`, which returns `x` raised to the power `y`.\n",
    "\n",
    "For example, `math.pow(5, 2)` calculates $5^2$, and `math.pow(5, 10)` calculates $5^{10}$."
   ]
  },
  {
   "cell_type": "code",
   "execution_count": null,
   "metadata": {},
   "outputs": [],
   "source": [
    "import math\n",
    "\n",
    "number = 5\n",
    "number_power_of_two = math.pow(5,2)\n",
    "print(number_power_of_two)"
   ]
  },
  {
   "cell_type": "markdown",
   "metadata": {},
   "source": [
    "Note that the same can be written a bit differently:\n",
    "\n",
    "You can import just a function from the module, using the following syntax:\n",
    "\n",
    "```\n",
    "from [module] import [function]\n",
    "```\n",
    "\n",
    "For example:\n",
    "\n",
    "```\n",
    "from math import pow\n",
    "```\n",
    "\n",
    "Then, to use it in your code, instead of using the dot notation `math.pow(x, y)`, you can call the function directly: `pow(x, y)`.\n",
    "\n",
    "The code in the following cell does exactly the same as in the cell above:"
   ]
  },
  {
   "cell_type": "code",
   "execution_count": null,
   "metadata": {},
   "outputs": [],
   "source": [
    "from math import pow\n",
    "\n",
    "number = 5\n",
    "number_power_of_two = pow(5,2)\n",
    "print(number_power_of_two)"
   ]
  },
  {
   "cell_type": "markdown",
   "metadata": {},
   "source": [
    "#### Example 2: The `statistics` module\n",
    "\n",
    "The `statistics` module provides functions for calculating basic statistics.\n",
    "\n",
    "Documentation: https://docs.python.org/3/library/statistics.html\n",
    "\n",
    "For example, you can find the arithmetic mean of some data, using the `mean` function:\n",
    "\n",
    "Documentation: https://docs.python.org/3/library/statistics.html#statistics.mean"
   ]
  },
  {
   "cell_type": "code",
   "execution_count": null,
   "metadata": {},
   "outputs": [],
   "source": [
    "from statistics import mean\n",
    "\n",
    "list_of_numbers = [3, 4, 5, 2, 6, 3, 6, 3, 7, 9]\n",
    "\n",
    "print(mean(list_of_numbers))"
   ]
  },
  {
   "cell_type": "markdown",
   "metadata": {},
   "source": [
    "#### Example 3: The `random` module\n",
    "\n",
    "The `random` module is used a lot by researchers to randomise data or select random elements from a sample.\n",
    "\n",
    "Let's imagine we want to get a random element from a list. We can use the `choice` function.\n",
    "\n",
    "See documentation: https://docs.python.org/3/library/random.html#random.choice\n",
    "\n",
    "Run the example (several times!):"
   ]
  },
  {
   "cell_type": "code",
   "execution_count": null,
   "metadata": {},
   "outputs": [],
   "source": [
    "import random\n",
    "\n",
    "list_of_authors = [\"Shelley\", \"Austen\", \"Dickens\", \"Woolf\", \"Wilde\", \"Forster\"]\n",
    "\n",
    "random_author = random.choice(list_of_authors)\n",
    "\n",
    "print(random_author)"
   ]
  },
  {
   "cell_type": "markdown",
   "metadata": {},
   "source": [
    "## External libraries\n",
    "\n",
    "There are many very useful modules that belong to libraries that have been developed outside Python.\n",
    "\n",
    "These libraries not only need to be imported, they also need to be installed before being able to using them.\n",
    "\n",
    "In other words, `import` does not install libraries. It just makes them available to your current notebook session, assuming they are already installed.\n",
    "\n",
    "Most libraries should be findable in the `pypi` repository: https://pypi.org"
   ]
  },
  {
   "cell_type": "markdown",
   "metadata": {},
   "source": [
    "### Installing libraries\n",
    "\n",
    "If you are working locally, make sure you are in the correct environment.\n",
    "\n",
    "You can install libraries from the terminal with one of the following two commands:\n",
    "```\n",
    "conda install pandas\n",
    "```\n",
    "\n",
    "```\n",
    "pip install pandas\n",
    "```\n",
    "\n",
    "You can do the same from a jupyter notebook cell, but in this case, you need to start the command with `!` or `%`:\n",
    "```\n",
    "!pip install pandas\n",
    "```"
   ]
  },
  {
   "cell_type": "markdown",
   "metadata": {},
   "source": [
    "Then you can import the newly-installed library with `import`:"
   ]
  },
  {
   "cell_type": "code",
   "execution_count": null,
   "metadata": {},
   "outputs": [],
   "source": [
    "import pandas"
   ]
  },
  {
   "cell_type": "markdown",
   "metadata": {},
   "source": [
    "A final note on `import`: you can provide a kind of \"alias\" to the library name: a shorter name that you will use throughout your code. For example, it's common practice to import the `pandas` library and rename it to `pd`. For example:"
   ]
  },
  {
   "cell_type": "code",
   "execution_count": null,
   "metadata": {},
   "outputs": [],
   "source": [
    "import pandas as pd"
   ]
  },
  {
   "cell_type": "markdown",
   "metadata": {},
   "source": [
    "Note that, if you do this, you will need to call its functions with the short name you've defined (`pd`), not `pandas`."
   ]
  },
  {
   "cell_type": "markdown",
   "metadata": {},
   "source": [
    "## Don't reinvent the wheel"
   ]
  },
  {
   "cell_type": "markdown",
   "metadata": {},
   "source": [
    "It is very likely that many of the functionalities you will need already exist. People have been developing python code and applications non-stop for 30 years!.\n",
    "\n",
    "Whenever possible, reuse code that has been shared in a package, don't reinvent the wheel. Think that widely-used libraries have been validated by lots of users, and their functions have been fixed and updated to be more efficient, etc."
   ]
  }
 ],
 "metadata": {
  "kernelspec": {
   "display_name": "py39",
   "language": "python",
   "name": "py39"
  },
  "language_info": {
   "codemirror_mode": {
    "name": "ipython",
    "version": 3
   },
   "file_extension": ".py",
   "mimetype": "text/x-python",
   "name": "python",
   "nbconvert_exporter": "python",
   "pygments_lexer": "ipython3",
   "version": "3.9.16"
  }
 },
 "nbformat": 4,
 "nbformat_minor": 4
}
