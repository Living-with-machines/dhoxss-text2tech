{
 "cells": [
  {
   "cell_type": "markdown",
   "metadata": {
    "colab_type": "text",
    "id": "qSS3LfAOXSn-",
    "slideshow": {
     "slide_type": "slide"
    }
   },
   "source": [
    "# Exploring Pride and Prejudice\n",
    "\n",
    "### ✏️ Basic text processing exercises"
   ]
  },
  {
   "cell_type": "markdown",
   "metadata": {
    "colab_type": "text",
    "id": "ZxcxU7viXSn_",
    "slideshow": {
     "slide_type": "slide"
    }
   },
   "source": [
    "## Uploading a file\n",
    "\n",
    "Go to [Project Gutenberg](https://www.gutenberg.org/) and download _Pride and Prejudice_.\n",
    "\n",
    "Have a look at the document: get familiarised with the data!\n",
    "\n",
    "Remove the header and the license and copyright considerations at the end of the file.\n",
    "\n",
    "Save and rename it as `prideprejudice.txt` in the `data/` folder."
   ]
  },
  {
   "cell_type": "markdown",
   "metadata": {
    "colab_type": "text",
    "id": "tX9My_RjXSoC",
    "slideshow": {
     "slide_type": "slide"
    }
   },
   "source": [
    "## Read the file\n",
    "Ask python to read the whole book for you.\n",
    "\n",
    "You can read the whole book at once with the `.read()` method:"
   ]
  },
  {
   "cell_type": "code",
   "execution_count": null,
   "metadata": {
    "colab": {},
    "colab_type": "code",
    "id": "_vkLmFXOXSoC",
    "slideshow": {
     "slide_type": "fragment"
    }
   },
   "outputs": [],
   "source": [
    "book = []\n",
    "with open(\"data/prideprejudice.txt\") as fr:\n",
    "    book = fr.read()"
   ]
  },
  {
   "cell_type": "markdown",
   "metadata": {
    "colab_type": "text",
    "id": "MOvnIiM3XSoE",
    "slideshow": {
     "slide_type": "slide"
    }
   },
   "source": [
    "We now have the whole book in a **string** variable, called `book`.\n",
    "\n",
    "Alternatively, you can read the book line per line with the `.readlines()` method:"
   ]
  },
  {
   "cell_type": "code",
   "execution_count": null,
   "metadata": {
    "colab": {},
    "colab_type": "code",
    "id": "AsujEwWjXSoF",
    "slideshow": {
     "slide_type": "fragment"
    }
   },
   "outputs": [],
   "source": [
    "booklines = []\n",
    "with open(\"data/prideprejudice.txt\") as fr:\n",
    "    booklines = fr.readlines()"
   ]
  },
  {
   "cell_type": "markdown",
   "metadata": {
    "colab_type": "text",
    "id": "qbe57-0PXSoH",
    "slideshow": {
     "slide_type": "fragment"
    }
   },
   "source": [
    "We now have the whole book in a variable, called `booklines`, that is a list of strings, each string a line of the book."
   ]
  },
  {
   "cell_type": "markdown",
   "metadata": {
    "colab_type": "text",
    "id": "3G36CxBHXSoH",
    "slideshow": {
     "slide_type": "slide"
    }
   },
   "source": [
    "## Read the file\n",
    "\n",
    "**Question:** Let's print the first 10 lines of _Pride and Prejudice_? What do you see?"
   ]
  },
  {
   "cell_type": "code",
   "execution_count": null,
   "metadata": {
    "colab": {},
    "colab_type": "code",
    "id": "USCV02RjXSoI",
    "slideshow": {
     "slide_type": "fragment"
    }
   },
   "outputs": [],
   "source": [
    "print(booklines[:50])"
   ]
  },
  {
   "cell_type": "code",
   "execution_count": null,
   "metadata": {
    "colab": {},
    "colab_type": "code",
    "id": "DOl6Pi5uXSoJ",
    "slideshow": {
     "slide_type": "fragment"
    }
   },
   "outputs": [],
   "source": [
    "for line in booklines[:10]:\n",
    "    print(line)"
   ]
  },
  {
   "cell_type": "markdown",
   "metadata": {
    "colab_type": "text",
    "id": "0g1ABrTyXSoL",
    "slideshow": {
     "slide_type": "slide"
    }
   },
   "source": [
    "## Exercise: How many chapters are there in the novel?\n",
    "\n",
    "Suggested steps (but feel free to be innovative):\n",
    "1. Create a variable that will hold the counting, instantiate it with 0 (number, not string!).\n",
    "2. Iterate over each line of the novel.\n",
    "3. For each line, see if line indicates a new chapter (tip: use regular expressions).\n",
    "4. If line indicates a new chapter, increment the counter variable by 1.\n",
    "5. Finally, when you are done, print the counter variable.\n",
    "6. Go to the actual book, and check if you got the answer right."
   ]
  },
  {
   "cell_type": "code",
   "execution_count": null,
   "metadata": {
    "colab": {},
    "colab_type": "code",
    "id": "3sxEIrZclr9G",
    "slideshow": {
     "slide_type": "fragment"
    }
   },
   "outputs": [],
   "source": [
    "# Type your code here:\n",
    "\n"
   ]
  },
  {
   "cell_type": "code",
   "execution_count": null,
   "metadata": {
    "colab": {},
    "colab_type": "code",
    "id": "9TIK1TjJXSoM",
    "slideshow": {
     "slide_type": "slide"
    }
   },
   "outputs": [],
   "source": [
    "# Suggested solution\n",
    "\n",
    "import re\n",
    "\n",
    "counter = 0\n",
    "pattern = r'^Chapter \\d+$'\n",
    "for line in booklines:\n",
    "    myMatch = re.match(pattern, line)\n",
    "    if myMatch:\n",
    "        counter += 1\n",
    "print(counter)"
   ]
  },
  {
   "cell_type": "markdown",
   "metadata": {
    "colab_type": "text",
    "id": "md2d-lRjXSoP",
    "slideshow": {
     "slide_type": "slide"
    }
   },
   "source": [
    "## Exercise: Let's americanize Pride and Prejudice\n",
    "\n",
    "Suggestions:\n",
    "* Replace \"-ise\" endings with \"-ize\"\n",
    "* Replace \"trousers\" with \"pants\"\n",
    "* Replace \"biscuit\" with \"cookie\"\n",
    "* ... anything you can think of!\n",
    "\n",
    "Try both with the ```.replace()``` and ```re.sub()``` methods, which one seems to work better?"
   ]
  },
  {
   "cell_type": "code",
   "execution_count": null,
   "metadata": {
    "colab": {},
    "colab_type": "code",
    "id": "vUpnlzqFlu8x",
    "slideshow": {
     "slide_type": "fragment"
    }
   },
   "outputs": [],
   "source": [
    "# Type your code here:\n",
    "\n"
   ]
  },
  {
   "cell_type": "code",
   "execution_count": null,
   "metadata": {
    "colab": {},
    "colab_type": "code",
    "id": "K4CvbkqrXSoQ",
    "slideshow": {
     "slide_type": "slide"
    }
   },
   "outputs": [],
   "source": [
    "# Suggested solution, with `.replace()`\n",
    "\n",
    "for line in booklines:\n",
    "    line = line.strip()\n",
    "    line = line.replace(\"ise\", \"ize\")\n",
    "    print(line)"
   ]
  },
  {
   "cell_type": "code",
   "execution_count": null,
   "metadata": {
    "colab": {},
    "colab_type": "code",
    "id": "lxlngbMfXSoS",
    "slideshow": {
     "slide_type": "slide"
    }
   },
   "outputs": [],
   "source": [
    "# Suggested solution, with `re.sub()`\n",
    "\n",
    "pattern = r'ise\\b'\n",
    "for line in booklines:\n",
    "    line = line.strip()\n",
    "    line = re.sub(pattern, \"ize\", line)\n",
    "    print(line)"
   ]
  },
  {
   "cell_type": "markdown",
   "metadata": {
    "colab_type": "text",
    "id": "hb7qadP_XSoU",
    "slideshow": {
     "slide_type": "slide"
    }
   },
   "source": [
    "## Exercise: Return all the Misses in the novel\n",
    "\n",
    "Find all occurrences of the word 'Miss' followed by any name.\n",
    "\n",
    "Suggestions:\n",
    "* Use the full text, not separated in lines (i.e. the `book` variable)\n",
    "* Use the re.findall() method"
   ]
  },
  {
   "cell_type": "code",
   "execution_count": null,
   "metadata": {
    "colab": {},
    "colab_type": "code",
    "id": "4ecZ3rz_lw5p",
    "slideshow": {
     "slide_type": "fragment"
    }
   },
   "outputs": [],
   "source": [
    "# Type your code here:\n",
    "\n"
   ]
  },
  {
   "cell_type": "code",
   "execution_count": null,
   "metadata": {
    "colab": {},
    "colab_type": "code",
    "id": "5xLQ2spVXSoV",
    "slideshow": {
     "slide_type": "slide"
    }
   },
   "outputs": [],
   "source": [
    "# Suggested solution:\n",
    "\n",
    "pattern = r'\\b(Miss [A-Z][a-z]+)\\b'\n",
    "print(re.findall(pattern, book))"
   ]
  },
  {
   "cell_type": "code",
   "execution_count": null,
   "metadata": {},
   "outputs": [],
   "source": []
  }
 ],
 "metadata": {
  "celltoolbar": "Slideshow",
  "colab": {
   "name": "prideprejudice.ipynb",
   "provenance": [],
   "version": "0.3.2"
  },
  "kernelspec": {
   "display_name": "Python 3 (ipykernel)",
   "language": "python",
   "name": "python3"
  },
  "language_info": {
   "codemirror_mode": {
    "name": "ipython",
    "version": 3
   },
   "file_extension": ".py",
   "mimetype": "text/x-python",
   "name": "python",
   "nbconvert_exporter": "python",
   "pygments_lexer": "ipython3",
   "version": "3.9.12"
  }
 },
 "nbformat": 4,
 "nbformat_minor": 1
}
