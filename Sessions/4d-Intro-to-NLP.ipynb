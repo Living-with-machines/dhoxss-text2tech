{
 "cells": [
  {
   "cell_type": "markdown",
   "id": "7e460381",
   "metadata": {
    "slideshow": {
     "slide_type": "slide"
    }
   },
   "source": [
    "# Linguistic processing with Spacy"
   ]
  },
  {
   "cell_type": "markdown",
   "id": "c334b7ef",
   "metadata": {
    "slideshow": {
     "slide_type": "slide"
    }
   },
   "source": [
    "As we've been seeing, first of all we need to import Spacy and\n",
    "load a trained pipeline:"
   ]
  },
  {
   "cell_type": "code",
   "execution_count": 1,
   "id": "9a019952",
   "metadata": {
    "slideshow": {
     "slide_type": "fragment"
    }
   },
   "outputs": [],
   "source": [
    "# Import spacy\n",
    "import spacy\n",
    "\n",
    "# Load English language pipeline and store in variable `nlp`:\n",
    "nlp = spacy.load(\"en_core_web_sm\")"
   ]
  },
  {
   "cell_type": "markdown",
   "id": "074c4747",
   "metadata": {
    "slideshow": {
     "slide_type": "slide"
    }
   },
   "source": [
    "## Sentence-level processing"
   ]
  },
  {
   "cell_type": "markdown",
   "id": "21215e8b",
   "metadata": {
    "slideshow": {
     "slide_type": "slide"
    }
   },
   "source": [
    "### Sentence segmentation"
   ]
  },
  {
   "cell_type": "code",
   "execution_count": 2,
   "id": "ca0922b9",
   "metadata": {
    "slideshow": {
     "slide_type": "fragment"
    }
   },
   "outputs": [
    {
     "name": "stdout",
     "output_type": "stream",
     "text": [
      "['Mr. Smith and Mr. Jones went to the shops.', 'They bought a notebook.']\n"
     ]
    }
   ],
   "source": [
    "# Sentence to process:\n",
    "txt = \"Mr. Smith and Mr. Jones went to the shops. They bought a notebook.\"\n",
    "\n",
    "# Process the sentence using the trained pipeline that has been loaded before:\n",
    "doc = nlp(txt)\n",
    "\n",
    "# To retrieve sentences from a `doc` object, use the `sents` attribute:\n",
    "print([sent.text for sent in doc.sents])"
   ]
  },
  {
   "cell_type": "markdown",
   "id": "48ea5c6d",
   "metadata": {
    "slideshow": {
     "slide_type": "slide"
    }
   },
   "source": [
    "## Token-level processing"
   ]
  },
  {
   "cell_type": "markdown",
   "id": "439309bf",
   "metadata": {
    "slideshow": {
     "slide_type": "slide"
    }
   },
   "source": [
    "### Tokenization"
   ]
  },
  {
   "cell_type": "markdown",
   "id": "d14c5884",
   "metadata": {
    "slideshow": {
     "slide_type": "slide"
    }
   },
   "source": [
    "With a for-loop:"
   ]
  },
  {
   "cell_type": "code",
   "execution_count": 3,
   "id": "bbb46235",
   "metadata": {
    "slideshow": {
     "slide_type": "fragment"
    }
   },
   "outputs": [
    {
     "name": "stdout",
     "output_type": "stream",
     "text": [
      "Mr.\n",
      "Smith\n",
      "and\n",
      "Mr.\n",
      "Jones\n",
      "went\n",
      "to\n",
      "the\n",
      "shops\n",
      "and\n",
      "they\n",
      "bought\n",
      "a\n",
      "notebook\n",
      ".\n"
     ]
    }
   ],
   "source": [
    "# Given a sentence:\n",
    "txt = \"Mr. Smith and Mr. Jones went to the shops and they bought a notebook.\"\n",
    "\n",
    "# Process the sentence using the trained pipeline that has been loaded before:\n",
    "doc = nlp(txt)\n",
    "\n",
    "# Access the tokens text, either in a for-loop:\n",
    "for token in doc:\n",
    "    print(token.text)"
   ]
  },
  {
   "cell_type": "markdown",
   "id": "b25b135c",
   "metadata": {
    "slideshow": {
     "slide_type": "slide"
    }
   },
   "source": [
    "With a list comprehension:"
   ]
  },
  {
   "cell_type": "code",
   "execution_count": 4,
   "id": "e36037d6",
   "metadata": {
    "slideshow": {
     "slide_type": "fragment"
    }
   },
   "outputs": [
    {
     "name": "stdout",
     "output_type": "stream",
     "text": [
      "['Mr.', 'Smith', 'and', 'Mr.', 'Jones', 'went', 'to', 'the', 'shops', 'and', 'they', 'bought', 'a', 'notebook', '.']\n"
     ]
    }
   ],
   "source": [
    "# Given a sentence:\n",
    "txt = \"Mr. Smith and Mr. Jones went to the shops and they bought a notebook.\"\n",
    "\n",
    "# Process the sentence using the trained pipeline that has been loaded before:\n",
    "doc = nlp(txt)\n",
    "\n",
    "# ... or with a list-comprehension:\n",
    "print([token.text for token in doc])"
   ]
  },
  {
   "cell_type": "markdown",
   "id": "975f1dbd",
   "metadata": {
    "slideshow": {
     "slide_type": "slide"
    }
   },
   "source": [
    "### Lemmatization"
   ]
  },
  {
   "cell_type": "code",
   "execution_count": 5,
   "id": "734f3a44",
   "metadata": {
    "slideshow": {
     "slide_type": "fragment"
    }
   },
   "outputs": [
    {
     "name": "stdout",
     "output_type": "stream",
     "text": [
      "['Mr.', 'Smith', 'and', 'Mr.', 'Jones', 'go', 'to', 'the', 'shop', 'and', 'they', 'buy', 'a', 'notebook', '.']\n"
     ]
    }
   ],
   "source": [
    "# Given a sentence:\n",
    "txt = \"Mr. Smith and Mr. Jones went to the shops and they bought a notebook.\"\n",
    "\n",
    "# Process the sentence using the trained pipeline that has been loaded before:\n",
    "doc = nlp(txt)\n",
    "\n",
    "# Access the tokens lemmas:\n",
    "print([token.lemma_ for token in doc])"
   ]
  },
  {
   "cell_type": "markdown",
   "id": "bd77ca65",
   "metadata": {
    "slideshow": {
     "slide_type": "slide"
    }
   },
   "source": [
    "### Part-of-speech tagging"
   ]
  },
  {
   "cell_type": "code",
   "execution_count": 6,
   "id": "9962b778",
   "metadata": {
    "slideshow": {
     "slide_type": "fragment"
    }
   },
   "outputs": [
    {
     "name": "stdout",
     "output_type": "stream",
     "text": [
      "['PROPN', 'PROPN', 'CCONJ', 'PROPN', 'PROPN', 'VERB', 'ADP', 'DET', 'NOUN', 'CCONJ', 'PRON', 'VERB', 'DET', 'NOUN', 'PUNCT']\n"
     ]
    }
   ],
   "source": [
    "# Given a sentence:\n",
    "txt = \"Mr. Smith and Mr. Jones went to the shops and they bought a notebook.\"\n",
    "\n",
    "# Process the sentence using the trained pipeline that has been loaded before:\n",
    "doc = nlp(txt)\n",
    "\n",
    "# Get the part-of-speech of each token:\n",
    "print([token.pos_ for token in doc])"
   ]
  },
  {
   "cell_type": "code",
   "execution_count": 7,
   "id": "cd5d9999",
   "metadata": {
    "slideshow": {
     "slide_type": "slide"
    }
   },
   "outputs": [
    {
     "name": "stdout",
     "output_type": "stream",
     "text": [
      "[('Mr.', 'PROPN'), ('Smith', 'PROPN'), ('and', 'CCONJ'), ('Mr.', 'PROPN'), ('Jones', 'PROPN'), ('went', 'VERB'), ('to', 'ADP'), ('the', 'DET'), ('shops', 'NOUN'), ('and', 'CCONJ'), ('they', 'PRON'), ('bought', 'VERB'), ('a', 'DET'), ('notebook', 'NOUN'), ('.', 'PUNCT')]\n"
     ]
    }
   ],
   "source": [
    "# If we want to get more than one layer or information, we need to have them as a\n",
    "# tuple (i.e. enclosed in parentheses). For example, we want to get the text and\n",
    "# part-of-speech of each token:\n",
    "print([(token.text, token.pos_) for token in doc])"
   ]
  },
  {
   "cell_type": "code",
   "execution_count": 8,
   "id": "dd8d2f36",
   "metadata": {
    "slideshow": {
     "slide_type": "fragment"
    }
   },
   "outputs": [
    {
     "name": "stdout",
     "output_type": "stream",
     "text": [
      "['shops', 'notebook']\n"
     ]
    }
   ],
   "source": [
    "# As we have already seeen in the past, list comprehensions can include conditions.\n",
    "# For example, get only the text of the tokens that are nouns:\n",
    "print([token.text for token in doc if token.pos_ == \"NOUN\"])"
   ]
  },
  {
   "cell_type": "code",
   "execution_count": 9,
   "id": "e53ed371",
   "metadata": {
    "slideshow": {
     "slide_type": "fragment"
    }
   },
   "outputs": [
    {
     "name": "stdout",
     "output_type": "stream",
     "text": [
      "['went', 'bought']\n"
     ]
    }
   ],
   "source": [
    "# Or get only the verbs:\n",
    "print([token.text for token in doc if token.pos_ == \"VERB\"])"
   ]
  },
  {
   "cell_type": "code",
   "execution_count": 10,
   "id": "31b7f5b3",
   "metadata": {
    "slideshow": {
     "slide_type": "slide"
    }
   },
   "outputs": [
    {
     "name": "stdout",
     "output_type": "stream",
     "text": [
      "['went', 'bought']\n"
     ]
    }
   ],
   "source": [
    "# Instead of printing the result, we can store it in a new variable:\n",
    "list_of_verbs = [token.text for token in doc if token.pos_ == \"VERB\"]\n",
    "print(list_of_verbs)"
   ]
  },
  {
   "cell_type": "markdown",
   "id": "5ea2e4a5",
   "metadata": {
    "slideshow": {
     "slide_type": "slide"
    }
   },
   "source": [
    "✏️ **Exercises:**"
   ]
  },
  {
   "cell_type": "code",
   "execution_count": 11,
   "id": "bfc646b5",
   "metadata": {
    "slideshow": {
     "slide_type": "slide"
    }
   },
   "outputs": [],
   "source": [
    "# 1. Print the verbatim text, lemma, and part-of-speech of each token.\n",
    "# \n",
    "# Type your code here:\n",
    "\n"
   ]
  },
  {
   "cell_type": "code",
   "execution_count": 12,
   "id": "64b0e828",
   "metadata": {
    "slideshow": {
     "slide_type": "slide"
    }
   },
   "outputs": [],
   "source": [
    "# 2. Define a new function that takes a sentence and an nlp object as input,\n",
    "# and returns the adjectives in the text (as a list). Then try it with the\n",
    "# following sentences:\n",
    "# \n",
    "# * \"It was a bright cold day in April, and the clocks were striking thirteen.\"\n",
    "# * \"April is the Cruellest Month.\"\n",
    "# * \"Twas brillig, and the slithy toves did gyre and gimble in the wabe; all mimsy were the borogoves, and the mome raths outgrabe.\"\n",
    "# * ... and any other sentence you'd like to try!\n",
    "# \n",
    "# Type your code here:\n",
    "\n"
   ]
  },
  {
   "cell_type": "markdown",
   "id": "211416fc",
   "metadata": {
    "slideshow": {
     "slide_type": "slide"
    }
   },
   "source": [
    "👀 **Suggested solutions:**"
   ]
  },
  {
   "cell_type": "code",
   "execution_count": 13,
   "id": "0e995d51",
   "metadata": {
    "slideshow": {
     "slide_type": "fragment"
    }
   },
   "outputs": [
    {
     "name": "stdout",
     "output_type": "stream",
     "text": [
      "[('Mr.', 'Mr.', 'PROPN'), ('Smith', 'Smith', 'PROPN'), ('and', 'and', 'CCONJ'), ('Mr.', 'Mr.', 'PROPN'), ('Jones', 'Jones', 'PROPN'), ('went', 'go', 'VERB'), ('to', 'to', 'ADP'), ('the', 'the', 'DET'), ('shops', 'shop', 'NOUN'), ('and', 'and', 'CCONJ'), ('they', 'they', 'PRON'), ('bought', 'buy', 'VERB'), ('a', 'a', 'DET'), ('notebook', 'notebook', 'NOUN'), ('.', '.', 'PUNCT')]\n"
     ]
    }
   ],
   "source": [
    "# Exercise 1:\n",
    "\n",
    "print([(token.text, token.lemma_, token.pos_) for token in doc])"
   ]
  },
  {
   "cell_type": "code",
   "execution_count": 14,
   "id": "affc0a22",
   "metadata": {
    "slideshow": {
     "slide_type": "slide"
    }
   },
   "outputs": [
    {
     "data": {
      "text/plain": [
       "['cruellest']"
      ]
     },
     "execution_count": 14,
     "metadata": {},
     "output_type": "execute_result"
    }
   ],
   "source": [
    "# Exercise 2:\n",
    "\n",
    "def get_adjectives(text, nlp):\n",
    "    processed_text = nlp(text)\n",
    "    list_of_adjectives = [token.text for token in processed_text if token.pos_ == \"ADJ\"]\n",
    "    return list_of_adjectives\n",
    "\n",
    "text = \"April is the cruellest month.\"\n",
    "get_adjectives(text, nlp)"
   ]
  },
  {
   "cell_type": "markdown",
   "id": "71960f49",
   "metadata": {
    "slideshow": {
     "slide_type": "slide"
    }
   },
   "source": [
    "### Dependency parsing"
   ]
  },
  {
   "cell_type": "code",
   "execution_count": 15,
   "id": "f1bd8238",
   "metadata": {
    "slideshow": {
     "slide_type": "slide"
    }
   },
   "outputs": [
    {
     "data": {
      "text/html": [
       "<span class=\"tex2jax_ignore\"><svg xmlns=\"http://www.w3.org/2000/svg\" xmlns:xlink=\"http://www.w3.org/1999/xlink\" xml:lang=\"en\" id=\"4fd322b8b4484aada240b6c6466a54c5-0\" class=\"displacy\" width=\"950\" height=\"237.0\" direction=\"ltr\" style=\"max-width: none; height: 237.0px; color: #000000; background: #ffffff; font-family: Arial; direction: ltr\">\n",
       "<text class=\"displacy-token\" fill=\"currentColor\" text-anchor=\"middle\" y=\"147.0\">\n",
       "    <tspan class=\"displacy-word\" fill=\"currentColor\" x=\"50\">A</tspan>\n",
       "    <tspan class=\"displacy-tag\" dy=\"2em\" fill=\"currentColor\" x=\"50\">DET</tspan>\n",
       "</text>\n",
       "\n",
       "<text class=\"displacy-token\" fill=\"currentColor\" text-anchor=\"middle\" y=\"147.0\">\n",
       "    <tspan class=\"displacy-word\" fill=\"currentColor\" x=\"150\">trifling</tspan>\n",
       "    <tspan class=\"displacy-tag\" dy=\"2em\" fill=\"currentColor\" x=\"150\">NOUN</tspan>\n",
       "</text>\n",
       "\n",
       "<text class=\"displacy-token\" fill=\"currentColor\" text-anchor=\"middle\" y=\"147.0\">\n",
       "    <tspan class=\"displacy-word\" fill=\"currentColor\" x=\"250\">incident</tspan>\n",
       "    <tspan class=\"displacy-tag\" dy=\"2em\" fill=\"currentColor\" x=\"250\">NOUN</tspan>\n",
       "</text>\n",
       "\n",
       "<text class=\"displacy-token\" fill=\"currentColor\" text-anchor=\"middle\" y=\"147.0\">\n",
       "    <tspan class=\"displacy-word\" fill=\"currentColor\" x=\"350\">thus</tspan>\n",
       "    <tspan class=\"displacy-tag\" dy=\"2em\" fill=\"currentColor\" x=\"350\">ADV</tspan>\n",
       "</text>\n",
       "\n",
       "<text class=\"displacy-token\" fill=\"currentColor\" text-anchor=\"middle\" y=\"147.0\">\n",
       "    <tspan class=\"displacy-word\" fill=\"currentColor\" x=\"450\">served</tspan>\n",
       "    <tspan class=\"displacy-tag\" dy=\"2em\" fill=\"currentColor\" x=\"450\">VERB</tspan>\n",
       "</text>\n",
       "\n",
       "<text class=\"displacy-token\" fill=\"currentColor\" text-anchor=\"middle\" y=\"147.0\">\n",
       "    <tspan class=\"displacy-word\" fill=\"currentColor\" x=\"550\">to</tspan>\n",
       "    <tspan class=\"displacy-tag\" dy=\"2em\" fill=\"currentColor\" x=\"550\">PART</tspan>\n",
       "</text>\n",
       "\n",
       "<text class=\"displacy-token\" fill=\"currentColor\" text-anchor=\"middle\" y=\"147.0\">\n",
       "    <tspan class=\"displacy-word\" fill=\"currentColor\" x=\"650\">settle</tspan>\n",
       "    <tspan class=\"displacy-tag\" dy=\"2em\" fill=\"currentColor\" x=\"650\">VERB</tspan>\n",
       "</text>\n",
       "\n",
       "<text class=\"displacy-token\" fill=\"currentColor\" text-anchor=\"middle\" y=\"147.0\">\n",
       "    <tspan class=\"displacy-word\" fill=\"currentColor\" x=\"750\">a</tspan>\n",
       "    <tspan class=\"displacy-tag\" dy=\"2em\" fill=\"currentColor\" x=\"750\">DET</tspan>\n",
       "</text>\n",
       "\n",
       "<text class=\"displacy-token\" fill=\"currentColor\" text-anchor=\"middle\" y=\"147.0\">\n",
       "    <tspan class=\"displacy-word\" fill=\"currentColor\" x=\"850\">victory.</tspan>\n",
       "    <tspan class=\"displacy-tag\" dy=\"2em\" fill=\"currentColor\" x=\"850\">NOUN</tspan>\n",
       "</text>\n",
       "\n",
       "<g class=\"displacy-arrow\">\n",
       "    <path class=\"displacy-arc\" id=\"arrow-4fd322b8b4484aada240b6c6466a54c5-0-0\" stroke-width=\"2px\" d=\"M70,102.0 C70,2.0 250.0,2.0 250.0,102.0\" fill=\"none\" stroke=\"currentColor\"/>\n",
       "    <text dy=\"1.25em\" style=\"font-size: 0.8em; letter-spacing: 1px\">\n",
       "        <textPath xlink:href=\"#arrow-4fd322b8b4484aada240b6c6466a54c5-0-0\" class=\"displacy-label\" startOffset=\"50%\" side=\"left\" fill=\"currentColor\" text-anchor=\"middle\">det</textPath>\n",
       "    </text>\n",
       "    <path class=\"displacy-arrowhead\" d=\"M70,104.0 L62,92.0 78,92.0\" fill=\"currentColor\"/>\n",
       "</g>\n",
       "\n",
       "<g class=\"displacy-arrow\">\n",
       "    <path class=\"displacy-arc\" id=\"arrow-4fd322b8b4484aada240b6c6466a54c5-0-1\" stroke-width=\"2px\" d=\"M170,102.0 C170,52.0 245.0,52.0 245.0,102.0\" fill=\"none\" stroke=\"currentColor\"/>\n",
       "    <text dy=\"1.25em\" style=\"font-size: 0.8em; letter-spacing: 1px\">\n",
       "        <textPath xlink:href=\"#arrow-4fd322b8b4484aada240b6c6466a54c5-0-1\" class=\"displacy-label\" startOffset=\"50%\" side=\"left\" fill=\"currentColor\" text-anchor=\"middle\">compound</textPath>\n",
       "    </text>\n",
       "    <path class=\"displacy-arrowhead\" d=\"M170,104.0 L162,92.0 178,92.0\" fill=\"currentColor\"/>\n",
       "</g>\n",
       "\n",
       "<g class=\"displacy-arrow\">\n",
       "    <path class=\"displacy-arc\" id=\"arrow-4fd322b8b4484aada240b6c6466a54c5-0-2\" stroke-width=\"2px\" d=\"M270,102.0 C270,2.0 450.0,2.0 450.0,102.0\" fill=\"none\" stroke=\"currentColor\"/>\n",
       "    <text dy=\"1.25em\" style=\"font-size: 0.8em; letter-spacing: 1px\">\n",
       "        <textPath xlink:href=\"#arrow-4fd322b8b4484aada240b6c6466a54c5-0-2\" class=\"displacy-label\" startOffset=\"50%\" side=\"left\" fill=\"currentColor\" text-anchor=\"middle\">nsubj</textPath>\n",
       "    </text>\n",
       "    <path class=\"displacy-arrowhead\" d=\"M270,104.0 L262,92.0 278,92.0\" fill=\"currentColor\"/>\n",
       "</g>\n",
       "\n",
       "<g class=\"displacy-arrow\">\n",
       "    <path class=\"displacy-arc\" id=\"arrow-4fd322b8b4484aada240b6c6466a54c5-0-3\" stroke-width=\"2px\" d=\"M370,102.0 C370,52.0 445.0,52.0 445.0,102.0\" fill=\"none\" stroke=\"currentColor\"/>\n",
       "    <text dy=\"1.25em\" style=\"font-size: 0.8em; letter-spacing: 1px\">\n",
       "        <textPath xlink:href=\"#arrow-4fd322b8b4484aada240b6c6466a54c5-0-3\" class=\"displacy-label\" startOffset=\"50%\" side=\"left\" fill=\"currentColor\" text-anchor=\"middle\">advmod</textPath>\n",
       "    </text>\n",
       "    <path class=\"displacy-arrowhead\" d=\"M370,104.0 L362,92.0 378,92.0\" fill=\"currentColor\"/>\n",
       "</g>\n",
       "\n",
       "<g class=\"displacy-arrow\">\n",
       "    <path class=\"displacy-arc\" id=\"arrow-4fd322b8b4484aada240b6c6466a54c5-0-4\" stroke-width=\"2px\" d=\"M570,102.0 C570,52.0 645.0,52.0 645.0,102.0\" fill=\"none\" stroke=\"currentColor\"/>\n",
       "    <text dy=\"1.25em\" style=\"font-size: 0.8em; letter-spacing: 1px\">\n",
       "        <textPath xlink:href=\"#arrow-4fd322b8b4484aada240b6c6466a54c5-0-4\" class=\"displacy-label\" startOffset=\"50%\" side=\"left\" fill=\"currentColor\" text-anchor=\"middle\">aux</textPath>\n",
       "    </text>\n",
       "    <path class=\"displacy-arrowhead\" d=\"M570,104.0 L562,92.0 578,92.0\" fill=\"currentColor\"/>\n",
       "</g>\n",
       "\n",
       "<g class=\"displacy-arrow\">\n",
       "    <path class=\"displacy-arc\" id=\"arrow-4fd322b8b4484aada240b6c6466a54c5-0-5\" stroke-width=\"2px\" d=\"M470,102.0 C470,2.0 650.0,2.0 650.0,102.0\" fill=\"none\" stroke=\"currentColor\"/>\n",
       "    <text dy=\"1.25em\" style=\"font-size: 0.8em; letter-spacing: 1px\">\n",
       "        <textPath xlink:href=\"#arrow-4fd322b8b4484aada240b6c6466a54c5-0-5\" class=\"displacy-label\" startOffset=\"50%\" side=\"left\" fill=\"currentColor\" text-anchor=\"middle\">xcomp</textPath>\n",
       "    </text>\n",
       "    <path class=\"displacy-arrowhead\" d=\"M650.0,104.0 L658.0,92.0 642.0,92.0\" fill=\"currentColor\"/>\n",
       "</g>\n",
       "\n",
       "<g class=\"displacy-arrow\">\n",
       "    <path class=\"displacy-arc\" id=\"arrow-4fd322b8b4484aada240b6c6466a54c5-0-6\" stroke-width=\"2px\" d=\"M770,102.0 C770,52.0 845.0,52.0 845.0,102.0\" fill=\"none\" stroke=\"currentColor\"/>\n",
       "    <text dy=\"1.25em\" style=\"font-size: 0.8em; letter-spacing: 1px\">\n",
       "        <textPath xlink:href=\"#arrow-4fd322b8b4484aada240b6c6466a54c5-0-6\" class=\"displacy-label\" startOffset=\"50%\" side=\"left\" fill=\"currentColor\" text-anchor=\"middle\">det</textPath>\n",
       "    </text>\n",
       "    <path class=\"displacy-arrowhead\" d=\"M770,104.0 L762,92.0 778,92.0\" fill=\"currentColor\"/>\n",
       "</g>\n",
       "\n",
       "<g class=\"displacy-arrow\">\n",
       "    <path class=\"displacy-arc\" id=\"arrow-4fd322b8b4484aada240b6c6466a54c5-0-7\" stroke-width=\"2px\" d=\"M670,102.0 C670,2.0 850.0,2.0 850.0,102.0\" fill=\"none\" stroke=\"currentColor\"/>\n",
       "    <text dy=\"1.25em\" style=\"font-size: 0.8em; letter-spacing: 1px\">\n",
       "        <textPath xlink:href=\"#arrow-4fd322b8b4484aada240b6c6466a54c5-0-7\" class=\"displacy-label\" startOffset=\"50%\" side=\"left\" fill=\"currentColor\" text-anchor=\"middle\">dobj</textPath>\n",
       "    </text>\n",
       "    <path class=\"displacy-arrowhead\" d=\"M850.0,104.0 L858.0,92.0 842.0,92.0\" fill=\"currentColor\"/>\n",
       "</g>\n",
       "</svg></span>"
      ],
      "text/plain": [
       "<IPython.core.display.HTML object>"
      ]
     },
     "metadata": {},
     "output_type": "display_data"
    }
   ],
   "source": [
    "# Pro tip: you can visualize the dependency parsing like this:\n",
    "\n",
    "from spacy import displacy\n",
    "\n",
    "txt = \"A trifling incident thus served to settle a victory.\"\n",
    "doc = nlp(txt)\n",
    "\n",
    "displacy.render(doc, style='dep', jupyter=True, options={'distance': 100})"
   ]
  },
  {
   "cell_type": "code",
   "execution_count": 16,
   "id": "75532325",
   "metadata": {
    "slideshow": {
     "slide_type": "slide"
    }
   },
   "outputs": [
    {
     "name": "stdout",
     "output_type": "stream",
     "text": [
      "[('A', 'det', 'incident'), ('trifling', 'compound', 'incident'), ('incident', 'nsubj', 'served'), ('thus', 'advmod', 'served'), ('served', 'ROOT', 'served'), ('to', 'aux', 'settle'), ('settle', 'xcomp', 'served'), ('a', 'det', 'victory'), ('victory', 'dobj', 'settle'), ('.', 'punct', 'served')]\n"
     ]
    }
   ],
   "source": [
    "# Given a sentence:\n",
    "txt = \"A trifling incident thus served to settle a victory.\"\n",
    "\n",
    "# Process the sentence using the trained pipeline that has been loaded before:\n",
    "doc = nlp(txt)\n",
    "\n",
    "# The text, the dependency and the head token for each token in the doc, stored in `parsing`:\n",
    "parsing = [(token.text, token.dep_, token.head.text) for token in doc]\n",
    "print(parsing)"
   ]
  },
  {
   "cell_type": "markdown",
   "id": "74a1a59e",
   "metadata": {
    "id": "MBCNxvkafQ8u",
    "slideshow": {
     "slide_type": "slide"
    }
   },
   "source": [
    "# Processing text in a dataframe"
   ]
  },
  {
   "cell_type": "markdown",
   "id": "eb3a2a0b",
   "metadata": {
    "id": "0L0vltyv1q0S",
    "slideshow": {
     "slide_type": "fragment"
    }
   },
   "source": [
    "First let's have a look at our data [here](data/LwM-nlp-animacy-annotations-machines19thC.tsv).\n",
    "\n",
    "The first step before any preprocessing or analysis can even begin should be to make sure you understand your data. The decision on which preprocessing steps (and which analyses you are able to carry out!) will change depending on the characteristics of your dataset."
   ]
  },
  {
   "cell_type": "markdown",
   "id": "7f8f4527",
   "metadata": {
    "id": "5FkuP3ay6GqU",
    "slideshow": {
     "slide_type": "slide"
    }
   },
   "source": [
    "We will be using **pandas** to work with tabular data:"
   ]
  },
  {
   "cell_type": "code",
   "execution_count": 17,
   "id": "220b28c7",
   "metadata": {
    "id": "HIN461kJ6Iro",
    "slideshow": {
     "slide_type": "fragment"
    }
   },
   "outputs": [],
   "source": [
    "# Import the pandas library\n",
    "import pandas as pd"
   ]
  },
  {
   "cell_type": "markdown",
   "id": "b77b3a3f",
   "metadata": {
    "id": "OoHd-2R_vqYy",
    "slideshow": {
     "slide_type": "slide"
    }
   },
   "source": [
    "Load the dataset:"
   ]
  },
  {
   "cell_type": "code",
   "execution_count": 18,
   "id": "5ece06c5",
   "metadata": {
    "colab": {
     "base_uri": "https://localhost:8080/",
     "height": 548
    },
    "id": "6LISqiBHskWq",
    "outputId": "f8d30a65-2841-4977-a3f1-e12590f6da6f",
    "slideshow": {
     "slide_type": "fragment"
    }
   },
   "outputs": [],
   "source": [
    "# We can read the tsv file using pandas library. The resulting object is called\n",
    "# a dataframe, which we store in variable `df`:\n",
    "df = pd.read_csv(\"data/LwM-nlp-animacy-annotations-machines19thC.tsv\", sep=\"\\t\", index_col=0)"
   ]
  },
  {
   "cell_type": "markdown",
   "id": "05623de1",
   "metadata": {
    "id": "fo8wd_tIwnL3",
    "slideshow": {
     "slide_type": "slide"
    }
   },
   "source": [
    "Have a look at your data:"
   ]
  },
  {
   "cell_type": "code",
   "execution_count": 19,
   "id": "fd0400f8",
   "metadata": {
    "id": "TXd2p2vCYjZB",
    "slideshow": {
     "slide_type": "fragment"
    }
   },
   "outputs": [
    {
     "data": {
      "text/html": [
       "<div>\n",
       "<style scoped>\n",
       "    .dataframe tbody tr th:only-of-type {\n",
       "        vertical-align: middle;\n",
       "    }\n",
       "\n",
       "    .dataframe tbody tr th {\n",
       "        vertical-align: top;\n",
       "    }\n",
       "\n",
       "    .dataframe thead th {\n",
       "        text-align: right;\n",
       "    }\n",
       "</style>\n",
       "<table border=\"1\" class=\"dataframe\">\n",
       "  <thead>\n",
       "    <tr style=\"text-align: right;\">\n",
       "      <th></th>\n",
       "      <th>Date</th>\n",
       "      <th>Sentence</th>\n",
       "      <th>SentenceCtxt</th>\n",
       "      <th>SentenceId</th>\n",
       "      <th>TargetExpression</th>\n",
       "      <th>animacy</th>\n",
       "      <th>humanness</th>\n",
       "    </tr>\n",
       "  </thead>\n",
       "  <tbody>\n",
       "    <tr>\n",
       "      <th>0</th>\n",
       "      <td>1891</td>\n",
       "      <td>Poetic RMS OF THE CITY OF MANCHESTEI legends m...</td>\n",
       "      <td>That there was a Roman camp on Castlefield, wi...</td>\n",
       "      <td>002732647_02_180_7</td>\n",
       "      <td>engine</td>\n",
       "      <td>0.0</td>\n",
       "      <td>0.0</td>\n",
       "    </tr>\n",
       "    <tr>\n",
       "      <th>1</th>\n",
       "      <td>1880</td>\n",
       "      <td>Immured in a convent, debarred from life-givin...</td>\n",
       "      <td>and sounds of His creation. [SEP] Immured in a...</td>\n",
       "      <td>003176106_01_278_2</td>\n",
       "      <td>machines</td>\n",
       "      <td>1.0</td>\n",
       "      <td>0.0</td>\n",
       "    </tr>\n",
       "    <tr>\n",
       "      <th>2</th>\n",
       "      <td>1871</td>\n",
       "      <td>Still, before these moral stumps are removed, ...</td>\n",
       "      <td>The re moval of the former, however, is much e...</td>\n",
       "      <td>001028082_01_132_8</td>\n",
       "      <td>machine</td>\n",
       "      <td>1.0</td>\n",
       "      <td>0.0</td>\n",
       "    </tr>\n",
       "    <tr>\n",
       "      <th>3</th>\n",
       "      <td>1893</td>\n",
       "      <td>100 shows a Cornish ***boiler*** improperly se...</td>\n",
       "      <td>Fig. [SEP] 100 shows a Cornish ***boiler*** im...</td>\n",
       "      <td>002757962_01_184_16</td>\n",
       "      <td>boiler</td>\n",
       "      <td>0.0</td>\n",
       "      <td>1.0</td>\n",
       "    </tr>\n",
       "    <tr>\n",
       "      <th>4</th>\n",
       "      <td>1883</td>\n",
       "      <td>Laws are too apt to be regarded as if intended...</td>\n",
       "      <td>What a deal of time, trouble, expense, and mis...</td>\n",
       "      <td>002932979_02_121_10</td>\n",
       "      <td>machinery</td>\n",
       "      <td>0.0</td>\n",
       "      <td>0.0</td>\n",
       "    </tr>\n",
       "  </tbody>\n",
       "</table>\n",
       "</div>"
      ],
      "text/plain": [
       "   Date                                           Sentence  \\\n",
       "0  1891  Poetic RMS OF THE CITY OF MANCHESTEI legends m...   \n",
       "1  1880  Immured in a convent, debarred from life-givin...   \n",
       "2  1871  Still, before these moral stumps are removed, ...   \n",
       "3  1893  100 shows a Cornish ***boiler*** improperly se...   \n",
       "4  1883  Laws are too apt to be regarded as if intended...   \n",
       "\n",
       "                                        SentenceCtxt           SentenceId  \\\n",
       "0  That there was a Roman camp on Castlefield, wi...   002732647_02_180_7   \n",
       "1  and sounds of His creation. [SEP] Immured in a...   003176106_01_278_2   \n",
       "2  The re moval of the former, however, is much e...   001028082_01_132_8   \n",
       "3  Fig. [SEP] 100 shows a Cornish ***boiler*** im...  002757962_01_184_16   \n",
       "4  What a deal of time, trouble, expense, and mis...  002932979_02_121_10   \n",
       "\n",
       "  TargetExpression  animacy  humanness  \n",
       "0           engine      0.0        0.0  \n",
       "1         machines      1.0        0.0  \n",
       "2          machine      1.0        0.0  \n",
       "3           boiler      0.0        1.0  \n",
       "4        machinery      0.0        0.0  "
      ]
     },
     "execution_count": 19,
     "metadata": {},
     "output_type": "execute_result"
    }
   ],
   "source": [
    "# Let's print the first rows of our dataframe:\n",
    "df.head()"
   ]
  },
  {
   "cell_type": "code",
   "execution_count": 20,
   "id": "6dcdfccb",
   "metadata": {
    "slideshow": {
     "slide_type": "slide"
    }
   },
   "outputs": [],
   "source": [
    "def process_text(text):\n",
    "    \"\"\"\n",
    "    Function that takes a text and an nlp pipeline, and\n",
    "    returns a list of the verbs in the text.\n",
    "    \n",
    "    Args:\n",
    "        text: The text that will be processed.\n",
    "        nlp: A spacy pipeline.\n",
    "    \n",
    "    Returns:\n",
    "        A list of verbs in the text.\n",
    "    \"\"\"\n",
    "    doc = nlp(text)\n",
    "    processed = [x.text for x in doc if x.pos_ == \"VERB\"]\n",
    "    return processed"
   ]
  },
  {
   "cell_type": "code",
   "execution_count": null,
   "id": "3c2920e7",
   "metadata": {},
   "outputs": [],
   "source": [
    "# Apply the procfunction to a column in the dataframe:\n",
    "df['SentenceCtxt'].apply(process_text)"
   ]
  },
  {
   "cell_type": "code",
   "execution_count": 21,
   "id": "c3c4298a",
   "metadata": {
    "slideshow": {
     "slide_type": "slide"
    }
   },
   "outputs": [],
   "source": [
    "# Apply the process_text() function to the 'SentenceCtxt' column:\n",
    "df['processed'] = df['SentenceCtxt'].apply(process_text)"
   ]
  },
  {
   "cell_type": "code",
   "execution_count": 22,
   "id": "479cca46",
   "metadata": {
    "slideshow": {
     "slide_type": "slide"
    }
   },
   "outputs": [
    {
     "data": {
      "text/html": [
       "<div>\n",
       "<style scoped>\n",
       "    .dataframe tbody tr th:only-of-type {\n",
       "        vertical-align: middle;\n",
       "    }\n",
       "\n",
       "    .dataframe tbody tr th {\n",
       "        vertical-align: top;\n",
       "    }\n",
       "\n",
       "    .dataframe thead th {\n",
       "        text-align: right;\n",
       "    }\n",
       "</style>\n",
       "<table border=\"1\" class=\"dataframe\">\n",
       "  <thead>\n",
       "    <tr style=\"text-align: right;\">\n",
       "      <th></th>\n",
       "      <th>Date</th>\n",
       "      <th>Sentence</th>\n",
       "      <th>SentenceCtxt</th>\n",
       "      <th>SentenceId</th>\n",
       "      <th>TargetExpression</th>\n",
       "      <th>animacy</th>\n",
       "      <th>humanness</th>\n",
       "      <th>processed</th>\n",
       "    </tr>\n",
       "  </thead>\n",
       "  <tbody>\n",
       "    <tr>\n",
       "      <th>0</th>\n",
       "      <td>1891</td>\n",
       "      <td>Poetic RMS OF THE CITY OF MANCHESTEI legends m...</td>\n",
       "      <td>That there was a Roman camp on Castlefield, wi...</td>\n",
       "      <td>002732647_02_180_7</td>\n",
       "      <td>engine</td>\n",
       "      <td>0.0</td>\n",
       "      <td>0.0</td>\n",
       "      <td>[was, is, occupied, asserted, claim, inhabited...</td>\n",
       "    </tr>\n",
       "    <tr>\n",
       "      <th>1</th>\n",
       "      <td>1880</td>\n",
       "      <td>Immured in a convent, debarred from life-givin...</td>\n",
       "      <td>and sounds of His creation. [SEP] Immured in a...</td>\n",
       "      <td>003176106_01_278_2</td>\n",
       "      <td>machines</td>\n",
       "      <td>1.0</td>\n",
       "      <td>0.0</td>\n",
       "      <td>[sounds, debarred, giving, cease, living, feel...</td>\n",
       "    </tr>\n",
       "    <tr>\n",
       "      <th>2</th>\n",
       "      <td>1871</td>\n",
       "      <td>Still, before these moral stumps are removed, ...</td>\n",
       "      <td>The re moval of the former, however, is much e...</td>\n",
       "      <td>001028082_01_132_8</td>\n",
       "      <td>machine</td>\n",
       "      <td>1.0</td>\n",
       "      <td>0.0</td>\n",
       "      <td>[removed, return, removed, stumping, have, do,...</td>\n",
       "    </tr>\n",
       "    <tr>\n",
       "      <th>3</th>\n",
       "      <td>1893</td>\n",
       "      <td>100 shows a Cornish ***boiler*** improperly se...</td>\n",
       "      <td>Fig. [SEP] 100 shows a Cornish ***boiler*** im...</td>\n",
       "      <td>002757962_01_184_16</td>\n",
       "      <td>boiler</td>\n",
       "      <td>0.0</td>\n",
       "      <td>1.0</td>\n",
       "      <td>[shows, seated, cause, applied]</td>\n",
       "    </tr>\n",
       "    <tr>\n",
       "      <th>4</th>\n",
       "      <td>1883</td>\n",
       "      <td>Laws are too apt to be regarded as if intended...</td>\n",
       "      <td>What a deal of time, trouble, expense, and mis...</td>\n",
       "      <td>002932979_02_121_10</td>\n",
       "      <td>machinery</td>\n",
       "      <td>0.0</td>\n",
       "      <td>0.0</td>\n",
       "      <td>[saved, considered, legislating, legislating, ...</td>\n",
       "    </tr>\n",
       "  </tbody>\n",
       "</table>\n",
       "</div>"
      ],
      "text/plain": [
       "   Date                                           Sentence  \\\n",
       "0  1891  Poetic RMS OF THE CITY OF MANCHESTEI legends m...   \n",
       "1  1880  Immured in a convent, debarred from life-givin...   \n",
       "2  1871  Still, before these moral stumps are removed, ...   \n",
       "3  1893  100 shows a Cornish ***boiler*** improperly se...   \n",
       "4  1883  Laws are too apt to be regarded as if intended...   \n",
       "\n",
       "                                        SentenceCtxt           SentenceId  \\\n",
       "0  That there was a Roman camp on Castlefield, wi...   002732647_02_180_7   \n",
       "1  and sounds of His creation. [SEP] Immured in a...   003176106_01_278_2   \n",
       "2  The re moval of the former, however, is much e...   001028082_01_132_8   \n",
       "3  Fig. [SEP] 100 shows a Cornish ***boiler*** im...  002757962_01_184_16   \n",
       "4  What a deal of time, trouble, expense, and mis...  002932979_02_121_10   \n",
       "\n",
       "  TargetExpression  animacy  humanness  \\\n",
       "0           engine      0.0        0.0   \n",
       "1         machines      1.0        0.0   \n",
       "2          machine      1.0        0.0   \n",
       "3           boiler      0.0        1.0   \n",
       "4        machinery      0.0        0.0   \n",
       "\n",
       "                                           processed  \n",
       "0  [was, is, occupied, asserted, claim, inhabited...  \n",
       "1  [sounds, debarred, giving, cease, living, feel...  \n",
       "2  [removed, return, removed, stumping, have, do,...  \n",
       "3                    [shows, seated, cause, applied]  \n",
       "4  [saved, considered, legislating, legislating, ...  "
      ]
     },
     "execution_count": 22,
     "metadata": {},
     "output_type": "execute_result"
    }
   ],
   "source": [
    "# Check the first rows: a new column has appeared, with our processing!\n",
    "df.head()"
   ]
  },
  {
   "cell_type": "code",
   "execution_count": 23,
   "id": "adf834b1",
   "metadata": {
    "slideshow": {
     "slide_type": "slide"
    }
   },
   "outputs": [],
   "source": [
    "# Store the dataframe with the added column:\n",
    "df.to_csv(\"data/animacy_processed.tsv\", sep=\"\\t\")"
   ]
  },
  {
   "cell_type": "markdown",
   "id": "0cdec9a3",
   "metadata": {
    "slideshow": {
     "slide_type": "slide"
    }
   },
   "source": [
    "✏️ **Exercises:**"
   ]
  },
  {
   "cell_type": "code",
   "execution_count": 24,
   "id": "0909a24d",
   "metadata": {
    "slideshow": {
     "slide_type": "fragment"
    }
   },
   "outputs": [],
   "source": [
    "# Using the SentenceCtxt column in the animacy dataset, write a function that returns a\n",
    "# list of lemma forms instead of the words. Type your code here:\n",
    "\n"
   ]
  },
  {
   "cell_type": "code",
   "execution_count": 25,
   "id": "65dc5b6a",
   "metadata": {
    "slideshow": {
     "slide_type": "fragment"
    }
   },
   "outputs": [],
   "source": [
    "# Using the SentenceCtxt column in the animacy dataset, write a function that returns a\n",
    "# list of named entities instead of the words. Type your code here:\n",
    "\n"
   ]
  },
  {
   "cell_type": "code",
   "execution_count": 26,
   "id": "d5135abd",
   "metadata": {
    "slideshow": {
     "slide_type": "fragment"
    }
   },
   "outputs": [],
   "source": [
    "# Using the SentenceCtxt column in the animacy dataset, write a function \"count_tokens\"\n",
    "# and a function \"count_lemmas\", and add one column for the total number of tokens in\n",
    "# TextSnippet and another one for the number of unique lemmas. Tip: remember that you\n",
    "# can convert a `list` into a `set` to get rid of duplicates.\n",
    "# \n",
    "# Type your code here:\n",
    "\n"
   ]
  },
  {
   "cell_type": "code",
   "execution_count": null,
   "id": "456ef4b6",
   "metadata": {},
   "outputs": [],
   "source": []
  }
 ],
 "metadata": {
  "celltoolbar": "Slideshow",
  "kernelspec": {
   "display_name": "Python (py39)",
   "language": "python",
   "name": "py39"
  },
  "language_info": {
   "codemirror_mode": {
    "name": "ipython",
    "version": 3
   },
   "file_extension": ".py",
   "mimetype": "text/x-python",
   "name": "python",
   "nbconvert_exporter": "python",
   "pygments_lexer": "ipython3",
   "version": "3.9.12"
  },
  "vscode": {
   "interpreter": {
    "hash": "a2e91717858118300f159f516e8add62a50cea7986ea1e6059fd0b766f06d37e"
   }
  }
 },
 "nbformat": 4,
 "nbformat_minor": 5
}
