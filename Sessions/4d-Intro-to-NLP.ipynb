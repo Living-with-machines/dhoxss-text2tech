{
 "cells": [
  {
   "cell_type": "markdown",
   "id": "4ddcbbe0",
   "metadata": {
    "slideshow": {
     "slide_type": "slide"
    }
   },
   "source": [
    "# Linguistic processing with Spacy"
   ]
  },
  {
   "cell_type": "markdown",
   "id": "3964983b",
   "metadata": {
    "slideshow": {
     "slide_type": "slide"
    }
   },
   "source": [
    "As we've been seeing, first of all we need to import Spacy and\n",
    "load a trained pipeline:"
   ]
  },
  {
   "cell_type": "code",
   "execution_count": null,
   "id": "23c23c65",
   "metadata": {
    "slideshow": {
     "slide_type": "fragment"
    }
   },
   "outputs": [],
   "source": [
    "# Import spacy\n",
    "import spacy\n",
    "\n",
    "# Load English language pipeline and store in variable `nlp`:\n",
    "nlp = spacy.load(\"en_core_web_sm\")"
   ]
  },
  {
   "cell_type": "markdown",
   "id": "2524e80e",
   "metadata": {
    "slideshow": {
     "slide_type": "slide"
    }
   },
   "source": [
    "## Sentence-level processing"
   ]
  },
  {
   "cell_type": "markdown",
   "id": "2d97bebd",
   "metadata": {
    "slideshow": {
     "slide_type": "slide"
    }
   },
   "source": [
    "### Sentence segmentation"
   ]
  },
  {
   "cell_type": "code",
   "execution_count": null,
   "id": "3b1f2e98",
   "metadata": {
    "slideshow": {
     "slide_type": "fragment"
    }
   },
   "outputs": [],
   "source": [
    "# Sentence to process:\n",
    "txt = \"Mr. Smith and Mr. Jones went to the shops. They bought a notebook.\"\n",
    "\n",
    "# Process the sentence using the trained pipeline that has been loaded before:\n",
    "doc = nlp(txt)\n",
    "\n",
    "# To retrieve sentences from a `doc` object, use the `sents` attribute:\n",
    "print([sent.text for sent in doc.sents])"
   ]
  },
  {
   "cell_type": "markdown",
   "id": "937ea92b",
   "metadata": {
    "slideshow": {
     "slide_type": "slide"
    }
   },
   "source": [
    "## Token-level processing"
   ]
  },
  {
   "cell_type": "markdown",
   "id": "2a817aa9",
   "metadata": {
    "slideshow": {
     "slide_type": "slide"
    }
   },
   "source": [
    "### Tokenization"
   ]
  },
  {
   "cell_type": "code",
   "execution_count": null,
   "id": "c3341c90",
   "metadata": {
    "slideshow": {
     "slide_type": "fragment"
    }
   },
   "outputs": [],
   "source": [
    "# Given a sentence:\n",
    "txt = \"Mr. Smith and Mr. Jones went to the shops and they bought a notebook.\"\n",
    "\n",
    "# Process the sentence using the trained pipeline that has been loaded before:\n",
    "doc = nlp(txt)\n",
    "\n",
    "# Access the tokens text, either in a for-loop:\n",
    "for token in doc:\n",
    "    print(token.text)"
   ]
  },
  {
   "cell_type": "code",
   "execution_count": null,
   "id": "680f907f",
   "metadata": {
    "slideshow": {
     "slide_type": "slide"
    }
   },
   "outputs": [],
   "source": [
    "# Given a sentence:\n",
    "txt = \"Mr. Smith and Mr. Jones went to the shops and they bought a notebook.\"\n",
    "\n",
    "# Process the sentence using the trained pipeline that has been loaded before:\n",
    "doc = nlp(txt)\n",
    "\n",
    "# ... or with a list-comprehension:\n",
    "print([token.text for token in doc])"
   ]
  },
  {
   "cell_type": "markdown",
   "id": "dfdafc1c",
   "metadata": {
    "slideshow": {
     "slide_type": "slide"
    }
   },
   "source": [
    "### Lemmatization"
   ]
  },
  {
   "cell_type": "code",
   "execution_count": null,
   "id": "14bfe95c",
   "metadata": {
    "slideshow": {
     "slide_type": "fragment"
    }
   },
   "outputs": [],
   "source": [
    "# Given a sentence:\n",
    "txt = \"Mr. Smith and Mr. Jones went to the shops and they bought a notebook.\"\n",
    "\n",
    "# Process the sentence using the trained pipeline that has been loaded before:\n",
    "doc = nlp(txt)\n",
    "\n",
    "# Access the tokens lemmas:\n",
    "print([token.lemma_ for token in doc])"
   ]
  },
  {
   "cell_type": "markdown",
   "id": "fa7c4cb8",
   "metadata": {
    "slideshow": {
     "slide_type": "slide"
    }
   },
   "source": [
    "### Part-of-speech tagging"
   ]
  },
  {
   "cell_type": "code",
   "execution_count": null,
   "id": "954812de",
   "metadata": {
    "slideshow": {
     "slide_type": "fragment"
    }
   },
   "outputs": [],
   "source": [
    "# Given a sentence:\n",
    "txt = \"Mr. Smith and Mr. Jones went to the shops and they bought a notebook.\"\n",
    "\n",
    "# Process the sentence using the trained pipeline that has been loaded before:\n",
    "doc = nlp(txt)\n",
    "\n",
    "# Get the part-of-speech of each token:\n",
    "print([token.pos_ for token in doc])"
   ]
  },
  {
   "cell_type": "code",
   "execution_count": null,
   "id": "cc4015aa",
   "metadata": {
    "slideshow": {
     "slide_type": "fragment"
    }
   },
   "outputs": [],
   "source": [
    "# Get the text and part-of-speech of each token:\n",
    "print([(token.text, token.pos_) for token in doc])"
   ]
  },
  {
   "cell_type": "code",
   "execution_count": null,
   "id": "37dcf39b",
   "metadata": {
    "slideshow": {
     "slide_type": "fragment"
    }
   },
   "outputs": [],
   "source": [
    "# Get only the nouns:\n",
    "print([token.text for token in doc if token.pos_ == \"NOUN\"])"
   ]
  },
  {
   "cell_type": "code",
   "execution_count": null,
   "id": "00598009",
   "metadata": {
    "slideshow": {
     "slide_type": "fragment"
    }
   },
   "outputs": [],
   "source": [
    "# Get only the verbs:\n",
    "print([token.text for token in doc if token.pos_ == \"VERB\"])"
   ]
  },
  {
   "cell_type": "markdown",
   "id": "80194eda",
   "metadata": {
    "slideshow": {
     "slide_type": "slide"
    }
   },
   "source": [
    "### Dependency parsing"
   ]
  },
  {
   "cell_type": "code",
   "execution_count": null,
   "id": "0ff19c85",
   "metadata": {
    "slideshow": {
     "slide_type": "fragment"
    }
   },
   "outputs": [],
   "source": [
    "# Given a sentence:\n",
    "txt = \"A trifling incident thus served to settle a victory.\"\n",
    "\n",
    "# Process the sentence using the trained pipeline that has been loaded before:\n",
    "doc = nlp(txt)\n",
    "\n",
    "# Verbatim token content:\n",
    "print([token.text for token in doc])\n",
    "\n",
    "# Syntactic dependency relation:\n",
    "print([token.dep_ for token in doc])\n",
    "\n",
    "# The head of a dependency relation:\n",
    "print([token.head.text for token in doc])"
   ]
  },
  {
   "cell_type": "code",
   "execution_count": null,
   "id": "b0fd2e16",
   "metadata": {
    "slideshow": {
     "slide_type": "slide"
    }
   },
   "outputs": [],
   "source": [
    "# Pro tip: you can visualize the dependency parsing like this:\n",
    "\n",
    "from spacy import displacy\n",
    "\n",
    "txt = \"A trifling incident thus served to settle a victory.\"\n",
    "doc = nlp(txt)\n",
    "\n",
    "displacy.render(doc, style='dep', jupyter=True, options={'distance': 160})"
   ]
  },
  {
   "cell_type": "markdown",
   "id": "179d8332",
   "metadata": {
    "id": "MBCNxvkafQ8u",
    "slideshow": {
     "slide_type": "slide"
    }
   },
   "source": [
    "# Processing text in a dataframe"
   ]
  },
  {
   "cell_type": "markdown",
   "id": "c21df712",
   "metadata": {
    "id": "0L0vltyv1q0S",
    "slideshow": {
     "slide_type": "fragment"
    }
   },
   "source": [
    "First let's have a look at our data [here](XXXXXXX).\n",
    "\n",
    "The first step before any preprocessing or analysis can even begin should be to make sure you understand your data. The decision on which preprocessing steps (and which analyses you are able to carry out!) will change depending on the characteristics of your dataset."
   ]
  },
  {
   "cell_type": "markdown",
   "id": "55734c3e",
   "metadata": {
    "id": "5FkuP3ay6GqU",
    "slideshow": {
     "slide_type": "fragment"
    }
   },
   "source": [
    "We will be using **pandas** to work with tabular data:"
   ]
  },
  {
   "cell_type": "code",
   "execution_count": null,
   "id": "2a99a3b5",
   "metadata": {
    "id": "HIN461kJ6Iro",
    "slideshow": {
     "slide_type": "fragment"
    }
   },
   "outputs": [],
   "source": [
    "# Import the pandas library\n",
    "import pandas as pd"
   ]
  },
  {
   "cell_type": "markdown",
   "id": "fe612a12",
   "metadata": {
    "id": "OoHd-2R_vqYy",
    "slideshow": {
     "slide_type": "slide"
    }
   },
   "source": [
    "Load the dataset:"
   ]
  },
  {
   "cell_type": "code",
   "execution_count": null,
   "id": "1ca0a9fc",
   "metadata": {
    "colab": {
     "base_uri": "https://localhost:8080/",
     "height": 548
    },
    "id": "6LISqiBHskWq",
    "outputId": "f8d30a65-2841-4977-a3f1-e12590f6da6f",
    "slideshow": {
     "slide_type": "fragment"
    }
   },
   "outputs": [],
   "source": [
    "# We can read the tsv file using pandas library. The resulting object is called\n",
    "# a dataframe, which we store in variable `df`:\n",
    "df = pd.read_csv(\"data/animacy.tsv\", sep=\"\\t\")"
   ]
  },
  {
   "cell_type": "markdown",
   "id": "7339f82f",
   "metadata": {
    "id": "fo8wd_tIwnL3",
    "slideshow": {
     "slide_type": "fragment"
    }
   },
   "source": [
    "Have a look at your data:"
   ]
  },
  {
   "cell_type": "code",
   "execution_count": null,
   "id": "334381a5",
   "metadata": {
    "id": "TXd2p2vCYjZB",
    "slideshow": {
     "slide_type": "fragment"
    }
   },
   "outputs": [],
   "source": [
    "# Let's print the first rows of our dataframe:\n",
    "df.head()"
   ]
  },
  {
   "cell_type": "code",
   "execution_count": null,
   "id": "6be4e343",
   "metadata": {
    "slideshow": {
     "slide_type": "slide"
    }
   },
   "outputs": [],
   "source": [
    "def process_text(text, nlp):\n",
    "    \"\"\"\n",
    "    Function that takes a text and an nlp pipeline, and\n",
    "    returns a list of the verbs in the text.\n",
    "    \n",
    "    Args:\n",
    "        text: The text that will be processed.\n",
    "        nlp: A spacy pipeline.\n",
    "    \n",
    "    Returns:\n",
    "        A list of verbs in the text.\n",
    "    \"\"\"\n",
    "    doc = nlp(text)\n",
    "    processed = [x.text for x in doc if x.pos_ == \"VERB\"]\n",
    "    return processed"
   ]
  },
  {
   "cell_type": "code",
   "execution_count": null,
   "id": "1ff48329",
   "metadata": {
    "slideshow": {
     "slide_type": "fragment"
    }
   },
   "outputs": [],
   "source": [
    "# Load a Spacy pipeline:\n",
    "nlp = spacy.load(\"en_core_web_sm\")\n",
    "\n",
    "# Apply the process_text() function to the 'TextSnippet' column:\n",
    "df['processed'] = df['TextSnippet'].apply(lambda x: process_text(x, nlp))"
   ]
  },
  {
   "cell_type": "code",
   "execution_count": null,
   "id": "a3c33d92",
   "metadata": {
    "slideshow": {
     "slide_type": "slide"
    }
   },
   "outputs": [],
   "source": [
    "df.head()"
   ]
  },
  {
   "cell_type": "code",
   "execution_count": null,
   "id": "0492287a",
   "metadata": {
    "slideshow": {
     "slide_type": "slide"
    }
   },
   "outputs": [],
   "source": [
    "# Store the dataframe with the added column:\n",
    "df.to_csv(\"data/animacy_processed.tsv\", sep=\"\\t\")"
   ]
  },
  {
   "cell_type": "markdown",
   "id": "515edf7e",
   "metadata": {
    "slideshow": {
     "slide_type": "slide"
    }
   },
   "source": [
    "✏️ **Exercises:**"
   ]
  },
  {
   "cell_type": "code",
   "execution_count": null,
   "id": "c3af6012",
   "metadata": {
    "slideshow": {
     "slide_type": "fragment"
    }
   },
   "outputs": [],
   "source": [
    "# Using the TextSnippet column in the animacy dataset, write a function that returns a\n",
    "# list of lemma forms instead of the words. Type your code here:\n",
    "\n"
   ]
  },
  {
   "cell_type": "code",
   "execution_count": null,
   "id": "faea3d2d",
   "metadata": {
    "slideshow": {
     "slide_type": "fragment"
    }
   },
   "outputs": [],
   "source": [
    "# Using the TextSnippet column in the animacy dataset, write a function that returns a\n",
    "# list of named entities instead of the words. Type your code here:\n",
    "\n"
   ]
  },
  {
   "cell_type": "code",
   "execution_count": null,
   "id": "37ae4f30",
   "metadata": {
    "slideshow": {
     "slide_type": "fragment"
    }
   },
   "outputs": [],
   "source": [
    "# Using the TextSnippet column in the animacy dataset, write a function \"count_tokens\"\n",
    "# and a function \"count_lemmas\", and add one column for the total number of tokens in\n",
    "# TextSnippet and another one for the number of unique lemmas. Tip: remember that you\n",
    "# can convert a `list` into a `set` to get rid of duplicates.\n",
    "# \n",
    "# Type your code here:\n",
    "\n",
    "def count_tokens(text, nlp):\n",
    "    \"\"\"\n",
    "    Function that takes a text and an nlp pipeline, and\n",
    "    returns a list of the verbs in the text.\n",
    "    \n",
    "    Args:\n",
    "        text: The text that will be processed.\n",
    "        nlp: A spacy pipeline.\n",
    "    \n",
    "    Returns:\n",
    "        A list of verbs in the text.\n",
    "    \"\"\"\n",
    "    doc = nlp(text)\n",
    "    processed = [x.text for x in doc]\n",
    "    return len(processed)\n",
    "\n",
    "def count_lemmas(text, nlp):\n",
    "    \"\"\"\n",
    "    Function that takes a text and an nlp pipeline, and\n",
    "    returns a list of the verbs in the text.\n",
    "    \n",
    "    Args:\n",
    "        text: The text that will be processed.\n",
    "        nlp: A spacy pipeline.\n",
    "    \n",
    "    Returns:\n",
    "        A list of verbs in the text.\n",
    "    \"\"\"\n",
    "    doc = nlp(text)\n",
    "    processed = [x.lemma_ for x in doc]\n",
    "    processed = set(processed)\n",
    "    return len(processed)\n",
    "\n",
    "df['number_of_tokens'] = df['TextSnippet'].apply(lambda x: count_tokens(x, nlp))\n",
    "df['number_of_lemmas'] = df['TextSnippet'].apply(lambda x: count_lemmas(x, nlp))\n",
    "\n",
    "df.to_csv(\"data/animacy_processed.tsv\", sep=\"\\t\")"
   ]
  }
 ],
 "metadata": {
  "celltoolbar": "Slideshow",
  "kernelspec": {
   "display_name": "Python (py39)",
   "language": "python",
   "name": "py39"
  },
  "language_info": {
   "codemirror_mode": {
    "name": "ipython",
    "version": 3
   },
   "file_extension": ".py",
   "mimetype": "text/x-python",
   "name": "python",
   "nbconvert_exporter": "python",
   "pygments_lexer": "ipython3",
   "version": "3.9.12"
  }
 },
 "nbformat": 4,
 "nbformat_minor": 5
}
