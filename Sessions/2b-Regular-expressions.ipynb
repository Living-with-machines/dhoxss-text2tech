{
 "cells": [
  {
   "cell_type": "markdown",
   "id": "3732db2c",
   "metadata": {
    "slideshow": {
     "slide_type": "slide"
    }
   },
   "source": [
    "# Regular expressions"
   ]
  },
  {
   "cell_type": "markdown",
   "id": "39f58aff",
   "metadata": {
    "slideshow": {
     "slide_type": "slide"
    }
   },
   "source": [
    "> _\"One of the unsung successes in standardization in computer science has been the regular expression (RE), a language for specifying text search strings. This practical language is used in every computer language, word processor, and text processing tool [...]. Formally, a regular expression is an algebraic notation for characterizing a set of strings. They are particularly useful for searching in texts, when we have a pattern to search for and a corpus of corpus texts to search through.\"_\n",
    "\n",
    "Source: \"Speech and Language Processing\" by Jurafsky and Martin, [chapter 2](https://web.stanford.edu/~jurafsky/slp3/2.pdf)."
   ]
  },
  {
   "cell_type": "markdown",
   "id": "377454aa",
   "metadata": {
    "slideshow": {
     "slide_type": "slide"
    }
   },
   "source": [
    "## What are regular expressions\n",
    "\n",
    "Regular expressions (regex) are **patterns that try to match specific sequences of characters** (i.e. a string). They allow us to extract information from text in a more intelligent way than by just performing exact matches.\n",
    "\n",
    "Typical uses of regular expressions:\n",
    "* Search patterns in text\n",
    "* Replace strings by others\n",
    "* Text validation: is the input well-formatted?"
   ]
  },
  {
   "cell_type": "markdown",
   "id": "9fdcebf1",
   "metadata": {
    "slideshow": {
     "slide_type": "slide"
    }
   },
   "source": [
    "If we want to use regular expressions, we must import the ```re``` module like this:"
   ]
  },
  {
   "cell_type": "code",
   "execution_count": null,
   "id": "6b6ed155",
   "metadata": {
    "slideshow": {
     "slide_type": "fragment"
    }
   },
   "outputs": [],
   "source": [
    "import re"
   ]
  },
  {
   "cell_type": "markdown",
   "id": "8965f63d",
   "metadata": {
    "slideshow": {
     "slide_type": "slide"
    }
   },
   "source": [
    "## Some basic regex symbols:\n",
    " \n",
    "* ```.``` : matches any character.\n",
    "* ```*``` : previous character repeats zero or more times.\n",
    "* ```+``` : previous character repeats 1 or more times.\n",
    "* ```^``` : marks the start of string.\n",
    "* ```$``` : marks the end of string.\n",
    "* ```?``` : indicates that the previous character is optional.\n",
    "* ```\\d``` : matches any number.\n",
    "* ```\\b``` : indicates a word boundary (i.e. beginning or end of word)\n",
    "* ```\\.``` : matches a full stop.\n",
    "* ```[A-Z]``` : matches any capital letter (A-Z).\n",
    "* ```[a-z]``` : matches any non-capital letter (a-z)."
   ]
  },
  {
   "cell_type": "markdown",
   "id": "1086379f",
   "metadata": {
    "slideshow": {
     "slide_type": "slide"
    }
   },
   "source": [
    "## Some useful functions:\n",
    "* `re.match(pattern, str)`: does a regular expression match the whole string?\n",
    "* `re.findall(pattern, str)`: find all matches of a regular expression in a string.\n",
    "* `re.sub(pattern, replacement, str)`: replace all instances of the found pattern in the string by the replacement."
   ]
  },
  {
   "cell_type": "markdown",
   "id": "64209c75",
   "metadata": {
    "colab_type": "text",
    "id": "8PNB60mMIXqG",
    "slideshow": {
     "slide_type": "slide"
    }
   },
   "source": [
    "### Matching with `re.match(pattern, str)`"
   ]
  },
  {
   "cell_type": "code",
   "execution_count": null,
   "id": "f3cdfab9",
   "metadata": {
    "colab": {},
    "colab_type": "code",
    "id": "qMN4pgmBIXqH",
    "slideshow": {
     "slide_type": "fragment"
    }
   },
   "outputs": [],
   "source": [
    "import re\n",
    "\n",
    "str1 = \"ACT 1, SCENE 12\"\n",
    "pattern = r'^ACT \\d+, SCENE \\d+$'\n",
    "\n",
    "if re.match(pattern, str1):\n",
    "    print(str1)\n",
    "else:\n",
    "    print(\"There's no match\")"
   ]
  },
  {
   "cell_type": "markdown",
   "id": "90221de1",
   "metadata": {
    "colab_type": "text",
    "id": "KLY--4dI9s9m",
    "slideshow": {
     "slide_type": "slide"
    }
   },
   "source": [
    "### Matching and capturing with ```.group()```\n",
    "\n",
    "In the regular expression we can specify, in parentheses, which is the information we would like to keep, to reuse it later. We can then recover this information with the ```.group()``` method, specifying inside the parentheses which is the group of information we'd like to retrieve.\n",
    "\n",
    "Example:"
   ]
  },
  {
   "cell_type": "code",
   "execution_count": null,
   "id": "2ccd9c67",
   "metadata": {
    "colab": {},
    "colab_type": "code",
    "id": "8OPvXHRC9sFP",
    "slideshow": {
     "slide_type": "fragment"
    }
   },
   "outputs": [],
   "source": [
    "import re\n",
    "\n",
    "str1 = \"ACT 1, SCENE 12\"\n",
    "pattern = r'^ACT (\\d+), SCENE (\\d+)$'\n",
    "\n",
    "if re.match(pattern, str1):\n",
    "    print(\"I am only interested in knowing the SCENE, which is number... \" + re.match(pattern, str1).group(2))\n",
    "else:\n",
    "    print(\"There's no match\")"
   ]
  },
  {
   "cell_type": "markdown",
   "id": "00a6019d",
   "metadata": {
    "colab_type": "text",
    "id": "U_7onjB8IXqI",
    "slideshow": {
     "slide_type": "slide"
    }
   },
   "source": [
    "### Finding all occurrences in text with ```re.findall(pattern, str)```"
   ]
  },
  {
   "cell_type": "code",
   "execution_count": null,
   "id": "6d6cfd77",
   "metadata": {
    "colab": {},
    "colab_type": "code",
    "id": "frItpZhJIXqJ",
    "slideshow": {
     "slide_type": "fragment"
    }
   },
   "outputs": [],
   "source": [
    "import re\n",
    "\n",
    "str1 = \"\"\"It was the best of times,\n",
    "it was the worst of times,\n",
    "it was the age of wisdom,\n",
    "it was the age of foolishness,\n",
    "it was the epoch of belief,\n",
    "it was the epoch of incredulity.\"\"\"\n",
    "pattern = r'it was the (.+) of (.+),'\n",
    "\n",
    "matches = re.findall(pattern, str1)\n",
    "for match in matches:\n",
    "    print(match)"
   ]
  },
  {
   "cell_type": "markdown",
   "id": "602676c3",
   "metadata": {
    "colab_type": "text",
    "id": "VFGZAdO5IXqK",
    "slideshow": {
     "slide_type": "slide"
    }
   },
   "source": [
    "### Replacing with ```re.sub(pattern, replacement, str)```"
   ]
  },
  {
   "cell_type": "code",
   "execution_count": null,
   "id": "c2abd7a5",
   "metadata": {
    "colab": {},
    "colab_type": "code",
    "id": "7f_sultUIXqL",
    "slideshow": {
     "slide_type": "fragment"
    }
   },
   "outputs": [],
   "source": [
    "import re\n",
    "\n",
    "str1 = \"\"\"It was the best of times,\n",
    "it was the worst of times,\n",
    "it was the age of wisdom,\n",
    "it was the age of foolishness,\n",
    "it was the epoch of belief,\n",
    "it was the epoch of incredulity.\"\"\"\n",
    "pattern = r'\\bwas\\b'\n",
    "\n",
    "print(re.sub(pattern, \"is not\", str1))"
   ]
  }
 ],
 "metadata": {
  "celltoolbar": "Slideshow",
  "kernelspec": {
   "display_name": "Python (py39)",
   "language": "python",
   "name": "py39"
  },
  "language_info": {
   "codemirror_mode": {
    "name": "ipython",
    "version": 3
   },
   "file_extension": ".py",
   "mimetype": "text/x-python",
   "name": "python",
   "nbconvert_exporter": "python",
   "pygments_lexer": "ipython3",
   "version": "3.9.12"
  }
 },
 "nbformat": 4,
 "nbformat_minor": 5
}
