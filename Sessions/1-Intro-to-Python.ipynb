{
 "cells": [
  {
   "cell_type": "markdown",
   "metadata": {},
   "source": [
    "# Intro to Python\n",
    "\n",
    "## Welcome!\n",
    "\n",
    "\n",
    "\n",
    "## What is Natural Language Processing?\n",
    "\n",
    "The development and application of computational techniques for the the analysis of human language.\n",
    "\n",
    "![From: https://ontotext.com/top-5-semantic-technology-trends-2017/](Images/NLP.png)\n",
    "\n",
    "## Is it different to Computational Linguistics?\n",
    "\n",
    "Computational linguistics is a social science with the goal of understanding language through computational models.\n",
    "\n",
    "## How can I use it in my Humanities Research?\n",
    "\n",
    "This is what we will learn during the week."
   ]
  },
  {
   "cell_type": "markdown",
   "metadata": {},
   "source": [
    "## NLP as Data Science\n",
    "\n",
    "![From: https://towardsdatascience.com/introduction-to-statistics-e9d72d818745](Images/data_science.png)\n",
    "\n",
    "\n",
    "## NLP as Field of Research\n",
    "\n",
    "1. New research is mostly published in conference proceedings \n",
    "2. The most important conferences are: ACL, EMNLP, COLING, NAACL, EACL\n",
    "3. Pre-print are often shared on ArXiV (https://arxiv.org/list/cs.CL/recent)\n",
    "\n",
    "\n",
    "## What Should I know before we start?\n",
    "\n",
    "1. All quantitative models of language are wrong - but some are useful!\n",
    "2. The importance of the human-in-the-loop\n",
    "3. No-free-lunch theorem\n",
    "4. Always validate!\n"
   ]
  },
  {
   "cell_type": "markdown",
   "metadata": {},
   "source": [
    "## Why Python?\n",
    "\n",
    "![](Images/python.jpg)\n",
    "\n",
    "1. It is quick to program in\n",
    "\n",
    "2. Very popular in NLP, and has lots of useful libraries thoroughly documented \n",
    "\n",
    "3. It interfaces well with faster languages \n",
    "\n",
    "4. Python is free, so you’ll never have a problem getting hold of it, wherever you go.\n",
    "\n",
    "## Why write programs for research?\n",
    "\n",
    "Not just labour saving, scripted research can be tested and reproduced!\n",
    "\n",
    "## Sensible Input - Reasonable Output\n",
    "Programs are a rigorous way of describing data analysis for other researchers, as well as for computers.\n",
    "\n",
    "Computational research suffers from people assuming each other’s data manipulation is correct. By sharing codes, which are much more easy for a non-author to understand than spreadsheets."
   ]
  },
  {
   "cell_type": "markdown",
   "metadata": {},
   "source": [
    "## The Jupyter Notebook\n",
    "\n",
    "The easiest way to get started using Python, and one of the best for research data work, is the Jupyter Notebook.\n",
    "\n",
    "In the notebook (like this), you can easily mix code with discussion and commentary, and mix code with the results of that code; including graphs and other data visualisations.\n",
    "\n",
    "Jupyter notebooks consist of discussion cells, referred to as “markdown cells”, and “code cells”, which contain Python. This document has been created using Jupyter notebook, and this very cell is a Markdown Cell. To learn how to write in Markdown, follow [this link](https://daringfireball.net/projects/markdown/)\n",
    "\n",
    "And now, let's start with our first Code cell!"
   ]
  },
  {
   "cell_type": "code",
   "execution_count": 23,
   "metadata": {},
   "outputs": [
    {
     "name": "stdout",
     "output_type": "stream",
     "text": [
      "hi!\n"
     ]
    }
   ],
   "source": [
    "# you can use hashtag to add comments (these will not get run)\n",
    "\n",
    "# printing in python\n",
    "\n",
    "print (\"hi!\")"
   ]
  },
  {
   "cell_type": "code",
   "execution_count": 24,
   "metadata": {},
   "outputs": [
    {
     "name": "stdout",
     "output_type": "stream",
     "text": [
      "Hi Oxford!\n"
     ]
    }
   ],
   "source": [
    "# printing multiple things together\n",
    "\n",
    "print ('Hi','Oxford!')"
   ]
  },
  {
   "cell_type": "code",
   "execution_count": 25,
   "metadata": {},
   "outputs": [
    {
     "name": "stdout",
     "output_type": "stream",
     "text": [
      "8\n",
      "-2\n"
     ]
    }
   ],
   "source": [
    "# things with numbers\n",
    "\n",
    "print (3+5)\n",
    "\n",
    "print (3-5)\n"
   ]
  },
  {
   "cell_type": "code",
   "execution_count": 26,
   "metadata": {},
   "outputs": [
    {
     "data": {
      "text/plain": [
       "10.0"
      ]
     },
     "execution_count": 26,
     "metadata": {},
     "output_type": "execute_result"
    }
   ],
   "source": [
    "# defining decimal numbers\n",
    "\n",
    "10.0"
   ]
  },
  {
   "cell_type": "code",
   "execution_count": 27,
   "metadata": {},
   "outputs": [
    {
     "data": {
      "text/plain": [
       "1270"
      ]
     },
     "execution_count": 27,
     "metadata": {},
     "output_type": "execute_result"
    }
   ],
   "source": [
    "# everytime we do these operations results are displayed but not stored\n",
    "5*254"
   ]
  },
  {
   "cell_type": "code",
   "execution_count": 28,
   "metadata": {},
   "outputs": [
    {
     "name": "stdout",
     "output_type": "stream",
     "text": [
      "6\n",
      "0\n"
     ]
    }
   ],
   "source": [
    "# so, we can create variables and store information in them\n",
    "six = 3*2\n",
    "print (six)\n",
    "\n",
    "number = 0\n",
    "print (number)"
   ]
  },
  {
   "cell_type": "code",
   "execution_count": 29,
   "metadata": {},
   "outputs": [
    {
     "name": "stdout",
     "output_type": "stream",
     "text": [
      "1\n"
     ]
    }
   ],
   "source": [
    "# And also sum them together\n",
    "number = number + 1\n",
    "print (number)"
   ]
  },
  {
   "cell_type": "code",
   "execution_count": 30,
   "metadata": {},
   "outputs": [
    {
     "ename": "NameError",
     "evalue": "name 'seven' is not defined",
     "output_type": "error",
     "traceback": [
      "\u001b[0;31m---------------------------------------------------------------------------\u001b[0m",
      "\u001b[0;31mNameError\u001b[0m                                 Traceback (most recent call last)",
      "\u001b[1;32m/Users/fnanni/Projects/dhoxss-text2tech/Sessions/1-Intro-to-Python.ipynb Cell 12'\u001b[0m in \u001b[0;36m<cell line: 2>\u001b[0;34m()\u001b[0m\n\u001b[1;32m      <a href='vscode-notebook-cell:/Users/fnanni/Projects/dhoxss-text2tech/Sessions/1-Intro-to-Python.ipynb#ch0000015?line=0'>1</a>\u001b[0m \u001b[39m# what happens if we do \u001b[39;00m\n\u001b[0;32m----> <a href='vscode-notebook-cell:/Users/fnanni/Projects/dhoxss-text2tech/Sessions/1-Intro-to-Python.ipynb#ch0000015?line=1'>2</a>\u001b[0m \u001b[39mprint\u001b[39m (seven)\n",
      "\u001b[0;31mNameError\u001b[0m: name 'seven' is not defined"
     ]
    }
   ],
   "source": [
    "# what happens if we do \n",
    "print (seven)"
   ]
  },
  {
   "cell_type": "markdown",
   "metadata": {},
   "source": [
    "It is important to spend some time and learn how to read error messages, as we will see loads of them!\n",
    "\n",
    "In this case it is quite clear, the variable \"seven\" is not defined"
   ]
  },
  {
   "cell_type": "code",
   "execution_count": null,
   "metadata": {},
   "outputs": [
    {
     "name": "stdout",
     "output_type": "stream",
     "text": [
      "12\n"
     ]
    }
   ],
   "source": [
    "# we can also do operations using variables\n",
    "\n",
    "print (six*2)"
   ]
  },
  {
   "cell_type": "code",
   "execution_count": null,
   "metadata": {},
   "outputs": [
    {
     "name": "stdout",
     "output_type": "stream",
     "text": [
      "6480\n"
     ]
    }
   ],
   "source": [
    "# and even more complicated things \n",
    "\n",
    "a_lot = six*six*180\n",
    "\n",
    "print (a_lot)"
   ]
  },
  {
   "cell_type": "code",
   "execution_count": null,
   "metadata": {},
   "outputs": [
    {
     "name": "stdout",
     "output_type": "stream",
     "text": [
      "100\n"
     ]
    }
   ],
   "source": [
    "# however you need to be careful, as in Python you can re-assign variables\n",
    "\n",
    "a_lot = 100\n",
    "\n",
    "print (a_lot)"
   ]
  },
  {
   "cell_type": "code",
   "execution_count": null,
   "metadata": {},
   "outputs": [
    {
     "name": "stdout",
     "output_type": "stream",
     "text": [
      "big number\n"
     ]
    }
   ],
   "source": [
    "# you can also assign variables to string\n",
    "\n",
    "a_lot = \"big number\"\n",
    "\n",
    "print (a_lot)"
   ]
  },
  {
   "cell_type": "code",
   "execution_count": null,
   "metadata": {},
   "outputs": [
    {
     "data": {
      "text/plain": [
       "str"
      ]
     },
     "execution_count": 21,
     "metadata": {},
     "output_type": "execute_result"
    }
   ],
   "source": [
    "# to check what \"type\" of object a certain variable is you can do\n",
    "\n",
    "type(a_lot)"
   ]
  },
  {
   "cell_type": "markdown",
   "metadata": {},
   "source": [
    "Also, cells in Jupyter Notebook are not always evaluated in order.\n",
    "\n",
    "If I now go back to reading number = number + 1, and run it again, with shift-enter. Number will change from 2 to 3, then from 3 to 4. Try it!\n",
    "\n",
    "So it’s important to remember that if you move your cursor around in the notebook, it doesn’t always run top to bottom."
   ]
  },
  {
   "cell_type": "code",
   "execution_count": null,
   "metadata": {},
   "outputs": [
    {
     "name": "stdout",
     "output_type": "stream",
     "text": [
      "0\n",
      "10\n"
     ]
    }
   ],
   "source": [
    "# for loops - remember to indent!\n",
    "\n",
    "counter = 0\n",
    "print (counter)\n",
    "\n",
    "for i in range(10):\n",
    "    counter = counter + 1\n",
    "print (counter)"
   ]
  },
  {
   "cell_type": "code",
   "execution_count": null,
   "metadata": {},
   "outputs": [],
   "source": [
    "# importing libraries\n",
    "\n"
   ]
  }
 ],
 "metadata": {
  "interpreter": {
   "hash": "31f2aee4e71d21fbe5cf8b01ff0e069b9275f58929596ceb00d14d90e3e16cd6"
  },
  "kernelspec": {
   "display_name": "Python 3.8.9 64-bit",
   "language": "python",
   "name": "python3"
  },
  "language_info": {
   "codemirror_mode": {
    "name": "ipython",
    "version": 3
   },
   "file_extension": ".py",
   "mimetype": "text/x-python",
   "name": "python",
   "nbconvert_exporter": "python",
   "pygments_lexer": "ipython3",
   "version": "3.8.9"
  },
  "orig_nbformat": 4
 },
 "nbformat": 4,
 "nbformat_minor": 2
}
