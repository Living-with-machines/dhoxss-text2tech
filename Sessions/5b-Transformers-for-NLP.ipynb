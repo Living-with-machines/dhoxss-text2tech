{
 "cells": [
  {
   "cell_type": "markdown",
   "id": "75547c15",
   "metadata": {
    "id": "cyF-X7Ho0E--",
    "slideshow": {
     "slide_type": "slide"
    }
   },
   "source": [
    "# 1. Static word embeddings\n",
    "\n",
    "Introduced in 2013, word2vec has had a huge impact in natural language processing and its applications.\n",
    "\n",
    "Vector representations of words seem to capture word meaning quite well!\n",
    "\n",
    "Accessible and easy to use (easy to train, to apply and to share).\n",
    "\n",
    "Shortcoming: this algorithm creates static embeddings, i.e. it creates one vector per word, no matter how many meanings the word has (e.g. `I like apples` vs `I like Apple macbooks`.)"
   ]
  },
  {
   "cell_type": "markdown",
   "id": "b7d6e1d3",
   "metadata": {
    "id": "1yVysUSK0yI8",
    "slideshow": {
     "slide_type": "slide"
    }
   },
   "source": [
    "Import the `gensim` library:"
   ]
  },
  {
   "cell_type": "code",
   "execution_count": 1,
   "id": "8acad727",
   "metadata": {
    "id": "IcAc17ZA01yc",
    "slideshow": {
     "slide_type": "fragment"
    }
   },
   "outputs": [],
   "source": [
    "import gensim\n",
    "import gensim.downloader"
   ]
  },
  {
   "cell_type": "markdown",
   "id": "3b5d0fdf",
   "metadata": {
    "id": "eiiasj951mOB",
    "slideshow": {
     "slide_type": "slide"
    }
   },
   "source": [
    "Download and load one of the models.\n",
    "\n",
    "Just for illustration, we'll use `glove-wiki-gigaword-50`, which was trained on text from Wikipedia and Gigaword (newswire). Note that different models may perform differently."
   ]
  },
  {
   "cell_type": "code",
   "execution_count": 2,
   "id": "99152403",
   "metadata": {
    "colab": {
     "base_uri": "https://localhost:8080/"
    },
    "id": "wVR6arbK15D7",
    "outputId": "4e138515-7f72-4c4b-b789-9a12908b0d2d",
    "slideshow": {
     "slide_type": "fragment"
    }
   },
   "outputs": [],
   "source": [
    "glove_vectors = gensim.downloader.load('glove-wiki-gigaword-50')"
   ]
  },
  {
   "cell_type": "markdown",
   "id": "4cfb9c87",
   "metadata": {
    "id": "feiy-OWs3Au-",
    "slideshow": {
     "slide_type": "slide"
    }
   },
   "source": [
    "Static word embeddings create one vector per word.\n",
    "\n",
    "_Example 1:_\n",
    "See top 20 most similar words to word 'mouse'. What do you observe?"
   ]
  },
  {
   "cell_type": "code",
   "execution_count": 3,
   "id": "34904980",
   "metadata": {
    "colab": {
     "base_uri": "https://localhost:8080/"
    },
    "id": "r1CWM5FQ2NFl",
    "outputId": "123fbf85-c03b-4733-8ea0-6ae4bdd28d70",
    "slideshow": {
     "slide_type": "fragment"
    }
   },
   "outputs": [
    {
     "data": {
      "text/plain": [
       "[('monkey', 0.7965501546859741),\n",
       " ('bugs', 0.7805658578872681),\n",
       " ('cat', 0.7731667160987854),\n",
       " ('rabbit', 0.7622702717781067),\n",
       " ('worm', 0.7504912614822388),\n",
       " ('clone', 0.7307788729667664),\n",
       " ('robot', 0.7268993854522705),\n",
       " ('spider', 0.7199547290802002),\n",
       " ('bug', 0.7104865312576294),\n",
       " ('frog', 0.702705979347229),\n",
       " ('mice', 0.6978598833084106),\n",
       " ('morph', 0.6821691393852234),\n",
       " ('rat', 0.6796256303787231),\n",
       " ('ape', 0.6776273846626282),\n",
       " ('monster', 0.6768894791603088),\n",
       " ('click', 0.6624072790145874),\n",
       " ('uses', 0.6548232436180115),\n",
       " ('squirrel', 0.6545740962028503),\n",
       " ('creature', 0.652310848236084),\n",
       " ('trackball', 0.6500849723815918)]"
      ]
     },
     "execution_count": 3,
     "metadata": {},
     "output_type": "execute_result"
    }
   ],
   "source": [
    "glove_vectors.most_similar('mouse', topn=20)"
   ]
  },
  {
   "cell_type": "markdown",
   "id": "830215c1",
   "metadata": {
    "id": "xWzLG0mC3d9J",
    "slideshow": {
     "slide_type": "slide"
    }
   },
   "source": [
    "_Example 2:_ See top 20 most similar words to word 'pear'.\n",
    "\n",
    "What would you expect to see here? Any guesses on the top most similar? And what do you see?"
   ]
  },
  {
   "cell_type": "code",
   "execution_count": 4,
   "id": "e58a97c7",
   "metadata": {
    "colab": {
     "base_uri": "https://localhost:8080/"
    },
    "id": "Kft1MBsW2wRO",
    "outputId": "42759d8b-d8a3-4e51-ba92-3f19b57b7f8b",
    "slideshow": {
     "slide_type": "fragment"
    }
   },
   "outputs": [
    {
     "data": {
      "text/plain": [
       "[('mango', 0.854493260383606),\n",
       " ('avocado', 0.8034905195236206),\n",
       " ('pineapple', 0.7993020415306091),\n",
       " ('pomegranate', 0.7979761362075806),\n",
       " ('apricot', 0.7934627532958984),\n",
       " ('plum', 0.7909936308860779),\n",
       " ('peach', 0.7899217009544373),\n",
       " ('tomato', 0.7809723615646362),\n",
       " ('almond', 0.7721766829490662),\n",
       " ('guava', 0.7694117426872253),\n",
       " ('cherries', 0.7693702578544617),\n",
       " ('cucumber', 0.7676603198051453),\n",
       " ('cherry', 0.7642223238945007),\n",
       " ('melon', 0.758733868598938),\n",
       " ('rhubarb', 0.7586071491241455),\n",
       " ('cranberry', 0.75290846824646),\n",
       " ('papaya', 0.7493483424186707),\n",
       " ('compote', 0.7489797472953796),\n",
       " ('fruit', 0.7483691573143005),\n",
       " ('ripe', 0.7483318448066711)]"
      ]
     },
     "execution_count": 4,
     "metadata": {},
     "output_type": "execute_result"
    }
   ],
   "source": [
    "glove_vectors.most_similar('pear', topn=20)"
   ]
  },
  {
   "cell_type": "markdown",
   "id": "5cc4ffe0",
   "metadata": {
    "id": "xWzLG0mC3d9J",
    "slideshow": {
     "slide_type": "slide"
    }
   },
   "source": [
    "_Example 3:_ See top 20 most similar words to word 'apple'.\n",
    "\n",
    "What would you expect to see here? Any guesses on the top most similar? And what do you see?"
   ]
  },
  {
   "cell_type": "code",
   "execution_count": 5,
   "id": "cb457931",
   "metadata": {
    "colab": {
     "base_uri": "https://localhost:8080/"
    },
    "id": "Zik2L8-X2z0y",
    "outputId": "26b82866-7950-4b19-e204-4cda9c260cc1",
    "slideshow": {
     "slide_type": "fragment"
    }
   },
   "outputs": [
    {
     "data": {
      "text/plain": [
       "[('blackberry', 0.7543067336082458),\n",
       " ('chips', 0.7438644170761108),\n",
       " ('iphone', 0.7429664134979248),\n",
       " ('microsoft', 0.7334205508232117),\n",
       " ('ipad', 0.7331036329269409),\n",
       " ('pc', 0.7217225432395935),\n",
       " ('ipod', 0.7199784517288208),\n",
       " ('intel', 0.7192243337631226),\n",
       " ('ibm', 0.7146540284156799),\n",
       " ('software', 0.7093585133552551),\n",
       " ('macintosh', 0.7047760486602783),\n",
       " ('android', 0.7046630382537842),\n",
       " ('processor', 0.6996651291847229),\n",
       " ('product', 0.6925289630889893),\n",
       " ('dell', 0.6896463632583618),\n",
       " ('cola', 0.6863354444503784),\n",
       " ('desktop', 0.6860975027084351),\n",
       " ('netscape', 0.6852997541427612),\n",
       " ('processors', 0.6781534552574158),\n",
       " ('amd', 0.6766293048858643)]"
      ]
     },
     "execution_count": 5,
     "metadata": {},
     "output_type": "execute_result"
    }
   ],
   "source": [
    "glove_vectors.most_similar('apple', topn=20)"
   ]
  },
  {
   "cell_type": "markdown",
   "id": "114463c1",
   "metadata": {
    "id": "FzvqY_p20jj9",
    "slideshow": {
     "slide_type": "slide"
    }
   },
   "source": [
    "# 2. Contextualized word embeddings\n",
    "\n",
    "Words mean different things in different contexts.\n",
    "\n",
    "**Goal:** learn the representation (i.e. the \"meaning\"!) for each word in its context.\n",
    "\n",
    "In recent years (since 2018 mostly), lots of progress has been made (from BERT to GPT-3).\n",
    "\n",
    "Also, lots of progress in making this easily accessible, and easy to use. The company HuggingFace has been greatly responsible for this last point, especially with their `transformers` library and their model hub."
   ]
  },
  {
   "cell_type": "markdown",
   "id": "e42bc59d",
   "metadata": {
    "id": "fdAWG8oKZ6AW",
    "slideshow": {
     "slide_type": "slide"
    }
   },
   "source": [
    "A **transformer** is a deep learning model that uses the **attention** mechanism (a mechanism which is based on cognitive attention, and which focuses on where the key information in a sequence is produces while forgetting less relevant information). Its development has had a huge impact in deep learning, especially in natural language processing and computer vision. It allows a more effective modeling of long term dependencies between the words in a sequence, and more efficient training, not limited by the sequence order of the input sequence.\n",
    "\n",
    "**BERT** (Bidirectional Encoder Representations from Transformers) is a transformer-based model that creates contextualized word embeddings. It learns contextualized information through a masking process (i.e. it hides some words and uses their position to infer them back)."
   ]
  },
  {
   "cell_type": "markdown",
   "id": "d8319421",
   "metadata": {
    "id": "mnbqG479I1ag",
    "slideshow": {
     "slide_type": "slide"
    }
   },
   "source": [
    "We will first install the `transformers` library (and dependencies):"
   ]
  },
  {
   "cell_type": "code",
   "execution_count": 6,
   "id": "8ceeec4a",
   "metadata": {
    "slideshow": {
     "slide_type": "fragment"
    }
   },
   "outputs": [
    {
     "name": "stdout",
     "output_type": "stream",
     "text": [
      "Requirement already satisfied: torch in /opt/anaconda3/envs/py39/lib/python3.9/site-packages (1.12.0)\n",
      "Requirement already satisfied: torchvision in /opt/anaconda3/envs/py39/lib/python3.9/site-packages (0.13.0)\n",
      "Requirement already satisfied: torchaudio in /opt/anaconda3/envs/py39/lib/python3.9/site-packages (0.12.0)\n",
      "Requirement already satisfied: typing-extensions in /opt/anaconda3/envs/py39/lib/python3.9/site-packages (from torch) (4.3.0)\n",
      "Requirement already satisfied: requests in /opt/anaconda3/envs/py39/lib/python3.9/site-packages (from torchvision) (2.28.1)\n",
      "Requirement already satisfied: numpy in /opt/anaconda3/envs/py39/lib/python3.9/site-packages (from torchvision) (1.23.0)\n",
      "Requirement already satisfied: pillow!=8.3.*,>=5.3.0 in /opt/anaconda3/envs/py39/lib/python3.9/site-packages (from torchvision) (9.2.0)\n",
      "Requirement already satisfied: certifi>=2017.4.17 in /opt/anaconda3/envs/py39/lib/python3.9/site-packages (from requests->torchvision) (2022.6.15)\n",
      "Requirement already satisfied: charset-normalizer<3,>=2 in /opt/anaconda3/envs/py39/lib/python3.9/site-packages (from requests->torchvision) (2.1.0)\n",
      "Requirement already satisfied: idna<4,>=2.5 in /opt/anaconda3/envs/py39/lib/python3.9/site-packages (from requests->torchvision) (3.3)\n",
      "Requirement already satisfied: urllib3<1.27,>=1.21.1 in /opt/anaconda3/envs/py39/lib/python3.9/site-packages (from requests->torchvision) (1.26.9)\n",
      "Requirement already satisfied: transformers in /opt/anaconda3/envs/py39/lib/python3.9/site-packages (4.20.1)\n",
      "Requirement already satisfied: regex!=2019.12.17 in /opt/anaconda3/envs/py39/lib/python3.9/site-packages (from transformers) (2022.6.2)\n",
      "Requirement already satisfied: numpy>=1.17 in /opt/anaconda3/envs/py39/lib/python3.9/site-packages (from transformers) (1.23.0)\n",
      "Requirement already satisfied: packaging>=20.0 in /opt/anaconda3/envs/py39/lib/python3.9/site-packages (from transformers) (21.3)\n",
      "Requirement already satisfied: tokenizers!=0.11.3,<0.13,>=0.11.1 in /opt/anaconda3/envs/py39/lib/python3.9/site-packages (from transformers) (0.12.1)\n",
      "Requirement already satisfied: filelock in /opt/anaconda3/envs/py39/lib/python3.9/site-packages (from transformers) (3.7.1)\n",
      "Requirement already satisfied: pyyaml>=5.1 in /opt/anaconda3/envs/py39/lib/python3.9/site-packages (from transformers) (6.0)\n",
      "Requirement already satisfied: tqdm>=4.27 in /opt/anaconda3/envs/py39/lib/python3.9/site-packages (from transformers) (4.64.0)\n",
      "Requirement already satisfied: huggingface-hub<1.0,>=0.1.0 in /opt/anaconda3/envs/py39/lib/python3.9/site-packages (from transformers) (0.8.1)\n",
      "Requirement already satisfied: requests in /opt/anaconda3/envs/py39/lib/python3.9/site-packages (from transformers) (2.28.1)\n",
      "Requirement already satisfied: typing-extensions>=3.7.4.3 in /opt/anaconda3/envs/py39/lib/python3.9/site-packages (from huggingface-hub<1.0,>=0.1.0->transformers) (4.3.0)\n",
      "Requirement already satisfied: pyparsing!=3.0.5,>=2.0.2 in /opt/anaconda3/envs/py39/lib/python3.9/site-packages (from packaging>=20.0->transformers) (3.0.9)\n",
      "Requirement already satisfied: idna<4,>=2.5 in /opt/anaconda3/envs/py39/lib/python3.9/site-packages (from requests->transformers) (3.3)\n",
      "Requirement already satisfied: urllib3<1.27,>=1.21.1 in /opt/anaconda3/envs/py39/lib/python3.9/site-packages (from requests->transformers) (1.26.9)\n",
      "Requirement already satisfied: certifi>=2017.4.17 in /opt/anaconda3/envs/py39/lib/python3.9/site-packages (from requests->transformers) (2022.6.15)\n",
      "Requirement already satisfied: charset-normalizer<3,>=2 in /opt/anaconda3/envs/py39/lib/python3.9/site-packages (from requests->transformers) (2.1.0)\n"
     ]
    }
   ],
   "source": [
    "!pip install torch torchvision torchaudio\n",
    "!pip install transformers"
   ]
  },
  {
   "cell_type": "markdown",
   "id": "de5829f8",
   "metadata": {
    "id": "ZV5IsTTgZlVX",
    "slideshow": {
     "slide_type": "slide"
    }
   },
   "source": [
    "Import the transformers library"
   ]
  },
  {
   "cell_type": "code",
   "execution_count": 7,
   "id": "a593d509",
   "metadata": {
    "id": "P6wepbWPZjQy",
    "slideshow": {
     "slide_type": "fragment"
    }
   },
   "outputs": [],
   "source": [
    "import transformers"
   ]
  },
  {
   "cell_type": "markdown",
   "id": "863acb06",
   "metadata": {
    "id": "leCcO-ZoRchV",
    "slideshow": {
     "slide_type": "slide"
    }
   },
   "source": [
    "### 2.1. Using BERT pipelines\n",
    "\n",
    "Pipelines are a simplified way to apply BERT models. A pipeline is a code object that abstracts most of the complex code (it happens in the background), leaving only the bare minimum for the user to interact.\n",
    "\n",
    "We load the `pipeline` module from the `transformers` library:"
   ]
  },
  {
   "cell_type": "code",
   "execution_count": 8,
   "id": "a9a1158c",
   "metadata": {
    "id": "vs1_41BRPKgD",
    "slideshow": {
     "slide_type": "fragment"
    }
   },
   "outputs": [],
   "source": [
    "from transformers import pipeline"
   ]
  },
  {
   "cell_type": "markdown",
   "id": "a2fdec73",
   "metadata": {
    "id": "38gnrw2gNVbs",
    "slideshow": {
     "slide_type": "slide"
    }
   },
   "source": [
    "To create a pipeline, you need to know:\n",
    "* Which task you want to perform (e.g. `'fill-mask'`)\n",
    "* The model you want to use to make predictions (e.g. `'distilbert-base-uncased'`), which must be trained for the task you want to perform (i.e. `fill-mask`).\n",
    "* The tokenizer used by the model (i.e. the strategy that BERT uses to split sequences into smaller units. This is often the same name as the model, e.g. `'distilbert-base-uncased'`).\n",
    "* Which conventions the language model follows: e.g. if your task is `fill-mask`, how is the masked element tagged (usually `[MASK]`, sometimes `<MASK>`, etc.).\n",
    "\n",
    "If you obtained your model from the HuggingFace model hub (https://huggingface.co/models), you should be able to find all this info in the model card (e.g. https://huggingface.co/bert-base-uncased).\n",
    "\n",
    "**Note:** You can find more information on pipelines and how to use them in https://huggingface.co/transformers/main_classes/pipelines.html."
   ]
  },
  {
   "cell_type": "markdown",
   "id": "3aeae50c",
   "metadata": {
    "id": "wHftD07XWP8j",
    "slideshow": {
     "slide_type": "slide"
    }
   },
   "source": [
    "### 2.2. The Mask filling pipeline"
   ]
  },
  {
   "cell_type": "markdown",
   "id": "08472cad",
   "metadata": {
    "id": "Fw-gYTxGToyX",
    "slideshow": {
     "slide_type": "fragment"
    }
   },
   "source": [
    "Masked language modeling is the task of masking tokens in a sequence with a masking token, and prompting the model to fill that mask with an appropriate token (source: https://huggingface.co/transformers/task_summary.html#masked-language-modeling). The `fill-mask` pipeline replaces the mask in a sequence by the most likely prediction according to a BERT model.\n",
    "\n",
    "We will create a `fill-mask` pipeline using the `distilbert-base-uncased` English model (and its tokenizer), as follows:"
   ]
  },
  {
   "cell_type": "code",
   "execution_count": 9,
   "id": "04cc47df",
   "metadata": {
    "colab": {
     "base_uri": "https://localhost:8080/",
     "height": 265,
     "referenced_widgets": [
      "c4127d0a8863429baca65151680237fb",
      "07ed00183908469f89f0714c94b8be66",
      "892489a1a22d452eb2b8017231a49f63",
      "fe6c962147dd4250b8099cca88c4e82b",
      "ee0fd2e49c694c5cace010298133b86e",
      "5d3715e3b70c4b3aa95a95d157f7ba3a",
      "f0c092ac58e44e1fb62f51eb301339ef",
      "73ae6c09260a4101af78e91a2f67ee2f",
      "248b91fa193f43cd912431e6034116cd",
      "9ab77b5d3cad496a994d549fd84fcabe",
      "24487affaded4b24905b4398280cc16c",
      "ccfafaf56b1443d99b50308a5dd6c16d",
      "47ba9e6233e4448faa9435907c8a5589",
      "27ee1fc1ea4f49c2b769d3c0cb92fbcd",
      "605619be5e514845a5b5ab2a0319cb23",
      "96f7c81bce7f43449e1c2e17c083be1b",
      "537fe636ee6f40afa33d04a2e340311b",
      "a45ec38265ec4995927d545c9b12eddd",
      "90308ebc135a4777b26b75ce2a9948a8",
      "8460c6841339421580488018abff4d92",
      "cca00ac611bd4765a5d78d8001d0a4c3",
      "bda05c808a084aea9521d1925895890d",
      "88f64238a98e4f8f9bfb4c39abad112b",
      "fc631c664369444f96b141e235ed9a01",
      "8ba8bc7234534f84b4be792131473e2e",
      "7b90bd58f453439a83ce9ae244f3c844",
      "0e3665460a7c4f27a31fb1f2a026e52e",
      "878e15bc14e24bfd969dfa0bafe57a46",
      "34b9668e352546e7a48e2f7ef01b6ece",
      "58dfdaf7f38d4c60926b958ed8702329",
      "fa36fe68f2504d22a022302277f74e83",
      "37948521405c4f9eadb7ad71ca677474",
      "1ad2a42bc785434aa0a1186f42345f37",
      "1b0bece128bb4490aac5da3fc465f08f",
      "47bc5ae05b0a4458ba37f4f7fa3d933d",
      "f69252a6efd34300825ecf215e4b5db0",
      "f24dd8ac049c48d397032e228134f82d",
      "42f55e703d9d45a5abc6dd3883b3e0c3",
      "418a65725a6a4ccf9df83c086b84d1a7",
      "778718ab1d1540468af783745300ecc6"
     ]
    },
    "id": "QExSFUJuPKiX",
    "outputId": "20bddc4d-9db7-4d4a-ceec-13b53719ef04",
    "slideshow": {
     "slide_type": "fragment"
    }
   },
   "outputs": [],
   "source": [
    "unmasker = pipeline('fill-mask',\n",
    "                    model='distilbert-base-uncased',\n",
    "                    tokenizer='distilbert-base-uncased')"
   ]
  },
  {
   "cell_type": "markdown",
   "id": "f3d5a7fe",
   "metadata": {
    "id": "75GM6hUbUBXc",
    "slideshow": {
     "slide_type": "slide"
    }
   },
   "source": [
    "This pipeline allows us to easily use BERT to predict the masked element in a sentence.\n",
    "\n",
    "In the previous cell, we are:\n",
    "* Creating a pipeline for the task of `fill-mask`,\n",
    "* by using the `distilbert-base-uncased` BERT model and tokenizer,\n",
    "* and storing the resulting pipeline in a variable (we call it `unmasker`), which we can use and reuse in subsequent code.\n",
    "\n",
    "**Warning:** You need to make sure the model you use is trained for the `'fill-mask'` task."
   ]
  },
  {
   "cell_type": "markdown",
   "id": "8412084a",
   "metadata": {
    "id": "Kg4Ta73vSFY3",
    "slideshow": {
     "slide_type": "slide"
    }
   },
   "source": [
    "To use the pipeline, you just need to pass the sentence containing the masked word as an argument of `unmasker` (i.e. the variable containing your pipeline). You don't need to do any encoding, the pipeline already takes care of converting the text into an input BERT can understand!\n",
    "\n",
    "We store the output of applying the pipeline to this sentence in the `outputs` variable, as shown below:"
   ]
  },
  {
   "cell_type": "code",
   "execution_count": 10,
   "id": "c8155e9b",
   "metadata": {
    "id": "AEBgbIZSR_UH",
    "slideshow": {
     "slide_type": "fragment"
    }
   },
   "outputs": [],
   "source": [
    "outputs = unmasker(\"The cell is guarded by a [MASK].\")"
   ]
  },
  {
   "cell_type": "markdown",
   "id": "7078196e",
   "metadata": {
    "id": "3BFrn3ZqSVg4",
    "slideshow": {
     "slide_type": "slide"
    }
   },
   "source": [
    "Now, let's inspect the `outputs` variable:"
   ]
  },
  {
   "cell_type": "code",
   "execution_count": 11,
   "id": "1f14842b",
   "metadata": {
    "colab": {
     "base_uri": "https://localhost:8080/"
    },
    "id": "YQYwNfXQSoHg",
    "outputId": "bedb5c97-863d-483b-a7b5-f0c9ac96bd3a",
    "slideshow": {
     "slide_type": "fragment"
    }
   },
   "outputs": [
    {
     "name": "stdout",
     "output_type": "stream",
     "text": [
      "[{'score': 0.14199909567832947, 'token': 3457, 'token_str': 'guard', 'sequence': 'the cell is guarded by a guard.'}, {'score': 0.09074387699365616, 'token': 8638, 'token_str': 'fence', 'sequence': 'the cell is guarded by a fence.'}, {'score': 0.05313466489315033, 'token': 2813, 'token_str': 'wall', 'sequence': 'the cell is guarded by a wall.'}, {'score': 0.04400479421019554, 'token': 10684, 'token_str': 'keeper', 'sequence': 'the cell is guarded by a keeper.'}, {'score': 0.037186309695243835, 'token': 4796, 'token_str': 'gate', 'sequence': 'the cell is guarded by a gate.'}]\n"
     ]
    }
   ],
   "source": [
    "print(outputs)"
   ]
  },
  {
   "cell_type": "code",
   "execution_count": 12,
   "id": "301f8e71",
   "metadata": {
    "colab": {
     "base_uri": "https://localhost:8080/"
    },
    "id": "nxBd5fa3TXhm",
    "outputId": "667ccdac-26f6-4dbe-8ad4-2bbcaf8f6379",
    "slideshow": {
     "slide_type": "slide"
    }
   },
   "outputs": [
    {
     "name": "stdout",
     "output_type": "stream",
     "text": [
      "Prediction: guard\n",
      "Score:      0.142\n",
      "\n",
      "Prediction: fence\n",
      "Score:      0.0907\n",
      "\n",
      "Prediction: wall\n",
      "Score:      0.0531\n",
      "\n",
      "Prediction: keeper\n",
      "Score:      0.044\n",
      "\n",
      "Prediction: gate\n",
      "Score:      0.0372\n",
      "\n"
     ]
    }
   ],
   "source": [
    "# Let's print the results in an easier-to-read format:\n",
    "for one_output in outputs:\n",
    "    print(\"Prediction:\", one_output['token_str'])\n",
    "    print(\"Score:     \", round(one_output['score'],4))\n",
    "    print()"
   ]
  },
  {
   "cell_type": "code",
   "execution_count": 13,
   "id": "873afec8",
   "metadata": {
    "colab": {
     "base_uri": "https://localhost:8080/"
    },
    "id": "_5UZFsqzcZvt",
    "outputId": "c01331e0-fca6-43b8-eaa9-985f0d60d2d5",
    "slideshow": {
     "slide_type": "slide"
    }
   },
   "outputs": [
    {
     "name": "stdout",
     "output_type": "stream",
     "text": [
      "Prediction: cells\n",
      "Score:      0.9774\n",
      "\n",
      "Prediction: nuclei\n",
      "Score:      0.0077\n",
      "\n",
      "Prediction: neurons\n",
      "Score:      0.0026\n",
      "\n",
      "Prediction: colonies\n",
      "Score:      0.0017\n",
      "\n",
      "Prediction: organisms\n",
      "Score:      0.0012\n",
      "\n"
     ]
    }
   ],
   "source": [
    "outputs = unmasker(\"\"\"When a cell has been produced, we can then trace some of the\n",
    "                      stages by which new [MASK] are formed. There appear to be four\n",
    "                      modes in which vegetable cells are multiplied. The new cells\n",
    "                      may either proceed from a nucleus or they may be formed at\n",
    "                      once in the protoplasm.\"\"\")\n",
    "\n",
    "# Let's print the results in an easier-to-read format:\n",
    "for one_output in outputs:\n",
    "    print(\"Prediction:\", one_output['token_str'])\n",
    "    print(\"Score:     \", round(one_output['score'],4))\n",
    "    print()"
   ]
  },
  {
   "cell_type": "code",
   "execution_count": 14,
   "id": "b953c97b",
   "metadata": {
    "colab": {
     "base_uri": "https://localhost:8080/"
    },
    "id": "M2Ia8CvZdEXV",
    "outputId": "0e8c960f-d059-4e2c-9a9b-d2860553a654",
    "slideshow": {
     "slide_type": "slide"
    }
   },
   "outputs": [
    {
     "name": "stdout",
     "output_type": "stream",
     "text": [
      "Prediction: ##room\n",
      "Score:      0.1958\n",
      "\n",
      "Prediction: cell\n",
      "Score:      0.0785\n",
      "\n",
      "Prediction: tower\n",
      "Score:      0.0615\n",
      "\n",
      "Prediction: room\n",
      "Score:      0.0517\n",
      "\n",
      "Prediction: chamber\n",
      "Score:      0.0445\n",
      "\n"
     ]
    }
   ],
   "source": [
    "outputs = unmasker(\"\"\"Imprisonment with proper employment, and at least two visits\n",
    "                      every day from a prison officer. The punishment does not\n",
    "                      extend over a month. A week must elapse before the same\n",
    "                      prisoner can be put again into the dark [MASK].\"\"\")\n",
    "\n",
    "# Let's print the results in an easier-to-read format:\n",
    "for one_output in outputs:\n",
    "    print(\"Prediction:\", one_output['token_str'])\n",
    "    print(\"Score:     \", round(one_output['score'],4))\n",
    "    print()"
   ]
  },
  {
   "cell_type": "markdown",
   "id": "38a00d84",
   "metadata": {
    "id": "uSaj5vRG1cx-",
    "slideshow": {
     "slide_type": "slide"
    }
   },
   "source": [
    "✏️ **Exercise:**"
   ]
  },
  {
   "cell_type": "code",
   "execution_count": null,
   "id": "172809b8",
   "metadata": {
    "id": "gnE7bkL3sAoB",
    "slideshow": {
     "slide_type": "fragment"
    }
   },
   "outputs": [],
   "source": [
    "# Find a `fill-mask` model from HuggingFace model hub (trained on data in your preferred\n",
    "# language, if there is one). Create a `fill-mask` pipeline and try to predict the mask\n",
    "# token in some sentences.\n",
    "# * Try this with different sentences.\n",
    "# * What do the scores indicate?\n",
    "# * Try to see what happens if you want to use BERT to predict something that requires\n",
    "#   world knowledge, for example:\n",
    "#     * `Everyone agrees that the princes in the tower were [MASK].`\n",
    "#     * `It would seem [MASK] III killed the princes in the tower.`\n",
    "#     * `Barcelona is a city in [MASK].`\n",
    "#     * `Paris is the capital of [MASK].`\n",
    "#\n",
    "# Type your code here:\n",
    "\n"
   ]
  },
  {
   "cell_type": "markdown",
   "id": "7fca6e4b",
   "metadata": {
    "id": "t--wEQzKvfls",
    "slideshow": {
     "slide_type": "slide"
    }
   },
   "source": [
    "### 2.3. Load and use your own models\n",
    "\n",
    "In this tutorial we won't have time to cover how to train or fine-tune your own BERT model, but at the end of this notebook you will find some links on this.\n",
    "\n",
    "We will now imagine you have your own BERT models you want to use. Instead, we will be using our historical English BERT models, just to show that you can also use the `transformers` library using your own model. You just need to correctly point the right path to the model when loading it.\n",
    "\n",
    "See how we load our historical English BERT models:"
   ]
  },
  {
   "cell_type": "code",
   "execution_count": null,
   "id": "870d7efc",
   "metadata": {
    "colab": {
     "base_uri": "https://localhost:8080/"
    },
    "id": "Zq6k6lFtnGfE",
    "outputId": "5ded51dd-2cd7-4966-de4c-4f36e76bf67c",
    "slideshow": {
     "slide_type": "slide"
    }
   },
   "outputs": [],
   "source": [
    "# We have stored our historical English BERT models stored in Google drive, in\n",
    "# https://drive.google.com/drive/folders/1Y-ltpJNCfTO0ti7zPnBdRWlyMXh8OjmH?usp=sharing.\n",
    "# These language models are described in https://arxiv.org/abs/2105.11321.\n",
    "#\n",
    "# !!! Important facts you will **need to know** about these language models:\n",
    "# * They were fine-tuned on the `fill-mask` task based on `bert-base-uncased`\n",
    "# * They use the `bert-base-uncased` tokenizer.\n",
    "#\n",
    "# The dataset on which these language models are trained is a 19th-century collection\n",
    "# of books in English. We will download the following two BERT models:\n",
    "# * bert_1760_1850.zip: trained on books from 1760 to 1850: https://drive.google.com/file/d/1QJgUFiFgplOq2eBUn5mLwAxcn3KOSPxw/view?usp=sharing\n",
    "# * bert_1890_1900.zip: trained on books from 1890 to 1900: https://drive.google.com/file/d/1nPlcyBBOdGYxRGVmiCrgC6muhgD87lva/view?usp=sharing\n",
    "#\n",
    "# Download the files, unzip them, and store the `bert_1760_1850` and `bert_1890_1900` folders\n",
    "# directly under the `models` folder."
   ]
  },
  {
   "cell_type": "code",
   "execution_count": 15,
   "id": "00c226be",
   "metadata": {
    "colab": {
     "base_uri": "https://localhost:8080/",
     "height": 215,
     "referenced_widgets": [
      "d0b22839bf2e443995e167b46eac6069",
      "9098c0ae1fc4423d92964a6e50a013f6",
      "d287a9759eb849e3823f4ebf42db3b53",
      "144958ab732c4cdfa23b9034aebc6efc",
      "a5faa6fb33e542669d3877f03442292a",
      "5f6d7a5cc9c04db1b65202e4314b8323",
      "d527ecb6504149e69b9503d29d194a02",
      "a13dbcf9ae50468dae5ef14dd80872f9",
      "9efe21c6002640edb3ebd9805de32798",
      "3eae2c6fd4f8467eb6e2279873b2ea1a",
      "81a8108e5c4c4590b1955ce64edc8ac1",
      "3562bc738d9043ba92501eff95f2bbd8",
      "e369ef22237e41989bd8ff0f618146f6",
      "4c96e2ab39c74ff6be2e1c00f5a5041b",
      "aad72ac1a14349d7af0593ded98deafd",
      "9180f9f83db2476e8c66d2d85880fc60",
      "ea0ba5ec533c4f1c85a93636c3d3838c",
      "f505a4942dd24b9599c0aaeca9f6e738",
      "55f1137cdfc84aa380a761bd4dd6f95d",
      "34c6e2eca6a84b7a966f60ae732cbcaa",
      "fb420fdbbc0748e7bfb067c7fd79c81e",
      "7cf0730cea6c44dea0a9526bb3c9abd9",
      "e0c85de17cbb41d1b33995ecd90c46fe",
      "b8ce9ad0303143568f87542d90226a46",
      "cf8a3148b7d04b90955d3da4edb69adb",
      "ff0fad8ad81847a4ab4529b2f7ab372e",
      "57244ef4ea4140efa2ac5587452f3bda",
      "15517a901d8b43b399034a97756388a8",
      "4fd675ee3e4b4260b0a0c64f5994a9be",
      "1be9319d79fd48559533e8388c763a5a",
      "e4901e64d8a444898f5dc08c338189fb",
      "4055e61b146e4e6f990f7003228710a6"
     ]
    },
    "id": "LckRxq-V1ATz",
    "outputId": "3cb5aa1e-8646-48ac-cd0f-7cebe91fa420",
    "slideshow": {
     "slide_type": "slide"
    }
   },
   "outputs": [],
   "source": [
    "# And we create a `fill-mask` pipeline for the 1760-1850 model. To do so, you\n",
    "# just need to add the path to the `model` argument. It is very important that\n",
    "# you know (1) which is the tokenizer that was used to train the model and (2)\n",
    "# on which task the model was fine-tuned, in this case `fill-mask`: this info\n",
    "# is usually given in the description of the model.\n",
    "unmasker_1760_1850 = pipeline('fill-mask',\n",
    "                              model='models/bert_1760_1850',\n",
    "                              tokenizer='bert-base-uncased')"
   ]
  },
  {
   "cell_type": "code",
   "execution_count": 16,
   "id": "cff20738",
   "metadata": {
    "colab": {
     "base_uri": "https://localhost:8080/"
    },
    "id": "d_rzisZfnGkN",
    "outputId": "9397232a-25a6-4689-f854-80da7499ce0e",
    "slideshow": {
     "slide_type": "slide"
    }
   },
   "outputs": [
    {
     "name": "stdout",
     "output_type": "stream",
     "text": [
      "Prediction: door\n",
      "Score:      0.1674\n",
      "\n",
      "Prediction: entrance\n",
      "Score:      0.0997\n",
      "\n",
      "Prediction: gate\n",
      "Score:      0.0459\n",
      "\n",
      "Prediction: house\n",
      "Score:      0.0369\n",
      "\n",
      "Prediction: hall\n",
      "Score:      0.036\n",
      "\n"
     ]
    }
   ],
   "source": [
    "# We can now use them to predict a mask in a sentence as well:\n",
    "outputs = unmasker_1760_1850(\"\"\"The [MASK] is guarded by guards.\"\"\")\n",
    "\n",
    "# Let's print the results in an easier-to-read format:\n",
    "for one_output in outputs:\n",
    "    print(\"Prediction:\", one_output['token_str'])\n",
    "    print(\"Score:     \", round(one_output['score'],4))\n",
    "    print()"
   ]
  },
  {
   "cell_type": "markdown",
   "id": "66edb743",
   "metadata": {
    "slideshow": {
     "slide_type": "slide"
    }
   },
   "source": [
    "✏️ **Exercise:**"
   ]
  },
  {
   "cell_type": "code",
   "execution_count": 17,
   "id": "a912bb9c",
   "metadata": {
    "id": "1s9ORTYrPKkB",
    "slideshow": {
     "slide_type": "fragment"
    }
   },
   "outputs": [],
   "source": [
    "# Create a pipeline for the 1890-1900 model as well and try different sentences with\n",
    "# both the 1760-1850 and the 1890-1900 models. Do language models trained on data\n",
    "# from different periods make different predictions?\n",
    "# \n",
    "# Type your code here:\n",
    "\n"
   ]
  },
  {
   "cell_type": "markdown",
   "id": "11bf9e62",
   "metadata": {
    "slideshow": {
     "slide_type": "slide"
    }
   },
   "source": [
    "### 2.4. The other pipelines"
   ]
  },
  {
   "cell_type": "markdown",
   "id": "a1377e63",
   "metadata": {
    "slideshow": {
     "slide_type": "fragment"
    }
   },
   "source": [
    "These are other pipelines available through HuggingFace:\n",
    "* `ner` (for named entity recognition)\n",
    "* `question-answering`\n",
    "* `sentiment-analysis`\n",
    "* `summarization`\n",
    "* `text-generation`\n",
    "* `translation`\n",
    "* `zero-shot-classification`\n",
    "\n",
    "HuggingFace have created well-documented [tutorial](https://huggingface.co/course/chapter1/3?fw=pt#working-with-pipelines)."
   ]
  },
  {
   "cell_type": "markdown",
   "id": "4d60ae03",
   "metadata": {
    "slideshow": {
     "slide_type": "slide"
    }
   },
   "source": [
    "✏️ **Exercise:**"
   ]
  },
  {
   "cell_type": "code",
   "execution_count": null,
   "id": "0a723f71",
   "metadata": {
    "slideshow": {
     "slide_type": "fragment"
    }
   },
   "outputs": [],
   "source": [
    "# Have a look at the other pipelines, get inspration from the tutorial:\n",
    "# https://huggingface.co/course/chapter1/3?fw=pt#working-with-pipelines\n",
    "# Play a bit with different pipelines, using different models from the\n",
    "# model hub: https://huggingface.co/models (make sure that the language\n",
    "# is trained for the task you would like to try!).\n",
    "# \n",
    "# Type your code here:\n",
    "\n"
   ]
  },
  {
   "cell_type": "markdown",
   "id": "a7ae1d6d",
   "metadata": {
    "slideshow": {
     "slide_type": "slide"
    }
   },
   "source": [
    "### 2.5. Get the vector representation"
   ]
  },
  {
   "cell_type": "markdown",
   "id": "c7ed2a3c",
   "metadata": {
    "slideshow": {
     "slide_type": "fragment"
    }
   },
   "source": [
    "The meaning of a word, in NLP, is usually represented as vectors, i.e. lists of numbers. In the case of transformer models (such as BERT), the vector of a word changes based on the context in which this word occurs. In the following cells, we'll see how to obtain the vector representation of a token using the `tranformers` library."
   ]
  },
  {
   "cell_type": "markdown",
   "id": "a0503c19",
   "metadata": {
    "id": "PCx9f4pzZpTo",
    "slideshow": {
     "slide_type": "slide"
    }
   },
   "source": [
    "#### Tokenization\n",
    "\n",
    "As we saw yesterday, tokenizing a text is splitting it into meaningful units. Very often, this means splitting a text into words.\n",
    "\n",
    "BERT uses a **subword** tokenization procedure called WordPiece.\n",
    "\n",
    "This means that it does not only separate words. It also splits certain words into (ideally) meaningful units\n",
    "> E.g. it splits the word `tokenizing` into `token` and `##izing`, where `##` indicates that this is a suffix which should be attached to the previous word).\n",
    "\n",
    "These tokens are then mapped to numbers."
   ]
  },
  {
   "cell_type": "markdown",
   "id": "27baad18",
   "metadata": {
    "slideshow": {
     "slide_type": "slide"
    }
   },
   "source": [
    "The tokenizer maps every word form (e.g. `token` and `##izing`) with identifiers in the vocabulary (e.g. given a certain model, `19204` is the vocabulary ID of `token` and `6026` is the vocabulary ID of the suffix `##izing`, so the word 'tokenizing' would be tokenized as `[19204, 6026]`).\n",
    "\n",
    "**!!! Warning:** BERT has certain limits as to the length of the string that is accepted, which depends on the model, but usually 512 tokens.\n",
    "\n",
    "**!!! VERY important:** different models may have different token-to-id mappings. When we use an existing model, we must use the same tokenizer (and therefore the same vocabulary mapping) that was used when training the model."
   ]
  },
  {
   "cell_type": "markdown",
   "id": "675d1211",
   "metadata": {
    "id": "-P5gKh2GqWS4",
    "slideshow": {
     "slide_type": "slide"
    }
   },
   "source": [
    "#### The inner workings of BERT tokenization\n",
    "\n",
    "Tokenization steps:\n",
    "\n",
    "1. The text is split into tokens, which can be:\n",
    "  * words\n",
    "  * parts of words\n",
    "  * punctuation symbols\n",
    "\n",
    "2. The tokenizer adds special tokens:\n",
    "  * `[CLS]` indicating that this is the beginning of the input sequence.\n",
    "  * `[SEP]` indicating that it is the end of the sequence (or a sequence delimiter if we have a pair of sequences as input).\n",
    "\n",
    "3. The tokenizer maps each token into their vocabulary IDs."
   ]
  },
  {
   "cell_type": "markdown",
   "id": "3770c261",
   "metadata": {
    "id": "mQFYLklrpQRz",
    "slideshow": {
     "slide_type": "slide"
    }
   },
   "source": [
    "Let's explore this in code."
   ]
  },
  {
   "cell_type": "code",
   "execution_count": 19,
   "id": "0d3ef2af",
   "metadata": {
    "id": "RthE6sQiZXqh",
    "slideshow": {
     "slide_type": "fragment"
    }
   },
   "outputs": [],
   "source": [
    "# Load the tokenizer of a certain BERT model\n",
    "our_tokenizer = transformers.AutoTokenizer.from_pretrained(\"distilbert-base-uncased\")"
   ]
  },
  {
   "cell_type": "code",
   "execution_count": 20,
   "id": "92aaa38b",
   "metadata": {
    "colab": {
     "base_uri": "https://localhost:8080/"
    },
    "id": "VRczZfPRZXs3",
    "outputId": "8590811c-1611-4e7e-8777-7b73899ebf99",
    "slideshow": {
     "slide_type": "fragment"
    }
   },
   "outputs": [
    {
     "name": "stdout",
     "output_type": "stream",
     "text": [
      "[101, 1996, 3526, 2003, 21660, 2135, 13802, 2011, 4932, 1012, 102]\n"
     ]
    }
   ],
   "source": [
    "# The `encode` function does the three steps in one go (splits the sequence, adds\n",
    "# special tokens, and converts them into a sequence of IDs):\n",
    "encoded_seq = our_tokenizer.encode('The cell is relentlessly guarded by guards.')\n",
    "print(encoded_seq)"
   ]
  },
  {
   "cell_type": "markdown",
   "id": "4dcc5be3",
   "metadata": {
    "id": "_E_CFHlvNIfD",
    "slideshow": {
     "slide_type": "slide"
    }
   },
   "source": [
    "And there are also functions that translate the vocabulary IDs to the word forms (given a certain tokenizer):"
   ]
  },
  {
   "cell_type": "code",
   "execution_count": 21,
   "id": "5133da0e",
   "metadata": {
    "colab": {
     "base_uri": "https://localhost:8080/"
    },
    "id": "zRuw2R-2ZXxT",
    "outputId": "144a8bd2-add2-46e3-a96c-8964e7b22266",
    "slideshow": {
     "slide_type": "fragment"
    }
   },
   "outputs": [
    {
     "name": "stdout",
     "output_type": "stream",
     "text": [
      "['[CLS]', 'the', 'cell', 'is', 'relentless', '##ly', 'guarded', 'by', 'guards', '.', '[SEP]']\n"
     ]
    }
   ],
   "source": [
    "# The `convert_ids_to_tokens` returns the tokens that correspond to the IDs of\n",
    "# an encoded sequence:\n",
    "tokens = our_tokenizer.convert_ids_to_tokens(encoded_seq)\n",
    "print(tokens)"
   ]
  },
  {
   "cell_type": "markdown",
   "id": "758d43fd",
   "metadata": {
    "id": "JzUAk_78av8c",
    "slideshow": {
     "slide_type": "slide"
    }
   },
   "source": [
    "### 2.6. The feature extraction pipeline\n",
    "\n",
    "Here we will see how to get vectors for words in context.\n",
    "\n",
    "Similarly to what we did with word2vec, we may also want to have access to the vector of a certain word. However, unlike with word2vec, the vector of a word will depend on the context in which the word occurs. This means that we can't just ask for the vector of the word \"apple\", for example: we will need to ask for the vector of the word \"apple\" given a certain context."
   ]
  },
  {
   "cell_type": "markdown",
   "id": "be708e62",
   "metadata": {
    "id": "Oh1tR1gk7FiO",
    "slideshow": {
     "slide_type": "slide"
    }
   },
   "source": [
    "We first import the following two libraries, which will help us work with vectors:"
   ]
  },
  {
   "cell_type": "code",
   "execution_count": 22,
   "id": "2b94839c",
   "metadata": {
    "id": "0qGhhLcKbLct",
    "slideshow": {
     "slide_type": "fragment"
    }
   },
   "outputs": [],
   "source": [
    "import numpy as np # python library used for working with vectors\n",
    "from scipy import spatial # package to help compute distance or similarity between vectors"
   ]
  },
  {
   "cell_type": "markdown",
   "id": "58949b89",
   "metadata": {
    "id": "yaiUaFkM8Epq",
    "slideshow": {
     "slide_type": "slide"
    }
   },
   "source": [
    "The pipeline task to obtain the vectors for tokens in a sequence is `feature-extraction`. As you can see, creating this pipeline is very similar to creating the `fill-mask` pipeline.\n",
    "\n",
    "We will store the pipeline in a variable called `nlp_features`:"
   ]
  },
  {
   "cell_type": "code",
   "execution_count": 23,
   "id": "d1617544",
   "metadata": {
    "colab": {
     "base_uri": "https://localhost:8080/"
    },
    "id": "t-XAVDugazIe",
    "outputId": "2f246551-6185-4fa8-b99b-08af2847cbdd",
    "slideshow": {
     "slide_type": "fragment"
    }
   },
   "outputs": [
    {
     "name": "stderr",
     "output_type": "stream",
     "text": [
      "Some weights of the model checkpoint at distilbert-base-uncased were not used when initializing DistilBertModel: ['vocab_projector.weight', 'vocab_projector.bias', 'vocab_layer_norm.weight', 'vocab_transform.bias', 'vocab_layer_norm.bias', 'vocab_transform.weight']\n",
      "- This IS expected if you are initializing DistilBertModel from the checkpoint of a model trained on another task or with another architecture (e.g. initializing a BertForSequenceClassification model from a BertForPreTraining model).\n",
      "- This IS NOT expected if you are initializing DistilBertModel from the checkpoint of a model that you expect to be exactly identical (initializing a BertForSequenceClassification model from a BertForSequenceClassification model).\n"
     ]
    }
   ],
   "source": [
    "nlp_features = pipeline(\"feature-extraction\",\n",
    "                    model='distilbert-base-uncased',\n",
    "                    tokenizer='distilbert-base-uncased')"
   ]
  },
  {
   "cell_type": "markdown",
   "id": "69761226",
   "metadata": {
    "id": "6Lysu1Dm_Weh",
    "slideshow": {
     "slide_type": "slide"
    }
   },
   "source": [
    "Given a sentence with a masked element, the pipeline tokenizes the input sentence:"
   ]
  },
  {
   "cell_type": "code",
   "execution_count": 24,
   "id": "74434c38",
   "metadata": {
    "id": "xZV_uhZ2-G1V",
    "slideshow": {
     "slide_type": "fragment"
    }
   },
   "outputs": [],
   "source": [
    "sentence = \"They were told that the [MASK] stopped working.\"\n",
    "\n",
    "output = nlp_features(sentence)\n",
    "output_vectors = np.squeeze(output) # This removes single-dimensional entries (i.e. for vector readability)"
   ]
  },
  {
   "cell_type": "markdown",
   "id": "4b756732",
   "metadata": {
    "id": "B11uYzovCe8z",
    "slideshow": {
     "slide_type": "slide"
    }
   },
   "source": [
    "Let's inspect the output. First of all, let's print it:"
   ]
  },
  {
   "cell_type": "code",
   "execution_count": 25,
   "id": "3348be94",
   "metadata": {
    "colab": {
     "base_uri": "https://localhost:8080/"
    },
    "id": "DkcTRDTeCoN0",
    "outputId": "c9a2dfbe-2f49-4718-d9b2-ed877e154a60",
    "slideshow": {
     "slide_type": "fragment"
    }
   },
   "outputs": [
    {
     "name": "stdout",
     "output_type": "stream",
     "text": [
      "[[-0.07321426  0.09112739  0.13822553 ... -0.04309447  0.07258517\n",
      "   0.19995576]\n",
      " [ 0.04927437  0.23628353  0.29838353 ... -0.07781299  0.42321664\n",
      "  -0.35109937]\n",
      " [ 0.25163767 -0.08905183  0.13250721 ... -0.04209455  0.21886498\n",
      "   0.04611908]\n",
      " ...\n",
      " [ 0.44022593  0.04324771 -0.05111429 ... -0.24669521  0.16832688\n",
      "  -0.2145575 ]\n",
      " [ 0.60124731  0.21446064 -0.34401369 ...  0.0698016  -0.41985661\n",
      "  -0.43481502]\n",
      " [-0.0759867   0.24979676  0.34999335 ...  0.02171966  0.3519392\n",
      "  -0.05327559]]\n"
     ]
    }
   ],
   "source": [
    "print(output_vectors)"
   ]
  },
  {
   "cell_type": "markdown",
   "id": "f638bd67",
   "metadata": {
    "id": "3SCm6NODCjon",
    "slideshow": {
     "slide_type": "slide"
    }
   },
   "source": [
    "This is an array (a list of vectors). Let's see its shape:"
   ]
  },
  {
   "cell_type": "code",
   "execution_count": 26,
   "id": "be520e7c",
   "metadata": {
    "colab": {
     "base_uri": "https://localhost:8080/"
    },
    "id": "4xNx4rwN_Qkk",
    "outputId": "0b95c6d9-055b-4ca5-ed80-1d09def551b3",
    "slideshow": {
     "slide_type": "fragment"
    }
   },
   "outputs": [
    {
     "name": "stdout",
     "output_type": "stream",
     "text": [
      "(11, 768)\n"
     ]
    }
   ],
   "source": [
    "print(output_vectors.shape) # Print the shape of the vector"
   ]
  },
  {
   "cell_type": "markdown",
   "id": "5354576e",
   "metadata": {
    "id": "pkrr6zpPEGI5",
    "slideshow": {
     "slide_type": "fragment"
    }
   },
   "source": [
    "This means that we have an arrray (in other words a matrix, a table) that has 11 vectors of length 768 (or, in other words, 11 rows with 768 columns)."
   ]
  },
  {
   "cell_type": "markdown",
   "id": "5394e0e7",
   "metadata": {
    "id": "FIrLMeHlG0gG",
    "slideshow": {
     "slide_type": "fragment"
    }
   },
   "source": [
    "**Question:** 11 vectors? Why 11?"
   ]
  },
  {
   "cell_type": "markdown",
   "id": "35e1e14c",
   "metadata": {
    "id": "uuGWf0R_LV8G",
    "slideshow": {
     "slide_type": "slide"
    }
   },
   "source": [
    "Let's see how the sentence is tokenized (we've seen how above):"
   ]
  },
  {
   "cell_type": "code",
   "execution_count": 27,
   "id": "5f9d5c1b",
   "metadata": {
    "colab": {
     "base_uri": "https://localhost:8080/"
    },
    "id": "YeDbMIQFLY-E",
    "outputId": "e2f5d37d-3e2a-418a-b0fc-5b224d64e275",
    "slideshow": {
     "slide_type": "fragment"
    }
   },
   "outputs": [
    {
     "name": "stdout",
     "output_type": "stream",
     "text": [
      "[101, 2027, 2020, 2409, 2008, 1996, 103, 3030, 2551, 1012, 102]\n",
      "['[CLS]', 'they', 'were', 'told', 'that', 'the', '[MASK]', 'stopped', 'working', '.', '[SEP]']\n",
      "11\n"
     ]
    }
   ],
   "source": [
    "# Load the **SAME** tokenizer used in the pipeline:\n",
    "our_tokenizer = transformers.AutoTokenizer.from_pretrained(\"distilbert-base-uncased\")\n",
    "\n",
    "# Encode the sentence into a sequence of vocabulary IDs\n",
    "encoded_seq = our_tokenizer.encode(sentence)\n",
    "print(encoded_seq)\n",
    "\n",
    "# And get the tokens given the vocabulary IDs\n",
    "tokens = our_tokenizer.convert_ids_to_tokens(encoded_seq)\n",
    "print(tokens)\n",
    "\n",
    "# And print the length of the tokenized sequence:\n",
    "print(len(tokens))"
   ]
  },
  {
   "cell_type": "markdown",
   "id": "6e65407a",
   "metadata": {
    "id": "IrgIvkB0G35O",
    "slideshow": {
     "slide_type": "slide"
    }
   },
   "source": [
    "As you can see, the input sentence has been tokenized into 11 tokens. So what we have in the above array is 11 vectors (each one representing a word in the context of the sentence, **keeping the order of tokens**, i.e. the first vector will correspond to the special token `[CLS]`, the second vector to the token `the`, and so on until the last vector, which corresponds to the special token `[SEP]`)."
   ]
  },
  {
   "cell_type": "markdown",
   "id": "d09ce32c",
   "metadata": {
    "id": "g60E3KzsOGzT",
    "slideshow": {
     "slide_type": "fragment"
    }
   },
   "source": [
    "How do we get the vector of the `[MASK]`?"
   ]
  },
  {
   "cell_type": "code",
   "execution_count": 28,
   "id": "633ec499",
   "metadata": {
    "colab": {
     "base_uri": "https://localhost:8080/"
    },
    "id": "X0ATT1dKOZNw",
    "outputId": "8dbe0fc3-eeb3-43e0-9c2c-44e70a1103cb",
    "slideshow": {
     "slide_type": "fragment"
    }
   },
   "outputs": [
    {
     "name": "stdout",
     "output_type": "stream",
     "text": [
      "[MASK]\n"
     ]
    }
   ],
   "source": [
    "print(tokens[6]) # The [MASK] is the 6th element in the tokenized sentence (we start counting from zero)"
   ]
  },
  {
   "cell_type": "code",
   "execution_count": 29,
   "id": "1ca882dd",
   "metadata": {
    "colab": {
     "base_uri": "https://localhost:8080/"
    },
    "id": "yNMhJtHgIkFj",
    "outputId": "6484e968-a6aa-470a-fb0c-e64005baf543",
    "slideshow": {
     "slide_type": "fragment"
    }
   },
   "outputs": [
    {
     "name": "stdout",
     "output_type": "stream",
     "text": [
      "[ 3.93834978e-01  9.59944427e-02  4.58759703e-02  2.51016229e-01\n",
      "  5.57362139e-01  2.37901658e-01 -2.06523180e-01  5.89200631e-02\n",
      " -1.73569813e-01  1.68626867e-02  8.82697105e-02  3.52528453e-01\n",
      " -1.32263631e-01  2.57606536e-01 -1.32825673e-01  1.76140487e-01\n",
      "  1.14207864e-01 -1.24538951e-02 -1.40964329e-01  4.74948198e-01\n",
      " -1.78421646e-01 -9.54175964e-02  1.69281527e-01  8.99420232e-02\n",
      " -3.75428885e-01  3.06230724e-01  1.00276358e-02  2.63351649e-01\n",
      " -7.12660775e-02  9.17139128e-02  2.20640481e-01 -2.19783895e-02\n",
      "  2.15243712e-01 -2.72956997e-01 -4.59161177e-02 -2.79989056e-02\n",
      " -1.75952762e-02 -1.73659176e-02 -1.86118573e-01 -2.65843421e-01\n",
      "  1.84799224e-01 -4.14932668e-02 -9.50016379e-02  1.64442118e-02\n",
      " -2.49477327e-02  3.27352285e-01 -2.33344987e-01  2.11645011e-02\n",
      " -5.38533255e-02 -1.30768895e-01 -4.00706470e-01  1.28413379e-01\n",
      "  6.17664099e-01 -2.73852825e-01  2.46800318e-01 -3.25068533e-02\n",
      " -1.53046504e-01 -6.70900196e-03  2.65286595e-01  1.04872912e-01\n",
      "  1.05188876e-01 -2.29741454e-01 -1.69149965e-01  1.94126621e-01\n",
      "  2.14707762e-01 -1.06773935e-01 -9.93058085e-02 -3.62535827e-02\n",
      "  4.23131496e-01 -3.85444194e-01 -4.23951782e-02  1.33085191e-01\n",
      "  9.18462649e-02 -2.77730614e-01  1.51543275e-01 -2.28051931e-01\n",
      " -2.55493045e-01 -1.60173550e-01  1.25257075e-01  2.94427842e-01\n",
      " -2.11747885e-01 -1.41678238e-02 -1.05231278e-01 -1.45884484e-01\n",
      "  1.99153587e-01 -1.48936957e-01  4.84118611e-02 -3.43900360e-03\n",
      " -4.43088979e-01  2.59672403e-01 -2.49188766e-01 -4.85015325e-02\n",
      " -1.51811540e-01  1.73228160e-01 -4.14241850e-01 -3.06452304e-01\n",
      " -9.54395607e-02 -3.49365696e-02  2.65632451e-01  7.10813105e-02\n",
      "  1.73164994e-01 -2.02435479e-01  7.35612735e-02  2.77545750e-01\n",
      "  7.44647458e-02 -7.24256411e-02 -1.38067573e-01  4.36227359e-02\n",
      " -2.97765076e-01  5.18479608e-02 -2.19811618e-01  1.27928257e-02\n",
      "  8.47497024e-03 -3.06146443e-01 -6.02527149e-02  3.94840270e-01\n",
      " -6.08712137e-02  2.31933460e-01  9.73111093e-02  6.44335225e-02\n",
      "  4.15932089e-01  2.67632127e-01 -9.78051648e-02  2.17901260e-01\n",
      " -1.37165233e-01  5.98877817e-02 -1.06974252e-01  2.72386193e-01\n",
      " -1.67808980e-02 -1.88675344e-01 -3.21714818e-01  2.35498130e-01\n",
      "  1.41759828e-01 -1.64031148e-01 -1.18431374e-02 -1.95485085e-01\n",
      " -6.51711047e-01  7.41585121e-02  3.74854133e-02  2.64530510e-01\n",
      "  7.20112771e-02  2.57080019e-01  5.99563122e-02  3.95535350e-01\n",
      " -1.97496593e-01 -5.54605685e-02 -1.99315995e-01 -8.50896910e-02\n",
      " -8.05211961e-02  1.83198705e-01 -1.10418484e-01  2.03302994e-01\n",
      " -9.76546258e-02 -4.92426679e-02  2.12209933e-02  1.82616860e-01\n",
      "  2.31173992e-01  1.13101974e-02 -3.52151096e-01 -1.12103432e-01\n",
      "  2.19437748e-01 -7.75706470e-02 -9.81303770e-03  3.87349784e-01\n",
      "  1.24254197e-01 -9.36731622e-02  4.31740694e-02  1.74967535e-02\n",
      "  3.93351257e-01  1.64364919e-01 -2.24979892e-02  3.94148976e-01\n",
      " -2.29313970e-03 -4.66843918e-02  8.54008868e-02 -2.60978229e-02\n",
      "  3.01244497e-01  4.12873924e-02  3.46412182e-01  3.28008801e-01\n",
      "  1.76728427e-01  2.72441864e-01 -1.68100789e-01  4.00518566e-01\n",
      "  1.49303809e-01 -2.11484700e-01  7.36035228e-01  8.42107534e-02\n",
      "  2.18732476e-01 -3.41260806e-02  1.17597781e-01 -9.87383053e-02\n",
      "  7.31011808e-01  1.63835391e-01  3.63889188e-01  9.74718779e-02\n",
      "  5.76503798e-02 -3.10277641e-02 -6.91646934e-02  1.73658639e-01\n",
      " -1.90260231e-01 -1.39513284e-01  3.90594788e-02 -1.37269184e-01\n",
      " -2.15342566e-01  7.35630393e-02  8.33293796e-02 -1.14914700e-02\n",
      "  1.69577256e-01 -2.49951944e-01 -2.25099474e-01 -3.19412947e-02\n",
      "  2.83123165e-01 -1.13744453e-01 -3.38401645e-02  3.09871025e-02\n",
      " -2.44583711e-01 -1.95673317e-01 -1.74507439e-01 -7.40890950e-02\n",
      "  2.60286015e-02  2.08122693e-02 -5.38843237e-02  2.47767061e-01\n",
      " -1.21976890e-01  4.35350835e-01  3.57682616e-01  1.70307457e-02\n",
      "  5.76173142e-03  8.10305178e-02 -7.63899088e-03  1.91214368e-01\n",
      " -1.76504388e-01  3.32619876e-01  1.90093741e-02  8.54558125e-02\n",
      " -9.14936513e-02  8.16181228e-02 -3.83208692e-02  1.33333161e-01\n",
      "  1.11689754e-01  1.12405576e-01 -3.12984526e-01 -4.84976843e-02\n",
      "  2.86985040e-01 -3.23536433e-02  2.56413490e-01 -2.19417036e-01\n",
      "  1.56973630e-01 -1.05860673e-01 -2.20108390e-01  6.39947653e-01\n",
      " -4.68269512e-02  1.79843709e-01  1.12612739e-01 -8.34111422e-02\n",
      " -2.50879973e-01  1.68090805e-01  1.08322904e-01  5.19059934e-02\n",
      "  1.89264506e-01 -4.18292806e-02 -2.34123886e-01 -6.90340474e-02\n",
      "  2.48761147e-01 -1.98552012e-01  1.59617513e-02 -3.35791260e-01\n",
      " -2.93179005e-02 -6.23464882e-02 -1.90243535e-02  9.74589810e-02\n",
      " -1.13801792e-01 -4.40180525e-02 -1.37625158e-01 -3.29073183e-02\n",
      "  1.62392914e-01  1.68074310e-01 -6.58342093e-02  4.14891392e-02\n",
      " -4.74516228e-02 -6.09507523e-02 -8.93365592e-02 -2.62331754e-01\n",
      " -2.46105418e-01  1.90615445e-01 -7.74449408e-02  6.87380135e-02\n",
      "  1.11864060e-02 -6.45921007e-02 -3.37454736e-01  1.13326032e-02\n",
      "  6.13073744e-02 -1.27050146e-01  7.41149113e-03  8.68967921e-02\n",
      " -2.10966356e-02  1.51234210e-01  4.09692675e-02  2.23542079e-01\n",
      " -1.78409427e-01  2.90771723e-01 -3.31441134e-01 -1.11101866e-01\n",
      "  4.43618000e-03  1.15301251e-01 -4.63502370e-02 -2.24626184e-01\n",
      " -5.25335598e+00 -2.32457906e-01 -4.71607655e-01  9.83054750e-03\n",
      "  1.57523677e-01  6.91176280e-02  1.39955521e-01 -5.25368378e-03\n",
      "  6.46331608e-02  9.53610912e-02 -1.08333997e-01  8.16723704e-02\n",
      " -2.51632363e-01  1.34583682e-01  1.26584142e-01 -1.79310054e-01\n",
      "  1.46461949e-02  1.46945015e-01 -2.24715233e-01 -1.43608481e-01\n",
      "  1.00477010e-01 -5.69106787e-02 -1.39176801e-01  1.09599613e-01\n",
      " -2.23044619e-01  2.67981738e-01 -4.45236862e-02  2.62847811e-01\n",
      "  1.00827441e-02  1.51481330e-02  2.16819078e-01  2.25627929e-01\n",
      " -3.84591632e-02  5.92230558e-02 -9.08766240e-02 -9.43453833e-02\n",
      " -3.49056311e-02 -3.17899853e-01  1.83356881e-01 -1.58389613e-01\n",
      "  3.80826220e-02 -2.58488208e-02 -3.40994805e-01  1.33394673e-01\n",
      " -7.78784528e-02 -2.64211982e-01 -5.72123714e-02 -1.49973154e-01\n",
      "  4.03020799e-01 -2.31520653e-01  2.58054256e-01 -2.68166840e-01\n",
      "  4.31966782e-02 -1.91518605e-01 -2.96002656e-01  2.44861647e-01\n",
      "  5.92900962e-02  3.65894079e-01 -5.89528456e-02 -6.21686019e-02\n",
      " -1.48328960e-01  7.17438012e-03 -1.33143276e-01  2.45364830e-02\n",
      " -2.18834564e-01 -3.36238258e-02  1.09856769e-01 -2.62309939e-01\n",
      " -7.53387660e-02  2.37061068e-01 -3.49197894e-01  4.50208969e-02\n",
      "  5.05746305e-02 -8.69606793e-01 -1.89353511e-01  1.79955676e-01\n",
      "  3.48036319e-01 -7.87969008e-02 -2.97467858e-01  2.24003762e-01\n",
      " -7.05847517e-02 -3.52242619e-01  6.06934726e-01 -2.32971266e-01\n",
      "  1.57362789e-01 -2.99349964e-01 -1.57958195e-01  1.49847284e-01\n",
      " -1.95508543e-02  2.47815847e-01  5.89534461e-01  2.89227441e-02\n",
      " -4.60769236e-02 -4.24451023e-01  1.55531496e-01  4.39761132e-01\n",
      "  2.45754689e-01  8.55446607e-02 -1.69036418e-01  8.46594870e-02\n",
      " -9.94689018e-02  6.06037676e-03  1.82073310e-01 -2.08021894e-01\n",
      "  1.26638040e-01 -2.58453965e-01 -3.99917178e-02  1.16549149e-01\n",
      " -2.43932512e-02  9.49008763e-02  6.98820651e-02 -2.79693920e-02\n",
      "  3.92869025e-01 -2.50798911e-01 -2.12502584e-01  8.09100363e-03\n",
      "  8.58143717e-02 -2.22375721e-01 -1.35355592e-02 -8.70673656e-02\n",
      "  1.31333292e-01  2.52997220e-01  1.48111522e-01 -2.19432443e-01\n",
      " -4.14904118e-01  2.77122080e-01 -2.13970289e-01  2.14784756e-01\n",
      "  2.97290653e-01  3.38549048e-01 -2.09521353e-01  1.39939934e-01\n",
      "  7.51615539e-02 -6.34998083e-02  9.17504430e-02  4.90619391e-02\n",
      " -3.13882440e-01 -2.08645806e-01 -1.76663756e-01  4.65782247e-02\n",
      " -3.40291142e-01  8.05309117e-02  9.39211715e-03 -3.53656054e-01\n",
      " -3.02345484e-01  1.44880228e-02 -2.54297294e-02 -2.16012836e-01\n",
      "  5.53125665e-02 -6.89408556e-02 -1.20143615e-01 -2.87986457e-01\n",
      " -1.35980934e-01 -1.94314212e-01 -1.76380083e-01  2.67894745e-01\n",
      "  1.31536990e-01  5.18490225e-02  6.77750483e-02 -1.08156562e-01\n",
      "  5.50192855e-02 -4.24969196e-01  9.67086405e-02  1.00176692e-01\n",
      " -1.84298277e-01  3.48113298e-01  2.23881841e-01 -9.57478732e-02\n",
      "  5.61116524e-02 -2.72027045e-01 -1.88340247e-01  1.18337810e-01\n",
      " -5.53455912e-02  5.53222597e-01  9.47017223e-03  9.08185840e-02\n",
      " -1.06280893e-01 -2.99155235e-01  2.79652588e-02 -3.13057005e-03\n",
      "  2.82974660e-01  1.59565032e-01  8.20772052e-02  3.11951749e-02\n",
      "  4.45958942e-01 -2.05044776e-01 -1.43161444e-02 -8.71744305e-02\n",
      "  3.09510291e-01 -3.49478796e-02 -3.40626568e-01 -7.59220123e-02\n",
      "  2.54529983e-01 -1.00737795e-01 -2.92019159e-01 -2.58261293e-01\n",
      " -6.28819615e-02  3.81001830e-01 -2.08390146e-01 -1.96498469e-01\n",
      " -1.65837973e-01  5.21009266e-02  8.12297165e-02 -8.32673535e-03\n",
      "  2.74012499e-02  5.59433065e-02  3.63747254e-02 -1.06352471e-01\n",
      "  1.68241382e-01  1.16088971e-01  3.92732829e-01  4.06133384e-03\n",
      " -1.13831654e-01  2.91297525e-01 -2.16389671e-01  2.32491419e-02\n",
      " -1.57630984e-02  2.14472175e-01 -1.45516187e-01 -1.58607721e-01\n",
      " -2.90358424e-01 -8.84607360e-02 -2.15932369e-01  7.78827369e-02\n",
      " -7.91310817e-02  1.55956298e-01  6.84395656e-02 -3.35673727e-02\n",
      "  2.33725719e-02  2.94398963e-01  8.89371112e-02  4.20561165e-01\n",
      "  7.32103139e-02  7.88325369e-02 -4.32396799e-01  3.96460071e-02\n",
      " -1.12834536e-01 -1.14418589e-01 -5.60174957e-02 -9.96652432e-03\n",
      "  6.18880801e-02 -2.20513776e-01  4.42057289e-02  6.11511767e-02\n",
      " -4.88229841e-02  2.88449734e-01  8.98318440e-02 -2.00711787e-01\n",
      " -4.13429365e-02  2.51010180e-01 -2.12671801e-01  8.72156620e-02\n",
      "  1.87535863e-02  1.90066099e-02 -3.40739414e-02 -4.81365383e-01\n",
      "  3.04785103e-01  1.42515928e-01  2.01424986e-01  2.69755311e-02\n",
      " -3.11915815e-01  7.59387389e-04 -8.85973051e-02  1.61507368e-01\n",
      " -1.72673911e-01  2.58821249e-01 -1.43041909e-01 -3.62614095e-01\n",
      "  3.28697860e-02 -1.53519660e-01 -1.18533522e-03 -1.48229629e-01\n",
      "  1.09170467e-01  3.30315351e-01  1.14923410e-01  4.38391045e-02\n",
      " -3.29473615e-01  3.53156030e-02  1.69571981e-01  3.23560715e-01\n",
      "  8.05120319e-02  4.65718478e-01  1.23698704e-01 -5.40694892e-02\n",
      " -3.28208417e-01 -1.21297389e-01  1.49204195e-01 -3.77474725e-03\n",
      " -1.98797256e-01 -2.47924760e-01  4.01071422e-02  2.82545201e-02\n",
      "  2.99728185e-01 -1.08842365e-02  1.72184289e-01  1.36295244e-01\n",
      "  6.12186529e-02 -7.28156790e-02  5.93838617e-02  1.96860656e-02\n",
      "  6.25103489e-02 -3.16551834e-01  1.96073920e-01 -5.00139035e-02\n",
      " -2.72236347e-01 -1.97737217e-02 -8.71514380e-02 -3.79106164e-01\n",
      " -2.14735180e-01 -1.32544532e-01 -1.53183788e-01 -6.37339577e-02\n",
      " -2.07607687e-01  1.47008672e-01 -2.01180041e-01 -1.81622267e-01\n",
      "  2.72066265e-01 -4.43870388e-02 -6.18343294e-01 -2.67702304e-02\n",
      "  1.88970432e-01  5.17860726e-02 -1.56173572e-01 -2.31363565e-01\n",
      " -1.82767391e-01  1.18703708e-01 -1.06437460e-01  2.99327523e-01\n",
      " -7.31171072e-02 -1.34056374e-01 -1.26268983e-01  7.75325671e-02\n",
      " -3.63703147e-02 -3.51343639e-02  9.27129388e-02 -2.55023390e-02\n",
      " -2.00298935e-01 -2.36487776e-01 -2.79875845e-02 -1.32560283e-02\n",
      " -3.06802601e-01 -1.82950139e-01 -3.60150710e-02 -1.45765180e-02\n",
      "  3.29185635e-01 -2.71533787e-01 -1.39237523e-01  1.03498854e-01\n",
      " -1.69298962e-01  1.50600299e-01 -3.12635154e-01 -4.64069039e-01\n",
      " -3.93463492e-01  1.39248520e-01 -8.86314735e-03 -2.43664652e-01\n",
      " -2.35719770e-01  6.03789166e-02  2.43531428e-02  1.12010509e-01\n",
      "  7.41839930e-02  9.15742442e-02  2.18492150e-01  3.03992093e-01\n",
      " -2.00188346e-02  2.44976088e-01  1.41757727e-01 -2.58935332e-01\n",
      "  2.58507673e-02 -4.82197106e-02 -1.80847719e-01 -4.62309897e-01\n",
      "  1.56553656e-01  2.76449680e-01 -3.66541743e-01 -1.90630779e-01\n",
      "  1.63087159e-01  4.47493047e-02  1.25139445e-01  5.02928913e-01\n",
      "  1.82420358e-01  2.15684950e-01 -1.09572165e-01  5.16395234e-02\n",
      " -2.09976718e-01  1.28939152e-02  1.16247185e-01 -1.04221627e-01\n",
      " -4.43207264e-01 -1.08607277e-01 -2.71904543e-02 -8.75229314e-02\n",
      " -1.62021428e-01 -3.07499290e-01 -1.09575674e-01  1.86701596e-01\n",
      "  2.43125051e-01 -1.73071459e-01 -5.09045482e-01  4.73115221e-02\n",
      "  6.50874451e-02  1.26918748e-01  1.75778359e-01  7.49316253e-03\n",
      " -2.50738084e-01  4.06967988e-03 -4.89868075e-02 -4.24482077e-02\n",
      " -1.18243873e-01 -4.51019555e-02  1.87159553e-01  1.19361557e-01\n",
      " -9.79255736e-02  7.97049254e-02  1.05418950e-01 -2.15086192e-01\n",
      "  1.49185762e-01  9.25680250e-02  2.71852046e-01 -6.70674741e-02\n",
      " -1.99674964e-01 -2.66266242e-02  1.77145988e-01  4.16897088e-02\n",
      "  8.93749595e-02 -1.53250039e-01  8.31015408e-02 -3.21573973e-01\n",
      "  7.84473717e-02  1.38765886e-01 -1.19183734e-01  3.77324298e-02\n",
      " -1.38625279e-01 -5.18048108e-02 -2.33659707e-02 -4.27049935e-01\n",
      " -3.01936090e-01  1.36931017e-01  1.55258685e-01 -3.89392190e-02\n",
      "  2.56137758e-01 -4.44057360e-02 -3.62416178e-01  5.28167263e-02\n",
      "  5.79722077e-02 -2.62157351e-01 -3.87662463e-02 -2.49528691e-01\n",
      "  1.34237856e-01  9.56236199e-02  1.55008376e-01 -1.46035045e-01\n",
      "  3.55887488e-02  2.88143665e-01  4.36227709e-01  1.12390473e-01\n",
      " -4.67166305e-02  6.04713373e-02 -1.65515646e-01 -6.91055357e-02]\n"
     ]
    }
   ],
   "source": [
    "print(output_vectors[6]) # So the 6th vector in output_vectors is the vector of the [MASK] in this context."
   ]
  },
  {
   "cell_type": "markdown",
   "id": "76bdb821",
   "metadata": {
    "id": "pm-7RWVSV4Kl",
    "slideshow": {
     "slide_type": "slide"
    }
   },
   "source": [
    "#### Compute the similarity between words in contexts"
   ]
  },
  {
   "cell_type": "markdown",
   "id": "3594a614",
   "metadata": {
    "id": "YK7qTFlbWFDt",
    "slideshow": {
     "slide_type": "fragment"
    }
   },
   "source": [
    "The following function (`get_embedding`) gets us a vector for a token in a sentence. It needs, as input:\n",
    "* `sentence`: the sentence where the target token appears.\n",
    "* `target_token`: the token for which we want to get a vector.\n",
    "* `nlp_features`: the `feature-extraction` pipeline.\n",
    "* `tokenizer`: the same tokenizer used by the `feature-extraction` pipeline.\n",
    "\n",
    "The function prints the list of encoded tokens in the sentence, the list of tokens, and the position of the target token in the sentence. The output of the function is the vector representing the target token in the sentence."
   ]
  },
  {
   "cell_type": "code",
   "execution_count": 41,
   "id": "40534573",
   "metadata": {
    "id": "8I7gJiZeIkHy",
    "slideshow": {
     "slide_type": "slide"
    }
   },
   "outputs": [],
   "source": [
    "def get_embedding(sentence, target_token, nlp_features, tokenizer):\n",
    "    \"\"\"\n",
    "    Function that returns the contextualized vector of a target token.\n",
    "    \n",
    "    Arguments:\n",
    "        * sentence: the full sentence in which the target token occurs.\n",
    "        * target_token: the target token (the token whose vector we want).\n",
    "        * nlp_features: the feature-extraction pipeline.\n",
    "        * tokenizer: the tokenizer used by the feature-extraction pipeline.\n",
    "    \n",
    "    Returns\n",
    "        The vector representing teh target token in the sentence.\n",
    "    \"\"\"\n",
    "    encoded_seq = tokenizer.encode(sentence) # Tokenize and encode tokens into vocabulary IDs\n",
    "    tokens = tokenizer.convert_ids_to_tokens(encoded_seq) # Get the tokens corresponding to the IDs.\n",
    "    target_id_in_sentence = tokens.index(target_token) # Find the position of the target token in the sentence.\n",
    "    output = nlp_features(sentence) # Use the feature-extraction pipeline to convert the sentence into an array.\n",
    "    output = np.squeeze(output) # Squeeze the output from feature-extraction for readability.\n",
    "    print(\"Encoded tokens in sentence:\", encoded_seq)\n",
    "    print(\"Tokens in sentence:\", tokens)\n",
    "    print(\"Position of target id:\", target_id_in_sentence)\n",
    "    return output[target_id_in_sentence] # Return nth vector in the array (where n is the position of the target token in the sentence.)"
   ]
  },
  {
   "cell_type": "markdown",
   "id": "d7adf3ef",
   "metadata": {
    "id": "ax3Cb455ZFAz",
    "slideshow": {
     "slide_type": "slide"
    }
   },
   "source": [
    "We can call the function for different sentences:"
   ]
  },
  {
   "cell_type": "code",
   "execution_count": 42,
   "id": "f3f5b511",
   "metadata": {
    "colab": {
     "base_uri": "https://localhost:8080/"
    },
    "id": "ttSLaFg4IkLT",
    "outputId": "69c8138f-7fd8-4fed-ae5c-6d416aff448a",
    "slideshow": {
     "slide_type": "fragment"
    }
   },
   "outputs": [
    {
     "name": "stdout",
     "output_type": "stream",
     "text": [
      "Encoded tokens in sentence: [101, 2027, 2020, 2409, 2008, 1996, 103, 3030, 2551, 1012, 102]\n",
      "Tokens in sentence: ['[CLS]', 'they', 'were', 'told', 'that', 'the', '[MASK]', 'stopped', 'working', '.', '[SEP]']\n",
      "Position of target id: 6\n"
     ]
    }
   ],
   "source": [
    "# Get the embedding for [MASK] in the following sentence:\n",
    "sentence_1 = \"They were told that the [MASK] stopped working.\"\n",
    "target_token_1 = \"[MASK]\"\n",
    "\n",
    "tok_embedding_1 = get_embedding(sentence_1, target_token_1, nlp_features, our_tokenizer)"
   ]
  },
  {
   "cell_type": "code",
   "execution_count": 32,
   "id": "ce20828b",
   "metadata": {
    "colab": {
     "base_uri": "https://localhost:8080/"
    },
    "id": "1x72VSRWIkNX",
    "outputId": "8c55f504-08e7-4654-ea57-5b335f6de12d",
    "slideshow": {
     "slide_type": "slide"
    }
   },
   "outputs": [
    {
     "name": "stdout",
     "output_type": "stream",
     "text": [
      "Encoded tokens in sentence: [101, 1996, 103, 2499, 1999, 1996, 4713, 2127, 6440, 1012, 102]\n",
      "Tokens in sentence: ['[CLS]', 'the', '[MASK]', 'worked', 'in', 'the', 'factory', 'until', 'dawn', '.', '[SEP]']\n",
      "Position of target id: 2\n"
     ]
    }
   ],
   "source": [
    "# Get the embedding for [MASK] in the following sentence:\n",
    "sentence_2 = \"The [MASK] worked in the factory until dawn.\"\n",
    "target_token_2 = \"[MASK]\"\n",
    "\n",
    "tok_embedding_2 = get_embedding(sentence_2, target_token_2, nlp_features, our_tokenizer)"
   ]
  },
  {
   "cell_type": "markdown",
   "id": "aa9c56c7",
   "metadata": {
    "id": "FwsS6nBoZVWT",
    "slideshow": {
     "slide_type": "slide"
    }
   },
   "source": [
    "We can now get the cosine similarity between any pair of vectors using the following (where `tok_embedding_1` and `tok_embedding_2` are the two vectors we want to compare)."
   ]
  },
  {
   "cell_type": "code",
   "execution_count": 33,
   "id": "59c48b24",
   "metadata": {
    "colab": {
     "base_uri": "https://localhost:8080/"
    },
    "id": "-lLRJju2IkQH",
    "outputId": "65933f5c-c864-450a-bf9d-c08ff1c05e68",
    "slideshow": {
     "slide_type": "fragment"
    }
   },
   "outputs": [
    {
     "name": "stdout",
     "output_type": "stream",
     "text": [
      "0.7452569641310333\n"
     ]
    }
   ],
   "source": [
    "print(1 - spatial.distance.cosine(tok_embedding_1, tok_embedding_2))"
   ]
  },
  {
   "cell_type": "markdown",
   "id": "aa3a840c",
   "metadata": {
    "id": "8-F30T5CZtxA",
    "slideshow": {
     "slide_type": "slide"
    }
   },
   "source": [
    "Try to find the similarity between words in different sentences."
   ]
  },
  {
   "cell_type": "code",
   "execution_count": 45,
   "id": "ac9e5861",
   "metadata": {
    "colab": {
     "base_uri": "https://localhost:8080/"
    },
    "id": "lPRp_v1fa3qv",
    "outputId": "1cb65cf5-84b6-45c4-ef62-a25f80f25ce4",
    "slideshow": {
     "slide_type": "slide"
    }
   },
   "outputs": [
    {
     "name": "stdout",
     "output_type": "stream",
     "text": [
      "Encoded tokens in sentence: [101, 1045, 2052, 2066, 2000, 4521, 2019, 6207, 1012, 102]\n",
      "Tokens in sentence: ['[CLS]', 'i', 'would', 'like', 'to', 'eat', 'an', 'apple', '.', '[SEP]']\n",
      "Position of target id: 7\n",
      "\n",
      "Encoded tokens in sentence: [101, 1045, 2147, 2007, 2019, 6207, 6097, 8654, 1012, 102]\n",
      "Tokens in sentence: ['[CLS]', 'i', 'work', 'with', 'an', 'apple', 'mac', '##book', '.', '[SEP]']\n",
      "Position of target id: 5\n"
     ]
    }
   ],
   "source": [
    "# Example 1\n",
    "sentence_1 = \"I would like to eat an apple.\"\n",
    "target_token_1 = \"apple\"\n",
    "tok_embedding_1 = get_embedding(sentence_1, target_token_1, nlp_features, our_tokenizer)\n",
    "\n",
    "print()\n",
    "\n",
    "# Example 2\n",
    "sentence_2 = \"I work with an apple macbook.\"\n",
    "target_token_2 = \"apple\"\n",
    "tok_embedding_2 = get_embedding(sentence_2, target_token_2, nlp_features, our_tokenizer)"
   ]
  },
  {
   "cell_type": "code",
   "execution_count": 46,
   "id": "70526f2f",
   "metadata": {
    "slideshow": {
     "slide_type": "slide"
    }
   },
   "outputs": [
    {
     "name": "stdout",
     "output_type": "stream",
     "text": [
      "Encoded tokens in sentence: [101, 1045, 2081, 18108, 1999, 1996, 17428, 1012, 102]\n",
      "Tokens in sentence: ['[CLS]', 'i', 'made', 'apples', 'in', 'the', 'oven', '.', '[SEP]']\n",
      "Position of target id: 3\n",
      "\n",
      "Encoded tokens in sentence: [101, 2026, 6207, 5080, 8007, 1998, 1045, 2018, 2000, 23818, 2009, 1012, 102]\n",
      "Tokens in sentence: ['[CLS]', 'my', 'apple', 'device', 'crashed', 'and', 'i', 'had', 'to', 'restart', 'it', '.', '[SEP]']\n",
      "Position of target id: 2\n"
     ]
    }
   ],
   "source": [
    "# Example 3\n",
    "sentence_3 = \"I made apples in the oven.\"\n",
    "target_token_3 = \"apples\"\n",
    "tok_embedding_3 = get_embedding(sentence_3, target_token_3, nlp_features, our_tokenizer)\n",
    "\n",
    "print()\n",
    "\n",
    "# Example 4\n",
    "sentence_4 = \"My apple device crashed and I had to restart it.\"\n",
    "target_token_4 = \"apple\"\n",
    "tok_embedding_4 = get_embedding(sentence_4, target_token_4, nlp_features, our_tokenizer)"
   ]
  },
  {
   "cell_type": "code",
   "execution_count": 47,
   "id": "bf8896da",
   "metadata": {
    "colab": {
     "base_uri": "https://localhost:8080/"
    },
    "id": "8j9wi0j6bYO_",
    "outputId": "f898d3e6-043b-4990-dde7-2ab4ff290c57",
    "slideshow": {
     "slide_type": "slide"
    }
   },
   "outputs": [
    {
     "name": "stdout",
     "output_type": "stream",
     "text": [
      "Similarity sent1 and sent2: 0.7331894389522713\n",
      "Similarity sent1 and sent3: 0.8244613730693006\n",
      "Similarity sent1 and sent4: 0.677632658232054\n",
      "Similarity sent2 and sent4: 0.8349916990418413\n"
     ]
    }
   ],
   "source": [
    "# Cosine similarity\n",
    "print(\"Similarity sent1 and sent2:\", 1 - spatial.distance.cosine(tok_embedding_1, tok_embedding_2))\n",
    "print(\"Similarity sent1 and sent3:\", 1 - spatial.distance.cosine(tok_embedding_1, tok_embedding_3))\n",
    "print(\"Similarity sent1 and sent4:\", 1 - spatial.distance.cosine(tok_embedding_1, tok_embedding_4))\n",
    "print(\"Similarity sent2 and sent4:\", 1 - spatial.distance.cosine(tok_embedding_2, tok_embedding_4))"
   ]
  },
  {
   "cell_type": "markdown",
   "id": "a4d4968f",
   "metadata": {
    "id": "sYgcioF-_q9q",
    "slideshow": {
     "slide_type": "slide"
    }
   },
   "source": [
    "✏️ **Exercise:**"
   ]
  },
  {
   "cell_type": "code",
   "execution_count": 48,
   "id": "33d6b515",
   "metadata": {
    "slideshow": {
     "slide_type": "fragment"
    }
   },
   "outputs": [],
   "source": [
    "# Create two `feature-extraction` pipelines, one for the  1760-1850 model, and\n",
    "# one for the 1890-1900 model. Find whether the cosine similarity between words\n",
    "# in sequences change depending on which BERT model you use.\n",
    "# \n",
    "# Type your code here:"
   ]
  },
  {
   "cell_type": "markdown",
   "id": "275083c3",
   "metadata": {
    "id": "RLnsKVzkX-EO",
    "slideshow": {
     "slide_type": "slide"
    }
   },
   "source": [
    "👀 **If you are interested in knowing more, we recommend:**\n",
    "* The HuggingFace tutorials: https://huggingface.co/course/chapter1/1\n",
    "* BERT for Humanists: http://www.bertforhumanists.org/"
   ]
  },
  {
   "cell_type": "code",
   "execution_count": null,
   "id": "433473f4",
   "metadata": {},
   "outputs": [],
   "source": []
  }
 ],
 "metadata": {
  "celltoolbar": "Slideshow",
  "kernelspec": {
   "display_name": "Python (py39)",
   "language": "python",
   "name": "py39"
  },
  "language_info": {
   "codemirror_mode": {
    "name": "ipython",
    "version": 3
   },
   "file_extension": ".py",
   "mimetype": "text/x-python",
   "name": "python",
   "nbconvert_exporter": "python",
   "pygments_lexer": "ipython3",
   "version": "3.9.12"
  }
 },
 "nbformat": 4,
 "nbformat_minor": 5
}
