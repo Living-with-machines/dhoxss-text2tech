{
 "cells": [
  {
   "cell_type": "markdown",
   "metadata": {},
   "source": [
    "# Intro to Python\n",
    "\n",
    "## Welcome!\n",
    "\n",
    "### What is Natural Language Processing?\n",
    "\n",
    "The development and application of computational techniques for the the analysis of human language.\n",
    "\n",
    "<img src=\"images/nlp.png\" width=\"800\" />\n",
    "\n",
    "\n",
    "### Is it different to Computational Linguistics?\n",
    "\n",
    "Computational linguistics is a social science with the goal of understanding language through computational models.\n",
    "\n",
    "### How can I use it in my Humanities Research?\n",
    "\n",
    "This is what we will learn during the week."
   ]
  },
  {
   "cell_type": "markdown",
   "metadata": {},
   "source": [
    "## NLP as Data Science\n",
    "\n",
    "![From: https://towardsdatascience.com/introduction-to-statistics-e9d72d818745](images/data_science.png)\n",
    "\n",
    "\n",
    "## NLP as Field of Research\n",
    "\n",
    "1. New research is mostly published in conference proceedings \n",
    "2. The most important conferences are: ACL, EMNLP, COLING, NAACL, EACL\n",
    "3. Pre-print are often shared on ArXiV (https://arxiv.org/list/cs.CL/recent)\n",
    "\n",
    "\n",
    "## What Should I know before we start?\n",
    "\n",
    "1. All quantitative models of language are wrong - but some are useful!\n",
    "2. The importance of the human-in-the-loop\n",
    "3. No-free-lunch theorem\n",
    "4. Always validate!\n"
   ]
  },
  {
   "cell_type": "markdown",
   "metadata": {},
   "source": [
    "## Why Python?\n",
    "\n",
    "![](images/python.jpg)\n",
    "\n",
    "1. It is quick to program in\n",
    "\n",
    "2. Very popular in NLP, and has lots of useful libraries thoroughly documented \n",
    "\n",
    "3. It interfaces well with faster languages \n",
    "\n",
    "4. Python is free, so you’ll never have a problem getting hold of it, wherever you go.\n",
    "\n",
    "## Why write programs for research?\n",
    "\n",
    "Not just labour saving, scripted research can be tested and reproduced!\n",
    "\n",
    "## Sensible Input - Reasonable Output\n",
    "Programs are a rigorous way of describing data analysis for other researchers, as well as for computers.\n",
    "\n",
    "Computational research suffers from people assuming each other’s data manipulation is correct. By sharing codes, which are much more easy for a non-author to understand than spreadsheets."
   ]
  },
  {
   "cell_type": "markdown",
   "metadata": {},
   "source": [
    "## Why Binder?\n",
    "\n",
    "![](images/mybinder.png)\n",
    "\n",
    "### Running Code is more complicated than Displaying Code!\n",
    "[GitHub](https://github.com/) is a great service for sharing code, but the contents are static.\n",
    "\n",
    "It would be great if you could you run a GitHub repository without installing complicated requirements, like directly in your browser.\n",
    "\n",
    "However, to run code, you need:\n",
    "\n",
    "1. Hardware on which to run the code\n",
    "2. Software, including:\n",
    "    - The code itself\n",
    "    - The programming language (e.g. Python, R, Julia, and so on)\n",
    "    - Relevant packages (e.g. pandas, matplotlib, tidyverse, ggplot)\n",
    "\n",
    "If you are already familiar with creating Python environments, installing libraries and Jupyter Notebooks you can clone [our GitHub repo](https://github.com/Living-with-machines/dhoxss-text2tech) and use the notebooks on your machine.\n",
    "\n",
    "### The solution!\n",
    "\n",
    "[Binder](https://mybinder.org/) is a service that provides your code and the hardware and software to execute it.\n",
    "\n",
    "You can create a **link** to a live, interactive version of your code (like this one)!"
   ]
  },
  {
   "cell_type": "markdown",
   "metadata": {},
   "source": [
    "## The Jupyter Notebook\n",
    "\n",
    "![](images/jupyter.png)\n",
    "\n",
    "The easiest way to get started using Python, and one of the best for research data work, is the Jupyter Notebook.\n",
    "\n",
    "In the notebook (like this), you can easily mix code with discussion and commentary, and mix code with the results of that code; including graphs and other data visualisations.\n",
    "\n",
    "Jupyter notebooks consist of discussion cells, referred to as “markdown cells”, and “code cells”, which contain Python. This document has been created using Jupyter notebook, and this very cell is a Markdown Cell. To learn how to write in Markdown, follow [this link](https://daringfireball.net/projects/markdown/)\n",
    "\n",
    "And now, let's start with our first Code cell!"
   ]
  },
  {
   "cell_type": "code",
   "execution_count": null,
   "metadata": {},
   "outputs": [],
   "source": [
    "# you can use hashtag to add comments (these will not get run)\n",
    "\n",
    "# printing in python\n",
    "\n",
    "print (\"hi!\")"
   ]
  },
  {
   "cell_type": "code",
   "execution_count": null,
   "metadata": {},
   "outputs": [],
   "source": [
    "# printing multiple things together\n",
    "\n",
    "print (\"Hi\",\"Oxford!\")"
   ]
  },
  {
   "cell_type": "code",
   "execution_count": null,
   "metadata": {},
   "outputs": [],
   "source": [
    "# things with numbers\n",
    "\n",
    "print (3+5)\n",
    "\n",
    "print (3-5)\n"
   ]
  },
  {
   "cell_type": "code",
   "execution_count": null,
   "metadata": {},
   "outputs": [],
   "source": [
    "# defining decimal numbers\n",
    "\n",
    "10.0"
   ]
  },
  {
   "cell_type": "code",
   "execution_count": null,
   "metadata": {},
   "outputs": [],
   "source": [
    "# everytime we do these operations results are displayed but not stored\n",
    "5*254"
   ]
  },
  {
   "cell_type": "code",
   "execution_count": null,
   "metadata": {},
   "outputs": [],
   "source": [
    "# so, we can create variables and store information in them\n",
    "six = 3*2\n",
    "print (six)\n",
    "\n",
    "number = 0\n",
    "print (number)"
   ]
  },
  {
   "cell_type": "code",
   "execution_count": null,
   "metadata": {},
   "outputs": [],
   "source": [
    "# And also sum them together\n",
    "number = number + 1\n",
    "print (number)"
   ]
  },
  {
   "cell_type": "code",
   "execution_count": null,
   "metadata": {},
   "outputs": [],
   "source": [
    "# what happens if we do \n",
    "print (seven)"
   ]
  },
  {
   "cell_type": "markdown",
   "metadata": {},
   "source": [
    "It is important to spend some time and learn how to read error messages, as we will see loads of them!\n",
    "\n",
    "In this case it is quite clear, the variable \"seven\" is not defined"
   ]
  },
  {
   "cell_type": "code",
   "execution_count": null,
   "metadata": {},
   "outputs": [],
   "source": [
    "# we can also do operations using variables\n",
    "\n",
    "print (six*2)"
   ]
  },
  {
   "cell_type": "code",
   "execution_count": null,
   "metadata": {},
   "outputs": [],
   "source": [
    "# and even more complicated things \n",
    "\n",
    "a_lot = six*six*180\n",
    "\n",
    "print (a_lot)"
   ]
  },
  {
   "cell_type": "code",
   "execution_count": null,
   "metadata": {},
   "outputs": [],
   "source": [
    "# however you need to be careful, as in Python you can re-assign variables\n",
    "\n",
    "a_lot = 100\n",
    "\n",
    "print (a_lot)"
   ]
  },
  {
   "cell_type": "code",
   "execution_count": null,
   "metadata": {},
   "outputs": [],
   "source": [
    "# you can also assign variables to string\n",
    "\n",
    "a_lot = \"big number\"\n",
    "\n",
    "print (a_lot)"
   ]
  },
  {
   "cell_type": "code",
   "execution_count": null,
   "metadata": {},
   "outputs": [],
   "source": [
    "# to check what \"type\" of object a certain variable is you can do\n",
    "\n",
    "type(a_lot)"
   ]
  },
  {
   "cell_type": "markdown",
   "metadata": {},
   "source": [
    "Python has two core numeric types, int for integer, and float for real number."
   ]
  },
  {
   "cell_type": "code",
   "execution_count": null,
   "metadata": {},
   "outputs": [],
   "source": [
    "one = 1\n",
    "ten = 10\n",
    "one_float = 1.0\n",
    "ten_float = 10.0\n",
    "\n",
    "type(one_float)"
   ]
  },
  {
   "cell_type": "markdown",
   "metadata": {},
   "source": [
    "Also, cells in Jupyter Notebook are not always evaluated in order.\n",
    "\n",
    "If I now go back to reading number = number + 1, and run it again, with shift-enter. Number will change from 2 to 3, then from 3 to 4. Try it!\n",
    "\n",
    "So it’s important to remember that if you move your cursor around in the notebook, it doesn’t always run top to bottom."
   ]
  },
  {
   "cell_type": "markdown",
   "metadata": {},
   "source": [
    "### For Loops and If/Else Statements\n",
    "\n",
    "A `for loop` is a command that allows code to be executed repeatedly. "
   ]
  },
  {
   "cell_type": "code",
   "execution_count": null,
   "metadata": {},
   "outputs": [],
   "source": [
    "# for loops - remember to indent!\n",
    "\n",
    "counter = 0\n",
    "print (counter)\n",
    "\n",
    "for i in range(10):\n",
    "    counter = counter + 1\n",
    "print (counter)"
   ]
  },
  {
   "cell_type": "markdown",
   "metadata": {},
   "source": [
    "✏️ **Exercise:**\n",
    "\n",
    "Write a programme that sums two numbers (and prints the sum) if the first is larger than the second, otherwise only prints the first"
   ]
  },
  {
   "cell_type": "code",
   "execution_count": null,
   "metadata": {},
   "outputs": [],
   "source": [
    "# example of input\n",
    "number_1 = 5\n",
    "number_2 = 4\n",
    "\n",
    "if number_1 > number_2:\n",
    "    print (number_1+number_2)\n",
    "else:\n",
    "    print (number_1)"
   ]
  },
  {
   "cell_type": "markdown",
   "metadata": {},
   "source": [
    "With this exercise you have learnt another essential element of programming: the `if statement`. In computer science, conditionals statements are commands for handling decisions. Specifically, conditionals perform different actions depending on whether a boolean condition evaluates to true or false. \n",
    "![](images/if-else.png)"
   ]
  },
  {
   "cell_type": "markdown",
   "metadata": {},
   "source": [
    "### Lists (and other objects)\n",
    "\n",
    "Python’s basic container type is the `list`. Their purpose is to hold other objects.\n",
    "\n",
    "We can define our own list with square brackets:\n"
   ]
  },
  {
   "cell_type": "code",
   "execution_count": null,
   "metadata": {},
   "outputs": [],
   "source": [
    "some_numbers = [1, 3, 7]\n",
    "type(some_numbers)"
   ]
  },
  {
   "cell_type": "markdown",
   "metadata": {},
   "source": [
    "Lists do not have to contain just one type:"
   ]
  },
  {
   "cell_type": "code",
   "execution_count": null,
   "metadata": {},
   "outputs": [],
   "source": [
    "various_things = [1, 2, \"banana\", 3.4, [1, 2]]"
   ]
  },
  {
   "cell_type": "markdown",
   "metadata": {},
   "source": [
    "We access elements of a list with their index (remember that Python starts counting from 0)"
   ]
  },
  {
   "cell_type": "code",
   "execution_count": null,
   "metadata": {},
   "outputs": [],
   "source": [
    "print (various_things[0])"
   ]
  },
  {
   "cell_type": "markdown",
   "metadata": {},
   "source": [
    "We can also ask a list if it conaints a particular item"
   ]
  },
  {
   "cell_type": "code",
   "execution_count": null,
   "metadata": {},
   "outputs": [],
   "source": [
    "\"banana\" in various_things"
   ]
  },
  {
   "cell_type": "markdown",
   "metadata": {},
   "source": [
    "Note that you can add and  remove elements from a list"
   ]
  },
  {
   "cell_type": "code",
   "execution_count": null,
   "metadata": {},
   "outputs": [],
   "source": [
    "various_things.append(\"pizza\")\n",
    "print (various_things)"
   ]
  },
  {
   "cell_type": "code",
   "execution_count": null,
   "metadata": {},
   "outputs": [],
   "source": [
    "various_things.remove(2)\n",
    "print (various_things)"
   ]
  },
  {
   "cell_type": "markdown",
   "metadata": {},
   "source": [
    "An important thing when working with text - Python treats sequences (for instance strings) as lists, so commands that are available for lists also work for sequences, for instance"
   ]
  },
  {
   "cell_type": "code",
   "execution_count": null,
   "metadata": {},
   "outputs": [],
   "source": [
    "text = \"My name is Fede\"\n",
    "print (text[3:7])"
   ]
  },
  {
   "cell_type": "markdown",
   "metadata": {},
   "source": [
    "A `set` is a list which cannot contain the same element twice. We make one by calling set() on any sequence, e.g. a list or string."
   ]
  },
  {
   "cell_type": "code",
   "execution_count": null,
   "metadata": {},
   "outputs": [],
   "source": [
    "many_things = [\"fede\",1,4,562,65,1,44,\"fede\",\"book\",3455, 5]\n",
    "print (set(many_things))"
   ]
  },
  {
   "cell_type": "markdown",
   "metadata": {},
   "source": [
    "A set has no particular order, but is really useful for checking or storing unique values. Additionally, set operations work as in mathematics"
   ]
  },
  {
   "cell_type": "code",
   "execution_count": null,
   "metadata": {},
   "outputs": [],
   "source": [
    "x = set(\"Hello\")\n",
    "y = set(\"Goodbye\")\n",
    "x & y  # Intersection\n"
   ]
  },
  {
   "cell_type": "code",
   "execution_count": null,
   "metadata": {},
   "outputs": [],
   "source": [
    "x | y  # Union"
   ]
  },
  {
   "cell_type": "code",
   "execution_count": null,
   "metadata": {},
   "outputs": [],
   "source": [
    "y - x  # y intersection with complement of x: letters in Goodbye but not in Hello"
   ]
  },
  {
   "cell_type": "markdown",
   "metadata": {},
   "source": [
    "Python supports a container type called a `dictionary`.\n",
    "\n",
    "This is also known as an “associative array”, “map” or “hash” in other languages.\n",
    "\n",
    "The things we can use to look up with are called keys and what we obtain are values."
   ]
  },
  {
   "cell_type": "code",
   "execution_count": null,
   "metadata": {},
   "outputs": [],
   "source": [
    "me = {\"name\": \"Fede\", \"age\": 35, \"Jobs\": [\"Research Data Scientist\", \"Teacher\"]}"
   ]
  },
  {
   "cell_type": "code",
   "execution_count": null,
   "metadata": {},
   "outputs": [],
   "source": [
    "me[\"Jobs\"]"
   ]
  },
  {
   "cell_type": "markdown",
   "metadata": {},
   "source": [
    "A very important thing: that there’s no guaranteed order among the elements in a dictionary! \n",
    "(as opposed for instance to list)"
   ]
  },
  {
   "cell_type": "markdown",
   "metadata": {},
   "source": [
    "Your programs will be faster and more readable if you use the appropriate container type for your data’s meaning. Always use a set for lists which can’t in principle contain the same data twice, always use a dictionary for anything which feels like a mapping from keys to values."
   ]
  },
  {
   "cell_type": "markdown",
   "metadata": {},
   "source": [
    "### Opening a file\n",
    "\n",
    "There are many ways to open a file in Python - for the moment we will just use the one with relies on the built-in function `open`. With open you need to specify a path to the file. See the example below"
   ]
  },
  {
   "cell_type": "code",
   "execution_count": null,
   "metadata": {},
   "outputs": [],
   "source": [
    "filepath = \"data/input.txt\"\n",
    "\n",
    "file_content = open(filepath,\"r\").read()\n",
    "print (file_content)"
   ]
  },
  {
   "cell_type": "code",
   "execution_count": null,
   "metadata": {},
   "outputs": [],
   "source": [
    "file_lines = file_content.split(\"\\n\")\n",
    "print (file_lines)"
   ]
  },
  {
   "cell_type": "markdown",
   "metadata": {},
   "source": [
    "You can also write to a file, again using the `open` function"
   ]
  },
  {
   "cell_type": "code",
   "execution_count": null,
   "metadata": {},
   "outputs": [],
   "source": [
    "output_path = \"data/output.txt\"\n",
    "file_content = open(output_path,\"w\").write(\"hello!\")"
   ]
  },
  {
   "cell_type": "markdown",
   "metadata": {},
   "source": [
    "✏️ **Exercise:**\n",
    "(from [Advent of Code](https://adventofcode.com/) 2021, day 1)\n",
    "\n",
    "Given `file_lines`, count the number of times a number increases from the previous one. (There is no measurement before the first measurement.)"
   ]
  },
  {
   "cell_type": "code",
   "execution_count": null,
   "metadata": {},
   "outputs": [],
   "source": [
    "counter_variable = 0\n",
    "# first we define a variable which will capture everyttime the previous number\n",
    "# initially we define it as a boolean operator\n",
    "previous_number = False\n",
    "\n",
    "for number in file_lines:\n",
    "    if previous_number != False:\n",
    "        ## you need to convert the strings in integers!!\n",
    "        if int(number) > int(previous_number):\n",
    "            counter_variable +=1\n",
    "            previous_number = number\n",
    "    else:\n",
    "        previous_number = number\n",
    "\n",
    "print (counter_variable)"
   ]
  }
 ],
 "metadata": {
  "kernelspec": {
   "display_name": "Python 3",
   "language": "python",
   "name": "python3"
  },
  "language_info": {
   "codemirror_mode": {
    "name": "ipython",
    "version": 3
   },
   "file_extension": ".py",
   "mimetype": "text/x-python",
   "name": "python",
   "nbconvert_exporter": "python",
   "pygments_lexer": "ipython3",
   "version": "3.9.12"
  },
  "vscode": {
   "interpreter": {
    "hash": "a2e91717858118300f159f516e8add62a50cea7986ea1e6059fd0b766f06d37e"
   }
  }
 },
 "nbformat": 4,
 "nbformat_minor": 4
}
