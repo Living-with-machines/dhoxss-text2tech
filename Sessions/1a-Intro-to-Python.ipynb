{
 "cells": [
  {
   "cell_type": "markdown",
   "metadata": {},
   "source": [
    "# Intro to Python\n",
    "\n",
    "## Welcome!\n",
    "\n",
    "### What is Natural Language Processing?\n",
    "\n",
    "The development and application of computational techniques for the the analysis of human language.\n",
    "\n",
    "<img src=\"images/nlp.png\" width=\"800\" />\n",
    "\n",
    "\n",
    "### Is it different to Computational Linguistics?\n",
    "\n",
    "Computational linguistics is a social science with the goal of understanding language through computational models.\n",
    "\n",
    "### How can I use it in my Humanities Research?\n",
    "\n",
    "This is what we will learn during the week."
   ]
  },
  {
   "cell_type": "markdown",
   "metadata": {},
   "source": [
    "## NLP as Data Science\n",
    "\n",
    "![From: https://towardsdatascience.com/introduction-to-statistics-e9d72d818745](images/data_science.png)\n",
    "\n",
    "\n",
    "## NLP as Field of Research\n",
    "\n",
    "1. New research is mostly published in conference proceedings \n",
    "2. The most important conferences are: ACL, EMNLP, COLING, NAACL, EACL\n",
    "3. Pre-print are often shared on ArXiV (https://arxiv.org/list/cs.CL/recent)\n",
    "\n",
    "\n",
    "## What Should I know before we start?\n",
    "\n",
    "1. All quantitative models of language are wrong - but some are useful!\n",
    "2. The importance of the human-in-the-loop\n",
    "3. No-free-lunch theorem\n",
    "4. Always validate!\n"
   ]
  },
  {
   "cell_type": "markdown",
   "metadata": {},
   "source": [
    "## Why Python?\n",
    "\n",
    "![](images/python.jpg)\n",
    "\n",
    "1. It is quick to program in\n",
    "\n",
    "2. Very popular in NLP, and has lots of useful libraries thoroughly documented \n",
    "\n",
    "3. It interfaces well with faster languages \n",
    "\n",
    "4. Python is free, so you’ll never have a problem getting hold of it, wherever you go.\n",
    "\n",
    "## Why write programs for research?\n",
    "\n",
    "Not just labour saving, scripted research can be tested and reproduced!\n",
    "\n",
    "## Sensible Input - Reasonable Output\n",
    "Programs are a rigorous way of describing data analysis for other researchers, as well as for computers.\n",
    "\n",
    "Computational research suffers from people assuming each other’s data manipulation is correct. By sharing codes, which are much more easy for a non-author to understand than spreadsheets."
   ]
  },
  {
   "cell_type": "markdown",
   "metadata": {},
   "source": [
    "## Why Binder?\n",
    "\n",
    "![](images/mybinder.png)\n",
    "\n",
    "### Running Code is more complicated than Displaying Code!\n",
    "[GitHub](https://github.com/) is a great service for sharing code, but the contents are static.\n",
    "\n",
    "It would be great if you could you run a GitHub repository without installing complicated requirements, like directly in your browser.\n",
    "\n",
    "However, to run code, you need:\n",
    "\n",
    "1. Hardware on which to run the code\n",
    "2. Software, including:\n",
    "    - The code itself\n",
    "    - The programming language (e.g. Python, R, Julia, and so on)\n",
    "    - Relevant packages (e.g. pandas, matplotlib, tidyverse, ggplot)\n",
    "\n",
    "If you are already familiar with creating Python environments, installing libraries and Jupyter Notebooks you can clone [our GitHub repo](https://github.com/Living-with-machines/dhoxss-text2tech) and use the notebooks on your machine.\n",
    "\n",
    "### The solution!\n",
    "\n",
    "[Binder](https://mybinder.org/) is a service that provides your code and the hardware and software to execute it.\n",
    "\n",
    "You can create a **link** to a live, interactive version of your code (like this one)!"
   ]
  },
  {
   "cell_type": "markdown",
   "metadata": {},
   "source": [
    "## The Jupyter Notebook\n",
    "\n",
    "![](images/jupyter.png)\n",
    "\n",
    "The easiest way to get started using Python, and one of the best for research data work, is the Jupyter Notebook.\n",
    "\n",
    "In the notebook (like this), you can easily mix code with discussion and commentary, and mix code with the results of that code; including graphs and other data visualisations.\n",
    "\n",
    "Jupyter notebooks consist of discussion cells, referred to as “markdown cells”, and “code cells”, which contain Python. This document has been created using Jupyter notebook, and this very cell is a Markdown Cell. To learn how to write in Markdown, follow [this link](https://daringfireball.net/projects/markdown/)\n",
    "\n",
    "And now, let's start with our first Code cell!"
   ]
  }
 ],
 "metadata": {
  "kernelspec": {
   "display_name": "Python 3 (ipykernel)",
   "language": "python",
   "name": "python3"
  },
  "language_info": {
   "codemirror_mode": {
    "name": "ipython",
    "version": 3
   },
   "file_extension": ".py",
   "mimetype": "text/x-python",
   "name": "python",
   "nbconvert_exporter": "python",
   "pygments_lexer": "ipython3",
   "version": "3.9.16"
  },
  "vscode": {
   "interpreter": {
    "hash": "a2e91717858118300f159f516e8add62a50cea7986ea1e6059fd0b766f06d37e"
   }
  }
 },
 "nbformat": 4,
 "nbformat_minor": 4
}
