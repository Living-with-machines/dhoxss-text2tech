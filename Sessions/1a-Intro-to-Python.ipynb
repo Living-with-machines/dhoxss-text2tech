{
 "cells": [
  {
   "cell_type": "markdown",
   "metadata": {},
   "source": [
    "# Intro to Coding, Python and Text-as-Data\n",
    "\n",
    "## Welcome!"
   ]
  },
  {
   "cell_type": "markdown",
   "metadata": {},
   "source": [
    "\n",
    "![](https://media.giphy.com/media/UZStIMu2MTx3W/giphy.gif)\n",
    "\n",
    "Let's start with a very philosophical question: **why are we here?**\n",
    "\n",
    "Basically for two reasons:\n",
    "- to learn the basics of coding with Python\n",
    "- to harness these skills for interrogating digital texts (at scale)\n",
    "- ... all this within the context of humanities research"
   ]
  },
  {
   "cell_type": "markdown",
   "metadata": {},
   "source": [
    "We convert this very existential question to one we can address within the scope of the summer school\n",
    "\n",
    "- why code?\n",
    "- why Python?\n",
    "- why quantify?"
   ]
  },
  {
   "cell_type": "markdown",
   "metadata": {},
   "source": [
    "\n",
    "\n",
    "# Why Code?\n",
    "\n",
    "### In the era of Large Language Models and ChatGPT, why should I learn to code?\n",
    "- Easy to generate code, based on a 'prompt' (an instruction formulated in natural language).\n",
    "- When doing computational research, it is valuable to think computationally. \n",
    "- Need to strike a fine balance between researcher's agency and automation \n",
    "- Code remains the most unambiguous way to give computers instructions (it's probably there to stay, for a while)\n",
    "\n",
    "- ... However, we feel **reading** and **adapting** code will become more important.\n",
    "    - most of the exercises in this course are built on snippets you can just copy-paste (i.e. adapt)\n",
    "    - ... but this still requires some basic understanding of the syntax and principles\n",
    "- Automatic translation doesn't stop us from learning new languages, so why should ChatGPT prevent us from coding?\n",
    "\n",
    "\n",
    "## Why write programs for research?\n",
    "\n",
    "- Not just labour saving, scripted research can be tested and reproduced!\n",
    "\n",
    "## Sensible Input - Reasonable Output\n",
    "Programs are a rigorous way of describing data analysis for other researchers, as well as for computers.\n",
    "\n",
    "Computational research suffers from people assuming each other’s data manipulation is correct. By sharing codes, which are much more easy for a non-author to understand than spreadsheets."
   ]
  },
  {
   "cell_type": "markdown",
   "metadata": {},
   "source": [
    "# Why Python?\n",
    "\n",
    "![](images/python.jpg)\n",
    "\n",
    "- A \"high-level\" programming language, meaning it's EASY (relatively speaking haha!)\n",
    "- More reabable (indentation, brevity)\n",
    "- Very popular in NLP, data science and machine learning, and has lots of useful libraries (i.e. tools) thoroughly documented \n",
    "- Python is free, so you’ll never have a problem getting hold of it, wherever you go.\n",
    "\n"
   ]
  },
  {
   "cell_type": "markdown",
   "metadata": {},
   "source": [
    "# Why Quantify (Texts): NLP and Text-as-Data"
   ]
  },
  {
   "cell_type": "markdown",
   "metadata": {},
   "source": [
    "### Text-as-Data\n",
    "\n",
    "- Converting text to numbers to say something about society.\n",
    "- Texts becomes proxies for something else, e.g. measure racial prejudice or emotion.\n",
    "- Construct validity and validation\n",
    "\n",
    "“The use of texts and language to make inferences about human behavior” (Grimmer et al., 2022)\n",
    "\n",
    "### Natural Language Processing?\n",
    "\n",
    "The development and application of computational techniques for the the analysis of human language. Often used within the context of text-as-data.\n",
    "\n",
    "<img src=\"images/nlp.png\" width=\"800\" />\n",
    "\n",
    "Is it different to Computational Linguistics? Computational linguistics is a social science with the goal of understanding language through computational models.\n",
    "\n",
    "\n",
    "\n",
    "### How can I use computational techniques in my Humanities Research?\n",
    "\n",
    "Well, that is what we discuss this week. \n",
    "\n",
    "But it is good to know that the computational analysis of text in the humanities remains contested and often rightly so. **Always questions your method!**\n",
    "\n",
    "For a more recent provocation see [this article](https://www.journals.uchicago.edu/doi/abs/10.1086/702594?journalCode=ci): \n",
    "\n",
    "> Da, Nan Z. \"The computational case against computational literary studies.\" Critical inquiry 45, no. 3 (2019): 601-639.\n",
    "\n",
    "### Benefits and drawbacks of quantifiying language use\n",
    "\n",
    "**Benefits**\n",
    "- Go beyond anecdotal evidence and surface patterns, systemic observations\n",
    "- Get more precise estimates of typicality (\"how common\") and scope (\"Who\")\n",
    "    - Provide context for qualitative analysis\n",
    "    - Spot outliers\n",
    "- Serendipity\n",
    "\n",
    "**Drawbacks**\n",
    "- We tend to project a "
   ]
  },
  {
   "cell_type": "markdown",
   "metadata": {},
   "source": [
    "# Our working environment for the next days"
   ]
  },
  {
   "cell_type": "markdown",
   "metadata": {},
   "source": [
    "\n",
    "\n",
    "\n",
    "### Running Code is more complicated than Displaying Code!\n",
    "[GitHub](https://github.com/) is a great service for sharing code, but the contents are static.\n",
    "\n",
    "It would be great if you could you run a GitHub repository without installing complicated requirements, like directly in your browser.\n",
    "\n",
    "However, to run code, you need:\n",
    "\n",
    "1. Hardware on which to run the code\n",
    "2. Software, including:\n",
    "    - The code itself\n",
    "    - The programming language (e.g. Python, R, Julia, and so on)\n",
    "    - Relevant packages (e.g. pandas, matplotlib, tidyverse, ggplot)\n",
    "\n",
    "If you are already familiar with creating Python environments, installing libraries and Jupyter Notebooks you can clone [our GitHub repo](https://github.com/Living-with-machines/dhoxss-text2tech) and use the notebooks on your machine.\n",
    "## Binder\n",
    "\n",
    "![](images/mybinder.png)\n",
    "[Binder](https://mybinder.org/) is a service that provides your code and the hardware and software to execute it.\n",
    "\n",
    "You can create a **link** to a live, interactive version of your code (like this one)!"
   ]
  },
  {
   "cell_type": "markdown",
   "metadata": {},
   "source": [
    "## Local Installation"
   ]
  },
  {
   "cell_type": "markdown",
   "metadata": {},
   "source": [
    "## The Jupyter Notebook\n",
    "\n",
    "![](images/jupyter.png)\n",
    "\n",
    "The easiest way to get started using Python, and one of the best for research data work, is the Jupyter Notebook.\n",
    "\n",
    "In the notebook (like this), you can easily mix code with discussion and commentary, and mix code with the results of that code; including graphs and other data visualisations.\n",
    "\n",
    "Jupyter notebooks consist of discussion cells, referred to as “markdown cells”, and “code cells”, which contain Python. This document has been created using Jupyter notebook, and this very cell is a Markdown Cell. To learn how to write in Markdown, follow [this link](https://daringfireball.net/projects/markdown/)\n",
    "\n",
    "And now, let's start with our first Code cell!"
   ]
  },
  {
   "cell_type": "markdown",
   "metadata": {},
   "source": [
    "# Fin."
   ]
  }
 ],
 "metadata": {
  "kernelspec": {
   "display_name": "Python 3 (ipykernel)",
   "language": "python",
   "name": "python3"
  },
  "language_info": {
   "codemirror_mode": {
    "name": "ipython",
    "version": 3
   },
   "file_extension": ".py",
   "mimetype": "text/x-python",
   "name": "python",
   "nbconvert_exporter": "python",
   "pygments_lexer": "ipython3",
   "version": "3.10.9"
  },
  "vscode": {
   "interpreter": {
    "hash": "a2e91717858118300f159f516e8add62a50cea7986ea1e6059fd0b766f06d37e"
   }
  }
 },
 "nbformat": 4,
 "nbformat_minor": 4
}
