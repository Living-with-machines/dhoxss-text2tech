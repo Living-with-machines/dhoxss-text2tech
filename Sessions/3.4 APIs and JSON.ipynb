{
 "cells": [
  {
   "cell_type": "markdown",
   "id": "ea6e2f5e",
   "metadata": {},
   "source": [
    "# Application Programming Interfaces\n",
    "\n",
    "\n",
    "- API access means programmatic access to (online) content.\n",
    "- Another common source of information besides webscraping."
   ]
  },
  {
   "cell_type": "markdown",
   "id": "42ac8090",
   "metadata": {},
   "source": [
    "- Many institutions/data providers allow API access to their content. \n",
    "- Details are different, but they generally work in similar ways."
   ]
  },
  {
   "cell_type": "markdown",
   "id": "2d574d4a",
   "metadata": {},
   "source": [
    "We look at Chronicling America [API interface](https://chroniclingamerica.loc.gov/about/api/)"
   ]
  },
  {
   "cell_type": "markdown",
   "id": "936959d9",
   "metadata": {},
   "source": [
    "## Chronicling America API"
   ]
  },
  {
   "cell_type": "markdown",
   "id": "73c15866",
   "metadata": {},
   "source": [
    "We define a call to the API by formulating a URL.\n",
    "\n",
    "```python\n",
    "url=\"https://chroniclingamerica.loc.gov/search/pages/results/?andtext=suffrage&format=json\"\n",
    "```\n",
    "- First part defines protocol and server: `https://chroniclingamerica.loc.gov/`\n",
    "- `search`: type of request\n",
    "- `pages`: level of search, can also be '`title`'\n",
    "- `results/?` is followed by search parameters\n",
    "  - andtext: the search query\n",
    "  - format: 'html' (default), or 'json', or 'atom' (optional)\n",
    "  - page: for paging results (optional)"
   ]
  },
  {
   "cell_type": "code",
   "execution_count": null,
   "id": "9663f4da",
   "metadata": {},
   "outputs": [],
   "source": [
    "import requests"
   ]
  },
  {
   "cell_type": "code",
   "execution_count": null,
   "id": "eced713e",
   "metadata": {},
   "outputs": [],
   "source": [
    "api_query = \"https://chroniclingamerica.loc.gov/search/pages/results/?andtext=suffrage&format=json&page=11\""
   ]
  },
  {
   "cell_type": "code",
   "execution_count": null,
   "id": "695ab558",
   "metadata": {},
   "outputs": [],
   "source": [
    "content = requests.get(api_query).json()"
   ]
  },
  {
   "cell_type": "markdown",
   "id": "5f3b0ada",
   "metadata": {},
   "source": [
    "## Navigating JSON\n",
    "\n",
    "- JavaScript Object Notation"
   ]
  },
  {
   "cell_type": "code",
   "execution_count": null,
   "id": "0dca48cd",
   "metadata": {},
   "outputs": [],
   "source": [
    "type(content)"
   ]
  },
  {
   "cell_type": "code",
   "execution_count": null,
   "id": "e1c603b4",
   "metadata": {},
   "outputs": [],
   "source": [
    "content"
   ]
  },
  {
   "cell_type": "markdown",
   "id": "157861ea",
   "metadata": {},
   "source": [
    "```python\n",
    "{'totalItems': 666702,\n",
    " 'endIndex': 220,\n",
    " 'startIndex': 201,\n",
    " 'itemsPerPage': 20,\n",
    " ...}\n",
    "```"
   ]
  },
  {
   "cell_type": "code",
   "execution_count": null,
   "id": "2bce19dc",
   "metadata": {},
   "outputs": [],
   "source": [
    "content.keys()"
   ]
  },
  {
   "cell_type": "code",
   "execution_count": null,
   "id": "b8f62720",
   "metadata": {},
   "outputs": [],
   "source": [
    "content['items'][0]"
   ]
  },
  {
   "cell_type": "markdown",
   "id": "9c32c991",
   "metadata": {},
   "source": [
    "# Fin."
   ]
  },
  {
   "cell_type": "code",
   "execution_count": null,
   "id": "55e8d2fa",
   "metadata": {},
   "outputs": [],
   "source": []
  }
 ],
 "metadata": {
  "kernelspec": {
   "display_name": "torch_geo",
   "language": "python",
   "name": "torch_geo"
  },
  "language_info": {
   "codemirror_mode": {
    "name": "ipython",
    "version": 3
   },
   "file_extension": ".py",
   "mimetype": "text/x-python",
   "name": "python",
   "nbconvert_exporter": "python",
   "pygments_lexer": "ipython3",
   "version": "3.9.12"
  }
 },
 "nbformat": 4,
 "nbformat_minor": 5
}
