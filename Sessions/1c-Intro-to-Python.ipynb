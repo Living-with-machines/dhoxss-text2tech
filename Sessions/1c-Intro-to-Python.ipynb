{
 "cells": [
  {
   "attachments": {},
   "cell_type": "markdown",
   "metadata": {},
   "source": [
    "## Writing your own functions\n",
    "\n",
    "Defining functions which put together code to make a more complex task seem simple from the outside is the most important thing in programming. \n",
    "\n",
    "Imagine you want to comput the mean, given a list of numbers **AND** there's no library that could do this for you (if there's a library it's always better to rely on it, as other people would have used it in the past and caught specific bugs etc.)\n",
    "\n",
    "✏️ **Exercise:** \n",
    "\n",
    "Given a list of numbers, for instance [1,4,5,6,7] - how would you compute the mean without a computer?"
   ]
  },
  {
   "attachments": {},
   "cell_type": "markdown",
   "metadata": {},
   "source": [
    "A good starting point for defining a function is to think how to convert the process of doing an operation \"manually\", in a series of defined steps.Let's see an example below"
   ]
  },
  {
   "cell_type": "code",
   "execution_count": null,
   "metadata": {},
   "outputs": [],
   "source": [
    "def compute_mean(numbers):\n",
    "    mean = sum(numbers)/len(numbers)\n",
    "    return mean"
   ]
  },
  {
   "attachments": {},
   "cell_type": "markdown",
   "metadata": {},
   "source": [
    "This is the basic structure of a function, you have a function name `compute_mean`, and input `numbers`, a series of operations and an output (`mean`). However this function seems also **a bit difficult to read**, so let's go through the different components together.\n",
    "\n",
    "Sum and len are for instance built-in Python function. It means that these are always available, you don't need to import them. You can see the documentation of sum [here](https://docs.python.org/3/library/functions.html#sum)"
   ]
  },
  {
   "cell_type": "code",
   "execution_count": null,
   "metadata": {},
   "outputs": [],
   "source": [
    "numbers = [1,4,5,6,7]\n",
    "numbers_sum = sum(numbers)\n",
    "print (numbers_sum)"
   ]
  },
  {
   "cell_type": "code",
   "execution_count": null,
   "metadata": {},
   "outputs": [],
   "source": [
    "number_of_elements = len(numbers)\n",
    "print (number_of_elements)"
   ]
  },
  {
   "cell_type": "code",
   "execution_count": null,
   "metadata": {},
   "outputs": [],
   "source": [
    "mean = numbers_sum / number_of_elements\n",
    "print (mean)"
   ]
  },
  {
   "attachments": {},
   "cell_type": "markdown",
   "metadata": {},
   "source": [
    "✏️ **Exercise:** \n",
    "\n",
    "What is the mean of [10,124,65,86,7,98,6,54,112,13,87] ?"
   ]
  },
  {
   "cell_type": "code",
   "execution_count": null,
   "metadata": {},
   "outputs": [],
   "source": []
  },
  {
   "attachments": {},
   "cell_type": "markdown",
   "metadata": {},
   "source": [
    "A function would prevent you for reusing over and over the same commands in your code, because you will define a specific operation (for instance `compute_mean`) and then you will be able to use it over and over, whenver needed. This will also prevent you for adding bugs to your code by making mistakes copy-pasting your code.\n",
    "\n",
    "However, there are two problems with functions:\n",
    "1. they need to be well documented, otherwise it will be difficult to read them (even by you in a few weeks!)\n",
    "2. they can have bugs too! So you need to be careful"
   ]
  },
  {
   "attachments": {},
   "cell_type": "markdown",
   "metadata": {},
   "source": [
    "## Documenting functions\n",
    "\n",
    "A Python docstring is a documentation string. When you call the built-in help() function on a Python function for instance, you see its documentation. This documentation is specified by the docstring at the beginning of the definition."
   ]
  },
  {
   "cell_type": "code",
   "execution_count": null,
   "metadata": {},
   "outputs": [],
   "source": [
    "### this description is the way a function is documented, so others can quickly understand how to use it\n",
    "help(sum)"
   ]
  },
  {
   "cell_type": "code",
   "execution_count": null,
   "metadata": {},
   "outputs": [],
   "source": [
    "def compute_mean(numbers):\n",
    "    \"\"\" compute the mean, given a list of numbers \"\"\"\n",
    "    mean = sum(numbers)/len(numbers)\n",
    "    return mean"
   ]
  },
  {
   "attachments": {},
   "cell_type": "markdown",
   "metadata": {},
   "source": [
    "Ok this looks better, but still the input / output and operation are hard to read. A way of documenting function is following the [Google style for docstring](https://google.github.io/styleguide/pyguide.html). Here's an example"
   ]
  },
  {
   "cell_type": "code",
   "execution_count": null,
   "metadata": {},
   "outputs": [],
   "source": [
    "def compute_mean(numbers):\n",
    "    \"\"\" compute the mean, given a list of numbers \n",
    "    \n",
    "    Args:\n",
    "        numbers: List of integers\n",
    "    \n",
    "    Returns:\n",
    "        The mean of the values contained in the list\n",
    "    \"\"\"\n",
    "    mean = sum(numbers)/len(numbers)\n",
    "    return mean\n",
    "\n",
    "help(compute_mean)"
   ]
  },
  {
   "attachments": {},
   "cell_type": "markdown",
   "metadata": {},
   "source": [
    "Additionally, you can write the types of arguments and return values"
   ]
  },
  {
   "cell_type": "code",
   "execution_count": null,
   "metadata": {},
   "outputs": [],
   "source": [
    "def compute_mean(numbers:list)-> float:\n",
    "    \"\"\" compute the mean, given a list of numbers \n",
    "    \n",
    "    Args:\n",
    "        numbers: List of integers\n",
    "    \n",
    "    Returns:\n",
    "        The mean of the values contained in the list\n",
    "    \"\"\"\n",
    "    mean = sum(numbers)/len(numbers)\n",
    "    return mean\n",
    "\n",
    "help(compute_mean)"
   ]
  },
  {
   "attachments": {},
   "cell_type": "markdown",
   "metadata": {},
   "source": [
    "Finally, you can make the variable names more clear or even breaking down each step to make it more readable"
   ]
  },
  {
   "cell_type": "code",
   "execution_count": null,
   "metadata": {},
   "outputs": [],
   "source": [
    "def compute_mean(list_of_numbers:list)-> float:\n",
    "    \"\"\" compute the mean, given a list of numbers \n",
    "    \n",
    "    Args:\n",
    "        numbers: List of numbers (either integers or floats)\n",
    "    \n",
    "    Returns:\n",
    "        The mean of the values contained in the list\n",
    "    \"\"\"\n",
    "    sum_list = sum(list_of_numbers)\n",
    "    length_list = len(list_of_numbers)\n",
    "    mean = sum_list / length_list\n",
    "    return mean"
   ]
  },
  {
   "cell_type": "code",
   "execution_count": null,
   "metadata": {},
   "outputs": [],
   "source": [
    "# to use the function\n",
    "\n",
    "list_a = [1,4,5,6,7]\n",
    "list_b = [10,124,65,86,7,98,6,54,112,13,87]\n",
    "\n",
    "mean_a = compute_mean(list_a)\n",
    "mean_b = compute_mean(list_b)\n",
    "\n",
    "print (mean_a)\n",
    "print (mean_b)"
   ]
  },
  {
   "attachments": {},
   "cell_type": "markdown",
   "metadata": {},
   "source": [
    "## Testing Functions\n",
    "\n",
    "Functions are really useful tools when writing code. They allow your scripts to be more concise and modular. However, functions can easily add bugs to your code. Let's see the following example"
   ]
  },
  {
   "cell_type": "code",
   "execution_count": null,
   "metadata": {},
   "outputs": [],
   "source": [
    "def compute_mean(list_of_numbers:list)-> float:\n",
    "    \"\"\" compute the mean, given a list of numbers \n",
    "    \n",
    "    Args:\n",
    "        numbers: List of integers\n",
    "    \n",
    "    Returns:\n",
    "        The mean of the values contained in the list\n",
    "    \"\"\"\n",
    "    sum_list = sum(list_of_numbers)\n",
    "    length_list = len(list_of_numbers)\n",
    "    mean = sum_list / length_list\n",
    "    return length_list\n",
    "\n",
    "mean_a = compute_mean(list_a)\n",
    "print (mean_a)"
   ]
  },
  {
   "attachments": {},
   "cell_type": "markdown",
   "metadata": {},
   "source": [
    "In this example the function is well documented and as expected returns a number, however by mistake we are returning the length of the list instead of the computed mean. Bugs like this one are very easy to make and hard to spot when you have a fairly complex pipeline.\n",
    "\n",
    "To make sure the functions work correctly often people test them quickly after having implemented or spot errors by looking at the final output of the code. However both these approaches add additional issues.\n",
    "\n",
    "So, what are best practices in testing your code?\n",
    "\n",
    "A good starting point is to define some specific cases where you test your function and you know what output it should give, for instance:\n"
   ]
  },
  {
   "cell_type": "code",
   "execution_count": null,
   "metadata": {},
   "outputs": [],
   "source": [
    "# In Python, the assert statement is used to continue the execute if the given condition evaluates to True. \n",
    "# If the assert condition evaluates to False, then it raises the AssertionError exception with the specified error message.\n",
    "\n",
    "assert compute_mean([1,4,5,6,7]) == 4.6,'The mean is not correct'"
   ]
  },
  {
   "attachments": {},
   "cell_type": "markdown",
   "metadata": {},
   "source": [
    "Everytime you write a function, define a series of assert statements that should produce a specfic outcome.\n",
    "\n",
    "Other typical things that are important to test is that the input you are expecting is correct. For instance in our function we are expecting a list of numbers (either integers or floats)\n",
    "\n",
    "What happens if the list contains a string? or the input list is empty? or the input is not a list?\n",
    "Let's see!"
   ]
  },
  {
   "cell_type": "code",
   "execution_count": null,
   "metadata": {},
   "outputs": [],
   "source": [
    "compute_mean([1,4,\"0.555\",6,7])"
   ]
  },
  {
   "cell_type": "code",
   "execution_count": null,
   "metadata": {},
   "outputs": [],
   "source": [
    "compute_mean([])"
   ]
  },
  {
   "cell_type": "code",
   "execution_count": null,
   "metadata": {},
   "outputs": [],
   "source": [
    "compute_mean(5)"
   ]
  },
  {
   "attachments": {},
   "cell_type": "markdown",
   "metadata": {},
   "source": [
    "As you can see the code crashes for different reasons. Instead of this, we should assert that the input is what we are expecting or returning a message"
   ]
  },
  {
   "cell_type": "code",
   "execution_count": null,
   "metadata": {},
   "outputs": [],
   "source": [
    "def compute_mean(list_of_numbers:list)-> float:\n",
    "    \"\"\" compute the mean, given a list of numbers \n",
    "    \n",
    "    Args:\n",
    "        numbers: List of numbers (either integers or floats)\n",
    "    \n",
    "    Returns:\n",
    "        The mean of the values contained in the list\n",
    "    \"\"\"\n",
    "\n",
    "    assert type(list_of_numbers) is list, 'The input is not a list'\n",
    "    assert len(list_of_numbers) >0, 'The input list is empty'\n",
    "\n",
    "    sum_list = sum(list_of_numbers)\n",
    "    length_list = len(list_of_numbers)\n",
    "    mean = sum_list / length_list\n",
    "    return mean"
   ]
  },
  {
   "attachments": {},
   "cell_type": "markdown",
   "metadata": {},
   "source": [
    "✏️ **Exercise:** \n",
    "\n",
    "Add an assert to test that all elements in the list are integers or float "
   ]
  },
  {
   "attachments": {},
   "cell_type": "markdown",
   "metadata": {},
   "source": [
    "✏️ **Exercise:** \n",
    "\n",
    "Write a function that, given a list of names (containing duplicates) returns a list of names without duplicates. Make sure to include documentation and define `assert` to check the input and the correctness of the output\n",
    "\n",
    "Example of input:"
   ]
  },
  {
   "cell_type": "code",
   "execution_count": null,
   "metadata": {},
   "outputs": [],
   "source": [
    "names = [\"Mark\",\"Paula\",\"Paul\",\"Fede\",\"Mariona\",\"Kaspar\",\"Paul\",\"Thomas\",\"Thomas\",\"Mark\",\"Thomas\"]"
   ]
  }
 ],
 "metadata": {
  "kernelspec": {
   "display_name": "Python 3 (ipykernel)",
   "language": "python",
   "name": "python3"
  },
  "language_info": {
   "codemirror_mode": {
    "name": "ipython",
    "version": 3
   },
   "file_extension": ".py",
   "mimetype": "text/x-python",
   "name": "python",
   "nbconvert_exporter": "python",
   "pygments_lexer": "ipython3",
   "version": "3.9.16"
  },
  "vscode": {
   "interpreter": {
    "hash": "a2e91717858118300f159f516e8add62a50cea7986ea1e6059fd0b766f06d37e"
   }
  }
 },
 "nbformat": 4,
 "nbformat_minor": 2
}
