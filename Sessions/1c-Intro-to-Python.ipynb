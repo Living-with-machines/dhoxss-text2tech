{
 "cells": [
  {
   "cell_type": "markdown",
   "metadata": {},
   "source": [
    "# Functions and Function Calls"
   ]
  },
  {
   "cell_type": "markdown",
   "metadata": {},
   "source": [
    "In the previous notebooks, we referred to a Python concept called **functions**.\n",
    "\n",
    "Python provides many 'in-built' functions (free stuff to play with). Usually, functions contain **round parenthesis** at the end of a statement.\n",
    "\n",
    "For example:"
   ]
  },
  {
   "cell_type": "code",
   "execution_count": null,
   "metadata": {},
   "outputs": [],
   "source": [
    "type(\"42\")"
   ]
  },
  {
   "cell_type": "markdown",
   "metadata": {},
   "source": [
    "In Python lingo, this statement amounts to \"calling a function\". \n",
    "\n",
    "Many things happen in this code snippet.\n",
    "- We call a function with the **name** `type`.\n",
    "- We pass a value or variable as an **argument** to this function (a string \"42\")\n",
    "- The functions **returns** the type of the argument (`str`)."
   ]
  },
  {
   "cell_type": "markdown",
   "metadata": {},
   "source": [
    "Functions usually perform an **action** on a given input and return the result of this action (not always, but let's not always complicate matters, please)."
   ]
  },
  {
   "cell_type": "markdown",
   "metadata": {},
   "source": [
    "Python provides many built-in functions for strings. \n",
    "\n",
    "**Exercise**: Can you describe the `len` function?"
   ]
  },
  {
   "cell_type": "code",
   "execution_count": null,
   "metadata": {},
   "outputs": [],
   "source": [
    "len(\"Hello, world!\")"
   ]
  },
  {
   "cell_type": "code",
   "execution_count": null,
   "metadata": {},
   "outputs": [],
   "source": [
    "len(\"pneumonoultramicroscopicsilicovolcanoconiosis\")"
   ]
  },
  {
   "cell_type": "markdown",
   "metadata": {},
   "source": [
    "We will discuss string functions (often referred to as string methods in one the next notebooks).\n",
    "\n",
    "We can also call a function on a list of numbers."
   ]
  },
  {
   "cell_type": "code",
   "execution_count": null,
   "metadata": {},
   "outputs": [],
   "source": [
    "max([1,99,2,0])"
   ]
  },
  {
   "cell_type": "markdown",
   "metadata": {},
   "source": [
    "**Exercise**: Can you describe the `min` function? What will it return?"
   ]
  },
  {
   "cell_type": "code",
   "execution_count": null,
   "metadata": {},
   "outputs": [],
   "source": [
    "min([-1, .0, 4.5])"
   ]
  },
  {
   "cell_type": "markdown",
   "metadata": {},
   "source": [
    "### Composition\n",
    "\n",
    "An important feature of functions is called \"composition\", i.e. one expression can appear as part of another. A function call can best be nested (as an argument) in another function call.\n",
    "\n",
    "**Exercise**: can you tell me what happens here?"
   ]
  },
  {
   "cell_type": "code",
   "execution_count": null,
   "metadata": {},
   "outputs": [],
   "source": [
    "word = \"pneumonoultramicroscopicsilicovolcanoconiosis\"\n",
    "type(len(word))"
   ]
  },
  {
   "cell_type": "markdown",
   "metadata": {},
   "source": [
    "## Writing functions\n",
    "\n",
    "These in-built functions are part of Python's standard toolkit. We will discuss some of these tools in more detail later.\n",
    "\n",
    "Existing functions will bring you far, but often you will have to develop a bespoke toolkit by writing functions yourself. \n",
    "\n",
    "This is a critical building block of programming and will also figure prominently when you design your research process.\n",
    "\n"
   ]
  },
  {
   "cell_type": "markdown",
   "metadata": {},
   "source": [
    "**Why** write your own functions? To answer this question, let's have a look at a toy-example. \n",
    "\n",
    "Imagine you want to write a programme that checks wether your text is longer than 5 characters."
   ]
  },
  {
   "cell_type": "code",
   "execution_count": null,
   "metadata": {},
   "outputs": [],
   "source": [
    "text = 'Supercalifragilisticexpialidocious'\n",
    "if len(text) > 5:\n",
    "    print('Yes')\n",
    "else:\n",
    "    print('No')"
   ]
  },
  {
   "cell_type": "markdown",
   "metadata": {},
   "source": [
    "Imagine you want to repeat this operation, for two words. A simple solution would be to copy-paste the code."
   ]
  },
  {
   "cell_type": "code",
   "execution_count": null,
   "metadata": {},
   "outputs": [],
   "source": [
    "text_1 = 'Supercalifragilisticexpialidocious'\n",
    "if len(text_1) > 5:\n",
    "    print(True)\n",
    "else:\n",
    "    print(False)\n",
    "    \n",
    "# assume you are doing more stuff here\n",
    "    \n",
    "text_2 = 'Yo!'\n",
    "if len(text_2) > 5:\n",
    "    print(True)\n",
    "else:\n",
    "    print(False)"
   ]
  },
  {
   "cell_type": "markdown",
   "metadata": {},
   "source": [
    "But what if we have to process thousands of words **and** and need reuse this procedure elsewhere? A better solution is to **package** this piece of code as a function.\n",
    "\n",
    "In the code cell below, we define a new function named `check_length`. It takes an argument and checks whether this a text consists of more than five characters. If so, the function returns `True`, otherwise `False`."
   ]
  },
  {
   "cell_type": "code",
   "execution_count": null,
   "metadata": {},
   "outputs": [],
   "source": [
    "def check_length(word):\n",
    "    if len(word) > 5:\n",
    "        return True\n",
    "    else:\n",
    "        return False"
   ]
  },
  {
   "cell_type": "markdown",
   "metadata": {},
   "source": [
    "Now we can repeat these checks with fewer lines of code."
   ]
  },
  {
   "cell_type": "code",
   "execution_count": null,
   "metadata": {},
   "outputs": [],
   "source": [
    "print(check_length('Supercalifragilisticexpialidocious'))\n",
    "# you are still doing some stuff here\n",
    "print(check_length('Yo'))"
   ]
  },
  {
   "cell_type": "markdown",
   "metadata": {},
   "source": [
    "## When to write functions?"
   ]
  },
  {
   "cell_type": "markdown",
   "metadata": {},
   "source": [
    "With functions, you can **group a sequence of statements** (and execute them with one function call).\n",
    "\n",
    "A common example in text mining is called text **preprocessing**, where we transform an input text into a format that makes it more amenable to computational analysis. We discuss this in more detail later, but a simple preprocessing step could be:\n",
    "\n",
    "- Check if a text has more than 5 characters\n",
    "- if so, return the text in the uppercased form (see the `.upper()` example in 1b)\n",
    "- Otherwise, return an empty string"
   ]
  },
  {
   "cell_type": "code",
   "execution_count": null,
   "metadata": {},
   "outputs": [],
   "source": [
    "def preprocess_text(text):\n",
    "    if len(text) > 5:\n",
    "        lowercased = text.upper()\n",
    "        return lowercased\n",
    "    else:\n",
    "        return ''"
   ]
  },
  {
   "cell_type": "code",
   "execution_count": null,
   "metadata": {},
   "outputs": [],
   "source": [
    "text = 'SupercalifragilisticexpialidociouS'\n",
    "preprocess_text(text)"
   ]
  },
  {
   "cell_type": "code",
   "execution_count": null,
   "metadata": {},
   "outputs": [],
   "source": [
    "text = 'Yo!'\n",
    "preprocess_text(text)"
   ]
  },
  {
   "cell_type": "markdown",
   "metadata": {},
   "source": [
    "### Repeating, repeat\n",
    "\n",
    "\n",
    "When you write code for a research project, you'll notice that some operations (sequence of statements) form a unit that you want to **repeat** and reuse. \n",
    "\n",
    "Wrapping them in a function will make your code more **concise** and less **error-prone** (again, this approach is much better than copy-pasting). \n",
    "\n",
    "For example, by creating a function for preprocessing text, we are sure that each incoming document will be transformed in **identically**.\n"
   ]
  },
  {
   "cell_type": "markdown",
   "metadata": {},
   "source": [
    "## How to write functions?"
   ]
  },
  {
   "cell_type": "markdown",
   "metadata": {},
   "source": [
    "Function **definitions** follow a general syntax:\n",
    "\n",
    "```python\n",
    "def name(parameters):\n",
    "    statements\n",
    "    return output\n",
    "```\n",
    "\n",
    "- The **name** is used to call the function. (You can use any name except those that belong the small category of Python keywords)\n",
    "- **Parameters** comprise the information you want to pass to a function \n",
    "    - i.e. What's the input?\n",
    "- **Statements**: the sequence of statements that perform an operation\n",
    "    - i.e. What will you do with the input?\n",
    "- Function often end with a `return` statement\n",
    "    - i.e. What to return given an input?"
   ]
  },
  {
   "cell_type": "markdown",
   "metadata": {},
   "source": [
    "### Parameters and arguments\n",
    "\n",
    "From [W3](https://www.w3schools.com/python/gloss_python_function_arguments.asp#:~:text=The%20terms%20parameter%20and%20argument,function%20when%20it%20is%20called.)\n",
    "> \"A parameter is the variable listed inside the parentheses in the function definition. An argument is the value that are sent to the function when it is called.\"\n",
    "\n",
    "\n",
    "I tend to confuse these and use them interchangeably!\n",
    "\n",
    "```def type(value):```\n",
    "- create a function with one parameter called value\n",
    "    \n",
    "```type(\"42\")```\n",
    "- call the `type` function and pass the value \"42\" as the argument"
   ]
  },
  {
   "cell_type": "markdown",
   "metadata": {},
   "source": [
    "## Computing the mean in Python, an Example\n",
    "\n",
    "Let's try to build a function that computes the average of length of texts in corpus.\n",
    "\n",
    "Imagine we collected the number of words in five documents\n",
    "```python\n",
    "doc_length = [10,44,52,16,97] \n",
    "```"
   ]
  },
  {
   "cell_type": "markdown",
   "metadata": {},
   "source": [
    "\n",
    "✏️ **Exercise:** \n",
    "\n",
    "Given this list of numbers - how would you compute the mean without a computer?"
   ]
  },
  {
   "cell_type": "code",
   "execution_count": null,
   "metadata": {},
   "outputs": [],
   "source": [
    "# think out loud here"
   ]
  },
  {
   "cell_type": "markdown",
   "metadata": {},
   "source": [
    "To compute the mean we need sum all values and divide this number by number of elements. \n",
    "We can easily performs this sequence of statements using the built-in `sum` and `len` Python functions. "
   ]
  },
  {
   "cell_type": "code",
   "execution_count": null,
   "metadata": {},
   "outputs": [],
   "source": [
    "numbers = [1,4,5,6,7]\n",
    "numbers_sum = sum(numbers)\n",
    "print (numbers_sum)"
   ]
  },
  {
   "cell_type": "code",
   "execution_count": null,
   "metadata": {},
   "outputs": [],
   "source": [
    "number_of_elements = len(numbers)\n",
    "print (number_of_elements)"
   ]
  },
  {
   "cell_type": "code",
   "execution_count": null,
   "metadata": {},
   "outputs": [],
   "source": [
    "mean = numbers_sum / number_of_elements\n",
    "print (mean)"
   ]
  },
  {
   "cell_type": "markdown",
   "metadata": {},
   "source": [
    "✏️ **Exercise:** \n",
    "\n",
    "In Python code you can compute the mean by combining the already existing `sum` and `len` functions.\n",
    "```python\n",
    "sum(numbers)/len(numbers)\n",
    "```\n",
    "\n",
    "Can you write a function\n",
    "- with the name `compute_mean`\n",
    "- it takes one argument called `list_of_numbers`\n",
    "- it computes the mean ans saves the in a variable `mean`\n",
    "- returns the results of this operation\n",
    "- try it on different examples, e.g. `[1,3,4]` or `[3,0,9,12]`"
   ]
  },
  {
   "cell_type": "markdown",
   "metadata": {},
   "source": [
    "A good starting point for defining a function is to think how to convert the process of doing an operation \"manually\", in a series of defined steps.Let's see an example below"
   ]
  },
  {
   "cell_type": "code",
   "execution_count": null,
   "metadata": {},
   "outputs": [],
   "source": [
    "# write answer here"
   ]
  },
  {
   "cell_type": "markdown",
   "metadata": {},
   "source": [
    "## Functions with Multiple Parameters"
   ]
  },
  {
   "cell_type": "markdown",
   "metadata": {},
   "source": [
    "Returning the example of the `check_length` function. We used five as the cut-off, but what if we want to set the bar a bit higher, to ten for example? Of course, you could write two separate functions as shown below:"
   ]
  },
  {
   "cell_type": "code",
   "execution_count": null,
   "metadata": {},
   "outputs": [],
   "source": [
    "def check_length_min_five(word):\n",
    "    if len(word) > 5:\n",
    "        return True\n",
    "    else:\n",
    "        return False\n",
    "    \n",
    "def check_length_min_ten(word):\n",
    "    if len(word) > 10:\n",
    "        return True\n",
    "    else:\n",
    "        return False"
   ]
  },
  {
   "cell_type": "markdown",
   "metadata": {},
   "source": [
    "But this is not very elegant, as we are needlessly duplicating code. A better solution is to create a more generic function with two parameters: one for the input text (`word`) and one that determines the threshold value (`min_length`)."
   ]
  },
  {
   "cell_type": "code",
   "execution_count": null,
   "metadata": {},
   "outputs": [],
   "source": [
    "def check_length(word, min_length):\n",
    "    if len(word) > min_length:\n",
    "        return True\n",
    "    else:\n",
    "        return False"
   ]
  },
  {
   "cell_type": "code",
   "execution_count": null,
   "metadata": {},
   "outputs": [],
   "source": [
    "check_length('Hello', 2)"
   ]
  },
  {
   "cell_type": "code",
   "execution_count": null,
   "metadata": {},
   "outputs": [],
   "source": [
    "check_length('Hello', 10)"
   ]
  },
  {
   "cell_type": "markdown",
   "metadata": {},
   "source": [
    "✏️ **Exercise:** \n",
    "    \n",
    "Write a function (feel free to chose a name to your liking) \n",
    "- that takes two arguments `x` and `y`\n",
    "- if `x >= y` it returns `x - y`\n",
    "- else it return `x + y`"
   ]
  },
  {
   "cell_type": "markdown",
   "metadata": {},
   "source": [
    "## Summary\n",
    "\n",
    "Remember: A function prevents you from repeating code (in the sense of copy-pasting).\n",
    "\n",
    "Once you have defined a specific operation (for instance `compute_mean`) you'll be able to use it over and over, whenever needed. \n",
    "\n",
    "Composing code based on clear and meaningful units (i.e. functions) will make debugging easier as well. \n",
    "\n",
    "However, there are two problems with functions:\n",
    "1. they need to be well documented, otherwise it will be difficult to read them (even by you in a few weeks!)\n",
    "2. they can have bugs too! So you need to be careful and check if they are correct at a semantic level."
   ]
  },
  {
   "cell_type": "markdown",
   "metadata": {},
   "source": [
    "## Advanced: Documenting functions\n",
    "\n",
    "A Python docstring is a documentation string. When you call the built-in help() function on a Python function for instance, you see its documentation. This documentation is specified by the docstring at the beginning of the definition."
   ]
  },
  {
   "cell_type": "code",
   "execution_count": null,
   "metadata": {},
   "outputs": [],
   "source": [
    "### this description is the way a function is documented, so others can quickly understand how to use it\n",
    "help(sum)"
   ]
  },
  {
   "cell_type": "code",
   "execution_count": null,
   "metadata": {},
   "outputs": [],
   "source": [
    "def compute_mean(numbers):\n",
    "    \"\"\" compute the mean, given a list of numbers \"\"\"\n",
    "    mean = sum(numbers)/len(numbers)\n",
    "    return mean"
   ]
  },
  {
   "cell_type": "markdown",
   "metadata": {},
   "source": [
    "Ok this looks better, but still the input / output and operation are hard to read. A way of documenting function is following the [Google style for docstring](https://google.github.io/styleguide/pyguide.html). Here's an example"
   ]
  },
  {
   "cell_type": "code",
   "execution_count": null,
   "metadata": {},
   "outputs": [],
   "source": [
    "def compute_mean(numbers):\n",
    "    \"\"\" compute the mean, given a list of numbers \n",
    "    \n",
    "    Args:\n",
    "        numbers: List of integers\n",
    "    \n",
    "    Returns:\n",
    "        The mean of the values contained in the list\n",
    "    \"\"\"\n",
    "    mean = sum(numbers)/len(numbers)\n",
    "    return mean\n",
    "\n",
    "help(compute_mean)"
   ]
  },
  {
   "cell_type": "markdown",
   "metadata": {},
   "source": [
    "Additionally, you can write the types of arguments and return values"
   ]
  },
  {
   "cell_type": "code",
   "execution_count": null,
   "metadata": {},
   "outputs": [],
   "source": [
    "def compute_mean(numbers:list)-> float:\n",
    "    \"\"\" compute the mean, given a list of numbers \n",
    "    \n",
    "    Args:\n",
    "        numbers: List of integers\n",
    "    \n",
    "    Returns:\n",
    "        The mean of the values contained in the list\n",
    "    \"\"\"\n",
    "    mean = sum(numbers)/len(numbers)\n",
    "    return mean\n",
    "\n",
    "help(compute_mean)"
   ]
  },
  {
   "cell_type": "markdown",
   "metadata": {},
   "source": [
    "Finally, you can make the variable names more clear or even breaking down each step to make it more readable"
   ]
  },
  {
   "cell_type": "code",
   "execution_count": null,
   "metadata": {},
   "outputs": [],
   "source": [
    "def compute_mean(list_of_numbers:list)-> float:\n",
    "    \"\"\" compute the mean, given a list of numbers \n",
    "    \n",
    "    Args:\n",
    "        numbers: List of numbers (either integers or floats)\n",
    "    \n",
    "    Returns:\n",
    "        The mean of the values contained in the list\n",
    "    \"\"\"\n",
    "    sum_list = sum(list_of_numbers)\n",
    "    length_list = len(list_of_numbers)\n",
    "    mean = sum_list / length_list\n",
    "    return mean"
   ]
  },
  {
   "cell_type": "code",
   "execution_count": null,
   "metadata": {},
   "outputs": [],
   "source": [
    "# to use the function\n",
    "\n",
    "list_a = [1,4,5,6,7]\n",
    "list_b = [10,124,65,86,7,98,6,54,112,13,87]\n",
    "\n",
    "mean_a = compute_mean(list_a)\n",
    "mean_b = compute_mean(list_b)\n",
    "\n",
    "print (mean_a)\n",
    "print (mean_b)"
   ]
  },
  {
   "cell_type": "markdown",
   "metadata": {},
   "source": [
    "## Advanced: Testing Functions\n",
    "\n",
    "Functions are really useful tools when writing code. They allow your scripts to be more concise and modular. However, functions can easily add bugs to your code. Let's see the following example"
   ]
  },
  {
   "cell_type": "code",
   "execution_count": null,
   "metadata": {},
   "outputs": [],
   "source": [
    "def compute_mean(list_of_numbers:list)-> float:\n",
    "    \"\"\" compute the mean, given a list of numbers \n",
    "    \n",
    "    Args:\n",
    "        numbers: List of integers\n",
    "    \n",
    "    Returns:\n",
    "        The mean of the values contained in the list\n",
    "    \"\"\"\n",
    "    sum_list = sum(list_of_numbers)\n",
    "    length_list = len(list_of_numbers)\n",
    "    mean = sum_list / length_list\n",
    "    return length_list\n",
    "\n",
    "mean_a = compute_mean(list_a)\n",
    "print(mean_a)"
   ]
  },
  {
   "cell_type": "markdown",
   "metadata": {},
   "source": [
    "In this example the function is well documented and as expected returns a number, however by mistake we are returning the length of the list instead of the computed mean. Bugs like this one are very easy to make and hard to spot when you have a fairly complex pipeline.\n",
    "\n",
    "To make sure the functions work correctly often people test them quickly after having implemented or spot errors by looking at the final output of the code. However both these approaches add additional issues.\n",
    "\n",
    "So, what are best practices in testing your code?\n",
    "\n",
    "A good starting point is to define some specific cases where you test your function and you know what output it should give, for instance:\n"
   ]
  },
  {
   "cell_type": "code",
   "execution_count": null,
   "metadata": {},
   "outputs": [],
   "source": [
    "# In Python, the assert statement is used to continue the execute if the given condition evaluates to True. \n",
    "# If the assert condition evaluates to False, then it raises the AssertionError exception with the specified error message.\n",
    "\n",
    "assert compute_mean([1,4,5,6,7]) == 4.6,'The mean is not correct'"
   ]
  },
  {
   "cell_type": "markdown",
   "metadata": {},
   "source": [
    "Everytime you write a function, define a series of assert statements that should produce a specfic outcome.\n",
    "\n",
    "Other typical things that are important to test is that the input you are expecting is correct. For instance in our function we are expecting a list of numbers (either integers or floats)\n",
    "\n",
    "What happens if the list contains a string? or the input list is empty? or the input is not a list?\n",
    "Let's see!"
   ]
  },
  {
   "cell_type": "code",
   "execution_count": null,
   "metadata": {},
   "outputs": [],
   "source": [
    "compute_mean([1,4,\"0.555\",6,7])"
   ]
  },
  {
   "cell_type": "code",
   "execution_count": null,
   "metadata": {},
   "outputs": [],
   "source": [
    "compute_mean([])"
   ]
  },
  {
   "cell_type": "code",
   "execution_count": null,
   "metadata": {},
   "outputs": [],
   "source": [
    "compute_mean(5)"
   ]
  },
  {
   "cell_type": "markdown",
   "metadata": {},
   "source": [
    "As you can see the code crashes for different reasons. Instead of this, we should assert that the input is what we are expecting or returning a message"
   ]
  },
  {
   "cell_type": "code",
   "execution_count": null,
   "metadata": {},
   "outputs": [],
   "source": [
    "def compute_mean(list_of_numbers:list)-> float:\n",
    "    \"\"\" compute the mean, given a list of numbers \n",
    "    \n",
    "    Args:\n",
    "        numbers: List of numbers (either integers or floats)\n",
    "    \n",
    "    Returns:\n",
    "        The mean of the values contained in the list\n",
    "    \"\"\"\n",
    "\n",
    "    assert type(list_of_numbers) is list, 'The input is not a list'\n",
    "    assert len(list_of_numbers) >0, 'The input list is empty'\n",
    "\n",
    "    sum_list = sum(list_of_numbers)\n",
    "    length_list = len(list_of_numbers)\n",
    "    mean = sum_list / length_list\n",
    "    return mean"
   ]
  },
  {
   "cell_type": "markdown",
   "metadata": {},
   "source": [
    "✏️ **Exercise:** \n",
    "\n",
    "Add an assert to test that all elements in the list are integers or float "
   ]
  },
  {
   "cell_type": "markdown",
   "metadata": {},
   "source": [
    "✏️ **Exercise:** \n",
    "\n",
    "Write a function that, given a list of names (containing duplicates) returns a list of names without duplicates. Make sure to include documentation and define `assert` to check the input and the correctness of the output\n",
    "\n",
    "Example of input:"
   ]
  },
  {
   "cell_type": "code",
   "execution_count": null,
   "metadata": {},
   "outputs": [],
   "source": [
    "names = [\"Mark\",\"Paula\",\"Paul\",\"Fede\",\"Mariona\",\"Kaspar\",\"Paul\",\"Thomas\",\"Thomas\",\"Mark\",\"Thomas\"]"
   ]
  }
 ],
 "metadata": {
  "kernelspec": {
   "display_name": "Python 3 (ipykernel)",
   "language": "python",
   "name": "python3"
  },
  "language_info": {
   "codemirror_mode": {
    "name": "ipython",
    "version": 3
   },
   "file_extension": ".py",
   "mimetype": "text/x-python",
   "name": "python",
   "nbconvert_exporter": "python",
   "pygments_lexer": "ipython3",
   "version": "3.9.16"
  },
  "vscode": {
   "interpreter": {
    "hash": "a2e91717858118300f159f516e8add62a50cea7986ea1e6059fd0b766f06d37e"
   }
  }
 },
 "nbformat": 4,
 "nbformat_minor": 2
}
