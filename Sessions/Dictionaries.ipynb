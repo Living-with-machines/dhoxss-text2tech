{
 "cells": [
  {
   "cell_type": "markdown",
   "id": "4449fa4d",
   "metadata": {
    "slideshow": {
     "slide_type": "slide"
    }
   },
   "source": [
    "# Data structures: dictionaries"
   ]
  },
  {
   "cell_type": "markdown",
   "id": "1ad2607b",
   "metadata": {
    "slideshow": {
     "slide_type": "slide"
    }
   },
   "source": [
    "A dictionary is a collection of elements that can be accessed by their indices.\n",
    "\n",
    "A dictionary in Python is a mapping between keys and values:\n",
    "* **Key**: the index of the dictionary, it can be a string, a number, or a tuple. Keys are unique.\n",
    "* **Value**: the value of a given key, it can be of any type! Values don't need to be unique.\n",
    "\n",
    "Why is it called dictionary? Similar to how a traditional dictionary is structured, it consists of a collection of entries (i.e. **keys**) with **values** (in a traditional dictionary, that's the definition).\n",
    "\n",
    "Example from a traditional dictionary:\n",
    "> _programming (n)_: The art of writing a program.\n",
    "\n",
    "In python:\n",
    "* A dictionary is represented in curly brackets.\n",
    "* A colon (```:```) is used to separate the key from the value.\n",
    "* Different items in a dictionary are separated by commas (```,```).\n",
    "\n",
    "For example:"
   ]
  },
  {
   "cell_type": "code",
   "execution_count": null,
   "id": "957a1831",
   "metadata": {},
   "outputs": [],
   "source": [
    "dictionary = {\"programming\" : \"The art of writing a program.\",\n",
    "              \"dictionary\" : \"Collection of words with their definitions.\"\n",
    "             }"
   ]
  },
  {
   "cell_type": "markdown",
   "id": "8282545d",
   "metadata": {},
   "source": [
    "You can have as many elements as necessary in a dictionary:"
   ]
  },
  {
   "cell_type": "code",
   "execution_count": null,
   "id": "11e55864",
   "metadata": {
    "slideshow": {
     "slide_type": "-"
    }
   },
   "outputs": [],
   "source": [
    "shipwrecks_by_year = {\n",
    "    \"Santa Maria\": 1492,\n",
    "    \"USS Indianapolis\" : 1945,\n",
    "    \"HMS Endeavour\": 1778,\n",
    "    \"Endurance\": 1915\n",
    "    }"
   ]
  },
  {
   "cell_type": "markdown",
   "id": "81bfa9f7",
   "metadata": {
    "slideshow": {
     "slide_type": "slide"
    }
   },
   "source": [
    "Values of dictionaries can also be tuples (like here), or lists, or sets..."
   ]
  },
  {
   "cell_type": "code",
   "execution_count": null,
   "id": "e09b3494",
   "metadata": {},
   "outputs": [],
   "source": [
    "shipwrecks_by_location = {\n",
    "    \"Santa Maria\": (19.00, -71.00),\n",
    "    \"USS Indianapolis\" : (12.03, 134.80),\n",
    "    \"HMS Endeavour\": (41.60, -71.35),\n",
    "    \"Endurance\": (-69.08, -51.50)\n",
    "    }"
   ]
  },
  {
   "cell_type": "markdown",
   "id": "d75c2917",
   "metadata": {
    "slideshow": {
     "slide_type": "slide"
    }
   },
   "source": [
    "... and dictionary values can also be nested dictionaries!"
   ]
  },
  {
   "cell_type": "code",
   "execution_count": null,
   "id": "d9b0b009",
   "metadata": {},
   "outputs": [],
   "source": [
    "# Here the outer keys are strings, values are dictionaries!\n",
    "# The keys of the inner dictionary ('Coordinates', 'Year')\n",
    "# are strings, their values are (1) a tuple of floats for\n",
    "# key \"Coordinates\", and (2) an integer for key \"Year\".\n",
    "shipwrecks = {\n",
    "    \"Santa Maria\": {\n",
    "        \"Coordinates\": (19.00, -71.00),\n",
    "        \"Year\": 1492\n",
    "    },\n",
    "    \"USS Indianapolis\": {\n",
    "        \"Coordinates\": (12.03, 134.80),\n",
    "        \"Year\": 1945\n",
    "    },\n",
    "    \"HMS Endeavour\": {\n",
    "        \"Coordinates\": (41.60, -71.35),\n",
    "        \"Year\": 1778\n",
    "    },\n",
    "    \"Endurance\": {\n",
    "        \"Coordinates\": (-69.08, -51.50),\n",
    "        \"Year\": 1915\n",
    "    }\n",
    "}"
   ]
  },
  {
   "cell_type": "markdown",
   "id": "5c285838",
   "metadata": {
    "slideshow": {
     "slide_type": "slide"
    }
   },
   "source": [
    "## Creating a dictionary\n",
    "\n",
    "Creating an **empty** dictionary (with no items), two options:"
   ]
  },
  {
   "cell_type": "code",
   "execution_count": null,
   "id": "e3228376",
   "metadata": {},
   "outputs": [],
   "source": [
    "new_dict = {}\n",
    "new_dict = dict()"
   ]
  },
  {
   "cell_type": "markdown",
   "id": "1ff5055d",
   "metadata": {},
   "source": [
    "Creating a dictionary with some items in it:"
   ]
  },
  {
   "cell_type": "code",
   "execution_count": null,
   "id": "50a849d8",
   "metadata": {},
   "outputs": [],
   "source": [
    "new_dict = {\n",
    "    \"item1\": 1,\n",
    "    \"item2\": 2,\n",
    "    \"item3\": 3\n",
    "    }"
   ]
  },
  {
   "cell_type": "markdown",
   "id": "8cd433b6",
   "metadata": {
    "slideshow": {
     "slide_type": "slide"
    }
   },
   "source": [
    "✏️ **Exercise:**"
   ]
  },
  {
   "cell_type": "code",
   "execution_count": null,
   "id": "3a89bdda",
   "metadata": {
    "slideshow": {
     "slide_type": "fragment"
    }
   },
   "outputs": [],
   "source": [
    "# Create a dictionary that maps all places you've lived in with the country they belong to, and print it.\n",
    "#\n",
    "# Type your code here:\n",
    "\n"
   ]
  },
  {
   "cell_type": "markdown",
   "id": "3096f00c",
   "metadata": {
    "slideshow": {
     "slide_type": "slide"
    }
   },
   "source": [
    "## Adding and updating items into a dictionary\n",
    "\n",
    "You add a key-value pair into a dictionary like this, where \"London\" in this case is the new key you want to add, and \"United Kingdom\" is its value:"
   ]
  },
  {
   "cell_type": "code",
   "execution_count": null,
   "id": "e63a199e",
   "metadata": {},
   "outputs": [],
   "source": [
    "# Instantiate a dictionary of lived places:\n",
    "dictionary_of_lived_places = dict()\n",
    "dictionary_of_lived_places = {\"Ottawa\": \"Canada\",\n",
    "                              \"Ithaca\": \"Greece\",\n",
    "                              \"Moose Jaw\": \"Canada\"}\n",
    "\n",
    "# Below, we're adding a new key-value pair in our dicionary_of_lived_places:\n",
    "dictionary_of_lived_places[\"London\"] = \"United Kingdom\"\n",
    "\n",
    "# Print the dictionary:\n",
    "print(dictionary_of_lived_places)"
   ]
  },
  {
   "cell_type": "markdown",
   "id": "b398227e",
   "metadata": {
    "slideshow": {
     "slide_type": "fragment"
    }
   },
   "source": [
    "You can update the value of a given key in the same way. For example, let's suppose for a moment that 'Moose Jaw' is not in Canada, but in Iceland:"
   ]
  },
  {
   "cell_type": "code",
   "execution_count": null,
   "id": "966d2608",
   "metadata": {},
   "outputs": [],
   "source": [
    "dictionary_of_lived_places[\"Moose Jaw\"] = \"Iceland\"\n",
    "print(dictionary_of_lived_places)"
   ]
  },
  {
   "cell_type": "markdown",
   "id": "9254a849",
   "metadata": {
    "slideshow": {
     "slide_type": "slide"
    }
   },
   "source": [
    "## Accessing a value from a dictionary\n",
    "\n",
    "Dictionaries provide a very straightforward way to access the values of a given key.\n",
    "\n",
    "Suppose we want to get the coordinates of the 'Endurance', given the following dictionary:"
   ]
  },
  {
   "cell_type": "code",
   "execution_count": null,
   "id": "587d4d55",
   "metadata": {},
   "outputs": [],
   "source": [
    "shipwrecks_by_location = {\n",
    "    \"Santa Maria\": (19.00, -71.00),\n",
    "    \"USS Indianapolis\" : (12.03, 134.80),\n",
    "    \"HMS Endeavour\": (41.60, -71.35),\n",
    "    \"Endurance\": (-69.08, -51.50)\n",
    "    }"
   ]
  },
  {
   "cell_type": "markdown",
   "id": "c6d927d5",
   "metadata": {},
   "source": [
    "We just need to call the dictionary and the key in square brackets:"
   ]
  },
  {
   "cell_type": "code",
   "execution_count": null,
   "id": "d58e163b",
   "metadata": {},
   "outputs": [],
   "source": [
    "print(shipwrecks_by_location[\"Endurance\"])"
   ]
  },
  {
   "cell_type": "markdown",
   "id": "1d4df9c8",
   "metadata": {
    "slideshow": {
     "slide_type": "slide"
    }
   },
   "source": [
    "What happens if you try to access a key that does not exist in the dictionary?"
   ]
  },
  {
   "cell_type": "code",
   "execution_count": null,
   "id": "898a722d",
   "metadata": {},
   "outputs": [],
   "source": [
    "print(shipwrecks_by_location[\"Titanic\"])"
   ]
  },
  {
   "cell_type": "markdown",
   "id": "82d9068b",
   "metadata": {
    "slideshow": {
     "slide_type": "slide"
    }
   },
   "source": [
    "To avoid annoying error messages, you can always check beforehand if the key exists:"
   ]
  },
  {
   "cell_type": "code",
   "execution_count": null,
   "id": "f1f62325",
   "metadata": {},
   "outputs": [],
   "source": [
    "query = \"Titanic\"\n",
    "if query in shipwrecks_by_location:\n",
    "    print(shipwrecks_by_location[query])\n",
    "else:\n",
    "    print(\"Warning: \" + query + \" is not in the dictionary.\")"
   ]
  },
  {
   "cell_type": "markdown",
   "id": "2a37dba5",
   "metadata": {
    "slideshow": {
     "slide_type": "slide"
    }
   },
   "source": [
    "Alternatively, you also can use the method ```.get()```: the first element of the method is the key you want to look for in the dictionary, and the second element the message that it is returned if the key has not been found:"
   ]
  },
  {
   "cell_type": "code",
   "execution_count": null,
   "id": "713e279e",
   "metadata": {},
   "outputs": [],
   "source": [
    "query = \"Endurance\"\n",
    "print(shipwrecks_by_location.get(query, \"Key not in dictionary!\"))"
   ]
  },
  {
   "cell_type": "code",
   "execution_count": null,
   "id": "8be1694d",
   "metadata": {},
   "outputs": [],
   "source": [
    "query = \"Titanic\"\n",
    "print(shipwrecks_by_location.get(query, \"Key not in dictionary!\"))"
   ]
  },
  {
   "cell_type": "markdown",
   "id": "8fd9e7dd",
   "metadata": {
    "slideshow": {
     "slide_type": "slide"
    }
   },
   "source": [
    "## Other methods to retrieve data from a dictionary:\n",
    "\n",
    "Get all the **keys** in the dictionary:"
   ]
  },
  {
   "cell_type": "code",
   "execution_count": null,
   "id": "5d1aee9a",
   "metadata": {},
   "outputs": [],
   "source": [
    "print(dictionary_of_lived_places.keys())"
   ]
  },
  {
   "cell_type": "markdown",
   "id": "0a2adf57",
   "metadata": {},
   "source": [
    "Get all the **values** in the dictionary (in a list format):"
   ]
  },
  {
   "cell_type": "code",
   "execution_count": null,
   "id": "ebf7a90b",
   "metadata": {},
   "outputs": [],
   "source": [
    "print(dictionary_of_lived_places.values())"
   ]
  },
  {
   "cell_type": "markdown",
   "id": "27fec6d7",
   "metadata": {},
   "source": [
    "Get the **key-value pairs** in the dictionary (in a list of tuples format):"
   ]
  },
  {
   "cell_type": "code",
   "execution_count": null,
   "id": "aaefe954",
   "metadata": {},
   "outputs": [],
   "source": [
    "print(dictionary_of_lived_places.items())"
   ]
  },
  {
   "cell_type": "markdown",
   "id": "f8868230",
   "metadata": {
    "slideshow": {
     "slide_type": "slide"
    }
   },
   "source": [
    "## Sorting a dictionary\n",
    "\n",
    "Dictionaries are unordered and can't be sorted, but we can sort a representation of a dictionary.\n",
    "\n",
    "Sort **by key** in ascending order:"
   ]
  },
  {
   "cell_type": "code",
   "execution_count": null,
   "id": "5d8db50a",
   "metadata": {},
   "outputs": [],
   "source": [
    "sorted(dictionary_of_lived_places.items())"
   ]
  },
  {
   "cell_type": "markdown",
   "id": "b356a3b4",
   "metadata": {},
   "source": [
    "Sort **by key** in descending order:"
   ]
  },
  {
   "cell_type": "code",
   "execution_count": null,
   "id": "14140e37",
   "metadata": {},
   "outputs": [],
   "source": [
    "sorted(dictionary_of_lived_places.items(), reverse=True)"
   ]
  },
  {
   "cell_type": "markdown",
   "id": "ace0ca86",
   "metadata": {
    "slideshow": {
     "slide_type": "slide"
    }
   },
   "source": [
    "Dictionaries are unordered and can't be sorted, but we can sort a representation of a dictionary.\n",
    "\n",
    "Sort **by value** in ascending order:"
   ]
  },
  {
   "cell_type": "code",
   "execution_count": null,
   "id": "7759b8eb",
   "metadata": {},
   "outputs": [],
   "source": [
    "sorted(dictionary_of_lived_places.items(),key=lambda x:x[1])"
   ]
  },
  {
   "cell_type": "markdown",
   "id": "17bfff13",
   "metadata": {
    "slideshow": {
     "slide_type": "fragment"
    }
   },
   "source": [
    "✏️ **Exercise:**"
   ]
  },
  {
   "cell_type": "code",
   "execution_count": null,
   "id": "bae6a5ca",
   "metadata": {},
   "outputs": [],
   "source": [
    "# Can you guess how to sort by value in descending order?\n",
    "#\n",
    "# Type your code here:\n",
    "\n"
   ]
  },
  {
   "cell_type": "markdown",
   "id": "b905a1de",
   "metadata": {
    "slideshow": {
     "slide_type": "slide"
    }
   },
   "source": [
    "## Iterate over a dictionary\n",
    "\n",
    "We can iterate over a dictionary in a similar way to how we interate over a list. By default, iteration is done over the keys of the dictionary. See the example:"
   ]
  },
  {
   "cell_type": "code",
   "execution_count": null,
   "id": "4d0dbea9",
   "metadata": {},
   "outputs": [],
   "source": [
    "dictionary_of_lived_places = {\n",
    "    \"Moose Jaw\": \"Canada\",\n",
    "    \"Saskatoon\": \"Canada\",\n",
    "    \"Ithaca\": \"Greece\"\n",
    "}\n",
    "\n",
    "for k in dictionary_of_lived_places:\n",
    "    print(k)"
   ]
  },
  {
   "cell_type": "markdown",
   "id": "df293732",
   "metadata": {
    "slideshow": {
     "slide_type": "slide"
    }
   },
   "source": [
    "We can also iterate over the dictionary key-value pairs (`k, v`) with the `.items()` method."
   ]
  },
  {
   "cell_type": "code",
   "execution_count": null,
   "id": "9649047b",
   "metadata": {},
   "outputs": [],
   "source": [
    "dictionary_of_lived_places = {\n",
    "    \"Moose Jaw\": \"Canada\",\n",
    "    \"Saskatoon\": \"Canada\",\n",
    "    \"Ithaca\": \"Greece\"\n",
    "}\n",
    "\n",
    "for k, v in dictionary_of_lived_places.items():\n",
    "    print(k, v)"
   ]
  },
  {
   "cell_type": "markdown",
   "id": "4e5cec68",
   "metadata": {},
   "source": [
    "Remember that we can access the value of a key like this: ```dictionary[key]```. The cell below achieves teh same as the cell above:"
   ]
  },
  {
   "cell_type": "code",
   "execution_count": null,
   "id": "1bfe05a3",
   "metadata": {},
   "outputs": [],
   "source": [
    "for k in dictionary_of_lived_places:\n",
    "    print(k, dictionary_of_lived_places[k])"
   ]
  },
  {
   "cell_type": "markdown",
   "id": "87c83e1b",
   "metadata": {
    "slideshow": {
     "slide_type": "slide"
    }
   },
   "source": [
    "## Use case: counting words\n",
    "\n",
    "Dictionaries are very helpful to count and keep track. Look at the example below:"
   ]
  },
  {
   "cell_type": "code",
   "execution_count": null,
   "id": "27a12947",
   "metadata": {},
   "outputs": [],
   "source": [
    "text = \"This is the second day of the summer school, we're covering data structures in Python.\"\n",
    "\n",
    "word_list = text.split(\" \")\n",
    "dict_wordcounts = dict()\n",
    "for word in word_list:\n",
    "    if word in dict_wordcounts:\n",
    "        dict_wordcounts[word] += 1\n",
    "    else:\n",
    "        dict_wordcounts[word] = 1\n",
    "\n",
    "print(dict_wordcounts)"
   ]
  },
  {
   "cell_type": "markdown",
   "id": "7439645d",
   "metadata": {},
   "source": [
    "Do you understand what is happening at each line of code?"
   ]
  },
  {
   "cell_type": "markdown",
   "id": "64b4e75e",
   "metadata": {
    "slideshow": {
     "slide_type": "slide"
    }
   },
   "source": [
    "Now with comments:"
   ]
  },
  {
   "cell_type": "code",
   "execution_count": null,
   "id": "5128406b",
   "metadata": {},
   "outputs": [],
   "source": [
    "text = \"This is the second day of the summer school, we're covering data structures in Python.\"\n",
    "word_list = text.split(\" \") # First of all, split the text by white space.\n",
    "dict_wordcounts = dict() # We start an empty dictionary, which we will be filling with data as we read it.\n",
    "for word in word_list: # Read and iterate over the data, in this case a list of words. \n",
    "    if word in dict_wordcounts: # Check if the word exists as a key in the dictionary\n",
    "        dict_wordcounts[word] += 1 # Update the value (i.e. count) of the key (i.e. word) by adding 1 to it.\n",
    "    else: # If the word does not exist as a key in the dictionary: \n",
    "        dict_wordcounts[word] = 1 # Add the key to the dictionary, and give it the value 1.\n",
    "\n",
    "print(dict_wordcounts)"
   ]
  },
  {
   "cell_type": "markdown",
   "id": "7956ac0e",
   "metadata": {},
   "source": [
    "## Use case: exploring Hamlet\n",
    "\n",
    "### ✏️ Exercises that combine reading files, basic text processing and data structures"
   ]
  },
  {
   "cell_type": "markdown",
   "id": "a56a0aab",
   "metadata": {
    "slideshow": {
     "slide_type": "slide"
    }
   },
   "source": [
    "### Upload a file\n",
    "\n",
    "Go to [Project Gutenberg](https://www.gutenberg.org/) and download _Hamlet_.\n",
    "\n",
    "Have a look at the document: get familiarised with the data!\n",
    "\n",
    "Remove the header and the license and copyright considerations at the end of the file. Remove table of contents, and dramatis personae. Save it and rename it `hamlet.txt`."
   ]
  },
  {
   "cell_type": "markdown",
   "id": "963e122a",
   "metadata": {
    "slideshow": {
     "slide_type": "slide"
    }
   },
   "source": [
    "### Read the file\n",
    "\n",
    "Ask python to load the whole book. You can load the whole book at once with the `.read()` method:"
   ]
  },
  {
   "cell_type": "code",
   "execution_count": null,
   "id": "39fb9d0a",
   "metadata": {},
   "outputs": [],
   "source": [
    "book = []\n",
    "with open(\"../Data/hamlet.txt\") as fr:\n",
    "    book = fr.readlines()"
   ]
  },
  {
   "cell_type": "markdown",
   "id": "680f4aaf",
   "metadata": {},
   "source": [
    "We now have the whole book in a **string** variable, called `book`.\n",
    "\n",
    "You can read the book line per line with the `.readlines()` method:"
   ]
  },
  {
   "cell_type": "code",
   "execution_count": null,
   "id": "74f5ed01",
   "metadata": {},
   "outputs": [],
   "source": [
    "lines = []\n",
    "with open(\"../Data/hamlet.txt\") as fr:\n",
    "    lines = fr.readlines()"
   ]
  },
  {
   "cell_type": "markdown",
   "id": "6d4c9021",
   "metadata": {},
   "source": [
    "We now have the whole book in a variable, called `lines`, that is a list of strings, each string a line of the book."
   ]
  },
  {
   "cell_type": "markdown",
   "id": "eb64001a",
   "metadata": {
    "slideshow": {
     "slide_type": "-"
    }
   },
   "source": [
    "Let's first iterate over the first 20 lines of the _Hamlet_ play, and print each line:"
   ]
  },
  {
   "cell_type": "code",
   "execution_count": null,
   "id": "4515832b",
   "metadata": {},
   "outputs": [],
   "source": [
    "for line in lines[:50]:\n",
    "    print(line)"
   ]
  },
  {
   "cell_type": "markdown",
   "id": "8553c3da",
   "metadata": {
    "slideshow": {
     "slide_type": "slide"
    }
   },
   "source": [
    "### Exercise 1: How many times does each character talk?"
   ]
  },
  {
   "cell_type": "code",
   "execution_count": null,
   "id": "83c3c266",
   "metadata": {},
   "outputs": [],
   "source": [
    "characters = ['LORD', 'FORTINBRAS', 'ALL', 'FIRST SAILOR', 'SERVANT', 'BOTH',\n",
    "              'PRIEST', 'PROLOGUE', 'CAPTAIN', 'HORATIO', 'HAMLET', 'DANES',\n",
    "              'FIRST AMBASSADOR', 'SECOND CLOWN', 'FIRST PLAYER', 'GENTLEMAN',\n",
    "              'FRANCISCO', 'PLAYER KING', 'PLAYER QUEEN', 'MARCELLUS', 'KING',\n",
    "              'BARNARDO', 'VOLTEMAND', 'OSRIC', 'FIRST CLOWN', 'GUILDENSTERN',\n",
    "              'REYNALDO', 'LAERTES', 'OPHELIA', 'GHOST', 'MESSENGER', 'LUCIANUS',\n",
    "              'QUEEN', 'ROSENCRANTZ', 'POLONIUS']"
   ]
  },
  {
   "cell_type": "code",
   "execution_count": null,
   "id": "fd00a9fe",
   "metadata": {},
   "outputs": [],
   "source": [
    "# Iterate through the lines of the file. Count how many times a character has a line, and sort the\n",
    "# list of characters by how many times they speak in the play. You can use the list of characters\n",
    "# that is provided above.\n",
    "# \n",
    "# There are many ways to do that, some more efficient and some less. We don't care about that now!\n",
    "#\n",
    "# **Extra points** if you get the list of characters directly from the file, instead of using the\n",
    "# one provided above! (tip: use Regular Expressions).\n",
    "#\n",
    "# Type your code here:\n",
    "\n"
   ]
  },
  {
   "cell_type": "markdown",
   "id": "2b220233",
   "metadata": {},
   "source": [
    "**👀 Tips:**\n",
    "\n",
    "Don't read this unless you want some tips on how to address this problem!\n",
    "\n",
    "Think how you would solve this problem without using python.\n",
    "\n",
    "One possible solution can be achieved in this way:\n",
    "\n",
    "**Main exercise: counting character lines and sorting them:**\n",
    "* We can use a dictionary to keep counts of how many times a character speaks. To do so:\n",
    "  * Instantiate an empty dictionary where we will store counts of character lines.\n",
    "  * Assuming we already know the list of characters (provided above), we can iterate over the list of characters.\n",
    "  * Then, for each character, we iterate over the lines in the file.\n",
    "  * If the line starts with the name of the character, there are two possibilities:\n",
    "  * 1: if the character is not in the dictionary, we will add it to the dictionary, with value 1 (because we've seen it once)\n",
    "  * 2: if the character is already in the dictionary, we will not add it to the dictionary (because it's already there!) but we will increase the value by 1.\n",
    "* After having iterated over all characters, we already have a dictionary of counts per character. We can now sort this dictionary (using the `sorted()` function), and print the contents.\n",
    "\n",
    "**Extra exercise: finding the characters in the play:**\n",
    "* Instantiate an empty list where we will keep the list of characters.\n",
    "* You can iterate over the list of lines in the Hamlet txt file.\n",
    "* Notice the pattern: character names happen at the beginning of the line, in capital letters, followed by a dot. Create a regular expression that captures the character name. Therefore, if a line starts this way, add the captured character name to the list of characters. Watch out: the word \"SCENE\" has the same pattern, you may want to write a condition that ignores \"SCENE\" and does not add it to the list of characters."
   ]
  },
  {
   "cell_type": "markdown",
   "id": "62f209c5",
   "metadata": {},
   "source": [
    "**👀 Suggested solution:**"
   ]
  },
  {
   "cell_type": "code",
   "execution_count": null,
   "id": "ed791672",
   "metadata": {},
   "outputs": [],
   "source": [
    "# ---------------------------------------\n",
    "# Main exercise: get character counts:\n",
    "dict_character_counts = dict()\n",
    "for character in characters:\n",
    "    for line in lines:\n",
    "        if line.startswith(character + \".\"):\n",
    "            if character in dict_character_counts:\n",
    "                dict_character_counts[character] += 1\n",
    "            else:\n",
    "                dict_character_counts[character] = 1\n",
    "\n",
    "sorted_characters = sorted(dict_character_counts.items(),key=lambda x:x[1], reverse=True)\n",
    "for ch in sorted_characters:\n",
    "    print(ch)"
   ]
  },
  {
   "cell_type": "code",
   "execution_count": null,
   "id": "d991f5e6",
   "metadata": {},
   "outputs": [],
   "source": [
    "# ---------------------------------------\n",
    "# Extra points: find the characters in the play:\n",
    "import re\n",
    "characters = []\n",
    "for line in lines:\n",
    "    if re.match(r'^[A-Z ]+\\..*', line):\n",
    "        match = re.match(r'^([A-Z ]+)\\..*', line).group(1)\n",
    "        if not 'SCENE' in match:\n",
    "            characters.append(match)\n",
    "characters = list(set(characters))\n",
    "print(characters)"
   ]
  },
  {
   "cell_type": "markdown",
   "id": "a3bbc390",
   "metadata": {},
   "source": [
    "### Exercise 2: Remove superfluous line breaks"
   ]
  },
  {
   "cell_type": "code",
   "execution_count": null,
   "id": "f5a61bbc",
   "metadata": {},
   "outputs": [],
   "source": [
    "# You will have noticed that there are line breaks in the text file that do not correspond with the\n",
    "# text logical line breaks (i.e. paragraphs). Paragraphs are marked with two or more line breaks. Could\n",
    "# you try and have one paragraph per line? This means removing superfluous line breaks. The output should\n",
    "# be a list of strings, where each string corresponds to a paragraph.\n",
    "#\n",
    "# Type your code here:\n",
    "\n"
   ]
  },
  {
   "cell_type": "markdown",
   "id": "ea98dda2",
   "metadata": {
    "slideshow": {
     "slide_type": "slide"
    }
   },
   "source": [
    "#### 👀 Suggested solution"
   ]
  },
  {
   "cell_type": "code",
   "execution_count": null,
   "id": "5dfd0f5d",
   "metadata": {
    "slideshow": {
     "slide_type": "-"
    }
   },
   "outputs": [],
   "source": [
    "book_paragraphs = []\n",
    "with open(\"../Data/hamlet.txt\") as fr:\n",
    "    book = fr.readlines()\n",
    "    paragraph = \"\"\n",
    "    for line in book:\n",
    "        line = line.strip()\n",
    "        if line != \"\":\n",
    "            paragraph += line + \" \"\n",
    "        else:\n",
    "            book_paragraphs.append(paragraph)\n",
    "            paragraph = \"\"\n",
    "\n",
    "for paragraph in book_paragraphs[:100]:\n",
    "    print(paragraph)"
   ]
  },
  {
   "cell_type": "code",
   "execution_count": null,
   "id": "8214c6e1",
   "metadata": {
    "slideshow": {
     "slide_type": "slide"
    }
   },
   "outputs": [],
   "source": []
  },
  {
   "cell_type": "code",
   "execution_count": null,
   "id": "f53b4631",
   "metadata": {},
   "outputs": [],
   "source": []
  }
 ],
 "metadata": {
  "kernelspec": {
   "display_name": "Python (py39)",
   "language": "python",
   "name": "py39"
  },
  "language_info": {
   "codemirror_mode": {
    "name": "ipython",
    "version": 3
   },
   "file_extension": ".py",
   "mimetype": "text/x-python",
   "name": "python",
   "nbconvert_exporter": "python",
   "pygments_lexer": "ipython3",
   "version": "3.9.7"
  }
 },
 "nbformat": 4,
 "nbformat_minor": 5
}
