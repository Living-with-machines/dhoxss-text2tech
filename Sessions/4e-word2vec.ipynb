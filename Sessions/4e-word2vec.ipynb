{
  "cells": [
    {
      "cell_type": "markdown",
      "metadata": {
        "id": "EEjIZfUkzA0f"
      },
      "source": [
        "# Word2Vec: from preprocessing to vector exploration"
      ]
    },
    {
      "cell_type": "markdown",
      "metadata": {
        "id": "yePUXhVizA0g"
      },
      "source": [
        "## Preprocessing"
      ]
    },
    {
      "cell_type": "markdown",
      "metadata": {
        "id": "kCsjMvZCzA0h"
      },
      "source": [
        "Many different choices can be made when preprocessing a corpus to be used as Word2Vec training data. Ultimately the choices you'll make will usually depend on:\n",
        "\n",
        "1. The size of your corpus (it might be computationally too expensive to heavily preprocess very large corpora: choose a quality-time trade-off wisely!)\n",
        "2. What you are planning to use the model for (e.g. maybe you want to look at non-lemmatized tokens? Maybe you'd like to keep numbers?)\n",
        "\n",
        "For this first complete example, our preprocessing will consist of:\n",
        "- Lowercasing\n",
        "- Punctuation removal\n",
        "- Stopword removal\n",
        "- Lemmatization\n",
        "\n",
        "But preprocessing may also include tasks like:\n",
        "- Removal of tokens with less than _n_ characters\n",
        "- Removal of numbers\n",
        "- PoS tagging"
      ]
    },
    {
      "cell_type": "code",
      "execution_count": 1,
      "metadata": {
        "id": "_EogcuS4zA0h"
      },
      "outputs": [],
      "source": [
        "import spacy"
      ]
    },
    {
      "cell_type": "markdown",
      "metadata": {
        "id": "f_8LBHHozA0i"
      },
      "source": [
        "Load the English model `en_core_web_sm` from `spacy`:"
      ]
    },
    {
      "cell_type": "code",
      "execution_count": 2,
      "metadata": {
        "id": "kZ30_GS5zA0i"
      },
      "outputs": [],
      "source": [
        "nlp = spacy.load('en_core_web_sm')"
      ]
    },
    {
      "cell_type": "markdown",
      "metadata": {
        "id": "BisNuqwSzA0i"
      },
      "source": [
        "The following shows what a preprocessed sentences looks like. To preprocess texts using `spacy`, we can use various built-in methods after having loaded the English model."
      ]
    },
    {
      "cell_type": "code",
      "execution_count": 3,
      "metadata": {
        "colab": {
          "base_uri": "https://localhost:8080/"
        },
        "id": "kwlrSItTzA0j",
        "outputId": "d371da99-249e-4840-e9cd-a988ff8e546a"
      },
      "outputs": [
        {
          "output_type": "execute_result",
          "data": {
            "text/plain": [
              "['test', 'sentence', 'look', 'process', 'sentence', 'look', 'like']"
            ]
          },
          "metadata": {},
          "execution_count": 3
        }
      ],
      "source": [
        "sentence = 'These are test sentences, just to have a look at how a processed sentence looks like'\n",
        "\n",
        "# create Spacy Doc object\n",
        "doc = nlp(sentence)\n",
        "\n",
        "# tokenize, lemmatize (.lemma_), remove stopwords (.is_stop) and punctuation (.isalpha())\n",
        "tokenized_sentence = [token.lemma_ for token in doc if token.is_stop == False and token.text.isalpha() == True]\n",
        "\n",
        "tokenized_sentence"
      ]
    },
    {
      "cell_type": "markdown",
      "metadata": {
        "id": "njMNMzf6zA0j"
      },
      "source": [
        "## Train a word2vec model"
      ]
    },
    {
      "cell_type": "code",
      "execution_count": 4,
      "metadata": {
        "id": "Bv-aO5ijzA0k"
      },
      "outputs": [],
      "source": [
        "import pandas as pd\n",
        "from gensim.models import Word2Vec\n",
        "from tqdm import tqdm # To track the progress of loops"
      ]
    },
    {
      "cell_type": "markdown",
      "metadata": {
        "id": "B6jHNF_vzA0k"
      },
      "source": [
        "Now let's initialize Word2Vec defining some hyperparameters.\n",
        "[Here](https://radimrehurek.com/gensim/models/word2vec.html#gensim.models.word2vec.Word2Vec) is a breakdown of all possible HP which can be changed. We'll mostly stick to the defaults (but spell out the most important ones for clarity):"
      ]
    },
    {
      "cell_type": "code",
      "source": [
        "!mkdir data\n",
        "!wget -O data/newspapers-toy.csv https://raw.githubusercontent.com/Living-with-machines/dhoxss-text2tech/npedrazzini-word2vecsesh/Sessions/data/newspapers-toy.csv "
      ],
      "metadata": {
        "colab": {
          "base_uri": "https://localhost:8080/"
        },
        "id": "h2exz_lVzNbw",
        "outputId": "f949730b-06d9-40cd-fe01-3d21cbd89072"
      },
      "execution_count": 5,
      "outputs": [
        {
          "output_type": "stream",
          "name": "stdout",
          "text": [
            "--2022-07-14 08:21:57--  https://raw.githubusercontent.com/Living-with-machines/dhoxss-text2tech/npedrazzini-word2vecsesh/Sessions/data/newspapers-toy.csv\n",
            "Resolving raw.githubusercontent.com (raw.githubusercontent.com)... 185.199.108.133, 185.199.111.133, 185.199.110.133, ...\n",
            "Connecting to raw.githubusercontent.com (raw.githubusercontent.com)|185.199.108.133|:443... connected.\n",
            "HTTP request sent, awaiting response... 200 OK\n",
            "Length: 254889 (249K) [text/plain]\n",
            "Saving to: ‘data/newspapers-toy.csv’\n",
            "\n",
            "\rdata/newspapers-toy   0%[                    ]       0  --.-KB/s               \rdata/newspapers-toy 100%[===================>] 248.92K  --.-KB/s    in 0.03s   \n",
            "\n",
            "2022-07-14 08:21:58 (8.20 MB/s) - ‘data/newspapers-toy.csv’ saved [254889/254889]\n",
            "\n"
          ]
        }
      ]
    },
    {
      "cell_type": "code",
      "execution_count": 6,
      "metadata": {
        "colab": {
          "base_uri": "https://localhost:8080/",
          "height": 608
        },
        "id": "jXvft6M_zA0k",
        "outputId": "e3b4f6b5-5c8e-46c1-8a7f-8b8d82f406e3"
      },
      "outputs": [
        {
          "output_type": "execute_result",
          "data": {
            "text/plain": [
              "    NLP  issue  art_num                      title  \\\n",
              "0  2083    704  art0025  The Northern Daily Times.   \n",
              "1  2083    704  art0029  The Northern Daily Times.   \n",
              "2  2083    704  art0024  The Northern Daily Times.   \n",
              "3  2083    704  art0031  The Northern Daily Times.   \n",
              "4  2083    704  art0033  The Northern Daily Times.   \n",
              "\n",
              "                                         collection   full_date  year  month  \\\n",
              "0  British Library Heritage Made Digital Newspapers  1856-07-04  1856      7   \n",
              "1  British Library Heritage Made Digital Newspapers  1856-07-04  1856      7   \n",
              "2  British Library Heritage Made Digital Newspapers  1856-07-04  1856      7   \n",
              "3  British Library Heritage Made Digital Newspapers  1856-07-04  1856      7   \n",
              "4  British Library Heritage Made Digital Newspapers  1856-07-04  1856      7   \n",
              "\n",
              "   day                        location  word_count  ocrquality  \\\n",
              "0    4  Liverpool, Merseyside, England        3019      0.9516   \n",
              "1    4  Liverpool, Merseyside, England         474      0.9366   \n",
              "2    4  Liverpool, Merseyside, England           2      0.9450   \n",
              "3    4  Liverpool, Merseyside, England         697      0.9658   \n",
              "4    4  Liverpool, Merseyside, England        4520      0.9371   \n",
              "\n",
              "                                                text  decade  \n",
              "0  THE KING OF NAPLES,  A letter from Paris asser...    1850  \n",
              "1  VEGETABLES  Best collection of vegetables (six...    1850  \n",
              "2                              LATEST INTELLIGENCE.     1850  \n",
              "3  MURDER IN WORCESTERSHIRE  A shocking murder ha...    1850  \n",
              "4  POLICE COURT -YESTERDAY  (BEFORE MR,. MANSFIEL...    1850  "
            ],
            "text/html": [
              "\n",
              "  <div id=\"df-f8f668af-8abc-45ee-bfbc-ef79e183c653\">\n",
              "    <div class=\"colab-df-container\">\n",
              "      <div>\n",
              "<style scoped>\n",
              "    .dataframe tbody tr th:only-of-type {\n",
              "        vertical-align: middle;\n",
              "    }\n",
              "\n",
              "    .dataframe tbody tr th {\n",
              "        vertical-align: top;\n",
              "    }\n",
              "\n",
              "    .dataframe thead th {\n",
              "        text-align: right;\n",
              "    }\n",
              "</style>\n",
              "<table border=\"1\" class=\"dataframe\">\n",
              "  <thead>\n",
              "    <tr style=\"text-align: right;\">\n",
              "      <th></th>\n",
              "      <th>NLP</th>\n",
              "      <th>issue</th>\n",
              "      <th>art_num</th>\n",
              "      <th>title</th>\n",
              "      <th>collection</th>\n",
              "      <th>full_date</th>\n",
              "      <th>year</th>\n",
              "      <th>month</th>\n",
              "      <th>day</th>\n",
              "      <th>location</th>\n",
              "      <th>word_count</th>\n",
              "      <th>ocrquality</th>\n",
              "      <th>text</th>\n",
              "      <th>decade</th>\n",
              "    </tr>\n",
              "  </thead>\n",
              "  <tbody>\n",
              "    <tr>\n",
              "      <th>0</th>\n",
              "      <td>2083</td>\n",
              "      <td>704</td>\n",
              "      <td>art0025</td>\n",
              "      <td>The Northern Daily Times.</td>\n",
              "      <td>British Library Heritage Made Digital Newspapers</td>\n",
              "      <td>1856-07-04</td>\n",
              "      <td>1856</td>\n",
              "      <td>7</td>\n",
              "      <td>4</td>\n",
              "      <td>Liverpool, Merseyside, England</td>\n",
              "      <td>3019</td>\n",
              "      <td>0.9516</td>\n",
              "      <td>THE KING OF NAPLES,  A letter from Paris asser...</td>\n",
              "      <td>1850</td>\n",
              "    </tr>\n",
              "    <tr>\n",
              "      <th>1</th>\n",
              "      <td>2083</td>\n",
              "      <td>704</td>\n",
              "      <td>art0029</td>\n",
              "      <td>The Northern Daily Times.</td>\n",
              "      <td>British Library Heritage Made Digital Newspapers</td>\n",
              "      <td>1856-07-04</td>\n",
              "      <td>1856</td>\n",
              "      <td>7</td>\n",
              "      <td>4</td>\n",
              "      <td>Liverpool, Merseyside, England</td>\n",
              "      <td>474</td>\n",
              "      <td>0.9366</td>\n",
              "      <td>VEGETABLES  Best collection of vegetables (six...</td>\n",
              "      <td>1850</td>\n",
              "    </tr>\n",
              "    <tr>\n",
              "      <th>2</th>\n",
              "      <td>2083</td>\n",
              "      <td>704</td>\n",
              "      <td>art0024</td>\n",
              "      <td>The Northern Daily Times.</td>\n",
              "      <td>British Library Heritage Made Digital Newspapers</td>\n",
              "      <td>1856-07-04</td>\n",
              "      <td>1856</td>\n",
              "      <td>7</td>\n",
              "      <td>4</td>\n",
              "      <td>Liverpool, Merseyside, England</td>\n",
              "      <td>2</td>\n",
              "      <td>0.9450</td>\n",
              "      <td>LATEST INTELLIGENCE.</td>\n",
              "      <td>1850</td>\n",
              "    </tr>\n",
              "    <tr>\n",
              "      <th>3</th>\n",
              "      <td>2083</td>\n",
              "      <td>704</td>\n",
              "      <td>art0031</td>\n",
              "      <td>The Northern Daily Times.</td>\n",
              "      <td>British Library Heritage Made Digital Newspapers</td>\n",
              "      <td>1856-07-04</td>\n",
              "      <td>1856</td>\n",
              "      <td>7</td>\n",
              "      <td>4</td>\n",
              "      <td>Liverpool, Merseyside, England</td>\n",
              "      <td>697</td>\n",
              "      <td>0.9658</td>\n",
              "      <td>MURDER IN WORCESTERSHIRE  A shocking murder ha...</td>\n",
              "      <td>1850</td>\n",
              "    </tr>\n",
              "    <tr>\n",
              "      <th>4</th>\n",
              "      <td>2083</td>\n",
              "      <td>704</td>\n",
              "      <td>art0033</td>\n",
              "      <td>The Northern Daily Times.</td>\n",
              "      <td>British Library Heritage Made Digital Newspapers</td>\n",
              "      <td>1856-07-04</td>\n",
              "      <td>1856</td>\n",
              "      <td>7</td>\n",
              "      <td>4</td>\n",
              "      <td>Liverpool, Merseyside, England</td>\n",
              "      <td>4520</td>\n",
              "      <td>0.9371</td>\n",
              "      <td>POLICE COURT -YESTERDAY  (BEFORE MR,. MANSFIEL...</td>\n",
              "      <td>1850</td>\n",
              "    </tr>\n",
              "  </tbody>\n",
              "</table>\n",
              "</div>\n",
              "      <button class=\"colab-df-convert\" onclick=\"convertToInteractive('df-f8f668af-8abc-45ee-bfbc-ef79e183c653')\"\n",
              "              title=\"Convert this dataframe to an interactive table.\"\n",
              "              style=\"display:none;\">\n",
              "        \n",
              "  <svg xmlns=\"http://www.w3.org/2000/svg\" height=\"24px\"viewBox=\"0 0 24 24\"\n",
              "       width=\"24px\">\n",
              "    <path d=\"M0 0h24v24H0V0z\" fill=\"none\"/>\n",
              "    <path d=\"M18.56 5.44l.94 2.06.94-2.06 2.06-.94-2.06-.94-.94-2.06-.94 2.06-2.06.94zm-11 1L8.5 8.5l.94-2.06 2.06-.94-2.06-.94L8.5 2.5l-.94 2.06-2.06.94zm10 10l.94 2.06.94-2.06 2.06-.94-2.06-.94-.94-2.06-.94 2.06-2.06.94z\"/><path d=\"M17.41 7.96l-1.37-1.37c-.4-.4-.92-.59-1.43-.59-.52 0-1.04.2-1.43.59L10.3 9.45l-7.72 7.72c-.78.78-.78 2.05 0 2.83L4 21.41c.39.39.9.59 1.41.59.51 0 1.02-.2 1.41-.59l7.78-7.78 2.81-2.81c.8-.78.8-2.07 0-2.86zM5.41 20L4 18.59l7.72-7.72 1.47 1.35L5.41 20z\"/>\n",
              "  </svg>\n",
              "      </button>\n",
              "      \n",
              "  <style>\n",
              "    .colab-df-container {\n",
              "      display:flex;\n",
              "      flex-wrap:wrap;\n",
              "      gap: 12px;\n",
              "    }\n",
              "\n",
              "    .colab-df-convert {\n",
              "      background-color: #E8F0FE;\n",
              "      border: none;\n",
              "      border-radius: 50%;\n",
              "      cursor: pointer;\n",
              "      display: none;\n",
              "      fill: #1967D2;\n",
              "      height: 32px;\n",
              "      padding: 0 0 0 0;\n",
              "      width: 32px;\n",
              "    }\n",
              "\n",
              "    .colab-df-convert:hover {\n",
              "      background-color: #E2EBFA;\n",
              "      box-shadow: 0px 1px 2px rgba(60, 64, 67, 0.3), 0px 1px 3px 1px rgba(60, 64, 67, 0.15);\n",
              "      fill: #174EA6;\n",
              "    }\n",
              "\n",
              "    [theme=dark] .colab-df-convert {\n",
              "      background-color: #3B4455;\n",
              "      fill: #D2E3FC;\n",
              "    }\n",
              "\n",
              "    [theme=dark] .colab-df-convert:hover {\n",
              "      background-color: #434B5C;\n",
              "      box-shadow: 0px 1px 3px 1px rgba(0, 0, 0, 0.15);\n",
              "      filter: drop-shadow(0px 1px 2px rgba(0, 0, 0, 0.3));\n",
              "      fill: #FFFFFF;\n",
              "    }\n",
              "  </style>\n",
              "\n",
              "      <script>\n",
              "        const buttonEl =\n",
              "          document.querySelector('#df-f8f668af-8abc-45ee-bfbc-ef79e183c653 button.colab-df-convert');\n",
              "        buttonEl.style.display =\n",
              "          google.colab.kernel.accessAllowed ? 'block' : 'none';\n",
              "\n",
              "        async function convertToInteractive(key) {\n",
              "          const element = document.querySelector('#df-f8f668af-8abc-45ee-bfbc-ef79e183c653');\n",
              "          const dataTable =\n",
              "            await google.colab.kernel.invokeFunction('convertToInteractive',\n",
              "                                                     [key], {});\n",
              "          if (!dataTable) return;\n",
              "\n",
              "          const docLinkHtml = 'Like what you see? Visit the ' +\n",
              "            '<a target=\"_blank\" href=https://colab.research.google.com/notebooks/data_table.ipynb>data table notebook</a>'\n",
              "            + ' to learn more about interactive tables.';\n",
              "          element.innerHTML = '';\n",
              "          dataTable['output_type'] = 'display_data';\n",
              "          await google.colab.output.renderOutput(dataTable, element);\n",
              "          const docLink = document.createElement('div');\n",
              "          docLink.innerHTML = docLinkHtml;\n",
              "          element.appendChild(docLink);\n",
              "        }\n",
              "      </script>\n",
              "    </div>\n",
              "  </div>\n",
              "  "
            ]
          },
          "metadata": {},
          "execution_count": 6
        }
      ],
      "source": [
        "incsv = pd.read_csv('./data/newspapers-toy.csv')\n",
        "incsv.head()"
      ]
    },
    {
      "cell_type": "code",
      "execution_count": 9,
      "metadata": {
        "colab": {
          "base_uri": "https://localhost:8080/"
        },
        "id": "Yhul8-e5zA0l",
        "outputId": "ef524df0-1864-45c8-cf91-2443e21fc0bd"
      },
      "outputs": [
        {
          "output_type": "stream",
          "name": "stderr",
          "text": [
            "100%|██████████| 49/49 [00:09<00:00,  5.24it/s]\n"
          ]
        },
        {
          "output_type": "execute_result",
          "data": {
            "text/plain": [
              "['king',\n",
              " 'naple',\n",
              " 'letter',\n",
              " 'paris',\n",
              " 'assert',\n",
              " 'king',\n",
              " 'naple',\n",
              " 'transmit',\n",
              " 'unfavourable',\n",
              " 'reply']"
            ]
          },
          "metadata": {},
          "execution_count": 9
        }
      ],
      "source": [
        "sentences = []\n",
        "\n",
        "for sentence in tqdm(incsv['text']):\n",
        "    # create Spacy Doc object\n",
        "    doc = nlp(sentence.lower()) # lowercase first and convert sentence to spacy Doc object\n",
        "\n",
        "    # tokenize, lemmatize (.lemma_), remove stopwords (.is_stop) and punctuation (.isalpha())\n",
        "    tokenized_sentence = [token.lemma_ for token in doc if token.is_stop == False and token.text.isalpha() == True]\n",
        "    sentences.append(tokenized_sentence)\n",
        "\n",
        "sentences[0][0:10] # Show first sentence"
      ]
    },
    {
      "cell_type": "markdown",
      "metadata": {
        "id": "RvLTrOhZzA0l"
      },
      "source": [
        "We first initialize our Word2Vec model, i.e. we first simply define the skeleton of our model, without giving it data to learn from. In practical terms, this means pre-specifying the **parameters** which we want to use. \n",
        "\n",
        "There are many parameters one can specify, the full list of which is [here](https://radimrehurek.com/gensim/models/word2vec.html#gensim.models.word2vec.Word2Vec). \n",
        "\n",
        "However note that it's okay to start with the default ones (which you can find specified in the link just provided, e.g. min_count = 5), which correspond to the ones that were found by several studies to be optimal for many different tasks. \n",
        "\n",
        "Normally, it is good practice to find the **optimal parameters** for your model, or better still, for the purpose for which you plan to use your model. \n",
        "\n",
        "For example, a higher window of words, i.e. the parameter `window`, will make the model consider more words before and after each token when calculating the vector for each word in the corpus: this seems to lead the model to capture more semantic similarities/relationships, whereas a smaller window will tend to reflect similarities which are more syntactic in nature.\n"
      ]
    },
    {
      "cell_type": "code",
      "execution_count": 12,
      "metadata": {
        "id": "59Hx0Tm-zA0l"
      },
      "outputs": [],
      "source": [
        "w2v_model = Word2Vec(min_count=5, # how often a word should appear to be included\n",
        "                    window=5, # how many words before and after count as context\n",
        "                    sg=1, # SkipGram? 0 = False, 1 = True Else: CBoW. Note: Default is 0\n",
        "                    size=100) "
      ]
    },
    {
      "cell_type": "markdown",
      "metadata": {
        "id": "hl3XvycMzA0m"
      },
      "source": [
        "Building the vocabulary is an obligatory step:"
      ]
    },
    {
      "cell_type": "code",
      "execution_count": 13,
      "metadata": {
        "id": "KanyrdaMzA0m"
      },
      "outputs": [],
      "source": [
        "w2v_model.build_vocab(sentences) # Build vocabulary"
      ]
    },
    {
      "cell_type": "markdown",
      "metadata": {
        "id": "1B8-t3-LzA0m"
      },
      "source": [
        "We then train the model as follows:"
      ]
    },
    {
      "cell_type": "code",
      "execution_count": 14,
      "metadata": {
        "colab": {
          "base_uri": "https://localhost:8080/"
        },
        "id": "ynvC7RdyzA0m",
        "outputId": "d0db0a11-f4bb-4b2a-835b-872d35612995"
      },
      "outputs": [
        {
          "output_type": "execute_result",
          "data": {
            "text/plain": [
              "(54718, 97085)"
            ]
          },
          "metadata": {},
          "execution_count": 14
        }
      ],
      "source": [
        "w2v_model.train(sentences, \n",
        "                total_examples=w2v_model.corpus_count,\n",
        "                epochs=5)"
      ]
    },
    {
      "cell_type": "markdown",
      "metadata": {
        "id": "haIDuI-dzA0m"
      },
      "source": [
        "We will now save both the whole model and the vectors only. This is because, while a file containing only the vectors is easier to manage, saving the model as well allows you to update it in the future (e.g. to train it on more relevant sentences). Note: `binary=False` will simply save the vectors in non-binary format, which can take longer to store and process, but easier to deal with."
      ]
    },
    {
      "cell_type": "code",
      "source": [
        "!mkdir models"
      ],
      "metadata": {
        "id": "PisDNRCkzuH2"
      },
      "execution_count": 16,
      "outputs": []
    },
    {
      "cell_type": "code",
      "execution_count": 17,
      "metadata": {
        "id": "lM-ox6bOzA0m"
      },
      "outputs": [],
      "source": [
        "w2v_model.save(\"./models/test-model\") # Save the full model (in case we'd like to update it in the future)\n",
        "w2v_model.wv.save_word2vec_format('./models/test-model-vectors.txt', binary=False) # Also save the vectors only (easier to work with) - Not necessary, of course"
      ]
    },
    {
      "cell_type": "markdown",
      "metadata": {
        "id": "cbWcVurdzA0n"
      },
      "source": [
        "## Using a pretrained w2v model"
      ]
    },
    {
      "cell_type": "code",
      "execution_count": 18,
      "metadata": {
        "id": "YAq9DK6ezA0n"
      },
      "outputs": [],
      "source": [
        "from gensim.models import KeyedVectors\n",
        "from gensim.models import Word2Vec"
      ]
    },
    {
      "cell_type": "markdown",
      "metadata": {
        "id": "bxACA_lazA0n"
      },
      "source": [
        "The model we just trained was just a sample to give you an idea of what a complete pipeline is like, from preprocessing a corpus to training a word2vec model. It is obviously too small to actually play around with the vectors meaningfully.\n",
        "We now have a look at how to load a pretrained word2vec model (or pretrained vectors) to explore word similarity, analogy, and more."
      ]
    },
    {
      "cell_type": "markdown",
      "metadata": {
        "id": "KReC5EjJzA0n"
      },
      "source": [
        "Pre-trained models can come as full models, or just as a file containing pretrained vectors. Most pretrained models are vectors-only and full models are generally kept only if one may update the model at some point."
      ]
    },
    {
      "cell_type": "markdown",
      "metadata": {
        "id": "gyhRb-upzA0n"
      },
      "source": [
        "For example, to upload the full model saved in the previous section:"
      ]
    },
    {
      "cell_type": "code",
      "execution_count": 19,
      "metadata": {
        "id": "8SKLLgEJzA0n"
      },
      "outputs": [],
      "source": [
        "pretrained_model = Word2Vec.load('./models/test-model')"
      ]
    },
    {
      "cell_type": "markdown",
      "metadata": {
        "id": "oGNsD2jPzA0n"
      },
      "source": [
        "Then we can simply work on its vectors by 'isolating' the vectors in the following way (the result is a dictionary, where keys are words and the value are the vectors, in the form ['word': N1,...Nn, 'word2': N1,...Nn, 'word3': N1,...Nn, ...]):"
      ]
    },
    {
      "cell_type": "code",
      "execution_count": 20,
      "metadata": {
        "id": "r96UlsoxzA0n"
      },
      "outputs": [],
      "source": [
        "pretrained_vectors = pretrained_model.wv"
      ]
    },
    {
      "cell_type": "markdown",
      "metadata": {
        "id": "kK1Sn2CLzA0o"
      },
      "source": [
        "For example, to see the vector for the word '**man**', you use the same syntax you'd use to access any value for a given key in a dictionary:"
      ]
    },
    {
      "cell_type": "code",
      "execution_count": 21,
      "metadata": {
        "colab": {
          "base_uri": "https://localhost:8080/"
        },
        "id": "ZMrNPYWQzA0o",
        "outputId": "769ca570-fb2b-422e-df16-eae47484acda"
      },
      "outputs": [
        {
          "output_type": "execute_result",
          "data": {
            "text/plain": [
              "array([ 2.09236860e-01, -2.71806587e-02,  3.06005329e-01, -9.67985094e-02,\n",
              "       -2.24694550e-01,  2.24304032e-02,  1.18339702e-01, -1.11845806e-01,\n",
              "       -4.66841683e-02,  1.81940272e-01,  1.41676024e-01, -9.29971188e-02,\n",
              "        3.33774909e-02,  2.70322680e-01, -4.42186967e-02,  2.49679476e-01,\n",
              "       -1.48999989e-01,  1.47919416e-01, -2.40665257e-01,  1.20889492e-01,\n",
              "       -1.30515963e-01,  1.05933264e-01, -1.19716570e-01,  1.09978216e-02,\n",
              "       -9.49543118e-02, -1.11091651e-01, -8.04664269e-02,  1.17373474e-01,\n",
              "        2.22918242e-01,  7.73100555e-02,  1.07565820e-01, -4.01628241e-02,\n",
              "       -8.49419609e-02,  2.23676562e-01, -4.00340408e-02, -8.94719735e-02,\n",
              "        1.90959513e-01,  2.85519827e-02, -1.51361153e-01,  1.03467807e-01,\n",
              "       -7.73617178e-02,  6.48832740e-03, -4.26297635e-02,  2.30243996e-01,\n",
              "        1.01304077e-01, -1.29504412e-01,  2.82463171e-02,  1.48384906e-02,\n",
              "       -1.63604960e-01,  3.39543313e-01, -1.40146807e-01,  1.09858274e-01,\n",
              "        1.22079961e-02,  4.74553704e-02, -7.65605306e-04, -1.27867773e-01,\n",
              "        1.00502342e-01, -7.10601360e-02,  4.20676209e-02, -1.22125059e-01,\n",
              "        5.19997557e-04,  1.60544440e-01,  1.57421663e-01,  1.63049236e-01,\n",
              "       -2.13743970e-02,  1.12634532e-01,  7.40821473e-03, -2.08254810e-02,\n",
              "        1.64004993e-02,  9.17283446e-03, -2.39996091e-02,  1.40471354e-01,\n",
              "       -1.18654527e-01, -1.37501610e-02, -2.05475897e-01, -3.00634634e-02,\n",
              "       -6.07013889e-03, -6.32961467e-03, -1.33736387e-01,  5.15772663e-02,\n",
              "       -3.71947996e-02,  2.10881785e-01, -2.74503231e-02,  1.62327141e-01,\n",
              "        2.10709660e-03, -2.33138904e-01,  5.54021187e-02,  6.10121824e-05,\n",
              "       -1.16350345e-01, -2.00429603e-01, -4.60748859e-02, -1.62382141e-01,\n",
              "       -1.08405881e-01,  5.38628036e-03, -2.18900621e-01,  1.14704803e-01,\n",
              "        1.47664711e-01,  5.28682619e-02, -2.08888665e-01,  4.46545929e-02],\n",
              "      dtype=float32)"
            ]
          },
          "metadata": {},
          "execution_count": 21
        }
      ],
      "source": [
        "pretrained_vectors['man']"
      ]
    },
    {
      "cell_type": "markdown",
      "metadata": {
        "id": "-A_E8aKEzA0o"
      },
      "source": [
        "Of course, one vector alone is pretty useless. Word vectors make sense relatively to each other, so the above is just to show you how you can access the value (= vector) of a specific key (= a word) in your list of vectors."
      ]
    },
    {
      "cell_type": "markdown",
      "metadata": {
        "id": "stt3BycazA0o"
      },
      "source": [
        "If the word is not in the vocabulary you'll get an `Error`:"
      ]
    },
    {
      "cell_type": "code",
      "execution_count": 22,
      "metadata": {
        "colab": {
          "base_uri": "https://localhost:8080/",
          "height": 307
        },
        "id": "52WG0J_kzA0o",
        "outputId": "d0ebaf42-1e54-483f-9967-867907313588"
      },
      "outputs": [
        {
          "output_type": "error",
          "ename": "KeyError",
          "evalue": "ignored",
          "traceback": [
            "\u001b[0;31m---------------------------------------------------------------------------\u001b[0m",
            "\u001b[0;31mKeyError\u001b[0m                                  Traceback (most recent call last)",
            "\u001b[0;32m<ipython-input-22-a936269ac0a6>\u001b[0m in \u001b[0;36m<module>\u001b[0;34m()\u001b[0m\n\u001b[0;32m----> 1\u001b[0;31m \u001b[0mpretrained_vectors\u001b[0m\u001b[0;34m[\u001b[0m\u001b[0;34m'DHOxSS'\u001b[0m\u001b[0;34m]\u001b[0m \u001b[0;31m# not in vocabulary\u001b[0m\u001b[0;34m\u001b[0m\u001b[0;34m\u001b[0m\u001b[0m\n\u001b[0m",
            "\u001b[0;32m/usr/local/lib/python3.7/dist-packages/gensim/models/keyedvectors.py\u001b[0m in \u001b[0;36m__getitem__\u001b[0;34m(self, entities)\u001b[0m\n\u001b[1;32m    335\u001b[0m         \u001b[0;32mif\u001b[0m \u001b[0misinstance\u001b[0m\u001b[0;34m(\u001b[0m\u001b[0mentities\u001b[0m\u001b[0;34m,\u001b[0m \u001b[0mstring_types\u001b[0m\u001b[0;34m)\u001b[0m\u001b[0;34m:\u001b[0m\u001b[0;34m\u001b[0m\u001b[0;34m\u001b[0m\u001b[0m\n\u001b[1;32m    336\u001b[0m             \u001b[0;31m# allow calls like trained_model['office'], as a shorthand for trained_model[['office']]\u001b[0m\u001b[0;34m\u001b[0m\u001b[0;34m\u001b[0m\u001b[0;34m\u001b[0m\u001b[0m\n\u001b[0;32m--> 337\u001b[0;31m             \u001b[0;32mreturn\u001b[0m \u001b[0mself\u001b[0m\u001b[0;34m.\u001b[0m\u001b[0mget_vector\u001b[0m\u001b[0;34m(\u001b[0m\u001b[0mentities\u001b[0m\u001b[0;34m)\u001b[0m\u001b[0;34m\u001b[0m\u001b[0;34m\u001b[0m\u001b[0m\n\u001b[0m\u001b[1;32m    338\u001b[0m \u001b[0;34m\u001b[0m\u001b[0m\n\u001b[1;32m    339\u001b[0m         \u001b[0;32mreturn\u001b[0m \u001b[0mvstack\u001b[0m\u001b[0;34m(\u001b[0m\u001b[0;34m[\u001b[0m\u001b[0mself\u001b[0m\u001b[0;34m.\u001b[0m\u001b[0mget_vector\u001b[0m\u001b[0;34m(\u001b[0m\u001b[0mentity\u001b[0m\u001b[0;34m)\u001b[0m \u001b[0;32mfor\u001b[0m \u001b[0mentity\u001b[0m \u001b[0;32min\u001b[0m \u001b[0mentities\u001b[0m\u001b[0;34m]\u001b[0m\u001b[0;34m)\u001b[0m\u001b[0;34m\u001b[0m\u001b[0;34m\u001b[0m\u001b[0m\n",
            "\u001b[0;32m/usr/local/lib/python3.7/dist-packages/gensim/models/keyedvectors.py\u001b[0m in \u001b[0;36mget_vector\u001b[0;34m(self, word)\u001b[0m\n\u001b[1;32m    453\u001b[0m \u001b[0;34m\u001b[0m\u001b[0m\n\u001b[1;32m    454\u001b[0m     \u001b[0;32mdef\u001b[0m \u001b[0mget_vector\u001b[0m\u001b[0;34m(\u001b[0m\u001b[0mself\u001b[0m\u001b[0;34m,\u001b[0m \u001b[0mword\u001b[0m\u001b[0;34m)\u001b[0m\u001b[0;34m:\u001b[0m\u001b[0;34m\u001b[0m\u001b[0;34m\u001b[0m\u001b[0m\n\u001b[0;32m--> 455\u001b[0;31m         \u001b[0;32mreturn\u001b[0m \u001b[0mself\u001b[0m\u001b[0;34m.\u001b[0m\u001b[0mword_vec\u001b[0m\u001b[0;34m(\u001b[0m\u001b[0mword\u001b[0m\u001b[0;34m)\u001b[0m\u001b[0;34m\u001b[0m\u001b[0;34m\u001b[0m\u001b[0m\n\u001b[0m\u001b[1;32m    456\u001b[0m \u001b[0;34m\u001b[0m\u001b[0m\n\u001b[1;32m    457\u001b[0m     \u001b[0;32mdef\u001b[0m \u001b[0mwords_closer_than\u001b[0m\u001b[0;34m(\u001b[0m\u001b[0mself\u001b[0m\u001b[0;34m,\u001b[0m \u001b[0mw1\u001b[0m\u001b[0;34m,\u001b[0m \u001b[0mw2\u001b[0m\u001b[0;34m)\u001b[0m\u001b[0;34m:\u001b[0m\u001b[0;34m\u001b[0m\u001b[0;34m\u001b[0m\u001b[0m\n",
            "\u001b[0;32m/usr/local/lib/python3.7/dist-packages/gensim/models/keyedvectors.py\u001b[0m in \u001b[0;36mword_vec\u001b[0;34m(self, word, use_norm)\u001b[0m\n\u001b[1;32m    450\u001b[0m             \u001b[0;32mreturn\u001b[0m \u001b[0mresult\u001b[0m\u001b[0;34m\u001b[0m\u001b[0;34m\u001b[0m\u001b[0m\n\u001b[1;32m    451\u001b[0m         \u001b[0;32melse\u001b[0m\u001b[0;34m:\u001b[0m\u001b[0;34m\u001b[0m\u001b[0;34m\u001b[0m\u001b[0m\n\u001b[0;32m--> 452\u001b[0;31m             \u001b[0;32mraise\u001b[0m \u001b[0mKeyError\u001b[0m\u001b[0;34m(\u001b[0m\u001b[0;34m\"word '%s' not in vocabulary\"\u001b[0m \u001b[0;34m%\u001b[0m \u001b[0mword\u001b[0m\u001b[0;34m)\u001b[0m\u001b[0;34m\u001b[0m\u001b[0;34m\u001b[0m\u001b[0m\n\u001b[0m\u001b[1;32m    453\u001b[0m \u001b[0;34m\u001b[0m\u001b[0m\n\u001b[1;32m    454\u001b[0m     \u001b[0;32mdef\u001b[0m \u001b[0mget_vector\u001b[0m\u001b[0;34m(\u001b[0m\u001b[0mself\u001b[0m\u001b[0;34m,\u001b[0m \u001b[0mword\u001b[0m\u001b[0;34m)\u001b[0m\u001b[0;34m:\u001b[0m\u001b[0;34m\u001b[0m\u001b[0;34m\u001b[0m\u001b[0m\n",
            "\u001b[0;31mKeyError\u001b[0m: \"word 'DHOxSS' not in vocabulary\""
          ]
        }
      ],
      "source": [
        "pretrained_vectors['DHOxSS'] # not in vocabulary"
      ]
    },
    {
      "cell_type": "markdown",
      "metadata": {
        "id": "J7JPyMtgzA0o"
      },
      "source": [
        "To upload a file with vectors only, we use the `KeyedVectors` module from `gensim.models`, rather than the `Word2Vec` one:"
      ]
    },
    {
      "cell_type": "code",
      "execution_count": 23,
      "metadata": {
        "id": "uuki-Jp9zA0o"
      },
      "outputs": [],
      "source": [
        "pretrained_vectors = KeyedVectors.load_word2vec_format('./models/test-model-vectors.txt')"
      ]
    },
    {
      "cell_type": "markdown",
      "metadata": {
        "id": "SINjeBsHzA0o"
      },
      "source": [
        "To look at how word vectors can be used to explore similarity, we will use a slightly modified version of the English vectors released for the CoNLL-17 shared task (http://universaldependencies.org/conll17/data.html). This is because the (toy) model we just trained was way too small (only a very small sample from an OCR'd newspaper collection to show you what the whole pipeline from preprocessing to training is like).\n",
        "\n",
        "Many more (large enough) models can be found [here](https://fasttext.cc/docs/en/pretrained-vectors.html). It is hard to define when 'large' is large enough. As a (very) rough rule of thumb, perhaps **at least** around 500K words are necessary to train embeddings on corpora of a very specific style/genre/topic, and 2-4 million words for somewhat more diverse sources. Ultimately, there is no 'right' number, and perhaps more is not necessarily better (or maybe it is... depending on your corpus and its quality). A good read on the topic is [this one](https://aclanthology.org/W17-6908.pdf).\n",
        "\n",
        "Note that the choice of the model will have a huge impact on the results you will get, as the similarity/distance between word vectors will obviously reflect the content of the texts on which each model has been trained."
      ]
    },
    {
      "cell_type": "markdown",
      "metadata": {
        "id": "gL3rAaYUzA0o"
      },
      "source": [
        "First, load the vectors using `KeyedVectors` (this will take at least a minute):"
      ]
    },
    {
      "cell_type": "code",
      "source": [
        "!gdown --id 1fKeJTFF77vxl7f7QetJmrEXko9f1ASd1 \n",
        "!mv /content/conllu2017_vec.txt models"
      ],
      "metadata": {
        "colab": {
          "base_uri": "https://localhost:8080/"
        },
        "id": "fB8Q4GW1z2B6",
        "outputId": "aceec902-7ca7-4d78-97a8-5b8b12570a38"
      },
      "execution_count": 24,
      "outputs": [
        {
          "output_type": "stream",
          "name": "stdout",
          "text": [
            "/usr/local/lib/python3.7/dist-packages/gdown/cli.py:131: FutureWarning: Option `--id` was deprecated in version 4.3.1 and will be removed in 5.0. You don't need to pass it anymore to use a file ID.\n",
            "  category=FutureWarning,\n",
            "Downloading...\n",
            "From: https://drive.google.com/uc?id=1fKeJTFF77vxl7f7QetJmrEXko9f1ASd1\n",
            "To: /content/conllu2017_vec.txt\n",
            "100% 2.27G/2.27G [00:16<00:00, 138MB/s]\n"
          ]
        }
      ]
    },
    {
      "cell_type": "code",
      "execution_count": 25,
      "metadata": {
        "id": "tsJFSKTJzA0o"
      },
      "outputs": [],
      "source": [
        "pretrained_vectors = KeyedVectors.load_word2vec_format('./models/conllu2017_vec.txt')"
      ]
    },
    {
      "cell_type": "markdown",
      "metadata": {
        "id": "RgJC3OoRzA0p"
      },
      "source": [
        "Note that it took more than 2 minute to load our vectors. Naturally, the bigger the model, there longer it will take."
      ]
    },
    {
      "cell_type": "markdown",
      "metadata": {
        "id": "pJ1Kg_-lzA0p"
      },
      "source": [
        "### Simple similarity tasks"
      ]
    },
    {
      "cell_type": "markdown",
      "metadata": {
        "id": "aUQbYqGuzA0p"
      },
      "source": [
        "Based on the loaded `pretrained_vectors`, we can look at the _n_ most similar words to any word, provided the latter is in the vocabulary (if not, it will return an Error). The `gensim` method `.most_similar` will 'compute cosine similarity between a simple mean of the projection weight vectors of the given words and the vectors for each word in the model' ([source](https://tedboy.github.io/nlps/generated/generated/gensim.models.Word2Vec.most_similar.html)). So: there some maths behind, which you don't need to understand in detail to understand what follows - so don't worry!"
      ]
    },
    {
      "cell_type": "markdown",
      "metadata": {
        "id": "3cP5LNZVzA0p"
      },
      "source": [
        "Let's start with a simple example."
      ]
    },
    {
      "cell_type": "markdown",
      "metadata": {
        "id": "wd51SqukzA0p"
      },
      "source": [
        "Get the **10 most similar vectors** to the vector for '**worker**':"
      ]
    },
    {
      "cell_type": "code",
      "execution_count": 26,
      "metadata": {
        "colab": {
          "base_uri": "https://localhost:8080/"
        },
        "id": "1yAujHIUzA0p",
        "outputId": "ae505529-7572-4d53-cf80-e7299bbb91f4"
      },
      "outputs": [
        {
          "output_type": "execute_result",
          "data": {
            "text/plain": [
              "[('workers', 0.7571247816085815),\n",
              " ('employee', 0.7382051944732666),\n",
              " ('homeworker', 0.7167433500289917),\n",
              " ('dockworker', 0.7048863768577576),\n",
              " ('telecommutes', 0.7038429975509644),\n",
              " ('officerbusiness', 0.6980634927749634),\n",
              " ('steelworker', 0.6943268775939941),\n",
              " ('labor', 0.6942389011383057),\n",
              " ('longshoreman', 0.6885749697685242),\n",
              " ('housecleaner', 0.6831281781196594)]"
            ]
          },
          "metadata": {},
          "execution_count": 26
        }
      ],
      "source": [
        "pretrained_vectors.most_similar(positive='worker', topn=10)"
      ]
    },
    {
      "cell_type": "markdown",
      "metadata": {
        "id": "CB_CG6m0zA0p"
      },
      "source": [
        "> #### <u> **Exercise**! </u>\n",
        "> Try out the method `.most_similar` for yourself with your word of interest. Write your code below!"
      ]
    },
    {
      "cell_type": "code",
      "execution_count": 27,
      "metadata": {
        "id": "tdlP3g1-zA0p"
      },
      "outputs": [],
      "source": [
        "# Code here:\n",
        "\n"
      ]
    },
    {
      "cell_type": "markdown",
      "metadata": {
        "id": "w-Wny_yrzA0p"
      },
      "source": [
        "We can also combine multiple words as 'positives':"
      ]
    },
    {
      "cell_type": "code",
      "execution_count": 28,
      "metadata": {
        "colab": {
          "base_uri": "https://localhost:8080/"
        },
        "id": "603r-Yi1zA0p",
        "outputId": "53646849-2528-491a-f979-9ed03fb01bbf"
      },
      "outputs": [
        {
          "output_type": "execute_result",
          "data": {
            "text/plain": [
              "[('linguist', 0.780577540397644),\n",
              " ('syntactician', 0.7737579941749573),\n",
              " ('lincos', 0.7687979936599731),\n",
              " ('prlwytzkofsky', 0.7548373937606812),\n",
              " ('hyperpolyglot', 0.751720130443573),\n",
              " ('lingustics', 0.7514796257019043),\n",
              " ('phonologist', 0.7513543367385864),\n",
              " ('researcher', 0.7505961060523987),\n",
              " ('linguistics', 0.7487590909004211),\n",
              " ('ameslan', 0.747480034828186)]"
            ]
          },
          "metadata": {},
          "execution_count": 28
        }
      ],
      "source": [
        "pretrained_vectors.most_similar(positive=['scientist','language'], topn=10)"
      ]
    },
    {
      "cell_type": "markdown",
      "metadata": {
        "id": "vchxz5mFzA0p"
      },
      "source": [
        "> #### <u> **Exercise**! </u>\n",
        "> Try out the method `.most_similar` combining multiple words of your interest. Write your code below!"
      ]
    },
    {
      "cell_type": "code",
      "execution_count": 29,
      "metadata": {
        "id": "tTwVpZM8zA0p"
      },
      "outputs": [],
      "source": [
        "# Code here:\n",
        "\n"
      ]
    },
    {
      "cell_type": "markdown",
      "metadata": {
        "id": "tN3oYhSUzA0q"
      },
      "source": [
        "Check and compare the similarity between words:"
      ]
    },
    {
      "cell_type": "code",
      "execution_count": 30,
      "metadata": {
        "colab": {
          "base_uri": "https://localhost:8080/"
        },
        "id": "mIsdQmLBzA0q",
        "outputId": "6e66cae3-76d8-4e02-a033-6769e36b96b0"
      },
      "outputs": [
        {
          "output_type": "execute_result",
          "data": {
            "text/plain": [
              "0.80292577"
            ]
          },
          "metadata": {},
          "execution_count": 30
        }
      ],
      "source": [
        "pretrained_vectors.similarity('king', 'queen')"
      ]
    },
    {
      "cell_type": "code",
      "execution_count": 31,
      "metadata": {
        "colab": {
          "base_uri": "https://localhost:8080/"
        },
        "id": "8tvlSZbAzA0q",
        "outputId": "8c0940c1-9523-4d39-ed83-8023ffb38b89"
      },
      "outputs": [
        {
          "output_type": "execute_result",
          "data": {
            "text/plain": [
              "0.77318037"
            ]
          },
          "metadata": {},
          "execution_count": 31
        }
      ],
      "source": [
        "pretrained_vectors.similarity('king', 'prince')"
      ]
    },
    {
      "cell_type": "code",
      "execution_count": 32,
      "metadata": {
        "colab": {
          "base_uri": "https://localhost:8080/"
        },
        "id": "2wIuUm-4zA0q",
        "outputId": "942e9bbd-7978-4d4c-8221-713cfb8ef185"
      },
      "outputs": [
        {
          "output_type": "execute_result",
          "data": {
            "text/plain": [
              "0.7680678"
            ]
          },
          "metadata": {},
          "execution_count": 32
        }
      ],
      "source": [
        "pretrained_vectors.similarity('queen', 'princess')"
      ]
    },
    {
      "cell_type": "code",
      "execution_count": 33,
      "metadata": {
        "colab": {
          "base_uri": "https://localhost:8080/"
        },
        "id": "8VIqQFDTzA0q",
        "outputId": "b590119e-cb18-4808-e5d5-d9754700586c"
      },
      "outputs": [
        {
          "output_type": "execute_result",
          "data": {
            "text/plain": [
              "0.73086464"
            ]
          },
          "metadata": {},
          "execution_count": 33
        }
      ],
      "source": [
        "pretrained_vectors.similarity('queen', 'prince')"
      ]
    },
    {
      "cell_type": "code",
      "execution_count": 34,
      "metadata": {
        "colab": {
          "base_uri": "https://localhost:8080/"
        },
        "id": "ir6Fave-zA0q",
        "outputId": "51a53d9c-189b-43af-a3f6-45d64411bf94"
      },
      "outputs": [
        {
          "output_type": "execute_result",
          "data": {
            "text/plain": [
              "0.61721843"
            ]
          },
          "metadata": {},
          "execution_count": 34
        }
      ],
      "source": [
        "pretrained_vectors.similarity('king', 'princess')"
      ]
    },
    {
      "cell_type": "code",
      "execution_count": 35,
      "metadata": {
        "colab": {
          "base_uri": "https://localhost:8080/"
        },
        "id": "iB8L0jtSzA0q",
        "outputId": "bd367963-6417-49cf-9a1c-c7e199596f30"
      },
      "outputs": [
        {
          "output_type": "execute_result",
          "data": {
            "text/plain": [
              "0.22277841"
            ]
          },
          "metadata": {},
          "execution_count": 35
        }
      ],
      "source": [
        "pretrained_vectors.similarity('king', 'apple')"
      ]
    },
    {
      "cell_type": "markdown",
      "metadata": {
        "id": "dvN1WKG5zA0q"
      },
      "source": [
        "Check if the model can find the intruder:"
      ]
    },
    {
      "cell_type": "code",
      "execution_count": 71,
      "metadata": {
        "colab": {
          "base_uri": "https://localhost:8080/",
          "height": 91
        },
        "id": "dbZ_RuoWzA0q",
        "outputId": "25e84e2b-a5ef-4084-d85c-630f1da80740"
      },
      "outputs": [
        {
          "output_type": "stream",
          "name": "stderr",
          "text": [
            "/usr/local/lib/python3.7/dist-packages/gensim/models/keyedvectors.py:895: FutureWarning: arrays to stack must be passed as a \"sequence\" type such as list or tuple. Support for non-sequence iterables such as generators is deprecated as of NumPy 1.16 and will raise an error in the future.\n",
            "  vectors = vstack(self.word_vec(word, use_norm=True) for word in used_words).astype(REAL)\n"
          ]
        },
        {
          "output_type": "execute_result",
          "data": {
            "text/plain": [
              "'cat'"
            ],
            "application/vnd.google.colaboratory.intrinsic+json": {
              "type": "string"
            }
          },
          "metadata": {},
          "execution_count": 71
        }
      ],
      "source": [
        "pretrained_vectors.doesnt_match(['apple','peach','pear','pineapple','cat'])"
      ]
    },
    {
      "cell_type": "markdown",
      "metadata": {
        "id": "tPovrc3EzA0q"
      },
      "source": [
        "We can also try and put the model to test by giving a list with more subtle differences:"
      ]
    },
    {
      "cell_type": "code",
      "execution_count": 62,
      "metadata": {
        "colab": {
          "base_uri": "https://localhost:8080/",
          "height": 91
        },
        "id": "s9wkpX0EzA0r",
        "outputId": "61e2c6c8-6691-41f1-c8bf-a7f78a5862bf"
      },
      "outputs": [
        {
          "output_type": "stream",
          "name": "stderr",
          "text": [
            "/usr/local/lib/python3.7/dist-packages/gensim/models/keyedvectors.py:895: FutureWarning: arrays to stack must be passed as a \"sequence\" type such as list or tuple. Support for non-sequence iterables such as generators is deprecated as of NumPy 1.16 and will raise an error in the future.\n",
            "  vectors = vstack(self.word_vec(word, use_norm=True) for word in used_words).astype(REAL)\n"
          ]
        },
        {
          "output_type": "execute_result",
          "data": {
            "text/plain": [
              "'uncle'"
            ],
            "application/vnd.google.colaboratory.intrinsic+json": {
              "type": "string"
            }
          },
          "metadata": {},
          "execution_count": 62
        }
      ],
      "source": [
        "pretrained_vectors.doesnt_match(['mother','father','uncle','daughter','son'])"
      ]
    },
    {
      "cell_type": "markdown",
      "metadata": {
        "id": "YO-EojcszA0r"
      },
      "source": [
        "Or:"
      ]
    },
    {
      "cell_type": "code",
      "execution_count": 38,
      "metadata": {
        "colab": {
          "base_uri": "https://localhost:8080/",
          "height": 91
        },
        "id": "KKY1Gm4MzA0r",
        "outputId": "f4412acc-66eb-4005-85af-3c340e634e57"
      },
      "outputs": [
        {
          "output_type": "stream",
          "name": "stderr",
          "text": [
            "/usr/local/lib/python3.7/dist-packages/gensim/models/keyedvectors.py:895: FutureWarning: arrays to stack must be passed as a \"sequence\" type such as list or tuple. Support for non-sequence iterables such as generators is deprecated as of NumPy 1.16 and will raise an error in the future.\n",
            "  vectors = vstack(self.word_vec(word, use_norm=True) for word in used_words).astype(REAL)\n"
          ]
        },
        {
          "output_type": "execute_result",
          "data": {
            "text/plain": [
              "'president'"
            ],
            "application/vnd.google.colaboratory.intrinsic+json": {
              "type": "string"
            }
          },
          "metadata": {},
          "execution_count": 38
        }
      ],
      "source": [
        "pretrained_vectors.doesnt_match(['king','queen','president','prince','princess','duke','duchess'])"
      ]
    },
    {
      "cell_type": "markdown",
      "metadata": {
        "id": "lE0rSC2VzA0r"
      },
      "source": [
        "> #### <u> **Exercise**! </u>\n",
        "> Try out the `.doesnt_match` method with your own set of words. Perhaps try putting to test words that have more subtle differences and see if the result from the model agrees with your own intuition. Code below! "
      ]
    },
    {
      "cell_type": "code",
      "execution_count": 39,
      "metadata": {
        "id": "wxyKJwc5zA0r"
      },
      "outputs": [],
      "source": [
        "# Code here:\n",
        "\n"
      ]
    },
    {
      "cell_type": "markdown",
      "metadata": {
        "id": "uTOYBmTRzA0r"
      },
      "source": [
        "### Word vectors, axes and interpreting distances"
      ]
    },
    {
      "cell_type": "markdown",
      "metadata": {
        "id": "rjVMS-6fzA0r"
      },
      "source": [
        "When we calculate the cosine similarity between word vectors, behind the scene we are actually using a function that ranks words relatively to one another depending on the size of the angle between any given word vector and each of the others.\n",
        "\n",
        "The angle is based on the **direction** of the vector only, and it's calculated on the basis of the axes that have 0 as their centre. \n",
        "\n",
        "But vectors also have **magnitude** (essentially, a specific length), which sets the maximum value at various distances from 0. \n",
        "\n",
        "The (Euclidean) distance between these values for each words can also tell us something in itself. Let's look at some concrete examples."
      ]
    },
    {
      "cell_type": "markdown",
      "metadata": {
        "id": "e7rV3i_8zA0r"
      },
      "source": [
        "We will need some tools to visualize the vectors as arrows and points, as well as some tools to work with arrays and to calculate the (Euclidean) distance between points. \n",
        "\n",
        "> Don't worry about the details here, this is just to make the concept of word vectors more intuitive through visualization."
      ]
    },
    {
      "cell_type": "code",
      "execution_count": 40,
      "metadata": {
        "id": "I1RXodIBzA0r"
      },
      "outputs": [],
      "source": [
        "from scipy.spatial import distance\n",
        "import numpy as np\n",
        "from matplotlib import pyplot as plt"
      ]
    },
    {
      "cell_type": "markdown",
      "metadata": {
        "id": "Qs4pBuc9zA0s"
      },
      "source": [
        "Visualize the vectors for `king`, `queen`, `man` and `woman`:"
      ]
    },
    {
      "cell_type": "code",
      "execution_count": 46,
      "metadata": {
        "colab": {
          "base_uri": "https://localhost:8080/",
          "height": 592
        },
        "id": "5IQiYMIxzA0s",
        "outputId": "62e6f83b-dda3-4221-a6cf-ef45dea4945f"
      },
      "outputs": [
        {
          "output_type": "display_data",
          "data": {
            "text/plain": [
              "<Figure size 720x720 with 1 Axes>"
            ],
            "image/png": "[encoded data removed]"
          },
          "metadata": {
            "needs_background": "light"
          }
        }
      ],
      "source": [
        "words = ['queen', 'king', 'woman', 'man']\n",
        "embeddings = np.array([pretrained_vectors[word] for word in words]) # Convert each word to its vector representation\n",
        " \n",
        "fig, ax = plt.subplots(figsize = (10, 10)) # Create custom size image\n",
        " \n",
        "# Represent each vector as arrow (origin is 0)\n",
        "for word in embeddings:\n",
        "    ax.arrow(0, 0, word[0], word[1])\n",
        "     \n",
        "queen = pretrained_vectors['queen']\n",
        "king = pretrained_vectors['king']\n",
        "woman = pretrained_vectors['woman']\n",
        "man = pretrained_vectors['man']\n",
        "\n",
        "# Print additional arrows (different color), representing euclidean distance between max(vector)\n",
        "ax.arrow(queen[0], queen[1], distance.euclidean(woman[0],queen[0]), distance.euclidean(woman[1],queen[1]), fc='b', ec='b')\n",
        "ax.arrow(king[0], king[1], distance.euclidean(man[0],king[0]), distance.euclidean(man[1],king[1]), fc='b', ec='b')\n",
        "\n",
        "# Plot a dot for each word\n",
        "ax.scatter(embeddings[:, 0], embeddings[:, 1])\n",
        " \n",
        "# Add label to dots\n",
        "for i in range(0, len(words)):\n",
        "    ax.annotate(words[i], (embeddings[i, 0], embeddings[i, 1]))"
      ]
    },
    {
      "cell_type": "markdown",
      "metadata": {
        "id": "hPczTiYKzA0s"
      },
      "source": [
        "As you can see, the angles are smaller between king and queen, and between man and woman, but we can also see that the relationship between king and man is very similar (in length and direction represented by the blue arrow) to that between queen and woman, respectively. This suggests that there's a similar type of relationship between these words in pair, which tells us something different from the cosine similarity."
      ]
    },
    {
      "cell_type": "markdown",
      "metadata": {
        "id": "bjpwaYXazA0s"
      },
      "source": [
        "Let's see another example.\n",
        "Visualize the vectors for `paris`,`london`,`france` and `england` (two capitals and their country/state):"
      ]
    },
    {
      "cell_type": "code",
      "execution_count": 42,
      "metadata": {
        "colab": {
          "base_uri": "https://localhost:8080/",
          "height": 592
        },
        "id": "ElFo54smzA0s",
        "outputId": "be2d00f3-a5b6-466b-8049-76ab2f385751"
      },
      "outputs": [
        {
          "output_type": "display_data",
          "data": {
            "text/plain": [
              "<Figure size 720x720 with 1 Axes>"
            ],
            "image/png": "[encoded data removed]"
          },
          "metadata": {
            "needs_background": "light"
          }
        }
      ],
      "source": [
        "words = ['paris', 'london', 'france', 'england']\n",
        "\n",
        "embeddings = np.array([pretrained_vectors[word] for word in words]) # Convert each word to its vector representation\n",
        " \n",
        "fig, ax = plt.subplots(figsize = (10, 10)) # Create custom size image\n",
        " \n",
        "# Represent each vector as arrow (origin is 0)\n",
        "for word in embeddings:\n",
        "    ax.arrow(0, 0, word[0], word[1]) # take \n",
        "\n",
        "paris = pretrained_vectors['paris']\n",
        "london = pretrained_vectors['london']\n",
        "france = pretrained_vectors['france']\n",
        "england = pretrained_vectors['england']\n",
        "\n",
        "# Print additional arrows (different color), representing euclidean distance between max(vector)\n",
        "ax.arrow(paris[0], paris[1], -distance.euclidean(london[0],paris[0]), distance.euclidean(london[1],paris[1]), fc='b', ec='b')\n",
        "ax.arrow(france[0], france[1], -distance.euclidean(england[0],france[0]), distance.euclidean(england[1],france[1]), fc='b', ec='b')\n",
        "\n",
        "# Plot a dot for each word\n",
        "ax.scatter(embeddings[:, 0], embeddings[:, 1])\n",
        " \n",
        "# Add label to dots\n",
        "for i in range(0, len(words)):\n",
        "    ax.annotate(words[i], (embeddings[i, 0], embeddings[i, 1]))\n",
        " "
      ]
    },
    {
      "cell_type": "markdown",
      "metadata": {
        "id": "GZiDy22fzA0s"
      },
      "source": [
        "Likewise, we see a similar situation here, even with much more evident differences between angles."
      ]
    },
    {
      "cell_type": "markdown",
      "metadata": {
        "id": "pOuXh7rqzA0s"
      },
      "source": [
        "### Vector Arithmetics"
      ]
    },
    {
      "cell_type": "markdown",
      "metadata": {
        "id": "lapH6UXQzA0s"
      },
      "source": [
        "Since word vectors are vectors (duh!), we can do maths with them and get interesting results."
      ]
    },
    {
      "cell_type": "markdown",
      "metadata": {
        "id": "o03JHEctzA0s"
      },
      "source": [
        "A classic: what word is to _woman_ the way _king_ is to _man_? We can try to figure this out by simple additions and subtractions:\n",
        "\n",
        "`woman + king - man = ?`"
      ]
    },
    {
      "cell_type": "code",
      "execution_count": 47,
      "metadata": {
        "colab": {
          "base_uri": "https://localhost:8080/"
        },
        "id": "6FY74XjFzA0t",
        "outputId": "6fb07c1a-3cd3-40f2-e761-e5abab754a64"
      },
      "outputs": [
        {
          "output_type": "execute_result",
          "data": {
            "text/plain": [
              "[('queen', 0.8487650156021118),\n",
              " ('empress', 0.7449749112129211),\n",
              " ('debsirindra', 0.7424888610839844),\n",
              " ('supayalat', 0.7306721806526184),\n",
              " ('sambiria', 0.7245728969573975),\n",
              " ('stepgrandmother', 0.7228910326957703),\n",
              " ('miahuaxihuitl', 0.7212315201759338),\n",
              " ('duchess', 0.7206603288650513),\n",
              " ('regnant', 0.7181839942932129),\n",
              " ('savarindira', 0.7181787490844727)]"
            ]
          },
          "metadata": {},
          "execution_count": 47
        }
      ],
      "source": [
        "pretrained_vectors.most_similar(positive=['woman', 'king'], negative=['man'], topn=10)"
      ]
    },
    {
      "cell_type": "markdown",
      "metadata": {
        "id": "2B9vcn_SzA0t"
      },
      "source": [
        "Or specularly:\n",
        "\n",
        "`man + queen - woman = ?`"
      ]
    },
    {
      "cell_type": "code",
      "execution_count": 48,
      "metadata": {
        "colab": {
          "base_uri": "https://localhost:8080/"
        },
        "id": "R5cQ1kqVzA0t",
        "outputId": "44591618-a49d-4cdf-86dc-a424591d4964"
      },
      "outputs": [
        {
          "output_type": "execute_result",
          "data": {
            "text/plain": [
              "[('king', 0.8417702317237854),\n",
              " ('crominus', 0.73011714220047),\n",
              " ('andreenos', 0.7160046696662903),\n",
              " ('escargoon', 0.7126416563987732),\n",
              " ('brahmwell', 0.7118674516677856),\n",
              " ('jaehaerys', 0.7043218612670898),\n",
              " ('xorbb', 0.7037889957427979),\n",
              " ('helmaroc', 0.7033290863037109),\n",
              " ('sectonia', 0.7028912901878357),\n",
              " ('matchingham', 0.6984614729881287)]"
            ]
          },
          "metadata": {},
          "execution_count": 48
        }
      ],
      "source": [
        "pretrained_vectors.most_similar(positive=['man', 'queen'], negative=['woman'], topn=10)"
      ]
    },
    {
      "cell_type": "markdown",
      "metadata": {
        "id": "8yEqr9SxzA0t"
      },
      "source": [
        "This method is often used to find analogies. What is to Paris the way England is to London? Or:\n",
        "\n",
        "`paris + england - london = ?`"
      ]
    },
    {
      "cell_type": "code",
      "execution_count": 49,
      "metadata": {
        "colab": {
          "base_uri": "https://localhost:8080/"
        },
        "id": "GI7RiG-UzA0t",
        "outputId": "5a47eaa9-3203-44b9-879d-b511c33687e9"
      },
      "outputs": [
        {
          "output_type": "execute_result",
          "data": {
            "text/plain": [
              "[('france', 0.856590211391449),\n",
              " ('provence', 0.7728176712989807),\n",
              " ('auvergne', 0.7568833827972412),\n",
              " ('toulouse', 0.7528023719787598),\n",
              " ('rouen', 0.7494249939918518),\n",
              " ('poitou', 0.7488312721252441),\n",
              " ('marseille', 0.743456244468689),\n",
              " ('fontainebleau', 0.7395410537719727),\n",
              " ('nantes', 0.7389647960662842),\n",
              " ('perpignan', 0.7357031106948853)]"
            ]
          },
          "metadata": {},
          "execution_count": 49
        }
      ],
      "source": [
        "pretrained_vectors.most_similar(positive=['paris', 'england'], negative=['london'])"
      ]
    },
    {
      "cell_type": "markdown",
      "metadata": {
        "id": "kGWYUW8AzA0t"
      },
      "source": [
        "### Bias in word embeddings"
      ]
    },
    {
      "cell_type": "markdown",
      "metadata": {
        "id": "emBp3zsyzA0t"
      },
      "source": [
        "Some of the tasks above involved finding the 'intruder' among terms which are inherently gendered ('uncle', 'daughter', etc.), or finding the vectors closest to the vectors for gendered terms like 'queen' and 'king'. The corpus (and the language, English) contains gender-neutral terms, such as **worker**, **nurse**, **teacher**, **politician**, **beautiful**, **bold**, or **sassy**, which however tend to be heavily stereotyped and associated with specific gender roles in many societies. \n",
        "\n",
        "Depending on the the texts the vectors have been trained on, the respective vectors tend to <u>**reflect the bias they have acquired in the natural language**</u> as is represented in the corpus. Bias, of course, can be reflected across several variables (sexual orientation, ethnicity, political leaning, etc.).  \n",
        "\n",
        "Depending on the task, **this can be an important ethical issue**: it may not be if your model is meant to capture the semantics of words from a specific historical period, but it may be so if the vectors are used to improve certain recommendation systems, for example."
      ]
    },
    {
      "cell_type": "markdown",
      "metadata": {
        "id": "OJHUCN8MzA0t"
      },
      "source": [
        "\n",
        "Consider the following:\n",
        "\n",
        "`? : woman = worker : man` \n",
        "\n",
        "or \n",
        "\n",
        "`woman + worker - man = ?`"
      ]
    },
    {
      "cell_type": "code",
      "execution_count": 50,
      "metadata": {
        "colab": {
          "base_uri": "https://localhost:8080/"
        },
        "id": "X-dX1oUGzA0t",
        "outputId": "d4b24f7a-d485-4d59-d82c-4ec01f5d856c"
      },
      "outputs": [
        {
          "output_type": "execute_result",
          "data": {
            "text/plain": [
              "[('workers', 0.6492294073104858),\n",
              " ('motherwoman', 0.6449024677276611),\n",
              " ('caseworker', 0.640127420425415),\n",
              " ('nurse', 0.6392773389816284),\n",
              " ('employee', 0.637171745300293),\n",
              " ('telecommutes', 0.6279697418212891),\n",
              " ('unwed', 0.6266779899597168),\n",
              " ('workersa', 0.6244110465049744),\n",
              " ('homeworker', 0.6227539777755737),\n",
              " ('housecleaner', 0.6208513975143433)]"
            ]
          },
          "metadata": {},
          "execution_count": 50
        }
      ],
      "source": [
        "pretrained_vectors.most_similar(positive=['woman', 'worker'], negative=['man'], topn=10)"
      ]
    },
    {
      "cell_type": "markdown",
      "metadata": {
        "id": "O6_ddQBrzA0t"
      },
      "source": [
        "However consider:\n",
        "\n",
        "`? : man = worker : woman` \n",
        "\n",
        "or:  \n",
        "\n",
        "`man + worker - woman = ?`"
      ]
    },
    {
      "cell_type": "code",
      "execution_count": 51,
      "metadata": {
        "colab": {
          "base_uri": "https://localhost:8080/"
        },
        "id": "WYKkFYWXzA0t",
        "outputId": "259de8bc-61fc-4d7e-e1b1-0f2388ed72af"
      },
      "outputs": [
        {
          "output_type": "execute_result",
          "data": {
            "text/plain": [
              "[('ironworker', 0.6725612282752991),\n",
              " ('dockworker', 0.6585700511932373),\n",
              " ('bricklayer', 0.6503816843032837),\n",
              " ('steelworker', 0.6491498947143555),\n",
              " ('longshoreman', 0.6489928364753723),\n",
              " ('drywaller', 0.6425918340682983),\n",
              " ('deskill', 0.6412477493286133),\n",
              " ('pipefitter', 0.6402950882911682),\n",
              " ('roofer', 0.6380863189697266),\n",
              " ('workers', 0.6370002031326294)]"
            ]
          },
          "metadata": {},
          "execution_count": 51
        }
      ],
      "source": [
        "pretrained_vectors.most_similar(positive=['man', 'worker'], negative=['woman'], topn=10)"
      ]
    },
    {
      "cell_type": "markdown",
      "metadata": {
        "id": "RrZGbxVBzA0t"
      },
      "source": [
        "Do you notice clear bias?"
      ]
    },
    {
      "cell_type": "markdown",
      "metadata": {
        "id": "HEFmGiSTzA0t"
      },
      "source": [
        "> #### <u> **Exercise**! </u>\n",
        "> Can think about another analogy, which there may be (gender, cultural, political, etc.) bias involved? Write your code below!"
      ]
    },
    {
      "cell_type": "code",
      "execution_count": 53,
      "metadata": {
        "id": "eXjhuACmzA0u"
      },
      "outputs": [],
      "source": [
        "# Add your code here:\n",
        "\n",
        "\n",
        "\n"
      ]
    },
    {
      "cell_type": "markdown",
      "metadata": {
        "id": "4GSNQsPqzA0u"
      },
      "source": [
        "### A more complex case study on gender bias among word vectors"
      ]
    },
    {
      "cell_type": "markdown",
      "metadata": {
        "id": "rQvehz-izA0u"
      },
      "source": [
        "We will now attempt a slightly more complex example of 'bias detection' among word embeddings.\n",
        "This will include steps which are perhaps a bit too advanced for the moment, but try and follow along as best as you can, understanding the major steps. "
      ]
    },
    {
      "cell_type": "markdown",
      "metadata": {
        "id": "eqbZ8af0zA0u"
      },
      "source": [
        "*We* will start by importing `matplotlib`, which we already used to visualize vectors above, and the `PCA` function from the `sklearn` library. PCA stands for **Principal Component Analysis** and it's commonly used as one of the many methods for 'dimensionality reduction', which is used to project each word vector (which generally have 100, 200 or more 'dimensions') onto only the first few principal 'components', so that we obtain lower-dimensional data but preserving as much of the data's variation as possible."
      ]
    },
    {
      "cell_type": "code",
      "execution_count": 54,
      "metadata": {
        "id": "xrvSgDAMzA0u"
      },
      "outputs": [],
      "source": [
        "from sklearn.decomposition import PCA\n",
        "import matplotlib.pyplot as plt"
      ]
    },
    {
      "cell_type": "markdown",
      "metadata": {
        "id": "41_Z_X1yzA0u"
      },
      "source": [
        "We first apply PCA to the whole vocabulary in our model and create a dataframe from it:"
      ]
    },
    {
      "cell_type": "code",
      "execution_count": 56,
      "metadata": {
        "colab": {
          "base_uri": "https://localhost:8080/",
          "height": 204
        },
        "id": "E8KWh3HhzA0u",
        "outputId": "db72aeec-cd3b-4ba8-8039-00a9be44e238"
      },
      "outputs": [
        {
          "output_type": "execute_result",
          "data": {
            "text/plain": [
              "            0         1\n",
              "the -0.078266 -0.690655\n",
              "of  -0.127775 -0.626273\n",
              "and -0.058691 -0.708553\n",
              "to   0.194071 -0.983273\n",
              "a    0.069331 -0.720737"
            ],
            "text/html": [
              "\n",
              "  <div id=\"df-fdcb4b27-2d81-4b9e-82c7-d78414d6b5d1\">\n",
              "    <div class=\"colab-df-container\">\n",
              "      <div>\n",
              "<style scoped>\n",
              "    .dataframe tbody tr th:only-of-type {\n",
              "        vertical-align: middle;\n",
              "    }\n",
              "\n",
              "    .dataframe tbody tr th {\n",
              "        vertical-align: top;\n",
              "    }\n",
              "\n",
              "    .dataframe thead th {\n",
              "        text-align: right;\n",
              "    }\n",
              "</style>\n",
              "<table border=\"1\" class=\"dataframe\">\n",
              "  <thead>\n",
              "    <tr style=\"text-align: right;\">\n",
              "      <th></th>\n",
              "      <th>0</th>\n",
              "      <th>1</th>\n",
              "    </tr>\n",
              "  </thead>\n",
              "  <tbody>\n",
              "    <tr>\n",
              "      <th>the</th>\n",
              "      <td>-0.078266</td>\n",
              "      <td>-0.690655</td>\n",
              "    </tr>\n",
              "    <tr>\n",
              "      <th>of</th>\n",
              "      <td>-0.127775</td>\n",
              "      <td>-0.626273</td>\n",
              "    </tr>\n",
              "    <tr>\n",
              "      <th>and</th>\n",
              "      <td>-0.058691</td>\n",
              "      <td>-0.708553</td>\n",
              "    </tr>\n",
              "    <tr>\n",
              "      <th>to</th>\n",
              "      <td>0.194071</td>\n",
              "      <td>-0.983273</td>\n",
              "    </tr>\n",
              "    <tr>\n",
              "      <th>a</th>\n",
              "      <td>0.069331</td>\n",
              "      <td>-0.720737</td>\n",
              "    </tr>\n",
              "  </tbody>\n",
              "</table>\n",
              "</div>\n",
              "      <button class=\"colab-df-convert\" onclick=\"convertToInteractive('df-fdcb4b27-2d81-4b9e-82c7-d78414d6b5d1')\"\n",
              "              title=\"Convert this dataframe to an interactive table.\"\n",
              "              style=\"display:none;\">\n",
              "        \n",
              "  <svg xmlns=\"http://www.w3.org/2000/svg\" height=\"24px\"viewBox=\"0 0 24 24\"\n",
              "       width=\"24px\">\n",
              "    <path d=\"M0 0h24v24H0V0z\" fill=\"none\"/>\n",
              "    <path d=\"M18.56 5.44l.94 2.06.94-2.06 2.06-.94-2.06-.94-.94-2.06-.94 2.06-2.06.94zm-11 1L8.5 8.5l.94-2.06 2.06-.94-2.06-.94L8.5 2.5l-.94 2.06-2.06.94zm10 10l.94 2.06.94-2.06 2.06-.94-2.06-.94-.94-2.06-.94 2.06-2.06.94z\"/><path d=\"M17.41 7.96l-1.37-1.37c-.4-.4-.92-.59-1.43-.59-.52 0-1.04.2-1.43.59L10.3 9.45l-7.72 7.72c-.78.78-.78 2.05 0 2.83L4 21.41c.39.39.9.59 1.41.59.51 0 1.02-.2 1.41-.59l7.78-7.78 2.81-2.81c.8-.78.8-2.07 0-2.86zM5.41 20L4 18.59l7.72-7.72 1.47 1.35L5.41 20z\"/>\n",
              "  </svg>\n",
              "      </button>\n",
              "      \n",
              "  <style>\n",
              "    .colab-df-container {\n",
              "      display:flex;\n",
              "      flex-wrap:wrap;\n",
              "      gap: 12px;\n",
              "    }\n",
              "\n",
              "    .colab-df-convert {\n",
              "      background-color: #E8F0FE;\n",
              "      border: none;\n",
              "      border-radius: 50%;\n",
              "      cursor: pointer;\n",
              "      display: none;\n",
              "      fill: #1967D2;\n",
              "      height: 32px;\n",
              "      padding: 0 0 0 0;\n",
              "      width: 32px;\n",
              "    }\n",
              "\n",
              "    .colab-df-convert:hover {\n",
              "      background-color: #E2EBFA;\n",
              "      box-shadow: 0px 1px 2px rgba(60, 64, 67, 0.3), 0px 1px 3px 1px rgba(60, 64, 67, 0.15);\n",
              "      fill: #174EA6;\n",
              "    }\n",
              "\n",
              "    [theme=dark] .colab-df-convert {\n",
              "      background-color: #3B4455;\n",
              "      fill: #D2E3FC;\n",
              "    }\n",
              "\n",
              "    [theme=dark] .colab-df-convert:hover {\n",
              "      background-color: #434B5C;\n",
              "      box-shadow: 0px 1px 3px 1px rgba(0, 0, 0, 0.15);\n",
              "      filter: drop-shadow(0px 1px 2px rgba(0, 0, 0, 0.3));\n",
              "      fill: #FFFFFF;\n",
              "    }\n",
              "  </style>\n",
              "\n",
              "      <script>\n",
              "        const buttonEl =\n",
              "          document.querySelector('#df-fdcb4b27-2d81-4b9e-82c7-d78414d6b5d1 button.colab-df-convert');\n",
              "        buttonEl.style.display =\n",
              "          google.colab.kernel.accessAllowed ? 'block' : 'none';\n",
              "\n",
              "        async function convertToInteractive(key) {\n",
              "          const element = document.querySelector('#df-fdcb4b27-2d81-4b9e-82c7-d78414d6b5d1');\n",
              "          const dataTable =\n",
              "            await google.colab.kernel.invokeFunction('convertToInteractive',\n",
              "                                                     [key], {});\n",
              "          if (!dataTable) return;\n",
              "\n",
              "          const docLinkHtml = 'Like what you see? Visit the ' +\n",
              "            '<a target=\"_blank\" href=https://colab.research.google.com/notebooks/data_table.ipynb>data table notebook</a>'\n",
              "            + ' to learn more about interactive tables.';\n",
              "          element.innerHTML = '';\n",
              "          dataTable['output_type'] = 'display_data';\n",
              "          await google.colab.output.renderOutput(dataTable, element);\n",
              "          const docLink = document.createElement('div');\n",
              "          docLink.innerHTML = docLinkHtml;\n",
              "          element.appendChild(docLink);\n",
              "        }\n",
              "      </script>\n",
              "    </div>\n",
              "  </div>\n",
              "  "
            ]
          },
          "metadata": {},
          "execution_count": 56
        }
      ],
      "source": [
        "vocab = list(pretrained_vectors.vocab.keys())\n",
        "\n",
        "X = pretrained_vectors[vocab]\n",
        "\n",
        "pca = PCA(n_components=2)\n",
        "X_pca = pca.fit_transform(X)\n",
        "\n",
        "df = pd.DataFrame(X_pca,index=vocab)"
      ]
    },
    {
      "cell_type": "markdown",
      "metadata": {
        "id": "at-MyZo-zA0u"
      },
      "source": [
        "Let's have a quick look at how the vectors have been transformed through dimensionality reduction:"
      ]
    },
    {
      "cell_type": "code",
      "execution_count": 57,
      "metadata": {
        "colab": {
          "base_uri": "https://localhost:8080/",
          "height": 359
        },
        "id": "t990erj1zA0u",
        "outputId": "6fb7607d-2001-4292-809a-8b386cc3dc8a"
      },
      "outputs": [
        {
          "output_type": "execute_result",
          "data": {
            "text/plain": [
              "            0         1\n",
              "the -0.078266 -0.690655\n",
              "of  -0.127775 -0.626273\n",
              "and -0.058691 -0.708553\n",
              "to   0.194071 -0.983273\n",
              "a    0.069331 -0.720737\n",
              "in  -0.186149 -0.609095\n",
              "for  0.379911 -0.521481\n",
              "is   0.238919 -0.736384\n",
              "on   0.200467 -0.768985\n",
              "i    0.612298 -0.950543"
            ],
            "text/html": [
              "\n",
              "  <div id=\"df-a5c5d622-e638-4dc3-b5f1-9fd0ebb08b99\">\n",
              "    <div class=\"colab-df-container\">\n",
              "      <div>\n",
              "<style scoped>\n",
              "    .dataframe tbody tr th:only-of-type {\n",
              "        vertical-align: middle;\n",
              "    }\n",
              "\n",
              "    .dataframe tbody tr th {\n",
              "        vertical-align: top;\n",
              "    }\n",
              "\n",
              "    .dataframe thead th {\n",
              "        text-align: right;\n",
              "    }\n",
              "</style>\n",
              "<table border=\"1\" class=\"dataframe\">\n",
              "  <thead>\n",
              "    <tr style=\"text-align: right;\">\n",
              "      <th></th>\n",
              "      <th>0</th>\n",
              "      <th>1</th>\n",
              "    </tr>\n",
              "  </thead>\n",
              "  <tbody>\n",
              "    <tr>\n",
              "      <th>the</th>\n",
              "      <td>-0.078266</td>\n",
              "      <td>-0.690655</td>\n",
              "    </tr>\n",
              "    <tr>\n",
              "      <th>of</th>\n",
              "      <td>-0.127775</td>\n",
              "      <td>-0.626273</td>\n",
              "    </tr>\n",
              "    <tr>\n",
              "      <th>and</th>\n",
              "      <td>-0.058691</td>\n",
              "      <td>-0.708553</td>\n",
              "    </tr>\n",
              "    <tr>\n",
              "      <th>to</th>\n",
              "      <td>0.194071</td>\n",
              "      <td>-0.983273</td>\n",
              "    </tr>\n",
              "    <tr>\n",
              "      <th>a</th>\n",
              "      <td>0.069331</td>\n",
              "      <td>-0.720737</td>\n",
              "    </tr>\n",
              "    <tr>\n",
              "      <th>in</th>\n",
              "      <td>-0.186149</td>\n",
              "      <td>-0.609095</td>\n",
              "    </tr>\n",
              "    <tr>\n",
              "      <th>for</th>\n",
              "      <td>0.379911</td>\n",
              "      <td>-0.521481</td>\n",
              "    </tr>\n",
              "    <tr>\n",
              "      <th>is</th>\n",
              "      <td>0.238919</td>\n",
              "      <td>-0.736384</td>\n",
              "    </tr>\n",
              "    <tr>\n",
              "      <th>on</th>\n",
              "      <td>0.200467</td>\n",
              "      <td>-0.768985</td>\n",
              "    </tr>\n",
              "    <tr>\n",
              "      <th>i</th>\n",
              "      <td>0.612298</td>\n",
              "      <td>-0.950543</td>\n",
              "    </tr>\n",
              "  </tbody>\n",
              "</table>\n",
              "</div>\n",
              "      <button class=\"colab-df-convert\" onclick=\"convertToInteractive('df-a5c5d622-e638-4dc3-b5f1-9fd0ebb08b99')\"\n",
              "              title=\"Convert this dataframe to an interactive table.\"\n",
              "              style=\"display:none;\">\n",
              "        \n",
              "  <svg xmlns=\"http://www.w3.org/2000/svg\" height=\"24px\"viewBox=\"0 0 24 24\"\n",
              "       width=\"24px\">\n",
              "    <path d=\"M0 0h24v24H0V0z\" fill=\"none\"/>\n",
              "    <path d=\"M18.56 5.44l.94 2.06.94-2.06 2.06-.94-2.06-.94-.94-2.06-.94 2.06-2.06.94zm-11 1L8.5 8.5l.94-2.06 2.06-.94-2.06-.94L8.5 2.5l-.94 2.06-2.06.94zm10 10l.94 2.06.94-2.06 2.06-.94-2.06-.94-.94-2.06-.94 2.06-2.06.94z\"/><path d=\"M17.41 7.96l-1.37-1.37c-.4-.4-.92-.59-1.43-.59-.52 0-1.04.2-1.43.59L10.3 9.45l-7.72 7.72c-.78.78-.78 2.05 0 2.83L4 21.41c.39.39.9.59 1.41.59.51 0 1.02-.2 1.41-.59l7.78-7.78 2.81-2.81c.8-.78.8-2.07 0-2.86zM5.41 20L4 18.59l7.72-7.72 1.47 1.35L5.41 20z\"/>\n",
              "  </svg>\n",
              "      </button>\n",
              "      \n",
              "  <style>\n",
              "    .colab-df-container {\n",
              "      display:flex;\n",
              "      flex-wrap:wrap;\n",
              "      gap: 12px;\n",
              "    }\n",
              "\n",
              "    .colab-df-convert {\n",
              "      background-color: #E8F0FE;\n",
              "      border: none;\n",
              "      border-radius: 50%;\n",
              "      cursor: pointer;\n",
              "      display: none;\n",
              "      fill: #1967D2;\n",
              "      height: 32px;\n",
              "      padding: 0 0 0 0;\n",
              "      width: 32px;\n",
              "    }\n",
              "\n",
              "    .colab-df-convert:hover {\n",
              "      background-color: #E2EBFA;\n",
              "      box-shadow: 0px 1px 2px rgba(60, 64, 67, 0.3), 0px 1px 3px 1px rgba(60, 64, 67, 0.15);\n",
              "      fill: #174EA6;\n",
              "    }\n",
              "\n",
              "    [theme=dark] .colab-df-convert {\n",
              "      background-color: #3B4455;\n",
              "      fill: #D2E3FC;\n",
              "    }\n",
              "\n",
              "    [theme=dark] .colab-df-convert:hover {\n",
              "      background-color: #434B5C;\n",
              "      box-shadow: 0px 1px 3px 1px rgba(0, 0, 0, 0.15);\n",
              "      filter: drop-shadow(0px 1px 2px rgba(0, 0, 0, 0.3));\n",
              "      fill: #FFFFFF;\n",
              "    }\n",
              "  </style>\n",
              "\n",
              "      <script>\n",
              "        const buttonEl =\n",
              "          document.querySelector('#df-a5c5d622-e638-4dc3-b5f1-9fd0ebb08b99 button.colab-df-convert');\n",
              "        buttonEl.style.display =\n",
              "          google.colab.kernel.accessAllowed ? 'block' : 'none';\n",
              "\n",
              "        async function convertToInteractive(key) {\n",
              "          const element = document.querySelector('#df-a5c5d622-e638-4dc3-b5f1-9fd0ebb08b99');\n",
              "          const dataTable =\n",
              "            await google.colab.kernel.invokeFunction('convertToInteractive',\n",
              "                                                     [key], {});\n",
              "          if (!dataTable) return;\n",
              "\n",
              "          const docLinkHtml = 'Like what you see? Visit the ' +\n",
              "            '<a target=\"_blank\" href=https://colab.research.google.com/notebooks/data_table.ipynb>data table notebook</a>'\n",
              "            + ' to learn more about interactive tables.';\n",
              "          element.innerHTML = '';\n",
              "          dataTable['output_type'] = 'display_data';\n",
              "          await google.colab.output.renderOutput(dataTable, element);\n",
              "          const docLink = document.createElement('div');\n",
              "          docLink.innerHTML = docLinkHtml;\n",
              "          element.appendChild(docLink);\n",
              "        }\n",
              "      </script>\n",
              "    </div>\n",
              "  </div>\n",
              "  "
            ]
          },
          "metadata": {},
          "execution_count": 57
        }
      ],
      "source": [
        "df.head(10)"
      ]
    },
    {
      "cell_type": "markdown",
      "metadata": {
        "id": "UIDW0xbPzA0v"
      },
      "source": [
        "As you can see there are only 2 dimensions ('columns'). Just compare the number of dimensions of the vectors before this transformation:"
      ]
    },
    {
      "cell_type": "code",
      "execution_count": 58,
      "metadata": {
        "colab": {
          "base_uri": "https://localhost:8080/"
        },
        "id": "rDpfaqYXzA0v",
        "outputId": "62e2c0af-5b97-4065-a4a8-c996465c2579"
      },
      "outputs": [
        {
          "output_type": "execute_result",
          "data": {
            "text/plain": [
              "array([-0.145301, -0.150899,  0.389752,  0.019979,  0.209313, -0.059876,\n",
              "       -0.037605, -0.191378, -0.492421,  0.094606,  0.471501,  0.171619,\n",
              "       -0.091895, -0.188857, -0.187415,  0.10255 ,  0.521365,  0.492694,\n",
              "        0.01464 ,  0.324407,  0.132155,  0.392447,  0.177873, -0.233233,\n",
              "       -0.194923, -0.393363,  0.018775,  0.244165, -0.285453, -0.175422,\n",
              "       -0.149823, -0.130606, -0.21695 ,  0.308142, -0.192615,  0.21236 ,\n",
              "        0.090488, -0.229107,  0.118502,  0.217839, -0.379018, -0.042318,\n",
              "       -0.315532, -0.186368, -0.028538,  0.253762,  0.487518, -0.055428,\n",
              "       -0.239519, -0.209573,  0.140636, -0.090901, -0.384449,  0.447566,\n",
              "       -0.184971,  0.261921,  0.440821,  0.062585,  0.181714, -0.252114,\n",
              "        0.122724,  0.01531 , -0.143186, -0.209463, -0.174111,  0.143348,\n",
              "        0.295857, -0.156869,  0.169965,  0.038492, -0.122283,  0.095772,\n",
              "        0.314591,  0.047793, -0.162416, -0.008667, -0.258904,  0.129512,\n",
              "       -0.086891, -0.131997, -0.256616, -0.071309,  0.175144,  0.06049 ,\n",
              "        0.043357,  0.224987,  0.263239,  0.236568,  0.26406 ,  0.10912 ,\n",
              "        0.076898,  0.172123, -0.248498,  0.042334,  0.053334,  0.04821 ,\n",
              "        0.239207, -0.083211,  0.214255, -0.118595], dtype=float32)"
            ]
          },
          "metadata": {},
          "execution_count": 58
        }
      ],
      "source": [
        "pretrained_vectors['the']"
      ]
    },
    {
      "cell_type": "markdown",
      "metadata": {
        "id": "Np_F1csRzA0v"
      },
      "source": [
        "Now we are going to use the two dimensions of our new `df` as coordinates to visualize the vectors in a scatter plot. The words we will look at were chosen because linguistically gender-neutral, but which we can expect to show bias as gendered terms regardless. We have included mainly adjectives describing the physical build of a person, terms describing generic political leaning, and occupations, plus `women` and `men` as our points to observe whether there is bias among the terms."
      ]
    },
    {
      "cell_type": "markdown",
      "metadata": {
        "id": "4prbMBlpzA0v"
      },
      "source": [
        "Load the terms in a list:"
      ]
    },
    {
      "cell_type": "code",
      "execution_count": 59,
      "metadata": {
        "id": "lDkUF-A2zA0v"
      },
      "outputs": [],
      "source": [
        "gender_words = ['anarchic','angry','assault','assertive','baby','barista',\n",
        "           'bartender','beautiful','bold','carer','children','clothes',\n",
        "           'condescending','conservative','criminal','curvy','cute',\n",
        "           'doctor','dress','fashionable','fat','fight','genius','gorgeous',\n",
        "           'grumpy','handsome','heroic','homophobic','housecleaner','housework',\n",
        "           'incompetent','leftwing','liar','liberal','lovely','men','midwife',\n",
        "           'needy','nurse','openminded','overweight','pretty','racist',\n",
        "           'rape','reactionary','revolutionary','rightwing','sassy','shallow',\n",
        "           'slim','strong','sweet','thin','transphobic','underweight',\n",
        "           'violent','weak','women']"
      ]
    },
    {
      "cell_type": "markdown",
      "metadata": {
        "id": "UGc2OR6GzA0v"
      },
      "source": [
        "Let's plot the terms!"
      ]
    },
    {
      "cell_type": "code",
      "execution_count": 60,
      "metadata": {
        "colab": {
          "base_uri": "https://localhost:8080/",
          "height": 778
        },
        "id": "14A-w7aPzA0v",
        "outputId": "d3a5af0b-f992-4f6a-c71e-eb95fd46a017"
      },
      "outputs": [
        {
          "output_type": "display_data",
          "data": {
            "text/plain": [
              "<Figure size 1600x1200 with 1 Axes>"
            ],
            "image/png": "[encoded data removed]"
          },
          "metadata": {
            "needs_background": "light"
          }
        }
      ],
      "source": [
        "df2 = df.loc[gender_words] # subset of df only containing the terms in our gender_words list as keys/index\n",
        "\n",
        "# our two dimensions to be used as coordinates\n",
        "x = df2[0] \n",
        "y = df2[1]\n",
        "\n",
        "# just some size adjustment...\n",
        "fig = plt.figure(figsize = (20, 15),dpi=80)\n",
        "\n",
        "# plot x and y\n",
        "plt.scatter(x,y)\n",
        "\n",
        "# add labels to the dots so we know what each of them refers to\n",
        "for i, txt in enumerate(gender_words):\n",
        "    plt.annotate(txt, (x[i], y[i]))\n",
        "\n",
        "# add a grid to help understand distances a bit better\n",
        "plt.grid()\n",
        "\n",
        "# plot a diagonal red line (this was added after having interepreted the plot already, for ease of visualization)\n",
        "# it can be skipped, of course\n",
        "plt.plot([-0.6,1], [-0.4, -1.4], 'red', linewidth=1)\n",
        "\n",
        "#show the plot\n",
        "plt.show()"
      ]
    }
  ],
  "metadata": {
    "kernelspec": {
      "display_name": "Python 3.10.3 64-bit ('3.10.3')",
      "language": "python",
      "name": "python3"
    },
    "language_info": {
      "codemirror_mode": {
        "name": "ipython",
        "version": 3
      },
      "file_extension": ".py",
      "mimetype": "text/x-python",
      "name": "python",
      "nbconvert_exporter": "python",
      "pygments_lexer": "ipython3",
      "version": "3.10.3"
    },
    "orig_nbformat": 4,
    "vscode": {
      "interpreter": {
        "hash": "54ed4be044bdbfddf339b8bedcd1bd34fa47dd0b44ee203d7e74423349b7c92b"
      }
    },
    "colab": {
      "name": "word2vec_dhoxss.ipynb",
      "provenance": [],
      "collapsed_sections": [
        "lE0rSC2VzA0r",
        "HEFmGiSTzA0t"
      ]
    }
  },
  "nbformat": 4,
  "nbformat_minor": 0
}